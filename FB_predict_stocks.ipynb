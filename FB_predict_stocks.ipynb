{
 "cells": [
  {
   "cell_type": "code",
   "execution_count": null,
   "metadata": {
    "colab": {
     "base_uri": "https://localhost:8080/"
    },
    "id": "koG59PBWyg3Y",
    "outputId": "aafe4aba-6a64-49f3-b320-852803067927"
   },
   "outputs": [
    {
     "name": "stdout",
     "output_type": "stream",
     "text": [
      "Mounted at /content/drive\n"
     ]
    }
   ],
   "source": [
    "from google.colab import drive\n",
    "drive.mount('/content/drive')"
   ]
  },
  {
   "cell_type": "code",
   "execution_count": null,
   "metadata": {
    "colab": {
     "base_uri": "https://localhost:8080/"
    },
    "id": "H4hbgmqI6sUF",
    "outputId": "a18984c2-87d8-40d1-b375-2b7c4db7681d"
   },
   "outputs": [
    {
     "name": "stdout",
     "output_type": "stream",
     "text": [
      "WARNING:tensorflow:From <ipython-input-2-cef63d6acc25>:2: experimental_run_functions_eagerly (from tensorflow.python.eager.def_function) is deprecated and will be removed in a future version.\n",
      "Instructions for updating:\n",
      "Use `tf.config.run_functions_eagerly` instead of the experimental version.\n"
     ]
    }
   ],
   "source": [
    "import tensorflow as tf\n",
    "tf.config.experimental_run_functions_eagerly(True)"
   ]
  },
  {
   "cell_type": "markdown",
   "metadata": {
    "id": "xdkVugMTxovI"
   },
   "source": [
    "# 1. Data Preparation"
   ]
  },
  {
   "cell_type": "code",
   "execution_count": null,
   "metadata": {
    "colab": {
     "base_uri": "https://localhost:8080/"
    },
    "id": "FaF9s5jxxovI",
    "outputId": "1840b071-7db8-479b-de13-0010372ddca6"
   },
   "outputs": [
    {
     "name": "stdout",
     "output_type": "stream",
     "text": [
      "[nltk_data] Downloading package universal_tagset to /root/nltk_data...\n",
      "[nltk_data]   Unzipping taggers/universal_tagset.zip.\n",
      "[nltk_data] Downloading package punkt to /root/nltk_data...\n",
      "[nltk_data]   Unzipping tokenizers/punkt.zip.\n"
     ]
    }
   ],
   "source": [
    "import pandas as pd\n",
    "import numpy as np\n",
    "import re\n",
    "from tqdm import tqdm\n",
    "from pprint import pprint\n",
    "import regex\n",
    "import spacy\n",
    "import nltk\n",
    "from nltk.corpus import stopwords\n",
    "import matplotlib.pyplot as plt\n",
    "from sklearn.feature_extraction.text import TfidfVectorizer\n",
    "import random\n",
    "from tensorflow import keras\n",
    "from tensorflow.keras import layers\n",
    "from keras.models import Sequential, Model\n",
    "from keras.callbacks import EarlyStopping\n",
    "from keras.layers.convolutional import Conv1D, MaxPooling1D\n",
    "from keras.layers import Activation, Input, Dense, Dropout, BatchNormalization, \\\n",
    "LSTM, GRU, Bidirectional, Flatten, concatenate, Embedding, Reshape, GlobalAveragePooling1D, \\\n",
    "Attention, BatchNormalization\n",
    "from keras.callbacks import EarlyStopping\n",
    "from keras import optimizers, regularizers\n",
    "from sklearn.metrics import plot_roc_curve, roc_curve, \\\n",
    "auc, precision_score, recall_score, confusion_matrix, \\\n",
    "classification_report, accuracy_score, f1_score, mean_squared_error\n",
    "from sklearn.preprocessing import MinMaxScaler\n",
    "from datetime import datetime\n",
    "from datetime import timedelta\n",
    "\n",
    "nltk.download('universal_tagset')\n",
    "nltk.download('punkt')\n",
    "random.seed(1)"
   ]
  },
  {
   "cell_type": "code",
   "execution_count": null,
   "metadata": {
    "colab": {
     "base_uri": "https://localhost:8080/"
    },
    "id": "niHSED8UxovK",
    "outputId": "284c4083-cce6-4b1e-fa55-5d4d02cdfffe",
    "scrolled": false
   },
   "outputs": [
    {
     "data": {
      "text/plain": [
       "(5681, 5)"
      ]
     },
     "execution_count": 4,
     "metadata": {
      "tags": []
     },
     "output_type": "execute_result"
    }
   ],
   "source": [
    "df = pd.read_csv('/content/drive/MyDrive/stock_prediction/data/All_News.csv')\n",
    "df.drop(columns=[df.columns[0],df.columns[5]], axis=1, inplace=True)\n",
    "df.shape"
   ]
  },
  {
   "cell_type": "code",
   "execution_count": null,
   "metadata": {
    "colab": {
     "base_uri": "https://localhost:8080/"
    },
    "id": "meZO1Sfs-Xmi",
    "outputId": "c286b465-b1ca-4842-9551-6cc9e7e759d6"
   },
   "outputs": [
    {
     "data": {
      "text/plain": [
       "(18, 5)"
      ]
     },
     "execution_count": 5,
     "metadata": {
      "tags": []
     },
     "output_type": "execute_result"
    }
   ],
   "source": [
    "df1 = pd.read_csv('/content/drive/MyDrive/stock_prediction/data/All_News_update.csv')\n",
    "df1.drop(columns=[df1.columns[0],df1.columns[5]], axis=1, inplace=True)\n",
    "df1.shape"
   ]
  },
  {
   "cell_type": "code",
   "execution_count": null,
   "metadata": {
    "colab": {
     "base_uri": "https://localhost:8080/"
    },
    "id": "naYlq2yf-tgZ",
    "outputId": "b944937f-0222-4cdb-a6c7-c33aa97460c6"
   },
   "outputs": [
    {
     "data": {
      "text/plain": [
       "(5699, 5)"
      ]
     },
     "execution_count": 6,
     "metadata": {
      "tags": []
     },
     "output_type": "execute_result"
    }
   ],
   "source": [
    "df = df.append(df1)\n",
    "df.shape"
   ]
  },
  {
   "cell_type": "markdown",
   "metadata": {
    "id": "iUq48mqi_zAt"
   },
   "source": [
    "## Filter Company"
   ]
  },
  {
   "cell_type": "code",
   "execution_count": null,
   "metadata": {
    "colab": {
     "base_uri": "https://localhost:8080/"
    },
    "id": "s5Tf3xdR_uBP",
    "outputId": "83f77676-c248-44ac-cc99-1d58abdc7536"
   },
   "outputs": [
    {
     "data": {
      "text/plain": [
       "(1585, 5)"
      ]
     },
     "execution_count": 7,
     "metadata": {
      "tags": []
     },
     "output_type": "execute_result"
    }
   ],
   "source": [
    "df = df[df['company_name'] == 'Facebook']\n",
    "df.shape"
   ]
  },
  {
   "cell_type": "markdown",
   "metadata": {
    "id": "1Hv1Feil_DqV"
   },
   "source": [
    "## Remove Duplicates"
   ]
  },
  {
   "cell_type": "code",
   "execution_count": null,
   "metadata": {
    "colab": {
     "base_uri": "https://localhost:8080/"
    },
    "id": "iOlqj1tw_F1o",
    "outputId": "778391fa-7c86-445c-ab4b-d0f5828bd5ef"
   },
   "outputs": [
    {
     "name": "stdout",
     "output_type": "stream",
     "text": [
      "# duplicates:  1\n"
     ]
    }
   ],
   "source": [
    "#remove duplicates\n",
    "nb_rows = df.shape[0]\n",
    "df.drop_duplicates(inplace=True)\n",
    "print('# duplicates: ', nb_rows - df.shape[0])"
   ]
  },
  {
   "cell_type": "markdown",
   "metadata": {
    "id": "JXPaI4M3_MYR"
   },
   "source": [
    "## Missing Value"
   ]
  },
  {
   "cell_type": "code",
   "execution_count": null,
   "metadata": {
    "colab": {
     "base_uri": "https://localhost:8080/",
     "height": 206
    },
    "id": "F-oXJZUM_N_2",
    "outputId": "8fc0153e-16e3-47ed-bf03-2e0fc28325f1"
   },
   "outputs": [
    {
     "data": {
      "text/html": [
       "<div>\n",
       "<style scoped>\n",
       "    .dataframe tbody tr th:only-of-type {\n",
       "        vertical-align: middle;\n",
       "    }\n",
       "\n",
       "    .dataframe tbody tr th {\n",
       "        vertical-align: top;\n",
       "    }\n",
       "\n",
       "    .dataframe thead th {\n",
       "        text-align: right;\n",
       "    }\n",
       "</style>\n",
       "<table border=\"1\" class=\"dataframe\">\n",
       "  <thead>\n",
       "    <tr style=\"text-align: right;\">\n",
       "      <th></th>\n",
       "      <th>0</th>\n",
       "      <th>1</th>\n",
       "    </tr>\n",
       "  </thead>\n",
       "  <tbody>\n",
       "    <tr>\n",
       "      <th>Date</th>\n",
       "      <td># Empty entries:</td>\n",
       "      <td>0</td>\n",
       "    </tr>\n",
       "    <tr>\n",
       "      <th>Title</th>\n",
       "      <td># Empty entries:</td>\n",
       "      <td>0</td>\n",
       "    </tr>\n",
       "    <tr>\n",
       "      <th>Url</th>\n",
       "      <td># Empty entries:</td>\n",
       "      <td>0</td>\n",
       "    </tr>\n",
       "    <tr>\n",
       "      <th>Body</th>\n",
       "      <td># Empty entries:</td>\n",
       "      <td>6</td>\n",
       "    </tr>\n",
       "    <tr>\n",
       "      <th>company_name</th>\n",
       "      <td># Empty entries:</td>\n",
       "      <td>0</td>\n",
       "    </tr>\n",
       "  </tbody>\n",
       "</table>\n",
       "</div>"
      ],
      "text/plain": [
       "                             0  1\n",
       "Date          # Empty entries:  0\n",
       "Title         # Empty entries:  0\n",
       "Url           # Empty entries:  0\n",
       "Body          # Empty entries:  6\n",
       "company_name  # Empty entries:  0"
      ]
     },
     "execution_count": 9,
     "metadata": {
      "tags": []
     },
     "output_type": "execute_result"
    }
   ],
   "source": [
    "#check null\n",
    "def check_missing_values(row):\n",
    "    \"\"\" functions that check and verifies if there are missing values in dataframe \"\"\"\n",
    "    counter = 0\n",
    "    for element in row:\n",
    "        if element == True:\n",
    "            counter+=1\n",
    "    return (\"# Empty entries:\", counter)\n",
    "\n",
    "df.isnull().apply(lambda x: check_missing_values(x)).transpose()"
   ]
  },
  {
   "cell_type": "markdown",
   "metadata": {
    "id": "yfpU3PhU_U88"
   },
   "source": [
    "## Adjust Published Date"
   ]
  },
  {
   "cell_type": "code",
   "execution_count": null,
   "metadata": {
    "colab": {
     "base_uri": "https://localhost:8080/",
     "height": 293
    },
    "id": "vEz46PPwxovL",
    "outputId": "b52be1b2-5697-4b7b-fc0a-ba3b16b573ae"
   },
   "outputs": [
    {
     "data": {
      "text/html": [
       "<div>\n",
       "<style scoped>\n",
       "    .dataframe tbody tr th:only-of-type {\n",
       "        vertical-align: middle;\n",
       "    }\n",
       "\n",
       "    .dataframe tbody tr th {\n",
       "        vertical-align: top;\n",
       "    }\n",
       "\n",
       "    .dataframe thead th {\n",
       "        text-align: right;\n",
       "    }\n",
       "</style>\n",
       "<table border=\"1\" class=\"dataframe\">\n",
       "  <thead>\n",
       "    <tr style=\"text-align: right;\">\n",
       "      <th></th>\n",
       "      <th>Date</th>\n",
       "      <th>Title</th>\n",
       "      <th>Url</th>\n",
       "      <th>Body</th>\n",
       "      <th>company_name</th>\n",
       "    </tr>\n",
       "  </thead>\n",
       "  <tbody>\n",
       "    <tr>\n",
       "      <th>4100</th>\n",
       "      <td>2021-05-21</td>\n",
       "      <td>Facebook removes 110,000 pieces of Covid misin...</td>\n",
       "      <td>https://www.theguardian.com/technology/2021/ma...</td>\n",
       "      <td>&lt;p&gt;Facebook has removed more than 110,000 piec...</td>\n",
       "      <td>Facebook</td>\n",
       "    </tr>\n",
       "    <tr>\n",
       "      <th>4101</th>\n",
       "      <td>2021-05-14</td>\n",
       "      <td>WhatsApp to force users to accept changes to t...</td>\n",
       "      <td>https://www.theguardian.com/technology/2021/ma...</td>\n",
       "      <td>&lt;p&gt;On Saturday, WhatsApp will finally begin to...</td>\n",
       "      <td>Facebook</td>\n",
       "    </tr>\n",
       "    <tr>\n",
       "      <th>4102</th>\n",
       "      <td>2021-05-12</td>\n",
       "      <td>Instagram offers users a dedicated profile sec...</td>\n",
       "      <td>https://www.theguardian.com/technology/2021/ma...</td>\n",
       "      <td>&lt;p&gt;Instagram users will now be able to more ea...</td>\n",
       "      <td>Facebook</td>\n",
       "    </tr>\n",
       "    <tr>\n",
       "      <th>4103</th>\n",
       "      <td>2021-05-05</td>\n",
       "      <td>Facebook ruling on Trump renews criticism of ...</td>\n",
       "      <td>https://www.theguardian.com/technology/2021/ma...</td>\n",
       "      <td>&lt;p&gt;Facebook’s oversight board on Wednesday &lt;a ...</td>\n",
       "      <td>Facebook</td>\n",
       "    </tr>\n",
       "    <tr>\n",
       "      <th>4104</th>\n",
       "      <td>2021-05-05</td>\n",
       "      <td>Facebook ruling on Donald Trump ban: five key ...</td>\n",
       "      <td>https://www.theguardian.com/technology/2021/ma...</td>\n",
       "      <td>&lt;p&gt;The US supreme court is defined by Marbury ...</td>\n",
       "      <td>Facebook</td>\n",
       "    </tr>\n",
       "  </tbody>\n",
       "</table>\n",
       "</div>"
      ],
      "text/plain": [
       "            Date  ... company_name\n",
       "4100  2021-05-21  ...     Facebook\n",
       "4101  2021-05-14  ...     Facebook\n",
       "4102  2021-05-12  ...     Facebook\n",
       "4103  2021-05-05  ...     Facebook\n",
       "4104  2021-05-05  ...     Facebook\n",
       "\n",
       "[5 rows x 5 columns]"
      ]
     },
     "execution_count": 10,
     "metadata": {
      "tags": []
     },
     "output_type": "execute_result"
    }
   ],
   "source": [
    "df['Date'] = pd.to_datetime(df['Date'], format='%Y-%m-%d').dt.date\n",
    "df.head()"
   ]
  },
  {
   "cell_type": "code",
   "execution_count": null,
   "metadata": {
    "colab": {
     "base_uri": "https://localhost:8080/",
     "height": 597
    },
    "id": "M5ybzhFPxovL",
    "outputId": "ab716978-e48b-4497-8cc7-ce02f957c20e"
   },
   "outputs": [
    {
     "data": {
      "text/html": [
       "<div>\n",
       "<style scoped>\n",
       "    .dataframe tbody tr th:only-of-type {\n",
       "        vertical-align: middle;\n",
       "    }\n",
       "\n",
       "    .dataframe tbody tr th {\n",
       "        vertical-align: top;\n",
       "    }\n",
       "\n",
       "    .dataframe thead th {\n",
       "        text-align: right;\n",
       "    }\n",
       "</style>\n",
       "<table border=\"1\" class=\"dataframe\">\n",
       "  <thead>\n",
       "    <tr style=\"text-align: right;\">\n",
       "      <th></th>\n",
       "      <th>Date</th>\n",
       "      <th>Title</th>\n",
       "      <th>Url</th>\n",
       "      <th>Body</th>\n",
       "      <th>company_name</th>\n",
       "      <th>wday</th>\n",
       "    </tr>\n",
       "  </thead>\n",
       "  <tbody>\n",
       "    <tr>\n",
       "      <th>4100</th>\n",
       "      <td>2021-05-21</td>\n",
       "      <td>Facebook removes 110,000 pieces of Covid misin...</td>\n",
       "      <td>https://www.theguardian.com/technology/2021/ma...</td>\n",
       "      <td>&lt;p&gt;Facebook has removed more than 110,000 piec...</td>\n",
       "      <td>Facebook</td>\n",
       "      <td>4</td>\n",
       "    </tr>\n",
       "    <tr>\n",
       "      <th>4101</th>\n",
       "      <td>2021-05-14</td>\n",
       "      <td>WhatsApp to force users to accept changes to t...</td>\n",
       "      <td>https://www.theguardian.com/technology/2021/ma...</td>\n",
       "      <td>&lt;p&gt;On Saturday, WhatsApp will finally begin to...</td>\n",
       "      <td>Facebook</td>\n",
       "      <td>4</td>\n",
       "    </tr>\n",
       "    <tr>\n",
       "      <th>4102</th>\n",
       "      <td>2021-05-12</td>\n",
       "      <td>Instagram offers users a dedicated profile sec...</td>\n",
       "      <td>https://www.theguardian.com/technology/2021/ma...</td>\n",
       "      <td>&lt;p&gt;Instagram users will now be able to more ea...</td>\n",
       "      <td>Facebook</td>\n",
       "      <td>2</td>\n",
       "    </tr>\n",
       "    <tr>\n",
       "      <th>4103</th>\n",
       "      <td>2021-05-05</td>\n",
       "      <td>Facebook ruling on Trump renews criticism of ...</td>\n",
       "      <td>https://www.theguardian.com/technology/2021/ma...</td>\n",
       "      <td>&lt;p&gt;Facebook’s oversight board on Wednesday &lt;a ...</td>\n",
       "      <td>Facebook</td>\n",
       "      <td>2</td>\n",
       "    </tr>\n",
       "    <tr>\n",
       "      <th>4104</th>\n",
       "      <td>2021-05-05</td>\n",
       "      <td>Facebook ruling on Donald Trump ban: five key ...</td>\n",
       "      <td>https://www.theguardian.com/technology/2021/ma...</td>\n",
       "      <td>&lt;p&gt;The US supreme court is defined by Marbury ...</td>\n",
       "      <td>Facebook</td>\n",
       "      <td>2</td>\n",
       "    </tr>\n",
       "    <tr>\n",
       "      <th>...</th>\n",
       "      <td>...</td>\n",
       "      <td>...</td>\n",
       "      <td>...</td>\n",
       "      <td>...</td>\n",
       "      <td>...</td>\n",
       "      <td>...</td>\n",
       "    </tr>\n",
       "    <tr>\n",
       "      <th>5680</th>\n",
       "      <td>2012-05-18</td>\n",
       "      <td>Facebook share price set at $38</td>\n",
       "      <td>https://www.theguardian.com/technology/2012/ma...</td>\n",
       "      <td>&lt;video data-media-id=\"gu-video-390343289\" clas...</td>\n",
       "      <td>Facebook</td>\n",
       "      <td>4</td>\n",
       "    </tr>\n",
       "    <tr>\n",
       "      <th>14</th>\n",
       "      <td>2021-06-11</td>\n",
       "      <td>Revealed: rightwing firm posed as leftist grou...</td>\n",
       "      <td>https://www.theguardian.com/technology/2021/ju...</td>\n",
       "      <td>&lt;p&gt;A digital marketing firm closely linked to ...</td>\n",
       "      <td>Facebook</td>\n",
       "      <td>4</td>\n",
       "    </tr>\n",
       "    <tr>\n",
       "      <th>15</th>\n",
       "      <td>2021-06-04</td>\n",
       "      <td>UK and EU investigate Facebook over unfair use...</td>\n",
       "      <td>https://www.theguardian.com/technology/2021/ju...</td>\n",
       "      <td>&lt;p&gt;UK and EU regulators are investigating Face...</td>\n",
       "      <td>Facebook</td>\n",
       "      <td>4</td>\n",
       "    </tr>\n",
       "    <tr>\n",
       "      <th>16</th>\n",
       "      <td>2021-05-27</td>\n",
       "      <td>Facebook accused of ‘discriminatory and racist...</td>\n",
       "      <td>https://www.theguardian.com/technology/2021/ma...</td>\n",
       "      <td>&lt;p&gt;Facebook has been accused of “discriminator...</td>\n",
       "      <td>Facebook</td>\n",
       "      <td>3</td>\n",
       "    </tr>\n",
       "    <tr>\n",
       "      <th>17</th>\n",
       "      <td>2021-05-27</td>\n",
       "      <td>Facebook lifts ban on posts claiming Covid-19 ...</td>\n",
       "      <td>https://www.theguardian.com/technology/2021/ma...</td>\n",
       "      <td>&lt;p&gt;Facebook has lifted a ban on posts claiming...</td>\n",
       "      <td>Facebook</td>\n",
       "      <td>3</td>\n",
       "    </tr>\n",
       "  </tbody>\n",
       "</table>\n",
       "<p>1584 rows × 6 columns</p>\n",
       "</div>"
      ],
      "text/plain": [
       "            Date  ... wday\n",
       "4100  2021-05-21  ...    4\n",
       "4101  2021-05-14  ...    4\n",
       "4102  2021-05-12  ...    2\n",
       "4103  2021-05-05  ...    2\n",
       "4104  2021-05-05  ...    2\n",
       "...          ...  ...  ...\n",
       "5680  2012-05-18  ...    4\n",
       "14    2021-06-11  ...    4\n",
       "15    2021-06-04  ...    4\n",
       "16    2021-05-27  ...    3\n",
       "17    2021-05-27  ...    3\n",
       "\n",
       "[1584 rows x 6 columns]"
      ]
     },
     "execution_count": 11,
     "metadata": {
      "tags": []
     },
     "output_type": "execute_result"
    }
   ],
   "source": [
    "df['wday'] = pd.to_datetime(df['Date'], format='%Y-%m-%d').dt.dayofweek\n",
    "df"
   ]
  },
  {
   "cell_type": "code",
   "execution_count": null,
   "metadata": {
    "colab": {
     "base_uri": "https://localhost:8080/",
     "height": 300
    },
    "id": "V14-tPohxovM",
    "outputId": "4bba77b1-cb38-4af5-a68b-869eda13df66"
   },
   "outputs": [
    {
     "data": {
      "text/html": [
       "<div>\n",
       "<style scoped>\n",
       "    .dataframe tbody tr th:only-of-type {\n",
       "        vertical-align: middle;\n",
       "    }\n",
       "\n",
       "    .dataframe tbody tr th {\n",
       "        vertical-align: top;\n",
       "    }\n",
       "\n",
       "    .dataframe thead th {\n",
       "        text-align: right;\n",
       "    }\n",
       "</style>\n",
       "<table border=\"1\" class=\"dataframe\">\n",
       "  <thead>\n",
       "    <tr style=\"text-align: right;\">\n",
       "      <th></th>\n",
       "      <th>Date</th>\n",
       "      <th>Title</th>\n",
       "      <th>Url</th>\n",
       "      <th>Body</th>\n",
       "      <th>company_name</th>\n",
       "    </tr>\n",
       "    <tr>\n",
       "      <th>wday</th>\n",
       "      <th></th>\n",
       "      <th></th>\n",
       "      <th></th>\n",
       "      <th></th>\n",
       "      <th></th>\n",
       "    </tr>\n",
       "  </thead>\n",
       "  <tbody>\n",
       "    <tr>\n",
       "      <th>0</th>\n",
       "      <td>212</td>\n",
       "      <td>212</td>\n",
       "      <td>212</td>\n",
       "      <td>212</td>\n",
       "      <td>212</td>\n",
       "    </tr>\n",
       "    <tr>\n",
       "      <th>1</th>\n",
       "      <td>314</td>\n",
       "      <td>314</td>\n",
       "      <td>314</td>\n",
       "      <td>312</td>\n",
       "      <td>314</td>\n",
       "    </tr>\n",
       "    <tr>\n",
       "      <th>2</th>\n",
       "      <td>319</td>\n",
       "      <td>319</td>\n",
       "      <td>319</td>\n",
       "      <td>317</td>\n",
       "      <td>319</td>\n",
       "    </tr>\n",
       "    <tr>\n",
       "      <th>3</th>\n",
       "      <td>328</td>\n",
       "      <td>328</td>\n",
       "      <td>328</td>\n",
       "      <td>327</td>\n",
       "      <td>328</td>\n",
       "    </tr>\n",
       "    <tr>\n",
       "      <th>4</th>\n",
       "      <td>260</td>\n",
       "      <td>260</td>\n",
       "      <td>260</td>\n",
       "      <td>259</td>\n",
       "      <td>260</td>\n",
       "    </tr>\n",
       "    <tr>\n",
       "      <th>5</th>\n",
       "      <td>72</td>\n",
       "      <td>72</td>\n",
       "      <td>72</td>\n",
       "      <td>72</td>\n",
       "      <td>72</td>\n",
       "    </tr>\n",
       "    <tr>\n",
       "      <th>6</th>\n",
       "      <td>79</td>\n",
       "      <td>79</td>\n",
       "      <td>79</td>\n",
       "      <td>79</td>\n",
       "      <td>79</td>\n",
       "    </tr>\n",
       "  </tbody>\n",
       "</table>\n",
       "</div>"
      ],
      "text/plain": [
       "      Date  Title  Url  Body  company_name\n",
       "wday                                      \n",
       "0      212    212  212   212           212\n",
       "1      314    314  314   312           314\n",
       "2      319    319  319   317           319\n",
       "3      328    328  328   327           328\n",
       "4      260    260  260   259           260\n",
       "5       72     72   72    72            72\n",
       "6       79     79   79    79            79"
      ]
     },
     "execution_count": 12,
     "metadata": {
      "tags": []
     },
     "output_type": "execute_result"
    }
   ],
   "source": [
    "df.groupby('wday').count()"
   ]
  },
  {
   "cell_type": "code",
   "execution_count": null,
   "metadata": {
    "id": "phJSz04pxovM"
   },
   "outputs": [],
   "source": [
    "def adjusted_date(row):\n",
    "    if row['wday'] < 4 or row['wday'] == 6:\n",
    "        return row['Date'] + timedelta(days=1)\n",
    "    elif row['wday'] == 5:\n",
    "        return row['Date'] + timedelta(days=2)\n",
    "    else:\n",
    "        return row['Date'] + timedelta(days=3)"
   ]
  },
  {
   "cell_type": "code",
   "execution_count": null,
   "metadata": {
    "colab": {
     "base_uri": "https://localhost:8080/",
     "height": 788
    },
    "id": "S5YiF3m0xovM",
    "outputId": "34214014-2741-4bef-8c2c-f0795a0dd37c"
   },
   "outputs": [
    {
     "data": {
      "text/html": [
       "<div>\n",
       "<style scoped>\n",
       "    .dataframe tbody tr th:only-of-type {\n",
       "        vertical-align: middle;\n",
       "    }\n",
       "\n",
       "    .dataframe tbody tr th {\n",
       "        vertical-align: top;\n",
       "    }\n",
       "\n",
       "    .dataframe thead th {\n",
       "        text-align: right;\n",
       "    }\n",
       "</style>\n",
       "<table border=\"1\" class=\"dataframe\">\n",
       "  <thead>\n",
       "    <tr style=\"text-align: right;\">\n",
       "      <th></th>\n",
       "      <th>Date</th>\n",
       "      <th>Title</th>\n",
       "      <th>Url</th>\n",
       "      <th>Body</th>\n",
       "      <th>company_name</th>\n",
       "      <th>wday</th>\n",
       "      <th>adjusted_date</th>\n",
       "    </tr>\n",
       "  </thead>\n",
       "  <tbody>\n",
       "    <tr>\n",
       "      <th>4100</th>\n",
       "      <td>2021-05-21</td>\n",
       "      <td>Facebook removes 110,000 pieces of Covid misin...</td>\n",
       "      <td>https://www.theguardian.com/technology/2021/ma...</td>\n",
       "      <td>&lt;p&gt;Facebook has removed more than 110,000 piec...</td>\n",
       "      <td>Facebook</td>\n",
       "      <td>4</td>\n",
       "      <td>2021-05-24</td>\n",
       "    </tr>\n",
       "    <tr>\n",
       "      <th>4101</th>\n",
       "      <td>2021-05-14</td>\n",
       "      <td>WhatsApp to force users to accept changes to t...</td>\n",
       "      <td>https://www.theguardian.com/technology/2021/ma...</td>\n",
       "      <td>&lt;p&gt;On Saturday, WhatsApp will finally begin to...</td>\n",
       "      <td>Facebook</td>\n",
       "      <td>4</td>\n",
       "      <td>2021-05-17</td>\n",
       "    </tr>\n",
       "    <tr>\n",
       "      <th>4102</th>\n",
       "      <td>2021-05-12</td>\n",
       "      <td>Instagram offers users a dedicated profile sec...</td>\n",
       "      <td>https://www.theguardian.com/technology/2021/ma...</td>\n",
       "      <td>&lt;p&gt;Instagram users will now be able to more ea...</td>\n",
       "      <td>Facebook</td>\n",
       "      <td>2</td>\n",
       "      <td>2021-05-13</td>\n",
       "    </tr>\n",
       "    <tr>\n",
       "      <th>4103</th>\n",
       "      <td>2021-05-05</td>\n",
       "      <td>Facebook ruling on Trump renews criticism of ...</td>\n",
       "      <td>https://www.theguardian.com/technology/2021/ma...</td>\n",
       "      <td>&lt;p&gt;Facebook’s oversight board on Wednesday &lt;a ...</td>\n",
       "      <td>Facebook</td>\n",
       "      <td>2</td>\n",
       "      <td>2021-05-06</td>\n",
       "    </tr>\n",
       "    <tr>\n",
       "      <th>4104</th>\n",
       "      <td>2021-05-05</td>\n",
       "      <td>Facebook ruling on Donald Trump ban: five key ...</td>\n",
       "      <td>https://www.theguardian.com/technology/2021/ma...</td>\n",
       "      <td>&lt;p&gt;The US supreme court is defined by Marbury ...</td>\n",
       "      <td>Facebook</td>\n",
       "      <td>2</td>\n",
       "      <td>2021-05-06</td>\n",
       "    </tr>\n",
       "    <tr>\n",
       "      <th>...</th>\n",
       "      <td>...</td>\n",
       "      <td>...</td>\n",
       "      <td>...</td>\n",
       "      <td>...</td>\n",
       "      <td>...</td>\n",
       "      <td>...</td>\n",
       "      <td>...</td>\n",
       "    </tr>\n",
       "    <tr>\n",
       "      <th>5680</th>\n",
       "      <td>2012-05-18</td>\n",
       "      <td>Facebook share price set at $38</td>\n",
       "      <td>https://www.theguardian.com/technology/2012/ma...</td>\n",
       "      <td>&lt;video data-media-id=\"gu-video-390343289\" clas...</td>\n",
       "      <td>Facebook</td>\n",
       "      <td>4</td>\n",
       "      <td>2012-05-21</td>\n",
       "    </tr>\n",
       "    <tr>\n",
       "      <th>14</th>\n",
       "      <td>2021-06-11</td>\n",
       "      <td>Revealed: rightwing firm posed as leftist grou...</td>\n",
       "      <td>https://www.theguardian.com/technology/2021/ju...</td>\n",
       "      <td>&lt;p&gt;A digital marketing firm closely linked to ...</td>\n",
       "      <td>Facebook</td>\n",
       "      <td>4</td>\n",
       "      <td>2021-06-14</td>\n",
       "    </tr>\n",
       "    <tr>\n",
       "      <th>15</th>\n",
       "      <td>2021-06-04</td>\n",
       "      <td>UK and EU investigate Facebook over unfair use...</td>\n",
       "      <td>https://www.theguardian.com/technology/2021/ju...</td>\n",
       "      <td>&lt;p&gt;UK and EU regulators are investigating Face...</td>\n",
       "      <td>Facebook</td>\n",
       "      <td>4</td>\n",
       "      <td>2021-06-07</td>\n",
       "    </tr>\n",
       "    <tr>\n",
       "      <th>16</th>\n",
       "      <td>2021-05-27</td>\n",
       "      <td>Facebook accused of ‘discriminatory and racist...</td>\n",
       "      <td>https://www.theguardian.com/technology/2021/ma...</td>\n",
       "      <td>&lt;p&gt;Facebook has been accused of “discriminator...</td>\n",
       "      <td>Facebook</td>\n",
       "      <td>3</td>\n",
       "      <td>2021-05-28</td>\n",
       "    </tr>\n",
       "    <tr>\n",
       "      <th>17</th>\n",
       "      <td>2021-05-27</td>\n",
       "      <td>Facebook lifts ban on posts claiming Covid-19 ...</td>\n",
       "      <td>https://www.theguardian.com/technology/2021/ma...</td>\n",
       "      <td>&lt;p&gt;Facebook has lifted a ban on posts claiming...</td>\n",
       "      <td>Facebook</td>\n",
       "      <td>3</td>\n",
       "      <td>2021-05-28</td>\n",
       "    </tr>\n",
       "  </tbody>\n",
       "</table>\n",
       "<p>1584 rows × 7 columns</p>\n",
       "</div>"
      ],
      "text/plain": [
       "            Date  ... adjusted_date\n",
       "4100  2021-05-21  ...    2021-05-24\n",
       "4101  2021-05-14  ...    2021-05-17\n",
       "4102  2021-05-12  ...    2021-05-13\n",
       "4103  2021-05-05  ...    2021-05-06\n",
       "4104  2021-05-05  ...    2021-05-06\n",
       "...          ...  ...           ...\n",
       "5680  2012-05-18  ...    2012-05-21\n",
       "14    2021-06-11  ...    2021-06-14\n",
       "15    2021-06-04  ...    2021-06-07\n",
       "16    2021-05-27  ...    2021-05-28\n",
       "17    2021-05-27  ...    2021-05-28\n",
       "\n",
       "[1584 rows x 7 columns]"
      ]
     },
     "execution_count": 14,
     "metadata": {
      "tags": []
     },
     "output_type": "execute_result"
    }
   ],
   "source": [
    "df['adjusted_date'] = df.apply(lambda row: adjusted_date(row), axis=1)\n",
    "df"
   ]
  },
  {
   "cell_type": "code",
   "execution_count": null,
   "metadata": {
    "colab": {
     "base_uri": "https://localhost:8080/",
     "height": 454
    },
    "id": "Wl9SfjWqxovN",
    "outputId": "9b19b337-8a01-46a9-8e74-a1d904b4feb0"
   },
   "outputs": [
    {
     "data": {
      "text/html": [
       "<div>\n",
       "<style scoped>\n",
       "    .dataframe tbody tr th:only-of-type {\n",
       "        vertical-align: middle;\n",
       "    }\n",
       "\n",
       "    .dataframe tbody tr th {\n",
       "        vertical-align: top;\n",
       "    }\n",
       "\n",
       "    .dataframe thead th {\n",
       "        text-align: right;\n",
       "    }\n",
       "</style>\n",
       "<table border=\"1\" class=\"dataframe\">\n",
       "  <thead>\n",
       "    <tr style=\"text-align: right;\">\n",
       "      <th></th>\n",
       "      <th>Title</th>\n",
       "    </tr>\n",
       "    <tr>\n",
       "      <th>adjusted_date</th>\n",
       "      <th></th>\n",
       "    </tr>\n",
       "  </thead>\n",
       "  <tbody>\n",
       "    <tr>\n",
       "      <th>2012-05-21</th>\n",
       "      <td>16</td>\n",
       "    </tr>\n",
       "    <tr>\n",
       "      <th>2018-04-12</th>\n",
       "      <td>9</td>\n",
       "    </tr>\n",
       "    <tr>\n",
       "      <th>2014-02-21</th>\n",
       "      <td>7</td>\n",
       "    </tr>\n",
       "    <tr>\n",
       "      <th>2018-04-06</th>\n",
       "      <td>6</td>\n",
       "    </tr>\n",
       "    <tr>\n",
       "      <th>2017-10-25</th>\n",
       "      <td>6</td>\n",
       "    </tr>\n",
       "    <tr>\n",
       "      <th>...</th>\n",
       "      <td>...</td>\n",
       "    </tr>\n",
       "    <tr>\n",
       "      <th>2016-02-19</th>\n",
       "      <td>1</td>\n",
       "    </tr>\n",
       "    <tr>\n",
       "      <th>2016-02-22</th>\n",
       "      <td>1</td>\n",
       "    </tr>\n",
       "    <tr>\n",
       "      <th>2016-02-23</th>\n",
       "      <td>1</td>\n",
       "    </tr>\n",
       "    <tr>\n",
       "      <th>2016-02-24</th>\n",
       "      <td>1</td>\n",
       "    </tr>\n",
       "    <tr>\n",
       "      <th>2021-06-14</th>\n",
       "      <td>1</td>\n",
       "    </tr>\n",
       "  </tbody>\n",
       "</table>\n",
       "<p>1071 rows × 1 columns</p>\n",
       "</div>"
      ],
      "text/plain": [
       "               Title\n",
       "adjusted_date       \n",
       "2012-05-21        16\n",
       "2018-04-12         9\n",
       "2014-02-21         7\n",
       "2018-04-06         6\n",
       "2017-10-25         6\n",
       "...              ...\n",
       "2016-02-19         1\n",
       "2016-02-22         1\n",
       "2016-02-23         1\n",
       "2016-02-24         1\n",
       "2021-06-14         1\n",
       "\n",
       "[1071 rows x 1 columns]"
      ]
     },
     "execution_count": 15,
     "metadata": {
      "tags": []
     },
     "output_type": "execute_result"
    }
   ],
   "source": [
    "df.groupby('adjusted_date').count()[['Title']].sort_values(by=['Title'], ascending=False)"
   ]
  },
  {
   "cell_type": "code",
   "execution_count": null,
   "metadata": {
    "colab": {
     "base_uri": "https://localhost:8080/",
     "height": 424
    },
    "id": "CWMYPwVexovN",
    "outputId": "5c633f5a-45db-4c9b-afbe-f59260350c32"
   },
   "outputs": [
    {
     "data": {
      "text/html": [
       "<div>\n",
       "<style scoped>\n",
       "    .dataframe tbody tr th:only-of-type {\n",
       "        vertical-align: middle;\n",
       "    }\n",
       "\n",
       "    .dataframe tbody tr th {\n",
       "        vertical-align: top;\n",
       "    }\n",
       "\n",
       "    .dataframe thead th {\n",
       "        text-align: right;\n",
       "    }\n",
       "</style>\n",
       "<table border=\"1\" class=\"dataframe\">\n",
       "  <thead>\n",
       "    <tr style=\"text-align: right;\">\n",
       "      <th></th>\n",
       "      <th>adjusted_date</th>\n",
       "      <th>Title</th>\n",
       "    </tr>\n",
       "  </thead>\n",
       "  <tbody>\n",
       "    <tr>\n",
       "      <th>0</th>\n",
       "      <td>2012-05-21</td>\n",
       "      <td>The investors on the trail of a British Facebo...</td>\n",
       "    </tr>\n",
       "    <tr>\n",
       "      <th>1</th>\n",
       "      <td>2012-05-22</td>\n",
       "      <td>Facebook shares fall sharply on second day of ...</td>\n",
       "    </tr>\n",
       "    <tr>\n",
       "      <th>2</th>\n",
       "      <td>2012-05-23</td>\n",
       "      <td>Facebook IPO: banks investigated for allegedly...</td>\n",
       "    </tr>\n",
       "    <tr>\n",
       "      <th>3</th>\n",
       "      <td>2012-05-24</td>\n",
       "      <td>Facebook founder Mark Zuckerberg sees stock tu...</td>\n",
       "    </tr>\n",
       "    <tr>\n",
       "      <th>4</th>\n",
       "      <td>2012-05-25</td>\n",
       "      <td>Facebook banker Morgan Stanley tries to calm b...</td>\n",
       "    </tr>\n",
       "    <tr>\n",
       "      <th>...</th>\n",
       "      <td>...</td>\n",
       "      <td>...</td>\n",
       "    </tr>\n",
       "    <tr>\n",
       "      <th>1066</th>\n",
       "      <td>2021-05-17</td>\n",
       "      <td>WhatsApp to force users to accept changes to t...</td>\n",
       "    </tr>\n",
       "    <tr>\n",
       "      <th>1067</th>\n",
       "      <td>2021-05-24</td>\n",
       "      <td>Facebook removes 110,000 pieces of Covid misin...</td>\n",
       "    </tr>\n",
       "    <tr>\n",
       "      <th>1068</th>\n",
       "      <td>2021-05-28</td>\n",
       "      <td>Facebook accused of ‘discriminatory and racist...</td>\n",
       "    </tr>\n",
       "    <tr>\n",
       "      <th>1069</th>\n",
       "      <td>2021-06-07</td>\n",
       "      <td>UK and EU investigate Facebook over unfair use...</td>\n",
       "    </tr>\n",
       "    <tr>\n",
       "      <th>1070</th>\n",
       "      <td>2021-06-14</td>\n",
       "      <td>Revealed: rightwing firm posed as leftist grou...</td>\n",
       "    </tr>\n",
       "  </tbody>\n",
       "</table>\n",
       "<p>1071 rows × 2 columns</p>\n",
       "</div>"
      ],
      "text/plain": [
       "     adjusted_date                                              Title\n",
       "0       2012-05-21  The investors on the trail of a British Facebo...\n",
       "1       2012-05-22  Facebook shares fall sharply on second day of ...\n",
       "2       2012-05-23  Facebook IPO: banks investigated for allegedly...\n",
       "3       2012-05-24  Facebook founder Mark Zuckerberg sees stock tu...\n",
       "4       2012-05-25  Facebook banker Morgan Stanley tries to calm b...\n",
       "...            ...                                                ...\n",
       "1066    2021-05-17  WhatsApp to force users to accept changes to t...\n",
       "1067    2021-05-24  Facebook removes 110,000 pieces of Covid misin...\n",
       "1068    2021-05-28  Facebook accused of ‘discriminatory and racist...\n",
       "1069    2021-06-07  UK and EU investigate Facebook over unfair use...\n",
       "1070    2021-06-14  Revealed: rightwing firm posed as leftist grou...\n",
       "\n",
       "[1071 rows x 2 columns]"
      ]
     },
     "execution_count": 16,
     "metadata": {
      "tags": []
     },
     "output_type": "execute_result"
    }
   ],
   "source": [
    "df_news = df.groupby('adjusted_date')['Title'].apply(' '.join).reset_index()\n",
    "df_news"
   ]
  },
  {
   "cell_type": "code",
   "execution_count": null,
   "metadata": {
    "colab": {
     "base_uri": "https://localhost:8080/",
     "height": 424
    },
    "id": "vNU1U_aoxovN",
    "outputId": "5cea4ddc-8089-4c50-9f06-750048e09b4f"
   },
   "outputs": [
    {
     "data": {
      "text/html": [
       "<div>\n",
       "<style scoped>\n",
       "    .dataframe tbody tr th:only-of-type {\n",
       "        vertical-align: middle;\n",
       "    }\n",
       "\n",
       "    .dataframe tbody tr th {\n",
       "        vertical-align: top;\n",
       "    }\n",
       "\n",
       "    .dataframe thead th {\n",
       "        text-align: right;\n",
       "    }\n",
       "</style>\n",
       "<table border=\"1\" class=\"dataframe\">\n",
       "  <thead>\n",
       "    <tr style=\"text-align: right;\">\n",
       "      <th></th>\n",
       "      <th>Date</th>\n",
       "      <th>Title</th>\n",
       "    </tr>\n",
       "  </thead>\n",
       "  <tbody>\n",
       "    <tr>\n",
       "      <th>0</th>\n",
       "      <td>2012-05-21</td>\n",
       "      <td>The investors on the trail of a British Facebo...</td>\n",
       "    </tr>\n",
       "    <tr>\n",
       "      <th>1</th>\n",
       "      <td>2012-05-22</td>\n",
       "      <td>Facebook shares fall sharply on second day of ...</td>\n",
       "    </tr>\n",
       "    <tr>\n",
       "      <th>2</th>\n",
       "      <td>2012-05-23</td>\n",
       "      <td>Facebook IPO: banks investigated for allegedly...</td>\n",
       "    </tr>\n",
       "    <tr>\n",
       "      <th>3</th>\n",
       "      <td>2012-05-24</td>\n",
       "      <td>Facebook founder Mark Zuckerberg sees stock tu...</td>\n",
       "    </tr>\n",
       "    <tr>\n",
       "      <th>4</th>\n",
       "      <td>2012-05-25</td>\n",
       "      <td>Facebook banker Morgan Stanley tries to calm b...</td>\n",
       "    </tr>\n",
       "    <tr>\n",
       "      <th>...</th>\n",
       "      <td>...</td>\n",
       "      <td>...</td>\n",
       "    </tr>\n",
       "    <tr>\n",
       "      <th>1066</th>\n",
       "      <td>2021-05-17</td>\n",
       "      <td>WhatsApp to force users to accept changes to t...</td>\n",
       "    </tr>\n",
       "    <tr>\n",
       "      <th>1067</th>\n",
       "      <td>2021-05-24</td>\n",
       "      <td>Facebook removes 110,000 pieces of Covid misin...</td>\n",
       "    </tr>\n",
       "    <tr>\n",
       "      <th>1068</th>\n",
       "      <td>2021-05-28</td>\n",
       "      <td>Facebook accused of ‘discriminatory and racist...</td>\n",
       "    </tr>\n",
       "    <tr>\n",
       "      <th>1069</th>\n",
       "      <td>2021-06-07</td>\n",
       "      <td>UK and EU investigate Facebook over unfair use...</td>\n",
       "    </tr>\n",
       "    <tr>\n",
       "      <th>1070</th>\n",
       "      <td>2021-06-14</td>\n",
       "      <td>Revealed: rightwing firm posed as leftist grou...</td>\n",
       "    </tr>\n",
       "  </tbody>\n",
       "</table>\n",
       "<p>1071 rows × 2 columns</p>\n",
       "</div>"
      ],
      "text/plain": [
       "            Date                                              Title\n",
       "0     2012-05-21  The investors on the trail of a British Facebo...\n",
       "1     2012-05-22  Facebook shares fall sharply on second day of ...\n",
       "2     2012-05-23  Facebook IPO: banks investigated for allegedly...\n",
       "3     2012-05-24  Facebook founder Mark Zuckerberg sees stock tu...\n",
       "4     2012-05-25  Facebook banker Morgan Stanley tries to calm b...\n",
       "...          ...                                                ...\n",
       "1066  2021-05-17  WhatsApp to force users to accept changes to t...\n",
       "1067  2021-05-24  Facebook removes 110,000 pieces of Covid misin...\n",
       "1068  2021-05-28  Facebook accused of ‘discriminatory and racist...\n",
       "1069  2021-06-07  UK and EU investigate Facebook over unfair use...\n",
       "1070  2021-06-14  Revealed: rightwing firm posed as leftist grou...\n",
       "\n",
       "[1071 rows x 2 columns]"
      ]
     },
     "execution_count": 17,
     "metadata": {
      "tags": []
     },
     "output_type": "execute_result"
    }
   ],
   "source": [
    "df_news.rename({'adjusted_date': 'Date'}, axis=1, inplace=True)\n",
    "df_news"
   ]
  },
  {
   "cell_type": "markdown",
   "metadata": {
    "id": "E3RTDIHwxovO"
   },
   "source": [
    "## Text Tokenization"
   ]
  },
  {
   "cell_type": "code",
   "execution_count": null,
   "metadata": {
    "colab": {
     "base_uri": "https://localhost:8080/"
    },
    "id": "u9XGvQyGxovO",
    "outputId": "b03abd2c-e306-450d-e17c-c925515e5687"
   },
   "outputs": [
    {
     "name": "stdout",
     "output_type": "stream",
     "text": [
      "<class 'pandas.core.frame.DataFrame'>\n",
      "RangeIndex: 1071 entries, 0 to 1070\n",
      "Data columns (total 4 columns):\n",
      " #   Column        Non-Null Count  Dtype \n",
      "---  ------        --------------  ----- \n",
      " 0   Date          1071 non-null   object\n",
      " 1   Title         1071 non-null   object\n",
      " 2   text_decont   1071 non-null   object\n",
      " 3   text_no_punc  1071 non-null   object\n",
      "dtypes: object(4)\n",
      "memory usage: 33.6+ KB\n"
     ]
    }
   ],
   "source": [
    "#decontract to not create token from special cases.\n",
    "#For example, \"won't\" or \" can't\" can generate tokens as \"wo\", \"ca\" which are not removed by stopwords\n",
    "\n",
    "def decontracted(phrase):\n",
    "    # specific\n",
    "    phrase = re.sub(r\"won\\'t\", \"will not\", phrase)\n",
    "    phrase = re.sub(r\"can\\'t\", \"can not\", phrase)\n",
    "    phrase = re.sub(r\"let\\'s\", \"let us\", phrase)\n",
    "\n",
    "    # general\n",
    "    phrase = re.sub(r\"n\\'t\", \" not\", phrase)\n",
    "    phrase = re.sub(r\"\\'re\", \" are\", phrase)\n",
    "    phrase = re.sub(r\"\\'s\", \" is\", phrase)\n",
    "    phrase = re.sub(r\"\\'d\", \" would\", phrase)\n",
    "    phrase = re.sub(r\"\\'ll\", \" will\", phrase)\n",
    "    phrase = re.sub(r\"\\'t\", \" not\", phrase)\n",
    "    phrase = re.sub(r\"\\'ve\", \" have\", phrase)\n",
    "    phrase = re.sub(r\"\\'m\", \" am\", phrase)\n",
    "    return phrase\n",
    "\n",
    "#convert to lower case and decontract\n",
    "df_news['text_decont'] = df_news['Title'].str.lower().apply(lambda x: decontracted(x))\n",
    "\n",
    "#remove punctuation\n",
    "df_news['text_no_punc'] = df_news['text_decont'].apply(lambda x: re.sub(r'[^\\w\\s]', ' ', x))\n",
    "\n",
    "df_news.info()"
   ]
  },
  {
   "cell_type": "code",
   "execution_count": null,
   "metadata": {
    "colab": {
     "base_uri": "https://localhost:8080/",
     "height": 293
    },
    "id": "KT-OVeybxovO",
    "outputId": "e0f5abaf-71f8-4b0d-fb25-a23574e4262b",
    "scrolled": false
   },
   "outputs": [
    {
     "data": {
      "text/html": [
       "<div>\n",
       "<style scoped>\n",
       "    .dataframe tbody tr th:only-of-type {\n",
       "        vertical-align: middle;\n",
       "    }\n",
       "\n",
       "    .dataframe tbody tr th {\n",
       "        vertical-align: top;\n",
       "    }\n",
       "\n",
       "    .dataframe thead th {\n",
       "        text-align: right;\n",
       "    }\n",
       "</style>\n",
       "<table border=\"1\" class=\"dataframe\">\n",
       "  <thead>\n",
       "    <tr style=\"text-align: right;\">\n",
       "      <th></th>\n",
       "      <th>Date</th>\n",
       "      <th>Title</th>\n",
       "      <th>text_decont</th>\n",
       "      <th>text_no_punc</th>\n",
       "      <th>tk</th>\n",
       "    </tr>\n",
       "  </thead>\n",
       "  <tbody>\n",
       "    <tr>\n",
       "      <th>0</th>\n",
       "      <td>2012-05-21</td>\n",
       "      <td>The investors on the trail of a British Facebo...</td>\n",
       "      <td>the investors on the trail of a british facebo...</td>\n",
       "      <td>the investors on the trail of a british facebo...</td>\n",
       "      <td>[the, investors, on, the, trail, of, a, britis...</td>\n",
       "    </tr>\n",
       "    <tr>\n",
       "      <th>1</th>\n",
       "      <td>2012-05-22</td>\n",
       "      <td>Facebook shares fall sharply on second day of ...</td>\n",
       "      <td>facebook shares fall sharply on second day of ...</td>\n",
       "      <td>facebook shares fall sharply on second day of ...</td>\n",
       "      <td>[facebook, shares, fall, sharply, on, second, ...</td>\n",
       "    </tr>\n",
       "    <tr>\n",
       "      <th>2</th>\n",
       "      <td>2012-05-23</td>\n",
       "      <td>Facebook IPO: banks investigated for allegedly...</td>\n",
       "      <td>facebook ipo: banks investigated for allegedly...</td>\n",
       "      <td>facebook ipo  banks investigated for allegedly...</td>\n",
       "      <td>[facebook, ipo, banks, investigated, for, alle...</td>\n",
       "    </tr>\n",
       "    <tr>\n",
       "      <th>3</th>\n",
       "      <td>2012-05-24</td>\n",
       "      <td>Facebook founder Mark Zuckerberg sees stock tu...</td>\n",
       "      <td>facebook founder mark zuckerberg sees stock tu...</td>\n",
       "      <td>facebook founder mark zuckerberg sees stock tu...</td>\n",
       "      <td>[facebook, founder, mark, zuckerberg, sees, st...</td>\n",
       "    </tr>\n",
       "    <tr>\n",
       "      <th>4</th>\n",
       "      <td>2012-05-25</td>\n",
       "      <td>Facebook banker Morgan Stanley tries to calm b...</td>\n",
       "      <td>facebook banker morgan stanley tries to calm b...</td>\n",
       "      <td>facebook banker morgan stanley tries to calm b...</td>\n",
       "      <td>[facebook, banker, morgan, stanley, tries, to,...</td>\n",
       "    </tr>\n",
       "  </tbody>\n",
       "</table>\n",
       "</div>"
      ],
      "text/plain": [
       "         Date  ...                                                 tk\n",
       "0  2012-05-21  ...  [the, investors, on, the, trail, of, a, britis...\n",
       "1  2012-05-22  ...  [facebook, shares, fall, sharply, on, second, ...\n",
       "2  2012-05-23  ...  [facebook, ipo, banks, investigated, for, alle...\n",
       "3  2012-05-24  ...  [facebook, founder, mark, zuckerberg, sees, st...\n",
       "4  2012-05-25  ...  [facebook, banker, morgan, stanley, tries, to,...\n",
       "\n",
       "[5 rows x 5 columns]"
      ]
     },
     "execution_count": 19,
     "metadata": {
      "tags": []
     },
     "output_type": "execute_result"
    }
   ],
   "source": [
    "# tokenize w/o preprocessing\n",
    "df_news['tk'] = df_news['text_no_punc'].apply(lambda x: nltk.word_tokenize(x))\n",
    "df_news.head()"
   ]
  },
  {
   "cell_type": "markdown",
   "metadata": {
    "id": "rreSf7gCDeCQ"
   },
   "source": [
    "# 2. TF-IDF"
   ]
  },
  {
   "cell_type": "code",
   "execution_count": null,
   "metadata": {
    "id": "gnffujRMxovP"
   },
   "outputs": [],
   "source": [
    "def identity_tokenizer(text):\n",
    "    return text\n",
    "\n",
    "tfvec = TfidfVectorizer(lowercase=False, tokenizer=identity_tokenizer)\n",
    "df_tfvec = tfvec.fit_transform(df_news.tk.tolist()).todense()"
   ]
  },
  {
   "cell_type": "code",
   "execution_count": null,
   "metadata": {
    "colab": {
     "base_uri": "https://localhost:8080/"
    },
    "id": "aSRGX1hvxovP",
    "outputId": "f8c2f3fd-62fd-4ab6-dc0e-9b51923dfed7"
   },
   "outputs": [
    {
     "data": {
      "text/plain": [
       "3801"
      ]
     },
     "execution_count": 21,
     "metadata": {
      "tags": []
     },
     "output_type": "execute_result"
    }
   ],
   "source": [
    "len(tfvec.get_feature_names())"
   ]
  },
  {
   "cell_type": "code",
   "execution_count": null,
   "metadata": {
    "colab": {
     "base_uri": "https://localhost:8080/"
    },
    "id": "u_14-XZ1xovP",
    "outputId": "3fc00d85-e543-4f76-a71d-f2288b60f57c"
   },
   "outputs": [
    {
     "data": {
      "text/plain": [
       "matrix([[0.        , 0.        , 0.        , ..., 0.14978619, 0.        ,\n",
       "         0.        ],\n",
       "        [0.        , 0.        , 0.        , ..., 0.        , 0.        ,\n",
       "         0.        ],\n",
       "        [0.        , 0.        , 0.        , ..., 0.        , 0.        ,\n",
       "         0.        ],\n",
       "        ...,\n",
       "        [0.        , 0.        , 0.        , ..., 0.        , 0.        ,\n",
       "         0.        ],\n",
       "        [0.        , 0.        , 0.        , ..., 0.        , 0.        ,\n",
       "         0.        ],\n",
       "        [0.        , 0.        , 0.        , ..., 0.        , 0.        ,\n",
       "         0.        ]])"
      ]
     },
     "execution_count": 22,
     "metadata": {
      "tags": []
     },
     "output_type": "execute_result"
    }
   ],
   "source": [
    "df_tfvec"
   ]
  },
  {
   "cell_type": "code",
   "execution_count": null,
   "metadata": {
    "colab": {
     "base_uri": "https://localhost:8080/",
     "height": 444
    },
    "id": "nnEimuexxovP",
    "outputId": "fe5ef288-1f58-4695-fe04-a5dd6247c055"
   },
   "outputs": [
    {
     "data": {
      "text/html": [
       "<div>\n",
       "<style scoped>\n",
       "    .dataframe tbody tr th:only-of-type {\n",
       "        vertical-align: middle;\n",
       "    }\n",
       "\n",
       "    .dataframe tbody tr th {\n",
       "        vertical-align: top;\n",
       "    }\n",
       "\n",
       "    .dataframe thead th {\n",
       "        text-align: right;\n",
       "    }\n",
       "</style>\n",
       "<table border=\"1\" class=\"dataframe\">\n",
       "  <thead>\n",
       "    <tr style=\"text-align: right;\">\n",
       "      <th></th>\n",
       "      <th>0</th>\n",
       "      <th>1</th>\n",
       "      <th>2</th>\n",
       "      <th>3</th>\n",
       "      <th>4</th>\n",
       "      <th>5</th>\n",
       "      <th>6</th>\n",
       "      <th>7</th>\n",
       "      <th>8</th>\n",
       "      <th>9</th>\n",
       "      <th>10</th>\n",
       "      <th>11</th>\n",
       "      <th>12</th>\n",
       "      <th>13</th>\n",
       "      <th>14</th>\n",
       "      <th>15</th>\n",
       "      <th>16</th>\n",
       "      <th>17</th>\n",
       "      <th>18</th>\n",
       "      <th>19</th>\n",
       "      <th>20</th>\n",
       "      <th>21</th>\n",
       "      <th>22</th>\n",
       "      <th>23</th>\n",
       "      <th>24</th>\n",
       "      <th>25</th>\n",
       "      <th>26</th>\n",
       "      <th>27</th>\n",
       "      <th>28</th>\n",
       "      <th>29</th>\n",
       "      <th>30</th>\n",
       "      <th>31</th>\n",
       "      <th>32</th>\n",
       "      <th>33</th>\n",
       "      <th>34</th>\n",
       "      <th>35</th>\n",
       "      <th>36</th>\n",
       "      <th>37</th>\n",
       "      <th>38</th>\n",
       "      <th>39</th>\n",
       "      <th>...</th>\n",
       "      <th>3761</th>\n",
       "      <th>3762</th>\n",
       "      <th>3763</th>\n",
       "      <th>3764</th>\n",
       "      <th>3765</th>\n",
       "      <th>3766</th>\n",
       "      <th>3767</th>\n",
       "      <th>3768</th>\n",
       "      <th>3769</th>\n",
       "      <th>3770</th>\n",
       "      <th>3771</th>\n",
       "      <th>3772</th>\n",
       "      <th>3773</th>\n",
       "      <th>3774</th>\n",
       "      <th>3775</th>\n",
       "      <th>3776</th>\n",
       "      <th>3777</th>\n",
       "      <th>3778</th>\n",
       "      <th>3779</th>\n",
       "      <th>3780</th>\n",
       "      <th>3781</th>\n",
       "      <th>3782</th>\n",
       "      <th>3783</th>\n",
       "      <th>3784</th>\n",
       "      <th>3785</th>\n",
       "      <th>3786</th>\n",
       "      <th>3787</th>\n",
       "      <th>3788</th>\n",
       "      <th>3789</th>\n",
       "      <th>3790</th>\n",
       "      <th>3791</th>\n",
       "      <th>3792</th>\n",
       "      <th>3793</th>\n",
       "      <th>3794</th>\n",
       "      <th>3795</th>\n",
       "      <th>3796</th>\n",
       "      <th>3797</th>\n",
       "      <th>3798</th>\n",
       "      <th>3799</th>\n",
       "      <th>3800</th>\n",
       "    </tr>\n",
       "  </thead>\n",
       "  <tbody>\n",
       "    <tr>\n",
       "      <th>0</th>\n",
       "      <td>0.000000</td>\n",
       "      <td>0.0</td>\n",
       "      <td>0.0</td>\n",
       "      <td>0.0</td>\n",
       "      <td>0.0</td>\n",
       "      <td>0.0</td>\n",
       "      <td>0.0</td>\n",
       "      <td>0.0</td>\n",
       "      <td>0.000000</td>\n",
       "      <td>0.0</td>\n",
       "      <td>0.0</td>\n",
       "      <td>0.0</td>\n",
       "      <td>0.0</td>\n",
       "      <td>0.0</td>\n",
       "      <td>0.0</td>\n",
       "      <td>0.0</td>\n",
       "      <td>0.0</td>\n",
       "      <td>0.0</td>\n",
       "      <td>0.0</td>\n",
       "      <td>0.0</td>\n",
       "      <td>0.0</td>\n",
       "      <td>0.0</td>\n",
       "      <td>0.0</td>\n",
       "      <td>0.00000</td>\n",
       "      <td>0.0</td>\n",
       "      <td>0.0</td>\n",
       "      <td>0.0</td>\n",
       "      <td>0.0</td>\n",
       "      <td>0.0</td>\n",
       "      <td>0.0</td>\n",
       "      <td>0.0</td>\n",
       "      <td>0.0</td>\n",
       "      <td>0.0</td>\n",
       "      <td>0.0</td>\n",
       "      <td>0.0</td>\n",
       "      <td>0.0</td>\n",
       "      <td>0.0</td>\n",
       "      <td>0.0</td>\n",
       "      <td>0.0</td>\n",
       "      <td>0.0</td>\n",
       "      <td>...</td>\n",
       "      <td>0.0</td>\n",
       "      <td>0.0</td>\n",
       "      <td>0.0</td>\n",
       "      <td>0.0</td>\n",
       "      <td>0.000000</td>\n",
       "      <td>0.0</td>\n",
       "      <td>0.0</td>\n",
       "      <td>0.0</td>\n",
       "      <td>0.0</td>\n",
       "      <td>0.0</td>\n",
       "      <td>0.0</td>\n",
       "      <td>0.0</td>\n",
       "      <td>0.0</td>\n",
       "      <td>0.0</td>\n",
       "      <td>0.0</td>\n",
       "      <td>0.0</td>\n",
       "      <td>0.0</td>\n",
       "      <td>0.0</td>\n",
       "      <td>0.0</td>\n",
       "      <td>0.0</td>\n",
       "      <td>0.0</td>\n",
       "      <td>0.0</td>\n",
       "      <td>0.0</td>\n",
       "      <td>0.0</td>\n",
       "      <td>0.0</td>\n",
       "      <td>0.0</td>\n",
       "      <td>0.0</td>\n",
       "      <td>0.0</td>\n",
       "      <td>0.0</td>\n",
       "      <td>0.0</td>\n",
       "      <td>0.0</td>\n",
       "      <td>0.0</td>\n",
       "      <td>0.0</td>\n",
       "      <td>0.0</td>\n",
       "      <td>0.0</td>\n",
       "      <td>0.0</td>\n",
       "      <td>0.0</td>\n",
       "      <td>0.149786</td>\n",
       "      <td>0.0</td>\n",
       "      <td>0.0</td>\n",
       "    </tr>\n",
       "    <tr>\n",
       "      <th>1</th>\n",
       "      <td>0.000000</td>\n",
       "      <td>0.0</td>\n",
       "      <td>0.0</td>\n",
       "      <td>0.0</td>\n",
       "      <td>0.0</td>\n",
       "      <td>0.0</td>\n",
       "      <td>0.0</td>\n",
       "      <td>0.0</td>\n",
       "      <td>0.000000</td>\n",
       "      <td>0.0</td>\n",
       "      <td>0.0</td>\n",
       "      <td>0.0</td>\n",
       "      <td>0.0</td>\n",
       "      <td>0.0</td>\n",
       "      <td>0.0</td>\n",
       "      <td>0.0</td>\n",
       "      <td>0.0</td>\n",
       "      <td>0.0</td>\n",
       "      <td>0.0</td>\n",
       "      <td>0.0</td>\n",
       "      <td>0.0</td>\n",
       "      <td>0.0</td>\n",
       "      <td>0.0</td>\n",
       "      <td>0.00000</td>\n",
       "      <td>0.0</td>\n",
       "      <td>0.0</td>\n",
       "      <td>0.0</td>\n",
       "      <td>0.0</td>\n",
       "      <td>0.0</td>\n",
       "      <td>0.0</td>\n",
       "      <td>0.0</td>\n",
       "      <td>0.0</td>\n",
       "      <td>0.0</td>\n",
       "      <td>0.0</td>\n",
       "      <td>0.0</td>\n",
       "      <td>0.0</td>\n",
       "      <td>0.0</td>\n",
       "      <td>0.0</td>\n",
       "      <td>0.0</td>\n",
       "      <td>0.0</td>\n",
       "      <td>...</td>\n",
       "      <td>0.0</td>\n",
       "      <td>0.0</td>\n",
       "      <td>0.0</td>\n",
       "      <td>0.0</td>\n",
       "      <td>0.000000</td>\n",
       "      <td>0.0</td>\n",
       "      <td>0.0</td>\n",
       "      <td>0.0</td>\n",
       "      <td>0.0</td>\n",
       "      <td>0.0</td>\n",
       "      <td>0.0</td>\n",
       "      <td>0.0</td>\n",
       "      <td>0.0</td>\n",
       "      <td>0.0</td>\n",
       "      <td>0.0</td>\n",
       "      <td>0.0</td>\n",
       "      <td>0.0</td>\n",
       "      <td>0.0</td>\n",
       "      <td>0.0</td>\n",
       "      <td>0.0</td>\n",
       "      <td>0.0</td>\n",
       "      <td>0.0</td>\n",
       "      <td>0.0</td>\n",
       "      <td>0.0</td>\n",
       "      <td>0.0</td>\n",
       "      <td>0.0</td>\n",
       "      <td>0.0</td>\n",
       "      <td>0.0</td>\n",
       "      <td>0.0</td>\n",
       "      <td>0.0</td>\n",
       "      <td>0.0</td>\n",
       "      <td>0.0</td>\n",
       "      <td>0.0</td>\n",
       "      <td>0.0</td>\n",
       "      <td>0.0</td>\n",
       "      <td>0.0</td>\n",
       "      <td>0.0</td>\n",
       "      <td>0.000000</td>\n",
       "      <td>0.0</td>\n",
       "      <td>0.0</td>\n",
       "    </tr>\n",
       "    <tr>\n",
       "      <th>2</th>\n",
       "      <td>0.000000</td>\n",
       "      <td>0.0</td>\n",
       "      <td>0.0</td>\n",
       "      <td>0.0</td>\n",
       "      <td>0.0</td>\n",
       "      <td>0.0</td>\n",
       "      <td>0.0</td>\n",
       "      <td>0.0</td>\n",
       "      <td>0.000000</td>\n",
       "      <td>0.0</td>\n",
       "      <td>0.0</td>\n",
       "      <td>0.0</td>\n",
       "      <td>0.0</td>\n",
       "      <td>0.0</td>\n",
       "      <td>0.0</td>\n",
       "      <td>0.0</td>\n",
       "      <td>0.0</td>\n",
       "      <td>0.0</td>\n",
       "      <td>0.0</td>\n",
       "      <td>0.0</td>\n",
       "      <td>0.0</td>\n",
       "      <td>0.0</td>\n",
       "      <td>0.0</td>\n",
       "      <td>0.00000</td>\n",
       "      <td>0.0</td>\n",
       "      <td>0.0</td>\n",
       "      <td>0.0</td>\n",
       "      <td>0.0</td>\n",
       "      <td>0.0</td>\n",
       "      <td>0.0</td>\n",
       "      <td>0.0</td>\n",
       "      <td>0.0</td>\n",
       "      <td>0.0</td>\n",
       "      <td>0.0</td>\n",
       "      <td>0.0</td>\n",
       "      <td>0.0</td>\n",
       "      <td>0.0</td>\n",
       "      <td>0.0</td>\n",
       "      <td>0.0</td>\n",
       "      <td>0.0</td>\n",
       "      <td>...</td>\n",
       "      <td>0.0</td>\n",
       "      <td>0.0</td>\n",
       "      <td>0.0</td>\n",
       "      <td>0.0</td>\n",
       "      <td>0.000000</td>\n",
       "      <td>0.0</td>\n",
       "      <td>0.0</td>\n",
       "      <td>0.0</td>\n",
       "      <td>0.0</td>\n",
       "      <td>0.0</td>\n",
       "      <td>0.0</td>\n",
       "      <td>0.0</td>\n",
       "      <td>0.0</td>\n",
       "      <td>0.0</td>\n",
       "      <td>0.0</td>\n",
       "      <td>0.0</td>\n",
       "      <td>0.0</td>\n",
       "      <td>0.0</td>\n",
       "      <td>0.0</td>\n",
       "      <td>0.0</td>\n",
       "      <td>0.0</td>\n",
       "      <td>0.0</td>\n",
       "      <td>0.0</td>\n",
       "      <td>0.0</td>\n",
       "      <td>0.0</td>\n",
       "      <td>0.0</td>\n",
       "      <td>0.0</td>\n",
       "      <td>0.0</td>\n",
       "      <td>0.0</td>\n",
       "      <td>0.0</td>\n",
       "      <td>0.0</td>\n",
       "      <td>0.0</td>\n",
       "      <td>0.0</td>\n",
       "      <td>0.0</td>\n",
       "      <td>0.0</td>\n",
       "      <td>0.0</td>\n",
       "      <td>0.0</td>\n",
       "      <td>0.000000</td>\n",
       "      <td>0.0</td>\n",
       "      <td>0.0</td>\n",
       "    </tr>\n",
       "    <tr>\n",
       "      <th>3</th>\n",
       "      <td>0.000000</td>\n",
       "      <td>0.0</td>\n",
       "      <td>0.0</td>\n",
       "      <td>0.0</td>\n",
       "      <td>0.0</td>\n",
       "      <td>0.0</td>\n",
       "      <td>0.0</td>\n",
       "      <td>0.0</td>\n",
       "      <td>0.000000</td>\n",
       "      <td>0.0</td>\n",
       "      <td>0.0</td>\n",
       "      <td>0.0</td>\n",
       "      <td>0.0</td>\n",
       "      <td>0.0</td>\n",
       "      <td>0.0</td>\n",
       "      <td>0.0</td>\n",
       "      <td>0.0</td>\n",
       "      <td>0.0</td>\n",
       "      <td>0.0</td>\n",
       "      <td>0.0</td>\n",
       "      <td>0.0</td>\n",
       "      <td>0.0</td>\n",
       "      <td>0.0</td>\n",
       "      <td>0.00000</td>\n",
       "      <td>0.0</td>\n",
       "      <td>0.0</td>\n",
       "      <td>0.0</td>\n",
       "      <td>0.0</td>\n",
       "      <td>0.0</td>\n",
       "      <td>0.0</td>\n",
       "      <td>0.0</td>\n",
       "      <td>0.0</td>\n",
       "      <td>0.0</td>\n",
       "      <td>0.0</td>\n",
       "      <td>0.0</td>\n",
       "      <td>0.0</td>\n",
       "      <td>0.0</td>\n",
       "      <td>0.0</td>\n",
       "      <td>0.0</td>\n",
       "      <td>0.0</td>\n",
       "      <td>...</td>\n",
       "      <td>0.0</td>\n",
       "      <td>0.0</td>\n",
       "      <td>0.0</td>\n",
       "      <td>0.0</td>\n",
       "      <td>0.000000</td>\n",
       "      <td>0.0</td>\n",
       "      <td>0.0</td>\n",
       "      <td>0.0</td>\n",
       "      <td>0.0</td>\n",
       "      <td>0.0</td>\n",
       "      <td>0.0</td>\n",
       "      <td>0.0</td>\n",
       "      <td>0.0</td>\n",
       "      <td>0.0</td>\n",
       "      <td>0.0</td>\n",
       "      <td>0.0</td>\n",
       "      <td>0.0</td>\n",
       "      <td>0.0</td>\n",
       "      <td>0.0</td>\n",
       "      <td>0.0</td>\n",
       "      <td>0.0</td>\n",
       "      <td>0.0</td>\n",
       "      <td>0.0</td>\n",
       "      <td>0.0</td>\n",
       "      <td>0.0</td>\n",
       "      <td>0.0</td>\n",
       "      <td>0.0</td>\n",
       "      <td>0.0</td>\n",
       "      <td>0.0</td>\n",
       "      <td>0.0</td>\n",
       "      <td>0.0</td>\n",
       "      <td>0.0</td>\n",
       "      <td>0.0</td>\n",
       "      <td>0.0</td>\n",
       "      <td>0.0</td>\n",
       "      <td>0.0</td>\n",
       "      <td>0.0</td>\n",
       "      <td>0.202979</td>\n",
       "      <td>0.0</td>\n",
       "      <td>0.0</td>\n",
       "    </tr>\n",
       "    <tr>\n",
       "      <th>4</th>\n",
       "      <td>0.000000</td>\n",
       "      <td>0.0</td>\n",
       "      <td>0.0</td>\n",
       "      <td>0.0</td>\n",
       "      <td>0.0</td>\n",
       "      <td>0.0</td>\n",
       "      <td>0.0</td>\n",
       "      <td>0.0</td>\n",
       "      <td>0.000000</td>\n",
       "      <td>0.0</td>\n",
       "      <td>0.0</td>\n",
       "      <td>0.0</td>\n",
       "      <td>0.0</td>\n",
       "      <td>0.0</td>\n",
       "      <td>0.0</td>\n",
       "      <td>0.0</td>\n",
       "      <td>0.0</td>\n",
       "      <td>0.0</td>\n",
       "      <td>0.0</td>\n",
       "      <td>0.0</td>\n",
       "      <td>0.0</td>\n",
       "      <td>0.0</td>\n",
       "      <td>0.0</td>\n",
       "      <td>0.00000</td>\n",
       "      <td>0.0</td>\n",
       "      <td>0.0</td>\n",
       "      <td>0.0</td>\n",
       "      <td>0.0</td>\n",
       "      <td>0.0</td>\n",
       "      <td>0.0</td>\n",
       "      <td>0.0</td>\n",
       "      <td>0.0</td>\n",
       "      <td>0.0</td>\n",
       "      <td>0.0</td>\n",
       "      <td>0.0</td>\n",
       "      <td>0.0</td>\n",
       "      <td>0.0</td>\n",
       "      <td>0.0</td>\n",
       "      <td>0.0</td>\n",
       "      <td>0.0</td>\n",
       "      <td>...</td>\n",
       "      <td>0.0</td>\n",
       "      <td>0.0</td>\n",
       "      <td>0.0</td>\n",
       "      <td>0.0</td>\n",
       "      <td>0.216779</td>\n",
       "      <td>0.0</td>\n",
       "      <td>0.0</td>\n",
       "      <td>0.0</td>\n",
       "      <td>0.0</td>\n",
       "      <td>0.0</td>\n",
       "      <td>0.0</td>\n",
       "      <td>0.0</td>\n",
       "      <td>0.0</td>\n",
       "      <td>0.0</td>\n",
       "      <td>0.0</td>\n",
       "      <td>0.0</td>\n",
       "      <td>0.0</td>\n",
       "      <td>0.0</td>\n",
       "      <td>0.0</td>\n",
       "      <td>0.0</td>\n",
       "      <td>0.0</td>\n",
       "      <td>0.0</td>\n",
       "      <td>0.0</td>\n",
       "      <td>0.0</td>\n",
       "      <td>0.0</td>\n",
       "      <td>0.0</td>\n",
       "      <td>0.0</td>\n",
       "      <td>0.0</td>\n",
       "      <td>0.0</td>\n",
       "      <td>0.0</td>\n",
       "      <td>0.0</td>\n",
       "      <td>0.0</td>\n",
       "      <td>0.0</td>\n",
       "      <td>0.0</td>\n",
       "      <td>0.0</td>\n",
       "      <td>0.0</td>\n",
       "      <td>0.0</td>\n",
       "      <td>0.000000</td>\n",
       "      <td>0.0</td>\n",
       "      <td>0.0</td>\n",
       "    </tr>\n",
       "    <tr>\n",
       "      <th>...</th>\n",
       "      <td>...</td>\n",
       "      <td>...</td>\n",
       "      <td>...</td>\n",
       "      <td>...</td>\n",
       "      <td>...</td>\n",
       "      <td>...</td>\n",
       "      <td>...</td>\n",
       "      <td>...</td>\n",
       "      <td>...</td>\n",
       "      <td>...</td>\n",
       "      <td>...</td>\n",
       "      <td>...</td>\n",
       "      <td>...</td>\n",
       "      <td>...</td>\n",
       "      <td>...</td>\n",
       "      <td>...</td>\n",
       "      <td>...</td>\n",
       "      <td>...</td>\n",
       "      <td>...</td>\n",
       "      <td>...</td>\n",
       "      <td>...</td>\n",
       "      <td>...</td>\n",
       "      <td>...</td>\n",
       "      <td>...</td>\n",
       "      <td>...</td>\n",
       "      <td>...</td>\n",
       "      <td>...</td>\n",
       "      <td>...</td>\n",
       "      <td>...</td>\n",
       "      <td>...</td>\n",
       "      <td>...</td>\n",
       "      <td>...</td>\n",
       "      <td>...</td>\n",
       "      <td>...</td>\n",
       "      <td>...</td>\n",
       "      <td>...</td>\n",
       "      <td>...</td>\n",
       "      <td>...</td>\n",
       "      <td>...</td>\n",
       "      <td>...</td>\n",
       "      <td>...</td>\n",
       "      <td>...</td>\n",
       "      <td>...</td>\n",
       "      <td>...</td>\n",
       "      <td>...</td>\n",
       "      <td>...</td>\n",
       "      <td>...</td>\n",
       "      <td>...</td>\n",
       "      <td>...</td>\n",
       "      <td>...</td>\n",
       "      <td>...</td>\n",
       "      <td>...</td>\n",
       "      <td>...</td>\n",
       "      <td>...</td>\n",
       "      <td>...</td>\n",
       "      <td>...</td>\n",
       "      <td>...</td>\n",
       "      <td>...</td>\n",
       "      <td>...</td>\n",
       "      <td>...</td>\n",
       "      <td>...</td>\n",
       "      <td>...</td>\n",
       "      <td>...</td>\n",
       "      <td>...</td>\n",
       "      <td>...</td>\n",
       "      <td>...</td>\n",
       "      <td>...</td>\n",
       "      <td>...</td>\n",
       "      <td>...</td>\n",
       "      <td>...</td>\n",
       "      <td>...</td>\n",
       "      <td>...</td>\n",
       "      <td>...</td>\n",
       "      <td>...</td>\n",
       "      <td>...</td>\n",
       "      <td>...</td>\n",
       "      <td>...</td>\n",
       "      <td>...</td>\n",
       "      <td>...</td>\n",
       "      <td>...</td>\n",
       "      <td>...</td>\n",
       "    </tr>\n",
       "    <tr>\n",
       "      <th>1066</th>\n",
       "      <td>0.000000</td>\n",
       "      <td>0.0</td>\n",
       "      <td>0.0</td>\n",
       "      <td>0.0</td>\n",
       "      <td>0.0</td>\n",
       "      <td>0.0</td>\n",
       "      <td>0.0</td>\n",
       "      <td>0.0</td>\n",
       "      <td>0.000000</td>\n",
       "      <td>0.0</td>\n",
       "      <td>0.0</td>\n",
       "      <td>0.0</td>\n",
       "      <td>0.0</td>\n",
       "      <td>0.0</td>\n",
       "      <td>0.0</td>\n",
       "      <td>0.0</td>\n",
       "      <td>0.0</td>\n",
       "      <td>0.0</td>\n",
       "      <td>0.0</td>\n",
       "      <td>0.0</td>\n",
       "      <td>0.0</td>\n",
       "      <td>0.0</td>\n",
       "      <td>0.0</td>\n",
       "      <td>0.00000</td>\n",
       "      <td>0.0</td>\n",
       "      <td>0.0</td>\n",
       "      <td>0.0</td>\n",
       "      <td>0.0</td>\n",
       "      <td>0.0</td>\n",
       "      <td>0.0</td>\n",
       "      <td>0.0</td>\n",
       "      <td>0.0</td>\n",
       "      <td>0.0</td>\n",
       "      <td>0.0</td>\n",
       "      <td>0.0</td>\n",
       "      <td>0.0</td>\n",
       "      <td>0.0</td>\n",
       "      <td>0.0</td>\n",
       "      <td>0.0</td>\n",
       "      <td>0.0</td>\n",
       "      <td>...</td>\n",
       "      <td>0.0</td>\n",
       "      <td>0.0</td>\n",
       "      <td>0.0</td>\n",
       "      <td>0.0</td>\n",
       "      <td>0.000000</td>\n",
       "      <td>0.0</td>\n",
       "      <td>0.0</td>\n",
       "      <td>0.0</td>\n",
       "      <td>0.0</td>\n",
       "      <td>0.0</td>\n",
       "      <td>0.0</td>\n",
       "      <td>0.0</td>\n",
       "      <td>0.0</td>\n",
       "      <td>0.0</td>\n",
       "      <td>0.0</td>\n",
       "      <td>0.0</td>\n",
       "      <td>0.0</td>\n",
       "      <td>0.0</td>\n",
       "      <td>0.0</td>\n",
       "      <td>0.0</td>\n",
       "      <td>0.0</td>\n",
       "      <td>0.0</td>\n",
       "      <td>0.0</td>\n",
       "      <td>0.0</td>\n",
       "      <td>0.0</td>\n",
       "      <td>0.0</td>\n",
       "      <td>0.0</td>\n",
       "      <td>0.0</td>\n",
       "      <td>0.0</td>\n",
       "      <td>0.0</td>\n",
       "      <td>0.0</td>\n",
       "      <td>0.0</td>\n",
       "      <td>0.0</td>\n",
       "      <td>0.0</td>\n",
       "      <td>0.0</td>\n",
       "      <td>0.0</td>\n",
       "      <td>0.0</td>\n",
       "      <td>0.000000</td>\n",
       "      <td>0.0</td>\n",
       "      <td>0.0</td>\n",
       "    </tr>\n",
       "    <tr>\n",
       "      <th>1067</th>\n",
       "      <td>0.304225</td>\n",
       "      <td>0.0</td>\n",
       "      <td>0.0</td>\n",
       "      <td>0.0</td>\n",
       "      <td>0.0</td>\n",
       "      <td>0.0</td>\n",
       "      <td>0.0</td>\n",
       "      <td>0.0</td>\n",
       "      <td>0.386647</td>\n",
       "      <td>0.0</td>\n",
       "      <td>0.0</td>\n",
       "      <td>0.0</td>\n",
       "      <td>0.0</td>\n",
       "      <td>0.0</td>\n",
       "      <td>0.0</td>\n",
       "      <td>0.0</td>\n",
       "      <td>0.0</td>\n",
       "      <td>0.0</td>\n",
       "      <td>0.0</td>\n",
       "      <td>0.0</td>\n",
       "      <td>0.0</td>\n",
       "      <td>0.0</td>\n",
       "      <td>0.0</td>\n",
       "      <td>0.00000</td>\n",
       "      <td>0.0</td>\n",
       "      <td>0.0</td>\n",
       "      <td>0.0</td>\n",
       "      <td>0.0</td>\n",
       "      <td>0.0</td>\n",
       "      <td>0.0</td>\n",
       "      <td>0.0</td>\n",
       "      <td>0.0</td>\n",
       "      <td>0.0</td>\n",
       "      <td>0.0</td>\n",
       "      <td>0.0</td>\n",
       "      <td>0.0</td>\n",
       "      <td>0.0</td>\n",
       "      <td>0.0</td>\n",
       "      <td>0.0</td>\n",
       "      <td>0.0</td>\n",
       "      <td>...</td>\n",
       "      <td>0.0</td>\n",
       "      <td>0.0</td>\n",
       "      <td>0.0</td>\n",
       "      <td>0.0</td>\n",
       "      <td>0.000000</td>\n",
       "      <td>0.0</td>\n",
       "      <td>0.0</td>\n",
       "      <td>0.0</td>\n",
       "      <td>0.0</td>\n",
       "      <td>0.0</td>\n",
       "      <td>0.0</td>\n",
       "      <td>0.0</td>\n",
       "      <td>0.0</td>\n",
       "      <td>0.0</td>\n",
       "      <td>0.0</td>\n",
       "      <td>0.0</td>\n",
       "      <td>0.0</td>\n",
       "      <td>0.0</td>\n",
       "      <td>0.0</td>\n",
       "      <td>0.0</td>\n",
       "      <td>0.0</td>\n",
       "      <td>0.0</td>\n",
       "      <td>0.0</td>\n",
       "      <td>0.0</td>\n",
       "      <td>0.0</td>\n",
       "      <td>0.0</td>\n",
       "      <td>0.0</td>\n",
       "      <td>0.0</td>\n",
       "      <td>0.0</td>\n",
       "      <td>0.0</td>\n",
       "      <td>0.0</td>\n",
       "      <td>0.0</td>\n",
       "      <td>0.0</td>\n",
       "      <td>0.0</td>\n",
       "      <td>0.0</td>\n",
       "      <td>0.0</td>\n",
       "      <td>0.0</td>\n",
       "      <td>0.000000</td>\n",
       "      <td>0.0</td>\n",
       "      <td>0.0</td>\n",
       "    </tr>\n",
       "    <tr>\n",
       "      <th>1068</th>\n",
       "      <td>0.000000</td>\n",
       "      <td>0.0</td>\n",
       "      <td>0.0</td>\n",
       "      <td>0.0</td>\n",
       "      <td>0.0</td>\n",
       "      <td>0.0</td>\n",
       "      <td>0.0</td>\n",
       "      <td>0.0</td>\n",
       "      <td>0.000000</td>\n",
       "      <td>0.0</td>\n",
       "      <td>0.0</td>\n",
       "      <td>0.0</td>\n",
       "      <td>0.0</td>\n",
       "      <td>0.0</td>\n",
       "      <td>0.0</td>\n",
       "      <td>0.0</td>\n",
       "      <td>0.0</td>\n",
       "      <td>0.0</td>\n",
       "      <td>0.0</td>\n",
       "      <td>0.0</td>\n",
       "      <td>0.0</td>\n",
       "      <td>0.0</td>\n",
       "      <td>0.0</td>\n",
       "      <td>0.24215</td>\n",
       "      <td>0.0</td>\n",
       "      <td>0.0</td>\n",
       "      <td>0.0</td>\n",
       "      <td>0.0</td>\n",
       "      <td>0.0</td>\n",
       "      <td>0.0</td>\n",
       "      <td>0.0</td>\n",
       "      <td>0.0</td>\n",
       "      <td>0.0</td>\n",
       "      <td>0.0</td>\n",
       "      <td>0.0</td>\n",
       "      <td>0.0</td>\n",
       "      <td>0.0</td>\n",
       "      <td>0.0</td>\n",
       "      <td>0.0</td>\n",
       "      <td>0.0</td>\n",
       "      <td>...</td>\n",
       "      <td>0.0</td>\n",
       "      <td>0.0</td>\n",
       "      <td>0.0</td>\n",
       "      <td>0.0</td>\n",
       "      <td>0.000000</td>\n",
       "      <td>0.0</td>\n",
       "      <td>0.0</td>\n",
       "      <td>0.0</td>\n",
       "      <td>0.0</td>\n",
       "      <td>0.0</td>\n",
       "      <td>0.0</td>\n",
       "      <td>0.0</td>\n",
       "      <td>0.0</td>\n",
       "      <td>0.0</td>\n",
       "      <td>0.0</td>\n",
       "      <td>0.0</td>\n",
       "      <td>0.0</td>\n",
       "      <td>0.0</td>\n",
       "      <td>0.0</td>\n",
       "      <td>0.0</td>\n",
       "      <td>0.0</td>\n",
       "      <td>0.0</td>\n",
       "      <td>0.0</td>\n",
       "      <td>0.0</td>\n",
       "      <td>0.0</td>\n",
       "      <td>0.0</td>\n",
       "      <td>0.0</td>\n",
       "      <td>0.0</td>\n",
       "      <td>0.0</td>\n",
       "      <td>0.0</td>\n",
       "      <td>0.0</td>\n",
       "      <td>0.0</td>\n",
       "      <td>0.0</td>\n",
       "      <td>0.0</td>\n",
       "      <td>0.0</td>\n",
       "      <td>0.0</td>\n",
       "      <td>0.0</td>\n",
       "      <td>0.000000</td>\n",
       "      <td>0.0</td>\n",
       "      <td>0.0</td>\n",
       "    </tr>\n",
       "    <tr>\n",
       "      <th>1069</th>\n",
       "      <td>0.000000</td>\n",
       "      <td>0.0</td>\n",
       "      <td>0.0</td>\n",
       "      <td>0.0</td>\n",
       "      <td>0.0</td>\n",
       "      <td>0.0</td>\n",
       "      <td>0.0</td>\n",
       "      <td>0.0</td>\n",
       "      <td>0.000000</td>\n",
       "      <td>0.0</td>\n",
       "      <td>0.0</td>\n",
       "      <td>0.0</td>\n",
       "      <td>0.0</td>\n",
       "      <td>0.0</td>\n",
       "      <td>0.0</td>\n",
       "      <td>0.0</td>\n",
       "      <td>0.0</td>\n",
       "      <td>0.0</td>\n",
       "      <td>0.0</td>\n",
       "      <td>0.0</td>\n",
       "      <td>0.0</td>\n",
       "      <td>0.0</td>\n",
       "      <td>0.0</td>\n",
       "      <td>0.00000</td>\n",
       "      <td>0.0</td>\n",
       "      <td>0.0</td>\n",
       "      <td>0.0</td>\n",
       "      <td>0.0</td>\n",
       "      <td>0.0</td>\n",
       "      <td>0.0</td>\n",
       "      <td>0.0</td>\n",
       "      <td>0.0</td>\n",
       "      <td>0.0</td>\n",
       "      <td>0.0</td>\n",
       "      <td>0.0</td>\n",
       "      <td>0.0</td>\n",
       "      <td>0.0</td>\n",
       "      <td>0.0</td>\n",
       "      <td>0.0</td>\n",
       "      <td>0.0</td>\n",
       "      <td>...</td>\n",
       "      <td>0.0</td>\n",
       "      <td>0.0</td>\n",
       "      <td>0.0</td>\n",
       "      <td>0.0</td>\n",
       "      <td>0.000000</td>\n",
       "      <td>0.0</td>\n",
       "      <td>0.0</td>\n",
       "      <td>0.0</td>\n",
       "      <td>0.0</td>\n",
       "      <td>0.0</td>\n",
       "      <td>0.0</td>\n",
       "      <td>0.0</td>\n",
       "      <td>0.0</td>\n",
       "      <td>0.0</td>\n",
       "      <td>0.0</td>\n",
       "      <td>0.0</td>\n",
       "      <td>0.0</td>\n",
       "      <td>0.0</td>\n",
       "      <td>0.0</td>\n",
       "      <td>0.0</td>\n",
       "      <td>0.0</td>\n",
       "      <td>0.0</td>\n",
       "      <td>0.0</td>\n",
       "      <td>0.0</td>\n",
       "      <td>0.0</td>\n",
       "      <td>0.0</td>\n",
       "      <td>0.0</td>\n",
       "      <td>0.0</td>\n",
       "      <td>0.0</td>\n",
       "      <td>0.0</td>\n",
       "      <td>0.0</td>\n",
       "      <td>0.0</td>\n",
       "      <td>0.0</td>\n",
       "      <td>0.0</td>\n",
       "      <td>0.0</td>\n",
       "      <td>0.0</td>\n",
       "      <td>0.0</td>\n",
       "      <td>0.000000</td>\n",
       "      <td>0.0</td>\n",
       "      <td>0.0</td>\n",
       "    </tr>\n",
       "    <tr>\n",
       "      <th>1070</th>\n",
       "      <td>0.000000</td>\n",
       "      <td>0.0</td>\n",
       "      <td>0.0</td>\n",
       "      <td>0.0</td>\n",
       "      <td>0.0</td>\n",
       "      <td>0.0</td>\n",
       "      <td>0.0</td>\n",
       "      <td>0.0</td>\n",
       "      <td>0.000000</td>\n",
       "      <td>0.0</td>\n",
       "      <td>0.0</td>\n",
       "      <td>0.0</td>\n",
       "      <td>0.0</td>\n",
       "      <td>0.0</td>\n",
       "      <td>0.0</td>\n",
       "      <td>0.0</td>\n",
       "      <td>0.0</td>\n",
       "      <td>0.0</td>\n",
       "      <td>0.0</td>\n",
       "      <td>0.0</td>\n",
       "      <td>0.0</td>\n",
       "      <td>0.0</td>\n",
       "      <td>0.0</td>\n",
       "      <td>0.00000</td>\n",
       "      <td>0.0</td>\n",
       "      <td>0.0</td>\n",
       "      <td>0.0</td>\n",
       "      <td>0.0</td>\n",
       "      <td>0.0</td>\n",
       "      <td>0.0</td>\n",
       "      <td>0.0</td>\n",
       "      <td>0.0</td>\n",
       "      <td>0.0</td>\n",
       "      <td>0.0</td>\n",
       "      <td>0.0</td>\n",
       "      <td>0.0</td>\n",
       "      <td>0.0</td>\n",
       "      <td>0.0</td>\n",
       "      <td>0.0</td>\n",
       "      <td>0.0</td>\n",
       "      <td>...</td>\n",
       "      <td>0.0</td>\n",
       "      <td>0.0</td>\n",
       "      <td>0.0</td>\n",
       "      <td>0.0</td>\n",
       "      <td>0.000000</td>\n",
       "      <td>0.0</td>\n",
       "      <td>0.0</td>\n",
       "      <td>0.0</td>\n",
       "      <td>0.0</td>\n",
       "      <td>0.0</td>\n",
       "      <td>0.0</td>\n",
       "      <td>0.0</td>\n",
       "      <td>0.0</td>\n",
       "      <td>0.0</td>\n",
       "      <td>0.0</td>\n",
       "      <td>0.0</td>\n",
       "      <td>0.0</td>\n",
       "      <td>0.0</td>\n",
       "      <td>0.0</td>\n",
       "      <td>0.0</td>\n",
       "      <td>0.0</td>\n",
       "      <td>0.0</td>\n",
       "      <td>0.0</td>\n",
       "      <td>0.0</td>\n",
       "      <td>0.0</td>\n",
       "      <td>0.0</td>\n",
       "      <td>0.0</td>\n",
       "      <td>0.0</td>\n",
       "      <td>0.0</td>\n",
       "      <td>0.0</td>\n",
       "      <td>0.0</td>\n",
       "      <td>0.0</td>\n",
       "      <td>0.0</td>\n",
       "      <td>0.0</td>\n",
       "      <td>0.0</td>\n",
       "      <td>0.0</td>\n",
       "      <td>0.0</td>\n",
       "      <td>0.000000</td>\n",
       "      <td>0.0</td>\n",
       "      <td>0.0</td>\n",
       "    </tr>\n",
       "  </tbody>\n",
       "</table>\n",
       "<p>1071 rows × 3801 columns</p>\n",
       "</div>"
      ],
      "text/plain": [
       "          0     1     2     3     4     ...  3796  3797      3798  3799  3800\n",
       "0     0.000000   0.0   0.0   0.0   0.0  ...   0.0   0.0  0.149786   0.0   0.0\n",
       "1     0.000000   0.0   0.0   0.0   0.0  ...   0.0   0.0  0.000000   0.0   0.0\n",
       "2     0.000000   0.0   0.0   0.0   0.0  ...   0.0   0.0  0.000000   0.0   0.0\n",
       "3     0.000000   0.0   0.0   0.0   0.0  ...   0.0   0.0  0.202979   0.0   0.0\n",
       "4     0.000000   0.0   0.0   0.0   0.0  ...   0.0   0.0  0.000000   0.0   0.0\n",
       "...        ...   ...   ...   ...   ...  ...   ...   ...       ...   ...   ...\n",
       "1066  0.000000   0.0   0.0   0.0   0.0  ...   0.0   0.0  0.000000   0.0   0.0\n",
       "1067  0.304225   0.0   0.0   0.0   0.0  ...   0.0   0.0  0.000000   0.0   0.0\n",
       "1068  0.000000   0.0   0.0   0.0   0.0  ...   0.0   0.0  0.000000   0.0   0.0\n",
       "1069  0.000000   0.0   0.0   0.0   0.0  ...   0.0   0.0  0.000000   0.0   0.0\n",
       "1070  0.000000   0.0   0.0   0.0   0.0  ...   0.0   0.0  0.000000   0.0   0.0\n",
       "\n",
       "[1071 rows x 3801 columns]"
      ]
     },
     "execution_count": 23,
     "metadata": {
      "tags": []
     },
     "output_type": "execute_result"
    }
   ],
   "source": [
    "df_tfidf = pd.DataFrame(df_tfvec)\n",
    "df_tfidf"
   ]
  },
  {
   "cell_type": "code",
   "execution_count": null,
   "metadata": {
    "id": "-QAD3VxuxovQ"
   },
   "outputs": [],
   "source": [
    "temp = np.empty(df_tfidf.shape[0], dtype=object)\n",
    "temp[:] = df_tfidf.values.tolist()"
   ]
  },
  {
   "cell_type": "code",
   "execution_count": null,
   "metadata": {
    "colab": {
     "base_uri": "https://localhost:8080/",
     "height": 424
    },
    "id": "2_EE0Y3NxovQ",
    "outputId": "7f86a8a0-0f25-45f1-8f51-aa356c3dc6c1"
   },
   "outputs": [
    {
     "data": {
      "text/html": [
       "<div>\n",
       "<style scoped>\n",
       "    .dataframe tbody tr th:only-of-type {\n",
       "        vertical-align: middle;\n",
       "    }\n",
       "\n",
       "    .dataframe tbody tr th {\n",
       "        vertical-align: top;\n",
       "    }\n",
       "\n",
       "    .dataframe thead th {\n",
       "        text-align: right;\n",
       "    }\n",
       "</style>\n",
       "<table border=\"1\" class=\"dataframe\">\n",
       "  <thead>\n",
       "    <tr style=\"text-align: right;\">\n",
       "      <th></th>\n",
       "      <th>tfidf</th>\n",
       "    </tr>\n",
       "  </thead>\n",
       "  <tbody>\n",
       "    <tr>\n",
       "      <th>0</th>\n",
       "      <td>[0.0, 0.0, 0.0, 0.0, 0.0, 0.0, 0.0, 0.0, 0.0, ...</td>\n",
       "    </tr>\n",
       "    <tr>\n",
       "      <th>1</th>\n",
       "      <td>[0.0, 0.0, 0.0, 0.0, 0.0, 0.0, 0.0, 0.0, 0.0, ...</td>\n",
       "    </tr>\n",
       "    <tr>\n",
       "      <th>2</th>\n",
       "      <td>[0.0, 0.0, 0.0, 0.0, 0.0, 0.0, 0.0, 0.0, 0.0, ...</td>\n",
       "    </tr>\n",
       "    <tr>\n",
       "      <th>3</th>\n",
       "      <td>[0.0, 0.0, 0.0, 0.0, 0.0, 0.0, 0.0, 0.0, 0.0, ...</td>\n",
       "    </tr>\n",
       "    <tr>\n",
       "      <th>4</th>\n",
       "      <td>[0.0, 0.0, 0.0, 0.0, 0.0, 0.0, 0.0, 0.0, 0.0, ...</td>\n",
       "    </tr>\n",
       "    <tr>\n",
       "      <th>...</th>\n",
       "      <td>...</td>\n",
       "    </tr>\n",
       "    <tr>\n",
       "      <th>1066</th>\n",
       "      <td>[0.0, 0.0, 0.0, 0.0, 0.0, 0.0, 0.0, 0.0, 0.0, ...</td>\n",
       "    </tr>\n",
       "    <tr>\n",
       "      <th>1067</th>\n",
       "      <td>[0.30422462421440444, 0.0, 0.0, 0.0, 0.0, 0.0,...</td>\n",
       "    </tr>\n",
       "    <tr>\n",
       "      <th>1068</th>\n",
       "      <td>[0.0, 0.0, 0.0, 0.0, 0.0, 0.0, 0.0, 0.0, 0.0, ...</td>\n",
       "    </tr>\n",
       "    <tr>\n",
       "      <th>1069</th>\n",
       "      <td>[0.0, 0.0, 0.0, 0.0, 0.0, 0.0, 0.0, 0.0, 0.0, ...</td>\n",
       "    </tr>\n",
       "    <tr>\n",
       "      <th>1070</th>\n",
       "      <td>[0.0, 0.0, 0.0, 0.0, 0.0, 0.0, 0.0, 0.0, 0.0, ...</td>\n",
       "    </tr>\n",
       "  </tbody>\n",
       "</table>\n",
       "<p>1071 rows × 1 columns</p>\n",
       "</div>"
      ],
      "text/plain": [
       "                                                  tfidf\n",
       "0     [0.0, 0.0, 0.0, 0.0, 0.0, 0.0, 0.0, 0.0, 0.0, ...\n",
       "1     [0.0, 0.0, 0.0, 0.0, 0.0, 0.0, 0.0, 0.0, 0.0, ...\n",
       "2     [0.0, 0.0, 0.0, 0.0, 0.0, 0.0, 0.0, 0.0, 0.0, ...\n",
       "3     [0.0, 0.0, 0.0, 0.0, 0.0, 0.0, 0.0, 0.0, 0.0, ...\n",
       "4     [0.0, 0.0, 0.0, 0.0, 0.0, 0.0, 0.0, 0.0, 0.0, ...\n",
       "...                                                 ...\n",
       "1066  [0.0, 0.0, 0.0, 0.0, 0.0, 0.0, 0.0, 0.0, 0.0, ...\n",
       "1067  [0.30422462421440444, 0.0, 0.0, 0.0, 0.0, 0.0,...\n",
       "1068  [0.0, 0.0, 0.0, 0.0, 0.0, 0.0, 0.0, 0.0, 0.0, ...\n",
       "1069  [0.0, 0.0, 0.0, 0.0, 0.0, 0.0, 0.0, 0.0, 0.0, ...\n",
       "1070  [0.0, 0.0, 0.0, 0.0, 0.0, 0.0, 0.0, 0.0, 0.0, ...\n",
       "\n",
       "[1071 rows x 1 columns]"
      ]
     },
     "execution_count": 25,
     "metadata": {
      "tags": []
     },
     "output_type": "execute_result"
    }
   ],
   "source": [
    "df_temp = pd.DataFrame(temp, columns=['tfidf'])\n",
    "df_temp"
   ]
  },
  {
   "cell_type": "code",
   "execution_count": null,
   "metadata": {
    "colab": {
     "base_uri": "https://localhost:8080/",
     "height": 380
    },
    "id": "pYrUc4OMxovQ",
    "outputId": "a3edf62b-8654-4555-e93c-a8643f5deecc"
   },
   "outputs": [
    {
     "data": {
      "text/html": [
       "<div>\n",
       "<style scoped>\n",
       "    .dataframe tbody tr th:only-of-type {\n",
       "        vertical-align: middle;\n",
       "    }\n",
       "\n",
       "    .dataframe tbody tr th {\n",
       "        vertical-align: top;\n",
       "    }\n",
       "\n",
       "    .dataframe thead th {\n",
       "        text-align: right;\n",
       "    }\n",
       "</style>\n",
       "<table border=\"1\" class=\"dataframe\">\n",
       "  <thead>\n",
       "    <tr style=\"text-align: right;\">\n",
       "      <th></th>\n",
       "      <th>Date</th>\n",
       "      <th>Title</th>\n",
       "      <th>text_decont</th>\n",
       "      <th>text_no_punc</th>\n",
       "      <th>tk</th>\n",
       "      <th>tfidf</th>\n",
       "    </tr>\n",
       "  </thead>\n",
       "  <tbody>\n",
       "    <tr>\n",
       "      <th>0</th>\n",
       "      <td>2012-05-21</td>\n",
       "      <td>The investors on the trail of a British Facebo...</td>\n",
       "      <td>the investors on the trail of a british facebo...</td>\n",
       "      <td>the investors on the trail of a british facebo...</td>\n",
       "      <td>[the, investors, on, the, trail, of, a, britis...</td>\n",
       "      <td>[0.0, 0.0, 0.0, 0.0, 0.0, 0.0, 0.0, 0.0, 0.0, ...</td>\n",
       "    </tr>\n",
       "    <tr>\n",
       "      <th>1</th>\n",
       "      <td>2012-05-22</td>\n",
       "      <td>Facebook shares fall sharply on second day of ...</td>\n",
       "      <td>facebook shares fall sharply on second day of ...</td>\n",
       "      <td>facebook shares fall sharply on second day of ...</td>\n",
       "      <td>[facebook, shares, fall, sharply, on, second, ...</td>\n",
       "      <td>[0.0, 0.0, 0.0, 0.0, 0.0, 0.0, 0.0, 0.0, 0.0, ...</td>\n",
       "    </tr>\n",
       "    <tr>\n",
       "      <th>2</th>\n",
       "      <td>2012-05-23</td>\n",
       "      <td>Facebook IPO: banks investigated for allegedly...</td>\n",
       "      <td>facebook ipo: banks investigated for allegedly...</td>\n",
       "      <td>facebook ipo  banks investigated for allegedly...</td>\n",
       "      <td>[facebook, ipo, banks, investigated, for, alle...</td>\n",
       "      <td>[0.0, 0.0, 0.0, 0.0, 0.0, 0.0, 0.0, 0.0, 0.0, ...</td>\n",
       "    </tr>\n",
       "    <tr>\n",
       "      <th>3</th>\n",
       "      <td>2012-05-24</td>\n",
       "      <td>Facebook founder Mark Zuckerberg sees stock tu...</td>\n",
       "      <td>facebook founder mark zuckerberg sees stock tu...</td>\n",
       "      <td>facebook founder mark zuckerberg sees stock tu...</td>\n",
       "      <td>[facebook, founder, mark, zuckerberg, sees, st...</td>\n",
       "      <td>[0.0, 0.0, 0.0, 0.0, 0.0, 0.0, 0.0, 0.0, 0.0, ...</td>\n",
       "    </tr>\n",
       "    <tr>\n",
       "      <th>4</th>\n",
       "      <td>2012-05-25</td>\n",
       "      <td>Facebook banker Morgan Stanley tries to calm b...</td>\n",
       "      <td>facebook banker morgan stanley tries to calm b...</td>\n",
       "      <td>facebook banker morgan stanley tries to calm b...</td>\n",
       "      <td>[facebook, banker, morgan, stanley, tries, to,...</td>\n",
       "      <td>[0.0, 0.0, 0.0, 0.0, 0.0, 0.0, 0.0, 0.0, 0.0, ...</td>\n",
       "    </tr>\n",
       "  </tbody>\n",
       "</table>\n",
       "</div>"
      ],
      "text/plain": [
       "         Date  ...                                              tfidf\n",
       "0  2012-05-21  ...  [0.0, 0.0, 0.0, 0.0, 0.0, 0.0, 0.0, 0.0, 0.0, ...\n",
       "1  2012-05-22  ...  [0.0, 0.0, 0.0, 0.0, 0.0, 0.0, 0.0, 0.0, 0.0, ...\n",
       "2  2012-05-23  ...  [0.0, 0.0, 0.0, 0.0, 0.0, 0.0, 0.0, 0.0, 0.0, ...\n",
       "3  2012-05-24  ...  [0.0, 0.0, 0.0, 0.0, 0.0, 0.0, 0.0, 0.0, 0.0, ...\n",
       "4  2012-05-25  ...  [0.0, 0.0, 0.0, 0.0, 0.0, 0.0, 0.0, 0.0, 0.0, ...\n",
       "\n",
       "[5 rows x 6 columns]"
      ]
     },
     "execution_count": 26,
     "metadata": {
      "tags": []
     },
     "output_type": "execute_result"
    }
   ],
   "source": [
    "df_news = df_news.join(df_temp)\n",
    "df_news.head()"
   ]
  },
  {
   "cell_type": "markdown",
   "metadata": {
    "id": "ATsGq5jRAafn"
   },
   "source": [
    "## Load Stock Price Data"
   ]
  },
  {
   "cell_type": "code",
   "execution_count": null,
   "metadata": {
    "colab": {
     "base_uri": "https://localhost:8080/",
     "height": 206
    },
    "id": "ys7Vm3ylxovQ",
    "outputId": "88145512-1ec7-45cd-8ef3-0a8ed277c3d3"
   },
   "outputs": [
    {
     "data": {
      "text/html": [
       "<div>\n",
       "<style scoped>\n",
       "    .dataframe tbody tr th:only-of-type {\n",
       "        vertical-align: middle;\n",
       "    }\n",
       "\n",
       "    .dataframe tbody tr th {\n",
       "        vertical-align: top;\n",
       "    }\n",
       "\n",
       "    .dataframe thead th {\n",
       "        text-align: right;\n",
       "    }\n",
       "</style>\n",
       "<table border=\"1\" class=\"dataframe\">\n",
       "  <thead>\n",
       "    <tr style=\"text-align: right;\">\n",
       "      <th></th>\n",
       "      <th>Date</th>\n",
       "      <th>Close</th>\n",
       "    </tr>\n",
       "  </thead>\n",
       "  <tbody>\n",
       "    <tr>\n",
       "      <th>0</th>\n",
       "      <td>5/18/2012 16:00:00</td>\n",
       "      <td>38.23</td>\n",
       "    </tr>\n",
       "    <tr>\n",
       "      <th>1</th>\n",
       "      <td>5/21/2012 16:00:00</td>\n",
       "      <td>34.03</td>\n",
       "    </tr>\n",
       "    <tr>\n",
       "      <th>2</th>\n",
       "      <td>5/22/2012 16:00:00</td>\n",
       "      <td>31.00</td>\n",
       "    </tr>\n",
       "    <tr>\n",
       "      <th>3</th>\n",
       "      <td>5/23/2012 16:00:00</td>\n",
       "      <td>32.00</td>\n",
       "    </tr>\n",
       "    <tr>\n",
       "      <th>4</th>\n",
       "      <td>5/24/2012 16:00:00</td>\n",
       "      <td>33.03</td>\n",
       "    </tr>\n",
       "  </tbody>\n",
       "</table>\n",
       "</div>"
      ],
      "text/plain": [
       "                 Date  Close\n",
       "0  5/18/2012 16:00:00  38.23\n",
       "1  5/21/2012 16:00:00  34.03\n",
       "2  5/22/2012 16:00:00  31.00\n",
       "3  5/23/2012 16:00:00  32.00\n",
       "4  5/24/2012 16:00:00  33.03"
      ]
     },
     "execution_count": 27,
     "metadata": {
      "tags": []
     },
     "output_type": "execute_result"
    }
   ],
   "source": [
    "df_stock = pd.read_csv('/content/drive/MyDrive/stock_prediction/data/Stock Price - FB.csv', skiprows=1)\n",
    "df_stock.head()"
   ]
  },
  {
   "cell_type": "code",
   "execution_count": null,
   "metadata": {
    "id": "-cmpRK_sxovR"
   },
   "outputs": [],
   "source": [
    "df_stock['Date'] = pd.to_datetime(df_stock['Date'], infer_datetime_format=True).dt.date"
   ]
  },
  {
   "cell_type": "code",
   "execution_count": null,
   "metadata": {
    "id": "NJRb-TcyxovR"
   },
   "outputs": [],
   "source": [
    "df_stock = df_stock.set_index('Date').join(df_news.set_index('Date'))"
   ]
  },
  {
   "cell_type": "code",
   "execution_count": null,
   "metadata": {
    "id": "Euki_frfppKn"
   },
   "outputs": [],
   "source": [
    "df_stock.reset_index(inplace=True)"
   ]
  },
  {
   "cell_type": "markdown",
   "metadata": {
    "id": "cLuKm4YZGR5d"
   },
   "source": [
    "## Replace NaN TI-IDF by Zero Vector"
   ]
  },
  {
   "cell_type": "code",
   "execution_count": null,
   "metadata": {
    "id": "51AxamIxxovR"
   },
   "outputs": [],
   "source": [
    "def tfidf_zero(list_):\n",
    "    if type(list_) == float:\n",
    "        list_ = np.zeros(len(tfvec.get_feature_names()), dtype=float)\n",
    "    else:\n",
    "        list_ = np.array(list_)\n",
    "    return list_"
   ]
  },
  {
   "cell_type": "code",
   "execution_count": null,
   "metadata": {
    "id": "x4dUF8nXxovS"
   },
   "outputs": [],
   "source": [
    "df_stock['tfidf_new'] = df_stock['tfidf'].apply(lambda x: tfidf_zero(x))"
   ]
  },
  {
   "cell_type": "code",
   "execution_count": null,
   "metadata": {
    "id": "1OutCxVYxovS"
   },
   "outputs": [],
   "source": [
    "df_stock.reset_index(inplace=True)"
   ]
  },
  {
   "cell_type": "code",
   "execution_count": null,
   "metadata": {
    "colab": {
     "base_uri": "https://localhost:8080/",
     "height": 857
    },
    "id": "9aVMe-6RxovS",
    "outputId": "31f90888-c9af-479f-ba08-733bfab898ab"
   },
   "outputs": [
    {
     "data": {
      "text/html": [
       "<div>\n",
       "<style scoped>\n",
       "    .dataframe tbody tr th:only-of-type {\n",
       "        vertical-align: middle;\n",
       "    }\n",
       "\n",
       "    .dataframe tbody tr th {\n",
       "        vertical-align: top;\n",
       "    }\n",
       "\n",
       "    .dataframe thead th {\n",
       "        text-align: right;\n",
       "    }\n",
       "</style>\n",
       "<table border=\"1\" class=\"dataframe\">\n",
       "  <thead>\n",
       "    <tr style=\"text-align: right;\">\n",
       "      <th></th>\n",
       "      <th>index</th>\n",
       "      <th>Date</th>\n",
       "      <th>Close</th>\n",
       "      <th>Title</th>\n",
       "      <th>text_decont</th>\n",
       "      <th>text_no_punc</th>\n",
       "      <th>tk</th>\n",
       "      <th>tfidf</th>\n",
       "      <th>tfidf_new</th>\n",
       "    </tr>\n",
       "  </thead>\n",
       "  <tbody>\n",
       "    <tr>\n",
       "      <th>0</th>\n",
       "      <td>0</td>\n",
       "      <td>2012-05-18</td>\n",
       "      <td>38.23</td>\n",
       "      <td>NaN</td>\n",
       "      <td>NaN</td>\n",
       "      <td>NaN</td>\n",
       "      <td>NaN</td>\n",
       "      <td>NaN</td>\n",
       "      <td>[0.0, 0.0, 0.0, 0.0, 0.0, 0.0, 0.0, 0.0, 0.0, ...</td>\n",
       "    </tr>\n",
       "    <tr>\n",
       "      <th>1</th>\n",
       "      <td>1</td>\n",
       "      <td>2012-05-21</td>\n",
       "      <td>34.03</td>\n",
       "      <td>The investors on the trail of a British Facebo...</td>\n",
       "      <td>the investors on the trail of a british facebo...</td>\n",
       "      <td>the investors on the trail of a british facebo...</td>\n",
       "      <td>[the, investors, on, the, trail, of, a, britis...</td>\n",
       "      <td>[0.0, 0.0, 0.0, 0.0, 0.0, 0.0, 0.0, 0.0, 0.0, ...</td>\n",
       "      <td>[0.0, 0.0, 0.0, 0.0, 0.0, 0.0, 0.0, 0.0, 0.0, ...</td>\n",
       "    </tr>\n",
       "    <tr>\n",
       "      <th>2</th>\n",
       "      <td>2</td>\n",
       "      <td>2012-05-22</td>\n",
       "      <td>31.00</td>\n",
       "      <td>Facebook shares fall sharply on second day of ...</td>\n",
       "      <td>facebook shares fall sharply on second day of ...</td>\n",
       "      <td>facebook shares fall sharply on second day of ...</td>\n",
       "      <td>[facebook, shares, fall, sharply, on, second, ...</td>\n",
       "      <td>[0.0, 0.0, 0.0, 0.0, 0.0, 0.0, 0.0, 0.0, 0.0, ...</td>\n",
       "      <td>[0.0, 0.0, 0.0, 0.0, 0.0, 0.0, 0.0, 0.0, 0.0, ...</td>\n",
       "    </tr>\n",
       "    <tr>\n",
       "      <th>3</th>\n",
       "      <td>3</td>\n",
       "      <td>2012-05-23</td>\n",
       "      <td>32.00</td>\n",
       "      <td>Facebook IPO: banks investigated for allegedly...</td>\n",
       "      <td>facebook ipo: banks investigated for allegedly...</td>\n",
       "      <td>facebook ipo  banks investigated for allegedly...</td>\n",
       "      <td>[facebook, ipo, banks, investigated, for, alle...</td>\n",
       "      <td>[0.0, 0.0, 0.0, 0.0, 0.0, 0.0, 0.0, 0.0, 0.0, ...</td>\n",
       "      <td>[0.0, 0.0, 0.0, 0.0, 0.0, 0.0, 0.0, 0.0, 0.0, ...</td>\n",
       "    </tr>\n",
       "    <tr>\n",
       "      <th>4</th>\n",
       "      <td>4</td>\n",
       "      <td>2012-05-24</td>\n",
       "      <td>33.03</td>\n",
       "      <td>Facebook founder Mark Zuckerberg sees stock tu...</td>\n",
       "      <td>facebook founder mark zuckerberg sees stock tu...</td>\n",
       "      <td>facebook founder mark zuckerberg sees stock tu...</td>\n",
       "      <td>[facebook, founder, mark, zuckerberg, sees, st...</td>\n",
       "      <td>[0.0, 0.0, 0.0, 0.0, 0.0, 0.0, 0.0, 0.0, 0.0, ...</td>\n",
       "      <td>[0.0, 0.0, 0.0, 0.0, 0.0, 0.0, 0.0, 0.0, 0.0, ...</td>\n",
       "    </tr>\n",
       "    <tr>\n",
       "      <th>...</th>\n",
       "      <td>...</td>\n",
       "      <td>...</td>\n",
       "      <td>...</td>\n",
       "      <td>...</td>\n",
       "      <td>...</td>\n",
       "      <td>...</td>\n",
       "      <td>...</td>\n",
       "      <td>...</td>\n",
       "      <td>...</td>\n",
       "    </tr>\n",
       "    <tr>\n",
       "      <th>2275</th>\n",
       "      <td>2275</td>\n",
       "      <td>2021-06-04</td>\n",
       "      <td>330.35</td>\n",
       "      <td>NaN</td>\n",
       "      <td>NaN</td>\n",
       "      <td>NaN</td>\n",
       "      <td>NaN</td>\n",
       "      <td>NaN</td>\n",
       "      <td>[0.0, 0.0, 0.0, 0.0, 0.0, 0.0, 0.0, 0.0, 0.0, ...</td>\n",
       "    </tr>\n",
       "    <tr>\n",
       "      <th>2276</th>\n",
       "      <td>2276</td>\n",
       "      <td>2021-06-07</td>\n",
       "      <td>336.58</td>\n",
       "      <td>UK and EU investigate Facebook over unfair use...</td>\n",
       "      <td>uk and eu investigate facebook over unfair use...</td>\n",
       "      <td>uk and eu investigate facebook over unfair use...</td>\n",
       "      <td>[uk, and, eu, investigate, facebook, over, unf...</td>\n",
       "      <td>[0.0, 0.0, 0.0, 0.0, 0.0, 0.0, 0.0, 0.0, 0.0, ...</td>\n",
       "      <td>[0.0, 0.0, 0.0, 0.0, 0.0, 0.0, 0.0, 0.0, 0.0, ...</td>\n",
       "    </tr>\n",
       "    <tr>\n",
       "      <th>2277</th>\n",
       "      <td>2277</td>\n",
       "      <td>2021-06-08</td>\n",
       "      <td>333.68</td>\n",
       "      <td>NaN</td>\n",
       "      <td>NaN</td>\n",
       "      <td>NaN</td>\n",
       "      <td>NaN</td>\n",
       "      <td>NaN</td>\n",
       "      <td>[0.0, 0.0, 0.0, 0.0, 0.0, 0.0, 0.0, 0.0, 0.0, ...</td>\n",
       "    </tr>\n",
       "    <tr>\n",
       "      <th>2278</th>\n",
       "      <td>2278</td>\n",
       "      <td>2021-06-09</td>\n",
       "      <td>330.25</td>\n",
       "      <td>NaN</td>\n",
       "      <td>NaN</td>\n",
       "      <td>NaN</td>\n",
       "      <td>NaN</td>\n",
       "      <td>NaN</td>\n",
       "      <td>[0.0, 0.0, 0.0, 0.0, 0.0, 0.0, 0.0, 0.0, 0.0, ...</td>\n",
       "    </tr>\n",
       "    <tr>\n",
       "      <th>2279</th>\n",
       "      <td>2279</td>\n",
       "      <td>2021-06-10</td>\n",
       "      <td>332.46</td>\n",
       "      <td>NaN</td>\n",
       "      <td>NaN</td>\n",
       "      <td>NaN</td>\n",
       "      <td>NaN</td>\n",
       "      <td>NaN</td>\n",
       "      <td>[0.0, 0.0, 0.0, 0.0, 0.0, 0.0, 0.0, 0.0, 0.0, ...</td>\n",
       "    </tr>\n",
       "  </tbody>\n",
       "</table>\n",
       "<p>2280 rows × 9 columns</p>\n",
       "</div>"
      ],
      "text/plain": [
       "      index  ...                                          tfidf_new\n",
       "0         0  ...  [0.0, 0.0, 0.0, 0.0, 0.0, 0.0, 0.0, 0.0, 0.0, ...\n",
       "1         1  ...  [0.0, 0.0, 0.0, 0.0, 0.0, 0.0, 0.0, 0.0, 0.0, ...\n",
       "2         2  ...  [0.0, 0.0, 0.0, 0.0, 0.0, 0.0, 0.0, 0.0, 0.0, ...\n",
       "3         3  ...  [0.0, 0.0, 0.0, 0.0, 0.0, 0.0, 0.0, 0.0, 0.0, ...\n",
       "4         4  ...  [0.0, 0.0, 0.0, 0.0, 0.0, 0.0, 0.0, 0.0, 0.0, ...\n",
       "...     ...  ...                                                ...\n",
       "2275   2275  ...  [0.0, 0.0, 0.0, 0.0, 0.0, 0.0, 0.0, 0.0, 0.0, ...\n",
       "2276   2276  ...  [0.0, 0.0, 0.0, 0.0, 0.0, 0.0, 0.0, 0.0, 0.0, ...\n",
       "2277   2277  ...  [0.0, 0.0, 0.0, 0.0, 0.0, 0.0, 0.0, 0.0, 0.0, ...\n",
       "2278   2278  ...  [0.0, 0.0, 0.0, 0.0, 0.0, 0.0, 0.0, 0.0, 0.0, ...\n",
       "2279   2279  ...  [0.0, 0.0, 0.0, 0.0, 0.0, 0.0, 0.0, 0.0, 0.0, ...\n",
       "\n",
       "[2280 rows x 9 columns]"
      ]
     },
     "execution_count": 34,
     "metadata": {
      "tags": []
     },
     "output_type": "execute_result"
    }
   ],
   "source": [
    "df_stock"
   ]
  },
  {
   "cell_type": "markdown",
   "metadata": {
    "id": "9siJkLGKtLk5"
   },
   "source": [
    "# 3. Train-test split"
   ]
  },
  {
   "cell_type": "code",
   "execution_count": null,
   "metadata": {
    "id": "bHMAdCQpr324"
   },
   "outputs": [],
   "source": [
    "df_stock = df_stock.fillna('')"
   ]
  },
  {
   "cell_type": "code",
   "execution_count": null,
   "metadata": {
    "colab": {
     "base_uri": "https://localhost:8080/"
    },
    "id": "C7t1ZxxOtLk5",
    "outputId": "3e313838-64b1-48c9-9c37-61c02e1cce65"
   },
   "outputs": [
    {
     "name": "stdout",
     "output_type": "stream",
     "text": [
      "Training set: 1917 accounted for  84.07894736842105 %\n",
      "Val set: 168 accounted for  7.368421052631578 %\n",
      "Test set: 195 accounted for  8.552631578947368 %\n"
     ]
    },
    {
     "name": "stderr",
     "output_type": "stream",
     "text": [
      "/usr/local/lib/python3.7/dist-packages/ipykernel_launcher.py:4: UserWarning: Boolean Series key will be reindexed to match DataFrame index.\n",
      "  after removing the cwd from sys.path.\n"
     ]
    }
   ],
   "source": [
    "df_stock['Date'] = pd.to_datetime(df_stock['Date'], format='%Y-%m-%d')\n",
    "\n",
    "train_data = df_stock[df_stock['Date'] < '2020-01-01'].copy()\n",
    "val_data = df_stock[df_stock['Date'] < '2020-09-01'][df_stock['Date'] > '2019-12-31'].copy()\n",
    "test_data = df_stock[df_stock['Date'] > '2020-08-31'].copy()\n",
    "\n",
    "val_data = val_data.set_index('Date')\n",
    "train_data = train_data.set_index('Date')\n",
    "test_data = test_data.set_index('Date')\n",
    "\n",
    "print('Training set:', train_data.shape[0], 'accounted for ',train_data.shape[0]/df_stock.shape[0]*100,'%')\n",
    "print('Val set:', val_data.shape[0], 'accounted for ',val_data.shape[0]/df_stock.shape[0]*100,'%')\n",
    "print('Test set:', test_data.shape[0], 'accounted for ',test_data.shape[0]/df_stock.shape[0]*100,'%')"
   ]
  },
  {
   "cell_type": "markdown",
   "metadata": {
    "id": "bhydodn6tLk6"
   },
   "source": [
    "# 4. Historical Price\n",
    "## Data normalization"
   ]
  },
  {
   "cell_type": "code",
   "execution_count": null,
   "metadata": {
    "id": "3EhdO4iX_PUU"
   },
   "outputs": [],
   "source": [
    "# Scaling the training set\n",
    "transform_train = {}\n",
    "transform_val = {}\n",
    "transform_test = {}\n",
    "scaled_aa = {}\n",
    "scaler = {}\n",
    "\n",
    "sc = MinMaxScaler(feature_range=(0,1))\n",
    "\n",
    "aa = np.array(df_stock.Close)\n",
    "aa = aa.reshape(aa.shape[0],1)\n",
    "\n",
    "a0 = np.array(train_data.Close)\n",
    "a1 = np.array(test_data.Close)\n",
    "a2 = np.array(val_data.Close)\n",
    "\n",
    "a0 = a0.reshape(a0.shape[0],1)\n",
    "a1 = a1.reshape(a1.shape[0],1)\n",
    "a2 = a2.reshape(a2.shape[0],1)\n",
    "\n",
    "scaled_aa = sc.fit_transform(aa)\n",
    "\n",
    "transform_train = sc.transform(a0)\n",
    "transform_test = sc.transform(a1)\n",
    "transform_val = sc.transform(a2)\n",
    "\n",
    "scaler = sc\n",
    "    \n",
    "del aa\n",
    "del a0\n",
    "del a1\n",
    "del a2"
   ]
  },
  {
   "cell_type": "markdown",
   "metadata": {
    "id": "lCVZXWURtLk6"
   },
   "source": [
    "## Windowing Input Data"
   ]
  },
  {
   "cell_type": "code",
   "execution_count": null,
   "metadata": {
    "id": "bVoL395QtLk7"
   },
   "outputs": [],
   "source": [
    "#windowing size\n",
    "n_lags = int(60)\n",
    "\n",
    "trainset = {}\n",
    "testset = {}\n",
    "valset = {}\n",
    "    \n",
    "X_train = []\n",
    "y_train = []\n",
    "for i in range(n_lags,train_data.shape[0]):\n",
    "    X_train.append(transform_train[i-n_lags:i])\n",
    "    y_train.append(transform_train[i])\n",
    "X_train, y_train = np.array(X_train), np.array(y_train)\n",
    "trainset[\"X\"] = np.reshape(X_train, (X_train.shape[0],X_train.shape[1],1))\n",
    "trainset[\"y\"] = y_train\n",
    "\n",
    "X_test = []\n",
    "y_test = []    \n",
    "for i in range(n_lags, test_data.shape[0]):\n",
    "    X_test.append(transform_test[i-n_lags:i])\n",
    "    y_test.append(transform_test[i])\n",
    "X_test, y_test = np.array(X_test), np.array(y_test)\n",
    "testset[\"X\"] = np.reshape(X_test, (X_test.shape[0], X_test.shape[1], 1))\n",
    "testset[\"y\"] = y_test\n",
    "\n",
    "X_val = []\n",
    "y_val = []    \n",
    "for i in range(n_lags, val_data.shape[0]):\n",
    "    X_val.append(transform_val[i-n_lags:i])\n",
    "    y_val.append(transform_val[i])\n",
    "X_val, y_val = np.array(X_val), np.array(y_val)\n",
    "valset[\"X\"] = np.reshape(X_val, (X_val.shape[0], X_val.shape[1], 1))\n",
    "valset[\"y\"] = y_val"
   ]
  },
  {
   "cell_type": "code",
   "execution_count": null,
   "metadata": {
    "colab": {
     "base_uri": "https://localhost:8080/",
     "height": 81
    },
    "id": "QVwy1UDUtLk7",
    "outputId": "02917334-5139-4a7b-8c1c-312fed561750"
   },
   "outputs": [
    {
     "data": {
      "text/html": [
       "<div>\n",
       "<style scoped>\n",
       "    .dataframe tbody tr th:only-of-type {\n",
       "        vertical-align: middle;\n",
       "    }\n",
       "\n",
       "    .dataframe tbody tr th {\n",
       "        vertical-align: top;\n",
       "    }\n",
       "\n",
       "    .dataframe thead th {\n",
       "        text-align: right;\n",
       "    }\n",
       "</style>\n",
       "<table border=\"1\" class=\"dataframe\">\n",
       "  <thead>\n",
       "    <tr style=\"text-align: right;\">\n",
       "      <th></th>\n",
       "      <th>X_train</th>\n",
       "      <th>y_train</th>\n",
       "      <th>X_test</th>\n",
       "      <th>y_test</th>\n",
       "      <th>X_val</th>\n",
       "      <th>y_val</th>\n",
       "    </tr>\n",
       "  </thead>\n",
       "  <tbody>\n",
       "    <tr>\n",
       "      <th>0</th>\n",
       "      <td>(1857, 60, 1)</td>\n",
       "      <td>(1857, 1)</td>\n",
       "      <td>(135, 60, 1)</td>\n",
       "      <td>(135, 1)</td>\n",
       "      <td>(108, 60, 1)</td>\n",
       "      <td>(108, 1)</td>\n",
       "    </tr>\n",
       "  </tbody>\n",
       "</table>\n",
       "</div>"
      ],
      "text/plain": [
       "         X_train    y_train        X_test    y_test         X_val     y_val\n",
       "0  (1857, 60, 1)  (1857, 1)  (135, 60, 1)  (135, 1)  (108, 60, 1)  (108, 1)"
      ]
     },
     "execution_count": 39,
     "metadata": {
      "tags": []
     },
     "output_type": "execute_result"
    }
   ],
   "source": [
    "# Check the shape (again) before start training\n",
    "arr_buff = []\n",
    "buff = {}\n",
    "buff[\"X_train\"] = trainset[\"X\"].shape\n",
    "buff[\"y_train\"] = trainset[\"y\"].shape\n",
    "buff[\"X_test\"] = testset[\"X\"].shape\n",
    "buff[\"y_test\"] = testset[\"y\"].shape\n",
    "buff[\"X_val\"] = valset[\"X\"].shape\n",
    "buff[\"y_val\"] = valset[\"y\"].shape\n",
    "arr_buff.append(buff)\n",
    "\n",
    "pd.DataFrame(arr_buff)"
   ]
  },
  {
   "cell_type": "markdown",
   "metadata": {
    "id": "1Xt6Xl5wsmJr"
   },
   "source": [
    "# 5. Word Embedding"
   ]
  },
  {
   "cell_type": "code",
   "execution_count": null,
   "metadata": {
    "id": "wHTJjObIoRkQ"
   },
   "outputs": [],
   "source": [
    "import gensim\n",
    "from gensim.models import Word2Vec\n",
    "#setting\n",
    "vector_dim = 750\n",
    "window_size = 5\n",
    "min_count = 1\n",
    "training_iter = 20\n",
    "\n",
    "#model\n",
    "word2vec_model = Word2Vec(sentences=df_news.tk.values, size=vector_dim, window=window_size, \n",
    "                          min_count=min_count, iter=training_iter)"
   ]
  },
  {
   "cell_type": "code",
   "execution_count": null,
   "metadata": {
    "id": "BeaJ9I4KokqD"
   },
   "outputs": [],
   "source": [
    "#save model in ASCII (word2vec) format\n",
    "filename = '/content/drive/MyDrive/stock_prediction/FB/embedding_word2vec.txt'\n",
    "word2vec_model.wv.save_word2vec_format(filename, binary=False)"
   ]
  },
  {
   "cell_type": "code",
   "execution_count": null,
   "metadata": {
    "id": "5-GvPX6ko82w"
   },
   "outputs": [],
   "source": [
    "from keras.preprocessing.text import Tokenizer\n",
    "from keras.preprocessing.sequence import pad_sequences\n",
    "\n",
    "#find the longest tweet and use its length as number of embedding features\n",
    "maxlen = max([len(s.split()) for s in train_data.text_no_punc[n_lags:]])\n",
    "\n",
    "#tokenizer, sequence & padding\n",
    "tokenizer = Tokenizer()\n",
    "tokenizer.fit_on_texts(train_data.text_no_punc)\n",
    "xtrain_word_index = tokenizer.word_index\n",
    "xtrain_sequences = tokenizer.texts_to_sequences(train_data.text_no_punc[n_lags:])\n",
    "news_train = pad_sequences(xtrain_sequences, maxlen, padding='pre')\n",
    "news_test = pad_sequences(tokenizer.texts_to_sequences(test_data.text_no_punc[n_lags:].str.lower())\n",
    "                       ,maxlen, padding='pre')\n",
    "news_val = pad_sequences(tokenizer.texts_to_sequences(val_data.text_no_punc[n_lags:].str.lower())\n",
    "                       ,maxlen, padding='pre')"
   ]
  },
  {
   "cell_type": "code",
   "execution_count": null,
   "metadata": {
    "colab": {
     "base_uri": "https://localhost:8080/"
    },
    "id": "uUE7Uu7W8JQk",
    "outputId": "a98677fc-5448-40df-c094-12a125fc1626"
   },
   "outputs": [
    {
     "data": {
      "text/plain": [
       "100"
      ]
     },
     "execution_count": 43,
     "metadata": {
      "tags": []
     },
     "output_type": "execute_result"
    }
   ],
   "source": [
    "maxlen"
   ]
  },
  {
   "cell_type": "code",
   "execution_count": null,
   "metadata": {
    "colab": {
     "base_uri": "https://localhost:8080/"
    },
    "id": "LnimwBeVtfis",
    "outputId": "dd2c8cd8-8f49-4973-98ee-394d51110c25"
   },
   "outputs": [
    {
     "data": {
      "text/plain": [
       "(1857, 100)"
      ]
     },
     "execution_count": 44,
     "metadata": {
      "tags": []
     },
     "output_type": "execute_result"
    }
   ],
   "source": [
    "news_train.shape"
   ]
  },
  {
   "cell_type": "markdown",
   "metadata": {
    "id": "czwrwYUssijt"
   },
   "source": [
    "## Load Pre-trained Word Embedding"
   ]
  },
  {
   "cell_type": "code",
   "execution_count": null,
   "metadata": {
    "colab": {
     "base_uri": "https://localhost:8080/"
    },
    "id": "xL7z9-sRsq-x",
    "outputId": "70f8c878-abd8-471c-d710-2d7483e006b2"
   },
   "outputs": [
    {
     "name": "stdout",
     "output_type": "stream",
     "text": [
      "Converted 3369 words (13 misses)\n"
     ]
    }
   ],
   "source": [
    "#load embedding as a dict\n",
    "def load_embedding(filename):\n",
    "    # load embedding into memory, skip first line\n",
    "    file = open(filename,'r')\n",
    "    lines = file.readlines()[1:]\n",
    "    file.close()\n",
    "    # create a map of words to vectors\n",
    "    embedding = dict()\n",
    "    for line in lines:\n",
    "        parts = line.split()\n",
    "        # key is string word, value is numpy array for vector\n",
    "        embedding[parts[0]] = np.asarray(parts[1:], dtype='float32')\n",
    "    return embedding\n",
    "\n",
    "# create a weight matrix for the Embedding layer from a loaded embedding\n",
    "def get_weight_matrix(embedding, vocab):\n",
    "    # total vocabulary size plus 0 for unknown words\n",
    "    vocab_size = len(vocab) + 1\n",
    "    # define weight matrix dimensions with all 0\n",
    "    weight_matrix = np.zeros((vocab_size, vector_dim))\n",
    "    # step vocab, store vectors using the Tokenizer's integer mapping\n",
    "    hits = 0\n",
    "    misses = 0\n",
    "    for word, i in vocab.items():\n",
    "        embedding_vector = embedding.get(word)\n",
    "        if embedding_vector is not None:\n",
    "            # Words not found in embedding index will be all-zeros.\n",
    "            weight_matrix[i] = embedding_vector\n",
    "            hits += 1\n",
    "        else:\n",
    "            misses += 1\n",
    "    print(\"Converted %d words (%d misses)\" % (hits, misses))\n",
    "    return weight_matrix, vocab_size\n",
    "\n",
    "# load embedding from pre-trained embedding file\n",
    "raw_embedding = load_embedding('/content/drive/MyDrive/stock_prediction/FB/embedding_word2vec.txt')\n",
    "\n",
    "# get vectors in the right order\n",
    "embedding_vectors, vocab_size = get_weight_matrix(raw_embedding, tokenizer.word_index)"
   ]
  },
  {
   "cell_type": "markdown",
   "metadata": {
    "id": "SywMtgMKxovV"
   },
   "source": [
    "# 6. Seq2seq Model with Word2Vec"
   ]
  },
  {
   "cell_type": "code",
   "execution_count": null,
   "metadata": {
    "colab": {
     "base_uri": "https://localhost:8080/"
    },
    "id": "pE3BXAb8xovV",
    "outputId": "4b4728e0-d353-4dfb-be8a-7f43f8de68ab"
   },
   "outputs": [
    {
     "name": "stdout",
     "output_type": "stream",
     "text": [
      "CPU times: user 1.61 s, sys: 444 ms, total: 2.05 s\n",
      "Wall time: 6.05 s\n"
     ]
    }
   ],
   "source": [
    "%%time\n",
    "# LSTM architecture\n",
    "# FIRST BRANCH operates on the first input\n",
    "# 1st layer with Dropout regularisation\n",
    "lstm_input = Input(shape=(X_train.shape[1],1))\n",
    "x = Bidirectional(GRU(units=60, return_sequences=True))(lstm_input)\n",
    "x = Dropout(0.2)(x)\n",
    "\n",
    "# 2nd LSTM layer\n",
    "x = GRU(units=60)(x)\n",
    "x = Dropout(0.2)(x)\n",
    "\n",
    "lstm_branch = Model(inputs=lstm_input, outputs=x)\n",
    "\n",
    "# SECOND BRANCH operates on the first input\n",
    "embedding_layer = Embedding(vocab_size, vector_dim, weights=[embedding_vectors]\n",
    "                            ,input_length=maxlen, trainable=False)\n",
    "sequence_input = Input(shape=(maxlen,), dtype='int32')\n",
    "embedded_sequences = embedding_layer(sequence_input)\n",
    "\n",
    "y = Bidirectional(GRU(units=64, return_sequences=True))(embedded_sequences)\n",
    "y = Dropout(0.2)(y)\n",
    "y = GRU(units=64, return_sequences=True)(y)\n",
    "y = Dropout(0.2)(y)\n",
    "y = GRU(units=64)(y)\n",
    "y = Dropout(0.2)(y)\n",
    "news_branch = Model(inputs=sequence_input, outputs=y)\n",
    "\n",
    "# combine the output of the two branches\n",
    "combined = concatenate([lstm_branch.output, news_branch.output], name='combined')\n",
    "# Output layer\n",
    "z = Dense(25)(combined)\n",
    "z = Dense(1)(z)\n",
    "multi_model = Model(inputs=[lstm_branch.input, news_branch.input], outputs=z)\n",
    "\n",
    "# Compiling\n",
    "multi_model.compile(optimizer='adam', loss='mean_squared_error')"
   ]
  },
  {
   "cell_type": "code",
   "execution_count": null,
   "metadata": {
    "colab": {
     "base_uri": "https://localhost:8080/",
     "height": 1000
    },
    "id": "dHlWWHzqxovW",
    "outputId": "51a3368d-c63b-4f2d-eb0e-86979f864da0"
   },
   "outputs": [
    {
     "data": {
      "image/png": "[encoded data removed]",
      "text/plain": [
       "<IPython.core.display.Image object>"
      ]
     },
     "execution_count": 47,
     "metadata": {
      "tags": []
     },
     "output_type": "execute_result"
    }
   ],
   "source": [
    "from tensorflow.keras.utils import plot_model\n",
    "plot_model(multi_model, show_shapes=True)"
   ]
  },
  {
   "cell_type": "code",
   "execution_count": null,
   "metadata": {
    "colab": {
     "base_uri": "https://localhost:8080/"
    },
    "id": "-TkrNo22xovW",
    "outputId": "adcecdd7-914b-4080-d453-3c271cd50c0a"
   },
   "outputs": [
    {
     "name": "stderr",
     "output_type": "stream",
     "text": [
      "/usr/local/lib/python3.7/dist-packages/tensorflow/python/data/ops/dataset_ops.py:3704: UserWarning: Even though the `tf.config.experimental_run_functions_eagerly` option is set, this option does not apply to tf.data functions. To force eager execution of tf.data functions, please use `tf.data.experimental.enable.debug_mode()`.\n",
      "  \"Even though the `tf.config.experimental_run_functions_eagerly` \"\n"
     ]
    },
    {
     "name": "stdout",
     "output_type": "stream",
     "text": [
      "Epoch 1/100\n",
      "30/30 [==============================] - 10s 80ms/step - loss: 0.0620 - val_loss: 0.0069\n",
      "Epoch 2/100\n",
      "30/30 [==============================] - 2s 81ms/step - loss: 0.0023 - val_loss: 6.4802e-04\n",
      "Epoch 3/100\n",
      "30/30 [==============================] - 2s 81ms/step - loss: 0.0017 - val_loss: 5.6873e-04\n",
      "Epoch 4/100\n",
      "30/30 [==============================] - 2s 78ms/step - loss: 0.0011 - val_loss: 5.4965e-04\n",
      "Epoch 5/100\n",
      "30/30 [==============================] - 2s 76ms/step - loss: 0.0010 - val_loss: 6.6582e-04\n",
      "Epoch 6/100\n",
      "30/30 [==============================] - 2s 79ms/step - loss: 9.2271e-04 - val_loss: 0.0027\n",
      "Epoch 7/100\n",
      "30/30 [==============================] - 3s 86ms/step - loss: 9.6422e-04 - val_loss: 8.4457e-04\n",
      "Epoch 8/100\n",
      "30/30 [==============================] - 2s 79ms/step - loss: 6.8750e-04 - val_loss: 6.3389e-04\n",
      "Epoch 9/100\n",
      "30/30 [==============================] - 2s 81ms/step - loss: 8.1786e-04 - val_loss: 9.8400e-04\n"
     ]
    },
    {
     "data": {
      "text/plain": [
       "<keras.callbacks.History at 0x7f76206cce10>"
      ]
     },
     "execution_count": 48,
     "metadata": {
      "tags": []
     },
     "output_type": "execute_result"
    }
   ],
   "source": [
    "from keras.callbacks import CSVLogger\n",
    "logger_filename = '/content/drive/MyDrive/stock_prediction/FB/training_log_seq2seq_model.csv'\n",
    "\n",
    "my_callback = [\n",
    "               EarlyStopping(patience=5,monitor='val_loss'),\n",
    "               CSVLogger(filename=logger_filename)\n",
    "\n",
    "]\n",
    "\n",
    "# training setting\n",
    "epochs = 100\n",
    "batch_size = 64\n",
    "\n",
    "# Fitting to the training set\n",
    "multi_model.fit([trainset['X'], news_train], trainset['y'], epochs=epochs, batch_size=batch_size, callbacks=my_callback\n",
    "                              , validation_data=([valset['X'], news_val], valset['y']))"
   ]
  },
  {
   "cell_type": "code",
   "execution_count": null,
   "metadata": {
    "id": "tMPqYLQsxovW"
   },
   "outputs": [],
   "source": [
    "multi_model.save('/content/drive/MyDrive/stock_prediction/FB/stock_pred_seq2seq_model.h5')"
   ]
  },
  {
   "cell_type": "markdown",
   "metadata": {
    "id": "kll2CRCAxovX"
   },
   "source": [
    "## Evaluation"
   ]
  },
  {
   "cell_type": "code",
   "execution_count": null,
   "metadata": {
    "colab": {
     "base_uri": "https://localhost:8080/",
     "height": 298
    },
    "id": "nKE4ScqExovX",
    "outputId": "e9a5caf7-b8e9-4702-a245-b7a7335cd099"
   },
   "outputs": [
    {
     "name": "stderr",
     "output_type": "stream",
     "text": [
      "/usr/local/lib/python3.7/dist-packages/tensorflow/python/data/ops/dataset_ops.py:3704: UserWarning: Even though the `tf.config.experimental_run_functions_eagerly` option is set, this option does not apply to tf.data functions. To force eager execution of tf.data functions, please use `tf.data.experimental.enable.debug_mode()`.\n",
      "  \"Even though the `tf.config.experimental_run_functions_eagerly` \"\n",
      "/usr/local/lib/python3.7/dist-packages/tensorflow/python/data/ops/dataset_ops.py:3704: UserWarning: Even though the `tf.config.experimental_run_functions_eagerly` option is set, this option does not apply to tf.data functions. To force eager execution of tf.data functions, please use `tf.data.experimental.enable.debug_mode()`.\n",
      "  \"Even though the `tf.config.experimental_run_functions_eagerly` \"\n",
      "/usr/local/lib/python3.7/dist-packages/tensorflow/python/data/ops/dataset_ops.py:3704: UserWarning: Even though the `tf.config.experimental_run_functions_eagerly` option is set, this option does not apply to tf.data functions. To force eager execution of tf.data functions, please use `tf.data.experimental.enable.debug_mode()`.\n",
      "  \"Even though the `tf.config.experimental_run_functions_eagerly` \"\n"
     ]
    },
    {
     "data": {
      "text/plain": [
       "<matplotlib.legend.Legend at 0x7f76263d7dd0>"
      ]
     },
     "execution_count": 50,
     "metadata": {
      "tags": []
     },
     "output_type": "execute_result"
    },
    {
     "data": {
      "image/png": "[encoded data removed]",
      "text/plain": [
       "<Figure size 864x144 with 1 Axes>"
      ]
     },
     "metadata": {
      "needs_background": "light",
      "tags": []
     },
     "output_type": "display_data"
    }
   ],
   "source": [
    "def calculate_mse_multi(scaler, y_input, x_input, w2v):\n",
    "    y_pred = multi_model.predict([x_input, w2v])\n",
    "    MSE = mean_squared_error(y_input, y_pred)\n",
    "\n",
    "    y_true = scaler.inverse_transform(y_input.reshape(-1,1))\n",
    "    y_pred = scaler.inverse_transform(y_pred)\n",
    "\n",
    "    real_mse = np.mean(np.square(y_true - y_pred))\n",
    "    scaled_mse = real_mse/(np.max(y_true) - np.min(y_true)) * 100\n",
    "\n",
    "    return MSE, scaled_mse, y_true, y_pred\n",
    "\n",
    "train_MSE, train_scaled_mse, train_y, train_y_pred = calculate_mse_multi(scaler, trainset[\"y\"], trainset[\"X\"], news_train)\n",
    "val_MSE, val_scaled_mse, val_y, val_y_pred = calculate_mse_multi(scaler, valset[\"y\"], valset[\"X\"], news_val)\n",
    "test_MSE, test_scaled_mse, test_y, test_y_pred = calculate_mse_multi(scaler, testset[\"y\"], testset[\"X\"], news_test)\n",
    "\n",
    "y_true = np.vstack((test_y))\n",
    "y_pred = np.vstack((test_y_pred))\n",
    "\n",
    "\n",
    "mse = {}\n",
    "mse[\"train\"] = train_MSE\n",
    "mse[\"val\"] = val_MSE\n",
    "mse[\"test\"] = test_MSE\n",
    "\n",
    "scaled_mse = {}\n",
    "scaled_mse[\"train\"] = train_scaled_mse\n",
    "scaled_mse[\"val\"] = val_scaled_mse\n",
    "scaled_mse[\"test\"] = test_scaled_mse\n",
    "\n",
    "pred_result = {}\n",
    "pred_result[\"True\"] = test_y\n",
    "pred_result[\"Pred\"] = test_y_pred\n",
    "\n",
    "plt.figure(figsize=(12,2))\n",
    "plt.plot(y_true)\n",
    "plt.plot(y_pred)\n",
    "plt.legend(['y_true','y_pred'])"
   ]
  },
  {
   "cell_type": "code",
   "execution_count": null,
   "metadata": {
    "colab": {
     "base_uri": "https://localhost:8080/"
    },
    "id": "UmFUyMmivy7Z",
    "outputId": "9c04cd2c-9d44-4bb3-9467-f671b8cc4f14"
   },
   "outputs": [
    {
     "data": {
      "text/plain": [
       "{'test': 0.000882257372697897,\n",
       " 'train': 0.00012548171520339874,\n",
       " 'val': 0.0009839955238867251}"
      ]
     },
     "execution_count": 51,
     "metadata": {
      "tags": []
     },
     "output_type": "execute_result"
    }
   ],
   "source": [
    "mse"
   ]
  },
  {
   "cell_type": "code",
   "execution_count": null,
   "metadata": {
    "colab": {
     "base_uri": "https://localhost:8080/"
    },
    "id": "AOv2n_6dv0sG",
    "outputId": "2c100769-4b69-4137-a4db-96bb1d89fe07"
   },
   "outputs": [
    {
     "data": {
      "text/plain": [
       "{'test': 98.63098115296528,\n",
       " 'train': 6.3859138310082955,\n",
       " 'val': 66.81245436149317}"
      ]
     },
     "execution_count": 52,
     "metadata": {
      "tags": []
     },
     "output_type": "execute_result"
    }
   ],
   "source": [
    "scaled_mse"
   ]
  },
  {
   "cell_type": "markdown",
   "metadata": {
    "id": "VNEN_1JhQIPR"
   },
   "source": [
    "## Prediction"
   ]
  },
  {
   "cell_type": "markdown",
   "metadata": {
    "id": "NX8FjfUUS80B"
   },
   "source": [
    "**Definition:**\n",
    "\n",
    "◦ **Rise (0):** CP of Today > CP of Yesterday , Change Rate > 1.5 %\n",
    "\n",
    "◦ **Remain Stable (1):** Change Rate ≤ 1.5 %\n",
    "\n",
    "◦ **Fall (2):** CP of Today < CP of Yesterday , Change Rate > 1.5 %"
   ]
  },
  {
   "cell_type": "code",
   "execution_count": null,
   "metadata": {
    "colab": {
     "base_uri": "https://localhost:8080/",
     "height": 206
    },
    "id": "mr6bJLvzLZsC",
    "outputId": "a8b896a0-8907-4745-9f4f-5e08f7747eb2"
   },
   "outputs": [
    {
     "data": {
      "text/html": [
       "<div>\n",
       "<style scoped>\n",
       "    .dataframe tbody tr th:only-of-type {\n",
       "        vertical-align: middle;\n",
       "    }\n",
       "\n",
       "    .dataframe tbody tr th {\n",
       "        vertical-align: top;\n",
       "    }\n",
       "\n",
       "    .dataframe thead th {\n",
       "        text-align: right;\n",
       "    }\n",
       "</style>\n",
       "<table border=\"1\" class=\"dataframe\">\n",
       "  <thead>\n",
       "    <tr style=\"text-align: right;\">\n",
       "      <th></th>\n",
       "      <th>Pred</th>\n",
       "      <th>True</th>\n",
       "      <th>His_True</th>\n",
       "      <th>His_Pred</th>\n",
       "      <th>Pred_change_rate</th>\n",
       "      <th>True_change_rate</th>\n",
       "    </tr>\n",
       "  </thead>\n",
       "  <tbody>\n",
       "    <tr>\n",
       "      <th>130</th>\n",
       "      <td>320.669769</td>\n",
       "      <td>330.35</td>\n",
       "      <td>326.04</td>\n",
       "      <td>321.363037</td>\n",
       "      <td>0.215727</td>\n",
       "      <td>1.321924</td>\n",
       "    </tr>\n",
       "    <tr>\n",
       "      <th>131</th>\n",
       "      <td>323.375580</td>\n",
       "      <td>336.58</td>\n",
       "      <td>330.35</td>\n",
       "      <td>320.669769</td>\n",
       "      <td>0.843800</td>\n",
       "      <td>1.885879</td>\n",
       "    </tr>\n",
       "    <tr>\n",
       "      <th>132</th>\n",
       "      <td>323.505951</td>\n",
       "      <td>333.68</td>\n",
       "      <td>336.58</td>\n",
       "      <td>323.375580</td>\n",
       "      <td>0.040316</td>\n",
       "      <td>0.861608</td>\n",
       "    </tr>\n",
       "    <tr>\n",
       "      <th>133</th>\n",
       "      <td>324.528900</td>\n",
       "      <td>330.25</td>\n",
       "      <td>333.68</td>\n",
       "      <td>323.505951</td>\n",
       "      <td>0.316207</td>\n",
       "      <td>1.027931</td>\n",
       "    </tr>\n",
       "    <tr>\n",
       "      <th>134</th>\n",
       "      <td>324.205475</td>\n",
       "      <td>332.46</td>\n",
       "      <td>330.25</td>\n",
       "      <td>324.528900</td>\n",
       "      <td>0.099660</td>\n",
       "      <td>0.669190</td>\n",
       "    </tr>\n",
       "  </tbody>\n",
       "</table>\n",
       "</div>"
      ],
      "text/plain": [
       "           Pred    True  ...  Pred_change_rate  True_change_rate\n",
       "130  320.669769  330.35  ...          0.215727          1.321924\n",
       "131  323.375580  336.58  ...          0.843800          1.885879\n",
       "132  323.505951  333.68  ...          0.040316          0.861608\n",
       "133  324.528900  330.25  ...          0.316207          1.027931\n",
       "134  324.205475  332.46  ...          0.099660          0.669190\n",
       "\n",
       "[5 rows x 6 columns]"
      ]
     },
     "execution_count": 53,
     "metadata": {
      "tags": []
     },
     "output_type": "execute_result"
    }
   ],
   "source": [
    "pred_df = pd.DataFrame(pred_result['Pred'], columns=['Pred'])\n",
    "pred_df['True'] = pred_result['True']\n",
    "pred_df = pred_df.tail(5)\n",
    "pred_df['His_True'] = pred_result['True'][-6:][:5]\n",
    "pred_df['His_Pred'] = pred_result['Pred'][-6:][:5]\n",
    "pred_df['Pred_change_rate'] = (pred_df['Pred'] - pred_df['His_Pred']).abs()/pred_df['His_Pred']*100\n",
    "pred_df['True_change_rate'] = (pred_df['True'] - pred_df['His_True']).abs()/pred_df['His_True']*100\n",
    "pred_df"
   ]
  },
  {
   "cell_type": "code",
   "execution_count": null,
   "metadata": {
    "id": "JraT0n_HRuKs"
   },
   "outputs": [],
   "source": [
    "def change_type_pred(row):\n",
    "    if row['Pred'] > row['His_Pred'] and row['Pred_change_rate'] > 1.5:\n",
    "        return 0\n",
    "    elif row['Pred'] < row['His_Pred'] and row['Pred_change_rate'] > 1.5:\n",
    "        return 2\n",
    "    else:\n",
    "        return 1\n",
    "\n",
    "def change_type_true(row):\n",
    "    if row['True'] > row['His_True'] and row['True_change_rate'] > 1.5:\n",
    "        return 0\n",
    "    elif row['True'] < row['His_True'] and row['True_change_rate'] > 1.5:\n",
    "        return 2\n",
    "    else:\n",
    "        return 1\n",
    "\n",
    "pred_df['Pred_change_type'] = pred_df.apply(lambda row : change_type_pred(row), axis=1)\n",
    "pred_df['True_change_type'] = pred_df.apply(lambda row : change_type_true(row), axis=1)"
   ]
  },
  {
   "cell_type": "code",
   "execution_count": null,
   "metadata": {
    "colab": {
     "base_uri": "https://localhost:8080/",
     "height": 206
    },
    "id": "D4hvJeXSSu19",
    "outputId": "0832248d-58fc-414b-be64-c09ca5ef03be"
   },
   "outputs": [
    {
     "data": {
      "text/html": [
       "<div>\n",
       "<style scoped>\n",
       "    .dataframe tbody tr th:only-of-type {\n",
       "        vertical-align: middle;\n",
       "    }\n",
       "\n",
       "    .dataframe tbody tr th {\n",
       "        vertical-align: top;\n",
       "    }\n",
       "\n",
       "    .dataframe thead th {\n",
       "        text-align: right;\n",
       "    }\n",
       "</style>\n",
       "<table border=\"1\" class=\"dataframe\">\n",
       "  <thead>\n",
       "    <tr style=\"text-align: right;\">\n",
       "      <th></th>\n",
       "      <th>Pred</th>\n",
       "      <th>True</th>\n",
       "      <th>His_True</th>\n",
       "      <th>His_Pred</th>\n",
       "      <th>Pred_change_rate</th>\n",
       "      <th>True_change_rate</th>\n",
       "      <th>Pred_change_type</th>\n",
       "      <th>True_change_type</th>\n",
       "    </tr>\n",
       "  </thead>\n",
       "  <tbody>\n",
       "    <tr>\n",
       "      <th>130</th>\n",
       "      <td>320.669769</td>\n",
       "      <td>330.35</td>\n",
       "      <td>326.04</td>\n",
       "      <td>321.363037</td>\n",
       "      <td>0.215727</td>\n",
       "      <td>1.321924</td>\n",
       "      <td>1</td>\n",
       "      <td>1</td>\n",
       "    </tr>\n",
       "    <tr>\n",
       "      <th>131</th>\n",
       "      <td>323.375580</td>\n",
       "      <td>336.58</td>\n",
       "      <td>330.35</td>\n",
       "      <td>320.669769</td>\n",
       "      <td>0.843800</td>\n",
       "      <td>1.885879</td>\n",
       "      <td>1</td>\n",
       "      <td>0</td>\n",
       "    </tr>\n",
       "    <tr>\n",
       "      <th>132</th>\n",
       "      <td>323.505951</td>\n",
       "      <td>333.68</td>\n",
       "      <td>336.58</td>\n",
       "      <td>323.375580</td>\n",
       "      <td>0.040316</td>\n",
       "      <td>0.861608</td>\n",
       "      <td>1</td>\n",
       "      <td>1</td>\n",
       "    </tr>\n",
       "    <tr>\n",
       "      <th>133</th>\n",
       "      <td>324.528900</td>\n",
       "      <td>330.25</td>\n",
       "      <td>333.68</td>\n",
       "      <td>323.505951</td>\n",
       "      <td>0.316207</td>\n",
       "      <td>1.027931</td>\n",
       "      <td>1</td>\n",
       "      <td>1</td>\n",
       "    </tr>\n",
       "    <tr>\n",
       "      <th>134</th>\n",
       "      <td>324.205475</td>\n",
       "      <td>332.46</td>\n",
       "      <td>330.25</td>\n",
       "      <td>324.528900</td>\n",
       "      <td>0.099660</td>\n",
       "      <td>0.669190</td>\n",
       "      <td>1</td>\n",
       "      <td>1</td>\n",
       "    </tr>\n",
       "  </tbody>\n",
       "</table>\n",
       "</div>"
      ],
      "text/plain": [
       "           Pred    True  ...  Pred_change_type  True_change_type\n",
       "130  320.669769  330.35  ...                 1                 1\n",
       "131  323.375580  336.58  ...                 1                 0\n",
       "132  323.505951  333.68  ...                 1                 1\n",
       "133  324.528900  330.25  ...                 1                 1\n",
       "134  324.205475  332.46  ...                 1                 1\n",
       "\n",
       "[5 rows x 8 columns]"
      ]
     },
     "execution_count": 55,
     "metadata": {
      "tags": []
     },
     "output_type": "execute_result"
    }
   ],
   "source": [
    "pred_df"
   ]
  },
  {
   "cell_type": "markdown",
   "metadata": {
    "id": "58CJLEpGD3Ll"
   },
   "source": [
    "# 7. Baseline Model"
   ]
  },
  {
   "cell_type": "code",
   "execution_count": null,
   "metadata": {
    "colab": {
     "base_uri": "https://localhost:8080/"
    },
    "id": "oPOrk-tylRNT",
    "outputId": "ed762d30-3550-48a5-eb4a-7c01eef935f6"
   },
   "outputs": [
    {
     "name": "stdout",
     "output_type": "stream",
     "text": [
      "Model: \"sequential\"\n",
      "_________________________________________________________________\n",
      "Layer (type)                 Output Shape              Param #   \n",
      "=================================================================\n",
      "bidirectional_2 (Bidirection (None, 60, 120)           22680     \n",
      "_________________________________________________________________\n",
      "dropout_5 (Dropout)          (None, 60, 120)           0         \n",
      "_________________________________________________________________\n",
      "gru_6 (GRU)                  (None, 60)                32760     \n",
      "_________________________________________________________________\n",
      "dropout_6 (Dropout)          (None, 60)                0         \n",
      "_________________________________________________________________\n",
      "dense_2 (Dense)              (None, 25)                1525      \n",
      "_________________________________________________________________\n",
      "dense_3 (Dense)              (None, 1)                 26        \n",
      "=================================================================\n",
      "Total params: 56,991\n",
      "Trainable params: 56,991\n",
      "Non-trainable params: 0\n",
      "_________________________________________________________________\n",
      "CPU times: user 527 ms, sys: 19 ms, total: 546 ms\n",
      "Wall time: 545 ms\n"
     ]
    }
   ],
   "source": [
    "%%time\n",
    "# The LSTM architecture\n",
    "regressorBiLSTM = Sequential()\n",
    "# 1st layer with Dropout regularisation\n",
    "regressorBiLSTM.add(Bidirectional(GRU(units=60, return_sequences=True), input_shape=(X_train.shape[1],1)))\n",
    "regressorBiLSTM.add(Dropout(0.2))\n",
    "\n",
    "# 2nd LSTM layer\n",
    "regressorBiLSTM.add(GRU(units=60))\n",
    "regressorBiLSTM.add(Dropout(0.2))\n",
    "\n",
    "# Output layer\n",
    "regressorBiLSTM.add(Dense(25))\n",
    "regressorBiLSTM.add(Dense(units=1))\n",
    "\n",
    "# Compiling LSTM \n",
    "regressorBiLSTM.compile(optimizer='adam', loss='mean_squared_error')\n",
    "regressorBiLSTM.summary()"
   ]
  },
  {
   "cell_type": "code",
   "execution_count": null,
   "metadata": {
    "colab": {
     "base_uri": "https://localhost:8080/"
    },
    "id": "p1NctIOolenN",
    "outputId": "42ebfa28-30b7-4029-dee5-bddd70afcc8b"
   },
   "outputs": [
    {
     "name": "stderr",
     "output_type": "stream",
     "text": [
      "/usr/local/lib/python3.7/dist-packages/tensorflow/python/data/ops/dataset_ops.py:3704: UserWarning: Even though the `tf.config.experimental_run_functions_eagerly` option is set, this option does not apply to tf.data functions. To force eager execution of tf.data functions, please use `tf.data.experimental.enable.debug_mode()`.\n",
      "  \"Even though the `tf.config.experimental_run_functions_eagerly` \"\n"
     ]
    },
    {
     "name": "stdout",
     "output_type": "stream",
     "text": [
      "Epoch 1/100\n",
      "30/30 [==============================] - 1s 36ms/step - loss: 0.0385 - val_loss: 0.0013\n",
      "Epoch 2/100\n",
      "30/30 [==============================] - 1s 35ms/step - loss: 0.0022 - val_loss: 0.0024\n",
      "Epoch 3/100\n",
      "30/30 [==============================] - 1s 34ms/step - loss: 0.0015 - val_loss: 6.0472e-04\n",
      "Epoch 4/100\n",
      "30/30 [==============================] - 1s 35ms/step - loss: 9.9217e-04 - val_loss: 4.8223e-04\n",
      "Epoch 5/100\n",
      "30/30 [==============================] - 1s 37ms/step - loss: 9.5623e-04 - val_loss: 5.4335e-04\n",
      "Epoch 6/100\n",
      "30/30 [==============================] - 1s 36ms/step - loss: 8.6095e-04 - val_loss: 0.0018\n",
      "Epoch 7/100\n",
      "30/30 [==============================] - 1s 35ms/step - loss: 8.1585e-04 - val_loss: 9.7770e-04\n",
      "Epoch 8/100\n",
      "30/30 [==============================] - 1s 35ms/step - loss: 7.2111e-04 - val_loss: 8.9617e-04\n",
      "Epoch 9/100\n",
      "30/30 [==============================] - 1s 35ms/step - loss: 6.8147e-04 - val_loss: 0.0025\n"
     ]
    },
    {
     "data": {
      "text/plain": [
       "<keras.callbacks.History at 0x7f76263d77d0>"
      ]
     },
     "execution_count": 57,
     "metadata": {
      "tags": []
     },
     "output_type": "execute_result"
    }
   ],
   "source": [
    "logger_filename = '/content/drive/MyDrive/stock_prediction/FB/training_log_bilstm_model.csv'\n",
    "\n",
    "my_callback = [\n",
    "               EarlyStopping(patience=5,monitor='val_loss'),\n",
    "               CSVLogger(filename=logger_filename)\n",
    "\n",
    "]\n",
    "\n",
    "# training setting\n",
    "epochs = 100\n",
    "batch_size = 64\n",
    "\n",
    "# Fitting to the training set\n",
    "regressorBiLSTM.fit(trainset['X'], trainset['y'], epochs=epochs, batch_size=batch_size, callbacks=my_callback\n",
    "                              , validation_data=(valset['X'], valset['y']))"
   ]
  },
  {
   "cell_type": "code",
   "execution_count": null,
   "metadata": {
    "id": "sVdgcyXTOhQq"
   },
   "outputs": [],
   "source": [
    "regressorBiLSTM.save('/content/drive/MyDrive/stock_prediction/FB/stock_pred_bilstm_model.h5')"
   ]
  },
  {
   "cell_type": "markdown",
   "metadata": {
    "id": "GEYlrtR_lrpC"
   },
   "source": [
    "## Evaluation"
   ]
  },
  {
   "cell_type": "code",
   "execution_count": null,
   "metadata": {
    "colab": {
     "base_uri": "https://localhost:8080/",
     "height": 298
    },
    "id": "Ml4viY44lrpD",
    "outputId": "2981dc4d-969a-4cfd-8142-7165d46f6e53"
   },
   "outputs": [
    {
     "name": "stderr",
     "output_type": "stream",
     "text": [
      "/usr/local/lib/python3.7/dist-packages/tensorflow/python/data/ops/dataset_ops.py:3704: UserWarning: Even though the `tf.config.experimental_run_functions_eagerly` option is set, this option does not apply to tf.data functions. To force eager execution of tf.data functions, please use `tf.data.experimental.enable.debug_mode()`.\n",
      "  \"Even though the `tf.config.experimental_run_functions_eagerly` \"\n",
      "/usr/local/lib/python3.7/dist-packages/tensorflow/python/data/ops/dataset_ops.py:3704: UserWarning: Even though the `tf.config.experimental_run_functions_eagerly` option is set, this option does not apply to tf.data functions. To force eager execution of tf.data functions, please use `tf.data.experimental.enable.debug_mode()`.\n",
      "  \"Even though the `tf.config.experimental_run_functions_eagerly` \"\n",
      "/usr/local/lib/python3.7/dist-packages/tensorflow/python/data/ops/dataset_ops.py:3704: UserWarning: Even though the `tf.config.experimental_run_functions_eagerly` option is set, this option does not apply to tf.data functions. To force eager execution of tf.data functions, please use `tf.data.experimental.enable.debug_mode()`.\n",
      "  \"Even though the `tf.config.experimental_run_functions_eagerly` \"\n"
     ]
    },
    {
     "data": {
      "text/plain": [
       "<matplotlib.legend.Legend at 0x7f762625c450>"
      ]
     },
     "execution_count": 59,
     "metadata": {
      "tags": []
     },
     "output_type": "execute_result"
    },
    {
     "data": {
      "image/png": "[encoded data removed]",
      "text/plain": [
       "<Figure size 864x144 with 1 Axes>"
      ]
     },
     "metadata": {
      "needs_background": "light",
      "tags": []
     },
     "output_type": "display_data"
    }
   ],
   "source": [
    "def calculate_mse(scaler, y_input, x_input):\n",
    "    y_pred = regressorBiLSTM.predict(x_input)\n",
    "    MSE = mean_squared_error(y_input, y_pred)\n",
    "\n",
    "    y_true = scaler.inverse_transform(y_input.reshape(-1,1))\n",
    "    y_pred = scaler.inverse_transform(y_pred)\n",
    "\n",
    "    real_mse = np.mean(np.square(y_true - y_pred))\n",
    "    scaled_mse = real_mse/(np.max(y_true) - np.min(y_true)) * 100\n",
    "\n",
    "    return MSE, scaled_mse, y_true, y_pred\n",
    "\n",
    "train_MSE, train_scaled_mse, train_y, train_y_pred = calculate_mse(scaler, trainset[\"y\"], trainset[\"X\"])\n",
    "val_MSE, val_scaled_mse, val_y, val_y_pred = calculate_mse(scaler, valset[\"y\"], valset[\"X\"])\n",
    "test_MSE, test_scaled_mse, test_y, test_y_pred = calculate_mse(scaler, testset[\"y\"], testset[\"X\"])\n",
    "\n",
    "y_true = np.vstack((test_y))\n",
    "y_pred = np.vstack((test_y_pred))\n",
    "\n",
    "\n",
    "mse = {}\n",
    "mse[\"train\"] = train_MSE\n",
    "mse[\"val\"] = val_MSE\n",
    "mse[\"test\"] = test_MSE\n",
    "\n",
    "scaled_mse = {}\n",
    "scaled_mse[\"train\"] = train_scaled_mse\n",
    "scaled_mse[\"val\"] = val_scaled_mse\n",
    "scaled_mse[\"test\"] = test_scaled_mse\n",
    "\n",
    "plt.figure(figsize=(12,2))\n",
    "plt.plot(y_true)\n",
    "plt.plot(y_pred)\n",
    "plt.legend(['y_true','y_pred'])"
   ]
  },
  {
   "cell_type": "code",
   "execution_count": null,
   "metadata": {
    "colab": {
     "base_uri": "https://localhost:8080/"
    },
    "id": "T_itD5jCvf9O",
    "outputId": "62e3a6d3-b8e3-46a4-c420-16e833a2a2e9"
   },
   "outputs": [
    {
     "data": {
      "text/plain": [
       "{'test': 0.0027669125851295905,\n",
       " 'train': 0.0004647585231418429,\n",
       " 'val': 0.0024507187909903077}"
      ]
     },
     "execution_count": 60,
     "metadata": {
      "tags": []
     },
     "output_type": "execute_result"
    }
   ],
   "source": [
    "mse"
   ]
  },
  {
   "cell_type": "code",
   "execution_count": null,
   "metadata": {
    "colab": {
     "base_uri": "https://localhost:8080/"
    },
    "id": "Ss9b4cyNxovX",
    "outputId": "fb3fcacb-ad71-4a70-c7c7-cec23f4d4b96"
   },
   "outputs": [
    {
     "data": {
      "text/plain": [
       "{'test': 309.3240025077179,\n",
       " 'train': 23.65210922409936,\n",
       " 'val': 166.40168419855036}"
      ]
     },
     "execution_count": 61,
     "metadata": {
      "tags": []
     },
     "output_type": "execute_result"
    }
   ],
   "source": [
    "scaled_mse"
   ]
  },
  {
   "cell_type": "markdown",
   "metadata": {
    "id": "RHqzqa3pGzL7"
   },
   "source": [
    "# 8. Full-connected Network with TF-IDF\n",
    "## Headlines Input Preparation"
   ]
  },
  {
   "cell_type": "code",
   "execution_count": null,
   "metadata": {
    "colab": {
     "base_uri": "https://localhost:8080/",
     "height": 480
    },
    "id": "Jx7n9fChxovU",
    "outputId": "2e2dd5a5-4769-4ac8-9ff1-f4cb2b0ad256"
   },
   "outputs": [
    {
     "data": {
      "text/html": [
       "<div>\n",
       "<style scoped>\n",
       "    .dataframe tbody tr th:only-of-type {\n",
       "        vertical-align: middle;\n",
       "    }\n",
       "\n",
       "    .dataframe tbody tr th {\n",
       "        vertical-align: top;\n",
       "    }\n",
       "\n",
       "    .dataframe thead th {\n",
       "        text-align: right;\n",
       "    }\n",
       "</style>\n",
       "<table border=\"1\" class=\"dataframe\">\n",
       "  <thead>\n",
       "    <tr style=\"text-align: right;\">\n",
       "      <th></th>\n",
       "      <th>index</th>\n",
       "      <th>Close</th>\n",
       "      <th>Title</th>\n",
       "      <th>text_decont</th>\n",
       "      <th>text_no_punc</th>\n",
       "      <th>tk</th>\n",
       "      <th>tfidf</th>\n",
       "      <th>tfidf_new</th>\n",
       "    </tr>\n",
       "    <tr>\n",
       "      <th>Date</th>\n",
       "      <th></th>\n",
       "      <th></th>\n",
       "      <th></th>\n",
       "      <th></th>\n",
       "      <th></th>\n",
       "      <th></th>\n",
       "      <th></th>\n",
       "      <th></th>\n",
       "    </tr>\n",
       "  </thead>\n",
       "  <tbody>\n",
       "    <tr>\n",
       "      <th>2012-05-18</th>\n",
       "      <td>0</td>\n",
       "      <td>38.23</td>\n",
       "      <td></td>\n",
       "      <td></td>\n",
       "      <td></td>\n",
       "      <td></td>\n",
       "      <td></td>\n",
       "      <td>[0.0, 0.0, 0.0, 0.0, 0.0, 0.0, 0.0, 0.0, 0.0, ...</td>\n",
       "    </tr>\n",
       "    <tr>\n",
       "      <th>2012-05-21</th>\n",
       "      <td>1</td>\n",
       "      <td>34.03</td>\n",
       "      <td>The investors on the trail of a British Facebo...</td>\n",
       "      <td>the investors on the trail of a british facebo...</td>\n",
       "      <td>the investors on the trail of a british facebo...</td>\n",
       "      <td>[the, investors, on, the, trail, of, a, britis...</td>\n",
       "      <td>[0.0, 0.0, 0.0, 0.0, 0.0, 0.0, 0.0, 0.0, 0.0, ...</td>\n",
       "      <td>[0.0, 0.0, 0.0, 0.0, 0.0, 0.0, 0.0, 0.0, 0.0, ...</td>\n",
       "    </tr>\n",
       "    <tr>\n",
       "      <th>2012-05-22</th>\n",
       "      <td>2</td>\n",
       "      <td>31.00</td>\n",
       "      <td>Facebook shares fall sharply on second day of ...</td>\n",
       "      <td>facebook shares fall sharply on second day of ...</td>\n",
       "      <td>facebook shares fall sharply on second day of ...</td>\n",
       "      <td>[facebook, shares, fall, sharply, on, second, ...</td>\n",
       "      <td>[0.0, 0.0, 0.0, 0.0, 0.0, 0.0, 0.0, 0.0, 0.0, ...</td>\n",
       "      <td>[0.0, 0.0, 0.0, 0.0, 0.0, 0.0, 0.0, 0.0, 0.0, ...</td>\n",
       "    </tr>\n",
       "    <tr>\n",
       "      <th>2012-05-23</th>\n",
       "      <td>3</td>\n",
       "      <td>32.00</td>\n",
       "      <td>Facebook IPO: banks investigated for allegedly...</td>\n",
       "      <td>facebook ipo: banks investigated for allegedly...</td>\n",
       "      <td>facebook ipo  banks investigated for allegedly...</td>\n",
       "      <td>[facebook, ipo, banks, investigated, for, alle...</td>\n",
       "      <td>[0.0, 0.0, 0.0, 0.0, 0.0, 0.0, 0.0, 0.0, 0.0, ...</td>\n",
       "      <td>[0.0, 0.0, 0.0, 0.0, 0.0, 0.0, 0.0, 0.0, 0.0, ...</td>\n",
       "    </tr>\n",
       "    <tr>\n",
       "      <th>2012-05-24</th>\n",
       "      <td>4</td>\n",
       "      <td>33.03</td>\n",
       "      <td>Facebook founder Mark Zuckerberg sees stock tu...</td>\n",
       "      <td>facebook founder mark zuckerberg sees stock tu...</td>\n",
       "      <td>facebook founder mark zuckerberg sees stock tu...</td>\n",
       "      <td>[facebook, founder, mark, zuckerberg, sees, st...</td>\n",
       "      <td>[0.0, 0.0, 0.0, 0.0, 0.0, 0.0, 0.0, 0.0, 0.0, ...</td>\n",
       "      <td>[0.0, 0.0, 0.0, 0.0, 0.0, 0.0, 0.0, 0.0, 0.0, ...</td>\n",
       "    </tr>\n",
       "  </tbody>\n",
       "</table>\n",
       "</div>"
      ],
      "text/plain": [
       "            index  ...                                          tfidf_new\n",
       "Date               ...                                                   \n",
       "2012-05-18      0  ...  [0.0, 0.0, 0.0, 0.0, 0.0, 0.0, 0.0, 0.0, 0.0, ...\n",
       "2012-05-21      1  ...  [0.0, 0.0, 0.0, 0.0, 0.0, 0.0, 0.0, 0.0, 0.0, ...\n",
       "2012-05-22      2  ...  [0.0, 0.0, 0.0, 0.0, 0.0, 0.0, 0.0, 0.0, 0.0, ...\n",
       "2012-05-23      3  ...  [0.0, 0.0, 0.0, 0.0, 0.0, 0.0, 0.0, 0.0, 0.0, ...\n",
       "2012-05-24      4  ...  [0.0, 0.0, 0.0, 0.0, 0.0, 0.0, 0.0, 0.0, 0.0, ...\n",
       "\n",
       "[5 rows x 8 columns]"
      ]
     },
     "execution_count": 62,
     "metadata": {
      "tags": []
     },
     "output_type": "execute_result"
    }
   ],
   "source": [
    "train_data.head()"
   ]
  },
  {
   "cell_type": "code",
   "execution_count": null,
   "metadata": {
    "id": "KEuKQ3zdxovV"
   },
   "outputs": [],
   "source": [
    "train_news = np.matrix(train_data.tfidf_new[n_lags:].tolist())\n",
    "#train_news = train_news.reshape(train_news.shape[0],1)\n",
    "\n",
    "val_news = np.matrix(val_data.tfidf_new[n_lags:].tolist())\n",
    "#val_news = val_news.reshape(val_news.shape[0],1)\n",
    "\n",
    "test_news = np.matrix(test_data.tfidf_new[n_lags:].tolist())\n",
    "#test_news = test_news.reshape(test_news.shape[0],1)"
   ]
  },
  {
   "cell_type": "code",
   "execution_count": null,
   "metadata": {
    "colab": {
     "base_uri": "https://localhost:8080/"
    },
    "id": "N5EdGGTHxovV",
    "outputId": "f0afc51c-ed4a-445a-c62b-24e72e96e94a"
   },
   "outputs": [
    {
     "name": "stdout",
     "output_type": "stream",
     "text": [
      "News to train: (1857, 3801)\n",
      "\n",
      "News to test: (135, 3801)\n",
      "\n",
      "News to val: (108, 3801)\n"
     ]
    }
   ],
   "source": [
    "print('News to train:',train_news.shape)\n",
    "print('\\nNews to test:',test_news.shape)\n",
    "print('\\nNews to val:',val_news.shape)"
   ]
  },
  {
   "cell_type": "markdown",
   "metadata": {
    "id": "-nI6xnTVGwcf"
   },
   "source": [
    "## Model"
   ]
  },
  {
   "cell_type": "code",
   "execution_count": null,
   "metadata": {
    "colab": {
     "base_uri": "https://localhost:8080/"
    },
    "id": "ooxaSGCBGwcf",
    "outputId": "98c30071-ca3c-42b4-9306-9bf00edb67b3"
   },
   "outputs": [
    {
     "name": "stdout",
     "output_type": "stream",
     "text": [
      "CPU times: user 545 ms, sys: 6.77 ms, total: 552 ms\n",
      "Wall time: 550 ms\n"
     ]
    }
   ],
   "source": [
    "%%time\n",
    "# LSTM architecture\n",
    "# FIRST BRANCH operates on the first input\n",
    "# 1st layer with Dropout regularisation\n",
    "lstm_input = Input(shape=(X_train.shape[1],1))\n",
    "x = Bidirectional(GRU(units=60, return_sequences=True))(lstm_input)\n",
    "x = Dropout(0.2)(x)\n",
    "\n",
    "# 2nd LSTM layer\n",
    "x = GRU(units=60)(x)\n",
    "x = Dropout(0.2)(x)\n",
    "\n",
    "lstm_branch = Model(inputs=lstm_input, outputs=x)\n",
    "\n",
    "# SECOND BRANCH operates on the first input\n",
    "dense_input = Input(shape=(len(tfvec.get_feature_names()),))\n",
    "y = Dense(50)(dense_input)\n",
    "y = Dropout(0.2)(y)\n",
    "technical_indicators_branch = Model(inputs=dense_input, outputs=y)\n",
    "\n",
    "# combine the output of the two branches\n",
    "combined = concatenate([lstm_branch.output, technical_indicators_branch.output], name='concatenate')\n",
    "# Output layer\n",
    "z = Dense(25)(combined)\n",
    "z = Dense(units=1)(z)\n",
    "multi_model = Model(inputs=[lstm_branch.input, technical_indicators_branch.input], outputs=z)\n",
    "\n",
    "# Compiling\n",
    "multi_model.compile(optimizer='adam', loss='mean_squared_error')"
   ]
  },
  {
   "cell_type": "code",
   "execution_count": null,
   "metadata": {
    "colab": {
     "base_uri": "https://localhost:8080/",
     "height": 865
    },
    "id": "8wfNuQGbGwcg",
    "outputId": "e72ef381-231d-4f3e-ba6a-61ab4ca50427"
   },
   "outputs": [
    {
     "data": {
      "image/png": "[encoded data removed]",
      "text/plain": [
       "<IPython.core.display.Image object>"
      ]
     },
     "execution_count": 66,
     "metadata": {
      "tags": []
     },
     "output_type": "execute_result"
    }
   ],
   "source": [
    "from tensorflow.keras.utils import plot_model\n",
    "plot_model(multi_model, show_shapes=True)"
   ]
  },
  {
   "cell_type": "code",
   "execution_count": null,
   "metadata": {
    "colab": {
     "base_uri": "https://localhost:8080/"
    },
    "id": "ijR7N11_Gwcj",
    "outputId": "60232b2c-d295-456e-809a-9ab255b936c8"
   },
   "outputs": [
    {
     "name": "stderr",
     "output_type": "stream",
     "text": [
      "/usr/local/lib/python3.7/dist-packages/tensorflow/python/data/ops/dataset_ops.py:3704: UserWarning: Even though the `tf.config.experimental_run_functions_eagerly` option is set, this option does not apply to tf.data functions. To force eager execution of tf.data functions, please use `tf.data.experimental.enable.debug_mode()`.\n",
      "  \"Even though the `tf.config.experimental_run_functions_eagerly` \"\n"
     ]
    },
    {
     "name": "stdout",
     "output_type": "stream",
     "text": [
      "Epoch 1/100\n",
      "30/30 [==============================] - 1s 39ms/step - loss: 0.0367 - val_loss: 0.0012\n",
      "Epoch 2/100\n",
      "30/30 [==============================] - 1s 37ms/step - loss: 0.0023 - val_loss: 0.0013\n",
      "Epoch 3/100\n",
      "30/30 [==============================] - 1s 36ms/step - loss: 0.0015 - val_loss: 0.0018\n",
      "Epoch 4/100\n",
      "30/30 [==============================] - 1s 38ms/step - loss: 0.0011 - val_loss: 7.7182e-04\n",
      "Epoch 5/100\n",
      "30/30 [==============================] - 1s 36ms/step - loss: 8.8467e-04 - val_loss: 0.0052\n",
      "Epoch 6/100\n",
      "30/30 [==============================] - 1s 36ms/step - loss: 0.0021 - val_loss: 6.8154e-04\n",
      "Epoch 7/100\n",
      "30/30 [==============================] - 1s 37ms/step - loss: 7.5196e-04 - val_loss: 9.5490e-04\n",
      "Epoch 8/100\n",
      "30/30 [==============================] - 1s 37ms/step - loss: 6.6222e-04 - val_loss: 5.4438e-04\n",
      "Epoch 9/100\n",
      "30/30 [==============================] - 1s 36ms/step - loss: 5.9372e-04 - val_loss: 8.3420e-04\n",
      "Epoch 10/100\n",
      "30/30 [==============================] - 1s 37ms/step - loss: 6.2694e-04 - val_loss: 0.0012\n",
      "Epoch 11/100\n",
      "30/30 [==============================] - 1s 36ms/step - loss: 6.0332e-04 - val_loss: 9.0682e-04\n",
      "Epoch 12/100\n",
      "30/30 [==============================] - 1s 37ms/step - loss: 4.9320e-04 - val_loss: 8.3088e-04\n",
      "Epoch 13/100\n",
      "30/30 [==============================] - 1s 36ms/step - loss: 0.0010 - val_loss: 0.0012\n"
     ]
    },
    {
     "data": {
      "text/plain": [
       "<keras.callbacks.History at 0x7f7620058750>"
      ]
     },
     "execution_count": 67,
     "metadata": {
      "tags": []
     },
     "output_type": "execute_result"
    }
   ],
   "source": [
    "from keras.callbacks import CSVLogger\n",
    "logger_filename = '/content/drive/MyDrive/stock_prediction/FB/training_log_fc_model.csv'\n",
    "\n",
    "my_callback = [\n",
    "               EarlyStopping(patience=5,monitor='val_loss'),\n",
    "               CSVLogger(filename=logger_filename)\n",
    "\n",
    "]\n",
    "\n",
    "# training setting\n",
    "epochs = 100\n",
    "batch_size = 64\n",
    "\n",
    "# Fitting to the training set\n",
    "multi_model.fit([trainset['X'], train_news], trainset['y'], epochs=epochs, batch_size=batch_size, callbacks=my_callback\n",
    "                              , validation_data=([valset['X'], val_news], valset['y']))"
   ]
  },
  {
   "cell_type": "code",
   "execution_count": null,
   "metadata": {
    "id": "YEiTP6u-Gwcj"
   },
   "outputs": [],
   "source": [
    "multi_model.save('/content/drive/MyDrive/stock_prediction/FB/stock_pred_fc_model.h5')"
   ]
  },
  {
   "cell_type": "markdown",
   "metadata": {
    "id": "P2LpA60MGwck"
   },
   "source": [
    "## Evaluation"
   ]
  },
  {
   "cell_type": "code",
   "execution_count": null,
   "metadata": {
    "colab": {
     "base_uri": "https://localhost:8080/",
     "height": 298
    },
    "id": "QpUsQZYBGwck",
    "outputId": "82199413-8b2e-4818-f900-11ecd38968e0"
   },
   "outputs": [
    {
     "name": "stderr",
     "output_type": "stream",
     "text": [
      "/usr/local/lib/python3.7/dist-packages/tensorflow/python/data/ops/dataset_ops.py:3704: UserWarning: Even though the `tf.config.experimental_run_functions_eagerly` option is set, this option does not apply to tf.data functions. To force eager execution of tf.data functions, please use `tf.data.experimental.enable.debug_mode()`.\n",
      "  \"Even though the `tf.config.experimental_run_functions_eagerly` \"\n",
      "/usr/local/lib/python3.7/dist-packages/tensorflow/python/data/ops/dataset_ops.py:3704: UserWarning: Even though the `tf.config.experimental_run_functions_eagerly` option is set, this option does not apply to tf.data functions. To force eager execution of tf.data functions, please use `tf.data.experimental.enable.debug_mode()`.\n",
      "  \"Even though the `tf.config.experimental_run_functions_eagerly` \"\n",
      "/usr/local/lib/python3.7/dist-packages/tensorflow/python/data/ops/dataset_ops.py:3704: UserWarning: Even though the `tf.config.experimental_run_functions_eagerly` option is set, this option does not apply to tf.data functions. To force eager execution of tf.data functions, please use `tf.data.experimental.enable.debug_mode()`.\n",
      "  \"Even though the `tf.config.experimental_run_functions_eagerly` \"\n"
     ]
    },
    {
     "data": {
      "text/plain": [
       "<matplotlib.legend.Legend at 0x7f75f98c4510>"
      ]
     },
     "execution_count": 69,
     "metadata": {
      "tags": []
     },
     "output_type": "execute_result"
    },
    {
     "data": {
      "image/png": "[encoded data removed]",
      "text/plain": [
       "<Figure size 864x144 with 1 Axes>"
      ]
     },
     "metadata": {
      "needs_background": "light",
      "tags": []
     },
     "output_type": "display_data"
    }
   ],
   "source": [
    "def calculate_mse_multi(scaler, y_input, x_input, tfidf):\n",
    "    y_pred = multi_model.predict([x_input, tfidf])\n",
    "    MSE = mean_squared_error(y_input, y_pred)\n",
    "\n",
    "    y_true = scaler.inverse_transform(y_input.reshape(-1,1))\n",
    "    y_pred = scaler.inverse_transform(y_pred)\n",
    "\n",
    "    real_mse = np.mean(np.square(y_true - y_pred))\n",
    "    scaled_mse = real_mse/(np.max(y_true) - np.min(y_true)) * 100\n",
    "\n",
    "    return MSE, scaled_mse, y_true, y_pred\n",
    "\n",
    "train_MSE, train_scaled_mse, train_y, train_y_pred = calculate_mse_multi(scaler, trainset[\"y\"], trainset[\"X\"], train_news)\n",
    "val_MSE, val_scaled_mse, val_y, val_y_pred = calculate_mse_multi(scaler, valset[\"y\"], valset[\"X\"], val_news)\n",
    "test_MSE, test_scaled_mse, test_y, test_y_pred = calculate_mse_multi(scaler, testset[\"y\"], testset[\"X\"], test_news)\n",
    "\n",
    "y_true = np.vstack((test_y))\n",
    "y_pred = np.vstack((test_y_pred))\n",
    "\n",
    "\n",
    "mse = {}\n",
    "mse[\"train\"] = train_MSE\n",
    "mse[\"val\"] = val_MSE\n",
    "mse[\"test\"] = test_MSE\n",
    "\n",
    "scaled_mse = {}\n",
    "scaled_mse[\"train\"] = train_scaled_mse\n",
    "scaled_mse[\"val\"] = val_scaled_mse\n",
    "scaled_mse[\"test\"] = test_scaled_mse\n",
    "\n",
    "pred_result = {}\n",
    "pred_result[\"True\"] = test_y\n",
    "pred_result[\"Pred\"] = test_y_pred\n",
    "\n",
    "plt.figure(figsize=(12,2))\n",
    "plt.plot(y_true)\n",
    "plt.plot(y_pred)\n",
    "plt.legend(['y_true','y_pred'])"
   ]
  },
  {
   "cell_type": "code",
   "execution_count": null,
   "metadata": {
    "colab": {
     "base_uri": "https://localhost:8080/"
    },
    "id": "QSp_qN6hGwcl",
    "outputId": "b98928c6-6f01-4e90-8985-66082a91daab"
   },
   "outputs": [
    {
     "data": {
      "text/plain": [
       "{'test': 0.0011022941678194742,\n",
       " 'train': 0.00015625852825222112,\n",
       " 'val': 0.0011604113113796203}"
      ]
     },
     "execution_count": 70,
     "metadata": {
      "tags": []
     },
     "output_type": "execute_result"
    }
   ],
   "source": [
    "mse"
   ]
  },
  {
   "cell_type": "code",
   "execution_count": null,
   "metadata": {
    "colab": {
     "base_uri": "https://localhost:8080/"
    },
    "id": "aFGKvS17Gwcl",
    "outputId": "b5707ecb-d809-494e-978e-bbcb404bb191"
   },
   "outputs": [
    {
     "data": {
      "text/plain": [
       "{'test': 123.22978761184606,\n",
       " 'train': 7.952181332736087,\n",
       " 'val': 78.79092418541624}"
      ]
     },
     "execution_count": 71,
     "metadata": {
      "tags": []
     },
     "output_type": "execute_result"
    }
   ],
   "source": [
    "scaled_mse"
   ]
  },
  {
   "cell_type": "markdown",
   "metadata": {
    "id": "mu52B8jSaecU"
   },
   "source": [
    "## Prediction"
   ]
  },
  {
   "cell_type": "markdown",
   "metadata": {
    "id": "YvQo6TBXaecW"
   },
   "source": [
    "**Definition:**\n",
    "\n",
    "◦ **Rise (0):** CP of Today > CP of Yesterday , Change Rate > 1.5 %\n",
    "\n",
    "◦ **Remain Stable (1):** Change Rate ≤ 1.5 %\n",
    "\n",
    "◦ **Fall (2):** CP of Today < CP of Yesterday , Change Rate > 1.5 %"
   ]
  },
  {
   "cell_type": "code",
   "execution_count": null,
   "metadata": {
    "colab": {
     "base_uri": "https://localhost:8080/",
     "height": 206
    },
    "id": "rpd4VoLMaecW",
    "outputId": "aaae6885-93b6-409b-9914-e1ecbd1b61b2"
   },
   "outputs": [
    {
     "data": {
      "text/html": [
       "<div>\n",
       "<style scoped>\n",
       "    .dataframe tbody tr th:only-of-type {\n",
       "        vertical-align: middle;\n",
       "    }\n",
       "\n",
       "    .dataframe tbody tr th {\n",
       "        vertical-align: top;\n",
       "    }\n",
       "\n",
       "    .dataframe thead th {\n",
       "        text-align: right;\n",
       "    }\n",
       "</style>\n",
       "<table border=\"1\" class=\"dataframe\">\n",
       "  <thead>\n",
       "    <tr style=\"text-align: right;\">\n",
       "      <th></th>\n",
       "      <th>Pred</th>\n",
       "      <th>True</th>\n",
       "      <th>His_True</th>\n",
       "      <th>His_Pred</th>\n",
       "      <th>Pred_change_rate</th>\n",
       "      <th>True_change_rate</th>\n",
       "    </tr>\n",
       "  </thead>\n",
       "  <tbody>\n",
       "    <tr>\n",
       "      <th>130</th>\n",
       "      <td>319.439026</td>\n",
       "      <td>330.35</td>\n",
       "      <td>326.04</td>\n",
       "      <td>320.284760</td>\n",
       "      <td>0.264057</td>\n",
       "      <td>1.321924</td>\n",
       "    </tr>\n",
       "    <tr>\n",
       "      <th>131</th>\n",
       "      <td>323.744232</td>\n",
       "      <td>336.58</td>\n",
       "      <td>330.35</td>\n",
       "      <td>319.439026</td>\n",
       "      <td>1.347740</td>\n",
       "      <td>1.885879</td>\n",
       "    </tr>\n",
       "    <tr>\n",
       "      <th>132</th>\n",
       "      <td>322.494263</td>\n",
       "      <td>333.68</td>\n",
       "      <td>336.58</td>\n",
       "      <td>323.744232</td>\n",
       "      <td>0.386098</td>\n",
       "      <td>0.861608</td>\n",
       "    </tr>\n",
       "    <tr>\n",
       "      <th>133</th>\n",
       "      <td>323.512634</td>\n",
       "      <td>330.25</td>\n",
       "      <td>333.68</td>\n",
       "      <td>322.494263</td>\n",
       "      <td>0.315780</td>\n",
       "      <td>1.027931</td>\n",
       "    </tr>\n",
       "    <tr>\n",
       "      <th>134</th>\n",
       "      <td>323.058228</td>\n",
       "      <td>332.46</td>\n",
       "      <td>330.25</td>\n",
       "      <td>323.512634</td>\n",
       "      <td>0.140460</td>\n",
       "      <td>0.669190</td>\n",
       "    </tr>\n",
       "  </tbody>\n",
       "</table>\n",
       "</div>"
      ],
      "text/plain": [
       "           Pred    True  ...  Pred_change_rate  True_change_rate\n",
       "130  319.439026  330.35  ...          0.264057          1.321924\n",
       "131  323.744232  336.58  ...          1.347740          1.885879\n",
       "132  322.494263  333.68  ...          0.386098          0.861608\n",
       "133  323.512634  330.25  ...          0.315780          1.027931\n",
       "134  323.058228  332.46  ...          0.140460          0.669190\n",
       "\n",
       "[5 rows x 6 columns]"
      ]
     },
     "execution_count": 72,
     "metadata": {
      "tags": []
     },
     "output_type": "execute_result"
    }
   ],
   "source": [
    "pred_df = pd.DataFrame(pred_result['Pred'], columns=['Pred'])\n",
    "pred_df['True'] = pred_result['True']\n",
    "pred_df = pred_df.tail(5)\n",
    "pred_df['His_True'] = pred_result['True'][-6:][:5]\n",
    "pred_df['His_Pred'] = pred_result['Pred'][-6:][:5]\n",
    "pred_df['Pred_change_rate'] = (pred_df['Pred'] - pred_df['His_Pred']).abs()/pred_df['His_Pred']*100\n",
    "pred_df['True_change_rate'] = (pred_df['True'] - pred_df['His_True']).abs()/pred_df['His_True']*100\n",
    "pred_df"
   ]
  },
  {
   "cell_type": "code",
   "execution_count": null,
   "metadata": {
    "id": "Hhqwx6AzaecX"
   },
   "outputs": [],
   "source": [
    "def change_type_pred(row):\n",
    "    if row['Pred'] > row['His_Pred'] and row['Pred_change_rate'] > 1.5:\n",
    "        return 0\n",
    "    elif row['Pred'] < row['His_Pred'] and row['Pred_change_rate'] > 1.5:\n",
    "        return 2\n",
    "    else:\n",
    "        return 1\n",
    "\n",
    "def change_type_true(row):\n",
    "    if row['True'] > row['His_True'] and row['True_change_rate'] > 1.5:\n",
    "        return 0\n",
    "    elif row['True'] < row['His_True'] and row['True_change_rate'] > 1.5:\n",
    "        return 2\n",
    "    else:\n",
    "        return 1\n",
    "\n",
    "pred_df['Pred_change_type'] = pred_df.apply(lambda row : change_type_pred(row), axis=1)\n",
    "pred_df['True_change_type'] = pred_df.apply(lambda row : change_type_true(row), axis=1)"
   ]
  },
  {
   "cell_type": "code",
   "execution_count": null,
   "metadata": {
    "colab": {
     "base_uri": "https://localhost:8080/",
     "height": 206
    },
    "id": "TxGKB63maecY",
    "outputId": "17756eee-14c3-4fee-9781-acf5666c4904"
   },
   "outputs": [
    {
     "data": {
      "text/html": [
       "<div>\n",
       "<style scoped>\n",
       "    .dataframe tbody tr th:only-of-type {\n",
       "        vertical-align: middle;\n",
       "    }\n",
       "\n",
       "    .dataframe tbody tr th {\n",
       "        vertical-align: top;\n",
       "    }\n",
       "\n",
       "    .dataframe thead th {\n",
       "        text-align: right;\n",
       "    }\n",
       "</style>\n",
       "<table border=\"1\" class=\"dataframe\">\n",
       "  <thead>\n",
       "    <tr style=\"text-align: right;\">\n",
       "      <th></th>\n",
       "      <th>Pred</th>\n",
       "      <th>True</th>\n",
       "      <th>His_True</th>\n",
       "      <th>His_Pred</th>\n",
       "      <th>Pred_change_rate</th>\n",
       "      <th>True_change_rate</th>\n",
       "      <th>Pred_change_type</th>\n",
       "      <th>True_change_type</th>\n",
       "    </tr>\n",
       "  </thead>\n",
       "  <tbody>\n",
       "    <tr>\n",
       "      <th>130</th>\n",
       "      <td>319.439026</td>\n",
       "      <td>330.35</td>\n",
       "      <td>326.04</td>\n",
       "      <td>320.284760</td>\n",
       "      <td>0.264057</td>\n",
       "      <td>1.321924</td>\n",
       "      <td>1</td>\n",
       "      <td>1</td>\n",
       "    </tr>\n",
       "    <tr>\n",
       "      <th>131</th>\n",
       "      <td>323.744232</td>\n",
       "      <td>336.58</td>\n",
       "      <td>330.35</td>\n",
       "      <td>319.439026</td>\n",
       "      <td>1.347740</td>\n",
       "      <td>1.885879</td>\n",
       "      <td>1</td>\n",
       "      <td>0</td>\n",
       "    </tr>\n",
       "    <tr>\n",
       "      <th>132</th>\n",
       "      <td>322.494263</td>\n",
       "      <td>333.68</td>\n",
       "      <td>336.58</td>\n",
       "      <td>323.744232</td>\n",
       "      <td>0.386098</td>\n",
       "      <td>0.861608</td>\n",
       "      <td>1</td>\n",
       "      <td>1</td>\n",
       "    </tr>\n",
       "    <tr>\n",
       "      <th>133</th>\n",
       "      <td>323.512634</td>\n",
       "      <td>330.25</td>\n",
       "      <td>333.68</td>\n",
       "      <td>322.494263</td>\n",
       "      <td>0.315780</td>\n",
       "      <td>1.027931</td>\n",
       "      <td>1</td>\n",
       "      <td>1</td>\n",
       "    </tr>\n",
       "    <tr>\n",
       "      <th>134</th>\n",
       "      <td>323.058228</td>\n",
       "      <td>332.46</td>\n",
       "      <td>330.25</td>\n",
       "      <td>323.512634</td>\n",
       "      <td>0.140460</td>\n",
       "      <td>0.669190</td>\n",
       "      <td>1</td>\n",
       "      <td>1</td>\n",
       "    </tr>\n",
       "  </tbody>\n",
       "</table>\n",
       "</div>"
      ],
      "text/plain": [
       "           Pred    True  ...  Pred_change_type  True_change_type\n",
       "130  319.439026  330.35  ...                 1                 1\n",
       "131  323.744232  336.58  ...                 1                 0\n",
       "132  322.494263  333.68  ...                 1                 1\n",
       "133  323.512634  330.25  ...                 1                 1\n",
       "134  323.058228  332.46  ...                 1                 1\n",
       "\n",
       "[5 rows x 8 columns]"
      ]
     },
     "execution_count": 74,
     "metadata": {
      "tags": []
     },
     "output_type": "execute_result"
    }
   ],
   "source": [
    "pred_df"
   ]
  }
 ],
 "metadata": {
  "accelerator": "GPU",
  "colab": {
   "collapsed_sections": [],
   "name": "FB_predict_stocks.ipynb",
   "provenance": [],
   "toc_visible": true
  },
  "kernelspec": {
   "display_name": "Python 3",
   "language": "python",
   "name": "python3"
  },
  "language_info": {
   "codemirror_mode": {
    "name": "ipython",
    "version": 3
   },
   "file_extension": ".py",
   "mimetype": "text/x-python",
   "name": "python",
   "nbconvert_exporter": "python",
   "pygments_lexer": "ipython3",
   "version": "3.8.3"
  },
  "toc": {
   "base_numbering": 1,
   "nav_menu": {},
   "number_sections": false,
   "sideBar": true,
   "skip_h1_title": false,
   "title_cell": "Table of Contents",
   "title_sidebar": "Contents",
   "toc_cell": false,
   "toc_position": {},
   "toc_section_display": true,
   "toc_window_display": true
  }
 },
 "nbformat": 4,
 "nbformat_minor": 1
}
