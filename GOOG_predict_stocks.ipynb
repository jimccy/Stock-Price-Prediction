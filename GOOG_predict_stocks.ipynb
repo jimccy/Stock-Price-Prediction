{
 "cells": [
  {
   "cell_type": "code",
   "execution_count": null,
   "metadata": {
    "colab": {
     "base_uri": "https://localhost:8080/"
    },
    "id": "koG59PBWyg3Y",
    "outputId": "33edfe3d-f6d8-4da1-f7a9-a3f9f9c759b4"
   },
   "outputs": [
    {
     "name": "stdout",
     "output_type": "stream",
     "text": [
      "Mounted at /content/drive\n"
     ]
    }
   ],
   "source": [
    "from google.colab import drive\n",
    "drive.mount('/content/drive')"
   ]
  },
  {
   "cell_type": "code",
   "execution_count": null,
   "metadata": {
    "colab": {
     "base_uri": "https://localhost:8080/"
    },
    "id": "H4hbgmqI6sUF",
    "outputId": "acfca853-4364-4d72-8981-5e213a7afe60"
   },
   "outputs": [
    {
     "name": "stdout",
     "output_type": "stream",
     "text": [
      "WARNING:tensorflow:From <ipython-input-2-cef63d6acc25>:2: experimental_run_functions_eagerly (from tensorflow.python.eager.def_function) is deprecated and will be removed in a future version.\n",
      "Instructions for updating:\n",
      "Use `tf.config.run_functions_eagerly` instead of the experimental version.\n"
     ]
    }
   ],
   "source": [
    "import tensorflow as tf\n",
    "tf.config.experimental_run_functions_eagerly(True)"
   ]
  },
  {
   "cell_type": "markdown",
   "metadata": {
    "id": "xdkVugMTxovI"
   },
   "source": [
    "# 1. Data Preparation"
   ]
  },
  {
   "cell_type": "code",
   "execution_count": null,
   "metadata": {
    "colab": {
     "base_uri": "https://localhost:8080/"
    },
    "id": "FaF9s5jxxovI",
    "outputId": "8194cd42-0af6-4b3a-c063-127ed4090eea"
   },
   "outputs": [
    {
     "name": "stdout",
     "output_type": "stream",
     "text": [
      "[nltk_data] Downloading package universal_tagset to /root/nltk_data...\n",
      "[nltk_data]   Unzipping taggers/universal_tagset.zip.\n",
      "[nltk_data] Downloading package punkt to /root/nltk_data...\n",
      "[nltk_data]   Unzipping tokenizers/punkt.zip.\n"
     ]
    }
   ],
   "source": [
    "import pandas as pd\n",
    "import numpy as np\n",
    "import re\n",
    "from tqdm import tqdm\n",
    "from pprint import pprint\n",
    "import regex\n",
    "import spacy\n",
    "import nltk\n",
    "from nltk.corpus import stopwords\n",
    "import matplotlib.pyplot as plt\n",
    "from sklearn.feature_extraction.text import TfidfVectorizer\n",
    "import random\n",
    "from tensorflow import keras\n",
    "from tensorflow.keras import layers\n",
    "from keras.models import Sequential, Model\n",
    "from keras.callbacks import EarlyStopping\n",
    "from keras.layers.convolutional import Conv1D, MaxPooling1D\n",
    "from keras.layers import Activation, Input, Dense, Dropout, BatchNormalization, \\\n",
    "LSTM, GRU, Bidirectional, Flatten, concatenate, Embedding, Reshape, GlobalAveragePooling1D, \\\n",
    "Attention, BatchNormalization\n",
    "from keras.callbacks import EarlyStopping\n",
    "from keras import optimizers, regularizers\n",
    "from sklearn.metrics import plot_roc_curve, roc_curve, \\\n",
    "auc, precision_score, recall_score, confusion_matrix, \\\n",
    "classification_report, accuracy_score, f1_score, mean_squared_error\n",
    "from sklearn.preprocessing import MinMaxScaler\n",
    "from datetime import datetime\n",
    "from datetime import timedelta\n",
    "\n",
    "nltk.download('universal_tagset')\n",
    "nltk.download('punkt')\n",
    "random.seed(1)"
   ]
  },
  {
   "cell_type": "code",
   "execution_count": null,
   "metadata": {
    "colab": {
     "base_uri": "https://localhost:8080/"
    },
    "id": "niHSED8UxovK",
    "outputId": "5ef1d741-6838-461a-b60e-c0e19133de62",
    "scrolled": false
   },
   "outputs": [
    {
     "data": {
      "text/plain": [
       "(5681, 5)"
      ]
     },
     "execution_count": 4,
     "metadata": {
      "tags": []
     },
     "output_type": "execute_result"
    }
   ],
   "source": [
    "df = pd.read_csv('/content/drive/MyDrive/stock_prediction/data/All_News.csv')\n",
    "df.drop(columns=[df.columns[0],df.columns[5]], axis=1, inplace=True)\n",
    "df.shape"
   ]
  },
  {
   "cell_type": "code",
   "execution_count": null,
   "metadata": {
    "colab": {
     "base_uri": "https://localhost:8080/"
    },
    "id": "meZO1Sfs-Xmi",
    "outputId": "a2807de1-9143-40b6-ff81-90b75fd3895c"
   },
   "outputs": [
    {
     "data": {
      "text/plain": [
       "(18, 5)"
      ]
     },
     "execution_count": 5,
     "metadata": {
      "tags": []
     },
     "output_type": "execute_result"
    }
   ],
   "source": [
    "df1 = pd.read_csv('/content/drive/MyDrive/stock_prediction/data/All_News_update.csv')\n",
    "df1.drop(columns=[df1.columns[0],df1.columns[5]], axis=1, inplace=True)\n",
    "df1.shape"
   ]
  },
  {
   "cell_type": "code",
   "execution_count": null,
   "metadata": {
    "colab": {
     "base_uri": "https://localhost:8080/"
    },
    "id": "naYlq2yf-tgZ",
    "outputId": "f5b46bd2-7591-40a9-8030-2a1ddf6218c6"
   },
   "outputs": [
    {
     "data": {
      "text/plain": [
       "(5699, 5)"
      ]
     },
     "execution_count": 6,
     "metadata": {
      "tags": []
     },
     "output_type": "execute_result"
    }
   ],
   "source": [
    "df = df.append(df1)\n",
    "df.shape"
   ]
  },
  {
   "cell_type": "markdown",
   "metadata": {
    "id": "iUq48mqi_zAt"
   },
   "source": [
    "## Filter Company"
   ]
  },
  {
   "cell_type": "code",
   "execution_count": null,
   "metadata": {
    "colab": {
     "base_uri": "https://localhost:8080/"
    },
    "id": "s5Tf3xdR_uBP",
    "outputId": "b3068b0e-86fe-4e94-bf66-9100be5ba573"
   },
   "outputs": [
    {
     "data": {
      "text/plain": [
       "(1391, 5)"
      ]
     },
     "execution_count": 7,
     "metadata": {
      "tags": []
     },
     "output_type": "execute_result"
    }
   ],
   "source": [
    "df = df[df['company_name'] == 'Google']\n",
    "df.shape"
   ]
  },
  {
   "cell_type": "markdown",
   "metadata": {
    "id": "1Hv1Feil_DqV"
   },
   "source": [
    "## Remove Duplicates"
   ]
  },
  {
   "cell_type": "code",
   "execution_count": null,
   "metadata": {
    "colab": {
     "base_uri": "https://localhost:8080/"
    },
    "id": "iOlqj1tw_F1o",
    "outputId": "ad20ce07-fc2f-44e2-d627-52700c0b4d5a"
   },
   "outputs": [
    {
     "name": "stdout",
     "output_type": "stream",
     "text": [
      "# duplicates:  1\n"
     ]
    }
   ],
   "source": [
    "#remove duplicates\n",
    "nb_rows = df.shape[0]\n",
    "df.drop_duplicates(inplace=True)\n",
    "print('# duplicates: ', nb_rows - df.shape[0])"
   ]
  },
  {
   "cell_type": "markdown",
   "metadata": {
    "id": "JXPaI4M3_MYR"
   },
   "source": [
    "## Missing Value"
   ]
  },
  {
   "cell_type": "code",
   "execution_count": null,
   "metadata": {
    "colab": {
     "base_uri": "https://localhost:8080/"
    },
    "id": "F-oXJZUM_N_2",
    "outputId": "85cbf6fd-9686-44f6-b295-69e5532e8015"
   },
   "outputs": [
    {
     "data": {
      "text/html": [
       "<div>\n",
       "<style scoped>\n",
       "    .dataframe tbody tr th:only-of-type {\n",
       "        vertical-align: middle;\n",
       "    }\n",
       "\n",
       "    .dataframe tbody tr th {\n",
       "        vertical-align: top;\n",
       "    }\n",
       "\n",
       "    .dataframe thead th {\n",
       "        text-align: right;\n",
       "    }\n",
       "</style>\n",
       "<table border=\"1\" class=\"dataframe\">\n",
       "  <thead>\n",
       "    <tr style=\"text-align: right;\">\n",
       "      <th></th>\n",
       "      <th>0</th>\n",
       "      <th>1</th>\n",
       "    </tr>\n",
       "  </thead>\n",
       "  <tbody>\n",
       "    <tr>\n",
       "      <th>Date</th>\n",
       "      <td># Empty entries:</td>\n",
       "      <td>0</td>\n",
       "    </tr>\n",
       "    <tr>\n",
       "      <th>Title</th>\n",
       "      <td># Empty entries:</td>\n",
       "      <td>0</td>\n",
       "    </tr>\n",
       "    <tr>\n",
       "      <th>Url</th>\n",
       "      <td># Empty entries:</td>\n",
       "      <td>0</td>\n",
       "    </tr>\n",
       "    <tr>\n",
       "      <th>Body</th>\n",
       "      <td># Empty entries:</td>\n",
       "      <td>15</td>\n",
       "    </tr>\n",
       "    <tr>\n",
       "      <th>company_name</th>\n",
       "      <td># Empty entries:</td>\n",
       "      <td>0</td>\n",
       "    </tr>\n",
       "  </tbody>\n",
       "</table>\n",
       "</div>"
      ],
      "text/plain": [
       "                             0   1\n",
       "Date          # Empty entries:   0\n",
       "Title         # Empty entries:   0\n",
       "Url           # Empty entries:   0\n",
       "Body          # Empty entries:  15\n",
       "company_name  # Empty entries:   0"
      ]
     },
     "execution_count": 9,
     "metadata": {
      "tags": []
     },
     "output_type": "execute_result"
    }
   ],
   "source": [
    "#check null\n",
    "def check_missing_values(row):\n",
    "    \"\"\" functions that check and verifies if there are missing values in dataframe \"\"\"\n",
    "    counter = 0\n",
    "    for element in row:\n",
    "        if element == True:\n",
    "            counter+=1\n",
    "    return (\"# Empty entries:\", counter)\n",
    "\n",
    "df.isnull().apply(lambda x: check_missing_values(x)).transpose()"
   ]
  },
  {
   "cell_type": "markdown",
   "metadata": {
    "id": "yfpU3PhU_U88"
   },
   "source": [
    "## Adjust Published Date"
   ]
  },
  {
   "cell_type": "code",
   "execution_count": null,
   "metadata": {
    "colab": {
     "base_uri": "https://localhost:8080/"
    },
    "id": "vEz46PPwxovL",
    "outputId": "7876a14d-41ac-447b-fe7a-c355495b76d3"
   },
   "outputs": [
    {
     "data": {
      "text/html": [
       "<div>\n",
       "<style scoped>\n",
       "    .dataframe tbody tr th:only-of-type {\n",
       "        vertical-align: middle;\n",
       "    }\n",
       "\n",
       "    .dataframe tbody tr th {\n",
       "        vertical-align: top;\n",
       "    }\n",
       "\n",
       "    .dataframe thead th {\n",
       "        text-align: right;\n",
       "    }\n",
       "</style>\n",
       "<table border=\"1\" class=\"dataframe\">\n",
       "  <thead>\n",
       "    <tr style=\"text-align: right;\">\n",
       "      <th></th>\n",
       "      <th>Date</th>\n",
       "      <th>Title</th>\n",
       "      <th>Url</th>\n",
       "      <th>Body</th>\n",
       "      <th>company_name</th>\n",
       "    </tr>\n",
       "  </thead>\n",
       "  <tbody>\n",
       "    <tr>\n",
       "      <th>2710</th>\n",
       "      <td>2021-05-19</td>\n",
       "      <td>‘Privacy by design’: Google to give people mor...</td>\n",
       "      <td>https://www.theguardian.com/technology/2021/ma...</td>\n",
       "      <td>&lt;p&gt;Google is attempting a rebrand with a suite...</td>\n",
       "      <td>Google</td>\n",
       "    </tr>\n",
       "    <tr>\n",
       "      <th>2711</th>\n",
       "      <td>2021-04-28</td>\n",
       "      <td>Alphabet: revenue soars for Google owner as Co...</td>\n",
       "      <td>https://www.theguardian.com/technology/2021/ap...</td>\n",
       "      <td>&lt;p&gt;Google’s parent company, Alphabet, more tha...</td>\n",
       "      <td>Google</td>\n",
       "    </tr>\n",
       "    <tr>\n",
       "      <th>2712</th>\n",
       "      <td>2021-04-28</td>\n",
       "      <td>Australia’s competition watchdog wants to redu...</td>\n",
       "      <td>https://www.theguardian.com/technology/2021/ap...</td>\n",
       "      <td>&lt;p&gt;People should be given a choice of apps oth...</td>\n",
       "      <td>Google</td>\n",
       "    </tr>\n",
       "    <tr>\n",
       "      <th>2713</th>\n",
       "      <td>2021-04-22</td>\n",
       "      <td>Apple and Google ‘hold data hostage’ and stifl...</td>\n",
       "      <td>https://www.theguardian.com/technology/2021/ap...</td>\n",
       "      <td>&lt;p&gt;Apple and Google “hold data hostage” from s...</td>\n",
       "      <td>Google</td>\n",
       "    </tr>\n",
       "    <tr>\n",
       "      <th>2714</th>\n",
       "      <td>2021-04-16</td>\n",
       "      <td>Google location data: what does Australian cou...</td>\n",
       "      <td>https://www.theguardian.com/technology/2021/ap...</td>\n",
       "      <td>&lt;p&gt;If you have ever used Google Maps on your p...</td>\n",
       "      <td>Google</td>\n",
       "    </tr>\n",
       "  </tbody>\n",
       "</table>\n",
       "</div>"
      ],
      "text/plain": [
       "            Date  ... company_name\n",
       "2710  2021-05-19  ...       Google\n",
       "2711  2021-04-28  ...       Google\n",
       "2712  2021-04-28  ...       Google\n",
       "2713  2021-04-22  ...       Google\n",
       "2714  2021-04-16  ...       Google\n",
       "\n",
       "[5 rows x 5 columns]"
      ]
     },
     "execution_count": 10,
     "metadata": {
      "tags": []
     },
     "output_type": "execute_result"
    }
   ],
   "source": [
    "df['Date'] = pd.to_datetime(df['Date'], format='%Y-%m-%d').dt.date\n",
    "df.head()"
   ]
  },
  {
   "cell_type": "code",
   "execution_count": null,
   "metadata": {
    "colab": {
     "base_uri": "https://localhost:8080/"
    },
    "id": "M5ybzhFPxovL",
    "outputId": "a5c01724-f7cf-4b34-84bd-32309e1254d9"
   },
   "outputs": [
    {
     "data": {
      "text/html": [
       "<div>\n",
       "<style scoped>\n",
       "    .dataframe tbody tr th:only-of-type {\n",
       "        vertical-align: middle;\n",
       "    }\n",
       "\n",
       "    .dataframe tbody tr th {\n",
       "        vertical-align: top;\n",
       "    }\n",
       "\n",
       "    .dataframe thead th {\n",
       "        text-align: right;\n",
       "    }\n",
       "</style>\n",
       "<table border=\"1\" class=\"dataframe\">\n",
       "  <thead>\n",
       "    <tr style=\"text-align: right;\">\n",
       "      <th></th>\n",
       "      <th>Date</th>\n",
       "      <th>Title</th>\n",
       "      <th>Url</th>\n",
       "      <th>Body</th>\n",
       "      <th>company_name</th>\n",
       "      <th>wday</th>\n",
       "    </tr>\n",
       "  </thead>\n",
       "  <tbody>\n",
       "    <tr>\n",
       "      <th>2710</th>\n",
       "      <td>2021-05-19</td>\n",
       "      <td>‘Privacy by design’: Google to give people mor...</td>\n",
       "      <td>https://www.theguardian.com/technology/2021/ma...</td>\n",
       "      <td>&lt;p&gt;Google is attempting a rebrand with a suite...</td>\n",
       "      <td>Google</td>\n",
       "      <td>2</td>\n",
       "    </tr>\n",
       "    <tr>\n",
       "      <th>2711</th>\n",
       "      <td>2021-04-28</td>\n",
       "      <td>Alphabet: revenue soars for Google owner as Co...</td>\n",
       "      <td>https://www.theguardian.com/technology/2021/ap...</td>\n",
       "      <td>&lt;p&gt;Google’s parent company, Alphabet, more tha...</td>\n",
       "      <td>Google</td>\n",
       "      <td>2</td>\n",
       "    </tr>\n",
       "    <tr>\n",
       "      <th>2712</th>\n",
       "      <td>2021-04-28</td>\n",
       "      <td>Australia’s competition watchdog wants to redu...</td>\n",
       "      <td>https://www.theguardian.com/technology/2021/ap...</td>\n",
       "      <td>&lt;p&gt;People should be given a choice of apps oth...</td>\n",
       "      <td>Google</td>\n",
       "      <td>2</td>\n",
       "    </tr>\n",
       "    <tr>\n",
       "      <th>2713</th>\n",
       "      <td>2021-04-22</td>\n",
       "      <td>Apple and Google ‘hold data hostage’ and stifl...</td>\n",
       "      <td>https://www.theguardian.com/technology/2021/ap...</td>\n",
       "      <td>&lt;p&gt;Apple and Google “hold data hostage” from s...</td>\n",
       "      <td>Google</td>\n",
       "      <td>3</td>\n",
       "    </tr>\n",
       "    <tr>\n",
       "      <th>2714</th>\n",
       "      <td>2021-04-16</td>\n",
       "      <td>Google location data: what does Australian cou...</td>\n",
       "      <td>https://www.theguardian.com/technology/2021/ap...</td>\n",
       "      <td>&lt;p&gt;If you have ever used Google Maps on your p...</td>\n",
       "      <td>Google</td>\n",
       "      <td>4</td>\n",
       "    </tr>\n",
       "    <tr>\n",
       "      <th>...</th>\n",
       "      <td>...</td>\n",
       "      <td>...</td>\n",
       "      <td>...</td>\n",
       "      <td>...</td>\n",
       "      <td>...</td>\n",
       "      <td>...</td>\n",
       "    </tr>\n",
       "    <tr>\n",
       "      <th>4096</th>\n",
       "      <td>2012-05-21</td>\n",
       "      <td>China adds conditions to approval of Google bi...</td>\n",
       "      <td>https://www.theguardian.com/technology/2012/ma...</td>\n",
       "      <td>&lt;p&gt;Authorities in China have put a surprising ...</td>\n",
       "      <td>Google</td>\n",
       "      <td>0</td>\n",
       "    </tr>\n",
       "    <tr>\n",
       "      <th>4097</th>\n",
       "      <td>2012-05-21</td>\n",
       "      <td>Boot up: Windows' new look, Apple's Siri lawsu...</td>\n",
       "      <td>https://www.theguardian.com/technology/blog/20...</td>\n",
       "      <td>&lt;p&gt;A quick burst of 9 links for you to chew ov...</td>\n",
       "      <td>Google</td>\n",
       "      <td>0</td>\n",
       "    </tr>\n",
       "    <tr>\n",
       "      <th>4098</th>\n",
       "      <td>2012-05-18</td>\n",
       "      <td>Google+: still not as interesting as Pinterest...</td>\n",
       "      <td>https://www.theguardian.com/technology/blog/20...</td>\n",
       "      <td>&lt;p&gt;Away from all the hubbub over that &lt;em&gt;othe...</td>\n",
       "      <td>Google</td>\n",
       "      <td>4</td>\n",
       "    </tr>\n",
       "    <tr>\n",
       "      <th>4099</th>\n",
       "      <td>2012-05-18</td>\n",
       "      <td>Boot up: web v apps, Google v France, the iPho...</td>\n",
       "      <td>https://www.theguardian.com/technology/blog/20...</td>\n",
       "      <td>&lt;p&gt;A quick burst of 8 links for you to chew ov...</td>\n",
       "      <td>Google</td>\n",
       "      <td>4</td>\n",
       "    </tr>\n",
       "    <tr>\n",
       "      <th>13</th>\n",
       "      <td>2021-06-07</td>\n",
       "      <td>France fines Google for abusing online adverti...</td>\n",
       "      <td>https://www.theguardian.com/technology/2021/ju...</td>\n",
       "      <td>&lt;p&gt;Google has been fined €220m (£189m) by Fren...</td>\n",
       "      <td>Google</td>\n",
       "      <td>0</td>\n",
       "    </tr>\n",
       "  </tbody>\n",
       "</table>\n",
       "<p>1390 rows × 6 columns</p>\n",
       "</div>"
      ],
      "text/plain": [
       "            Date  ... wday\n",
       "2710  2021-05-19  ...    2\n",
       "2711  2021-04-28  ...    2\n",
       "2712  2021-04-28  ...    2\n",
       "2713  2021-04-22  ...    3\n",
       "2714  2021-04-16  ...    4\n",
       "...          ...  ...  ...\n",
       "4096  2012-05-21  ...    0\n",
       "4097  2012-05-21  ...    0\n",
       "4098  2012-05-18  ...    4\n",
       "4099  2012-05-18  ...    4\n",
       "13    2021-06-07  ...    0\n",
       "\n",
       "[1390 rows x 6 columns]"
      ]
     },
     "execution_count": 11,
     "metadata": {
      "tags": []
     },
     "output_type": "execute_result"
    }
   ],
   "source": [
    "df['wday'] = pd.to_datetime(df['Date'], format='%Y-%m-%d').dt.dayofweek\n",
    "df"
   ]
  },
  {
   "cell_type": "code",
   "execution_count": null,
   "metadata": {
    "colab": {
     "base_uri": "https://localhost:8080/",
     "height": 300
    },
    "id": "V14-tPohxovM",
    "outputId": "891b58cf-37fa-44d3-f8ff-f373610f5718"
   },
   "outputs": [
    {
     "data": {
      "text/html": [
       "<div>\n",
       "<style scoped>\n",
       "    .dataframe tbody tr th:only-of-type {\n",
       "        vertical-align: middle;\n",
       "    }\n",
       "\n",
       "    .dataframe tbody tr th {\n",
       "        vertical-align: top;\n",
       "    }\n",
       "\n",
       "    .dataframe thead th {\n",
       "        text-align: right;\n",
       "    }\n",
       "</style>\n",
       "<table border=\"1\" class=\"dataframe\">\n",
       "  <thead>\n",
       "    <tr style=\"text-align: right;\">\n",
       "      <th></th>\n",
       "      <th>Date</th>\n",
       "      <th>Title</th>\n",
       "      <th>Url</th>\n",
       "      <th>Body</th>\n",
       "      <th>company_name</th>\n",
       "    </tr>\n",
       "    <tr>\n",
       "      <th>wday</th>\n",
       "      <th></th>\n",
       "      <th></th>\n",
       "      <th></th>\n",
       "      <th></th>\n",
       "      <th></th>\n",
       "    </tr>\n",
       "  </thead>\n",
       "  <tbody>\n",
       "    <tr>\n",
       "      <th>0</th>\n",
       "      <td>227</td>\n",
       "      <td>227</td>\n",
       "      <td>227</td>\n",
       "      <td>227</td>\n",
       "      <td>227</td>\n",
       "    </tr>\n",
       "    <tr>\n",
       "      <th>1</th>\n",
       "      <td>262</td>\n",
       "      <td>262</td>\n",
       "      <td>262</td>\n",
       "      <td>260</td>\n",
       "      <td>262</td>\n",
       "    </tr>\n",
       "    <tr>\n",
       "      <th>2</th>\n",
       "      <td>301</td>\n",
       "      <td>301</td>\n",
       "      <td>301</td>\n",
       "      <td>297</td>\n",
       "      <td>301</td>\n",
       "    </tr>\n",
       "    <tr>\n",
       "      <th>3</th>\n",
       "      <td>275</td>\n",
       "      <td>275</td>\n",
       "      <td>275</td>\n",
       "      <td>270</td>\n",
       "      <td>275</td>\n",
       "    </tr>\n",
       "    <tr>\n",
       "      <th>4</th>\n",
       "      <td>233</td>\n",
       "      <td>233</td>\n",
       "      <td>233</td>\n",
       "      <td>230</td>\n",
       "      <td>233</td>\n",
       "    </tr>\n",
       "    <tr>\n",
       "      <th>5</th>\n",
       "      <td>41</td>\n",
       "      <td>41</td>\n",
       "      <td>41</td>\n",
       "      <td>40</td>\n",
       "      <td>41</td>\n",
       "    </tr>\n",
       "    <tr>\n",
       "      <th>6</th>\n",
       "      <td>51</td>\n",
       "      <td>51</td>\n",
       "      <td>51</td>\n",
       "      <td>51</td>\n",
       "      <td>51</td>\n",
       "    </tr>\n",
       "  </tbody>\n",
       "</table>\n",
       "</div>"
      ],
      "text/plain": [
       "      Date  Title  Url  Body  company_name\n",
       "wday                                      \n",
       "0      227    227  227   227           227\n",
       "1      262    262  262   260           262\n",
       "2      301    301  301   297           301\n",
       "3      275    275  275   270           275\n",
       "4      233    233  233   230           233\n",
       "5       41     41   41    40            41\n",
       "6       51     51   51    51            51"
      ]
     },
     "execution_count": 12,
     "metadata": {
      "tags": []
     },
     "output_type": "execute_result"
    }
   ],
   "source": [
    "df.groupby('wday').count()"
   ]
  },
  {
   "cell_type": "code",
   "execution_count": null,
   "metadata": {
    "id": "phJSz04pxovM"
   },
   "outputs": [],
   "source": [
    "def adjusted_date(row):\n",
    "    if row['wday'] < 4 or row['wday'] == 6:\n",
    "        return row['Date'] + timedelta(days=1)\n",
    "    elif row['wday'] == 5:\n",
    "        return row['Date'] + timedelta(days=2)\n",
    "    else:\n",
    "        return row['Date'] + timedelta(days=3)"
   ]
  },
  {
   "cell_type": "code",
   "execution_count": null,
   "metadata": {
    "colab": {
     "base_uri": "https://localhost:8080/",
     "height": 684
    },
    "id": "S5YiF3m0xovM",
    "outputId": "50446616-f035-4f77-92b4-98b3faa602e9"
   },
   "outputs": [
    {
     "data": {
      "text/html": [
       "<div>\n",
       "<style scoped>\n",
       "    .dataframe tbody tr th:only-of-type {\n",
       "        vertical-align: middle;\n",
       "    }\n",
       "\n",
       "    .dataframe tbody tr th {\n",
       "        vertical-align: top;\n",
       "    }\n",
       "\n",
       "    .dataframe thead th {\n",
       "        text-align: right;\n",
       "    }\n",
       "</style>\n",
       "<table border=\"1\" class=\"dataframe\">\n",
       "  <thead>\n",
       "    <tr style=\"text-align: right;\">\n",
       "      <th></th>\n",
       "      <th>Date</th>\n",
       "      <th>Title</th>\n",
       "      <th>Url</th>\n",
       "      <th>Body</th>\n",
       "      <th>company_name</th>\n",
       "      <th>wday</th>\n",
       "      <th>adjusted_date</th>\n",
       "    </tr>\n",
       "  </thead>\n",
       "  <tbody>\n",
       "    <tr>\n",
       "      <th>2710</th>\n",
       "      <td>2021-05-19</td>\n",
       "      <td>‘Privacy by design’: Google to give people mor...</td>\n",
       "      <td>https://www.theguardian.com/technology/2021/ma...</td>\n",
       "      <td>&lt;p&gt;Google is attempting a rebrand with a suite...</td>\n",
       "      <td>Google</td>\n",
       "      <td>2</td>\n",
       "      <td>2021-05-20</td>\n",
       "    </tr>\n",
       "    <tr>\n",
       "      <th>2711</th>\n",
       "      <td>2021-04-28</td>\n",
       "      <td>Alphabet: revenue soars for Google owner as Co...</td>\n",
       "      <td>https://www.theguardian.com/technology/2021/ap...</td>\n",
       "      <td>&lt;p&gt;Google’s parent company, Alphabet, more tha...</td>\n",
       "      <td>Google</td>\n",
       "      <td>2</td>\n",
       "      <td>2021-04-29</td>\n",
       "    </tr>\n",
       "    <tr>\n",
       "      <th>2712</th>\n",
       "      <td>2021-04-28</td>\n",
       "      <td>Australia’s competition watchdog wants to redu...</td>\n",
       "      <td>https://www.theguardian.com/technology/2021/ap...</td>\n",
       "      <td>&lt;p&gt;People should be given a choice of apps oth...</td>\n",
       "      <td>Google</td>\n",
       "      <td>2</td>\n",
       "      <td>2021-04-29</td>\n",
       "    </tr>\n",
       "    <tr>\n",
       "      <th>2713</th>\n",
       "      <td>2021-04-22</td>\n",
       "      <td>Apple and Google ‘hold data hostage’ and stifl...</td>\n",
       "      <td>https://www.theguardian.com/technology/2021/ap...</td>\n",
       "      <td>&lt;p&gt;Apple and Google “hold data hostage” from s...</td>\n",
       "      <td>Google</td>\n",
       "      <td>3</td>\n",
       "      <td>2021-04-23</td>\n",
       "    </tr>\n",
       "    <tr>\n",
       "      <th>2714</th>\n",
       "      <td>2021-04-16</td>\n",
       "      <td>Google location data: what does Australian cou...</td>\n",
       "      <td>https://www.theguardian.com/technology/2021/ap...</td>\n",
       "      <td>&lt;p&gt;If you have ever used Google Maps on your p...</td>\n",
       "      <td>Google</td>\n",
       "      <td>4</td>\n",
       "      <td>2021-04-19</td>\n",
       "    </tr>\n",
       "    <tr>\n",
       "      <th>...</th>\n",
       "      <td>...</td>\n",
       "      <td>...</td>\n",
       "      <td>...</td>\n",
       "      <td>...</td>\n",
       "      <td>...</td>\n",
       "      <td>...</td>\n",
       "      <td>...</td>\n",
       "    </tr>\n",
       "    <tr>\n",
       "      <th>4096</th>\n",
       "      <td>2012-05-21</td>\n",
       "      <td>China adds conditions to approval of Google bi...</td>\n",
       "      <td>https://www.theguardian.com/technology/2012/ma...</td>\n",
       "      <td>&lt;p&gt;Authorities in China have put a surprising ...</td>\n",
       "      <td>Google</td>\n",
       "      <td>0</td>\n",
       "      <td>2012-05-22</td>\n",
       "    </tr>\n",
       "    <tr>\n",
       "      <th>4097</th>\n",
       "      <td>2012-05-21</td>\n",
       "      <td>Boot up: Windows' new look, Apple's Siri lawsu...</td>\n",
       "      <td>https://www.theguardian.com/technology/blog/20...</td>\n",
       "      <td>&lt;p&gt;A quick burst of 9 links for you to chew ov...</td>\n",
       "      <td>Google</td>\n",
       "      <td>0</td>\n",
       "      <td>2012-05-22</td>\n",
       "    </tr>\n",
       "    <tr>\n",
       "      <th>4098</th>\n",
       "      <td>2012-05-18</td>\n",
       "      <td>Google+: still not as interesting as Pinterest...</td>\n",
       "      <td>https://www.theguardian.com/technology/blog/20...</td>\n",
       "      <td>&lt;p&gt;Away from all the hubbub over that &lt;em&gt;othe...</td>\n",
       "      <td>Google</td>\n",
       "      <td>4</td>\n",
       "      <td>2012-05-21</td>\n",
       "    </tr>\n",
       "    <tr>\n",
       "      <th>4099</th>\n",
       "      <td>2012-05-18</td>\n",
       "      <td>Boot up: web v apps, Google v France, the iPho...</td>\n",
       "      <td>https://www.theguardian.com/technology/blog/20...</td>\n",
       "      <td>&lt;p&gt;A quick burst of 8 links for you to chew ov...</td>\n",
       "      <td>Google</td>\n",
       "      <td>4</td>\n",
       "      <td>2012-05-21</td>\n",
       "    </tr>\n",
       "    <tr>\n",
       "      <th>13</th>\n",
       "      <td>2021-06-07</td>\n",
       "      <td>France fines Google for abusing online adverti...</td>\n",
       "      <td>https://www.theguardian.com/technology/2021/ju...</td>\n",
       "      <td>&lt;p&gt;Google has been fined €220m (£189m) by Fren...</td>\n",
       "      <td>Google</td>\n",
       "      <td>0</td>\n",
       "      <td>2021-06-08</td>\n",
       "    </tr>\n",
       "  </tbody>\n",
       "</table>\n",
       "<p>1390 rows × 7 columns</p>\n",
       "</div>"
      ],
      "text/plain": [
       "            Date  ... adjusted_date\n",
       "2710  2021-05-19  ...    2021-05-20\n",
       "2711  2021-04-28  ...    2021-04-29\n",
       "2712  2021-04-28  ...    2021-04-29\n",
       "2713  2021-04-22  ...    2021-04-23\n",
       "2714  2021-04-16  ...    2021-04-19\n",
       "...          ...  ...           ...\n",
       "4096  2012-05-21  ...    2012-05-22\n",
       "4097  2012-05-21  ...    2012-05-22\n",
       "4098  2012-05-18  ...    2012-05-21\n",
       "4099  2012-05-18  ...    2012-05-21\n",
       "13    2021-06-07  ...    2021-06-08\n",
       "\n",
       "[1390 rows x 7 columns]"
      ]
     },
     "execution_count": 14,
     "metadata": {
      "tags": []
     },
     "output_type": "execute_result"
    }
   ],
   "source": [
    "df['adjusted_date'] = df.apply(lambda row: adjusted_date(row), axis=1)\n",
    "df"
   ]
  },
  {
   "cell_type": "code",
   "execution_count": null,
   "metadata": {
    "colab": {
     "base_uri": "https://localhost:8080/",
     "height": 454
    },
    "id": "Wl9SfjWqxovN",
    "outputId": "5657db1c-02fc-4830-9427-1a70075c48db"
   },
   "outputs": [
    {
     "data": {
      "text/html": [
       "<div>\n",
       "<style scoped>\n",
       "    .dataframe tbody tr th:only-of-type {\n",
       "        vertical-align: middle;\n",
       "    }\n",
       "\n",
       "    .dataframe tbody tr th {\n",
       "        vertical-align: top;\n",
       "    }\n",
       "\n",
       "    .dataframe thead th {\n",
       "        text-align: right;\n",
       "    }\n",
       "</style>\n",
       "<table border=\"1\" class=\"dataframe\">\n",
       "  <thead>\n",
       "    <tr style=\"text-align: right;\">\n",
       "      <th></th>\n",
       "      <th>Title</th>\n",
       "    </tr>\n",
       "    <tr>\n",
       "      <th>adjusted_date</th>\n",
       "      <th></th>\n",
       "    </tr>\n",
       "  </thead>\n",
       "  <tbody>\n",
       "    <tr>\n",
       "      <th>2015-08-12</th>\n",
       "      <td>7</td>\n",
       "    </tr>\n",
       "    <tr>\n",
       "      <th>2017-03-20</th>\n",
       "      <td>6</td>\n",
       "    </tr>\n",
       "    <tr>\n",
       "      <th>2013-06-03</th>\n",
       "      <td>5</td>\n",
       "    </tr>\n",
       "    <tr>\n",
       "      <th>2014-07-07</th>\n",
       "      <td>5</td>\n",
       "    </tr>\n",
       "    <tr>\n",
       "      <th>2014-01-31</th>\n",
       "      <td>5</td>\n",
       "    </tr>\n",
       "    <tr>\n",
       "      <th>...</th>\n",
       "      <td>...</td>\n",
       "    </tr>\n",
       "    <tr>\n",
       "      <th>2014-11-26</th>\n",
       "      <td>1</td>\n",
       "    </tr>\n",
       "    <tr>\n",
       "      <th>2014-11-27</th>\n",
       "      <td>1</td>\n",
       "    </tr>\n",
       "    <tr>\n",
       "      <th>2014-12-03</th>\n",
       "      <td>1</td>\n",
       "    </tr>\n",
       "    <tr>\n",
       "      <th>2014-12-08</th>\n",
       "      <td>1</td>\n",
       "    </tr>\n",
       "    <tr>\n",
       "      <th>2021-06-08</th>\n",
       "      <td>1</td>\n",
       "    </tr>\n",
       "  </tbody>\n",
       "</table>\n",
       "<p>948 rows × 1 columns</p>\n",
       "</div>"
      ],
      "text/plain": [
       "               Title\n",
       "adjusted_date       \n",
       "2015-08-12         7\n",
       "2017-03-20         6\n",
       "2013-06-03         5\n",
       "2014-07-07         5\n",
       "2014-01-31         5\n",
       "...              ...\n",
       "2014-11-26         1\n",
       "2014-11-27         1\n",
       "2014-12-03         1\n",
       "2014-12-08         1\n",
       "2021-06-08         1\n",
       "\n",
       "[948 rows x 1 columns]"
      ]
     },
     "execution_count": 15,
     "metadata": {
      "tags": []
     },
     "output_type": "execute_result"
    }
   ],
   "source": [
    "df.groupby('adjusted_date').count()[['Title']].sort_values(by=['Title'], ascending=False)"
   ]
  },
  {
   "cell_type": "code",
   "execution_count": null,
   "metadata": {
    "colab": {
     "base_uri": "https://localhost:8080/",
     "height": 424
    },
    "id": "CWMYPwVexovN",
    "outputId": "f08241ef-be3e-4ce0-bf5f-098be1dd4f80"
   },
   "outputs": [
    {
     "data": {
      "text/html": [
       "<div>\n",
       "<style scoped>\n",
       "    .dataframe tbody tr th:only-of-type {\n",
       "        vertical-align: middle;\n",
       "    }\n",
       "\n",
       "    .dataframe tbody tr th {\n",
       "        vertical-align: top;\n",
       "    }\n",
       "\n",
       "    .dataframe thead th {\n",
       "        text-align: right;\n",
       "    }\n",
       "</style>\n",
       "<table border=\"1\" class=\"dataframe\">\n",
       "  <thead>\n",
       "    <tr style=\"text-align: right;\">\n",
       "      <th></th>\n",
       "      <th>adjusted_date</th>\n",
       "      <th>Title</th>\n",
       "    </tr>\n",
       "  </thead>\n",
       "  <tbody>\n",
       "    <tr>\n",
       "      <th>0</th>\n",
       "      <td>2012-05-21</td>\n",
       "      <td>Google+: still not as interesting as Pinterest...</td>\n",
       "    </tr>\n",
       "    <tr>\n",
       "      <th>1</th>\n",
       "      <td>2012-05-22</td>\n",
       "      <td>Google given last chance to outline how it wil...</td>\n",
       "    </tr>\n",
       "    <tr>\n",
       "      <th>2</th>\n",
       "      <td>2012-05-23</td>\n",
       "      <td>Google appoints Dennis Woodside to run Motorol...</td>\n",
       "    </tr>\n",
       "    <tr>\n",
       "      <th>3</th>\n",
       "      <td>2012-05-24</td>\n",
       "      <td>Robert Moog's 78th birthday celebrated in Goog...</td>\n",
       "    </tr>\n",
       "    <tr>\n",
       "      <th>4</th>\n",
       "      <td>2012-05-25</td>\n",
       "      <td>Google faced with a million requests a month t...</td>\n",
       "    </tr>\n",
       "    <tr>\n",
       "      <th>...</th>\n",
       "      <td>...</td>\n",
       "      <td>...</td>\n",
       "    </tr>\n",
       "    <tr>\n",
       "      <th>943</th>\n",
       "      <td>2021-04-19</td>\n",
       "      <td>Google location data: what does Australian cou...</td>\n",
       "    </tr>\n",
       "    <tr>\n",
       "      <th>944</th>\n",
       "      <td>2021-04-23</td>\n",
       "      <td>Apple and Google ‘hold data hostage’ and stifl...</td>\n",
       "    </tr>\n",
       "    <tr>\n",
       "      <th>945</th>\n",
       "      <td>2021-04-29</td>\n",
       "      <td>Alphabet: revenue soars for Google owner as Co...</td>\n",
       "    </tr>\n",
       "    <tr>\n",
       "      <th>946</th>\n",
       "      <td>2021-05-20</td>\n",
       "      <td>‘Privacy by design’: Google to give people mor...</td>\n",
       "    </tr>\n",
       "    <tr>\n",
       "      <th>947</th>\n",
       "      <td>2021-06-08</td>\n",
       "      <td>France fines Google for abusing online adverti...</td>\n",
       "    </tr>\n",
       "  </tbody>\n",
       "</table>\n",
       "<p>948 rows × 2 columns</p>\n",
       "</div>"
      ],
      "text/plain": [
       "    adjusted_date                                              Title\n",
       "0      2012-05-21  Google+: still not as interesting as Pinterest...\n",
       "1      2012-05-22  Google given last chance to outline how it wil...\n",
       "2      2012-05-23  Google appoints Dennis Woodside to run Motorol...\n",
       "3      2012-05-24  Robert Moog's 78th birthday celebrated in Goog...\n",
       "4      2012-05-25  Google faced with a million requests a month t...\n",
       "..            ...                                                ...\n",
       "943    2021-04-19  Google location data: what does Australian cou...\n",
       "944    2021-04-23  Apple and Google ‘hold data hostage’ and stifl...\n",
       "945    2021-04-29  Alphabet: revenue soars for Google owner as Co...\n",
       "946    2021-05-20  ‘Privacy by design’: Google to give people mor...\n",
       "947    2021-06-08  France fines Google for abusing online adverti...\n",
       "\n",
       "[948 rows x 2 columns]"
      ]
     },
     "execution_count": 16,
     "metadata": {
      "tags": []
     },
     "output_type": "execute_result"
    }
   ],
   "source": [
    "df_news = df.groupby('adjusted_date')['Title'].apply(' '.join).reset_index()\n",
    "df_news"
   ]
  },
  {
   "cell_type": "code",
   "execution_count": null,
   "metadata": {
    "colab": {
     "base_uri": "https://localhost:8080/",
     "height": 424
    },
    "id": "vNU1U_aoxovN",
    "outputId": "093b45d6-a8e9-48b4-f79f-727149ed29bd"
   },
   "outputs": [
    {
     "data": {
      "text/html": [
       "<div>\n",
       "<style scoped>\n",
       "    .dataframe tbody tr th:only-of-type {\n",
       "        vertical-align: middle;\n",
       "    }\n",
       "\n",
       "    .dataframe tbody tr th {\n",
       "        vertical-align: top;\n",
       "    }\n",
       "\n",
       "    .dataframe thead th {\n",
       "        text-align: right;\n",
       "    }\n",
       "</style>\n",
       "<table border=\"1\" class=\"dataframe\">\n",
       "  <thead>\n",
       "    <tr style=\"text-align: right;\">\n",
       "      <th></th>\n",
       "      <th>Date</th>\n",
       "      <th>Title</th>\n",
       "    </tr>\n",
       "  </thead>\n",
       "  <tbody>\n",
       "    <tr>\n",
       "      <th>0</th>\n",
       "      <td>2012-05-21</td>\n",
       "      <td>Google+: still not as interesting as Pinterest...</td>\n",
       "    </tr>\n",
       "    <tr>\n",
       "      <th>1</th>\n",
       "      <td>2012-05-22</td>\n",
       "      <td>Google given last chance to outline how it wil...</td>\n",
       "    </tr>\n",
       "    <tr>\n",
       "      <th>2</th>\n",
       "      <td>2012-05-23</td>\n",
       "      <td>Google appoints Dennis Woodside to run Motorol...</td>\n",
       "    </tr>\n",
       "    <tr>\n",
       "      <th>3</th>\n",
       "      <td>2012-05-24</td>\n",
       "      <td>Robert Moog's 78th birthday celebrated in Goog...</td>\n",
       "    </tr>\n",
       "    <tr>\n",
       "      <th>4</th>\n",
       "      <td>2012-05-25</td>\n",
       "      <td>Google faced with a million requests a month t...</td>\n",
       "    </tr>\n",
       "    <tr>\n",
       "      <th>...</th>\n",
       "      <td>...</td>\n",
       "      <td>...</td>\n",
       "    </tr>\n",
       "    <tr>\n",
       "      <th>943</th>\n",
       "      <td>2021-04-19</td>\n",
       "      <td>Google location data: what does Australian cou...</td>\n",
       "    </tr>\n",
       "    <tr>\n",
       "      <th>944</th>\n",
       "      <td>2021-04-23</td>\n",
       "      <td>Apple and Google ‘hold data hostage’ and stifl...</td>\n",
       "    </tr>\n",
       "    <tr>\n",
       "      <th>945</th>\n",
       "      <td>2021-04-29</td>\n",
       "      <td>Alphabet: revenue soars for Google owner as Co...</td>\n",
       "    </tr>\n",
       "    <tr>\n",
       "      <th>946</th>\n",
       "      <td>2021-05-20</td>\n",
       "      <td>‘Privacy by design’: Google to give people mor...</td>\n",
       "    </tr>\n",
       "    <tr>\n",
       "      <th>947</th>\n",
       "      <td>2021-06-08</td>\n",
       "      <td>France fines Google for abusing online adverti...</td>\n",
       "    </tr>\n",
       "  </tbody>\n",
       "</table>\n",
       "<p>948 rows × 2 columns</p>\n",
       "</div>"
      ],
      "text/plain": [
       "           Date                                              Title\n",
       "0    2012-05-21  Google+: still not as interesting as Pinterest...\n",
       "1    2012-05-22  Google given last chance to outline how it wil...\n",
       "2    2012-05-23  Google appoints Dennis Woodside to run Motorol...\n",
       "3    2012-05-24  Robert Moog's 78th birthday celebrated in Goog...\n",
       "4    2012-05-25  Google faced with a million requests a month t...\n",
       "..          ...                                                ...\n",
       "943  2021-04-19  Google location data: what does Australian cou...\n",
       "944  2021-04-23  Apple and Google ‘hold data hostage’ and stifl...\n",
       "945  2021-04-29  Alphabet: revenue soars for Google owner as Co...\n",
       "946  2021-05-20  ‘Privacy by design’: Google to give people mor...\n",
       "947  2021-06-08  France fines Google for abusing online adverti...\n",
       "\n",
       "[948 rows x 2 columns]"
      ]
     },
     "execution_count": 17,
     "metadata": {
      "tags": []
     },
     "output_type": "execute_result"
    }
   ],
   "source": [
    "df_news.rename({'adjusted_date': 'Date'}, axis=1, inplace=True)\n",
    "df_news"
   ]
  },
  {
   "cell_type": "markdown",
   "metadata": {
    "id": "E3RTDIHwxovO"
   },
   "source": [
    "## Text Tokenization"
   ]
  },
  {
   "cell_type": "code",
   "execution_count": null,
   "metadata": {
    "colab": {
     "base_uri": "https://localhost:8080/"
    },
    "id": "u9XGvQyGxovO",
    "outputId": "8ae919ee-edb9-479c-82bb-720ae85913e0"
   },
   "outputs": [
    {
     "name": "stdout",
     "output_type": "stream",
     "text": [
      "<class 'pandas.core.frame.DataFrame'>\n",
      "RangeIndex: 948 entries, 0 to 947\n",
      "Data columns (total 4 columns):\n",
      " #   Column        Non-Null Count  Dtype \n",
      "---  ------        --------------  ----- \n",
      " 0   Date          948 non-null    object\n",
      " 1   Title         948 non-null    object\n",
      " 2   text_decont   948 non-null    object\n",
      " 3   text_no_punc  948 non-null    object\n",
      "dtypes: object(4)\n",
      "memory usage: 29.8+ KB\n"
     ]
    }
   ],
   "source": [
    "#decontract to not create token from special cases.\n",
    "#For example, \"won't\" or \" can't\" can generate tokens as \"wo\", \"ca\" which are not removed by stopwords\n",
    "\n",
    "def decontracted(phrase):\n",
    "    # specific\n",
    "    phrase = re.sub(r\"won\\'t\", \"will not\", phrase)\n",
    "    phrase = re.sub(r\"can\\'t\", \"can not\", phrase)\n",
    "    phrase = re.sub(r\"let\\'s\", \"let us\", phrase)\n",
    "\n",
    "    # general\n",
    "    phrase = re.sub(r\"n\\'t\", \" not\", phrase)\n",
    "    phrase = re.sub(r\"\\'re\", \" are\", phrase)\n",
    "    phrase = re.sub(r\"\\'s\", \" is\", phrase)\n",
    "    phrase = re.sub(r\"\\'d\", \" would\", phrase)\n",
    "    phrase = re.sub(r\"\\'ll\", \" will\", phrase)\n",
    "    phrase = re.sub(r\"\\'t\", \" not\", phrase)\n",
    "    phrase = re.sub(r\"\\'ve\", \" have\", phrase)\n",
    "    phrase = re.sub(r\"\\'m\", \" am\", phrase)\n",
    "    return phrase\n",
    "\n",
    "#convert to lower case and decontract\n",
    "df_news['text_decont'] = df_news['Title'].str.lower().apply(lambda x: decontracted(x))\n",
    "\n",
    "#remove punctuation\n",
    "df_news['text_no_punc'] = df_news['text_decont'].apply(lambda x: re.sub(r'[^\\w\\s]', ' ', x))\n",
    "\n",
    "df_news.info()"
   ]
  },
  {
   "cell_type": "code",
   "execution_count": null,
   "metadata": {
    "colab": {
     "base_uri": "https://localhost:8080/",
     "height": 293
    },
    "id": "KT-OVeybxovO",
    "outputId": "aa654f29-6198-47ee-81b8-9bcd26ac62af",
    "scrolled": false
   },
   "outputs": [
    {
     "data": {
      "text/html": [
       "<div>\n",
       "<style scoped>\n",
       "    .dataframe tbody tr th:only-of-type {\n",
       "        vertical-align: middle;\n",
       "    }\n",
       "\n",
       "    .dataframe tbody tr th {\n",
       "        vertical-align: top;\n",
       "    }\n",
       "\n",
       "    .dataframe thead th {\n",
       "        text-align: right;\n",
       "    }\n",
       "</style>\n",
       "<table border=\"1\" class=\"dataframe\">\n",
       "  <thead>\n",
       "    <tr style=\"text-align: right;\">\n",
       "      <th></th>\n",
       "      <th>Date</th>\n",
       "      <th>Title</th>\n",
       "      <th>text_decont</th>\n",
       "      <th>text_no_punc</th>\n",
       "      <th>tk</th>\n",
       "    </tr>\n",
       "  </thead>\n",
       "  <tbody>\n",
       "    <tr>\n",
       "      <th>0</th>\n",
       "      <td>2012-05-21</td>\n",
       "      <td>Google+: still not as interesting as Pinterest...</td>\n",
       "      <td>google+: still not as interesting as pinterest...</td>\n",
       "      <td>google   still not as interesting as pinterest...</td>\n",
       "      <td>[google, still, not, as, interesting, as, pint...</td>\n",
       "    </tr>\n",
       "    <tr>\n",
       "      <th>1</th>\n",
       "      <td>2012-05-22</td>\n",
       "      <td>Google given last chance to outline how it wil...</td>\n",
       "      <td>google given last chance to outline how it wil...</td>\n",
       "      <td>google given last chance to outline how it wil...</td>\n",
       "      <td>[google, given, last, chance, to, outline, how...</td>\n",
       "    </tr>\n",
       "    <tr>\n",
       "      <th>2</th>\n",
       "      <td>2012-05-23</td>\n",
       "      <td>Google appoints Dennis Woodside to run Motorol...</td>\n",
       "      <td>google appoints dennis woodside to run motorol...</td>\n",
       "      <td>google appoints dennis woodside to run motorol...</td>\n",
       "      <td>[google, appoints, dennis, woodside, to, run, ...</td>\n",
       "    </tr>\n",
       "    <tr>\n",
       "      <th>3</th>\n",
       "      <td>2012-05-24</td>\n",
       "      <td>Robert Moog's 78th birthday celebrated in Goog...</td>\n",
       "      <td>robert moog is 78th birthday celebrated in goo...</td>\n",
       "      <td>robert moog is 78th birthday celebrated in goo...</td>\n",
       "      <td>[robert, moog, is, 78th, birthday, celebrated,...</td>\n",
       "    </tr>\n",
       "    <tr>\n",
       "      <th>4</th>\n",
       "      <td>2012-05-25</td>\n",
       "      <td>Google faced with a million requests a month t...</td>\n",
       "      <td>google faced with a million requests a month t...</td>\n",
       "      <td>google faced with a million requests a month t...</td>\n",
       "      <td>[google, faced, with, a, million, requests, a,...</td>\n",
       "    </tr>\n",
       "  </tbody>\n",
       "</table>\n",
       "</div>"
      ],
      "text/plain": [
       "         Date  ...                                                 tk\n",
       "0  2012-05-21  ...  [google, still, not, as, interesting, as, pint...\n",
       "1  2012-05-22  ...  [google, given, last, chance, to, outline, how...\n",
       "2  2012-05-23  ...  [google, appoints, dennis, woodside, to, run, ...\n",
       "3  2012-05-24  ...  [robert, moog, is, 78th, birthday, celebrated,...\n",
       "4  2012-05-25  ...  [google, faced, with, a, million, requests, a,...\n",
       "\n",
       "[5 rows x 5 columns]"
      ]
     },
     "execution_count": 19,
     "metadata": {
      "tags": []
     },
     "output_type": "execute_result"
    }
   ],
   "source": [
    "# tokenize w/o preprocessing\n",
    "df_news['tk'] = df_news['text_no_punc'].apply(lambda x: nltk.word_tokenize(x))\n",
    "df_news.head()"
   ]
  },
  {
   "cell_type": "markdown",
   "metadata": {
    "id": "rreSf7gCDeCQ"
   },
   "source": [
    "# 2. TF-IDF"
   ]
  },
  {
   "cell_type": "code",
   "execution_count": null,
   "metadata": {
    "id": "gnffujRMxovP"
   },
   "outputs": [],
   "source": [
    "def identity_tokenizer(text):\n",
    "    return text\n",
    "\n",
    "tfvec = TfidfVectorizer(lowercase=False, tokenizer=identity_tokenizer)\n",
    "df_tfvec = tfvec.fit_transform(df_news.tk.tolist()).todense()"
   ]
  },
  {
   "cell_type": "code",
   "execution_count": null,
   "metadata": {
    "colab": {
     "base_uri": "https://localhost:8080/"
    },
    "id": "aSRGX1hvxovP",
    "outputId": "5b003f14-c09a-4b0d-ef14-f94ae37cd0d9"
   },
   "outputs": [
    {
     "data": {
      "text/plain": [
       "3665"
      ]
     },
     "execution_count": 21,
     "metadata": {
      "tags": []
     },
     "output_type": "execute_result"
    }
   ],
   "source": [
    "len(tfvec.get_feature_names())"
   ]
  },
  {
   "cell_type": "code",
   "execution_count": null,
   "metadata": {
    "colab": {
     "base_uri": "https://localhost:8080/"
    },
    "id": "u_14-XZ1xovP",
    "outputId": "b0a22be0-6509-4791-e3cb-44a8a69f9031"
   },
   "outputs": [
    {
     "data": {
      "text/plain": [
       "matrix([[0., 0., 0., ..., 0., 0., 0.],\n",
       "        [0., 0., 0., ..., 0., 0., 0.],\n",
       "        [0., 0., 0., ..., 0., 0., 0.],\n",
       "        ...,\n",
       "        [0., 0., 0., ..., 0., 0., 0.],\n",
       "        [0., 0., 0., ..., 0., 0., 0.],\n",
       "        [0., 0., 0., ..., 0., 0., 0.]])"
      ]
     },
     "execution_count": 22,
     "metadata": {
      "tags": []
     },
     "output_type": "execute_result"
    }
   ],
   "source": [
    "df_tfvec"
   ]
  },
  {
   "cell_type": "code",
   "execution_count": null,
   "metadata": {
    "colab": {
     "base_uri": "https://localhost:8080/",
     "height": 444
    },
    "id": "nnEimuexxovP",
    "outputId": "88bab2db-2a26-4b21-e5f6-5e0d04e4e42a"
   },
   "outputs": [
    {
     "data": {
      "text/html": [
       "<div>\n",
       "<style scoped>\n",
       "    .dataframe tbody tr th:only-of-type {\n",
       "        vertical-align: middle;\n",
       "    }\n",
       "\n",
       "    .dataframe tbody tr th {\n",
       "        vertical-align: top;\n",
       "    }\n",
       "\n",
       "    .dataframe thead th {\n",
       "        text-align: right;\n",
       "    }\n",
       "</style>\n",
       "<table border=\"1\" class=\"dataframe\">\n",
       "  <thead>\n",
       "    <tr style=\"text-align: right;\">\n",
       "      <th></th>\n",
       "      <th>0</th>\n",
       "      <th>1</th>\n",
       "      <th>2</th>\n",
       "      <th>3</th>\n",
       "      <th>4</th>\n",
       "      <th>5</th>\n",
       "      <th>6</th>\n",
       "      <th>7</th>\n",
       "      <th>8</th>\n",
       "      <th>9</th>\n",
       "      <th>10</th>\n",
       "      <th>11</th>\n",
       "      <th>12</th>\n",
       "      <th>13</th>\n",
       "      <th>14</th>\n",
       "      <th>15</th>\n",
       "      <th>16</th>\n",
       "      <th>17</th>\n",
       "      <th>18</th>\n",
       "      <th>19</th>\n",
       "      <th>20</th>\n",
       "      <th>21</th>\n",
       "      <th>22</th>\n",
       "      <th>23</th>\n",
       "      <th>24</th>\n",
       "      <th>25</th>\n",
       "      <th>26</th>\n",
       "      <th>27</th>\n",
       "      <th>28</th>\n",
       "      <th>29</th>\n",
       "      <th>30</th>\n",
       "      <th>31</th>\n",
       "      <th>32</th>\n",
       "      <th>33</th>\n",
       "      <th>34</th>\n",
       "      <th>35</th>\n",
       "      <th>36</th>\n",
       "      <th>37</th>\n",
       "      <th>38</th>\n",
       "      <th>39</th>\n",
       "      <th>...</th>\n",
       "      <th>3625</th>\n",
       "      <th>3626</th>\n",
       "      <th>3627</th>\n",
       "      <th>3628</th>\n",
       "      <th>3629</th>\n",
       "      <th>3630</th>\n",
       "      <th>3631</th>\n",
       "      <th>3632</th>\n",
       "      <th>3633</th>\n",
       "      <th>3634</th>\n",
       "      <th>3635</th>\n",
       "      <th>3636</th>\n",
       "      <th>3637</th>\n",
       "      <th>3638</th>\n",
       "      <th>3639</th>\n",
       "      <th>3640</th>\n",
       "      <th>3641</th>\n",
       "      <th>3642</th>\n",
       "      <th>3643</th>\n",
       "      <th>3644</th>\n",
       "      <th>3645</th>\n",
       "      <th>3646</th>\n",
       "      <th>3647</th>\n",
       "      <th>3648</th>\n",
       "      <th>3649</th>\n",
       "      <th>3650</th>\n",
       "      <th>3651</th>\n",
       "      <th>3652</th>\n",
       "      <th>3653</th>\n",
       "      <th>3654</th>\n",
       "      <th>3655</th>\n",
       "      <th>3656</th>\n",
       "      <th>3657</th>\n",
       "      <th>3658</th>\n",
       "      <th>3659</th>\n",
       "      <th>3660</th>\n",
       "      <th>3661</th>\n",
       "      <th>3662</th>\n",
       "      <th>3663</th>\n",
       "      <th>3664</th>\n",
       "    </tr>\n",
       "  </thead>\n",
       "  <tbody>\n",
       "    <tr>\n",
       "      <th>0</th>\n",
       "      <td>0.0</td>\n",
       "      <td>0.0</td>\n",
       "      <td>0.0</td>\n",
       "      <td>0.0</td>\n",
       "      <td>0.0</td>\n",
       "      <td>0.0</td>\n",
       "      <td>0.0</td>\n",
       "      <td>0.0</td>\n",
       "      <td>0.0</td>\n",
       "      <td>0.0</td>\n",
       "      <td>0.0</td>\n",
       "      <td>0.0</td>\n",
       "      <td>0.0</td>\n",
       "      <td>0.0</td>\n",
       "      <td>0.0</td>\n",
       "      <td>0.0</td>\n",
       "      <td>0.0</td>\n",
       "      <td>0.0</td>\n",
       "      <td>0.0</td>\n",
       "      <td>0.0</td>\n",
       "      <td>0.0</td>\n",
       "      <td>0.0</td>\n",
       "      <td>0.0</td>\n",
       "      <td>0.0</td>\n",
       "      <td>0.0</td>\n",
       "      <td>0.0</td>\n",
       "      <td>0.0</td>\n",
       "      <td>0.0</td>\n",
       "      <td>0.0</td>\n",
       "      <td>0.0</td>\n",
       "      <td>0.0</td>\n",
       "      <td>0.0</td>\n",
       "      <td>0.0</td>\n",
       "      <td>0.0</td>\n",
       "      <td>0.0</td>\n",
       "      <td>0.0</td>\n",
       "      <td>0.0</td>\n",
       "      <td>0.0</td>\n",
       "      <td>0.0</td>\n",
       "      <td>0.0</td>\n",
       "      <td>...</td>\n",
       "      <td>0.0</td>\n",
       "      <td>0.0</td>\n",
       "      <td>0.0</td>\n",
       "      <td>0.0</td>\n",
       "      <td>0.0</td>\n",
       "      <td>0.0</td>\n",
       "      <td>0.0</td>\n",
       "      <td>0.0</td>\n",
       "      <td>0.0</td>\n",
       "      <td>0.0</td>\n",
       "      <td>0.0</td>\n",
       "      <td>0.0</td>\n",
       "      <td>0.0</td>\n",
       "      <td>0.0</td>\n",
       "      <td>0.0</td>\n",
       "      <td>0.0</td>\n",
       "      <td>0.0</td>\n",
       "      <td>0.0</td>\n",
       "      <td>0.0</td>\n",
       "      <td>0.0</td>\n",
       "      <td>0.0</td>\n",
       "      <td>0.0</td>\n",
       "      <td>0.0</td>\n",
       "      <td>0.0</td>\n",
       "      <td>0.0</td>\n",
       "      <td>0.0</td>\n",
       "      <td>0.0</td>\n",
       "      <td>0.0</td>\n",
       "      <td>0.0</td>\n",
       "      <td>0.0</td>\n",
       "      <td>0.0</td>\n",
       "      <td>0.0</td>\n",
       "      <td>0.0</td>\n",
       "      <td>0.0</td>\n",
       "      <td>0.0</td>\n",
       "      <td>0.0</td>\n",
       "      <td>0.0</td>\n",
       "      <td>0.0</td>\n",
       "      <td>0.0</td>\n",
       "      <td>0.0</td>\n",
       "    </tr>\n",
       "    <tr>\n",
       "      <th>1</th>\n",
       "      <td>0.0</td>\n",
       "      <td>0.0</td>\n",
       "      <td>0.0</td>\n",
       "      <td>0.0</td>\n",
       "      <td>0.0</td>\n",
       "      <td>0.0</td>\n",
       "      <td>0.0</td>\n",
       "      <td>0.0</td>\n",
       "      <td>0.0</td>\n",
       "      <td>0.0</td>\n",
       "      <td>0.0</td>\n",
       "      <td>0.0</td>\n",
       "      <td>0.0</td>\n",
       "      <td>0.0</td>\n",
       "      <td>0.0</td>\n",
       "      <td>0.0</td>\n",
       "      <td>0.0</td>\n",
       "      <td>0.0</td>\n",
       "      <td>0.0</td>\n",
       "      <td>0.0</td>\n",
       "      <td>0.0</td>\n",
       "      <td>0.0</td>\n",
       "      <td>0.0</td>\n",
       "      <td>0.0</td>\n",
       "      <td>0.0</td>\n",
       "      <td>0.0</td>\n",
       "      <td>0.0</td>\n",
       "      <td>0.0</td>\n",
       "      <td>0.0</td>\n",
       "      <td>0.0</td>\n",
       "      <td>0.0</td>\n",
       "      <td>0.0</td>\n",
       "      <td>0.0</td>\n",
       "      <td>0.0</td>\n",
       "      <td>0.0</td>\n",
       "      <td>0.0</td>\n",
       "      <td>0.0</td>\n",
       "      <td>0.0</td>\n",
       "      <td>0.0</td>\n",
       "      <td>0.0</td>\n",
       "      <td>...</td>\n",
       "      <td>0.0</td>\n",
       "      <td>0.0</td>\n",
       "      <td>0.0</td>\n",
       "      <td>0.0</td>\n",
       "      <td>0.0</td>\n",
       "      <td>0.0</td>\n",
       "      <td>0.0</td>\n",
       "      <td>0.0</td>\n",
       "      <td>0.0</td>\n",
       "      <td>0.0</td>\n",
       "      <td>0.0</td>\n",
       "      <td>0.0</td>\n",
       "      <td>0.0</td>\n",
       "      <td>0.0</td>\n",
       "      <td>0.0</td>\n",
       "      <td>0.0</td>\n",
       "      <td>0.0</td>\n",
       "      <td>0.0</td>\n",
       "      <td>0.0</td>\n",
       "      <td>0.0</td>\n",
       "      <td>0.0</td>\n",
       "      <td>0.0</td>\n",
       "      <td>0.0</td>\n",
       "      <td>0.0</td>\n",
       "      <td>0.0</td>\n",
       "      <td>0.0</td>\n",
       "      <td>0.0</td>\n",
       "      <td>0.0</td>\n",
       "      <td>0.0</td>\n",
       "      <td>0.0</td>\n",
       "      <td>0.0</td>\n",
       "      <td>0.0</td>\n",
       "      <td>0.0</td>\n",
       "      <td>0.0</td>\n",
       "      <td>0.0</td>\n",
       "      <td>0.0</td>\n",
       "      <td>0.0</td>\n",
       "      <td>0.0</td>\n",
       "      <td>0.0</td>\n",
       "      <td>0.0</td>\n",
       "    </tr>\n",
       "    <tr>\n",
       "      <th>2</th>\n",
       "      <td>0.0</td>\n",
       "      <td>0.0</td>\n",
       "      <td>0.0</td>\n",
       "      <td>0.0</td>\n",
       "      <td>0.0</td>\n",
       "      <td>0.0</td>\n",
       "      <td>0.0</td>\n",
       "      <td>0.0</td>\n",
       "      <td>0.0</td>\n",
       "      <td>0.0</td>\n",
       "      <td>0.0</td>\n",
       "      <td>0.0</td>\n",
       "      <td>0.0</td>\n",
       "      <td>0.0</td>\n",
       "      <td>0.0</td>\n",
       "      <td>0.0</td>\n",
       "      <td>0.0</td>\n",
       "      <td>0.0</td>\n",
       "      <td>0.0</td>\n",
       "      <td>0.0</td>\n",
       "      <td>0.0</td>\n",
       "      <td>0.0</td>\n",
       "      <td>0.0</td>\n",
       "      <td>0.0</td>\n",
       "      <td>0.0</td>\n",
       "      <td>0.0</td>\n",
       "      <td>0.0</td>\n",
       "      <td>0.0</td>\n",
       "      <td>0.0</td>\n",
       "      <td>0.0</td>\n",
       "      <td>0.0</td>\n",
       "      <td>0.0</td>\n",
       "      <td>0.0</td>\n",
       "      <td>0.0</td>\n",
       "      <td>0.0</td>\n",
       "      <td>0.0</td>\n",
       "      <td>0.0</td>\n",
       "      <td>0.0</td>\n",
       "      <td>0.0</td>\n",
       "      <td>0.0</td>\n",
       "      <td>...</td>\n",
       "      <td>0.0</td>\n",
       "      <td>0.0</td>\n",
       "      <td>0.0</td>\n",
       "      <td>0.0</td>\n",
       "      <td>0.0</td>\n",
       "      <td>0.0</td>\n",
       "      <td>0.0</td>\n",
       "      <td>0.0</td>\n",
       "      <td>0.0</td>\n",
       "      <td>0.0</td>\n",
       "      <td>0.0</td>\n",
       "      <td>0.0</td>\n",
       "      <td>0.0</td>\n",
       "      <td>0.0</td>\n",
       "      <td>0.0</td>\n",
       "      <td>0.0</td>\n",
       "      <td>0.0</td>\n",
       "      <td>0.0</td>\n",
       "      <td>0.0</td>\n",
       "      <td>0.0</td>\n",
       "      <td>0.0</td>\n",
       "      <td>0.0</td>\n",
       "      <td>0.0</td>\n",
       "      <td>0.0</td>\n",
       "      <td>0.0</td>\n",
       "      <td>0.0</td>\n",
       "      <td>0.0</td>\n",
       "      <td>0.0</td>\n",
       "      <td>0.0</td>\n",
       "      <td>0.0</td>\n",
       "      <td>0.0</td>\n",
       "      <td>0.0</td>\n",
       "      <td>0.0</td>\n",
       "      <td>0.0</td>\n",
       "      <td>0.0</td>\n",
       "      <td>0.0</td>\n",
       "      <td>0.0</td>\n",
       "      <td>0.0</td>\n",
       "      <td>0.0</td>\n",
       "      <td>0.0</td>\n",
       "    </tr>\n",
       "    <tr>\n",
       "      <th>3</th>\n",
       "      <td>0.0</td>\n",
       "      <td>0.0</td>\n",
       "      <td>0.0</td>\n",
       "      <td>0.0</td>\n",
       "      <td>0.0</td>\n",
       "      <td>0.0</td>\n",
       "      <td>0.0</td>\n",
       "      <td>0.0</td>\n",
       "      <td>0.0</td>\n",
       "      <td>0.0</td>\n",
       "      <td>0.0</td>\n",
       "      <td>0.0</td>\n",
       "      <td>0.0</td>\n",
       "      <td>0.0</td>\n",
       "      <td>0.0</td>\n",
       "      <td>0.0</td>\n",
       "      <td>0.0</td>\n",
       "      <td>0.0</td>\n",
       "      <td>0.0</td>\n",
       "      <td>0.0</td>\n",
       "      <td>0.0</td>\n",
       "      <td>0.0</td>\n",
       "      <td>0.0</td>\n",
       "      <td>0.0</td>\n",
       "      <td>0.0</td>\n",
       "      <td>0.0</td>\n",
       "      <td>0.0</td>\n",
       "      <td>0.0</td>\n",
       "      <td>0.0</td>\n",
       "      <td>0.0</td>\n",
       "      <td>0.0</td>\n",
       "      <td>0.0</td>\n",
       "      <td>0.0</td>\n",
       "      <td>0.0</td>\n",
       "      <td>0.0</td>\n",
       "      <td>0.0</td>\n",
       "      <td>0.0</td>\n",
       "      <td>0.0</td>\n",
       "      <td>0.0</td>\n",
       "      <td>0.0</td>\n",
       "      <td>...</td>\n",
       "      <td>0.0</td>\n",
       "      <td>0.0</td>\n",
       "      <td>0.0</td>\n",
       "      <td>0.0</td>\n",
       "      <td>0.0</td>\n",
       "      <td>0.0</td>\n",
       "      <td>0.0</td>\n",
       "      <td>0.0</td>\n",
       "      <td>0.0</td>\n",
       "      <td>0.0</td>\n",
       "      <td>0.0</td>\n",
       "      <td>0.0</td>\n",
       "      <td>0.0</td>\n",
       "      <td>0.0</td>\n",
       "      <td>0.0</td>\n",
       "      <td>0.0</td>\n",
       "      <td>0.0</td>\n",
       "      <td>0.0</td>\n",
       "      <td>0.0</td>\n",
       "      <td>0.0</td>\n",
       "      <td>0.0</td>\n",
       "      <td>0.0</td>\n",
       "      <td>0.0</td>\n",
       "      <td>0.0</td>\n",
       "      <td>0.0</td>\n",
       "      <td>0.0</td>\n",
       "      <td>0.0</td>\n",
       "      <td>0.0</td>\n",
       "      <td>0.0</td>\n",
       "      <td>0.0</td>\n",
       "      <td>0.0</td>\n",
       "      <td>0.0</td>\n",
       "      <td>0.0</td>\n",
       "      <td>0.0</td>\n",
       "      <td>0.0</td>\n",
       "      <td>0.0</td>\n",
       "      <td>0.0</td>\n",
       "      <td>0.0</td>\n",
       "      <td>0.0</td>\n",
       "      <td>0.0</td>\n",
       "    </tr>\n",
       "    <tr>\n",
       "      <th>4</th>\n",
       "      <td>0.0</td>\n",
       "      <td>0.0</td>\n",
       "      <td>0.0</td>\n",
       "      <td>0.0</td>\n",
       "      <td>0.0</td>\n",
       "      <td>0.0</td>\n",
       "      <td>0.0</td>\n",
       "      <td>0.0</td>\n",
       "      <td>0.0</td>\n",
       "      <td>0.0</td>\n",
       "      <td>0.0</td>\n",
       "      <td>0.0</td>\n",
       "      <td>0.0</td>\n",
       "      <td>0.0</td>\n",
       "      <td>0.0</td>\n",
       "      <td>0.0</td>\n",
       "      <td>0.0</td>\n",
       "      <td>0.0</td>\n",
       "      <td>0.0</td>\n",
       "      <td>0.0</td>\n",
       "      <td>0.0</td>\n",
       "      <td>0.0</td>\n",
       "      <td>0.0</td>\n",
       "      <td>0.0</td>\n",
       "      <td>0.0</td>\n",
       "      <td>0.0</td>\n",
       "      <td>0.0</td>\n",
       "      <td>0.0</td>\n",
       "      <td>0.0</td>\n",
       "      <td>0.0</td>\n",
       "      <td>0.0</td>\n",
       "      <td>0.0</td>\n",
       "      <td>0.0</td>\n",
       "      <td>0.0</td>\n",
       "      <td>0.0</td>\n",
       "      <td>0.0</td>\n",
       "      <td>0.0</td>\n",
       "      <td>0.0</td>\n",
       "      <td>0.0</td>\n",
       "      <td>0.0</td>\n",
       "      <td>...</td>\n",
       "      <td>0.0</td>\n",
       "      <td>0.0</td>\n",
       "      <td>0.0</td>\n",
       "      <td>0.0</td>\n",
       "      <td>0.0</td>\n",
       "      <td>0.0</td>\n",
       "      <td>0.0</td>\n",
       "      <td>0.0</td>\n",
       "      <td>0.0</td>\n",
       "      <td>0.0</td>\n",
       "      <td>0.0</td>\n",
       "      <td>0.0</td>\n",
       "      <td>0.0</td>\n",
       "      <td>0.0</td>\n",
       "      <td>0.0</td>\n",
       "      <td>0.0</td>\n",
       "      <td>0.0</td>\n",
       "      <td>0.0</td>\n",
       "      <td>0.0</td>\n",
       "      <td>0.0</td>\n",
       "      <td>0.0</td>\n",
       "      <td>0.0</td>\n",
       "      <td>0.0</td>\n",
       "      <td>0.0</td>\n",
       "      <td>0.0</td>\n",
       "      <td>0.0</td>\n",
       "      <td>0.0</td>\n",
       "      <td>0.0</td>\n",
       "      <td>0.0</td>\n",
       "      <td>0.0</td>\n",
       "      <td>0.0</td>\n",
       "      <td>0.0</td>\n",
       "      <td>0.0</td>\n",
       "      <td>0.0</td>\n",
       "      <td>0.0</td>\n",
       "      <td>0.0</td>\n",
       "      <td>0.0</td>\n",
       "      <td>0.0</td>\n",
       "      <td>0.0</td>\n",
       "      <td>0.0</td>\n",
       "    </tr>\n",
       "    <tr>\n",
       "      <th>...</th>\n",
       "      <td>...</td>\n",
       "      <td>...</td>\n",
       "      <td>...</td>\n",
       "      <td>...</td>\n",
       "      <td>...</td>\n",
       "      <td>...</td>\n",
       "      <td>...</td>\n",
       "      <td>...</td>\n",
       "      <td>...</td>\n",
       "      <td>...</td>\n",
       "      <td>...</td>\n",
       "      <td>...</td>\n",
       "      <td>...</td>\n",
       "      <td>...</td>\n",
       "      <td>...</td>\n",
       "      <td>...</td>\n",
       "      <td>...</td>\n",
       "      <td>...</td>\n",
       "      <td>...</td>\n",
       "      <td>...</td>\n",
       "      <td>...</td>\n",
       "      <td>...</td>\n",
       "      <td>...</td>\n",
       "      <td>...</td>\n",
       "      <td>...</td>\n",
       "      <td>...</td>\n",
       "      <td>...</td>\n",
       "      <td>...</td>\n",
       "      <td>...</td>\n",
       "      <td>...</td>\n",
       "      <td>...</td>\n",
       "      <td>...</td>\n",
       "      <td>...</td>\n",
       "      <td>...</td>\n",
       "      <td>...</td>\n",
       "      <td>...</td>\n",
       "      <td>...</td>\n",
       "      <td>...</td>\n",
       "      <td>...</td>\n",
       "      <td>...</td>\n",
       "      <td>...</td>\n",
       "      <td>...</td>\n",
       "      <td>...</td>\n",
       "      <td>...</td>\n",
       "      <td>...</td>\n",
       "      <td>...</td>\n",
       "      <td>...</td>\n",
       "      <td>...</td>\n",
       "      <td>...</td>\n",
       "      <td>...</td>\n",
       "      <td>...</td>\n",
       "      <td>...</td>\n",
       "      <td>...</td>\n",
       "      <td>...</td>\n",
       "      <td>...</td>\n",
       "      <td>...</td>\n",
       "      <td>...</td>\n",
       "      <td>...</td>\n",
       "      <td>...</td>\n",
       "      <td>...</td>\n",
       "      <td>...</td>\n",
       "      <td>...</td>\n",
       "      <td>...</td>\n",
       "      <td>...</td>\n",
       "      <td>...</td>\n",
       "      <td>...</td>\n",
       "      <td>...</td>\n",
       "      <td>...</td>\n",
       "      <td>...</td>\n",
       "      <td>...</td>\n",
       "      <td>...</td>\n",
       "      <td>...</td>\n",
       "      <td>...</td>\n",
       "      <td>...</td>\n",
       "      <td>...</td>\n",
       "      <td>...</td>\n",
       "      <td>...</td>\n",
       "      <td>...</td>\n",
       "      <td>...</td>\n",
       "      <td>...</td>\n",
       "      <td>...</td>\n",
       "    </tr>\n",
       "    <tr>\n",
       "      <th>943</th>\n",
       "      <td>0.0</td>\n",
       "      <td>0.0</td>\n",
       "      <td>0.0</td>\n",
       "      <td>0.0</td>\n",
       "      <td>0.0</td>\n",
       "      <td>0.0</td>\n",
       "      <td>0.0</td>\n",
       "      <td>0.0</td>\n",
       "      <td>0.0</td>\n",
       "      <td>0.0</td>\n",
       "      <td>0.0</td>\n",
       "      <td>0.0</td>\n",
       "      <td>0.0</td>\n",
       "      <td>0.0</td>\n",
       "      <td>0.0</td>\n",
       "      <td>0.0</td>\n",
       "      <td>0.0</td>\n",
       "      <td>0.0</td>\n",
       "      <td>0.0</td>\n",
       "      <td>0.0</td>\n",
       "      <td>0.0</td>\n",
       "      <td>0.0</td>\n",
       "      <td>0.0</td>\n",
       "      <td>0.0</td>\n",
       "      <td>0.0</td>\n",
       "      <td>0.0</td>\n",
       "      <td>0.0</td>\n",
       "      <td>0.0</td>\n",
       "      <td>0.0</td>\n",
       "      <td>0.0</td>\n",
       "      <td>0.0</td>\n",
       "      <td>0.0</td>\n",
       "      <td>0.0</td>\n",
       "      <td>0.0</td>\n",
       "      <td>0.0</td>\n",
       "      <td>0.0</td>\n",
       "      <td>0.0</td>\n",
       "      <td>0.0</td>\n",
       "      <td>0.0</td>\n",
       "      <td>0.0</td>\n",
       "      <td>...</td>\n",
       "      <td>0.0</td>\n",
       "      <td>0.0</td>\n",
       "      <td>0.0</td>\n",
       "      <td>0.0</td>\n",
       "      <td>0.0</td>\n",
       "      <td>0.0</td>\n",
       "      <td>0.0</td>\n",
       "      <td>0.0</td>\n",
       "      <td>0.0</td>\n",
       "      <td>0.0</td>\n",
       "      <td>0.0</td>\n",
       "      <td>0.0</td>\n",
       "      <td>0.0</td>\n",
       "      <td>0.0</td>\n",
       "      <td>0.0</td>\n",
       "      <td>0.0</td>\n",
       "      <td>0.0</td>\n",
       "      <td>0.0</td>\n",
       "      <td>0.0</td>\n",
       "      <td>0.0</td>\n",
       "      <td>0.0</td>\n",
       "      <td>0.0</td>\n",
       "      <td>0.0</td>\n",
       "      <td>0.0</td>\n",
       "      <td>0.0</td>\n",
       "      <td>0.0</td>\n",
       "      <td>0.0</td>\n",
       "      <td>0.0</td>\n",
       "      <td>0.0</td>\n",
       "      <td>0.0</td>\n",
       "      <td>0.0</td>\n",
       "      <td>0.0</td>\n",
       "      <td>0.0</td>\n",
       "      <td>0.0</td>\n",
       "      <td>0.0</td>\n",
       "      <td>0.0</td>\n",
       "      <td>0.0</td>\n",
       "      <td>0.0</td>\n",
       "      <td>0.0</td>\n",
       "      <td>0.0</td>\n",
       "    </tr>\n",
       "    <tr>\n",
       "      <th>944</th>\n",
       "      <td>0.0</td>\n",
       "      <td>0.0</td>\n",
       "      <td>0.0</td>\n",
       "      <td>0.0</td>\n",
       "      <td>0.0</td>\n",
       "      <td>0.0</td>\n",
       "      <td>0.0</td>\n",
       "      <td>0.0</td>\n",
       "      <td>0.0</td>\n",
       "      <td>0.0</td>\n",
       "      <td>0.0</td>\n",
       "      <td>0.0</td>\n",
       "      <td>0.0</td>\n",
       "      <td>0.0</td>\n",
       "      <td>0.0</td>\n",
       "      <td>0.0</td>\n",
       "      <td>0.0</td>\n",
       "      <td>0.0</td>\n",
       "      <td>0.0</td>\n",
       "      <td>0.0</td>\n",
       "      <td>0.0</td>\n",
       "      <td>0.0</td>\n",
       "      <td>0.0</td>\n",
       "      <td>0.0</td>\n",
       "      <td>0.0</td>\n",
       "      <td>0.0</td>\n",
       "      <td>0.0</td>\n",
       "      <td>0.0</td>\n",
       "      <td>0.0</td>\n",
       "      <td>0.0</td>\n",
       "      <td>0.0</td>\n",
       "      <td>0.0</td>\n",
       "      <td>0.0</td>\n",
       "      <td>0.0</td>\n",
       "      <td>0.0</td>\n",
       "      <td>0.0</td>\n",
       "      <td>0.0</td>\n",
       "      <td>0.0</td>\n",
       "      <td>0.0</td>\n",
       "      <td>0.0</td>\n",
       "      <td>...</td>\n",
       "      <td>0.0</td>\n",
       "      <td>0.0</td>\n",
       "      <td>0.0</td>\n",
       "      <td>0.0</td>\n",
       "      <td>0.0</td>\n",
       "      <td>0.0</td>\n",
       "      <td>0.0</td>\n",
       "      <td>0.0</td>\n",
       "      <td>0.0</td>\n",
       "      <td>0.0</td>\n",
       "      <td>0.0</td>\n",
       "      <td>0.0</td>\n",
       "      <td>0.0</td>\n",
       "      <td>0.0</td>\n",
       "      <td>0.0</td>\n",
       "      <td>0.0</td>\n",
       "      <td>0.0</td>\n",
       "      <td>0.0</td>\n",
       "      <td>0.0</td>\n",
       "      <td>0.0</td>\n",
       "      <td>0.0</td>\n",
       "      <td>0.0</td>\n",
       "      <td>0.0</td>\n",
       "      <td>0.0</td>\n",
       "      <td>0.0</td>\n",
       "      <td>0.0</td>\n",
       "      <td>0.0</td>\n",
       "      <td>0.0</td>\n",
       "      <td>0.0</td>\n",
       "      <td>0.0</td>\n",
       "      <td>0.0</td>\n",
       "      <td>0.0</td>\n",
       "      <td>0.0</td>\n",
       "      <td>0.0</td>\n",
       "      <td>0.0</td>\n",
       "      <td>0.0</td>\n",
       "      <td>0.0</td>\n",
       "      <td>0.0</td>\n",
       "      <td>0.0</td>\n",
       "      <td>0.0</td>\n",
       "    </tr>\n",
       "    <tr>\n",
       "      <th>945</th>\n",
       "      <td>0.0</td>\n",
       "      <td>0.0</td>\n",
       "      <td>0.0</td>\n",
       "      <td>0.0</td>\n",
       "      <td>0.0</td>\n",
       "      <td>0.0</td>\n",
       "      <td>0.0</td>\n",
       "      <td>0.0</td>\n",
       "      <td>0.0</td>\n",
       "      <td>0.0</td>\n",
       "      <td>0.0</td>\n",
       "      <td>0.0</td>\n",
       "      <td>0.0</td>\n",
       "      <td>0.0</td>\n",
       "      <td>0.0</td>\n",
       "      <td>0.0</td>\n",
       "      <td>0.0</td>\n",
       "      <td>0.0</td>\n",
       "      <td>0.0</td>\n",
       "      <td>0.0</td>\n",
       "      <td>0.0</td>\n",
       "      <td>0.0</td>\n",
       "      <td>0.0</td>\n",
       "      <td>0.0</td>\n",
       "      <td>0.0</td>\n",
       "      <td>0.0</td>\n",
       "      <td>0.0</td>\n",
       "      <td>0.0</td>\n",
       "      <td>0.0</td>\n",
       "      <td>0.0</td>\n",
       "      <td>0.0</td>\n",
       "      <td>0.0</td>\n",
       "      <td>0.0</td>\n",
       "      <td>0.0</td>\n",
       "      <td>0.0</td>\n",
       "      <td>0.0</td>\n",
       "      <td>0.0</td>\n",
       "      <td>0.0</td>\n",
       "      <td>0.0</td>\n",
       "      <td>0.0</td>\n",
       "      <td>...</td>\n",
       "      <td>0.0</td>\n",
       "      <td>0.0</td>\n",
       "      <td>0.0</td>\n",
       "      <td>0.0</td>\n",
       "      <td>0.0</td>\n",
       "      <td>0.0</td>\n",
       "      <td>0.0</td>\n",
       "      <td>0.0</td>\n",
       "      <td>0.0</td>\n",
       "      <td>0.0</td>\n",
       "      <td>0.0</td>\n",
       "      <td>0.0</td>\n",
       "      <td>0.0</td>\n",
       "      <td>0.0</td>\n",
       "      <td>0.0</td>\n",
       "      <td>0.0</td>\n",
       "      <td>0.0</td>\n",
       "      <td>0.0</td>\n",
       "      <td>0.0</td>\n",
       "      <td>0.0</td>\n",
       "      <td>0.0</td>\n",
       "      <td>0.0</td>\n",
       "      <td>0.0</td>\n",
       "      <td>0.0</td>\n",
       "      <td>0.0</td>\n",
       "      <td>0.0</td>\n",
       "      <td>0.0</td>\n",
       "      <td>0.0</td>\n",
       "      <td>0.0</td>\n",
       "      <td>0.0</td>\n",
       "      <td>0.0</td>\n",
       "      <td>0.0</td>\n",
       "      <td>0.0</td>\n",
       "      <td>0.0</td>\n",
       "      <td>0.0</td>\n",
       "      <td>0.0</td>\n",
       "      <td>0.0</td>\n",
       "      <td>0.0</td>\n",
       "      <td>0.0</td>\n",
       "      <td>0.0</td>\n",
       "    </tr>\n",
       "    <tr>\n",
       "      <th>946</th>\n",
       "      <td>0.0</td>\n",
       "      <td>0.0</td>\n",
       "      <td>0.0</td>\n",
       "      <td>0.0</td>\n",
       "      <td>0.0</td>\n",
       "      <td>0.0</td>\n",
       "      <td>0.0</td>\n",
       "      <td>0.0</td>\n",
       "      <td>0.0</td>\n",
       "      <td>0.0</td>\n",
       "      <td>0.0</td>\n",
       "      <td>0.0</td>\n",
       "      <td>0.0</td>\n",
       "      <td>0.0</td>\n",
       "      <td>0.0</td>\n",
       "      <td>0.0</td>\n",
       "      <td>0.0</td>\n",
       "      <td>0.0</td>\n",
       "      <td>0.0</td>\n",
       "      <td>0.0</td>\n",
       "      <td>0.0</td>\n",
       "      <td>0.0</td>\n",
       "      <td>0.0</td>\n",
       "      <td>0.0</td>\n",
       "      <td>0.0</td>\n",
       "      <td>0.0</td>\n",
       "      <td>0.0</td>\n",
       "      <td>0.0</td>\n",
       "      <td>0.0</td>\n",
       "      <td>0.0</td>\n",
       "      <td>0.0</td>\n",
       "      <td>0.0</td>\n",
       "      <td>0.0</td>\n",
       "      <td>0.0</td>\n",
       "      <td>0.0</td>\n",
       "      <td>0.0</td>\n",
       "      <td>0.0</td>\n",
       "      <td>0.0</td>\n",
       "      <td>0.0</td>\n",
       "      <td>0.0</td>\n",
       "      <td>...</td>\n",
       "      <td>0.0</td>\n",
       "      <td>0.0</td>\n",
       "      <td>0.0</td>\n",
       "      <td>0.0</td>\n",
       "      <td>0.0</td>\n",
       "      <td>0.0</td>\n",
       "      <td>0.0</td>\n",
       "      <td>0.0</td>\n",
       "      <td>0.0</td>\n",
       "      <td>0.0</td>\n",
       "      <td>0.0</td>\n",
       "      <td>0.0</td>\n",
       "      <td>0.0</td>\n",
       "      <td>0.0</td>\n",
       "      <td>0.0</td>\n",
       "      <td>0.0</td>\n",
       "      <td>0.0</td>\n",
       "      <td>0.0</td>\n",
       "      <td>0.0</td>\n",
       "      <td>0.0</td>\n",
       "      <td>0.0</td>\n",
       "      <td>0.0</td>\n",
       "      <td>0.0</td>\n",
       "      <td>0.0</td>\n",
       "      <td>0.0</td>\n",
       "      <td>0.0</td>\n",
       "      <td>0.0</td>\n",
       "      <td>0.0</td>\n",
       "      <td>0.0</td>\n",
       "      <td>0.0</td>\n",
       "      <td>0.0</td>\n",
       "      <td>0.0</td>\n",
       "      <td>0.0</td>\n",
       "      <td>0.0</td>\n",
       "      <td>0.0</td>\n",
       "      <td>0.0</td>\n",
       "      <td>0.0</td>\n",
       "      <td>0.0</td>\n",
       "      <td>0.0</td>\n",
       "      <td>0.0</td>\n",
       "    </tr>\n",
       "    <tr>\n",
       "      <th>947</th>\n",
       "      <td>0.0</td>\n",
       "      <td>0.0</td>\n",
       "      <td>0.0</td>\n",
       "      <td>0.0</td>\n",
       "      <td>0.0</td>\n",
       "      <td>0.0</td>\n",
       "      <td>0.0</td>\n",
       "      <td>0.0</td>\n",
       "      <td>0.0</td>\n",
       "      <td>0.0</td>\n",
       "      <td>0.0</td>\n",
       "      <td>0.0</td>\n",
       "      <td>0.0</td>\n",
       "      <td>0.0</td>\n",
       "      <td>0.0</td>\n",
       "      <td>0.0</td>\n",
       "      <td>0.0</td>\n",
       "      <td>0.0</td>\n",
       "      <td>0.0</td>\n",
       "      <td>0.0</td>\n",
       "      <td>0.0</td>\n",
       "      <td>0.0</td>\n",
       "      <td>0.0</td>\n",
       "      <td>0.0</td>\n",
       "      <td>0.0</td>\n",
       "      <td>0.0</td>\n",
       "      <td>0.0</td>\n",
       "      <td>0.0</td>\n",
       "      <td>0.0</td>\n",
       "      <td>0.0</td>\n",
       "      <td>0.0</td>\n",
       "      <td>0.0</td>\n",
       "      <td>0.0</td>\n",
       "      <td>0.0</td>\n",
       "      <td>0.0</td>\n",
       "      <td>0.0</td>\n",
       "      <td>0.0</td>\n",
       "      <td>0.0</td>\n",
       "      <td>0.0</td>\n",
       "      <td>0.0</td>\n",
       "      <td>...</td>\n",
       "      <td>0.0</td>\n",
       "      <td>0.0</td>\n",
       "      <td>0.0</td>\n",
       "      <td>0.0</td>\n",
       "      <td>0.0</td>\n",
       "      <td>0.0</td>\n",
       "      <td>0.0</td>\n",
       "      <td>0.0</td>\n",
       "      <td>0.0</td>\n",
       "      <td>0.0</td>\n",
       "      <td>0.0</td>\n",
       "      <td>0.0</td>\n",
       "      <td>0.0</td>\n",
       "      <td>0.0</td>\n",
       "      <td>0.0</td>\n",
       "      <td>0.0</td>\n",
       "      <td>0.0</td>\n",
       "      <td>0.0</td>\n",
       "      <td>0.0</td>\n",
       "      <td>0.0</td>\n",
       "      <td>0.0</td>\n",
       "      <td>0.0</td>\n",
       "      <td>0.0</td>\n",
       "      <td>0.0</td>\n",
       "      <td>0.0</td>\n",
       "      <td>0.0</td>\n",
       "      <td>0.0</td>\n",
       "      <td>0.0</td>\n",
       "      <td>0.0</td>\n",
       "      <td>0.0</td>\n",
       "      <td>0.0</td>\n",
       "      <td>0.0</td>\n",
       "      <td>0.0</td>\n",
       "      <td>0.0</td>\n",
       "      <td>0.0</td>\n",
       "      <td>0.0</td>\n",
       "      <td>0.0</td>\n",
       "      <td>0.0</td>\n",
       "      <td>0.0</td>\n",
       "      <td>0.0</td>\n",
       "    </tr>\n",
       "  </tbody>\n",
       "</table>\n",
       "<p>948 rows × 3665 columns</p>\n",
       "</div>"
      ],
      "text/plain": [
       "     0     1     2     3     4     5     ...  3659  3660  3661  3662  3663  3664\n",
       "0     0.0   0.0   0.0   0.0   0.0   0.0  ...   0.0   0.0   0.0   0.0   0.0   0.0\n",
       "1     0.0   0.0   0.0   0.0   0.0   0.0  ...   0.0   0.0   0.0   0.0   0.0   0.0\n",
       "2     0.0   0.0   0.0   0.0   0.0   0.0  ...   0.0   0.0   0.0   0.0   0.0   0.0\n",
       "3     0.0   0.0   0.0   0.0   0.0   0.0  ...   0.0   0.0   0.0   0.0   0.0   0.0\n",
       "4     0.0   0.0   0.0   0.0   0.0   0.0  ...   0.0   0.0   0.0   0.0   0.0   0.0\n",
       "..    ...   ...   ...   ...   ...   ...  ...   ...   ...   ...   ...   ...   ...\n",
       "943   0.0   0.0   0.0   0.0   0.0   0.0  ...   0.0   0.0   0.0   0.0   0.0   0.0\n",
       "944   0.0   0.0   0.0   0.0   0.0   0.0  ...   0.0   0.0   0.0   0.0   0.0   0.0\n",
       "945   0.0   0.0   0.0   0.0   0.0   0.0  ...   0.0   0.0   0.0   0.0   0.0   0.0\n",
       "946   0.0   0.0   0.0   0.0   0.0   0.0  ...   0.0   0.0   0.0   0.0   0.0   0.0\n",
       "947   0.0   0.0   0.0   0.0   0.0   0.0  ...   0.0   0.0   0.0   0.0   0.0   0.0\n",
       "\n",
       "[948 rows x 3665 columns]"
      ]
     },
     "execution_count": 23,
     "metadata": {
      "tags": []
     },
     "output_type": "execute_result"
    }
   ],
   "source": [
    "df_tfidf = pd.DataFrame(df_tfvec)\n",
    "df_tfidf"
   ]
  },
  {
   "cell_type": "code",
   "execution_count": null,
   "metadata": {
    "id": "-QAD3VxuxovQ"
   },
   "outputs": [],
   "source": [
    "temp = np.empty(df_tfidf.shape[0], dtype=object)\n",
    "temp[:] = df_tfidf.values.tolist()"
   ]
  },
  {
   "cell_type": "code",
   "execution_count": null,
   "metadata": {
    "colab": {
     "base_uri": "https://localhost:8080/"
    },
    "id": "2_EE0Y3NxovQ",
    "outputId": "e769cb85-432d-4084-b11d-bdd74ed435b2"
   },
   "outputs": [
    {
     "data": {
      "text/html": [
       "<div>\n",
       "<style scoped>\n",
       "    .dataframe tbody tr th:only-of-type {\n",
       "        vertical-align: middle;\n",
       "    }\n",
       "\n",
       "    .dataframe tbody tr th {\n",
       "        vertical-align: top;\n",
       "    }\n",
       "\n",
       "    .dataframe thead th {\n",
       "        text-align: right;\n",
       "    }\n",
       "</style>\n",
       "<table border=\"1\" class=\"dataframe\">\n",
       "  <thead>\n",
       "    <tr style=\"text-align: right;\">\n",
       "      <th></th>\n",
       "      <th>tfidf</th>\n",
       "    </tr>\n",
       "  </thead>\n",
       "  <tbody>\n",
       "    <tr>\n",
       "      <th>0</th>\n",
       "      <td>[0.0, 0.0, 0.0, 0.0, 0.0, 0.0, 0.0, 0.0, 0.0, ...</td>\n",
       "    </tr>\n",
       "    <tr>\n",
       "      <th>1</th>\n",
       "      <td>[0.0, 0.0, 0.0, 0.0, 0.0, 0.0, 0.0, 0.0, 0.0, ...</td>\n",
       "    </tr>\n",
       "    <tr>\n",
       "      <th>2</th>\n",
       "      <td>[0.0, 0.0, 0.0, 0.0, 0.0, 0.0, 0.0, 0.0, 0.0, ...</td>\n",
       "    </tr>\n",
       "    <tr>\n",
       "      <th>3</th>\n",
       "      <td>[0.0, 0.0, 0.0, 0.0, 0.0, 0.0, 0.0, 0.0, 0.0, ...</td>\n",
       "    </tr>\n",
       "    <tr>\n",
       "      <th>4</th>\n",
       "      <td>[0.0, 0.0, 0.0, 0.0, 0.0, 0.0, 0.0, 0.0, 0.0, ...</td>\n",
       "    </tr>\n",
       "    <tr>\n",
       "      <th>...</th>\n",
       "      <td>...</td>\n",
       "    </tr>\n",
       "    <tr>\n",
       "      <th>943</th>\n",
       "      <td>[0.0, 0.0, 0.0, 0.0, 0.0, 0.0, 0.0, 0.0, 0.0, ...</td>\n",
       "    </tr>\n",
       "    <tr>\n",
       "      <th>944</th>\n",
       "      <td>[0.0, 0.0, 0.0, 0.0, 0.0, 0.0, 0.0, 0.0, 0.0, ...</td>\n",
       "    </tr>\n",
       "    <tr>\n",
       "      <th>945</th>\n",
       "      <td>[0.0, 0.0, 0.0, 0.0, 0.0, 0.0, 0.0, 0.0, 0.0, ...</td>\n",
       "    </tr>\n",
       "    <tr>\n",
       "      <th>946</th>\n",
       "      <td>[0.0, 0.0, 0.0, 0.0, 0.0, 0.0, 0.0, 0.0, 0.0, ...</td>\n",
       "    </tr>\n",
       "    <tr>\n",
       "      <th>947</th>\n",
       "      <td>[0.0, 0.0, 0.0, 0.0, 0.0, 0.0, 0.0, 0.0, 0.0, ...</td>\n",
       "    </tr>\n",
       "  </tbody>\n",
       "</table>\n",
       "<p>948 rows × 1 columns</p>\n",
       "</div>"
      ],
      "text/plain": [
       "                                                 tfidf\n",
       "0    [0.0, 0.0, 0.0, 0.0, 0.0, 0.0, 0.0, 0.0, 0.0, ...\n",
       "1    [0.0, 0.0, 0.0, 0.0, 0.0, 0.0, 0.0, 0.0, 0.0, ...\n",
       "2    [0.0, 0.0, 0.0, 0.0, 0.0, 0.0, 0.0, 0.0, 0.0, ...\n",
       "3    [0.0, 0.0, 0.0, 0.0, 0.0, 0.0, 0.0, 0.0, 0.0, ...\n",
       "4    [0.0, 0.0, 0.0, 0.0, 0.0, 0.0, 0.0, 0.0, 0.0, ...\n",
       "..                                                 ...\n",
       "943  [0.0, 0.0, 0.0, 0.0, 0.0, 0.0, 0.0, 0.0, 0.0, ...\n",
       "944  [0.0, 0.0, 0.0, 0.0, 0.0, 0.0, 0.0, 0.0, 0.0, ...\n",
       "945  [0.0, 0.0, 0.0, 0.0, 0.0, 0.0, 0.0, 0.0, 0.0, ...\n",
       "946  [0.0, 0.0, 0.0, 0.0, 0.0, 0.0, 0.0, 0.0, 0.0, ...\n",
       "947  [0.0, 0.0, 0.0, 0.0, 0.0, 0.0, 0.0, 0.0, 0.0, ...\n",
       "\n",
       "[948 rows x 1 columns]"
      ]
     },
     "execution_count": 25,
     "metadata": {
      "tags": []
     },
     "output_type": "execute_result"
    }
   ],
   "source": [
    "df_temp = pd.DataFrame(temp, columns=['tfidf'])\n",
    "df_temp"
   ]
  },
  {
   "cell_type": "code",
   "execution_count": null,
   "metadata": {
    "colab": {
     "base_uri": "https://localhost:8080/",
     "height": 293
    },
    "id": "pYrUc4OMxovQ",
    "outputId": "ad91bca5-8dd7-48bc-92f3-7acc57800320"
   },
   "outputs": [
    {
     "data": {
      "text/html": [
       "<div>\n",
       "<style scoped>\n",
       "    .dataframe tbody tr th:only-of-type {\n",
       "        vertical-align: middle;\n",
       "    }\n",
       "\n",
       "    .dataframe tbody tr th {\n",
       "        vertical-align: top;\n",
       "    }\n",
       "\n",
       "    .dataframe thead th {\n",
       "        text-align: right;\n",
       "    }\n",
       "</style>\n",
       "<table border=\"1\" class=\"dataframe\">\n",
       "  <thead>\n",
       "    <tr style=\"text-align: right;\">\n",
       "      <th></th>\n",
       "      <th>Date</th>\n",
       "      <th>Title</th>\n",
       "      <th>text_decont</th>\n",
       "      <th>text_no_punc</th>\n",
       "      <th>tk</th>\n",
       "      <th>tfidf</th>\n",
       "    </tr>\n",
       "  </thead>\n",
       "  <tbody>\n",
       "    <tr>\n",
       "      <th>0</th>\n",
       "      <td>2012-05-21</td>\n",
       "      <td>Google+: still not as interesting as Pinterest...</td>\n",
       "      <td>google+: still not as interesting as pinterest...</td>\n",
       "      <td>google   still not as interesting as pinterest...</td>\n",
       "      <td>[google, still, not, as, interesting, as, pint...</td>\n",
       "      <td>[0.0, 0.0, 0.0, 0.0, 0.0, 0.0, 0.0, 0.0, 0.0, ...</td>\n",
       "    </tr>\n",
       "    <tr>\n",
       "      <th>1</th>\n",
       "      <td>2012-05-22</td>\n",
       "      <td>Google given last chance to outline how it wil...</td>\n",
       "      <td>google given last chance to outline how it wil...</td>\n",
       "      <td>google given last chance to outline how it wil...</td>\n",
       "      <td>[google, given, last, chance, to, outline, how...</td>\n",
       "      <td>[0.0, 0.0, 0.0, 0.0, 0.0, 0.0, 0.0, 0.0, 0.0, ...</td>\n",
       "    </tr>\n",
       "    <tr>\n",
       "      <th>2</th>\n",
       "      <td>2012-05-23</td>\n",
       "      <td>Google appoints Dennis Woodside to run Motorol...</td>\n",
       "      <td>google appoints dennis woodside to run motorol...</td>\n",
       "      <td>google appoints dennis woodside to run motorol...</td>\n",
       "      <td>[google, appoints, dennis, woodside, to, run, ...</td>\n",
       "      <td>[0.0, 0.0, 0.0, 0.0, 0.0, 0.0, 0.0, 0.0, 0.0, ...</td>\n",
       "    </tr>\n",
       "    <tr>\n",
       "      <th>3</th>\n",
       "      <td>2012-05-24</td>\n",
       "      <td>Robert Moog's 78th birthday celebrated in Goog...</td>\n",
       "      <td>robert moog is 78th birthday celebrated in goo...</td>\n",
       "      <td>robert moog is 78th birthday celebrated in goo...</td>\n",
       "      <td>[robert, moog, is, 78th, birthday, celebrated,...</td>\n",
       "      <td>[0.0, 0.0, 0.0, 0.0, 0.0, 0.0, 0.0, 0.0, 0.0, ...</td>\n",
       "    </tr>\n",
       "    <tr>\n",
       "      <th>4</th>\n",
       "      <td>2012-05-25</td>\n",
       "      <td>Google faced with a million requests a month t...</td>\n",
       "      <td>google faced with a million requests a month t...</td>\n",
       "      <td>google faced with a million requests a month t...</td>\n",
       "      <td>[google, faced, with, a, million, requests, a,...</td>\n",
       "      <td>[0.0, 0.0, 0.0, 0.0, 0.0, 0.0, 0.0, 0.0, 0.0, ...</td>\n",
       "    </tr>\n",
       "  </tbody>\n",
       "</table>\n",
       "</div>"
      ],
      "text/plain": [
       "         Date  ...                                              tfidf\n",
       "0  2012-05-21  ...  [0.0, 0.0, 0.0, 0.0, 0.0, 0.0, 0.0, 0.0, 0.0, ...\n",
       "1  2012-05-22  ...  [0.0, 0.0, 0.0, 0.0, 0.0, 0.0, 0.0, 0.0, 0.0, ...\n",
       "2  2012-05-23  ...  [0.0, 0.0, 0.0, 0.0, 0.0, 0.0, 0.0, 0.0, 0.0, ...\n",
       "3  2012-05-24  ...  [0.0, 0.0, 0.0, 0.0, 0.0, 0.0, 0.0, 0.0, 0.0, ...\n",
       "4  2012-05-25  ...  [0.0, 0.0, 0.0, 0.0, 0.0, 0.0, 0.0, 0.0, 0.0, ...\n",
       "\n",
       "[5 rows x 6 columns]"
      ]
     },
     "execution_count": 26,
     "metadata": {
      "tags": []
     },
     "output_type": "execute_result"
    }
   ],
   "source": [
    "df_news = df_news.join(df_temp)\n",
    "df_news.head()"
   ]
  },
  {
   "cell_type": "markdown",
   "metadata": {
    "id": "ATsGq5jRAafn"
   },
   "source": [
    "## Load Stock Price Data"
   ]
  },
  {
   "cell_type": "code",
   "execution_count": null,
   "metadata": {
    "colab": {
     "base_uri": "https://localhost:8080/",
     "height": 206
    },
    "id": "ys7Vm3ylxovQ",
    "outputId": "9a447f8f-6a00-4514-f8da-c70d720aee3f"
   },
   "outputs": [
    {
     "data": {
      "text/html": [
       "<div>\n",
       "<style scoped>\n",
       "    .dataframe tbody tr th:only-of-type {\n",
       "        vertical-align: middle;\n",
       "    }\n",
       "\n",
       "    .dataframe tbody tr th {\n",
       "        vertical-align: top;\n",
       "    }\n",
       "\n",
       "    .dataframe thead th {\n",
       "        text-align: right;\n",
       "    }\n",
       "</style>\n",
       "<table border=\"1\" class=\"dataframe\">\n",
       "  <thead>\n",
       "    <tr style=\"text-align: right;\">\n",
       "      <th></th>\n",
       "      <th>Date</th>\n",
       "      <th>Close</th>\n",
       "    </tr>\n",
       "  </thead>\n",
       "  <tbody>\n",
       "    <tr>\n",
       "      <th>0</th>\n",
       "      <td>5/18/2012 16:00:00</td>\n",
       "      <td>300.20</td>\n",
       "    </tr>\n",
       "    <tr>\n",
       "      <th>1</th>\n",
       "      <td>5/21/2012 16:00:00</td>\n",
       "      <td>307.05</td>\n",
       "    </tr>\n",
       "    <tr>\n",
       "      <th>2</th>\n",
       "      <td>5/22/2012 16:00:00</td>\n",
       "      <td>300.39</td>\n",
       "    </tr>\n",
       "    <tr>\n",
       "      <th>3</th>\n",
       "      <td>5/23/2012 16:00:00</td>\n",
       "      <td>304.73</td>\n",
       "    </tr>\n",
       "    <tr>\n",
       "      <th>4</th>\n",
       "      <td>5/24/2012 16:00:00</td>\n",
       "      <td>301.82</td>\n",
       "    </tr>\n",
       "  </tbody>\n",
       "</table>\n",
       "</div>"
      ],
      "text/plain": [
       "                 Date   Close\n",
       "0  5/18/2012 16:00:00  300.20\n",
       "1  5/21/2012 16:00:00  307.05\n",
       "2  5/22/2012 16:00:00  300.39\n",
       "3  5/23/2012 16:00:00  304.73\n",
       "4  5/24/2012 16:00:00  301.82"
      ]
     },
     "execution_count": 27,
     "metadata": {
      "tags": []
     },
     "output_type": "execute_result"
    }
   ],
   "source": [
    "df_stock = pd.read_csv('/content/drive/MyDrive/stock_prediction/data/Stock Price - GOOG.csv', skiprows=1)\n",
    "df_stock.head()"
   ]
  },
  {
   "cell_type": "code",
   "execution_count": null,
   "metadata": {
    "id": "-cmpRK_sxovR"
   },
   "outputs": [],
   "source": [
    "df_stock['Date'] = pd.to_datetime(df_stock['Date'], infer_datetime_format=True).dt.date"
   ]
  },
  {
   "cell_type": "code",
   "execution_count": null,
   "metadata": {
    "id": "NJRb-TcyxovR"
   },
   "outputs": [],
   "source": [
    "df_stock = df_stock.set_index('Date').join(df_news.set_index('Date'))"
   ]
  },
  {
   "cell_type": "code",
   "execution_count": null,
   "metadata": {
    "id": "Euki_frfppKn"
   },
   "outputs": [],
   "source": [
    "df_stock.reset_index(inplace=True)"
   ]
  },
  {
   "cell_type": "markdown",
   "metadata": {
    "id": "cLuKm4YZGR5d"
   },
   "source": [
    "## Replace NaN TI-IDF by Zero Vector"
   ]
  },
  {
   "cell_type": "code",
   "execution_count": null,
   "metadata": {
    "id": "51AxamIxxovR"
   },
   "outputs": [],
   "source": [
    "def tfidf_zero(list_):\n",
    "    if type(list_) == float:\n",
    "        list_ = np.zeros(len(tfvec.get_feature_names()), dtype=float)\n",
    "    else:\n",
    "        list_ = np.array(list_)\n",
    "    return list_"
   ]
  },
  {
   "cell_type": "code",
   "execution_count": null,
   "metadata": {
    "id": "x4dUF8nXxovS"
   },
   "outputs": [],
   "source": [
    "df_stock['tfidf_new'] = df_stock['tfidf'].apply(lambda x: tfidf_zero(x))"
   ]
  },
  {
   "cell_type": "code",
   "execution_count": null,
   "metadata": {
    "id": "1OutCxVYxovS"
   },
   "outputs": [],
   "source": [
    "df_stock.reset_index(inplace=True)"
   ]
  },
  {
   "cell_type": "code",
   "execution_count": null,
   "metadata": {
    "colab": {
     "base_uri": "https://localhost:8080/"
    },
    "id": "9aVMe-6RxovS",
    "outputId": "2b46bb1b-8955-4ef7-faf1-877069e3aa2d"
   },
   "outputs": [
    {
     "data": {
      "text/html": [
       "<div>\n",
       "<style scoped>\n",
       "    .dataframe tbody tr th:only-of-type {\n",
       "        vertical-align: middle;\n",
       "    }\n",
       "\n",
       "    .dataframe tbody tr th {\n",
       "        vertical-align: top;\n",
       "    }\n",
       "\n",
       "    .dataframe thead th {\n",
       "        text-align: right;\n",
       "    }\n",
       "</style>\n",
       "<table border=\"1\" class=\"dataframe\">\n",
       "  <thead>\n",
       "    <tr style=\"text-align: right;\">\n",
       "      <th></th>\n",
       "      <th>index</th>\n",
       "      <th>Date</th>\n",
       "      <th>Close</th>\n",
       "      <th>Title</th>\n",
       "      <th>text_decont</th>\n",
       "      <th>text_no_punc</th>\n",
       "      <th>tk</th>\n",
       "      <th>tfidf</th>\n",
       "      <th>tfidf_new</th>\n",
       "    </tr>\n",
       "  </thead>\n",
       "  <tbody>\n",
       "    <tr>\n",
       "      <th>0</th>\n",
       "      <td>0</td>\n",
       "      <td>2012-05-18</td>\n",
       "      <td>300.20</td>\n",
       "      <td>NaN</td>\n",
       "      <td>NaN</td>\n",
       "      <td>NaN</td>\n",
       "      <td>NaN</td>\n",
       "      <td>NaN</td>\n",
       "      <td>[0.0, 0.0, 0.0, 0.0, 0.0, 0.0, 0.0, 0.0, 0.0, ...</td>\n",
       "    </tr>\n",
       "    <tr>\n",
       "      <th>1</th>\n",
       "      <td>1</td>\n",
       "      <td>2012-05-21</td>\n",
       "      <td>307.05</td>\n",
       "      <td>Google+: still not as interesting as Pinterest...</td>\n",
       "      <td>google+: still not as interesting as pinterest...</td>\n",
       "      <td>google   still not as interesting as pinterest...</td>\n",
       "      <td>[google, still, not, as, interesting, as, pint...</td>\n",
       "      <td>[0.0, 0.0, 0.0, 0.0, 0.0, 0.0, 0.0, 0.0, 0.0, ...</td>\n",
       "      <td>[0.0, 0.0, 0.0, 0.0, 0.0, 0.0, 0.0, 0.0, 0.0, ...</td>\n",
       "    </tr>\n",
       "    <tr>\n",
       "      <th>2</th>\n",
       "      <td>2</td>\n",
       "      <td>2012-05-22</td>\n",
       "      <td>300.39</td>\n",
       "      <td>Google given last chance to outline how it wil...</td>\n",
       "      <td>google given last chance to outline how it wil...</td>\n",
       "      <td>google given last chance to outline how it wil...</td>\n",
       "      <td>[google, given, last, chance, to, outline, how...</td>\n",
       "      <td>[0.0, 0.0, 0.0, 0.0, 0.0, 0.0, 0.0, 0.0, 0.0, ...</td>\n",
       "      <td>[0.0, 0.0, 0.0, 0.0, 0.0, 0.0, 0.0, 0.0, 0.0, ...</td>\n",
       "    </tr>\n",
       "    <tr>\n",
       "      <th>3</th>\n",
       "      <td>3</td>\n",
       "      <td>2012-05-23</td>\n",
       "      <td>304.73</td>\n",
       "      <td>Google appoints Dennis Woodside to run Motorol...</td>\n",
       "      <td>google appoints dennis woodside to run motorol...</td>\n",
       "      <td>google appoints dennis woodside to run motorol...</td>\n",
       "      <td>[google, appoints, dennis, woodside, to, run, ...</td>\n",
       "      <td>[0.0, 0.0, 0.0, 0.0, 0.0, 0.0, 0.0, 0.0, 0.0, ...</td>\n",
       "      <td>[0.0, 0.0, 0.0, 0.0, 0.0, 0.0, 0.0, 0.0, 0.0, ...</td>\n",
       "    </tr>\n",
       "    <tr>\n",
       "      <th>4</th>\n",
       "      <td>4</td>\n",
       "      <td>2012-05-24</td>\n",
       "      <td>301.82</td>\n",
       "      <td>Robert Moog's 78th birthday celebrated in Goog...</td>\n",
       "      <td>robert moog is 78th birthday celebrated in goo...</td>\n",
       "      <td>robert moog is 78th birthday celebrated in goo...</td>\n",
       "      <td>[robert, moog, is, 78th, birthday, celebrated,...</td>\n",
       "      <td>[0.0, 0.0, 0.0, 0.0, 0.0, 0.0, 0.0, 0.0, 0.0, ...</td>\n",
       "      <td>[0.0, 0.0, 0.0, 0.0, 0.0, 0.0, 0.0, 0.0, 0.0, ...</td>\n",
       "    </tr>\n",
       "    <tr>\n",
       "      <th>...</th>\n",
       "      <td>...</td>\n",
       "      <td>...</td>\n",
       "      <td>...</td>\n",
       "      <td>...</td>\n",
       "      <td>...</td>\n",
       "      <td>...</td>\n",
       "      <td>...</td>\n",
       "      <td>...</td>\n",
       "      <td>...</td>\n",
       "    </tr>\n",
       "    <tr>\n",
       "      <th>2275</th>\n",
       "      <td>2275</td>\n",
       "      <td>2021-06-04</td>\n",
       "      <td>2451.76</td>\n",
       "      <td>NaN</td>\n",
       "      <td>NaN</td>\n",
       "      <td>NaN</td>\n",
       "      <td>NaN</td>\n",
       "      <td>NaN</td>\n",
       "      <td>[0.0, 0.0, 0.0, 0.0, 0.0, 0.0, 0.0, 0.0, 0.0, ...</td>\n",
       "    </tr>\n",
       "    <tr>\n",
       "      <th>2276</th>\n",
       "      <td>2276</td>\n",
       "      <td>2021-06-07</td>\n",
       "      <td>2466.09</td>\n",
       "      <td>NaN</td>\n",
       "      <td>NaN</td>\n",
       "      <td>NaN</td>\n",
       "      <td>NaN</td>\n",
       "      <td>NaN</td>\n",
       "      <td>[0.0, 0.0, 0.0, 0.0, 0.0, 0.0, 0.0, 0.0, 0.0, ...</td>\n",
       "    </tr>\n",
       "    <tr>\n",
       "      <th>2277</th>\n",
       "      <td>2277</td>\n",
       "      <td>2021-06-08</td>\n",
       "      <td>2482.85</td>\n",
       "      <td>France fines Google for abusing online adverti...</td>\n",
       "      <td>france fines google for abusing online adverti...</td>\n",
       "      <td>france fines google for abusing online adverti...</td>\n",
       "      <td>[france, fines, google, for, abusing, online, ...</td>\n",
       "      <td>[0.0, 0.0, 0.0, 0.0, 0.0, 0.0, 0.0, 0.0, 0.0, ...</td>\n",
       "      <td>[0.0, 0.0, 0.0, 0.0, 0.0, 0.0, 0.0, 0.0, 0.0, ...</td>\n",
       "    </tr>\n",
       "    <tr>\n",
       "      <th>2278</th>\n",
       "      <td>2278</td>\n",
       "      <td>2021-06-09</td>\n",
       "      <td>2491.40</td>\n",
       "      <td>NaN</td>\n",
       "      <td>NaN</td>\n",
       "      <td>NaN</td>\n",
       "      <td>NaN</td>\n",
       "      <td>NaN</td>\n",
       "      <td>[0.0, 0.0, 0.0, 0.0, 0.0, 0.0, 0.0, 0.0, 0.0, ...</td>\n",
       "    </tr>\n",
       "    <tr>\n",
       "      <th>2279</th>\n",
       "      <td>2279</td>\n",
       "      <td>2021-06-10</td>\n",
       "      <td>2521.60</td>\n",
       "      <td>NaN</td>\n",
       "      <td>NaN</td>\n",
       "      <td>NaN</td>\n",
       "      <td>NaN</td>\n",
       "      <td>NaN</td>\n",
       "      <td>[0.0, 0.0, 0.0, 0.0, 0.0, 0.0, 0.0, 0.0, 0.0, ...</td>\n",
       "    </tr>\n",
       "  </tbody>\n",
       "</table>\n",
       "<p>2280 rows × 9 columns</p>\n",
       "</div>"
      ],
      "text/plain": [
       "      index  ...                                          tfidf_new\n",
       "0         0  ...  [0.0, 0.0, 0.0, 0.0, 0.0, 0.0, 0.0, 0.0, 0.0, ...\n",
       "1         1  ...  [0.0, 0.0, 0.0, 0.0, 0.0, 0.0, 0.0, 0.0, 0.0, ...\n",
       "2         2  ...  [0.0, 0.0, 0.0, 0.0, 0.0, 0.0, 0.0, 0.0, 0.0, ...\n",
       "3         3  ...  [0.0, 0.0, 0.0, 0.0, 0.0, 0.0, 0.0, 0.0, 0.0, ...\n",
       "4         4  ...  [0.0, 0.0, 0.0, 0.0, 0.0, 0.0, 0.0, 0.0, 0.0, ...\n",
       "...     ...  ...                                                ...\n",
       "2275   2275  ...  [0.0, 0.0, 0.0, 0.0, 0.0, 0.0, 0.0, 0.0, 0.0, ...\n",
       "2276   2276  ...  [0.0, 0.0, 0.0, 0.0, 0.0, 0.0, 0.0, 0.0, 0.0, ...\n",
       "2277   2277  ...  [0.0, 0.0, 0.0, 0.0, 0.0, 0.0, 0.0, 0.0, 0.0, ...\n",
       "2278   2278  ...  [0.0, 0.0, 0.0, 0.0, 0.0, 0.0, 0.0, 0.0, 0.0, ...\n",
       "2279   2279  ...  [0.0, 0.0, 0.0, 0.0, 0.0, 0.0, 0.0, 0.0, 0.0, ...\n",
       "\n",
       "[2280 rows x 9 columns]"
      ]
     },
     "execution_count": 34,
     "metadata": {
      "tags": []
     },
     "output_type": "execute_result"
    }
   ],
   "source": [
    "df_stock"
   ]
  },
  {
   "cell_type": "markdown",
   "metadata": {
    "id": "9siJkLGKtLk5"
   },
   "source": [
    "# 3. Train-test split"
   ]
  },
  {
   "cell_type": "code",
   "execution_count": null,
   "metadata": {
    "id": "bHMAdCQpr324"
   },
   "outputs": [],
   "source": [
    "df_stock = df_stock.fillna('')"
   ]
  },
  {
   "cell_type": "code",
   "execution_count": null,
   "metadata": {
    "colab": {
     "base_uri": "https://localhost:8080/"
    },
    "id": "C7t1ZxxOtLk5",
    "outputId": "67da078a-bde2-4c59-ccbe-be489379ee28"
   },
   "outputs": [
    {
     "name": "stdout",
     "output_type": "stream",
     "text": [
      "Training set: 1917 accounted for  84.07894736842105 %\n",
      "Val set: 168 accounted for  7.368421052631578 %\n",
      "Test set: 195 accounted for  8.552631578947368 %\n"
     ]
    },
    {
     "name": "stderr",
     "output_type": "stream",
     "text": [
      "/usr/local/lib/python3.7/dist-packages/ipykernel_launcher.py:4: UserWarning: Boolean Series key will be reindexed to match DataFrame index.\n",
      "  after removing the cwd from sys.path.\n"
     ]
    }
   ],
   "source": [
    "df_stock['Date'] = pd.to_datetime(df_stock['Date'], format='%Y-%m-%d')\n",
    "\n",
    "train_data = df_stock[df_stock['Date'] < '2020-01-01'].copy()\n",
    "val_data = df_stock[df_stock['Date'] < '2020-09-01'][df_stock['Date'] > '2019-12-31'].copy()\n",
    "test_data = df_stock[df_stock['Date'] > '2020-08-31'].copy()\n",
    "\n",
    "val_data = val_data.set_index('Date')\n",
    "train_data = train_data.set_index('Date')\n",
    "test_data = test_data.set_index('Date')\n",
    "\n",
    "print('Training set:', train_data.shape[0], 'accounted for ',train_data.shape[0]/df_stock.shape[0]*100,'%')\n",
    "print('Val set:', val_data.shape[0], 'accounted for ',val_data.shape[0]/df_stock.shape[0]*100,'%')\n",
    "print('Test set:', test_data.shape[0], 'accounted for ',test_data.shape[0]/df_stock.shape[0]*100,'%')"
   ]
  },
  {
   "cell_type": "markdown",
   "metadata": {
    "id": "bhydodn6tLk6"
   },
   "source": [
    "# 4. Historical Price\n",
    "## Data normalization"
   ]
  },
  {
   "cell_type": "code",
   "execution_count": null,
   "metadata": {
    "id": "3EhdO4iX_PUU"
   },
   "outputs": [],
   "source": [
    "# Scaling the training set\n",
    "transform_train = {}\n",
    "transform_val = {}\n",
    "transform_test = {}\n",
    "scaled_aa = {}\n",
    "scaler = {}\n",
    "\n",
    "sc = MinMaxScaler(feature_range=(0,1))\n",
    "\n",
    "aa = np.array(df_stock.Close)\n",
    "aa = aa.reshape(aa.shape[0],1)\n",
    "\n",
    "a0 = np.array(train_data.Close)\n",
    "a1 = np.array(test_data.Close)\n",
    "a2 = np.array(val_data.Close)\n",
    "\n",
    "a0 = a0.reshape(a0.shape[0],1)\n",
    "a1 = a1.reshape(a1.shape[0],1)\n",
    "a2 = a2.reshape(a2.shape[0],1)\n",
    "\n",
    "scaled_aa = sc.fit_transform(aa)\n",
    "\n",
    "transform_train = sc.transform(a0)\n",
    "transform_test = sc.transform(a1)\n",
    "transform_val = sc.transform(a2)\n",
    "\n",
    "scaler = sc\n",
    "    \n",
    "del aa\n",
    "del a0\n",
    "del a1\n",
    "del a2"
   ]
  },
  {
   "cell_type": "markdown",
   "metadata": {
    "id": "lCVZXWURtLk6"
   },
   "source": [
    "## Windowing Input Data"
   ]
  },
  {
   "cell_type": "code",
   "execution_count": null,
   "metadata": {
    "id": "bVoL395QtLk7"
   },
   "outputs": [],
   "source": [
    "#windowing size\n",
    "n_lags = int(60)\n",
    "\n",
    "trainset = {}\n",
    "testset = {}\n",
    "valset = {}\n",
    "    \n",
    "X_train = []\n",
    "y_train = []\n",
    "for i in range(n_lags,train_data.shape[0]):\n",
    "    X_train.append(transform_train[i-n_lags:i])\n",
    "    y_train.append(transform_train[i])\n",
    "X_train, y_train = np.array(X_train), np.array(y_train)\n",
    "trainset[\"X\"] = np.reshape(X_train, (X_train.shape[0],X_train.shape[1],1))\n",
    "trainset[\"y\"] = y_train\n",
    "\n",
    "X_test = []\n",
    "y_test = []    \n",
    "for i in range(n_lags, test_data.shape[0]):\n",
    "    X_test.append(transform_test[i-n_lags:i])\n",
    "    y_test.append(transform_test[i])\n",
    "X_test, y_test = np.array(X_test), np.array(y_test)\n",
    "testset[\"X\"] = np.reshape(X_test, (X_test.shape[0], X_test.shape[1], 1))\n",
    "testset[\"y\"] = y_test\n",
    "\n",
    "X_val = []\n",
    "y_val = []    \n",
    "for i in range(n_lags, val_data.shape[0]):\n",
    "    X_val.append(transform_val[i-n_lags:i])\n",
    "    y_val.append(transform_val[i])\n",
    "X_val, y_val = np.array(X_val), np.array(y_val)\n",
    "valset[\"X\"] = np.reshape(X_val, (X_val.shape[0], X_val.shape[1], 1))\n",
    "valset[\"y\"] = y_val"
   ]
  },
  {
   "cell_type": "code",
   "execution_count": null,
   "metadata": {
    "colab": {
     "base_uri": "https://localhost:8080/"
    },
    "id": "QVwy1UDUtLk7",
    "outputId": "a5bfcf5f-c28b-42b0-e6fd-b9f3aa1a007d"
   },
   "outputs": [
    {
     "data": {
      "text/html": [
       "<div>\n",
       "<style scoped>\n",
       "    .dataframe tbody tr th:only-of-type {\n",
       "        vertical-align: middle;\n",
       "    }\n",
       "\n",
       "    .dataframe tbody tr th {\n",
       "        vertical-align: top;\n",
       "    }\n",
       "\n",
       "    .dataframe thead th {\n",
       "        text-align: right;\n",
       "    }\n",
       "</style>\n",
       "<table border=\"1\" class=\"dataframe\">\n",
       "  <thead>\n",
       "    <tr style=\"text-align: right;\">\n",
       "      <th></th>\n",
       "      <th>X_train</th>\n",
       "      <th>y_train</th>\n",
       "      <th>X_test</th>\n",
       "      <th>y_test</th>\n",
       "      <th>X_val</th>\n",
       "      <th>y_val</th>\n",
       "    </tr>\n",
       "  </thead>\n",
       "  <tbody>\n",
       "    <tr>\n",
       "      <th>0</th>\n",
       "      <td>(1857, 60, 1)</td>\n",
       "      <td>(1857, 1)</td>\n",
       "      <td>(135, 60, 1)</td>\n",
       "      <td>(135, 1)</td>\n",
       "      <td>(108, 60, 1)</td>\n",
       "      <td>(108, 1)</td>\n",
       "    </tr>\n",
       "  </tbody>\n",
       "</table>\n",
       "</div>"
      ],
      "text/plain": [
       "         X_train    y_train        X_test    y_test         X_val     y_val\n",
       "0  (1857, 60, 1)  (1857, 1)  (135, 60, 1)  (135, 1)  (108, 60, 1)  (108, 1)"
      ]
     },
     "execution_count": 39,
     "metadata": {
      "tags": []
     },
     "output_type": "execute_result"
    }
   ],
   "source": [
    "# Check the shape (again) before start training\n",
    "arr_buff = []\n",
    "buff = {}\n",
    "buff[\"X_train\"] = trainset[\"X\"].shape\n",
    "buff[\"y_train\"] = trainset[\"y\"].shape\n",
    "buff[\"X_test\"] = testset[\"X\"].shape\n",
    "buff[\"y_test\"] = testset[\"y\"].shape\n",
    "buff[\"X_val\"] = valset[\"X\"].shape\n",
    "buff[\"y_val\"] = valset[\"y\"].shape\n",
    "arr_buff.append(buff)\n",
    "\n",
    "pd.DataFrame(arr_buff)"
   ]
  },
  {
   "cell_type": "markdown",
   "metadata": {
    "id": "1Xt6Xl5wsmJr"
   },
   "source": [
    "# 5. Word Embedding"
   ]
  },
  {
   "cell_type": "code",
   "execution_count": null,
   "metadata": {
    "id": "wHTJjObIoRkQ"
   },
   "outputs": [],
   "source": [
    "import gensim\n",
    "from gensim.models import Word2Vec\n",
    "#setting\n",
    "vector_dim = 750\n",
    "window_size = 5\n",
    "min_count = 1\n",
    "training_iter = 20\n",
    "\n",
    "#model\n",
    "word2vec_model = Word2Vec(sentences=df_news.tk.values, size=vector_dim, window=window_size, \n",
    "                          min_count=min_count, iter=training_iter)"
   ]
  },
  {
   "cell_type": "code",
   "execution_count": null,
   "metadata": {
    "id": "BeaJ9I4KokqD"
   },
   "outputs": [],
   "source": [
    "#save model in ASCII (word2vec) format\n",
    "filename = '/content/drive/MyDrive/stock_prediction/GOOG/embedding_word2vec.txt'\n",
    "word2vec_model.wv.save_word2vec_format(filename, binary=False)"
   ]
  },
  {
   "cell_type": "code",
   "execution_count": null,
   "metadata": {
    "id": "5-GvPX6ko82w"
   },
   "outputs": [],
   "source": [
    "from keras.preprocessing.text import Tokenizer\n",
    "from keras.preprocessing.sequence import pad_sequences\n",
    "\n",
    "#find the longest tweet and use its length as number of embedding features\n",
    "maxlen = max([len(s.split()) for s in train_data.text_no_punc[n_lags:]])\n",
    "\n",
    "#tokenizer, sequence & padding\n",
    "tokenizer = Tokenizer()\n",
    "tokenizer.fit_on_texts(train_data.text_no_punc)\n",
    "xtrain_word_index = tokenizer.word_index\n",
    "xtrain_sequences = tokenizer.texts_to_sequences(train_data.text_no_punc[n_lags:])\n",
    "news_train = pad_sequences(xtrain_sequences, maxlen, padding='pre')\n",
    "news_test = pad_sequences(tokenizer.texts_to_sequences(test_data.text_no_punc[n_lags:].str.lower())\n",
    "                       ,maxlen, padding='pre')\n",
    "news_val = pad_sequences(tokenizer.texts_to_sequences(val_data.text_no_punc[n_lags:].str.lower())\n",
    "                       ,maxlen, padding='pre')"
   ]
  },
  {
   "cell_type": "code",
   "execution_count": null,
   "metadata": {
    "colab": {
     "base_uri": "https://localhost:8080/"
    },
    "id": "uUE7Uu7W8JQk",
    "outputId": "0fe5f3f8-e319-438c-a35e-d9d942008b24"
   },
   "outputs": [
    {
     "data": {
      "text/plain": [
       "75"
      ]
     },
     "execution_count": 43,
     "metadata": {
      "tags": []
     },
     "output_type": "execute_result"
    }
   ],
   "source": [
    "maxlen"
   ]
  },
  {
   "cell_type": "code",
   "execution_count": null,
   "metadata": {
    "colab": {
     "base_uri": "https://localhost:8080/"
    },
    "id": "LnimwBeVtfis",
    "outputId": "93d37616-e69f-48a4-cb92-b835cd2d523d"
   },
   "outputs": [
    {
     "data": {
      "text/plain": [
       "(1857, 75)"
      ]
     },
     "execution_count": 44,
     "metadata": {
      "tags": []
     },
     "output_type": "execute_result"
    }
   ],
   "source": [
    "news_train.shape"
   ]
  },
  {
   "cell_type": "markdown",
   "metadata": {
    "id": "czwrwYUssijt"
   },
   "source": [
    "## Load Pre-trained Word Embedding"
   ]
  },
  {
   "cell_type": "code",
   "execution_count": null,
   "metadata": {
    "colab": {
     "base_uri": "https://localhost:8080/"
    },
    "id": "xL7z9-sRsq-x",
    "outputId": "abf1fcf0-ffb8-4b73-f3dd-d8caa9f1ee51"
   },
   "outputs": [
    {
     "name": "stdout",
     "output_type": "stream",
     "text": [
      "Converted 3475 words (5 misses)\n"
     ]
    }
   ],
   "source": [
    "#load embedding as a dict\n",
    "def load_embedding(filename):\n",
    "    # load embedding into memory, skip first line\n",
    "    file = open(filename,'r')\n",
    "    lines = file.readlines()[1:]\n",
    "    file.close()\n",
    "    # create a map of words to vectors\n",
    "    embedding = dict()\n",
    "    for line in lines:\n",
    "        parts = line.split()\n",
    "        # key is string word, value is numpy array for vector\n",
    "        embedding[parts[0]] = np.asarray(parts[1:], dtype='float32')\n",
    "    return embedding\n",
    "\n",
    "# create a weight matrix for the Embedding layer from a loaded embedding\n",
    "def get_weight_matrix(embedding, vocab):\n",
    "    # total vocabulary size plus 0 for unknown words\n",
    "    vocab_size = len(vocab) + 1\n",
    "    # define weight matrix dimensions with all 0\n",
    "    weight_matrix = np.zeros((vocab_size, vector_dim))\n",
    "    # step vocab, store vectors using the Tokenizer's integer mapping\n",
    "    hits = 0\n",
    "    misses = 0\n",
    "    for word, i in vocab.items():\n",
    "        embedding_vector = embedding.get(word)\n",
    "        if embedding_vector is not None:\n",
    "            # Words not found in embedding index will be all-zeros.\n",
    "            weight_matrix[i] = embedding_vector\n",
    "            hits += 1\n",
    "        else:\n",
    "            misses += 1\n",
    "    print(\"Converted %d words (%d misses)\" % (hits, misses))\n",
    "    return weight_matrix, vocab_size\n",
    "\n",
    "# load embedding from pre-trained embedding file\n",
    "raw_embedding = load_embedding('/content/drive/MyDrive/stock_prediction/GOOG/embedding_word2vec.txt')\n",
    "\n",
    "# get vectors in the right order\n",
    "embedding_vectors, vocab_size = get_weight_matrix(raw_embedding, tokenizer.word_index)"
   ]
  },
  {
   "cell_type": "markdown",
   "metadata": {
    "id": "SywMtgMKxovV"
   },
   "source": [
    "# 6. Seq2seq Model with Word2Vec"
   ]
  },
  {
   "cell_type": "code",
   "execution_count": null,
   "metadata": {
    "colab": {
     "base_uri": "https://localhost:8080/"
    },
    "id": "pE3BXAb8xovV",
    "outputId": "6432ae64-e20d-4e97-a696-bd35fd7642d5"
   },
   "outputs": [
    {
     "name": "stdout",
     "output_type": "stream",
     "text": [
      "CPU times: user 1.73 s, sys: 484 ms, total: 2.21 s\n",
      "Wall time: 6.33 s\n"
     ]
    }
   ],
   "source": [
    "%%time\n",
    "# LSTM architecture\n",
    "# FIRST BRANCH operates on the first input\n",
    "# 1st layer with Dropout regularisation\n",
    "lstm_input = Input(shape=(X_train.shape[1],1))\n",
    "x = Bidirectional(GRU(units=60, return_sequences=True))(lstm_input)\n",
    "x = Dropout(0.2)(x)\n",
    "\n",
    "# 2nd LSTM layer\n",
    "x = GRU(units=60)(x)\n",
    "x = Dropout(0.2)(x)\n",
    "\n",
    "lstm_branch = Model(inputs=lstm_input, outputs=x)\n",
    "\n",
    "# SECOND BRANCH operates on the first input\n",
    "embedding_layer = Embedding(vocab_size, vector_dim, weights=[embedding_vectors]\n",
    "                            ,input_length=maxlen, trainable=False)\n",
    "sequence_input = Input(shape=(maxlen,), dtype='int32')\n",
    "embedded_sequences = embedding_layer(sequence_input)\n",
    "\n",
    "y = Bidirectional(GRU(units=64, return_sequences=True))(embedded_sequences)\n",
    "y = Dropout(0.2)(y)\n",
    "y = GRU(units=64, return_sequences=True)(y)\n",
    "y = Dropout(0.2)(y)\n",
    "y = GRU(units=64)(y)\n",
    "y = Dropout(0.2)(y)\n",
    "news_branch = Model(inputs=sequence_input, outputs=y)\n",
    "\n",
    "# combine the output of the two branches\n",
    "combined = concatenate([lstm_branch.output, news_branch.output], name='combined')\n",
    "# Output layer\n",
    "z = Dense(25)(combined)\n",
    "z = Dense(1)(z)\n",
    "multi_model = Model(inputs=[lstm_branch.input, news_branch.input], outputs=z)\n",
    "\n",
    "# Compiling\n",
    "multi_model.compile(optimizer='adam', loss='mean_squared_error')"
   ]
  },
  {
   "cell_type": "code",
   "execution_count": null,
   "metadata": {
    "colab": {
     "base_uri": "https://localhost:8080/"
    },
    "id": "dHlWWHzqxovW",
    "outputId": "f8ba676a-6ab1-44fc-eec5-c5809ca27972"
   },
   "outputs": [
    {
     "data": {
      "image/png": "[encoded data removed]",
      "text/plain": [
       "<IPython.core.display.Image object>"
      ]
     },
     "execution_count": 47,
     "metadata": {
      "tags": []
     },
     "output_type": "execute_result"
    }
   ],
   "source": [
    "from tensorflow.keras.utils import plot_model\n",
    "plot_model(multi_model, show_shapes=True)"
   ]
  },
  {
   "cell_type": "code",
   "execution_count": null,
   "metadata": {
    "colab": {
     "base_uri": "https://localhost:8080/"
    },
    "id": "-TkrNo22xovW",
    "outputId": "1bfcc7a8-ca6a-4367-a8b1-bea2d4c3d126"
   },
   "outputs": [
    {
     "name": "stderr",
     "output_type": "stream",
     "text": [
      "/usr/local/lib/python3.7/dist-packages/tensorflow/python/data/ops/dataset_ops.py:3704: UserWarning: Even though the `tf.config.experimental_run_functions_eagerly` option is set, this option does not apply to tf.data functions. To force eager execution of tf.data functions, please use `tf.data.experimental.enable.debug_mode()`.\n",
      "  \"Even though the `tf.config.experimental_run_functions_eagerly` \"\n"
     ]
    },
    {
     "name": "stdout",
     "output_type": "stream",
     "text": [
      "Epoch 1/100\n",
      "30/30 [==============================] - 10s 83ms/step - loss: 0.0342 - val_loss: 8.0892e-04\n",
      "Epoch 2/100\n",
      "30/30 [==============================] - 3s 83ms/step - loss: 0.0013 - val_loss: 5.4066e-04\n",
      "Epoch 3/100\n",
      "30/30 [==============================] - 2s 83ms/step - loss: 6.7933e-04 - val_loss: 4.4495e-04\n",
      "Epoch 4/100\n",
      "30/30 [==============================] - 2s 83ms/step - loss: 5.1291e-04 - val_loss: 4.6483e-04\n",
      "Epoch 5/100\n",
      "30/30 [==============================] - 2s 82ms/step - loss: 4.5339e-04 - val_loss: 3.2068e-04\n",
      "Epoch 6/100\n",
      "30/30 [==============================] - 2s 81ms/step - loss: 3.7887e-04 - val_loss: 1.9643e-04\n",
      "Epoch 7/100\n",
      "30/30 [==============================] - 2s 82ms/step - loss: 5.0843e-04 - val_loss: 1.8618e-04\n",
      "Epoch 8/100\n",
      "30/30 [==============================] - 2s 79ms/step - loss: 3.9957e-04 - val_loss: 2.9389e-04\n",
      "Epoch 9/100\n",
      "30/30 [==============================] - 2s 80ms/step - loss: 3.6127e-04 - val_loss: 2.6485e-04\n",
      "Epoch 10/100\n",
      "30/30 [==============================] - 2s 80ms/step - loss: 3.1786e-04 - val_loss: 3.7593e-04\n",
      "Epoch 11/100\n",
      "30/30 [==============================] - 2s 78ms/step - loss: 3.2598e-04 - val_loss: 5.6836e-04\n",
      "Epoch 12/100\n",
      "30/30 [==============================] - 2s 83ms/step - loss: 3.3386e-04 - val_loss: 2.2417e-04\n"
     ]
    },
    {
     "data": {
      "text/plain": [
       "<keras.callbacks.History at 0x7f8cd0214f90>"
      ]
     },
     "execution_count": 48,
     "metadata": {
      "tags": []
     },
     "output_type": "execute_result"
    }
   ],
   "source": [
    "from keras.callbacks import CSVLogger\n",
    "logger_filename = '/content/drive/MyDrive/stock_prediction/GOOG/training_log_seq2seq_model.csv'\n",
    "\n",
    "my_callback = [\n",
    "               EarlyStopping(patience=5,monitor='val_loss'),\n",
    "               CSVLogger(filename=logger_filename)\n",
    "\n",
    "]\n",
    "\n",
    "# training setting\n",
    "epochs = 100\n",
    "batch_size = 64\n",
    "\n",
    "# Fitting to the training set\n",
    "multi_model.fit([trainset['X'], news_train], trainset['y'], epochs=epochs, batch_size=batch_size, callbacks=my_callback\n",
    "                              , validation_data=([valset['X'], news_val], valset['y']))"
   ]
  },
  {
   "cell_type": "code",
   "execution_count": null,
   "metadata": {
    "id": "tMPqYLQsxovW"
   },
   "outputs": [],
   "source": [
    "multi_model.save('/content/drive/MyDrive/stock_prediction/GOOG/stock_pred_seq2seq_model.h5')"
   ]
  },
  {
   "cell_type": "markdown",
   "metadata": {
    "id": "kll2CRCAxovX"
   },
   "source": [
    "## Evaluation"
   ]
  },
  {
   "cell_type": "code",
   "execution_count": null,
   "metadata": {
    "colab": {
     "base_uri": "https://localhost:8080/"
    },
    "id": "nKE4ScqExovX",
    "outputId": "ea7a50e2-e7cb-4d61-eb2f-8e61009f39c2"
   },
   "outputs": [
    {
     "name": "stderr",
     "output_type": "stream",
     "text": [
      "/usr/local/lib/python3.7/dist-packages/tensorflow/python/data/ops/dataset_ops.py:3704: UserWarning: Even though the `tf.config.experimental_run_functions_eagerly` option is set, this option does not apply to tf.data functions. To force eager execution of tf.data functions, please use `tf.data.experimental.enable.debug_mode()`.\n",
      "  \"Even though the `tf.config.experimental_run_functions_eagerly` \"\n",
      "/usr/local/lib/python3.7/dist-packages/tensorflow/python/data/ops/dataset_ops.py:3704: UserWarning: Even though the `tf.config.experimental_run_functions_eagerly` option is set, this option does not apply to tf.data functions. To force eager execution of tf.data functions, please use `tf.data.experimental.enable.debug_mode()`.\n",
      "  \"Even though the `tf.config.experimental_run_functions_eagerly` \"\n",
      "/usr/local/lib/python3.7/dist-packages/tensorflow/python/data/ops/dataset_ops.py:3704: UserWarning: Even though the `tf.config.experimental_run_functions_eagerly` option is set, this option does not apply to tf.data functions. To force eager execution of tf.data functions, please use `tf.data.experimental.enable.debug_mode()`.\n",
      "  \"Even though the `tf.config.experimental_run_functions_eagerly` \"\n"
     ]
    },
    {
     "data": {
      "text/plain": [
       "<matplotlib.legend.Legend at 0x7f8cd0525090>"
      ]
     },
     "execution_count": 50,
     "metadata": {
      "tags": []
     },
     "output_type": "execute_result"
    },
    {
     "data": {
      "image/png": "[encoded data removed]",
      "text/plain": [
       "<Figure size 864x144 with 1 Axes>"
      ]
     },
     "metadata": {
      "needs_background": "light",
      "tags": []
     },
     "output_type": "display_data"
    }
   ],
   "source": [
    "def calculate_mse_multi(scaler, y_input, x_input, w2v):\n",
    "    y_pred = multi_model.predict([x_input, w2v])\n",
    "    MSE = mean_squared_error(y_input, y_pred)\n",
    "\n",
    "    y_true = scaler.inverse_transform(y_input.reshape(-1,1))\n",
    "    y_pred = scaler.inverse_transform(y_pred)\n",
    "\n",
    "    real_mse = np.mean(np.square(y_true - y_pred))\n",
    "    scaled_mse = real_mse/(np.max(y_true) - np.min(y_true)) * 100\n",
    "\n",
    "    return MSE, scaled_mse, y_true, y_pred\n",
    "\n",
    "train_MSE, train_scaled_mse, train_y, train_y_pred = calculate_mse_multi(scaler, trainset[\"y\"], trainset[\"X\"], news_train)\n",
    "val_MSE, val_scaled_mse, val_y, val_y_pred = calculate_mse_multi(scaler, valset[\"y\"], valset[\"X\"], news_val)\n",
    "test_MSE, test_scaled_mse, test_y, test_y_pred = calculate_mse_multi(scaler, testset[\"y\"], testset[\"X\"], news_test)\n",
    "\n",
    "y_true = np.vstack((test_y))\n",
    "y_pred = np.vstack((test_y_pred))\n",
    "\n",
    "\n",
    "mse = {}\n",
    "mse[\"train\"] = train_MSE\n",
    "mse[\"val\"] = val_MSE\n",
    "mse[\"test\"] = test_MSE\n",
    "\n",
    "scaled_mse = {}\n",
    "scaled_mse[\"train\"] = train_scaled_mse\n",
    "scaled_mse[\"val\"] = val_scaled_mse\n",
    "scaled_mse[\"test\"] = test_scaled_mse\n",
    "\n",
    "pred_result = {}\n",
    "pred_result[\"True\"] = test_y\n",
    "pred_result[\"Pred\"] = test_y_pred\n",
    "\n",
    "plt.figure(figsize=(12,2))\n",
    "plt.plot(y_true)\n",
    "plt.plot(y_pred)\n",
    "plt.legend(['y_true','y_pred'])"
   ]
  },
  {
   "cell_type": "code",
   "execution_count": null,
   "metadata": {
    "colab": {
     "base_uri": "https://localhost:8080/"
    },
    "id": "UmFUyMmivy7Z",
    "outputId": "5df290c5-484a-4319-aa4f-5bd9be26af71"
   },
   "outputs": [
    {
     "data": {
      "text/plain": [
       "{'test': 0.0006059962611226178,\n",
       " 'train': 5.348937530282932e-05,\n",
       " 'val': 0.00022417470061638546}"
      ]
     },
     "execution_count": 51,
     "metadata": {
      "tags": []
     },
     "output_type": "execute_result"
    }
   ],
   "source": [
    "mse"
   ]
  },
  {
   "cell_type": "code",
   "execution_count": null,
   "metadata": {
    "colab": {
     "base_uri": "https://localhost:8080/"
    },
    "id": "AOv2n_6dv0sG",
    "outputId": "107be740-495a-4457-8f4e-5c365fde5a52"
   },
   "outputs": [
    {
     "data": {
      "text/plain": [
       "{'test': 381.6935511955269,\n",
       " 'train': 25.914568068527245,\n",
       " 'val': 203.22957955009383}"
      ]
     },
     "execution_count": 52,
     "metadata": {
      "tags": []
     },
     "output_type": "execute_result"
    }
   ],
   "source": [
    "scaled_mse"
   ]
  },
  {
   "cell_type": "markdown",
   "metadata": {
    "id": "VNEN_1JhQIPR"
   },
   "source": [
    "## Prediction"
   ]
  },
  {
   "cell_type": "markdown",
   "metadata": {
    "id": "NX8FjfUUS80B"
   },
   "source": [
    "**Definition:**\n",
    "\n",
    "◦ **Rise (0):** CP of Today > CP of Yesterday , Change Rate > 1.5 %\n",
    "\n",
    "◦ **Remain Stable (1):** Change Rate ≤ 1.5 %\n",
    "\n",
    "◦ **Fall (2):** CP of Today < CP of Yesterday , Change Rate > 1.5 %"
   ]
  },
  {
   "cell_type": "code",
   "execution_count": null,
   "metadata": {
    "colab": {
     "base_uri": "https://localhost:8080/"
    },
    "id": "mr6bJLvzLZsC",
    "outputId": "c03049bd-c40e-4e25-e5bc-7f1f9996a3c9"
   },
   "outputs": [
    {
     "data": {
      "text/html": [
       "<div>\n",
       "<style scoped>\n",
       "    .dataframe tbody tr th:only-of-type {\n",
       "        vertical-align: middle;\n",
       "    }\n",
       "\n",
       "    .dataframe tbody tr th {\n",
       "        vertical-align: top;\n",
       "    }\n",
       "\n",
       "    .dataframe thead th {\n",
       "        text-align: right;\n",
       "    }\n",
       "</style>\n",
       "<table border=\"1\" class=\"dataframe\">\n",
       "  <thead>\n",
       "    <tr style=\"text-align: right;\">\n",
       "      <th></th>\n",
       "      <th>Pred</th>\n",
       "      <th>True</th>\n",
       "      <th>His_True</th>\n",
       "      <th>His_Pred</th>\n",
       "      <th>Pred_change_rate</th>\n",
       "      <th>True_change_rate</th>\n",
       "    </tr>\n",
       "  </thead>\n",
       "  <tbody>\n",
       "    <tr>\n",
       "      <th>130</th>\n",
       "      <td>2387.811768</td>\n",
       "      <td>2451.76</td>\n",
       "      <td>2404.61</td>\n",
       "      <td>2390.098633</td>\n",
       "      <td>0.095681</td>\n",
       "      <td>1.960817</td>\n",
       "    </tr>\n",
       "    <tr>\n",
       "      <th>131</th>\n",
       "      <td>2398.353271</td>\n",
       "      <td>2466.09</td>\n",
       "      <td>2451.76</td>\n",
       "      <td>2387.811768</td>\n",
       "      <td>0.441471</td>\n",
       "      <td>0.584478</td>\n",
       "    </tr>\n",
       "    <tr>\n",
       "      <th>132</th>\n",
       "      <td>2407.072510</td>\n",
       "      <td>2482.85</td>\n",
       "      <td>2466.09</td>\n",
       "      <td>2398.353271</td>\n",
       "      <td>0.363551</td>\n",
       "      <td>0.679618</td>\n",
       "    </tr>\n",
       "    <tr>\n",
       "      <th>133</th>\n",
       "      <td>2424.833496</td>\n",
       "      <td>2491.40</td>\n",
       "      <td>2482.85</td>\n",
       "      <td>2407.072510</td>\n",
       "      <td>0.737867</td>\n",
       "      <td>0.344362</td>\n",
       "    </tr>\n",
       "    <tr>\n",
       "      <th>134</th>\n",
       "      <td>2437.500977</td>\n",
       "      <td>2521.60</td>\n",
       "      <td>2491.40</td>\n",
       "      <td>2424.833496</td>\n",
       "      <td>0.522406</td>\n",
       "      <td>1.212170</td>\n",
       "    </tr>\n",
       "  </tbody>\n",
       "</table>\n",
       "</div>"
      ],
      "text/plain": [
       "            Pred     True  ...  Pred_change_rate  True_change_rate\n",
       "130  2387.811768  2451.76  ...          0.095681          1.960817\n",
       "131  2398.353271  2466.09  ...          0.441471          0.584478\n",
       "132  2407.072510  2482.85  ...          0.363551          0.679618\n",
       "133  2424.833496  2491.40  ...          0.737867          0.344362\n",
       "134  2437.500977  2521.60  ...          0.522406          1.212170\n",
       "\n",
       "[5 rows x 6 columns]"
      ]
     },
     "execution_count": 53,
     "metadata": {
      "tags": []
     },
     "output_type": "execute_result"
    }
   ],
   "source": [
    "pred_df = pd.DataFrame(pred_result['Pred'], columns=['Pred'])\n",
    "pred_df['True'] = pred_result['True']\n",
    "pred_df = pred_df.tail(5)\n",
    "pred_df['His_True'] = pred_result['True'][-6:][:5]\n",
    "pred_df['His_Pred'] = pred_result['Pred'][-6:][:5]\n",
    "pred_df['Pred_change_rate'] = (pred_df['Pred'] - pred_df['His_Pred']).abs()/pred_df['His_Pred']*100\n",
    "pred_df['True_change_rate'] = (pred_df['True'] - pred_df['His_True']).abs()/pred_df['His_True']*100\n",
    "pred_df"
   ]
  },
  {
   "cell_type": "code",
   "execution_count": null,
   "metadata": {
    "id": "JraT0n_HRuKs"
   },
   "outputs": [],
   "source": [
    "def change_type_pred(row):\n",
    "    if row['Pred'] > row['His_Pred'] and row['Pred_change_rate'] > 1.5:\n",
    "        return 0\n",
    "    elif row['Pred'] < row['His_Pred'] and row['Pred_change_rate'] > 1.5:\n",
    "        return 2\n",
    "    else:\n",
    "        return 1\n",
    "\n",
    "def change_type_true(row):\n",
    "    if row['True'] > row['His_True'] and row['True_change_rate'] > 1.5:\n",
    "        return 0\n",
    "    elif row['True'] < row['His_True'] and row['True_change_rate'] > 1.5:\n",
    "        return 2\n",
    "    else:\n",
    "        return 1\n",
    "\n",
    "pred_df['Pred_change_type'] = pred_df.apply(lambda row : change_type_pred(row), axis=1)\n",
    "pred_df['True_change_type'] = pred_df.apply(lambda row : change_type_true(row), axis=1)"
   ]
  },
  {
   "cell_type": "code",
   "execution_count": null,
   "metadata": {
    "colab": {
     "base_uri": "https://localhost:8080/",
     "height": 206
    },
    "id": "D4hvJeXSSu19",
    "outputId": "026cc096-b0a2-4e2c-c489-c63fecab2528"
   },
   "outputs": [
    {
     "data": {
      "text/html": [
       "<div>\n",
       "<style scoped>\n",
       "    .dataframe tbody tr th:only-of-type {\n",
       "        vertical-align: middle;\n",
       "    }\n",
       "\n",
       "    .dataframe tbody tr th {\n",
       "        vertical-align: top;\n",
       "    }\n",
       "\n",
       "    .dataframe thead th {\n",
       "        text-align: right;\n",
       "    }\n",
       "</style>\n",
       "<table border=\"1\" class=\"dataframe\">\n",
       "  <thead>\n",
       "    <tr style=\"text-align: right;\">\n",
       "      <th></th>\n",
       "      <th>Pred</th>\n",
       "      <th>True</th>\n",
       "      <th>His_True</th>\n",
       "      <th>His_Pred</th>\n",
       "      <th>Pred_change_rate</th>\n",
       "      <th>True_change_rate</th>\n",
       "      <th>Pred_change_type</th>\n",
       "      <th>True_change_type</th>\n",
       "    </tr>\n",
       "  </thead>\n",
       "  <tbody>\n",
       "    <tr>\n",
       "      <th>130</th>\n",
       "      <td>2387.811768</td>\n",
       "      <td>2451.76</td>\n",
       "      <td>2404.61</td>\n",
       "      <td>2390.098633</td>\n",
       "      <td>0.095681</td>\n",
       "      <td>1.960817</td>\n",
       "      <td>1</td>\n",
       "      <td>0</td>\n",
       "    </tr>\n",
       "    <tr>\n",
       "      <th>131</th>\n",
       "      <td>2398.353271</td>\n",
       "      <td>2466.09</td>\n",
       "      <td>2451.76</td>\n",
       "      <td>2387.811768</td>\n",
       "      <td>0.441471</td>\n",
       "      <td>0.584478</td>\n",
       "      <td>1</td>\n",
       "      <td>1</td>\n",
       "    </tr>\n",
       "    <tr>\n",
       "      <th>132</th>\n",
       "      <td>2407.072510</td>\n",
       "      <td>2482.85</td>\n",
       "      <td>2466.09</td>\n",
       "      <td>2398.353271</td>\n",
       "      <td>0.363551</td>\n",
       "      <td>0.679618</td>\n",
       "      <td>1</td>\n",
       "      <td>1</td>\n",
       "    </tr>\n",
       "    <tr>\n",
       "      <th>133</th>\n",
       "      <td>2424.833496</td>\n",
       "      <td>2491.40</td>\n",
       "      <td>2482.85</td>\n",
       "      <td>2407.072510</td>\n",
       "      <td>0.737867</td>\n",
       "      <td>0.344362</td>\n",
       "      <td>1</td>\n",
       "      <td>1</td>\n",
       "    </tr>\n",
       "    <tr>\n",
       "      <th>134</th>\n",
       "      <td>2437.500977</td>\n",
       "      <td>2521.60</td>\n",
       "      <td>2491.40</td>\n",
       "      <td>2424.833496</td>\n",
       "      <td>0.522406</td>\n",
       "      <td>1.212170</td>\n",
       "      <td>1</td>\n",
       "      <td>1</td>\n",
       "    </tr>\n",
       "  </tbody>\n",
       "</table>\n",
       "</div>"
      ],
      "text/plain": [
       "            Pred     True  ...  Pred_change_type  True_change_type\n",
       "130  2387.811768  2451.76  ...                 1                 0\n",
       "131  2398.353271  2466.09  ...                 1                 1\n",
       "132  2407.072510  2482.85  ...                 1                 1\n",
       "133  2424.833496  2491.40  ...                 1                 1\n",
       "134  2437.500977  2521.60  ...                 1                 1\n",
       "\n",
       "[5 rows x 8 columns]"
      ]
     },
     "execution_count": 55,
     "metadata": {
      "tags": []
     },
     "output_type": "execute_result"
    }
   ],
   "source": [
    "pred_df"
   ]
  },
  {
   "cell_type": "markdown",
   "metadata": {
    "id": "58CJLEpGD3Ll"
   },
   "source": [
    "# 7. Baseline Model"
   ]
  },
  {
   "cell_type": "code",
   "execution_count": null,
   "metadata": {
    "colab": {
     "base_uri": "https://localhost:8080/"
    },
    "id": "oPOrk-tylRNT",
    "outputId": "afe75646-82bb-4bbe-87d6-fd92ad05a156"
   },
   "outputs": [
    {
     "name": "stdout",
     "output_type": "stream",
     "text": [
      "Model: \"sequential\"\n",
      "_________________________________________________________________\n",
      "Layer (type)                 Output Shape              Param #   \n",
      "=================================================================\n",
      "bidirectional_2 (Bidirection (None, 60, 120)           22680     \n",
      "_________________________________________________________________\n",
      "dropout_5 (Dropout)          (None, 60, 120)           0         \n",
      "_________________________________________________________________\n",
      "gru_6 (GRU)                  (None, 60)                32760     \n",
      "_________________________________________________________________\n",
      "dropout_6 (Dropout)          (None, 60)                0         \n",
      "_________________________________________________________________\n",
      "dense_2 (Dense)              (None, 25)                1525      \n",
      "_________________________________________________________________\n",
      "dense_3 (Dense)              (None, 1)                 26        \n",
      "=================================================================\n",
      "Total params: 56,991\n",
      "Trainable params: 56,991\n",
      "Non-trainable params: 0\n",
      "_________________________________________________________________\n",
      "CPU times: user 762 ms, sys: 11.8 ms, total: 774 ms\n",
      "Wall time: 776 ms\n"
     ]
    }
   ],
   "source": [
    "%%time\n",
    "# The LSTM architecture\n",
    "regressorBiLSTM = Sequential()\n",
    "# 1st layer with Dropout regularisation\n",
    "regressorBiLSTM.add(Bidirectional(GRU(units=60, return_sequences=True), input_shape=(X_train.shape[1],1)))\n",
    "regressorBiLSTM.add(Dropout(0.2))\n",
    "\n",
    "# 2nd LSTM layer\n",
    "regressorBiLSTM.add(GRU(units=60))\n",
    "regressorBiLSTM.add(Dropout(0.2))\n",
    "\n",
    "# Output layer\n",
    "regressorBiLSTM.add(Dense(25))\n",
    "regressorBiLSTM.add(Dense(units=1))\n",
    "\n",
    "# Compiling LSTM \n",
    "regressorBiLSTM.compile(optimizer='adam', loss='mean_squared_error')\n",
    "regressorBiLSTM.summary()"
   ]
  },
  {
   "cell_type": "code",
   "execution_count": null,
   "metadata": {
    "colab": {
     "base_uri": "https://localhost:8080/"
    },
    "id": "p1NctIOolenN",
    "outputId": "888a9422-5b80-4fc6-856b-c3a4d78ec603"
   },
   "outputs": [
    {
     "name": "stderr",
     "output_type": "stream",
     "text": [
      "/usr/local/lib/python3.7/dist-packages/tensorflow/python/data/ops/dataset_ops.py:3704: UserWarning: Even though the `tf.config.experimental_run_functions_eagerly` option is set, this option does not apply to tf.data functions. To force eager execution of tf.data functions, please use `tf.data.experimental.enable.debug_mode()`.\n",
      "  \"Even though the `tf.config.experimental_run_functions_eagerly` \"\n"
     ]
    },
    {
     "name": "stdout",
     "output_type": "stream",
     "text": [
      "Epoch 1/100\n",
      "30/30 [==============================] - 1s 38ms/step - loss: 0.0123 - val_loss: 0.0030\n",
      "Epoch 2/100\n",
      "30/30 [==============================] - 1s 40ms/step - loss: 9.2008e-04 - val_loss: 4.8969e-04\n",
      "Epoch 3/100\n",
      "30/30 [==============================] - 1s 36ms/step - loss: 6.1395e-04 - val_loss: 3.5793e-04\n",
      "Epoch 4/100\n",
      "30/30 [==============================] - 1s 36ms/step - loss: 5.5362e-04 - val_loss: 4.2835e-04\n",
      "Epoch 5/100\n",
      "30/30 [==============================] - 1s 37ms/step - loss: 4.5800e-04 - val_loss: 1.8591e-04\n",
      "Epoch 6/100\n",
      "30/30 [==============================] - 1s 37ms/step - loss: 5.1586e-04 - val_loss: 2.3451e-04\n",
      "Epoch 7/100\n",
      "30/30 [==============================] - 1s 38ms/step - loss: 6.2299e-04 - val_loss: 2.7220e-04\n",
      "Epoch 8/100\n",
      "30/30 [==============================] - 1s 37ms/step - loss: 3.6549e-04 - val_loss: 1.6062e-04\n",
      "Epoch 9/100\n",
      "30/30 [==============================] - 1s 37ms/step - loss: 3.3419e-04 - val_loss: 1.6073e-04\n",
      "Epoch 10/100\n",
      "30/30 [==============================] - 1s 37ms/step - loss: 3.7330e-04 - val_loss: 1.7392e-04\n",
      "Epoch 11/100\n",
      "30/30 [==============================] - 1s 37ms/step - loss: 3.1733e-04 - val_loss: 1.6046e-04\n",
      "Epoch 12/100\n",
      "30/30 [==============================] - 1s 37ms/step - loss: 2.6785e-04 - val_loss: 1.6877e-04\n",
      "Epoch 13/100\n",
      "30/30 [==============================] - 1s 37ms/step - loss: 2.6058e-04 - val_loss: 1.6524e-04\n",
      "Epoch 14/100\n",
      "30/30 [==============================] - 1s 37ms/step - loss: 2.3561e-04 - val_loss: 1.5909e-04\n",
      "Epoch 15/100\n",
      "30/30 [==============================] - 1s 38ms/step - loss: 2.3763e-04 - val_loss: 0.0018\n",
      "Epoch 16/100\n",
      "30/30 [==============================] - 1s 36ms/step - loss: 4.5241e-04 - val_loss: 9.4972e-04\n",
      "Epoch 17/100\n",
      "30/30 [==============================] - 1s 37ms/step - loss: 2.9493e-04 - val_loss: 7.1854e-04\n",
      "Epoch 18/100\n",
      "30/30 [==============================] - 1s 37ms/step - loss: 2.2830e-04 - val_loss: 2.7897e-04\n",
      "Epoch 19/100\n",
      "30/30 [==============================] - 1s 37ms/step - loss: 2.0138e-04 - val_loss: 3.8792e-04\n"
     ]
    },
    {
     "data": {
      "text/plain": [
       "<keras.callbacks.History at 0x7f8cd0598c50>"
      ]
     },
     "execution_count": 57,
     "metadata": {
      "tags": []
     },
     "output_type": "execute_result"
    }
   ],
   "source": [
    "logger_filename = '/content/drive/MyDrive/stock_prediction/GOOG/training_log_bilstm_model.csv'\n",
    "\n",
    "my_callback = [\n",
    "               EarlyStopping(patience=5,monitor='val_loss'),\n",
    "               CSVLogger(filename=logger_filename)\n",
    "\n",
    "]\n",
    "\n",
    "# training setting\n",
    "epochs = 100\n",
    "batch_size = 64\n",
    "\n",
    "# Fitting to the training set\n",
    "regressorBiLSTM.fit(trainset['X'], trainset['y'], epochs=epochs, batch_size=batch_size, callbacks=my_callback\n",
    "                              , validation_data=(valset['X'], valset['y']))"
   ]
  },
  {
   "cell_type": "code",
   "execution_count": null,
   "metadata": {
    "id": "sVdgcyXTOhQq"
   },
   "outputs": [],
   "source": [
    "regressorBiLSTM.save('/content/drive/MyDrive/stock_prediction/GOOG/stock_pred_bilstm_model.h5')"
   ]
  },
  {
   "cell_type": "markdown",
   "metadata": {
    "id": "GEYlrtR_lrpC"
   },
   "source": [
    "## Evaluation"
   ]
  },
  {
   "cell_type": "code",
   "execution_count": null,
   "metadata": {
    "colab": {
     "base_uri": "https://localhost:8080/"
    },
    "id": "Ml4viY44lrpD",
    "outputId": "3cd965d4-9eb4-448d-a04d-831a1c543105"
   },
   "outputs": [
    {
     "name": "stderr",
     "output_type": "stream",
     "text": [
      "/usr/local/lib/python3.7/dist-packages/tensorflow/python/data/ops/dataset_ops.py:3704: UserWarning: Even though the `tf.config.experimental_run_functions_eagerly` option is set, this option does not apply to tf.data functions. To force eager execution of tf.data functions, please use `tf.data.experimental.enable.debug_mode()`.\n",
      "  \"Even though the `tf.config.experimental_run_functions_eagerly` \"\n",
      "/usr/local/lib/python3.7/dist-packages/tensorflow/python/data/ops/dataset_ops.py:3704: UserWarning: Even though the `tf.config.experimental_run_functions_eagerly` option is set, this option does not apply to tf.data functions. To force eager execution of tf.data functions, please use `tf.data.experimental.enable.debug_mode()`.\n",
      "  \"Even though the `tf.config.experimental_run_functions_eagerly` \"\n",
      "/usr/local/lib/python3.7/dist-packages/tensorflow/python/data/ops/dataset_ops.py:3704: UserWarning: Even though the `tf.config.experimental_run_functions_eagerly` option is set, this option does not apply to tf.data functions. To force eager execution of tf.data functions, please use `tf.data.experimental.enable.debug_mode()`.\n",
      "  \"Even though the `tf.config.experimental_run_functions_eagerly` \"\n"
     ]
    },
    {
     "data": {
      "text/plain": [
       "<matplotlib.legend.Legend at 0x7f8cd019de10>"
      ]
     },
     "execution_count": 59,
     "metadata": {
      "tags": []
     },
     "output_type": "execute_result"
    },
    {
     "data": {
      "image/png": "[encoded data removed]",
      "text/plain": [
       "<Figure size 864x144 with 1 Axes>"
      ]
     },
     "metadata": {
      "needs_background": "light",
      "tags": []
     },
     "output_type": "display_data"
    }
   ],
   "source": [
    "def calculate_mse(scaler, y_input, x_input):\n",
    "    y_pred = regressorBiLSTM.predict(x_input)\n",
    "    MSE = mean_squared_error(y_input, y_pred)\n",
    "\n",
    "    y_true = scaler.inverse_transform(y_input.reshape(-1,1))\n",
    "    y_pred = scaler.inverse_transform(y_pred)\n",
    "\n",
    "    real_mse = np.mean(np.square(y_true - y_pred))\n",
    "    scaled_mse = real_mse/(np.max(y_true) - np.min(y_true)) * 100\n",
    "\n",
    "    return MSE, scaled_mse, y_true, y_pred\n",
    "\n",
    "train_MSE, train_scaled_mse, train_y, train_y_pred = calculate_mse(scaler, trainset[\"y\"], trainset[\"X\"])\n",
    "val_MSE, val_scaled_mse, val_y, val_y_pred = calculate_mse(scaler, valset[\"y\"], valset[\"X\"])\n",
    "test_MSE, test_scaled_mse, test_y, test_y_pred = calculate_mse(scaler, testset[\"y\"], testset[\"X\"])\n",
    "\n",
    "y_true = np.vstack((test_y))\n",
    "y_pred = np.vstack((test_y_pred))\n",
    "\n",
    "\n",
    "mse = {}\n",
    "mse[\"train\"] = train_MSE\n",
    "mse[\"val\"] = val_MSE\n",
    "mse[\"test\"] = test_MSE\n",
    "\n",
    "scaled_mse = {}\n",
    "scaled_mse[\"train\"] = train_scaled_mse\n",
    "scaled_mse[\"val\"] = val_scaled_mse\n",
    "scaled_mse[\"test\"] = test_scaled_mse\n",
    "\n",
    "plt.figure(figsize=(12,2))\n",
    "plt.plot(y_true)\n",
    "plt.plot(y_pred)\n",
    "plt.legend(['y_true','y_pred'])"
   ]
  },
  {
   "cell_type": "code",
   "execution_count": null,
   "metadata": {
    "colab": {
     "base_uri": "https://localhost:8080/"
    },
    "id": "T_itD5jCvf9O",
    "outputId": "8ea60338-4b02-42c0-910e-fcce386ad28d"
   },
   "outputs": [
    {
     "data": {
      "text/plain": [
       "{'test': 0.001076285050257409,\n",
       " 'train': 6.46982600012575e-05,\n",
       " 'val': 0.00038791640171681734}"
      ]
     },
     "execution_count": 60,
     "metadata": {
      "tags": []
     },
     "output_type": "execute_result"
    }
   ],
   "source": [
    "mse"
   ]
  },
  {
   "cell_type": "code",
   "execution_count": null,
   "metadata": {
    "colab": {
     "base_uri": "https://localhost:8080/"
    },
    "id": "Ss9b4cyNxovX",
    "outputId": "1479fe6f-8a4f-465d-a973-477aeae1a0f2"
   },
   "outputs": [
    {
     "data": {
      "text/plain": [
       "{'test': 677.909760733413,\n",
       " 'train': 31.34506529170717,\n",
       " 'val': 351.67248333552243}"
      ]
     },
     "execution_count": 61,
     "metadata": {
      "tags": []
     },
     "output_type": "execute_result"
    }
   ],
   "source": [
    "scaled_mse"
   ]
  },
  {
   "cell_type": "markdown",
   "metadata": {
    "id": "RHqzqa3pGzL7"
   },
   "source": [
    "# 8. Full-connected Network with TF-IDF\n",
    "## Headlines Input Preparation"
   ]
  },
  {
   "cell_type": "code",
   "execution_count": null,
   "metadata": {
    "colab": {
     "base_uri": "https://localhost:8080/",
     "height": 410
    },
    "id": "Jx7n9fChxovU",
    "outputId": "054621d3-61e0-4abe-e4a1-3f66605e7ca1"
   },
   "outputs": [
    {
     "data": {
      "text/html": [
       "<div>\n",
       "<style scoped>\n",
       "    .dataframe tbody tr th:only-of-type {\n",
       "        vertical-align: middle;\n",
       "    }\n",
       "\n",
       "    .dataframe tbody tr th {\n",
       "        vertical-align: top;\n",
       "    }\n",
       "\n",
       "    .dataframe thead th {\n",
       "        text-align: right;\n",
       "    }\n",
       "</style>\n",
       "<table border=\"1\" class=\"dataframe\">\n",
       "  <thead>\n",
       "    <tr style=\"text-align: right;\">\n",
       "      <th></th>\n",
       "      <th>index</th>\n",
       "      <th>Close</th>\n",
       "      <th>Title</th>\n",
       "      <th>text_decont</th>\n",
       "      <th>text_no_punc</th>\n",
       "      <th>tk</th>\n",
       "      <th>tfidf</th>\n",
       "      <th>tfidf_new</th>\n",
       "    </tr>\n",
       "    <tr>\n",
       "      <th>Date</th>\n",
       "      <th></th>\n",
       "      <th></th>\n",
       "      <th></th>\n",
       "      <th></th>\n",
       "      <th></th>\n",
       "      <th></th>\n",
       "      <th></th>\n",
       "      <th></th>\n",
       "    </tr>\n",
       "  </thead>\n",
       "  <tbody>\n",
       "    <tr>\n",
       "      <th>2012-05-18</th>\n",
       "      <td>0</td>\n",
       "      <td>300.20</td>\n",
       "      <td></td>\n",
       "      <td></td>\n",
       "      <td></td>\n",
       "      <td></td>\n",
       "      <td></td>\n",
       "      <td>[0.0, 0.0, 0.0, 0.0, 0.0, 0.0, 0.0, 0.0, 0.0, ...</td>\n",
       "    </tr>\n",
       "    <tr>\n",
       "      <th>2012-05-21</th>\n",
       "      <td>1</td>\n",
       "      <td>307.05</td>\n",
       "      <td>Google+: still not as interesting as Pinterest...</td>\n",
       "      <td>google+: still not as interesting as pinterest...</td>\n",
       "      <td>google   still not as interesting as pinterest...</td>\n",
       "      <td>[google, still, not, as, interesting, as, pint...</td>\n",
       "      <td>[0.0, 0.0, 0.0, 0.0, 0.0, 0.0, 0.0, 0.0, 0.0, ...</td>\n",
       "      <td>[0.0, 0.0, 0.0, 0.0, 0.0, 0.0, 0.0, 0.0, 0.0, ...</td>\n",
       "    </tr>\n",
       "    <tr>\n",
       "      <th>2012-05-22</th>\n",
       "      <td>2</td>\n",
       "      <td>300.39</td>\n",
       "      <td>Google given last chance to outline how it wil...</td>\n",
       "      <td>google given last chance to outline how it wil...</td>\n",
       "      <td>google given last chance to outline how it wil...</td>\n",
       "      <td>[google, given, last, chance, to, outline, how...</td>\n",
       "      <td>[0.0, 0.0, 0.0, 0.0, 0.0, 0.0, 0.0, 0.0, 0.0, ...</td>\n",
       "      <td>[0.0, 0.0, 0.0, 0.0, 0.0, 0.0, 0.0, 0.0, 0.0, ...</td>\n",
       "    </tr>\n",
       "    <tr>\n",
       "      <th>2012-05-23</th>\n",
       "      <td>3</td>\n",
       "      <td>304.73</td>\n",
       "      <td>Google appoints Dennis Woodside to run Motorol...</td>\n",
       "      <td>google appoints dennis woodside to run motorol...</td>\n",
       "      <td>google appoints dennis woodside to run motorol...</td>\n",
       "      <td>[google, appoints, dennis, woodside, to, run, ...</td>\n",
       "      <td>[0.0, 0.0, 0.0, 0.0, 0.0, 0.0, 0.0, 0.0, 0.0, ...</td>\n",
       "      <td>[0.0, 0.0, 0.0, 0.0, 0.0, 0.0, 0.0, 0.0, 0.0, ...</td>\n",
       "    </tr>\n",
       "    <tr>\n",
       "      <th>2012-05-24</th>\n",
       "      <td>4</td>\n",
       "      <td>301.82</td>\n",
       "      <td>Robert Moog's 78th birthday celebrated in Goog...</td>\n",
       "      <td>robert moog is 78th birthday celebrated in goo...</td>\n",
       "      <td>robert moog is 78th birthday celebrated in goo...</td>\n",
       "      <td>[robert, moog, is, 78th, birthday, celebrated,...</td>\n",
       "      <td>[0.0, 0.0, 0.0, 0.0, 0.0, 0.0, 0.0, 0.0, 0.0, ...</td>\n",
       "      <td>[0.0, 0.0, 0.0, 0.0, 0.0, 0.0, 0.0, 0.0, 0.0, ...</td>\n",
       "    </tr>\n",
       "  </tbody>\n",
       "</table>\n",
       "</div>"
      ],
      "text/plain": [
       "            index  ...                                          tfidf_new\n",
       "Date               ...                                                   \n",
       "2012-05-18      0  ...  [0.0, 0.0, 0.0, 0.0, 0.0, 0.0, 0.0, 0.0, 0.0, ...\n",
       "2012-05-21      1  ...  [0.0, 0.0, 0.0, 0.0, 0.0, 0.0, 0.0, 0.0, 0.0, ...\n",
       "2012-05-22      2  ...  [0.0, 0.0, 0.0, 0.0, 0.0, 0.0, 0.0, 0.0, 0.0, ...\n",
       "2012-05-23      3  ...  [0.0, 0.0, 0.0, 0.0, 0.0, 0.0, 0.0, 0.0, 0.0, ...\n",
       "2012-05-24      4  ...  [0.0, 0.0, 0.0, 0.0, 0.0, 0.0, 0.0, 0.0, 0.0, ...\n",
       "\n",
       "[5 rows x 8 columns]"
      ]
     },
     "execution_count": 62,
     "metadata": {
      "tags": []
     },
     "output_type": "execute_result"
    }
   ],
   "source": [
    "train_data.head()"
   ]
  },
  {
   "cell_type": "code",
   "execution_count": null,
   "metadata": {
    "id": "KEuKQ3zdxovV"
   },
   "outputs": [],
   "source": [
    "train_news = np.matrix(train_data.tfidf_new[n_lags:].tolist())\n",
    "#train_news = train_news.reshape(train_news.shape[0],1)\n",
    "\n",
    "val_news = np.matrix(val_data.tfidf_new[n_lags:].tolist())\n",
    "#val_news = val_news.reshape(val_news.shape[0],1)\n",
    "\n",
    "test_news = np.matrix(test_data.tfidf_new[n_lags:].tolist())\n",
    "#test_news = test_news.reshape(test_news.shape[0],1)"
   ]
  },
  {
   "cell_type": "code",
   "execution_count": null,
   "metadata": {
    "colab": {
     "base_uri": "https://localhost:8080/"
    },
    "id": "N5EdGGTHxovV",
    "outputId": "38012925-896d-4fd7-dc1e-2ff7b2ccad76"
   },
   "outputs": [
    {
     "name": "stdout",
     "output_type": "stream",
     "text": [
      "News to train: (1857, 3665)\n",
      "\n",
      "News to test: (135, 3665)\n",
      "\n",
      "News to val: (108, 3665)\n"
     ]
    }
   ],
   "source": [
    "print('News to train:',train_news.shape)\n",
    "print('\\nNews to test:',test_news.shape)\n",
    "print('\\nNews to val:',val_news.shape)"
   ]
  },
  {
   "cell_type": "markdown",
   "metadata": {
    "id": "-nI6xnTVGwcf"
   },
   "source": [
    "## Model"
   ]
  },
  {
   "cell_type": "code",
   "execution_count": null,
   "metadata": {
    "colab": {
     "base_uri": "https://localhost:8080/"
    },
    "id": "ooxaSGCBGwcf",
    "outputId": "6cc4164d-1a5d-42b2-8f0a-0662499b9ab3"
   },
   "outputs": [
    {
     "name": "stdout",
     "output_type": "stream",
     "text": [
      "CPU times: user 577 ms, sys: 17 ms, total: 594 ms\n",
      "Wall time: 594 ms\n"
     ]
    }
   ],
   "source": [
    "%%time\n",
    "# LSTM architecture\n",
    "# FIRST BRANCH operates on the first input\n",
    "# 1st layer with Dropout regularisation\n",
    "lstm_input = Input(shape=(X_train.shape[1],1))\n",
    "x = Bidirectional(GRU(units=60, return_sequences=True))(lstm_input)\n",
    "x = Dropout(0.2)(x)\n",
    "\n",
    "# 2nd LSTM layer\n",
    "x = GRU(units=60)(x)\n",
    "x = Dropout(0.2)(x)\n",
    "\n",
    "lstm_branch = Model(inputs=lstm_input, outputs=x)\n",
    "\n",
    "# SECOND BRANCH operates on the first input\n",
    "dense_input = Input(shape=(len(tfvec.get_feature_names()),))\n",
    "y = Dense(50)(dense_input)\n",
    "y = Dropout(0.2)(y)\n",
    "technical_indicators_branch = Model(inputs=dense_input, outputs=y)\n",
    "\n",
    "# combine the output of the two branches\n",
    "combined = concatenate([lstm_branch.output, technical_indicators_branch.output], name='concatenate')\n",
    "# Output layer\n",
    "z = Dense(25)(combined)\n",
    "z = Dense(units=1)(z)\n",
    "multi_model = Model(inputs=[lstm_branch.input, technical_indicators_branch.input], outputs=z)\n",
    "\n",
    "# Compiling\n",
    "multi_model.compile(optimizer='adam', loss='mean_squared_error')"
   ]
  },
  {
   "cell_type": "code",
   "execution_count": null,
   "metadata": {
    "colab": {
     "base_uri": "https://localhost:8080/"
    },
    "id": "8wfNuQGbGwcg",
    "outputId": "0187b225-f3e1-4cc6-e9f6-e8744f6b156f"
   },
   "outputs": [
    {
     "data": {
      "image/png": "[encoded data removed]",
      "text/plain": [
       "<IPython.core.display.Image object>"
      ]
     },
     "execution_count": 66,
     "metadata": {
      "tags": []
     },
     "output_type": "execute_result"
    }
   ],
   "source": [
    "from tensorflow.keras.utils import plot_model\n",
    "plot_model(multi_model, show_shapes=True)"
   ]
  },
  {
   "cell_type": "code",
   "execution_count": null,
   "metadata": {
    "colab": {
     "base_uri": "https://localhost:8080/"
    },
    "id": "ijR7N11_Gwcj",
    "outputId": "799006fc-51d0-4ab9-9422-a97600cca152"
   },
   "outputs": [
    {
     "name": "stderr",
     "output_type": "stream",
     "text": [
      "/usr/local/lib/python3.7/dist-packages/tensorflow/python/data/ops/dataset_ops.py:3704: UserWarning: Even though the `tf.config.experimental_run_functions_eagerly` option is set, this option does not apply to tf.data functions. To force eager execution of tf.data functions, please use `tf.data.experimental.enable.debug_mode()`.\n",
      "  \"Even though the `tf.config.experimental_run_functions_eagerly` \"\n"
     ]
    },
    {
     "name": "stdout",
     "output_type": "stream",
     "text": [
      "Epoch 1/100\n",
      "30/30 [==============================] - 1s 41ms/step - loss: 0.0190 - val_loss: 7.6805e-04\n",
      "Epoch 2/100\n",
      "30/30 [==============================] - 1s 39ms/step - loss: 0.0012 - val_loss: 2.0203e-04\n",
      "Epoch 3/100\n",
      "30/30 [==============================] - 1s 40ms/step - loss: 7.1022e-04 - val_loss: 1.6837e-04\n",
      "Epoch 4/100\n",
      "30/30 [==============================] - 1s 40ms/step - loss: 4.7886e-04 - val_loss: 1.6728e-04\n",
      "Epoch 5/100\n",
      "30/30 [==============================] - 1s 40ms/step - loss: 4.5356e-04 - val_loss: 5.1617e-04\n",
      "Epoch 6/100\n",
      "30/30 [==============================] - 1s 40ms/step - loss: 3.9138e-04 - val_loss: 3.0784e-04\n",
      "Epoch 7/100\n",
      "30/30 [==============================] - 1s 40ms/step - loss: 3.7650e-04 - val_loss: 2.1089e-04\n",
      "Epoch 8/100\n",
      "30/30 [==============================] - 1s 39ms/step - loss: 3.5027e-04 - val_loss: 1.8272e-04\n",
      "Epoch 9/100\n",
      "30/30 [==============================] - 1s 39ms/step - loss: 3.2028e-04 - val_loss: 6.1034e-04\n"
     ]
    },
    {
     "data": {
      "text/plain": [
       "<keras.callbacks.History at 0x7f8ca431f5d0>"
      ]
     },
     "execution_count": 67,
     "metadata": {
      "tags": []
     },
     "output_type": "execute_result"
    }
   ],
   "source": [
    "from keras.callbacks import CSVLogger\n",
    "logger_filename = '/content/drive/MyDrive/stock_prediction/GOOG/training_log_fc_model.csv'\n",
    "\n",
    "my_callback = [\n",
    "               EarlyStopping(patience=5,monitor='val_loss'),\n",
    "               CSVLogger(filename=logger_filename)\n",
    "\n",
    "]\n",
    "\n",
    "# training setting\n",
    "epochs = 100\n",
    "batch_size = 64\n",
    "\n",
    "# Fitting to the training set\n",
    "multi_model.fit([trainset['X'], train_news], trainset['y'], epochs=epochs, batch_size=batch_size, callbacks=my_callback\n",
    "                              , validation_data=([valset['X'], val_news], valset['y']))"
   ]
  },
  {
   "cell_type": "code",
   "execution_count": null,
   "metadata": {
    "id": "YEiTP6u-Gwcj"
   },
   "outputs": [],
   "source": [
    "multi_model.save('/content/drive/MyDrive/stock_prediction/GOOG/stock_pred_fc_model.h5')"
   ]
  },
  {
   "cell_type": "markdown",
   "metadata": {
    "id": "P2LpA60MGwck"
   },
   "source": [
    "## Evaluation"
   ]
  },
  {
   "cell_type": "code",
   "execution_count": null,
   "metadata": {
    "colab": {
     "base_uri": "https://localhost:8080/"
    },
    "id": "QpUsQZYBGwck",
    "outputId": "3115a941-257f-473d-dde6-0050972364a2"
   },
   "outputs": [
    {
     "name": "stderr",
     "output_type": "stream",
     "text": [
      "/usr/local/lib/python3.7/dist-packages/tensorflow/python/data/ops/dataset_ops.py:3704: UserWarning: Even though the `tf.config.experimental_run_functions_eagerly` option is set, this option does not apply to tf.data functions. To force eager execution of tf.data functions, please use `tf.data.experimental.enable.debug_mode()`.\n",
      "  \"Even though the `tf.config.experimental_run_functions_eagerly` \"\n",
      "/usr/local/lib/python3.7/dist-packages/tensorflow/python/data/ops/dataset_ops.py:3704: UserWarning: Even though the `tf.config.experimental_run_functions_eagerly` option is set, this option does not apply to tf.data functions. To force eager execution of tf.data functions, please use `tf.data.experimental.enable.debug_mode()`.\n",
      "  \"Even though the `tf.config.experimental_run_functions_eagerly` \"\n",
      "/usr/local/lib/python3.7/dist-packages/tensorflow/python/data/ops/dataset_ops.py:3704: UserWarning: Even though the `tf.config.experimental_run_functions_eagerly` option is set, this option does not apply to tf.data functions. To force eager execution of tf.data functions, please use `tf.data.experimental.enable.debug_mode()`.\n",
      "  \"Even though the `tf.config.experimental_run_functions_eagerly` \"\n"
     ]
    },
    {
     "data": {
      "text/plain": [
       "<matplotlib.legend.Legend at 0x7f8ca4356d90>"
      ]
     },
     "execution_count": 69,
     "metadata": {
      "tags": []
     },
     "output_type": "execute_result"
    },
    {
     "data": {
      "image/png": "[encoded data removed]",
      "text/plain": [
       "<Figure size 864x144 with 1 Axes>"
      ]
     },
     "metadata": {
      "needs_background": "light",
      "tags": []
     },
     "output_type": "display_data"
    }
   ],
   "source": [
    "def calculate_mse_multi(scaler, y_input, x_input, tfidf):\n",
    "    y_pred = multi_model.predict([x_input, tfidf])\n",
    "    MSE = mean_squared_error(y_input, y_pred)\n",
    "\n",
    "    y_true = scaler.inverse_transform(y_input.reshape(-1,1))\n",
    "    y_pred = scaler.inverse_transform(y_pred)\n",
    "\n",
    "    real_mse = np.mean(np.square(y_true - y_pred))\n",
    "    scaled_mse = real_mse/(np.max(y_true) - np.min(y_true)) * 100\n",
    "\n",
    "    return MSE, scaled_mse, y_true, y_pred\n",
    "\n",
    "train_MSE, train_scaled_mse, train_y, train_y_pred = calculate_mse_multi(scaler, trainset[\"y\"], trainset[\"X\"], train_news)\n",
    "val_MSE, val_scaled_mse, val_y, val_y_pred = calculate_mse_multi(scaler, valset[\"y\"], valset[\"X\"], val_news)\n",
    "test_MSE, test_scaled_mse, test_y, test_y_pred = calculate_mse_multi(scaler, testset[\"y\"], testset[\"X\"], test_news)\n",
    "\n",
    "y_true = np.vstack((test_y))\n",
    "y_pred = np.vstack((test_y_pred))\n",
    "\n",
    "\n",
    "mse = {}\n",
    "mse[\"train\"] = train_MSE\n",
    "mse[\"val\"] = val_MSE\n",
    "mse[\"test\"] = test_MSE\n",
    "\n",
    "scaled_mse = {}\n",
    "scaled_mse[\"train\"] = train_scaled_mse\n",
    "scaled_mse[\"val\"] = val_scaled_mse\n",
    "scaled_mse[\"test\"] = test_scaled_mse\n",
    "\n",
    "pred_result = {}\n",
    "pred_result[\"True\"] = test_y\n",
    "pred_result[\"Pred\"] = test_y_pred\n",
    "\n",
    "plt.figure(figsize=(12,2))\n",
    "plt.plot(y_true)\n",
    "plt.plot(y_pred)\n",
    "plt.legend(['y_true','y_pred'])"
   ]
  },
  {
   "cell_type": "code",
   "execution_count": null,
   "metadata": {
    "colab": {
     "base_uri": "https://localhost:8080/"
    },
    "id": "QSp_qN6hGwcl",
    "outputId": "62e27aa8-aa86-42fe-aa86-42c9668cfe45"
   },
   "outputs": [
    {
     "data": {
      "text/plain": [
       "{'test': 0.0016429610859803783,\n",
       " 'train': 8.946945778159691e-05,\n",
       " 'val': 0.0006103355261211717}"
      ]
     },
     "execution_count": 70,
     "metadata": {
      "tags": []
     },
     "output_type": "execute_result"
    }
   ],
   "source": [
    "mse"
   ]
  },
  {
   "cell_type": "code",
   "execution_count": null,
   "metadata": {
    "colab": {
     "base_uri": "https://localhost:8080/"
    },
    "id": "aFGKvS17Gwcl",
    "outputId": "54cccd24-d337-462b-bee8-88644d5d8941"
   },
   "outputs": [
    {
     "data": {
      "text/plain": [
       "{'test': 1034.8366280282535,\n",
       " 'train': 43.34623809062547,\n",
       " 'val': 553.3107921177262}"
      ]
     },
     "execution_count": 71,
     "metadata": {
      "tags": []
     },
     "output_type": "execute_result"
    }
   ],
   "source": [
    "scaled_mse"
   ]
  },
  {
   "cell_type": "markdown",
   "metadata": {
    "id": "mu52B8jSaecU"
   },
   "source": [
    "## Prediction"
   ]
  },
  {
   "cell_type": "markdown",
   "metadata": {
    "id": "YvQo6TBXaecW"
   },
   "source": [
    "**Definition:**\n",
    "\n",
    "◦ **Rise (0):** CP of Today > CP of Yesterday , Change Rate > 1.5 %\n",
    "\n",
    "◦ **Remain Stable (1):** Change Rate ≤ 1.5 %\n",
    "\n",
    "◦ **Fall (2):** CP of Today < CP of Yesterday , Change Rate > 1.5 %"
   ]
  },
  {
   "cell_type": "code",
   "execution_count": null,
   "metadata": {
    "colab": {
     "base_uri": "https://localhost:8080/"
    },
    "id": "rpd4VoLMaecW",
    "outputId": "1a848ed9-cf3c-4e98-d07f-a13fb796e37a"
   },
   "outputs": [
    {
     "data": {
      "text/html": [
       "<div>\n",
       "<style scoped>\n",
       "    .dataframe tbody tr th:only-of-type {\n",
       "        vertical-align: middle;\n",
       "    }\n",
       "\n",
       "    .dataframe tbody tr th {\n",
       "        vertical-align: top;\n",
       "    }\n",
       "\n",
       "    .dataframe thead th {\n",
       "        text-align: right;\n",
       "    }\n",
       "</style>\n",
       "<table border=\"1\" class=\"dataframe\">\n",
       "  <thead>\n",
       "    <tr style=\"text-align: right;\">\n",
       "      <th></th>\n",
       "      <th>Pred</th>\n",
       "      <th>True</th>\n",
       "      <th>His_True</th>\n",
       "      <th>His_Pred</th>\n",
       "      <th>Pred_change_rate</th>\n",
       "      <th>True_change_rate</th>\n",
       "    </tr>\n",
       "  </thead>\n",
       "  <tbody>\n",
       "    <tr>\n",
       "      <th>130</th>\n",
       "      <td>2334.376221</td>\n",
       "      <td>2451.76</td>\n",
       "      <td>2404.61</td>\n",
       "      <td>2336.857178</td>\n",
       "      <td>0.106166</td>\n",
       "      <td>1.960817</td>\n",
       "    </tr>\n",
       "    <tr>\n",
       "      <th>131</th>\n",
       "      <td>2344.478027</td>\n",
       "      <td>2466.09</td>\n",
       "      <td>2451.76</td>\n",
       "      <td>2334.376221</td>\n",
       "      <td>0.432741</td>\n",
       "      <td>0.584478</td>\n",
       "    </tr>\n",
       "    <tr>\n",
       "      <th>132</th>\n",
       "      <td>2359.190674</td>\n",
       "      <td>2482.85</td>\n",
       "      <td>2466.09</td>\n",
       "      <td>2344.478027</td>\n",
       "      <td>0.627545</td>\n",
       "      <td>0.679618</td>\n",
       "    </tr>\n",
       "    <tr>\n",
       "      <th>133</th>\n",
       "      <td>2370.836426</td>\n",
       "      <td>2491.40</td>\n",
       "      <td>2482.85</td>\n",
       "      <td>2359.190674</td>\n",
       "      <td>0.493633</td>\n",
       "      <td>0.344362</td>\n",
       "    </tr>\n",
       "    <tr>\n",
       "      <th>134</th>\n",
       "      <td>2383.562256</td>\n",
       "      <td>2521.60</td>\n",
       "      <td>2491.40</td>\n",
       "      <td>2370.836426</td>\n",
       "      <td>0.536765</td>\n",
       "      <td>1.212170</td>\n",
       "    </tr>\n",
       "  </tbody>\n",
       "</table>\n",
       "</div>"
      ],
      "text/plain": [
       "            Pred     True  ...  Pred_change_rate  True_change_rate\n",
       "130  2334.376221  2451.76  ...          0.106166          1.960817\n",
       "131  2344.478027  2466.09  ...          0.432741          0.584478\n",
       "132  2359.190674  2482.85  ...          0.627545          0.679618\n",
       "133  2370.836426  2491.40  ...          0.493633          0.344362\n",
       "134  2383.562256  2521.60  ...          0.536765          1.212170\n",
       "\n",
       "[5 rows x 6 columns]"
      ]
     },
     "execution_count": 72,
     "metadata": {
      "tags": []
     },
     "output_type": "execute_result"
    }
   ],
   "source": [
    "pred_df = pd.DataFrame(pred_result['Pred'], columns=['Pred'])\n",
    "pred_df['True'] = pred_result['True']\n",
    "pred_df = pred_df.tail(5)\n",
    "pred_df['His_True'] = pred_result['True'][-6:][:5]\n",
    "pred_df['His_Pred'] = pred_result['Pred'][-6:][:5]\n",
    "pred_df['Pred_change_rate'] = (pred_df['Pred'] - pred_df['His_Pred']).abs()/pred_df['His_Pred']*100\n",
    "pred_df['True_change_rate'] = (pred_df['True'] - pred_df['His_True']).abs()/pred_df['His_True']*100\n",
    "pred_df"
   ]
  },
  {
   "cell_type": "code",
   "execution_count": null,
   "metadata": {
    "id": "Hhqwx6AzaecX"
   },
   "outputs": [],
   "source": [
    "def change_type_pred(row):\n",
    "    if row['Pred'] > row['His_Pred'] and row['Pred_change_rate'] > 1.5:\n",
    "        return 0\n",
    "    elif row['Pred'] < row['His_Pred'] and row['Pred_change_rate'] > 1.5:\n",
    "        return 2\n",
    "    else:\n",
    "        return 1\n",
    "\n",
    "def change_type_true(row):\n",
    "    if row['True'] > row['His_True'] and row['True_change_rate'] > 1.5:\n",
    "        return 0\n",
    "    elif row['True'] < row['His_True'] and row['True_change_rate'] > 1.5:\n",
    "        return 2\n",
    "    else:\n",
    "        return 1\n",
    "\n",
    "pred_df['Pred_change_type'] = pred_df.apply(lambda row : change_type_pred(row), axis=1)\n",
    "pred_df['True_change_type'] = pred_df.apply(lambda row : change_type_true(row), axis=1)"
   ]
  },
  {
   "cell_type": "code",
   "execution_count": null,
   "metadata": {
    "colab": {
     "base_uri": "https://localhost:8080/",
     "height": 206
    },
    "id": "TxGKB63maecY",
    "outputId": "56b74806-d85f-43da-b62f-5e4ba29cee28"
   },
   "outputs": [
    {
     "data": {
      "text/html": [
       "<div>\n",
       "<style scoped>\n",
       "    .dataframe tbody tr th:only-of-type {\n",
       "        vertical-align: middle;\n",
       "    }\n",
       "\n",
       "    .dataframe tbody tr th {\n",
       "        vertical-align: top;\n",
       "    }\n",
       "\n",
       "    .dataframe thead th {\n",
       "        text-align: right;\n",
       "    }\n",
       "</style>\n",
       "<table border=\"1\" class=\"dataframe\">\n",
       "  <thead>\n",
       "    <tr style=\"text-align: right;\">\n",
       "      <th></th>\n",
       "      <th>Pred</th>\n",
       "      <th>True</th>\n",
       "      <th>His_True</th>\n",
       "      <th>His_Pred</th>\n",
       "      <th>Pred_change_rate</th>\n",
       "      <th>True_change_rate</th>\n",
       "      <th>Pred_change_type</th>\n",
       "      <th>True_change_type</th>\n",
       "    </tr>\n",
       "  </thead>\n",
       "  <tbody>\n",
       "    <tr>\n",
       "      <th>130</th>\n",
       "      <td>2334.376221</td>\n",
       "      <td>2451.76</td>\n",
       "      <td>2404.61</td>\n",
       "      <td>2336.857178</td>\n",
       "      <td>0.106166</td>\n",
       "      <td>1.960817</td>\n",
       "      <td>1</td>\n",
       "      <td>0</td>\n",
       "    </tr>\n",
       "    <tr>\n",
       "      <th>131</th>\n",
       "      <td>2344.478027</td>\n",
       "      <td>2466.09</td>\n",
       "      <td>2451.76</td>\n",
       "      <td>2334.376221</td>\n",
       "      <td>0.432741</td>\n",
       "      <td>0.584478</td>\n",
       "      <td>1</td>\n",
       "      <td>1</td>\n",
       "    </tr>\n",
       "    <tr>\n",
       "      <th>132</th>\n",
       "      <td>2359.190674</td>\n",
       "      <td>2482.85</td>\n",
       "      <td>2466.09</td>\n",
       "      <td>2344.478027</td>\n",
       "      <td>0.627545</td>\n",
       "      <td>0.679618</td>\n",
       "      <td>1</td>\n",
       "      <td>1</td>\n",
       "    </tr>\n",
       "    <tr>\n",
       "      <th>133</th>\n",
       "      <td>2370.836426</td>\n",
       "      <td>2491.40</td>\n",
       "      <td>2482.85</td>\n",
       "      <td>2359.190674</td>\n",
       "      <td>0.493633</td>\n",
       "      <td>0.344362</td>\n",
       "      <td>1</td>\n",
       "      <td>1</td>\n",
       "    </tr>\n",
       "    <tr>\n",
       "      <th>134</th>\n",
       "      <td>2383.562256</td>\n",
       "      <td>2521.60</td>\n",
       "      <td>2491.40</td>\n",
       "      <td>2370.836426</td>\n",
       "      <td>0.536765</td>\n",
       "      <td>1.212170</td>\n",
       "      <td>1</td>\n",
       "      <td>1</td>\n",
       "    </tr>\n",
       "  </tbody>\n",
       "</table>\n",
       "</div>"
      ],
      "text/plain": [
       "            Pred     True  ...  Pred_change_type  True_change_type\n",
       "130  2334.376221  2451.76  ...                 1                 0\n",
       "131  2344.478027  2466.09  ...                 1                 1\n",
       "132  2359.190674  2482.85  ...                 1                 1\n",
       "133  2370.836426  2491.40  ...                 1                 1\n",
       "134  2383.562256  2521.60  ...                 1                 1\n",
       "\n",
       "[5 rows x 8 columns]"
      ]
     },
     "execution_count": 74,
     "metadata": {
      "tags": []
     },
     "output_type": "execute_result"
    }
   ],
   "source": [
    "pred_df"
   ]
  }
 ],
 "metadata": {
  "accelerator": "GPU",
  "colab": {
   "collapsed_sections": [],
   "name": "GOOG_predict_stocks.ipynb",
   "provenance": [],
   "toc_visible": true
  },
  "kernelspec": {
   "display_name": "Python 3",
   "language": "python",
   "name": "python3"
  },
  "language_info": {
   "codemirror_mode": {
    "name": "ipython",
    "version": 3
   },
   "file_extension": ".py",
   "mimetype": "text/x-python",
   "name": "python",
   "nbconvert_exporter": "python",
   "pygments_lexer": "ipython3",
   "version": "3.8.3"
  },
  "toc": {
   "base_numbering": 1,
   "nav_menu": {},
   "number_sections": false,
   "sideBar": true,
   "skip_h1_title": false,
   "title_cell": "Table of Contents",
   "title_sidebar": "Contents",
   "toc_cell": false,
   "toc_position": {},
   "toc_section_display": true,
   "toc_window_display": true
  }
 },
 "nbformat": 4,
 "nbformat_minor": 1
}
