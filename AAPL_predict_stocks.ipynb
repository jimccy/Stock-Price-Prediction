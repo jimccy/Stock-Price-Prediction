{
 "cells": [
  {
   "cell_type": "code",
   "execution_count": null,
   "metadata": {
    "colab": {
     "base_uri": "https://localhost:8080/"
    },
    "id": "koG59PBWyg3Y",
    "outputId": "7d38f755-fcde-416b-9b1c-b2f7210d249c"
   },
   "outputs": [
    {
     "name": "stdout",
     "output_type": "stream",
     "text": [
      "Mounted at /content/drive\n"
     ]
    }
   ],
   "source": [
    "from google.colab import drive\n",
    "drive.mount('/content/drive')"
   ]
  },
  {
   "cell_type": "code",
   "execution_count": null,
   "metadata": {
    "colab": {
     "base_uri": "https://localhost:8080/"
    },
    "id": "H4hbgmqI6sUF",
    "outputId": "29602960-48f7-42e4-f7de-9a8d6e2f62f4"
   },
   "outputs": [
    {
     "name": "stdout",
     "output_type": "stream",
     "text": [
      "WARNING:tensorflow:From <ipython-input-2-cef63d6acc25>:2: experimental_run_functions_eagerly (from tensorflow.python.eager.def_function) is deprecated and will be removed in a future version.\n",
      "Instructions for updating:\n",
      "Use `tf.config.run_functions_eagerly` instead of the experimental version.\n"
     ]
    }
   ],
   "source": [
    "import tensorflow as tf\n",
    "tf.config.experimental_run_functions_eagerly(True)"
   ]
  },
  {
   "cell_type": "markdown",
   "metadata": {
    "id": "xdkVugMTxovI"
   },
   "source": [
    "# 1. Data Preparation"
   ]
  },
  {
   "cell_type": "code",
   "execution_count": null,
   "metadata": {
    "colab": {
     "base_uri": "https://localhost:8080/"
    },
    "id": "FaF9s5jxxovI",
    "outputId": "ec644189-371c-4354-bab1-a2cc674a1cb0"
   },
   "outputs": [
    {
     "name": "stdout",
     "output_type": "stream",
     "text": [
      "[nltk_data] Downloading package universal_tagset to /root/nltk_data...\n",
      "[nltk_data]   Unzipping taggers/universal_tagset.zip.\n",
      "[nltk_data] Downloading package punkt to /root/nltk_data...\n",
      "[nltk_data]   Unzipping tokenizers/punkt.zip.\n"
     ]
    }
   ],
   "source": [
    "import pandas as pd\n",
    "import numpy as np\n",
    "import re\n",
    "from tqdm import tqdm\n",
    "from pprint import pprint\n",
    "import regex\n",
    "import spacy\n",
    "import nltk\n",
    "from nltk.corpus import stopwords\n",
    "import matplotlib.pyplot as plt\n",
    "from sklearn.feature_extraction.text import TfidfVectorizer\n",
    "import random\n",
    "from tensorflow import keras\n",
    "from tensorflow.keras import layers\n",
    "from keras.models import Sequential, Model\n",
    "from keras.callbacks import EarlyStopping\n",
    "from keras.layers.convolutional import Conv1D, MaxPooling1D\n",
    "from keras.layers import Activation, Input, Dense, Dropout, BatchNormalization, \\\n",
    "LSTM, GRU, Bidirectional, Flatten, concatenate, Embedding, Reshape, GlobalAveragePooling1D, \\\n",
    "Attention, BatchNormalization\n",
    "from keras.callbacks import EarlyStopping\n",
    "from keras import optimizers, regularizers\n",
    "from sklearn.metrics import plot_roc_curve, roc_curve, \\\n",
    "auc, precision_score, recall_score, confusion_matrix, \\\n",
    "classification_report, accuracy_score, f1_score, mean_squared_error\n",
    "from sklearn.preprocessing import MinMaxScaler\n",
    "from datetime import datetime\n",
    "from datetime import timedelta\n",
    "\n",
    "nltk.download('universal_tagset')\n",
    "nltk.download('punkt')\n",
    "random.seed(1)"
   ]
  },
  {
   "cell_type": "code",
   "execution_count": null,
   "metadata": {
    "colab": {
     "base_uri": "https://localhost:8080/"
    },
    "id": "niHSED8UxovK",
    "outputId": "0b45ee9d-bc89-4450-d34f-36bf2084b9d2",
    "scrolled": false
   },
   "outputs": [
    {
     "data": {
      "text/plain": [
       "(5681, 5)"
      ]
     },
     "execution_count": 4,
     "metadata": {
      "tags": []
     },
     "output_type": "execute_result"
    }
   ],
   "source": [
    "df = pd.read_csv('/content/drive/MyDrive/stock_prediction/data/All_News.csv')\n",
    "df.drop(columns=[df.columns[0],df.columns[5]], axis=1, inplace=True)\n",
    "df.shape"
   ]
  },
  {
   "cell_type": "code",
   "execution_count": null,
   "metadata": {
    "colab": {
     "base_uri": "https://localhost:8080/"
    },
    "id": "meZO1Sfs-Xmi",
    "outputId": "681265ad-259c-4af8-bc67-69b83ded41d8"
   },
   "outputs": [
    {
     "data": {
      "text/plain": [
       "(18, 5)"
      ]
     },
     "execution_count": 5,
     "metadata": {
      "tags": []
     },
     "output_type": "execute_result"
    }
   ],
   "source": [
    "df1 = pd.read_csv('/content/drive/MyDrive/stock_prediction/data/All_News_update.csv')\n",
    "df1.drop(columns=[df1.columns[0],df1.columns[5]], axis=1, inplace=True)\n",
    "df1.shape"
   ]
  },
  {
   "cell_type": "code",
   "execution_count": null,
   "metadata": {
    "colab": {
     "base_uri": "https://localhost:8080/"
    },
    "id": "naYlq2yf-tgZ",
    "outputId": "fc080230-4bdd-456b-c4c3-25f0bcaac64b"
   },
   "outputs": [
    {
     "data": {
      "text/plain": [
       "(5699, 5)"
      ]
     },
     "execution_count": 6,
     "metadata": {
      "tags": []
     },
     "output_type": "execute_result"
    }
   ],
   "source": [
    "df = df.append(df1)\n",
    "df.shape"
   ]
  },
  {
   "cell_type": "markdown",
   "metadata": {
    "id": "iUq48mqi_zAt"
   },
   "source": [
    "## Filter Company"
   ]
  },
  {
   "cell_type": "code",
   "execution_count": null,
   "metadata": {
    "colab": {
     "base_uri": "https://localhost:8080/"
    },
    "id": "s5Tf3xdR_uBP",
    "outputId": "34efbfa7-54d1-40dd-bc7d-522120cc57df"
   },
   "outputs": [
    {
     "data": {
      "text/plain": [
       "(1838, 5)"
      ]
     },
     "execution_count": 7,
     "metadata": {
      "tags": []
     },
     "output_type": "execute_result"
    }
   ],
   "source": [
    "df = df[df['company_name'] == 'Apple']\n",
    "df.shape"
   ]
  },
  {
   "cell_type": "markdown",
   "metadata": {
    "id": "1Hv1Feil_DqV"
   },
   "source": [
    "## Remove Duplicates"
   ]
  },
  {
   "cell_type": "code",
   "execution_count": null,
   "metadata": {
    "colab": {
     "base_uri": "https://localhost:8080/"
    },
    "id": "iOlqj1tw_F1o",
    "outputId": "fa6f54dd-9325-4e0a-97cb-2c0000fe247c"
   },
   "outputs": [
    {
     "name": "stdout",
     "output_type": "stream",
     "text": [
      "# duplicates:  0\n"
     ]
    }
   ],
   "source": [
    "#remove duplicates\n",
    "nb_rows = df.shape[0]\n",
    "df.drop_duplicates(inplace=True)\n",
    "print('# duplicates: ', nb_rows - df.shape[0])"
   ]
  },
  {
   "cell_type": "markdown",
   "metadata": {
    "id": "JXPaI4M3_MYR"
   },
   "source": [
    "## Missing Value"
   ]
  },
  {
   "cell_type": "code",
   "execution_count": null,
   "metadata": {
    "colab": {
     "base_uri": "https://localhost:8080/",
     "height": 206
    },
    "id": "F-oXJZUM_N_2",
    "outputId": "c90b558a-cd74-4dbc-edbd-4794cc484658"
   },
   "outputs": [
    {
     "data": {
      "text/html": [
       "<div>\n",
       "<style scoped>\n",
       "    .dataframe tbody tr th:only-of-type {\n",
       "        vertical-align: middle;\n",
       "    }\n",
       "\n",
       "    .dataframe tbody tr th {\n",
       "        vertical-align: top;\n",
       "    }\n",
       "\n",
       "    .dataframe thead th {\n",
       "        text-align: right;\n",
       "    }\n",
       "</style>\n",
       "<table border=\"1\" class=\"dataframe\">\n",
       "  <thead>\n",
       "    <tr style=\"text-align: right;\">\n",
       "      <th></th>\n",
       "      <th>0</th>\n",
       "      <th>1</th>\n",
       "    </tr>\n",
       "  </thead>\n",
       "  <tbody>\n",
       "    <tr>\n",
       "      <th>Date</th>\n",
       "      <td># Empty entries:</td>\n",
       "      <td>0</td>\n",
       "    </tr>\n",
       "    <tr>\n",
       "      <th>Title</th>\n",
       "      <td># Empty entries:</td>\n",
       "      <td>0</td>\n",
       "    </tr>\n",
       "    <tr>\n",
       "      <th>Url</th>\n",
       "      <td># Empty entries:</td>\n",
       "      <td>0</td>\n",
       "    </tr>\n",
       "    <tr>\n",
       "      <th>Body</th>\n",
       "      <td># Empty entries:</td>\n",
       "      <td>28</td>\n",
       "    </tr>\n",
       "    <tr>\n",
       "      <th>company_name</th>\n",
       "      <td># Empty entries:</td>\n",
       "      <td>0</td>\n",
       "    </tr>\n",
       "  </tbody>\n",
       "</table>\n",
       "</div>"
      ],
      "text/plain": [
       "                             0   1\n",
       "Date          # Empty entries:   0\n",
       "Title         # Empty entries:   0\n",
       "Url           # Empty entries:   0\n",
       "Body          # Empty entries:  28\n",
       "company_name  # Empty entries:   0"
      ]
     },
     "execution_count": 9,
     "metadata": {
      "tags": []
     },
     "output_type": "execute_result"
    }
   ],
   "source": [
    "#check null\n",
    "def check_missing_values(row):\n",
    "    \"\"\" functions that check and verifies if there are missing values in dataframe \"\"\"\n",
    "    counter = 0\n",
    "    for element in row:\n",
    "        if element == True:\n",
    "            counter+=1\n",
    "    return (\"# Empty entries:\", counter)\n",
    "\n",
    "df.isnull().apply(lambda x: check_missing_values(x)).transpose()"
   ]
  },
  {
   "cell_type": "markdown",
   "metadata": {
    "id": "yfpU3PhU_U88"
   },
   "source": [
    "## Adjust Published Date"
   ]
  },
  {
   "cell_type": "code",
   "execution_count": null,
   "metadata": {
    "colab": {
     "base_uri": "https://localhost:8080/",
     "height": 293
    },
    "id": "vEz46PPwxovL",
    "outputId": "abccc1a4-0ba2-45a8-accd-9f2ec91c775b"
   },
   "outputs": [
    {
     "data": {
      "text/html": [
       "<div>\n",
       "<style scoped>\n",
       "    .dataframe tbody tr th:only-of-type {\n",
       "        vertical-align: middle;\n",
       "    }\n",
       "\n",
       "    .dataframe tbody tr th {\n",
       "        vertical-align: top;\n",
       "    }\n",
       "\n",
       "    .dataframe thead th {\n",
       "        text-align: right;\n",
       "    }\n",
       "</style>\n",
       "<table border=\"1\" class=\"dataframe\">\n",
       "  <thead>\n",
       "    <tr style=\"text-align: right;\">\n",
       "      <th></th>\n",
       "      <th>Date</th>\n",
       "      <th>Title</th>\n",
       "      <th>Url</th>\n",
       "      <th>Body</th>\n",
       "      <th>company_name</th>\n",
       "    </tr>\n",
       "  </thead>\n",
       "  <tbody>\n",
       "    <tr>\n",
       "      <th>0</th>\n",
       "      <td>2021-05-21</td>\n",
       "      <td>Epic v Apple: Tim Cook testifies as star witne...</td>\n",
       "      <td>https://www.theguardian.com/technology/2021/ma...</td>\n",
       "      <td>&lt;p&gt;Tim Cook, the chief executive of Apple, too...</td>\n",
       "      <td>Apple</td>\n",
       "    </tr>\n",
       "    <tr>\n",
       "      <th>1</th>\n",
       "      <td>2021-05-19</td>\n",
       "      <td>Apple iPad Pro M1 review: stunning screen and ...</td>\n",
       "      <td>https://www.theguardian.com/technology/2021/ma...</td>\n",
       "      <td>&lt;p&gt;Apple’s latest iPad Pro gets upgraded with ...</td>\n",
       "      <td>Apple</td>\n",
       "    </tr>\n",
       "    <tr>\n",
       "      <th>2</th>\n",
       "      <td>2021-05-18</td>\n",
       "      <td>Apple 24in iMac M1 review: faster, bigger scr...</td>\n",
       "      <td>https://www.theguardian.com/technology/2021/ma...</td>\n",
       "      <td>&lt;p&gt;Apple’s iMac has had its first big redesign...</td>\n",
       "      <td>Apple</td>\n",
       "    </tr>\n",
       "    <tr>\n",
       "      <th>3</th>\n",
       "      <td>2021-05-02</td>\n",
       "      <td>Why are Apple and Epic going to court over For...</td>\n",
       "      <td>https://www.theguardian.com/technology/2021/ma...</td>\n",
       "      <td>&lt;p&gt;Apple and Epic Games will go head to head i...</td>\n",
       "      <td>Apple</td>\n",
       "    </tr>\n",
       "    <tr>\n",
       "      <th>4</th>\n",
       "      <td>2021-04-30</td>\n",
       "      <td>Apple accused of breaking EU law over App Stor...</td>\n",
       "      <td>https://www.theguardian.com/technology/2021/ap...</td>\n",
       "      <td>&lt;p&gt;Apple has been accused of breaking EU law b...</td>\n",
       "      <td>Apple</td>\n",
       "    </tr>\n",
       "  </tbody>\n",
       "</table>\n",
       "</div>"
      ],
      "text/plain": [
       "         Date  ... company_name\n",
       "0  2021-05-21  ...        Apple\n",
       "1  2021-05-19  ...        Apple\n",
       "2  2021-05-18  ...        Apple\n",
       "3  2021-05-02  ...        Apple\n",
       "4  2021-04-30  ...        Apple\n",
       "\n",
       "[5 rows x 5 columns]"
      ]
     },
     "execution_count": 10,
     "metadata": {
      "tags": []
     },
     "output_type": "execute_result"
    }
   ],
   "source": [
    "df['Date'] = pd.to_datetime(df['Date'], format='%Y-%m-%d').dt.date\n",
    "df.head()"
   ]
  },
  {
   "cell_type": "code",
   "execution_count": null,
   "metadata": {
    "colab": {
     "base_uri": "https://localhost:8080/",
     "height": 597
    },
    "id": "M5ybzhFPxovL",
    "outputId": "6e225a1f-c9bd-422d-87d6-c2e74d83fa8e"
   },
   "outputs": [
    {
     "data": {
      "text/html": [
       "<div>\n",
       "<style scoped>\n",
       "    .dataframe tbody tr th:only-of-type {\n",
       "        vertical-align: middle;\n",
       "    }\n",
       "\n",
       "    .dataframe tbody tr th {\n",
       "        vertical-align: top;\n",
       "    }\n",
       "\n",
       "    .dataframe thead th {\n",
       "        text-align: right;\n",
       "    }\n",
       "</style>\n",
       "<table border=\"1\" class=\"dataframe\">\n",
       "  <thead>\n",
       "    <tr style=\"text-align: right;\">\n",
       "      <th></th>\n",
       "      <th>Date</th>\n",
       "      <th>Title</th>\n",
       "      <th>Url</th>\n",
       "      <th>Body</th>\n",
       "      <th>company_name</th>\n",
       "      <th>wday</th>\n",
       "    </tr>\n",
       "  </thead>\n",
       "  <tbody>\n",
       "    <tr>\n",
       "      <th>0</th>\n",
       "      <td>2021-05-21</td>\n",
       "      <td>Epic v Apple: Tim Cook testifies as star witne...</td>\n",
       "      <td>https://www.theguardian.com/technology/2021/ma...</td>\n",
       "      <td>&lt;p&gt;Tim Cook, the chief executive of Apple, too...</td>\n",
       "      <td>Apple</td>\n",
       "      <td>4</td>\n",
       "    </tr>\n",
       "    <tr>\n",
       "      <th>1</th>\n",
       "      <td>2021-05-19</td>\n",
       "      <td>Apple iPad Pro M1 review: stunning screen and ...</td>\n",
       "      <td>https://www.theguardian.com/technology/2021/ma...</td>\n",
       "      <td>&lt;p&gt;Apple’s latest iPad Pro gets upgraded with ...</td>\n",
       "      <td>Apple</td>\n",
       "      <td>2</td>\n",
       "    </tr>\n",
       "    <tr>\n",
       "      <th>2</th>\n",
       "      <td>2021-05-18</td>\n",
       "      <td>Apple 24in iMac M1 review: faster, bigger scr...</td>\n",
       "      <td>https://www.theguardian.com/technology/2021/ma...</td>\n",
       "      <td>&lt;p&gt;Apple’s iMac has had its first big redesign...</td>\n",
       "      <td>Apple</td>\n",
       "      <td>1</td>\n",
       "    </tr>\n",
       "    <tr>\n",
       "      <th>3</th>\n",
       "      <td>2021-05-02</td>\n",
       "      <td>Why are Apple and Epic going to court over For...</td>\n",
       "      <td>https://www.theguardian.com/technology/2021/ma...</td>\n",
       "      <td>&lt;p&gt;Apple and Epic Games will go head to head i...</td>\n",
       "      <td>Apple</td>\n",
       "      <td>6</td>\n",
       "    </tr>\n",
       "    <tr>\n",
       "      <th>4</th>\n",
       "      <td>2021-04-30</td>\n",
       "      <td>Apple accused of breaking EU law over App Stor...</td>\n",
       "      <td>https://www.theguardian.com/technology/2021/ap...</td>\n",
       "      <td>&lt;p&gt;Apple has been accused of breaking EU law b...</td>\n",
       "      <td>Apple</td>\n",
       "      <td>4</td>\n",
       "    </tr>\n",
       "    <tr>\n",
       "      <th>...</th>\n",
       "      <td>...</td>\n",
       "      <td>...</td>\n",
       "      <td>...</td>\n",
       "      <td>...</td>\n",
       "      <td>...</td>\n",
       "      <td>...</td>\n",
       "    </tr>\n",
       "    <tr>\n",
       "      <th>0</th>\n",
       "      <td>2021-06-07</td>\n",
       "      <td>WWDC 2021: Apple unveils iOS 15, ‘focus mode’ ...</td>\n",
       "      <td>https://www.theguardian.com/technology/live/20...</td>\n",
       "      <td>&lt;div id=\"block-60be828c8f08336d75f05ed3\" class...</td>\n",
       "      <td>Apple</td>\n",
       "      <td>0</td>\n",
       "    </tr>\n",
       "    <tr>\n",
       "      <th>1</th>\n",
       "      <td>2021-06-07</td>\n",
       "      <td>Apple overhauls Siri to address privacy concer...</td>\n",
       "      <td>https://www.theguardian.com/technology/2021/ju...</td>\n",
       "      <td>&lt;p&gt;Apple will no longer send Siri requests to ...</td>\n",
       "      <td>Apple</td>\n",
       "      <td>0</td>\n",
       "    </tr>\n",
       "    <tr>\n",
       "      <th>2</th>\n",
       "      <td>2021-06-07</td>\n",
       "      <td>Apple paid woman millions after technicians us...</td>\n",
       "      <td>https://www.theguardian.com/technology/2021/ju...</td>\n",
       "      <td>&lt;p&gt;Apple has paid a multi-million dollar settl...</td>\n",
       "      <td>Apple</td>\n",
       "      <td>0</td>\n",
       "    </tr>\n",
       "    <tr>\n",
       "      <th>3</th>\n",
       "      <td>2021-06-03</td>\n",
       "      <td>Apple uses more suppliers from China than Taiw...</td>\n",
       "      <td>https://www.theguardian.com/technology/2021/ju...</td>\n",
       "      <td>&lt;p&gt;Apple used more suppliers from China last y...</td>\n",
       "      <td>Apple</td>\n",
       "      <td>3</td>\n",
       "    </tr>\n",
       "    <tr>\n",
       "      <th>4</th>\n",
       "      <td>2021-05-28</td>\n",
       "      <td>Apple TV 4K 2021 review: faster chip, fancy iP...</td>\n",
       "      <td>https://www.theguardian.com/technology/2021/ma...</td>\n",
       "      <td>&lt;p&gt;The second-generation Apple TV 4K gets a fa...</td>\n",
       "      <td>Apple</td>\n",
       "      <td>4</td>\n",
       "    </tr>\n",
       "  </tbody>\n",
       "</table>\n",
       "<p>1838 rows × 6 columns</p>\n",
       "</div>"
      ],
      "text/plain": [
       "          Date  ... wday\n",
       "0   2021-05-21  ...    4\n",
       "1   2021-05-19  ...    2\n",
       "2   2021-05-18  ...    1\n",
       "3   2021-05-02  ...    6\n",
       "4   2021-04-30  ...    4\n",
       "..         ...  ...  ...\n",
       "0   2021-06-07  ...    0\n",
       "1   2021-06-07  ...    0\n",
       "2   2021-06-07  ...    0\n",
       "3   2021-06-03  ...    3\n",
       "4   2021-05-28  ...    4\n",
       "\n",
       "[1838 rows x 6 columns]"
      ]
     },
     "execution_count": 11,
     "metadata": {
      "tags": []
     },
     "output_type": "execute_result"
    }
   ],
   "source": [
    "df['wday'] = pd.to_datetime(df['Date'], format='%Y-%m-%d').dt.dayofweek\n",
    "df"
   ]
  },
  {
   "cell_type": "code",
   "execution_count": null,
   "metadata": {
    "colab": {
     "base_uri": "https://localhost:8080/",
     "height": 300
    },
    "id": "V14-tPohxovM",
    "outputId": "7078dccc-c317-4c6a-b5e5-45a2366cf929"
   },
   "outputs": [
    {
     "data": {
      "text/html": [
       "<div>\n",
       "<style scoped>\n",
       "    .dataframe tbody tr th:only-of-type {\n",
       "        vertical-align: middle;\n",
       "    }\n",
       "\n",
       "    .dataframe tbody tr th {\n",
       "        vertical-align: top;\n",
       "    }\n",
       "\n",
       "    .dataframe thead th {\n",
       "        text-align: right;\n",
       "    }\n",
       "</style>\n",
       "<table border=\"1\" class=\"dataframe\">\n",
       "  <thead>\n",
       "    <tr style=\"text-align: right;\">\n",
       "      <th></th>\n",
       "      <th>Date</th>\n",
       "      <th>Title</th>\n",
       "      <th>Url</th>\n",
       "      <th>Body</th>\n",
       "      <th>company_name</th>\n",
       "    </tr>\n",
       "    <tr>\n",
       "      <th>wday</th>\n",
       "      <th></th>\n",
       "      <th></th>\n",
       "      <th></th>\n",
       "      <th></th>\n",
       "      <th></th>\n",
       "    </tr>\n",
       "  </thead>\n",
       "  <tbody>\n",
       "    <tr>\n",
       "      <th>0</th>\n",
       "      <td>342</td>\n",
       "      <td>342</td>\n",
       "      <td>342</td>\n",
       "      <td>341</td>\n",
       "      <td>342</td>\n",
       "    </tr>\n",
       "    <tr>\n",
       "      <th>1</th>\n",
       "      <td>373</td>\n",
       "      <td>373</td>\n",
       "      <td>373</td>\n",
       "      <td>365</td>\n",
       "      <td>373</td>\n",
       "    </tr>\n",
       "    <tr>\n",
       "      <th>2</th>\n",
       "      <td>361</td>\n",
       "      <td>361</td>\n",
       "      <td>361</td>\n",
       "      <td>352</td>\n",
       "      <td>361</td>\n",
       "    </tr>\n",
       "    <tr>\n",
       "      <th>3</th>\n",
       "      <td>324</td>\n",
       "      <td>324</td>\n",
       "      <td>324</td>\n",
       "      <td>321</td>\n",
       "      <td>324</td>\n",
       "    </tr>\n",
       "    <tr>\n",
       "      <th>4</th>\n",
       "      <td>344</td>\n",
       "      <td>344</td>\n",
       "      <td>344</td>\n",
       "      <td>337</td>\n",
       "      <td>344</td>\n",
       "    </tr>\n",
       "    <tr>\n",
       "      <th>5</th>\n",
       "      <td>39</td>\n",
       "      <td>39</td>\n",
       "      <td>39</td>\n",
       "      <td>39</td>\n",
       "      <td>39</td>\n",
       "    </tr>\n",
       "    <tr>\n",
       "      <th>6</th>\n",
       "      <td>55</td>\n",
       "      <td>55</td>\n",
       "      <td>55</td>\n",
       "      <td>55</td>\n",
       "      <td>55</td>\n",
       "    </tr>\n",
       "  </tbody>\n",
       "</table>\n",
       "</div>"
      ],
      "text/plain": [
       "      Date  Title  Url  Body  company_name\n",
       "wday                                      \n",
       "0      342    342  342   341           342\n",
       "1      373    373  373   365           373\n",
       "2      361    361  361   352           361\n",
       "3      324    324  324   321           324\n",
       "4      344    344  344   337           344\n",
       "5       39     39   39    39            39\n",
       "6       55     55   55    55            55"
      ]
     },
     "execution_count": 12,
     "metadata": {
      "tags": []
     },
     "output_type": "execute_result"
    }
   ],
   "source": [
    "df.groupby('wday').count()"
   ]
  },
  {
   "cell_type": "code",
   "execution_count": null,
   "metadata": {
    "id": "phJSz04pxovM"
   },
   "outputs": [],
   "source": [
    "def adjusted_date(row):\n",
    "    if row['wday'] < 4 or row['wday'] == 6:\n",
    "        return row['Date'] + timedelta(days=1)\n",
    "    elif row['wday'] == 5:\n",
    "        return row['Date'] + timedelta(days=2)\n",
    "    else:\n",
    "        return row['Date'] + timedelta(days=3)"
   ]
  },
  {
   "cell_type": "code",
   "execution_count": null,
   "metadata": {
    "colab": {
     "base_uri": "https://localhost:8080/",
     "height": 770
    },
    "id": "S5YiF3m0xovM",
    "outputId": "bd9fbfca-5c34-4eb8-8f50-8993fbc8a294"
   },
   "outputs": [
    {
     "data": {
      "text/html": [
       "<div>\n",
       "<style scoped>\n",
       "    .dataframe tbody tr th:only-of-type {\n",
       "        vertical-align: middle;\n",
       "    }\n",
       "\n",
       "    .dataframe tbody tr th {\n",
       "        vertical-align: top;\n",
       "    }\n",
       "\n",
       "    .dataframe thead th {\n",
       "        text-align: right;\n",
       "    }\n",
       "</style>\n",
       "<table border=\"1\" class=\"dataframe\">\n",
       "  <thead>\n",
       "    <tr style=\"text-align: right;\">\n",
       "      <th></th>\n",
       "      <th>Date</th>\n",
       "      <th>Title</th>\n",
       "      <th>Url</th>\n",
       "      <th>Body</th>\n",
       "      <th>company_name</th>\n",
       "      <th>wday</th>\n",
       "      <th>adjusted_date</th>\n",
       "    </tr>\n",
       "  </thead>\n",
       "  <tbody>\n",
       "    <tr>\n",
       "      <th>0</th>\n",
       "      <td>2021-05-21</td>\n",
       "      <td>Epic v Apple: Tim Cook testifies as star witne...</td>\n",
       "      <td>https://www.theguardian.com/technology/2021/ma...</td>\n",
       "      <td>&lt;p&gt;Tim Cook, the chief executive of Apple, too...</td>\n",
       "      <td>Apple</td>\n",
       "      <td>4</td>\n",
       "      <td>2021-05-24</td>\n",
       "    </tr>\n",
       "    <tr>\n",
       "      <th>1</th>\n",
       "      <td>2021-05-19</td>\n",
       "      <td>Apple iPad Pro M1 review: stunning screen and ...</td>\n",
       "      <td>https://www.theguardian.com/technology/2021/ma...</td>\n",
       "      <td>&lt;p&gt;Apple’s latest iPad Pro gets upgraded with ...</td>\n",
       "      <td>Apple</td>\n",
       "      <td>2</td>\n",
       "      <td>2021-05-20</td>\n",
       "    </tr>\n",
       "    <tr>\n",
       "      <th>2</th>\n",
       "      <td>2021-05-18</td>\n",
       "      <td>Apple 24in iMac M1 review: faster, bigger scr...</td>\n",
       "      <td>https://www.theguardian.com/technology/2021/ma...</td>\n",
       "      <td>&lt;p&gt;Apple’s iMac has had its first big redesign...</td>\n",
       "      <td>Apple</td>\n",
       "      <td>1</td>\n",
       "      <td>2021-05-19</td>\n",
       "    </tr>\n",
       "    <tr>\n",
       "      <th>3</th>\n",
       "      <td>2021-05-02</td>\n",
       "      <td>Why are Apple and Epic going to court over For...</td>\n",
       "      <td>https://www.theguardian.com/technology/2021/ma...</td>\n",
       "      <td>&lt;p&gt;Apple and Epic Games will go head to head i...</td>\n",
       "      <td>Apple</td>\n",
       "      <td>6</td>\n",
       "      <td>2021-05-03</td>\n",
       "    </tr>\n",
       "    <tr>\n",
       "      <th>4</th>\n",
       "      <td>2021-04-30</td>\n",
       "      <td>Apple accused of breaking EU law over App Stor...</td>\n",
       "      <td>https://www.theguardian.com/technology/2021/ap...</td>\n",
       "      <td>&lt;p&gt;Apple has been accused of breaking EU law b...</td>\n",
       "      <td>Apple</td>\n",
       "      <td>4</td>\n",
       "      <td>2021-05-03</td>\n",
       "    </tr>\n",
       "    <tr>\n",
       "      <th>...</th>\n",
       "      <td>...</td>\n",
       "      <td>...</td>\n",
       "      <td>...</td>\n",
       "      <td>...</td>\n",
       "      <td>...</td>\n",
       "      <td>...</td>\n",
       "      <td>...</td>\n",
       "    </tr>\n",
       "    <tr>\n",
       "      <th>0</th>\n",
       "      <td>2021-06-07</td>\n",
       "      <td>WWDC 2021: Apple unveils iOS 15, ‘focus mode’ ...</td>\n",
       "      <td>https://www.theguardian.com/technology/live/20...</td>\n",
       "      <td>&lt;div id=\"block-60be828c8f08336d75f05ed3\" class...</td>\n",
       "      <td>Apple</td>\n",
       "      <td>0</td>\n",
       "      <td>2021-06-08</td>\n",
       "    </tr>\n",
       "    <tr>\n",
       "      <th>1</th>\n",
       "      <td>2021-06-07</td>\n",
       "      <td>Apple overhauls Siri to address privacy concer...</td>\n",
       "      <td>https://www.theguardian.com/technology/2021/ju...</td>\n",
       "      <td>&lt;p&gt;Apple will no longer send Siri requests to ...</td>\n",
       "      <td>Apple</td>\n",
       "      <td>0</td>\n",
       "      <td>2021-06-08</td>\n",
       "    </tr>\n",
       "    <tr>\n",
       "      <th>2</th>\n",
       "      <td>2021-06-07</td>\n",
       "      <td>Apple paid woman millions after technicians us...</td>\n",
       "      <td>https://www.theguardian.com/technology/2021/ju...</td>\n",
       "      <td>&lt;p&gt;Apple has paid a multi-million dollar settl...</td>\n",
       "      <td>Apple</td>\n",
       "      <td>0</td>\n",
       "      <td>2021-06-08</td>\n",
       "    </tr>\n",
       "    <tr>\n",
       "      <th>3</th>\n",
       "      <td>2021-06-03</td>\n",
       "      <td>Apple uses more suppliers from China than Taiw...</td>\n",
       "      <td>https://www.theguardian.com/technology/2021/ju...</td>\n",
       "      <td>&lt;p&gt;Apple used more suppliers from China last y...</td>\n",
       "      <td>Apple</td>\n",
       "      <td>3</td>\n",
       "      <td>2021-06-04</td>\n",
       "    </tr>\n",
       "    <tr>\n",
       "      <th>4</th>\n",
       "      <td>2021-05-28</td>\n",
       "      <td>Apple TV 4K 2021 review: faster chip, fancy iP...</td>\n",
       "      <td>https://www.theguardian.com/technology/2021/ma...</td>\n",
       "      <td>&lt;p&gt;The second-generation Apple TV 4K gets a fa...</td>\n",
       "      <td>Apple</td>\n",
       "      <td>4</td>\n",
       "      <td>2021-05-31</td>\n",
       "    </tr>\n",
       "  </tbody>\n",
       "</table>\n",
       "<p>1838 rows × 7 columns</p>\n",
       "</div>"
      ],
      "text/plain": [
       "          Date  ... adjusted_date\n",
       "0   2021-05-21  ...    2021-05-24\n",
       "1   2021-05-19  ...    2021-05-20\n",
       "2   2021-05-18  ...    2021-05-19\n",
       "3   2021-05-02  ...    2021-05-03\n",
       "4   2021-04-30  ...    2021-05-03\n",
       "..         ...  ...           ...\n",
       "0   2021-06-07  ...    2021-06-08\n",
       "1   2021-06-07  ...    2021-06-08\n",
       "2   2021-06-07  ...    2021-06-08\n",
       "3   2021-06-03  ...    2021-06-04\n",
       "4   2021-05-28  ...    2021-05-31\n",
       "\n",
       "[1838 rows x 7 columns]"
      ]
     },
     "execution_count": 14,
     "metadata": {
      "tags": []
     },
     "output_type": "execute_result"
    }
   ],
   "source": [
    "df['adjusted_date'] = df.apply(lambda row: adjusted_date(row), axis=1)\n",
    "df"
   ]
  },
  {
   "cell_type": "code",
   "execution_count": null,
   "metadata": {
    "colab": {
     "base_uri": "https://localhost:8080/",
     "height": 454
    },
    "id": "Wl9SfjWqxovN",
    "outputId": "ee9832a7-e32f-4b40-b686-e9a0df361dfa"
   },
   "outputs": [
    {
     "data": {
      "text/html": [
       "<div>\n",
       "<style scoped>\n",
       "    .dataframe tbody tr th:only-of-type {\n",
       "        vertical-align: middle;\n",
       "    }\n",
       "\n",
       "    .dataframe tbody tr th {\n",
       "        vertical-align: top;\n",
       "    }\n",
       "\n",
       "    .dataframe thead th {\n",
       "        text-align: right;\n",
       "    }\n",
       "</style>\n",
       "<table border=\"1\" class=\"dataframe\">\n",
       "  <thead>\n",
       "    <tr style=\"text-align: right;\">\n",
       "      <th></th>\n",
       "      <th>Title</th>\n",
       "    </tr>\n",
       "    <tr>\n",
       "      <th>adjusted_date</th>\n",
       "      <th></th>\n",
       "    </tr>\n",
       "  </thead>\n",
       "  <tbody>\n",
       "    <tr>\n",
       "      <th>2013-10-23</th>\n",
       "      <td>14</td>\n",
       "    </tr>\n",
       "    <tr>\n",
       "      <th>2014-09-10</th>\n",
       "      <td>11</td>\n",
       "    </tr>\n",
       "    <tr>\n",
       "      <th>2013-09-11</th>\n",
       "      <td>10</td>\n",
       "    </tr>\n",
       "    <tr>\n",
       "      <th>2014-09-11</th>\n",
       "      <td>9</td>\n",
       "    </tr>\n",
       "    <tr>\n",
       "      <th>2014-10-17</th>\n",
       "      <td>8</td>\n",
       "    </tr>\n",
       "    <tr>\n",
       "      <th>...</th>\n",
       "      <td>...</td>\n",
       "    </tr>\n",
       "    <tr>\n",
       "      <th>2013-04-25</th>\n",
       "      <td>1</td>\n",
       "    </tr>\n",
       "    <tr>\n",
       "      <th>2015-08-17</th>\n",
       "      <td>1</td>\n",
       "    </tr>\n",
       "    <tr>\n",
       "      <th>2015-08-20</th>\n",
       "      <td>1</td>\n",
       "    </tr>\n",
       "    <tr>\n",
       "      <th>2013-04-19</th>\n",
       "      <td>1</td>\n",
       "    </tr>\n",
       "    <tr>\n",
       "      <th>2012-05-21</th>\n",
       "      <td>1</td>\n",
       "    </tr>\n",
       "  </tbody>\n",
       "</table>\n",
       "<p>1099 rows × 1 columns</p>\n",
       "</div>"
      ],
      "text/plain": [
       "               Title\n",
       "adjusted_date       \n",
       "2013-10-23        14\n",
       "2014-09-10        11\n",
       "2013-09-11        10\n",
       "2014-09-11         9\n",
       "2014-10-17         8\n",
       "...              ...\n",
       "2013-04-25         1\n",
       "2015-08-17         1\n",
       "2015-08-20         1\n",
       "2013-04-19         1\n",
       "2012-05-21         1\n",
       "\n",
       "[1099 rows x 1 columns]"
      ]
     },
     "execution_count": 15,
     "metadata": {
      "tags": []
     },
     "output_type": "execute_result"
    }
   ],
   "source": [
    "df.groupby('adjusted_date').count()[['Title']].sort_values(by=['Title'], ascending=False)"
   ]
  },
  {
   "cell_type": "code",
   "execution_count": null,
   "metadata": {
    "colab": {
     "base_uri": "https://localhost:8080/",
     "height": 424
    },
    "id": "CWMYPwVexovN",
    "outputId": "1186077d-986a-41bb-ead3-3926c530cda2"
   },
   "outputs": [
    {
     "data": {
      "text/html": [
       "<div>\n",
       "<style scoped>\n",
       "    .dataframe tbody tr th:only-of-type {\n",
       "        vertical-align: middle;\n",
       "    }\n",
       "\n",
       "    .dataframe tbody tr th {\n",
       "        vertical-align: top;\n",
       "    }\n",
       "\n",
       "    .dataframe thead th {\n",
       "        text-align: right;\n",
       "    }\n",
       "</style>\n",
       "<table border=\"1\" class=\"dataframe\">\n",
       "  <thead>\n",
       "    <tr style=\"text-align: right;\">\n",
       "      <th></th>\n",
       "      <th>adjusted_date</th>\n",
       "      <th>Title</th>\n",
       "    </tr>\n",
       "  </thead>\n",
       "  <tbody>\n",
       "    <tr>\n",
       "      <th>0</th>\n",
       "      <td>2012-05-21</td>\n",
       "      <td>Boot up: web v apps, Google v France, the iPho...</td>\n",
       "    </tr>\n",
       "    <tr>\n",
       "      <th>1</th>\n",
       "      <td>2012-05-24</td>\n",
       "      <td>Boot up: Facebook's coming crash, iPhone gende...</td>\n",
       "    </tr>\n",
       "    <tr>\n",
       "      <th>2</th>\n",
       "      <td>2012-05-28</td>\n",
       "      <td>Apple chief Tim Cook opts out of $75m dividend...</td>\n",
       "    </tr>\n",
       "    <tr>\n",
       "      <th>3</th>\n",
       "      <td>2012-06-04</td>\n",
       "      <td>Boot up: iPhone v Lumia, shiny Chromebook?, Fl...</td>\n",
       "    </tr>\n",
       "    <tr>\n",
       "      <th>4</th>\n",
       "      <td>2012-06-07</td>\n",
       "      <td>30/30 app brings pay-what-you-like pricing to ...</td>\n",
       "    </tr>\n",
       "    <tr>\n",
       "      <th>...</th>\n",
       "      <td>...</td>\n",
       "      <td>...</td>\n",
       "    </tr>\n",
       "    <tr>\n",
       "      <th>1094</th>\n",
       "      <td>2021-05-20</td>\n",
       "      <td>Apple iPad Pro M1 review: stunning screen and ...</td>\n",
       "    </tr>\n",
       "    <tr>\n",
       "      <th>1095</th>\n",
       "      <td>2021-05-24</td>\n",
       "      <td>Epic v Apple: Tim Cook testifies as star witne...</td>\n",
       "    </tr>\n",
       "    <tr>\n",
       "      <th>1096</th>\n",
       "      <td>2021-05-31</td>\n",
       "      <td>Apple TV 4K 2021 review: faster chip, fancy iP...</td>\n",
       "    </tr>\n",
       "    <tr>\n",
       "      <th>1097</th>\n",
       "      <td>2021-06-04</td>\n",
       "      <td>Apple uses more suppliers from China than Taiw...</td>\n",
       "    </tr>\n",
       "    <tr>\n",
       "      <th>1098</th>\n",
       "      <td>2021-06-08</td>\n",
       "      <td>WWDC 2021: Apple unveils iOS 15, ‘focus mode’ ...</td>\n",
       "    </tr>\n",
       "  </tbody>\n",
       "</table>\n",
       "<p>1099 rows × 2 columns</p>\n",
       "</div>"
      ],
      "text/plain": [
       "     adjusted_date                                              Title\n",
       "0       2012-05-21  Boot up: web v apps, Google v France, the iPho...\n",
       "1       2012-05-24  Boot up: Facebook's coming crash, iPhone gende...\n",
       "2       2012-05-28  Apple chief Tim Cook opts out of $75m dividend...\n",
       "3       2012-06-04  Boot up: iPhone v Lumia, shiny Chromebook?, Fl...\n",
       "4       2012-06-07  30/30 app brings pay-what-you-like pricing to ...\n",
       "...            ...                                                ...\n",
       "1094    2021-05-20  Apple iPad Pro M1 review: stunning screen and ...\n",
       "1095    2021-05-24  Epic v Apple: Tim Cook testifies as star witne...\n",
       "1096    2021-05-31  Apple TV 4K 2021 review: faster chip, fancy iP...\n",
       "1097    2021-06-04  Apple uses more suppliers from China than Taiw...\n",
       "1098    2021-06-08  WWDC 2021: Apple unveils iOS 15, ‘focus mode’ ...\n",
       "\n",
       "[1099 rows x 2 columns]"
      ]
     },
     "execution_count": 16,
     "metadata": {
      "tags": []
     },
     "output_type": "execute_result"
    }
   ],
   "source": [
    "df_news = df.groupby('adjusted_date')['Title'].apply(' '.join).reset_index()\n",
    "df_news"
   ]
  },
  {
   "cell_type": "code",
   "execution_count": null,
   "metadata": {
    "colab": {
     "base_uri": "https://localhost:8080/",
     "height": 424
    },
    "id": "vNU1U_aoxovN",
    "outputId": "4f055986-a2a6-4bb0-f72b-24e3eb888cda"
   },
   "outputs": [
    {
     "data": {
      "text/html": [
       "<div>\n",
       "<style scoped>\n",
       "    .dataframe tbody tr th:only-of-type {\n",
       "        vertical-align: middle;\n",
       "    }\n",
       "\n",
       "    .dataframe tbody tr th {\n",
       "        vertical-align: top;\n",
       "    }\n",
       "\n",
       "    .dataframe thead th {\n",
       "        text-align: right;\n",
       "    }\n",
       "</style>\n",
       "<table border=\"1\" class=\"dataframe\">\n",
       "  <thead>\n",
       "    <tr style=\"text-align: right;\">\n",
       "      <th></th>\n",
       "      <th>Date</th>\n",
       "      <th>Title</th>\n",
       "    </tr>\n",
       "  </thead>\n",
       "  <tbody>\n",
       "    <tr>\n",
       "      <th>0</th>\n",
       "      <td>2012-05-21</td>\n",
       "      <td>Boot up: web v apps, Google v France, the iPho...</td>\n",
       "    </tr>\n",
       "    <tr>\n",
       "      <th>1</th>\n",
       "      <td>2012-05-24</td>\n",
       "      <td>Boot up: Facebook's coming crash, iPhone gende...</td>\n",
       "    </tr>\n",
       "    <tr>\n",
       "      <th>2</th>\n",
       "      <td>2012-05-28</td>\n",
       "      <td>Apple chief Tim Cook opts out of $75m dividend...</td>\n",
       "    </tr>\n",
       "    <tr>\n",
       "      <th>3</th>\n",
       "      <td>2012-06-04</td>\n",
       "      <td>Boot up: iPhone v Lumia, shiny Chromebook?, Fl...</td>\n",
       "    </tr>\n",
       "    <tr>\n",
       "      <th>4</th>\n",
       "      <td>2012-06-07</td>\n",
       "      <td>30/30 app brings pay-what-you-like pricing to ...</td>\n",
       "    </tr>\n",
       "    <tr>\n",
       "      <th>...</th>\n",
       "      <td>...</td>\n",
       "      <td>...</td>\n",
       "    </tr>\n",
       "    <tr>\n",
       "      <th>1094</th>\n",
       "      <td>2021-05-20</td>\n",
       "      <td>Apple iPad Pro M1 review: stunning screen and ...</td>\n",
       "    </tr>\n",
       "    <tr>\n",
       "      <th>1095</th>\n",
       "      <td>2021-05-24</td>\n",
       "      <td>Epic v Apple: Tim Cook testifies as star witne...</td>\n",
       "    </tr>\n",
       "    <tr>\n",
       "      <th>1096</th>\n",
       "      <td>2021-05-31</td>\n",
       "      <td>Apple TV 4K 2021 review: faster chip, fancy iP...</td>\n",
       "    </tr>\n",
       "    <tr>\n",
       "      <th>1097</th>\n",
       "      <td>2021-06-04</td>\n",
       "      <td>Apple uses more suppliers from China than Taiw...</td>\n",
       "    </tr>\n",
       "    <tr>\n",
       "      <th>1098</th>\n",
       "      <td>2021-06-08</td>\n",
       "      <td>WWDC 2021: Apple unveils iOS 15, ‘focus mode’ ...</td>\n",
       "    </tr>\n",
       "  </tbody>\n",
       "</table>\n",
       "<p>1099 rows × 2 columns</p>\n",
       "</div>"
      ],
      "text/plain": [
       "            Date                                              Title\n",
       "0     2012-05-21  Boot up: web v apps, Google v France, the iPho...\n",
       "1     2012-05-24  Boot up: Facebook's coming crash, iPhone gende...\n",
       "2     2012-05-28  Apple chief Tim Cook opts out of $75m dividend...\n",
       "3     2012-06-04  Boot up: iPhone v Lumia, shiny Chromebook?, Fl...\n",
       "4     2012-06-07  30/30 app brings pay-what-you-like pricing to ...\n",
       "...          ...                                                ...\n",
       "1094  2021-05-20  Apple iPad Pro M1 review: stunning screen and ...\n",
       "1095  2021-05-24  Epic v Apple: Tim Cook testifies as star witne...\n",
       "1096  2021-05-31  Apple TV 4K 2021 review: faster chip, fancy iP...\n",
       "1097  2021-06-04  Apple uses more suppliers from China than Taiw...\n",
       "1098  2021-06-08  WWDC 2021: Apple unveils iOS 15, ‘focus mode’ ...\n",
       "\n",
       "[1099 rows x 2 columns]"
      ]
     },
     "execution_count": 17,
     "metadata": {
      "tags": []
     },
     "output_type": "execute_result"
    }
   ],
   "source": [
    "df_news.rename({'adjusted_date': 'Date'}, axis=1, inplace=True)\n",
    "df_news"
   ]
  },
  {
   "cell_type": "markdown",
   "metadata": {
    "id": "E3RTDIHwxovO"
   },
   "source": [
    "## Text Tokenization"
   ]
  },
  {
   "cell_type": "code",
   "execution_count": null,
   "metadata": {
    "colab": {
     "base_uri": "https://localhost:8080/"
    },
    "id": "u9XGvQyGxovO",
    "outputId": "292a5b5d-79bf-42e9-81f5-29869364403d"
   },
   "outputs": [
    {
     "name": "stdout",
     "output_type": "stream",
     "text": [
      "<class 'pandas.core.frame.DataFrame'>\n",
      "RangeIndex: 1099 entries, 0 to 1098\n",
      "Data columns (total 4 columns):\n",
      " #   Column        Non-Null Count  Dtype \n",
      "---  ------        --------------  ----- \n",
      " 0   Date          1099 non-null   object\n",
      " 1   Title         1099 non-null   object\n",
      " 2   text_decont   1099 non-null   object\n",
      " 3   text_no_punc  1099 non-null   object\n",
      "dtypes: object(4)\n",
      "memory usage: 34.5+ KB\n"
     ]
    }
   ],
   "source": [
    "#decontract to not create token from special cases.\n",
    "#For example, \"won't\" or \" can't\" can generate tokens as \"wo\", \"ca\" which are not removed by stopwords\n",
    "\n",
    "def decontracted(phrase):\n",
    "    # specific\n",
    "    phrase = re.sub(r\"won\\'t\", \"will not\", phrase)\n",
    "    phrase = re.sub(r\"can\\'t\", \"can not\", phrase)\n",
    "    phrase = re.sub(r\"let\\'s\", \"let us\", phrase)\n",
    "\n",
    "    # general\n",
    "    phrase = re.sub(r\"n\\'t\", \" not\", phrase)\n",
    "    phrase = re.sub(r\"\\'re\", \" are\", phrase)\n",
    "    phrase = re.sub(r\"\\'s\", \" is\", phrase)\n",
    "    phrase = re.sub(r\"\\'d\", \" would\", phrase)\n",
    "    phrase = re.sub(r\"\\'ll\", \" will\", phrase)\n",
    "    phrase = re.sub(r\"\\'t\", \" not\", phrase)\n",
    "    phrase = re.sub(r\"\\'ve\", \" have\", phrase)\n",
    "    phrase = re.sub(r\"\\'m\", \" am\", phrase)\n",
    "    return phrase\n",
    "\n",
    "#convert to lower case and decontract\n",
    "df_news['text_decont'] = df_news['Title'].str.lower().apply(lambda x: decontracted(x))\n",
    "\n",
    "#remove punctuation\n",
    "df_news['text_no_punc'] = df_news['text_decont'].apply(lambda x: re.sub(r'[^\\w\\s]', ' ', x))\n",
    "\n",
    "df_news.info()"
   ]
  },
  {
   "cell_type": "code",
   "execution_count": null,
   "metadata": {
    "colab": {
     "base_uri": "https://localhost:8080/",
     "height": 293
    },
    "id": "KT-OVeybxovO",
    "outputId": "6ac98f09-bca2-45a9-8610-2384a0050f66",
    "scrolled": false
   },
   "outputs": [
    {
     "data": {
      "text/html": [
       "<div>\n",
       "<style scoped>\n",
       "    .dataframe tbody tr th:only-of-type {\n",
       "        vertical-align: middle;\n",
       "    }\n",
       "\n",
       "    .dataframe tbody tr th {\n",
       "        vertical-align: top;\n",
       "    }\n",
       "\n",
       "    .dataframe thead th {\n",
       "        text-align: right;\n",
       "    }\n",
       "</style>\n",
       "<table border=\"1\" class=\"dataframe\">\n",
       "  <thead>\n",
       "    <tr style=\"text-align: right;\">\n",
       "      <th></th>\n",
       "      <th>Date</th>\n",
       "      <th>Title</th>\n",
       "      <th>text_decont</th>\n",
       "      <th>text_no_punc</th>\n",
       "      <th>tk</th>\n",
       "    </tr>\n",
       "  </thead>\n",
       "  <tbody>\n",
       "    <tr>\n",
       "      <th>0</th>\n",
       "      <td>2012-05-21</td>\n",
       "      <td>Boot up: web v apps, Google v France, the iPho...</td>\n",
       "      <td>boot up: web v apps, google v france, the ipho...</td>\n",
       "      <td>boot up  web v apps  google v france  the ipho...</td>\n",
       "      <td>[boot, up, web, v, apps, google, v, france, th...</td>\n",
       "    </tr>\n",
       "    <tr>\n",
       "      <th>1</th>\n",
       "      <td>2012-05-24</td>\n",
       "      <td>Boot up: Facebook's coming crash, iPhone gende...</td>\n",
       "      <td>boot up: facebook is coming crash, iphone gend...</td>\n",
       "      <td>boot up  facebook is coming crash  iphone gend...</td>\n",
       "      <td>[boot, up, facebook, is, coming, crash, iphone...</td>\n",
       "    </tr>\n",
       "    <tr>\n",
       "      <th>2</th>\n",
       "      <td>2012-05-28</td>\n",
       "      <td>Apple chief Tim Cook opts out of $75m dividend...</td>\n",
       "      <td>apple chief tim cook opts out of $75m dividend...</td>\n",
       "      <td>apple chief tim cook opts out of  75m dividend...</td>\n",
       "      <td>[apple, chief, tim, cook, opts, out, of, 75m, ...</td>\n",
       "    </tr>\n",
       "    <tr>\n",
       "      <th>3</th>\n",
       "      <td>2012-06-04</td>\n",
       "      <td>Boot up: iPhone v Lumia, shiny Chromebook?, Fl...</td>\n",
       "      <td>boot up: iphone v lumia, shiny chromebook?, fl...</td>\n",
       "      <td>boot up  iphone v lumia  shiny chromebook   fl...</td>\n",
       "      <td>[boot, up, iphone, v, lumia, shiny, chromebook...</td>\n",
       "    </tr>\n",
       "    <tr>\n",
       "      <th>4</th>\n",
       "      <td>2012-06-07</td>\n",
       "      <td>30/30 app brings pay-what-you-like pricing to ...</td>\n",
       "      <td>30/30 app brings pay-what-you-like pricing to ...</td>\n",
       "      <td>30 30 app brings pay what you like pricing to ...</td>\n",
       "      <td>[30, 30, app, brings, pay, what, you, like, pr...</td>\n",
       "    </tr>\n",
       "  </tbody>\n",
       "</table>\n",
       "</div>"
      ],
      "text/plain": [
       "         Date  ...                                                 tk\n",
       "0  2012-05-21  ...  [boot, up, web, v, apps, google, v, france, th...\n",
       "1  2012-05-24  ...  [boot, up, facebook, is, coming, crash, iphone...\n",
       "2  2012-05-28  ...  [apple, chief, tim, cook, opts, out, of, 75m, ...\n",
       "3  2012-06-04  ...  [boot, up, iphone, v, lumia, shiny, chromebook...\n",
       "4  2012-06-07  ...  [30, 30, app, brings, pay, what, you, like, pr...\n",
       "\n",
       "[5 rows x 5 columns]"
      ]
     },
     "execution_count": 19,
     "metadata": {
      "tags": []
     },
     "output_type": "execute_result"
    }
   ],
   "source": [
    "# tokenize w/o preprocessing\n",
    "df_news['tk'] = df_news['text_no_punc'].apply(lambda x: nltk.word_tokenize(x))\n",
    "df_news.head()"
   ]
  },
  {
   "cell_type": "markdown",
   "metadata": {
    "id": "rreSf7gCDeCQ"
   },
   "source": [
    "# 2. TF-IDF"
   ]
  },
  {
   "cell_type": "code",
   "execution_count": null,
   "metadata": {
    "id": "gnffujRMxovP"
   },
   "outputs": [],
   "source": [
    "def identity_tokenizer(text):\n",
    "    return text\n",
    "\n",
    "tfvec = TfidfVectorizer(lowercase=False, tokenizer=identity_tokenizer)\n",
    "df_tfvec = tfvec.fit_transform(df_news.tk.tolist()).todense()"
   ]
  },
  {
   "cell_type": "code",
   "execution_count": null,
   "metadata": {
    "colab": {
     "base_uri": "https://localhost:8080/"
    },
    "id": "aSRGX1hvxovP",
    "outputId": "180dba6f-3423-4eb6-b5fa-84041bd63a0f"
   },
   "outputs": [
    {
     "data": {
      "text/plain": [
       "3892"
      ]
     },
     "execution_count": 21,
     "metadata": {
      "tags": []
     },
     "output_type": "execute_result"
    }
   ],
   "source": [
    "len(tfvec.get_feature_names())"
   ]
  },
  {
   "cell_type": "code",
   "execution_count": null,
   "metadata": {
    "colab": {
     "base_uri": "https://localhost:8080/"
    },
    "id": "u_14-XZ1xovP",
    "outputId": "ac55ab54-8111-43c0-992a-a4afedbd760d"
   },
   "outputs": [
    {
     "data": {
      "text/plain": [
       "matrix([[0., 0., 0., ..., 0., 0., 0.],\n",
       "        [0., 0., 0., ..., 0., 0., 0.],\n",
       "        [0., 0., 0., ..., 0., 0., 0.],\n",
       "        ...,\n",
       "        [0., 0., 0., ..., 0., 0., 0.],\n",
       "        [0., 0., 0., ..., 0., 0., 0.],\n",
       "        [0., 0., 0., ..., 0., 0., 0.]])"
      ]
     },
     "execution_count": 22,
     "metadata": {
      "tags": []
     },
     "output_type": "execute_result"
    }
   ],
   "source": [
    "df_tfvec"
   ]
  },
  {
   "cell_type": "code",
   "execution_count": null,
   "metadata": {
    "colab": {
     "base_uri": "https://localhost:8080/",
     "height": 444
    },
    "id": "nnEimuexxovP",
    "outputId": "d231f402-6a14-43d4-97d3-9e79a6e951e1"
   },
   "outputs": [
    {
     "data": {
      "text/html": [
       "<div>\n",
       "<style scoped>\n",
       "    .dataframe tbody tr th:only-of-type {\n",
       "        vertical-align: middle;\n",
       "    }\n",
       "\n",
       "    .dataframe tbody tr th {\n",
       "        vertical-align: top;\n",
       "    }\n",
       "\n",
       "    .dataframe thead th {\n",
       "        text-align: right;\n",
       "    }\n",
       "</style>\n",
       "<table border=\"1\" class=\"dataframe\">\n",
       "  <thead>\n",
       "    <tr style=\"text-align: right;\">\n",
       "      <th></th>\n",
       "      <th>0</th>\n",
       "      <th>1</th>\n",
       "      <th>2</th>\n",
       "      <th>3</th>\n",
       "      <th>4</th>\n",
       "      <th>5</th>\n",
       "      <th>6</th>\n",
       "      <th>7</th>\n",
       "      <th>8</th>\n",
       "      <th>9</th>\n",
       "      <th>10</th>\n",
       "      <th>11</th>\n",
       "      <th>12</th>\n",
       "      <th>13</th>\n",
       "      <th>14</th>\n",
       "      <th>15</th>\n",
       "      <th>16</th>\n",
       "      <th>17</th>\n",
       "      <th>18</th>\n",
       "      <th>19</th>\n",
       "      <th>20</th>\n",
       "      <th>21</th>\n",
       "      <th>22</th>\n",
       "      <th>23</th>\n",
       "      <th>24</th>\n",
       "      <th>25</th>\n",
       "      <th>26</th>\n",
       "      <th>27</th>\n",
       "      <th>28</th>\n",
       "      <th>29</th>\n",
       "      <th>30</th>\n",
       "      <th>31</th>\n",
       "      <th>32</th>\n",
       "      <th>33</th>\n",
       "      <th>34</th>\n",
       "      <th>35</th>\n",
       "      <th>36</th>\n",
       "      <th>37</th>\n",
       "      <th>38</th>\n",
       "      <th>39</th>\n",
       "      <th>...</th>\n",
       "      <th>3852</th>\n",
       "      <th>3853</th>\n",
       "      <th>3854</th>\n",
       "      <th>3855</th>\n",
       "      <th>3856</th>\n",
       "      <th>3857</th>\n",
       "      <th>3858</th>\n",
       "      <th>3859</th>\n",
       "      <th>3860</th>\n",
       "      <th>3861</th>\n",
       "      <th>3862</th>\n",
       "      <th>3863</th>\n",
       "      <th>3864</th>\n",
       "      <th>3865</th>\n",
       "      <th>3866</th>\n",
       "      <th>3867</th>\n",
       "      <th>3868</th>\n",
       "      <th>3869</th>\n",
       "      <th>3870</th>\n",
       "      <th>3871</th>\n",
       "      <th>3872</th>\n",
       "      <th>3873</th>\n",
       "      <th>3874</th>\n",
       "      <th>3875</th>\n",
       "      <th>3876</th>\n",
       "      <th>3877</th>\n",
       "      <th>3878</th>\n",
       "      <th>3879</th>\n",
       "      <th>3880</th>\n",
       "      <th>3881</th>\n",
       "      <th>3882</th>\n",
       "      <th>3883</th>\n",
       "      <th>3884</th>\n",
       "      <th>3885</th>\n",
       "      <th>3886</th>\n",
       "      <th>3887</th>\n",
       "      <th>3888</th>\n",
       "      <th>3889</th>\n",
       "      <th>3890</th>\n",
       "      <th>3891</th>\n",
       "    </tr>\n",
       "  </thead>\n",
       "  <tbody>\n",
       "    <tr>\n",
       "      <th>0</th>\n",
       "      <td>0.0</td>\n",
       "      <td>0.0</td>\n",
       "      <td>0.0</td>\n",
       "      <td>0.0</td>\n",
       "      <td>0.0</td>\n",
       "      <td>0.0</td>\n",
       "      <td>0.0</td>\n",
       "      <td>0.0</td>\n",
       "      <td>0.0</td>\n",
       "      <td>0.0</td>\n",
       "      <td>0.0</td>\n",
       "      <td>0.0</td>\n",
       "      <td>0.0</td>\n",
       "      <td>0.0</td>\n",
       "      <td>0.0</td>\n",
       "      <td>0.0</td>\n",
       "      <td>0.0</td>\n",
       "      <td>0.0</td>\n",
       "      <td>0.0</td>\n",
       "      <td>0.0</td>\n",
       "      <td>0.0</td>\n",
       "      <td>0.0</td>\n",
       "      <td>0.0</td>\n",
       "      <td>0.0</td>\n",
       "      <td>0.0</td>\n",
       "      <td>0.000000</td>\n",
       "      <td>0.0</td>\n",
       "      <td>0.0</td>\n",
       "      <td>0.0</td>\n",
       "      <td>0.0</td>\n",
       "      <td>0.0</td>\n",
       "      <td>0.0</td>\n",
       "      <td>0.0</td>\n",
       "      <td>0.0</td>\n",
       "      <td>0.0</td>\n",
       "      <td>0.0</td>\n",
       "      <td>0.0</td>\n",
       "      <td>0.0</td>\n",
       "      <td>0.0</td>\n",
       "      <td>0.0</td>\n",
       "      <td>...</td>\n",
       "      <td>0.0</td>\n",
       "      <td>0.0</td>\n",
       "      <td>0.0</td>\n",
       "      <td>0.0</td>\n",
       "      <td>0.0</td>\n",
       "      <td>0.0</td>\n",
       "      <td>0.000000</td>\n",
       "      <td>0.0</td>\n",
       "      <td>0.0</td>\n",
       "      <td>0.0</td>\n",
       "      <td>0.0</td>\n",
       "      <td>0.0</td>\n",
       "      <td>0.0</td>\n",
       "      <td>0.0</td>\n",
       "      <td>0.0</td>\n",
       "      <td>0.0</td>\n",
       "      <td>0.0</td>\n",
       "      <td>0.0</td>\n",
       "      <td>0.0</td>\n",
       "      <td>0.0</td>\n",
       "      <td>0.0</td>\n",
       "      <td>0.0</td>\n",
       "      <td>0.0</td>\n",
       "      <td>0.0</td>\n",
       "      <td>0.0</td>\n",
       "      <td>0.0</td>\n",
       "      <td>0.0</td>\n",
       "      <td>0.000000</td>\n",
       "      <td>0.0</td>\n",
       "      <td>0.0</td>\n",
       "      <td>0.0</td>\n",
       "      <td>0.0</td>\n",
       "      <td>0.0</td>\n",
       "      <td>0.0</td>\n",
       "      <td>0.0</td>\n",
       "      <td>0.0</td>\n",
       "      <td>0.0</td>\n",
       "      <td>0.0</td>\n",
       "      <td>0.0</td>\n",
       "      <td>0.0</td>\n",
       "    </tr>\n",
       "    <tr>\n",
       "      <th>1</th>\n",
       "      <td>0.0</td>\n",
       "      <td>0.0</td>\n",
       "      <td>0.0</td>\n",
       "      <td>0.0</td>\n",
       "      <td>0.0</td>\n",
       "      <td>0.0</td>\n",
       "      <td>0.0</td>\n",
       "      <td>0.0</td>\n",
       "      <td>0.0</td>\n",
       "      <td>0.0</td>\n",
       "      <td>0.0</td>\n",
       "      <td>0.0</td>\n",
       "      <td>0.0</td>\n",
       "      <td>0.0</td>\n",
       "      <td>0.0</td>\n",
       "      <td>0.0</td>\n",
       "      <td>0.0</td>\n",
       "      <td>0.0</td>\n",
       "      <td>0.0</td>\n",
       "      <td>0.0</td>\n",
       "      <td>0.0</td>\n",
       "      <td>0.0</td>\n",
       "      <td>0.0</td>\n",
       "      <td>0.0</td>\n",
       "      <td>0.0</td>\n",
       "      <td>0.000000</td>\n",
       "      <td>0.0</td>\n",
       "      <td>0.0</td>\n",
       "      <td>0.0</td>\n",
       "      <td>0.0</td>\n",
       "      <td>0.0</td>\n",
       "      <td>0.0</td>\n",
       "      <td>0.0</td>\n",
       "      <td>0.0</td>\n",
       "      <td>0.0</td>\n",
       "      <td>0.0</td>\n",
       "      <td>0.0</td>\n",
       "      <td>0.0</td>\n",
       "      <td>0.0</td>\n",
       "      <td>0.0</td>\n",
       "      <td>...</td>\n",
       "      <td>0.0</td>\n",
       "      <td>0.0</td>\n",
       "      <td>0.0</td>\n",
       "      <td>0.0</td>\n",
       "      <td>0.0</td>\n",
       "      <td>0.0</td>\n",
       "      <td>0.000000</td>\n",
       "      <td>0.0</td>\n",
       "      <td>0.0</td>\n",
       "      <td>0.0</td>\n",
       "      <td>0.0</td>\n",
       "      <td>0.0</td>\n",
       "      <td>0.0</td>\n",
       "      <td>0.0</td>\n",
       "      <td>0.0</td>\n",
       "      <td>0.0</td>\n",
       "      <td>0.0</td>\n",
       "      <td>0.0</td>\n",
       "      <td>0.0</td>\n",
       "      <td>0.0</td>\n",
       "      <td>0.0</td>\n",
       "      <td>0.0</td>\n",
       "      <td>0.0</td>\n",
       "      <td>0.0</td>\n",
       "      <td>0.0</td>\n",
       "      <td>0.0</td>\n",
       "      <td>0.0</td>\n",
       "      <td>0.000000</td>\n",
       "      <td>0.0</td>\n",
       "      <td>0.0</td>\n",
       "      <td>0.0</td>\n",
       "      <td>0.0</td>\n",
       "      <td>0.0</td>\n",
       "      <td>0.0</td>\n",
       "      <td>0.0</td>\n",
       "      <td>0.0</td>\n",
       "      <td>0.0</td>\n",
       "      <td>0.0</td>\n",
       "      <td>0.0</td>\n",
       "      <td>0.0</td>\n",
       "    </tr>\n",
       "    <tr>\n",
       "      <th>2</th>\n",
       "      <td>0.0</td>\n",
       "      <td>0.0</td>\n",
       "      <td>0.0</td>\n",
       "      <td>0.0</td>\n",
       "      <td>0.0</td>\n",
       "      <td>0.0</td>\n",
       "      <td>0.0</td>\n",
       "      <td>0.0</td>\n",
       "      <td>0.0</td>\n",
       "      <td>0.0</td>\n",
       "      <td>0.0</td>\n",
       "      <td>0.0</td>\n",
       "      <td>0.0</td>\n",
       "      <td>0.0</td>\n",
       "      <td>0.0</td>\n",
       "      <td>0.0</td>\n",
       "      <td>0.0</td>\n",
       "      <td>0.0</td>\n",
       "      <td>0.0</td>\n",
       "      <td>0.0</td>\n",
       "      <td>0.0</td>\n",
       "      <td>0.0</td>\n",
       "      <td>0.0</td>\n",
       "      <td>0.0</td>\n",
       "      <td>0.0</td>\n",
       "      <td>0.000000</td>\n",
       "      <td>0.0</td>\n",
       "      <td>0.0</td>\n",
       "      <td>0.0</td>\n",
       "      <td>0.0</td>\n",
       "      <td>0.0</td>\n",
       "      <td>0.0</td>\n",
       "      <td>0.0</td>\n",
       "      <td>0.0</td>\n",
       "      <td>0.0</td>\n",
       "      <td>0.0</td>\n",
       "      <td>0.0</td>\n",
       "      <td>0.0</td>\n",
       "      <td>0.0</td>\n",
       "      <td>0.0</td>\n",
       "      <td>...</td>\n",
       "      <td>0.0</td>\n",
       "      <td>0.0</td>\n",
       "      <td>0.0</td>\n",
       "      <td>0.0</td>\n",
       "      <td>0.0</td>\n",
       "      <td>0.0</td>\n",
       "      <td>0.000000</td>\n",
       "      <td>0.0</td>\n",
       "      <td>0.0</td>\n",
       "      <td>0.0</td>\n",
       "      <td>0.0</td>\n",
       "      <td>0.0</td>\n",
       "      <td>0.0</td>\n",
       "      <td>0.0</td>\n",
       "      <td>0.0</td>\n",
       "      <td>0.0</td>\n",
       "      <td>0.0</td>\n",
       "      <td>0.0</td>\n",
       "      <td>0.0</td>\n",
       "      <td>0.0</td>\n",
       "      <td>0.0</td>\n",
       "      <td>0.0</td>\n",
       "      <td>0.0</td>\n",
       "      <td>0.0</td>\n",
       "      <td>0.0</td>\n",
       "      <td>0.0</td>\n",
       "      <td>0.0</td>\n",
       "      <td>0.000000</td>\n",
       "      <td>0.0</td>\n",
       "      <td>0.0</td>\n",
       "      <td>0.0</td>\n",
       "      <td>0.0</td>\n",
       "      <td>0.0</td>\n",
       "      <td>0.0</td>\n",
       "      <td>0.0</td>\n",
       "      <td>0.0</td>\n",
       "      <td>0.0</td>\n",
       "      <td>0.0</td>\n",
       "      <td>0.0</td>\n",
       "      <td>0.0</td>\n",
       "    </tr>\n",
       "    <tr>\n",
       "      <th>3</th>\n",
       "      <td>0.0</td>\n",
       "      <td>0.0</td>\n",
       "      <td>0.0</td>\n",
       "      <td>0.0</td>\n",
       "      <td>0.0</td>\n",
       "      <td>0.0</td>\n",
       "      <td>0.0</td>\n",
       "      <td>0.0</td>\n",
       "      <td>0.0</td>\n",
       "      <td>0.0</td>\n",
       "      <td>0.0</td>\n",
       "      <td>0.0</td>\n",
       "      <td>0.0</td>\n",
       "      <td>0.0</td>\n",
       "      <td>0.0</td>\n",
       "      <td>0.0</td>\n",
       "      <td>0.0</td>\n",
       "      <td>0.0</td>\n",
       "      <td>0.0</td>\n",
       "      <td>0.0</td>\n",
       "      <td>0.0</td>\n",
       "      <td>0.0</td>\n",
       "      <td>0.0</td>\n",
       "      <td>0.0</td>\n",
       "      <td>0.0</td>\n",
       "      <td>0.000000</td>\n",
       "      <td>0.0</td>\n",
       "      <td>0.0</td>\n",
       "      <td>0.0</td>\n",
       "      <td>0.0</td>\n",
       "      <td>0.0</td>\n",
       "      <td>0.0</td>\n",
       "      <td>0.0</td>\n",
       "      <td>0.0</td>\n",
       "      <td>0.0</td>\n",
       "      <td>0.0</td>\n",
       "      <td>0.0</td>\n",
       "      <td>0.0</td>\n",
       "      <td>0.0</td>\n",
       "      <td>0.0</td>\n",
       "      <td>...</td>\n",
       "      <td>0.0</td>\n",
       "      <td>0.0</td>\n",
       "      <td>0.0</td>\n",
       "      <td>0.0</td>\n",
       "      <td>0.0</td>\n",
       "      <td>0.0</td>\n",
       "      <td>0.000000</td>\n",
       "      <td>0.0</td>\n",
       "      <td>0.0</td>\n",
       "      <td>0.0</td>\n",
       "      <td>0.0</td>\n",
       "      <td>0.0</td>\n",
       "      <td>0.0</td>\n",
       "      <td>0.0</td>\n",
       "      <td>0.0</td>\n",
       "      <td>0.0</td>\n",
       "      <td>0.0</td>\n",
       "      <td>0.0</td>\n",
       "      <td>0.0</td>\n",
       "      <td>0.0</td>\n",
       "      <td>0.0</td>\n",
       "      <td>0.0</td>\n",
       "      <td>0.0</td>\n",
       "      <td>0.0</td>\n",
       "      <td>0.0</td>\n",
       "      <td>0.0</td>\n",
       "      <td>0.0</td>\n",
       "      <td>0.000000</td>\n",
       "      <td>0.0</td>\n",
       "      <td>0.0</td>\n",
       "      <td>0.0</td>\n",
       "      <td>0.0</td>\n",
       "      <td>0.0</td>\n",
       "      <td>0.0</td>\n",
       "      <td>0.0</td>\n",
       "      <td>0.0</td>\n",
       "      <td>0.0</td>\n",
       "      <td>0.0</td>\n",
       "      <td>0.0</td>\n",
       "      <td>0.0</td>\n",
       "    </tr>\n",
       "    <tr>\n",
       "      <th>4</th>\n",
       "      <td>0.0</td>\n",
       "      <td>0.0</td>\n",
       "      <td>0.0</td>\n",
       "      <td>0.0</td>\n",
       "      <td>0.0</td>\n",
       "      <td>0.0</td>\n",
       "      <td>0.0</td>\n",
       "      <td>0.0</td>\n",
       "      <td>0.0</td>\n",
       "      <td>0.0</td>\n",
       "      <td>0.0</td>\n",
       "      <td>0.0</td>\n",
       "      <td>0.0</td>\n",
       "      <td>0.0</td>\n",
       "      <td>0.0</td>\n",
       "      <td>0.0</td>\n",
       "      <td>0.0</td>\n",
       "      <td>0.0</td>\n",
       "      <td>0.0</td>\n",
       "      <td>0.0</td>\n",
       "      <td>0.0</td>\n",
       "      <td>0.0</td>\n",
       "      <td>0.0</td>\n",
       "      <td>0.0</td>\n",
       "      <td>0.0</td>\n",
       "      <td>0.000000</td>\n",
       "      <td>0.0</td>\n",
       "      <td>0.0</td>\n",
       "      <td>0.0</td>\n",
       "      <td>0.0</td>\n",
       "      <td>0.0</td>\n",
       "      <td>0.0</td>\n",
       "      <td>0.0</td>\n",
       "      <td>0.0</td>\n",
       "      <td>0.0</td>\n",
       "      <td>0.0</td>\n",
       "      <td>0.0</td>\n",
       "      <td>0.0</td>\n",
       "      <td>0.0</td>\n",
       "      <td>0.0</td>\n",
       "      <td>...</td>\n",
       "      <td>0.0</td>\n",
       "      <td>0.0</td>\n",
       "      <td>0.0</td>\n",
       "      <td>0.0</td>\n",
       "      <td>0.0</td>\n",
       "      <td>0.0</td>\n",
       "      <td>0.000000</td>\n",
       "      <td>0.0</td>\n",
       "      <td>0.0</td>\n",
       "      <td>0.0</td>\n",
       "      <td>0.0</td>\n",
       "      <td>0.0</td>\n",
       "      <td>0.0</td>\n",
       "      <td>0.0</td>\n",
       "      <td>0.0</td>\n",
       "      <td>0.0</td>\n",
       "      <td>0.0</td>\n",
       "      <td>0.0</td>\n",
       "      <td>0.0</td>\n",
       "      <td>0.0</td>\n",
       "      <td>0.0</td>\n",
       "      <td>0.0</td>\n",
       "      <td>0.0</td>\n",
       "      <td>0.0</td>\n",
       "      <td>0.0</td>\n",
       "      <td>0.0</td>\n",
       "      <td>0.0</td>\n",
       "      <td>0.262269</td>\n",
       "      <td>0.0</td>\n",
       "      <td>0.0</td>\n",
       "      <td>0.0</td>\n",
       "      <td>0.0</td>\n",
       "      <td>0.0</td>\n",
       "      <td>0.0</td>\n",
       "      <td>0.0</td>\n",
       "      <td>0.0</td>\n",
       "      <td>0.0</td>\n",
       "      <td>0.0</td>\n",
       "      <td>0.0</td>\n",
       "      <td>0.0</td>\n",
       "    </tr>\n",
       "    <tr>\n",
       "      <th>...</th>\n",
       "      <td>...</td>\n",
       "      <td>...</td>\n",
       "      <td>...</td>\n",
       "      <td>...</td>\n",
       "      <td>...</td>\n",
       "      <td>...</td>\n",
       "      <td>...</td>\n",
       "      <td>...</td>\n",
       "      <td>...</td>\n",
       "      <td>...</td>\n",
       "      <td>...</td>\n",
       "      <td>...</td>\n",
       "      <td>...</td>\n",
       "      <td>...</td>\n",
       "      <td>...</td>\n",
       "      <td>...</td>\n",
       "      <td>...</td>\n",
       "      <td>...</td>\n",
       "      <td>...</td>\n",
       "      <td>...</td>\n",
       "      <td>...</td>\n",
       "      <td>...</td>\n",
       "      <td>...</td>\n",
       "      <td>...</td>\n",
       "      <td>...</td>\n",
       "      <td>...</td>\n",
       "      <td>...</td>\n",
       "      <td>...</td>\n",
       "      <td>...</td>\n",
       "      <td>...</td>\n",
       "      <td>...</td>\n",
       "      <td>...</td>\n",
       "      <td>...</td>\n",
       "      <td>...</td>\n",
       "      <td>...</td>\n",
       "      <td>...</td>\n",
       "      <td>...</td>\n",
       "      <td>...</td>\n",
       "      <td>...</td>\n",
       "      <td>...</td>\n",
       "      <td>...</td>\n",
       "      <td>...</td>\n",
       "      <td>...</td>\n",
       "      <td>...</td>\n",
       "      <td>...</td>\n",
       "      <td>...</td>\n",
       "      <td>...</td>\n",
       "      <td>...</td>\n",
       "      <td>...</td>\n",
       "      <td>...</td>\n",
       "      <td>...</td>\n",
       "      <td>...</td>\n",
       "      <td>...</td>\n",
       "      <td>...</td>\n",
       "      <td>...</td>\n",
       "      <td>...</td>\n",
       "      <td>...</td>\n",
       "      <td>...</td>\n",
       "      <td>...</td>\n",
       "      <td>...</td>\n",
       "      <td>...</td>\n",
       "      <td>...</td>\n",
       "      <td>...</td>\n",
       "      <td>...</td>\n",
       "      <td>...</td>\n",
       "      <td>...</td>\n",
       "      <td>...</td>\n",
       "      <td>...</td>\n",
       "      <td>...</td>\n",
       "      <td>...</td>\n",
       "      <td>...</td>\n",
       "      <td>...</td>\n",
       "      <td>...</td>\n",
       "      <td>...</td>\n",
       "      <td>...</td>\n",
       "      <td>...</td>\n",
       "      <td>...</td>\n",
       "      <td>...</td>\n",
       "      <td>...</td>\n",
       "      <td>...</td>\n",
       "      <td>...</td>\n",
       "    </tr>\n",
       "    <tr>\n",
       "      <th>1094</th>\n",
       "      <td>0.0</td>\n",
       "      <td>0.0</td>\n",
       "      <td>0.0</td>\n",
       "      <td>0.0</td>\n",
       "      <td>0.0</td>\n",
       "      <td>0.0</td>\n",
       "      <td>0.0</td>\n",
       "      <td>0.0</td>\n",
       "      <td>0.0</td>\n",
       "      <td>0.0</td>\n",
       "      <td>0.0</td>\n",
       "      <td>0.0</td>\n",
       "      <td>0.0</td>\n",
       "      <td>0.0</td>\n",
       "      <td>0.0</td>\n",
       "      <td>0.0</td>\n",
       "      <td>0.0</td>\n",
       "      <td>0.0</td>\n",
       "      <td>0.0</td>\n",
       "      <td>0.0</td>\n",
       "      <td>0.0</td>\n",
       "      <td>0.0</td>\n",
       "      <td>0.0</td>\n",
       "      <td>0.0</td>\n",
       "      <td>0.0</td>\n",
       "      <td>0.000000</td>\n",
       "      <td>0.0</td>\n",
       "      <td>0.0</td>\n",
       "      <td>0.0</td>\n",
       "      <td>0.0</td>\n",
       "      <td>0.0</td>\n",
       "      <td>0.0</td>\n",
       "      <td>0.0</td>\n",
       "      <td>0.0</td>\n",
       "      <td>0.0</td>\n",
       "      <td>0.0</td>\n",
       "      <td>0.0</td>\n",
       "      <td>0.0</td>\n",
       "      <td>0.0</td>\n",
       "      <td>0.0</td>\n",
       "      <td>...</td>\n",
       "      <td>0.0</td>\n",
       "      <td>0.0</td>\n",
       "      <td>0.0</td>\n",
       "      <td>0.0</td>\n",
       "      <td>0.0</td>\n",
       "      <td>0.0</td>\n",
       "      <td>0.000000</td>\n",
       "      <td>0.0</td>\n",
       "      <td>0.0</td>\n",
       "      <td>0.0</td>\n",
       "      <td>0.0</td>\n",
       "      <td>0.0</td>\n",
       "      <td>0.0</td>\n",
       "      <td>0.0</td>\n",
       "      <td>0.0</td>\n",
       "      <td>0.0</td>\n",
       "      <td>0.0</td>\n",
       "      <td>0.0</td>\n",
       "      <td>0.0</td>\n",
       "      <td>0.0</td>\n",
       "      <td>0.0</td>\n",
       "      <td>0.0</td>\n",
       "      <td>0.0</td>\n",
       "      <td>0.0</td>\n",
       "      <td>0.0</td>\n",
       "      <td>0.0</td>\n",
       "      <td>0.0</td>\n",
       "      <td>0.000000</td>\n",
       "      <td>0.0</td>\n",
       "      <td>0.0</td>\n",
       "      <td>0.0</td>\n",
       "      <td>0.0</td>\n",
       "      <td>0.0</td>\n",
       "      <td>0.0</td>\n",
       "      <td>0.0</td>\n",
       "      <td>0.0</td>\n",
       "      <td>0.0</td>\n",
       "      <td>0.0</td>\n",
       "      <td>0.0</td>\n",
       "      <td>0.0</td>\n",
       "    </tr>\n",
       "    <tr>\n",
       "      <th>1095</th>\n",
       "      <td>0.0</td>\n",
       "      <td>0.0</td>\n",
       "      <td>0.0</td>\n",
       "      <td>0.0</td>\n",
       "      <td>0.0</td>\n",
       "      <td>0.0</td>\n",
       "      <td>0.0</td>\n",
       "      <td>0.0</td>\n",
       "      <td>0.0</td>\n",
       "      <td>0.0</td>\n",
       "      <td>0.0</td>\n",
       "      <td>0.0</td>\n",
       "      <td>0.0</td>\n",
       "      <td>0.0</td>\n",
       "      <td>0.0</td>\n",
       "      <td>0.0</td>\n",
       "      <td>0.0</td>\n",
       "      <td>0.0</td>\n",
       "      <td>0.0</td>\n",
       "      <td>0.0</td>\n",
       "      <td>0.0</td>\n",
       "      <td>0.0</td>\n",
       "      <td>0.0</td>\n",
       "      <td>0.0</td>\n",
       "      <td>0.0</td>\n",
       "      <td>0.000000</td>\n",
       "      <td>0.0</td>\n",
       "      <td>0.0</td>\n",
       "      <td>0.0</td>\n",
       "      <td>0.0</td>\n",
       "      <td>0.0</td>\n",
       "      <td>0.0</td>\n",
       "      <td>0.0</td>\n",
       "      <td>0.0</td>\n",
       "      <td>0.0</td>\n",
       "      <td>0.0</td>\n",
       "      <td>0.0</td>\n",
       "      <td>0.0</td>\n",
       "      <td>0.0</td>\n",
       "      <td>0.0</td>\n",
       "      <td>...</td>\n",
       "      <td>0.0</td>\n",
       "      <td>0.0</td>\n",
       "      <td>0.0</td>\n",
       "      <td>0.0</td>\n",
       "      <td>0.0</td>\n",
       "      <td>0.0</td>\n",
       "      <td>0.000000</td>\n",
       "      <td>0.0</td>\n",
       "      <td>0.0</td>\n",
       "      <td>0.0</td>\n",
       "      <td>0.0</td>\n",
       "      <td>0.0</td>\n",
       "      <td>0.0</td>\n",
       "      <td>0.0</td>\n",
       "      <td>0.0</td>\n",
       "      <td>0.0</td>\n",
       "      <td>0.0</td>\n",
       "      <td>0.0</td>\n",
       "      <td>0.0</td>\n",
       "      <td>0.0</td>\n",
       "      <td>0.0</td>\n",
       "      <td>0.0</td>\n",
       "      <td>0.0</td>\n",
       "      <td>0.0</td>\n",
       "      <td>0.0</td>\n",
       "      <td>0.0</td>\n",
       "      <td>0.0</td>\n",
       "      <td>0.000000</td>\n",
       "      <td>0.0</td>\n",
       "      <td>0.0</td>\n",
       "      <td>0.0</td>\n",
       "      <td>0.0</td>\n",
       "      <td>0.0</td>\n",
       "      <td>0.0</td>\n",
       "      <td>0.0</td>\n",
       "      <td>0.0</td>\n",
       "      <td>0.0</td>\n",
       "      <td>0.0</td>\n",
       "      <td>0.0</td>\n",
       "      <td>0.0</td>\n",
       "    </tr>\n",
       "    <tr>\n",
       "      <th>1096</th>\n",
       "      <td>0.0</td>\n",
       "      <td>0.0</td>\n",
       "      <td>0.0</td>\n",
       "      <td>0.0</td>\n",
       "      <td>0.0</td>\n",
       "      <td>0.0</td>\n",
       "      <td>0.0</td>\n",
       "      <td>0.0</td>\n",
       "      <td>0.0</td>\n",
       "      <td>0.0</td>\n",
       "      <td>0.0</td>\n",
       "      <td>0.0</td>\n",
       "      <td>0.0</td>\n",
       "      <td>0.0</td>\n",
       "      <td>0.0</td>\n",
       "      <td>0.0</td>\n",
       "      <td>0.0</td>\n",
       "      <td>0.0</td>\n",
       "      <td>0.0</td>\n",
       "      <td>0.0</td>\n",
       "      <td>0.0</td>\n",
       "      <td>0.0</td>\n",
       "      <td>0.0</td>\n",
       "      <td>0.0</td>\n",
       "      <td>0.0</td>\n",
       "      <td>0.000000</td>\n",
       "      <td>0.0</td>\n",
       "      <td>0.0</td>\n",
       "      <td>0.0</td>\n",
       "      <td>0.0</td>\n",
       "      <td>0.0</td>\n",
       "      <td>0.0</td>\n",
       "      <td>0.0</td>\n",
       "      <td>0.0</td>\n",
       "      <td>0.0</td>\n",
       "      <td>0.0</td>\n",
       "      <td>0.0</td>\n",
       "      <td>0.0</td>\n",
       "      <td>0.0</td>\n",
       "      <td>0.0</td>\n",
       "      <td>...</td>\n",
       "      <td>0.0</td>\n",
       "      <td>0.0</td>\n",
       "      <td>0.0</td>\n",
       "      <td>0.0</td>\n",
       "      <td>0.0</td>\n",
       "      <td>0.0</td>\n",
       "      <td>0.000000</td>\n",
       "      <td>0.0</td>\n",
       "      <td>0.0</td>\n",
       "      <td>0.0</td>\n",
       "      <td>0.0</td>\n",
       "      <td>0.0</td>\n",
       "      <td>0.0</td>\n",
       "      <td>0.0</td>\n",
       "      <td>0.0</td>\n",
       "      <td>0.0</td>\n",
       "      <td>0.0</td>\n",
       "      <td>0.0</td>\n",
       "      <td>0.0</td>\n",
       "      <td>0.0</td>\n",
       "      <td>0.0</td>\n",
       "      <td>0.0</td>\n",
       "      <td>0.0</td>\n",
       "      <td>0.0</td>\n",
       "      <td>0.0</td>\n",
       "      <td>0.0</td>\n",
       "      <td>0.0</td>\n",
       "      <td>0.000000</td>\n",
       "      <td>0.0</td>\n",
       "      <td>0.0</td>\n",
       "      <td>0.0</td>\n",
       "      <td>0.0</td>\n",
       "      <td>0.0</td>\n",
       "      <td>0.0</td>\n",
       "      <td>0.0</td>\n",
       "      <td>0.0</td>\n",
       "      <td>0.0</td>\n",
       "      <td>0.0</td>\n",
       "      <td>0.0</td>\n",
       "      <td>0.0</td>\n",
       "    </tr>\n",
       "    <tr>\n",
       "      <th>1097</th>\n",
       "      <td>0.0</td>\n",
       "      <td>0.0</td>\n",
       "      <td>0.0</td>\n",
       "      <td>0.0</td>\n",
       "      <td>0.0</td>\n",
       "      <td>0.0</td>\n",
       "      <td>0.0</td>\n",
       "      <td>0.0</td>\n",
       "      <td>0.0</td>\n",
       "      <td>0.0</td>\n",
       "      <td>0.0</td>\n",
       "      <td>0.0</td>\n",
       "      <td>0.0</td>\n",
       "      <td>0.0</td>\n",
       "      <td>0.0</td>\n",
       "      <td>0.0</td>\n",
       "      <td>0.0</td>\n",
       "      <td>0.0</td>\n",
       "      <td>0.0</td>\n",
       "      <td>0.0</td>\n",
       "      <td>0.0</td>\n",
       "      <td>0.0</td>\n",
       "      <td>0.0</td>\n",
       "      <td>0.0</td>\n",
       "      <td>0.0</td>\n",
       "      <td>0.000000</td>\n",
       "      <td>0.0</td>\n",
       "      <td>0.0</td>\n",
       "      <td>0.0</td>\n",
       "      <td>0.0</td>\n",
       "      <td>0.0</td>\n",
       "      <td>0.0</td>\n",
       "      <td>0.0</td>\n",
       "      <td>0.0</td>\n",
       "      <td>0.0</td>\n",
       "      <td>0.0</td>\n",
       "      <td>0.0</td>\n",
       "      <td>0.0</td>\n",
       "      <td>0.0</td>\n",
       "      <td>0.0</td>\n",
       "      <td>...</td>\n",
       "      <td>0.0</td>\n",
       "      <td>0.0</td>\n",
       "      <td>0.0</td>\n",
       "      <td>0.0</td>\n",
       "      <td>0.0</td>\n",
       "      <td>0.0</td>\n",
       "      <td>0.000000</td>\n",
       "      <td>0.0</td>\n",
       "      <td>0.0</td>\n",
       "      <td>0.0</td>\n",
       "      <td>0.0</td>\n",
       "      <td>0.0</td>\n",
       "      <td>0.0</td>\n",
       "      <td>0.0</td>\n",
       "      <td>0.0</td>\n",
       "      <td>0.0</td>\n",
       "      <td>0.0</td>\n",
       "      <td>0.0</td>\n",
       "      <td>0.0</td>\n",
       "      <td>0.0</td>\n",
       "      <td>0.0</td>\n",
       "      <td>0.0</td>\n",
       "      <td>0.0</td>\n",
       "      <td>0.0</td>\n",
       "      <td>0.0</td>\n",
       "      <td>0.0</td>\n",
       "      <td>0.0</td>\n",
       "      <td>0.000000</td>\n",
       "      <td>0.0</td>\n",
       "      <td>0.0</td>\n",
       "      <td>0.0</td>\n",
       "      <td>0.0</td>\n",
       "      <td>0.0</td>\n",
       "      <td>0.0</td>\n",
       "      <td>0.0</td>\n",
       "      <td>0.0</td>\n",
       "      <td>0.0</td>\n",
       "      <td>0.0</td>\n",
       "      <td>0.0</td>\n",
       "      <td>0.0</td>\n",
       "    </tr>\n",
       "    <tr>\n",
       "      <th>1098</th>\n",
       "      <td>0.0</td>\n",
       "      <td>0.0</td>\n",
       "      <td>0.0</td>\n",
       "      <td>0.0</td>\n",
       "      <td>0.0</td>\n",
       "      <td>0.0</td>\n",
       "      <td>0.0</td>\n",
       "      <td>0.0</td>\n",
       "      <td>0.0</td>\n",
       "      <td>0.0</td>\n",
       "      <td>0.0</td>\n",
       "      <td>0.0</td>\n",
       "      <td>0.0</td>\n",
       "      <td>0.0</td>\n",
       "      <td>0.0</td>\n",
       "      <td>0.0</td>\n",
       "      <td>0.0</td>\n",
       "      <td>0.0</td>\n",
       "      <td>0.0</td>\n",
       "      <td>0.0</td>\n",
       "      <td>0.0</td>\n",
       "      <td>0.0</td>\n",
       "      <td>0.0</td>\n",
       "      <td>0.0</td>\n",
       "      <td>0.0</td>\n",
       "      <td>0.189527</td>\n",
       "      <td>0.0</td>\n",
       "      <td>0.0</td>\n",
       "      <td>0.0</td>\n",
       "      <td>0.0</td>\n",
       "      <td>0.0</td>\n",
       "      <td>0.0</td>\n",
       "      <td>0.0</td>\n",
       "      <td>0.0</td>\n",
       "      <td>0.0</td>\n",
       "      <td>0.0</td>\n",
       "      <td>0.0</td>\n",
       "      <td>0.0</td>\n",
       "      <td>0.0</td>\n",
       "      <td>0.0</td>\n",
       "      <td>...</td>\n",
       "      <td>0.0</td>\n",
       "      <td>0.0</td>\n",
       "      <td>0.0</td>\n",
       "      <td>0.0</td>\n",
       "      <td>0.0</td>\n",
       "      <td>0.0</td>\n",
       "      <td>0.161568</td>\n",
       "      <td>0.0</td>\n",
       "      <td>0.0</td>\n",
       "      <td>0.0</td>\n",
       "      <td>0.0</td>\n",
       "      <td>0.0</td>\n",
       "      <td>0.0</td>\n",
       "      <td>0.0</td>\n",
       "      <td>0.0</td>\n",
       "      <td>0.0</td>\n",
       "      <td>0.0</td>\n",
       "      <td>0.0</td>\n",
       "      <td>0.0</td>\n",
       "      <td>0.0</td>\n",
       "      <td>0.0</td>\n",
       "      <td>0.0</td>\n",
       "      <td>0.0</td>\n",
       "      <td>0.0</td>\n",
       "      <td>0.0</td>\n",
       "      <td>0.0</td>\n",
       "      <td>0.0</td>\n",
       "      <td>0.000000</td>\n",
       "      <td>0.0</td>\n",
       "      <td>0.0</td>\n",
       "      <td>0.0</td>\n",
       "      <td>0.0</td>\n",
       "      <td>0.0</td>\n",
       "      <td>0.0</td>\n",
       "      <td>0.0</td>\n",
       "      <td>0.0</td>\n",
       "      <td>0.0</td>\n",
       "      <td>0.0</td>\n",
       "      <td>0.0</td>\n",
       "      <td>0.0</td>\n",
       "    </tr>\n",
       "  </tbody>\n",
       "</table>\n",
       "<p>1099 rows × 3892 columns</p>\n",
       "</div>"
      ],
      "text/plain": [
       "      0     1     2     3     4     5     ...  3886  3887  3888  3889  3890  3891\n",
       "0      0.0   0.0   0.0   0.0   0.0   0.0  ...   0.0   0.0   0.0   0.0   0.0   0.0\n",
       "1      0.0   0.0   0.0   0.0   0.0   0.0  ...   0.0   0.0   0.0   0.0   0.0   0.0\n",
       "2      0.0   0.0   0.0   0.0   0.0   0.0  ...   0.0   0.0   0.0   0.0   0.0   0.0\n",
       "3      0.0   0.0   0.0   0.0   0.0   0.0  ...   0.0   0.0   0.0   0.0   0.0   0.0\n",
       "4      0.0   0.0   0.0   0.0   0.0   0.0  ...   0.0   0.0   0.0   0.0   0.0   0.0\n",
       "...    ...   ...   ...   ...   ...   ...  ...   ...   ...   ...   ...   ...   ...\n",
       "1094   0.0   0.0   0.0   0.0   0.0   0.0  ...   0.0   0.0   0.0   0.0   0.0   0.0\n",
       "1095   0.0   0.0   0.0   0.0   0.0   0.0  ...   0.0   0.0   0.0   0.0   0.0   0.0\n",
       "1096   0.0   0.0   0.0   0.0   0.0   0.0  ...   0.0   0.0   0.0   0.0   0.0   0.0\n",
       "1097   0.0   0.0   0.0   0.0   0.0   0.0  ...   0.0   0.0   0.0   0.0   0.0   0.0\n",
       "1098   0.0   0.0   0.0   0.0   0.0   0.0  ...   0.0   0.0   0.0   0.0   0.0   0.0\n",
       "\n",
       "[1099 rows x 3892 columns]"
      ]
     },
     "execution_count": 23,
     "metadata": {
      "tags": []
     },
     "output_type": "execute_result"
    }
   ],
   "source": [
    "df_tfidf = pd.DataFrame(df_tfvec)\n",
    "df_tfidf"
   ]
  },
  {
   "cell_type": "code",
   "execution_count": null,
   "metadata": {
    "id": "-QAD3VxuxovQ"
   },
   "outputs": [],
   "source": [
    "temp = np.empty(df_tfidf.shape[0], dtype=object)\n",
    "temp[:] = df_tfidf.values.tolist()"
   ]
  },
  {
   "cell_type": "code",
   "execution_count": null,
   "metadata": {
    "colab": {
     "base_uri": "https://localhost:8080/",
     "height": 424
    },
    "id": "2_EE0Y3NxovQ",
    "outputId": "d54a5df1-049f-4f05-8ba6-ca8f0d7caedd"
   },
   "outputs": [
    {
     "data": {
      "text/html": [
       "<div>\n",
       "<style scoped>\n",
       "    .dataframe tbody tr th:only-of-type {\n",
       "        vertical-align: middle;\n",
       "    }\n",
       "\n",
       "    .dataframe tbody tr th {\n",
       "        vertical-align: top;\n",
       "    }\n",
       "\n",
       "    .dataframe thead th {\n",
       "        text-align: right;\n",
       "    }\n",
       "</style>\n",
       "<table border=\"1\" class=\"dataframe\">\n",
       "  <thead>\n",
       "    <tr style=\"text-align: right;\">\n",
       "      <th></th>\n",
       "      <th>tfidf</th>\n",
       "    </tr>\n",
       "  </thead>\n",
       "  <tbody>\n",
       "    <tr>\n",
       "      <th>0</th>\n",
       "      <td>[0.0, 0.0, 0.0, 0.0, 0.0, 0.0, 0.0, 0.0, 0.0, ...</td>\n",
       "    </tr>\n",
       "    <tr>\n",
       "      <th>1</th>\n",
       "      <td>[0.0, 0.0, 0.0, 0.0, 0.0, 0.0, 0.0, 0.0, 0.0, ...</td>\n",
       "    </tr>\n",
       "    <tr>\n",
       "      <th>2</th>\n",
       "      <td>[0.0, 0.0, 0.0, 0.0, 0.0, 0.0, 0.0, 0.0, 0.0, ...</td>\n",
       "    </tr>\n",
       "    <tr>\n",
       "      <th>3</th>\n",
       "      <td>[0.0, 0.0, 0.0, 0.0, 0.0, 0.0, 0.0, 0.0, 0.0, ...</td>\n",
       "    </tr>\n",
       "    <tr>\n",
       "      <th>4</th>\n",
       "      <td>[0.0, 0.0, 0.0, 0.0, 0.0, 0.0, 0.0, 0.0, 0.0, ...</td>\n",
       "    </tr>\n",
       "    <tr>\n",
       "      <th>...</th>\n",
       "      <td>...</td>\n",
       "    </tr>\n",
       "    <tr>\n",
       "      <th>1094</th>\n",
       "      <td>[0.0, 0.0, 0.0, 0.0, 0.0, 0.0, 0.0, 0.0, 0.0, ...</td>\n",
       "    </tr>\n",
       "    <tr>\n",
       "      <th>1095</th>\n",
       "      <td>[0.0, 0.0, 0.0, 0.0, 0.0, 0.0, 0.0, 0.0, 0.0, ...</td>\n",
       "    </tr>\n",
       "    <tr>\n",
       "      <th>1096</th>\n",
       "      <td>[0.0, 0.0, 0.0, 0.0, 0.0, 0.0, 0.0, 0.0, 0.0, ...</td>\n",
       "    </tr>\n",
       "    <tr>\n",
       "      <th>1097</th>\n",
       "      <td>[0.0, 0.0, 0.0, 0.0, 0.0, 0.0, 0.0, 0.0, 0.0, ...</td>\n",
       "    </tr>\n",
       "    <tr>\n",
       "      <th>1098</th>\n",
       "      <td>[0.0, 0.0, 0.0, 0.0, 0.0, 0.0, 0.0, 0.0, 0.0, ...</td>\n",
       "    </tr>\n",
       "  </tbody>\n",
       "</table>\n",
       "<p>1099 rows × 1 columns</p>\n",
       "</div>"
      ],
      "text/plain": [
       "                                                  tfidf\n",
       "0     [0.0, 0.0, 0.0, 0.0, 0.0, 0.0, 0.0, 0.0, 0.0, ...\n",
       "1     [0.0, 0.0, 0.0, 0.0, 0.0, 0.0, 0.0, 0.0, 0.0, ...\n",
       "2     [0.0, 0.0, 0.0, 0.0, 0.0, 0.0, 0.0, 0.0, 0.0, ...\n",
       "3     [0.0, 0.0, 0.0, 0.0, 0.0, 0.0, 0.0, 0.0, 0.0, ...\n",
       "4     [0.0, 0.0, 0.0, 0.0, 0.0, 0.0, 0.0, 0.0, 0.0, ...\n",
       "...                                                 ...\n",
       "1094  [0.0, 0.0, 0.0, 0.0, 0.0, 0.0, 0.0, 0.0, 0.0, ...\n",
       "1095  [0.0, 0.0, 0.0, 0.0, 0.0, 0.0, 0.0, 0.0, 0.0, ...\n",
       "1096  [0.0, 0.0, 0.0, 0.0, 0.0, 0.0, 0.0, 0.0, 0.0, ...\n",
       "1097  [0.0, 0.0, 0.0, 0.0, 0.0, 0.0, 0.0, 0.0, 0.0, ...\n",
       "1098  [0.0, 0.0, 0.0, 0.0, 0.0, 0.0, 0.0, 0.0, 0.0, ...\n",
       "\n",
       "[1099 rows x 1 columns]"
      ]
     },
     "execution_count": 25,
     "metadata": {
      "tags": []
     },
     "output_type": "execute_result"
    }
   ],
   "source": [
    "df_temp = pd.DataFrame(temp, columns=['tfidf'])\n",
    "df_temp"
   ]
  },
  {
   "cell_type": "code",
   "execution_count": null,
   "metadata": {
    "colab": {
     "base_uri": "https://localhost:8080/",
     "height": 293
    },
    "id": "pYrUc4OMxovQ",
    "outputId": "a6ec069d-fe04-4a05-e1e2-de9d8a58cf31"
   },
   "outputs": [
    {
     "data": {
      "text/html": [
       "<div>\n",
       "<style scoped>\n",
       "    .dataframe tbody tr th:only-of-type {\n",
       "        vertical-align: middle;\n",
       "    }\n",
       "\n",
       "    .dataframe tbody tr th {\n",
       "        vertical-align: top;\n",
       "    }\n",
       "\n",
       "    .dataframe thead th {\n",
       "        text-align: right;\n",
       "    }\n",
       "</style>\n",
       "<table border=\"1\" class=\"dataframe\">\n",
       "  <thead>\n",
       "    <tr style=\"text-align: right;\">\n",
       "      <th></th>\n",
       "      <th>Date</th>\n",
       "      <th>Title</th>\n",
       "      <th>text_decont</th>\n",
       "      <th>text_no_punc</th>\n",
       "      <th>tk</th>\n",
       "      <th>tfidf</th>\n",
       "    </tr>\n",
       "  </thead>\n",
       "  <tbody>\n",
       "    <tr>\n",
       "      <th>0</th>\n",
       "      <td>2012-05-21</td>\n",
       "      <td>Boot up: web v apps, Google v France, the iPho...</td>\n",
       "      <td>boot up: web v apps, google v france, the ipho...</td>\n",
       "      <td>boot up  web v apps  google v france  the ipho...</td>\n",
       "      <td>[boot, up, web, v, apps, google, v, france, th...</td>\n",
       "      <td>[0.0, 0.0, 0.0, 0.0, 0.0, 0.0, 0.0, 0.0, 0.0, ...</td>\n",
       "    </tr>\n",
       "    <tr>\n",
       "      <th>1</th>\n",
       "      <td>2012-05-24</td>\n",
       "      <td>Boot up: Facebook's coming crash, iPhone gende...</td>\n",
       "      <td>boot up: facebook is coming crash, iphone gend...</td>\n",
       "      <td>boot up  facebook is coming crash  iphone gend...</td>\n",
       "      <td>[boot, up, facebook, is, coming, crash, iphone...</td>\n",
       "      <td>[0.0, 0.0, 0.0, 0.0, 0.0, 0.0, 0.0, 0.0, 0.0, ...</td>\n",
       "    </tr>\n",
       "    <tr>\n",
       "      <th>2</th>\n",
       "      <td>2012-05-28</td>\n",
       "      <td>Apple chief Tim Cook opts out of $75m dividend...</td>\n",
       "      <td>apple chief tim cook opts out of $75m dividend...</td>\n",
       "      <td>apple chief tim cook opts out of  75m dividend...</td>\n",
       "      <td>[apple, chief, tim, cook, opts, out, of, 75m, ...</td>\n",
       "      <td>[0.0, 0.0, 0.0, 0.0, 0.0, 0.0, 0.0, 0.0, 0.0, ...</td>\n",
       "    </tr>\n",
       "    <tr>\n",
       "      <th>3</th>\n",
       "      <td>2012-06-04</td>\n",
       "      <td>Boot up: iPhone v Lumia, shiny Chromebook?, Fl...</td>\n",
       "      <td>boot up: iphone v lumia, shiny chromebook?, fl...</td>\n",
       "      <td>boot up  iphone v lumia  shiny chromebook   fl...</td>\n",
       "      <td>[boot, up, iphone, v, lumia, shiny, chromebook...</td>\n",
       "      <td>[0.0, 0.0, 0.0, 0.0, 0.0, 0.0, 0.0, 0.0, 0.0, ...</td>\n",
       "    </tr>\n",
       "    <tr>\n",
       "      <th>4</th>\n",
       "      <td>2012-06-07</td>\n",
       "      <td>30/30 app brings pay-what-you-like pricing to ...</td>\n",
       "      <td>30/30 app brings pay-what-you-like pricing to ...</td>\n",
       "      <td>30 30 app brings pay what you like pricing to ...</td>\n",
       "      <td>[30, 30, app, brings, pay, what, you, like, pr...</td>\n",
       "      <td>[0.0, 0.0, 0.0, 0.0, 0.0, 0.0, 0.0, 0.0, 0.0, ...</td>\n",
       "    </tr>\n",
       "  </tbody>\n",
       "</table>\n",
       "</div>"
      ],
      "text/plain": [
       "         Date  ...                                              tfidf\n",
       "0  2012-05-21  ...  [0.0, 0.0, 0.0, 0.0, 0.0, 0.0, 0.0, 0.0, 0.0, ...\n",
       "1  2012-05-24  ...  [0.0, 0.0, 0.0, 0.0, 0.0, 0.0, 0.0, 0.0, 0.0, ...\n",
       "2  2012-05-28  ...  [0.0, 0.0, 0.0, 0.0, 0.0, 0.0, 0.0, 0.0, 0.0, ...\n",
       "3  2012-06-04  ...  [0.0, 0.0, 0.0, 0.0, 0.0, 0.0, 0.0, 0.0, 0.0, ...\n",
       "4  2012-06-07  ...  [0.0, 0.0, 0.0, 0.0, 0.0, 0.0, 0.0, 0.0, 0.0, ...\n",
       "\n",
       "[5 rows x 6 columns]"
      ]
     },
     "execution_count": 26,
     "metadata": {
      "tags": []
     },
     "output_type": "execute_result"
    }
   ],
   "source": [
    "df_news = df_news.join(df_temp)\n",
    "df_news.head()"
   ]
  },
  {
   "cell_type": "markdown",
   "metadata": {
    "id": "ATsGq5jRAafn"
   },
   "source": [
    "## Load Stock Price Data"
   ]
  },
  {
   "cell_type": "code",
   "execution_count": null,
   "metadata": {
    "colab": {
     "base_uri": "https://localhost:8080/",
     "height": 206
    },
    "id": "ys7Vm3ylxovQ",
    "outputId": "da0e674a-39ff-4d42-d971-4480023a0b61"
   },
   "outputs": [
    {
     "data": {
      "text/html": [
       "<div>\n",
       "<style scoped>\n",
       "    .dataframe tbody tr th:only-of-type {\n",
       "        vertical-align: middle;\n",
       "    }\n",
       "\n",
       "    .dataframe tbody tr th {\n",
       "        vertical-align: top;\n",
       "    }\n",
       "\n",
       "    .dataframe thead th {\n",
       "        text-align: right;\n",
       "    }\n",
       "</style>\n",
       "<table border=\"1\" class=\"dataframe\">\n",
       "  <thead>\n",
       "    <tr style=\"text-align: right;\">\n",
       "      <th></th>\n",
       "      <th>Date</th>\n",
       "      <th>Close</th>\n",
       "    </tr>\n",
       "  </thead>\n",
       "  <tbody>\n",
       "    <tr>\n",
       "      <th>0</th>\n",
       "      <td>5/18/2012 16:00:00</td>\n",
       "      <td>18.94</td>\n",
       "    </tr>\n",
       "    <tr>\n",
       "      <th>1</th>\n",
       "      <td>5/21/2012 16:00:00</td>\n",
       "      <td>20.05</td>\n",
       "    </tr>\n",
       "    <tr>\n",
       "      <th>2</th>\n",
       "      <td>5/22/2012 16:00:00</td>\n",
       "      <td>19.89</td>\n",
       "    </tr>\n",
       "    <tr>\n",
       "      <th>3</th>\n",
       "      <td>5/23/2012 16:00:00</td>\n",
       "      <td>20.38</td>\n",
       "    </tr>\n",
       "    <tr>\n",
       "      <th>4</th>\n",
       "      <td>5/24/2012 16:00:00</td>\n",
       "      <td>20.19</td>\n",
       "    </tr>\n",
       "  </tbody>\n",
       "</table>\n",
       "</div>"
      ],
      "text/plain": [
       "                 Date  Close\n",
       "0  5/18/2012 16:00:00  18.94\n",
       "1  5/21/2012 16:00:00  20.05\n",
       "2  5/22/2012 16:00:00  19.89\n",
       "3  5/23/2012 16:00:00  20.38\n",
       "4  5/24/2012 16:00:00  20.19"
      ]
     },
     "execution_count": 27,
     "metadata": {
      "tags": []
     },
     "output_type": "execute_result"
    }
   ],
   "source": [
    "df_stock = pd.read_csv('/content/drive/MyDrive/stock_prediction/data/Stock Price - AAPL.csv', skiprows=1)\n",
    "df_stock.head()"
   ]
  },
  {
   "cell_type": "code",
   "execution_count": null,
   "metadata": {
    "id": "-cmpRK_sxovR"
   },
   "outputs": [],
   "source": [
    "df_stock['Date'] = pd.to_datetime(df_stock['Date'], infer_datetime_format=True).dt.date"
   ]
  },
  {
   "cell_type": "code",
   "execution_count": null,
   "metadata": {
    "id": "NJRb-TcyxovR"
   },
   "outputs": [],
   "source": [
    "df_stock = df_stock.set_index('Date').join(df_news.set_index('Date'))"
   ]
  },
  {
   "cell_type": "code",
   "execution_count": null,
   "metadata": {
    "id": "Euki_frfppKn"
   },
   "outputs": [],
   "source": [
    "df_stock.reset_index(inplace=True)"
   ]
  },
  {
   "cell_type": "markdown",
   "metadata": {
    "id": "cLuKm4YZGR5d"
   },
   "source": [
    "## Replace NaN TI-IDF by Zero Vector"
   ]
  },
  {
   "cell_type": "code",
   "execution_count": null,
   "metadata": {
    "id": "51AxamIxxovR"
   },
   "outputs": [],
   "source": [
    "def tfidf_zero(list_):\n",
    "    if type(list_) == float:\n",
    "        list_ = np.zeros(len(tfvec.get_feature_names()), dtype=float)\n",
    "    else:\n",
    "        list_ = np.array(list_)\n",
    "    return list_"
   ]
  },
  {
   "cell_type": "code",
   "execution_count": null,
   "metadata": {
    "id": "x4dUF8nXxovS"
   },
   "outputs": [],
   "source": [
    "df_stock['tfidf_new'] = df_stock['tfidf'].apply(lambda x: tfidf_zero(x))"
   ]
  },
  {
   "cell_type": "code",
   "execution_count": null,
   "metadata": {
    "id": "1OutCxVYxovS"
   },
   "outputs": [],
   "source": [
    "df_stock.reset_index(inplace=True)"
   ]
  },
  {
   "cell_type": "code",
   "execution_count": null,
   "metadata": {
    "colab": {
     "base_uri": "https://localhost:8080/",
     "height": 770
    },
    "id": "9aVMe-6RxovS",
    "outputId": "216f9dc7-7d79-435b-88bf-3b9c34904356"
   },
   "outputs": [
    {
     "data": {
      "text/html": [
       "<div>\n",
       "<style scoped>\n",
       "    .dataframe tbody tr th:only-of-type {\n",
       "        vertical-align: middle;\n",
       "    }\n",
       "\n",
       "    .dataframe tbody tr th {\n",
       "        vertical-align: top;\n",
       "    }\n",
       "\n",
       "    .dataframe thead th {\n",
       "        text-align: right;\n",
       "    }\n",
       "</style>\n",
       "<table border=\"1\" class=\"dataframe\">\n",
       "  <thead>\n",
       "    <tr style=\"text-align: right;\">\n",
       "      <th></th>\n",
       "      <th>index</th>\n",
       "      <th>Date</th>\n",
       "      <th>Close</th>\n",
       "      <th>Title</th>\n",
       "      <th>text_decont</th>\n",
       "      <th>text_no_punc</th>\n",
       "      <th>tk</th>\n",
       "      <th>tfidf</th>\n",
       "      <th>tfidf_new</th>\n",
       "    </tr>\n",
       "  </thead>\n",
       "  <tbody>\n",
       "    <tr>\n",
       "      <th>0</th>\n",
       "      <td>0</td>\n",
       "      <td>2012-05-18</td>\n",
       "      <td>18.94</td>\n",
       "      <td>NaN</td>\n",
       "      <td>NaN</td>\n",
       "      <td>NaN</td>\n",
       "      <td>NaN</td>\n",
       "      <td>NaN</td>\n",
       "      <td>[0.0, 0.0, 0.0, 0.0, 0.0, 0.0, 0.0, 0.0, 0.0, ...</td>\n",
       "    </tr>\n",
       "    <tr>\n",
       "      <th>1</th>\n",
       "      <td>1</td>\n",
       "      <td>2012-05-21</td>\n",
       "      <td>20.05</td>\n",
       "      <td>Boot up: web v apps, Google v France, the iPho...</td>\n",
       "      <td>boot up: web v apps, google v france, the ipho...</td>\n",
       "      <td>boot up  web v apps  google v france  the ipho...</td>\n",
       "      <td>[boot, up, web, v, apps, google, v, france, th...</td>\n",
       "      <td>[0.0, 0.0, 0.0, 0.0, 0.0, 0.0, 0.0, 0.0, 0.0, ...</td>\n",
       "      <td>[0.0, 0.0, 0.0, 0.0, 0.0, 0.0, 0.0, 0.0, 0.0, ...</td>\n",
       "    </tr>\n",
       "    <tr>\n",
       "      <th>2</th>\n",
       "      <td>2</td>\n",
       "      <td>2012-05-22</td>\n",
       "      <td>19.89</td>\n",
       "      <td>NaN</td>\n",
       "      <td>NaN</td>\n",
       "      <td>NaN</td>\n",
       "      <td>NaN</td>\n",
       "      <td>NaN</td>\n",
       "      <td>[0.0, 0.0, 0.0, 0.0, 0.0, 0.0, 0.0, 0.0, 0.0, ...</td>\n",
       "    </tr>\n",
       "    <tr>\n",
       "      <th>3</th>\n",
       "      <td>3</td>\n",
       "      <td>2012-05-23</td>\n",
       "      <td>20.38</td>\n",
       "      <td>NaN</td>\n",
       "      <td>NaN</td>\n",
       "      <td>NaN</td>\n",
       "      <td>NaN</td>\n",
       "      <td>NaN</td>\n",
       "      <td>[0.0, 0.0, 0.0, 0.0, 0.0, 0.0, 0.0, 0.0, 0.0, ...</td>\n",
       "    </tr>\n",
       "    <tr>\n",
       "      <th>4</th>\n",
       "      <td>4</td>\n",
       "      <td>2012-05-24</td>\n",
       "      <td>20.19</td>\n",
       "      <td>Boot up: Facebook's coming crash, iPhone gende...</td>\n",
       "      <td>boot up: facebook is coming crash, iphone gend...</td>\n",
       "      <td>boot up  facebook is coming crash  iphone gend...</td>\n",
       "      <td>[boot, up, facebook, is, coming, crash, iphone...</td>\n",
       "      <td>[0.0, 0.0, 0.0, 0.0, 0.0, 0.0, 0.0, 0.0, 0.0, ...</td>\n",
       "      <td>[0.0, 0.0, 0.0, 0.0, 0.0, 0.0, 0.0, 0.0, 0.0, ...</td>\n",
       "    </tr>\n",
       "    <tr>\n",
       "      <th>...</th>\n",
       "      <td>...</td>\n",
       "      <td>...</td>\n",
       "      <td>...</td>\n",
       "      <td>...</td>\n",
       "      <td>...</td>\n",
       "      <td>...</td>\n",
       "      <td>...</td>\n",
       "      <td>...</td>\n",
       "      <td>...</td>\n",
       "    </tr>\n",
       "    <tr>\n",
       "      <th>2275</th>\n",
       "      <td>2275</td>\n",
       "      <td>2021-06-04</td>\n",
       "      <td>125.89</td>\n",
       "      <td>Apple uses more suppliers from China than Taiw...</td>\n",
       "      <td>apple uses more suppliers from china than taiw...</td>\n",
       "      <td>apple uses more suppliers from china than taiw...</td>\n",
       "      <td>[apple, uses, more, suppliers, from, china, th...</td>\n",
       "      <td>[0.0, 0.0, 0.0, 0.0, 0.0, 0.0, 0.0, 0.0, 0.0, ...</td>\n",
       "      <td>[0.0, 0.0, 0.0, 0.0, 0.0, 0.0, 0.0, 0.0, 0.0, ...</td>\n",
       "    </tr>\n",
       "    <tr>\n",
       "      <th>2276</th>\n",
       "      <td>2276</td>\n",
       "      <td>2021-06-07</td>\n",
       "      <td>125.90</td>\n",
       "      <td>NaN</td>\n",
       "      <td>NaN</td>\n",
       "      <td>NaN</td>\n",
       "      <td>NaN</td>\n",
       "      <td>NaN</td>\n",
       "      <td>[0.0, 0.0, 0.0, 0.0, 0.0, 0.0, 0.0, 0.0, 0.0, ...</td>\n",
       "    </tr>\n",
       "    <tr>\n",
       "      <th>2277</th>\n",
       "      <td>2277</td>\n",
       "      <td>2021-06-08</td>\n",
       "      <td>126.74</td>\n",
       "      <td>WWDC 2021: Apple unveils iOS 15, ‘focus mode’ ...</td>\n",
       "      <td>wwdc 2021: apple unveils ios 15, ‘focus mode’ ...</td>\n",
       "      <td>wwdc 2021  apple unveils ios 15   focus mode  ...</td>\n",
       "      <td>[wwdc, 2021, apple, unveils, ios, 15, focus, m...</td>\n",
       "      <td>[0.0, 0.0, 0.0, 0.0, 0.0, 0.0, 0.0, 0.0, 0.0, ...</td>\n",
       "      <td>[0.0, 0.0, 0.0, 0.0, 0.0, 0.0, 0.0, 0.0, 0.0, ...</td>\n",
       "    </tr>\n",
       "    <tr>\n",
       "      <th>2278</th>\n",
       "      <td>2278</td>\n",
       "      <td>2021-06-09</td>\n",
       "      <td>127.13</td>\n",
       "      <td>NaN</td>\n",
       "      <td>NaN</td>\n",
       "      <td>NaN</td>\n",
       "      <td>NaN</td>\n",
       "      <td>NaN</td>\n",
       "      <td>[0.0, 0.0, 0.0, 0.0, 0.0, 0.0, 0.0, 0.0, 0.0, ...</td>\n",
       "    </tr>\n",
       "    <tr>\n",
       "      <th>2279</th>\n",
       "      <td>2279</td>\n",
       "      <td>2021-06-10</td>\n",
       "      <td>126.11</td>\n",
       "      <td>NaN</td>\n",
       "      <td>NaN</td>\n",
       "      <td>NaN</td>\n",
       "      <td>NaN</td>\n",
       "      <td>NaN</td>\n",
       "      <td>[0.0, 0.0, 0.0, 0.0, 0.0, 0.0, 0.0, 0.0, 0.0, ...</td>\n",
       "    </tr>\n",
       "  </tbody>\n",
       "</table>\n",
       "<p>2280 rows × 9 columns</p>\n",
       "</div>"
      ],
      "text/plain": [
       "      index  ...                                          tfidf_new\n",
       "0         0  ...  [0.0, 0.0, 0.0, 0.0, 0.0, 0.0, 0.0, 0.0, 0.0, ...\n",
       "1         1  ...  [0.0, 0.0, 0.0, 0.0, 0.0, 0.0, 0.0, 0.0, 0.0, ...\n",
       "2         2  ...  [0.0, 0.0, 0.0, 0.0, 0.0, 0.0, 0.0, 0.0, 0.0, ...\n",
       "3         3  ...  [0.0, 0.0, 0.0, 0.0, 0.0, 0.0, 0.0, 0.0, 0.0, ...\n",
       "4         4  ...  [0.0, 0.0, 0.0, 0.0, 0.0, 0.0, 0.0, 0.0, 0.0, ...\n",
       "...     ...  ...                                                ...\n",
       "2275   2275  ...  [0.0, 0.0, 0.0, 0.0, 0.0, 0.0, 0.0, 0.0, 0.0, ...\n",
       "2276   2276  ...  [0.0, 0.0, 0.0, 0.0, 0.0, 0.0, 0.0, 0.0, 0.0, ...\n",
       "2277   2277  ...  [0.0, 0.0, 0.0, 0.0, 0.0, 0.0, 0.0, 0.0, 0.0, ...\n",
       "2278   2278  ...  [0.0, 0.0, 0.0, 0.0, 0.0, 0.0, 0.0, 0.0, 0.0, ...\n",
       "2279   2279  ...  [0.0, 0.0, 0.0, 0.0, 0.0, 0.0, 0.0, 0.0, 0.0, ...\n",
       "\n",
       "[2280 rows x 9 columns]"
      ]
     },
     "execution_count": 34,
     "metadata": {
      "tags": []
     },
     "output_type": "execute_result"
    }
   ],
   "source": [
    "df_stock"
   ]
  },
  {
   "cell_type": "markdown",
   "metadata": {
    "id": "9siJkLGKtLk5"
   },
   "source": [
    "# 3. Train-test split"
   ]
  },
  {
   "cell_type": "code",
   "execution_count": null,
   "metadata": {
    "id": "bHMAdCQpr324"
   },
   "outputs": [],
   "source": [
    "df_stock = df_stock.fillna('')"
   ]
  },
  {
   "cell_type": "code",
   "execution_count": null,
   "metadata": {
    "colab": {
     "base_uri": "https://localhost:8080/"
    },
    "id": "C7t1ZxxOtLk5",
    "outputId": "a37fdddc-0438-40c2-b611-40731c2e2b1e"
   },
   "outputs": [
    {
     "name": "stdout",
     "output_type": "stream",
     "text": [
      "Training set: 1917 accounted for  84.07894736842105 %\n",
      "Val set: 168 accounted for  7.368421052631578 %\n",
      "Test set: 195 accounted for  8.552631578947368 %\n"
     ]
    },
    {
     "name": "stderr",
     "output_type": "stream",
     "text": [
      "/usr/local/lib/python3.7/dist-packages/ipykernel_launcher.py:4: UserWarning: Boolean Series key will be reindexed to match DataFrame index.\n",
      "  after removing the cwd from sys.path.\n"
     ]
    }
   ],
   "source": [
    "df_stock['Date'] = pd.to_datetime(df_stock['Date'], format='%Y-%m-%d')\n",
    "\n",
    "train_data = df_stock[df_stock['Date'] < '2020-01-01'].copy()\n",
    "val_data = df_stock[df_stock['Date'] < '2020-09-01'][df_stock['Date'] > '2019-12-31'].copy()\n",
    "test_data = df_stock[df_stock['Date'] > '2020-08-31'].copy()\n",
    "\n",
    "val_data = val_data.set_index('Date')\n",
    "train_data = train_data.set_index('Date')\n",
    "test_data = test_data.set_index('Date')\n",
    "\n",
    "print('Training set:', train_data.shape[0], 'accounted for ',train_data.shape[0]/df_stock.shape[0]*100,'%')\n",
    "print('Val set:', val_data.shape[0], 'accounted for ',val_data.shape[0]/df_stock.shape[0]*100,'%')\n",
    "print('Test set:', test_data.shape[0], 'accounted for ',test_data.shape[0]/df_stock.shape[0]*100,'%')"
   ]
  },
  {
   "cell_type": "markdown",
   "metadata": {
    "id": "bhydodn6tLk6"
   },
   "source": [
    "# 4. Historical Price\n",
    "## Data normalization"
   ]
  },
  {
   "cell_type": "code",
   "execution_count": null,
   "metadata": {
    "id": "3EhdO4iX_PUU"
   },
   "outputs": [],
   "source": [
    "# Scaling the training set\n",
    "transform_train = {}\n",
    "transform_val = {}\n",
    "transform_test = {}\n",
    "scaled_aa = {}\n",
    "scaler = {}\n",
    "\n",
    "sc = MinMaxScaler(feature_range=(0,1))\n",
    "\n",
    "aa = np.array(df_stock.Close)\n",
    "aa = aa.reshape(aa.shape[0],1)\n",
    "\n",
    "a0 = np.array(train_data.Close)\n",
    "a1 = np.array(test_data.Close)\n",
    "a2 = np.array(val_data.Close)\n",
    "\n",
    "a0 = a0.reshape(a0.shape[0],1)\n",
    "a1 = a1.reshape(a1.shape[0],1)\n",
    "a2 = a2.reshape(a2.shape[0],1)\n",
    "\n",
    "scaled_aa = sc.fit_transform(aa)\n",
    "\n",
    "transform_train = sc.transform(a0)\n",
    "transform_test = sc.transform(a1)\n",
    "transform_val = sc.transform(a2)\n",
    "\n",
    "scaler = sc\n",
    "    \n",
    "del aa\n",
    "del a0\n",
    "del a1\n",
    "del a2"
   ]
  },
  {
   "cell_type": "markdown",
   "metadata": {
    "id": "lCVZXWURtLk6"
   },
   "source": [
    "## Windowing Input Data"
   ]
  },
  {
   "cell_type": "code",
   "execution_count": null,
   "metadata": {
    "id": "bVoL395QtLk7"
   },
   "outputs": [],
   "source": [
    "#windowing size\n",
    "n_lags = int(60)\n",
    "\n",
    "trainset = {}\n",
    "testset = {}\n",
    "valset = {}\n",
    "    \n",
    "X_train = []\n",
    "y_train = []\n",
    "for i in range(n_lags,train_data.shape[0]):\n",
    "    X_train.append(transform_train[i-n_lags:i])\n",
    "    y_train.append(transform_train[i])\n",
    "X_train, y_train = np.array(X_train), np.array(y_train)\n",
    "trainset[\"X\"] = np.reshape(X_train, (X_train.shape[0],X_train.shape[1],1))\n",
    "trainset[\"y\"] = y_train\n",
    "\n",
    "X_test = []\n",
    "y_test = []    \n",
    "for i in range(n_lags, test_data.shape[0]):\n",
    "    X_test.append(transform_test[i-n_lags:i])\n",
    "    y_test.append(transform_test[i])\n",
    "X_test, y_test = np.array(X_test), np.array(y_test)\n",
    "testset[\"X\"] = np.reshape(X_test, (X_test.shape[0], X_test.shape[1], 1))\n",
    "testset[\"y\"] = y_test\n",
    "\n",
    "X_val = []\n",
    "y_val = []    \n",
    "for i in range(n_lags, val_data.shape[0]):\n",
    "    X_val.append(transform_val[i-n_lags:i])\n",
    "    y_val.append(transform_val[i])\n",
    "X_val, y_val = np.array(X_val), np.array(y_val)\n",
    "valset[\"X\"] = np.reshape(X_val, (X_val.shape[0], X_val.shape[1], 1))\n",
    "valset[\"y\"] = y_val"
   ]
  },
  {
   "cell_type": "code",
   "execution_count": null,
   "metadata": {
    "colab": {
     "base_uri": "https://localhost:8080/",
     "height": 81
    },
    "id": "QVwy1UDUtLk7",
    "outputId": "a5b28897-3152-44a9-c451-8771f3575208"
   },
   "outputs": [
    {
     "data": {
      "text/html": [
       "<div>\n",
       "<style scoped>\n",
       "    .dataframe tbody tr th:only-of-type {\n",
       "        vertical-align: middle;\n",
       "    }\n",
       "\n",
       "    .dataframe tbody tr th {\n",
       "        vertical-align: top;\n",
       "    }\n",
       "\n",
       "    .dataframe thead th {\n",
       "        text-align: right;\n",
       "    }\n",
       "</style>\n",
       "<table border=\"1\" class=\"dataframe\">\n",
       "  <thead>\n",
       "    <tr style=\"text-align: right;\">\n",
       "      <th></th>\n",
       "      <th>X_train</th>\n",
       "      <th>y_train</th>\n",
       "      <th>X_test</th>\n",
       "      <th>y_test</th>\n",
       "      <th>X_val</th>\n",
       "      <th>y_val</th>\n",
       "    </tr>\n",
       "  </thead>\n",
       "  <tbody>\n",
       "    <tr>\n",
       "      <th>0</th>\n",
       "      <td>(1857, 60, 1)</td>\n",
       "      <td>(1857, 1)</td>\n",
       "      <td>(135, 60, 1)</td>\n",
       "      <td>(135, 1)</td>\n",
       "      <td>(108, 60, 1)</td>\n",
       "      <td>(108, 1)</td>\n",
       "    </tr>\n",
       "  </tbody>\n",
       "</table>\n",
       "</div>"
      ],
      "text/plain": [
       "         X_train    y_train        X_test    y_test         X_val     y_val\n",
       "0  (1857, 60, 1)  (1857, 1)  (135, 60, 1)  (135, 1)  (108, 60, 1)  (108, 1)"
      ]
     },
     "execution_count": 39,
     "metadata": {
      "tags": []
     },
     "output_type": "execute_result"
    }
   ],
   "source": [
    "# Check the shape (again) before start training\n",
    "arr_buff = []\n",
    "buff = {}\n",
    "buff[\"X_train\"] = trainset[\"X\"].shape\n",
    "buff[\"y_train\"] = trainset[\"y\"].shape\n",
    "buff[\"X_test\"] = testset[\"X\"].shape\n",
    "buff[\"y_test\"] = testset[\"y\"].shape\n",
    "buff[\"X_val\"] = valset[\"X\"].shape\n",
    "buff[\"y_val\"] = valset[\"y\"].shape\n",
    "arr_buff.append(buff)\n",
    "\n",
    "pd.DataFrame(arr_buff)"
   ]
  },
  {
   "cell_type": "markdown",
   "metadata": {
    "id": "1Xt6Xl5wsmJr"
   },
   "source": [
    "# 5. Word Embedding"
   ]
  },
  {
   "cell_type": "code",
   "execution_count": null,
   "metadata": {
    "id": "wHTJjObIoRkQ"
   },
   "outputs": [],
   "source": [
    "import gensim\n",
    "from gensim.models import Word2Vec\n",
    "#setting\n",
    "vector_dim = 750\n",
    "window_size = 5\n",
    "min_count = 1\n",
    "training_iter = 20\n",
    "\n",
    "#model\n",
    "word2vec_model = Word2Vec(sentences=df_news.tk.values, size=vector_dim, window=window_size, \n",
    "                          min_count=min_count, iter=training_iter)"
   ]
  },
  {
   "cell_type": "code",
   "execution_count": null,
   "metadata": {
    "id": "BeaJ9I4KokqD"
   },
   "outputs": [],
   "source": [
    "#save model in ASCII (word2vec) format\n",
    "filename = '/content/drive/MyDrive/stock_prediction/AAPL/embedding_word2vec.txt'\n",
    "word2vec_model.wv.save_word2vec_format(filename, binary=False)"
   ]
  },
  {
   "cell_type": "code",
   "execution_count": null,
   "metadata": {
    "id": "5-GvPX6ko82w"
   },
   "outputs": [],
   "source": [
    "from keras.preprocessing.text import Tokenizer\n",
    "from keras.preprocessing.sequence import pad_sequences\n",
    "\n",
    "#find the longest tweet and use its length as number of embedding features\n",
    "maxlen = max([len(s.split()) for s in train_data.text_no_punc[n_lags:]])\n",
    "\n",
    "#tokenizer, sequence & padding\n",
    "tokenizer = Tokenizer()\n",
    "tokenizer.fit_on_texts(train_data.text_no_punc)\n",
    "xtrain_word_index = tokenizer.word_index\n",
    "xtrain_sequences = tokenizer.texts_to_sequences(train_data.text_no_punc[n_lags:])\n",
    "news_train = pad_sequences(xtrain_sequences, maxlen, padding='pre')\n",
    "news_test = pad_sequences(tokenizer.texts_to_sequences(test_data.text_no_punc[n_lags:].str.lower())\n",
    "                       ,maxlen, padding='pre')\n",
    "news_val = pad_sequences(tokenizer.texts_to_sequences(val_data.text_no_punc[n_lags:].str.lower())\n",
    "                       ,maxlen, padding='pre')"
   ]
  },
  {
   "cell_type": "code",
   "execution_count": null,
   "metadata": {
    "colab": {
     "base_uri": "https://localhost:8080/"
    },
    "id": "uUE7Uu7W8JQk",
    "outputId": "b20dc284-557d-4bf4-ef94-cbc41c78b604"
   },
   "outputs": [
    {
     "data": {
      "text/plain": [
       "139"
      ]
     },
     "execution_count": 43,
     "metadata": {
      "tags": []
     },
     "output_type": "execute_result"
    }
   ],
   "source": [
    "maxlen"
   ]
  },
  {
   "cell_type": "code",
   "execution_count": null,
   "metadata": {
    "colab": {
     "base_uri": "https://localhost:8080/"
    },
    "id": "LnimwBeVtfis",
    "outputId": "393481ae-9b97-4a48-efb7-dba03d12ffbe"
   },
   "outputs": [
    {
     "data": {
      "text/plain": [
       "(1857, 139)"
      ]
     },
     "execution_count": 44,
     "metadata": {
      "tags": []
     },
     "output_type": "execute_result"
    }
   ],
   "source": [
    "news_train.shape"
   ]
  },
  {
   "cell_type": "markdown",
   "metadata": {
    "id": "czwrwYUssijt"
   },
   "source": [
    "## Load Pre-trained Word Embedding"
   ]
  },
  {
   "cell_type": "code",
   "execution_count": null,
   "metadata": {
    "colab": {
     "base_uri": "https://localhost:8080/"
    },
    "id": "xL7z9-sRsq-x",
    "outputId": "a9c190bd-b4b0-4641-aa25-f5cfc836cefe"
   },
   "outputs": [
    {
     "name": "stdout",
     "output_type": "stream",
     "text": [
      "Converted 3676 words (7 misses)\n"
     ]
    }
   ],
   "source": [
    "#load embedding as a dict\n",
    "def load_embedding(filename):\n",
    "    # load embedding into memory, skip first line\n",
    "    file = open(filename,'r')\n",
    "    lines = file.readlines()[1:]\n",
    "    file.close()\n",
    "    # create a map of words to vectors\n",
    "    embedding = dict()\n",
    "    for line in lines:\n",
    "        parts = line.split()\n",
    "        # key is string word, value is numpy array for vector\n",
    "        embedding[parts[0]] = np.asarray(parts[1:], dtype='float32')\n",
    "    return embedding\n",
    "\n",
    "# create a weight matrix for the Embedding layer from a loaded embedding\n",
    "def get_weight_matrix(embedding, vocab):\n",
    "    # total vocabulary size plus 0 for unknown words\n",
    "    vocab_size = len(vocab) + 1\n",
    "    # define weight matrix dimensions with all 0\n",
    "    weight_matrix = np.zeros((vocab_size, vector_dim))\n",
    "    # step vocab, store vectors using the Tokenizer's integer mapping\n",
    "    hits = 0\n",
    "    misses = 0\n",
    "    for word, i in vocab.items():\n",
    "        embedding_vector = embedding.get(word)\n",
    "        if embedding_vector is not None:\n",
    "            # Words not found in embedding index will be all-zeros.\n",
    "            weight_matrix[i] = embedding_vector\n",
    "            hits += 1\n",
    "        else:\n",
    "            misses += 1\n",
    "    print(\"Converted %d words (%d misses)\" % (hits, misses))\n",
    "    return weight_matrix, vocab_size\n",
    "\n",
    "# load embedding from pre-trained embedding file\n",
    "raw_embedding = load_embedding('/content/drive/MyDrive/stock_prediction/AAPL/embedding_word2vec.txt')\n",
    "\n",
    "# get vectors in the right order\n",
    "embedding_vectors, vocab_size = get_weight_matrix(raw_embedding, tokenizer.word_index)"
   ]
  },
  {
   "cell_type": "markdown",
   "metadata": {
    "id": "SywMtgMKxovV"
   },
   "source": [
    "# 6. Seq2seq Model with Word2Vec"
   ]
  },
  {
   "cell_type": "code",
   "execution_count": null,
   "metadata": {
    "colab": {
     "base_uri": "https://localhost:8080/"
    },
    "id": "pE3BXAb8xovV",
    "outputId": "2d5d5cf3-558a-4843-ada3-1809250bc098"
   },
   "outputs": [
    {
     "name": "stdout",
     "output_type": "stream",
     "text": [
      "CPU times: user 2.09 s, sys: 460 ms, total: 2.55 s\n",
      "Wall time: 6.5 s\n"
     ]
    }
   ],
   "source": [
    "%%time\n",
    "# LSTM architecture\n",
    "# FIRST BRANCH operates on the first input\n",
    "# 1st layer with Dropout regularisation\n",
    "lstm_input = Input(shape=(X_train.shape[1],1))\n",
    "x = Bidirectional(GRU(units=60, return_sequences=True))(lstm_input)\n",
    "x = Dropout(0.2)(x)\n",
    "\n",
    "# 2nd LSTM layer\n",
    "x = GRU(units=60)(x)\n",
    "x = Dropout(0.2)(x)\n",
    "\n",
    "lstm_branch = Model(inputs=lstm_input, outputs=x)\n",
    "\n",
    "# SECOND BRANCH operates on the first input\n",
    "embedding_layer = Embedding(vocab_size, vector_dim, weights=[embedding_vectors]\n",
    "                            ,input_length=maxlen, trainable=False)\n",
    "sequence_input = Input(shape=(maxlen,), dtype='int32')\n",
    "embedded_sequences = embedding_layer(sequence_input)\n",
    "\n",
    "y = Bidirectional(GRU(units=64, return_sequences=True))(embedded_sequences)\n",
    "y = Dropout(0.2)(y)\n",
    "y = GRU(units=64, return_sequences=True)(y)\n",
    "y = Dropout(0.2)(y)\n",
    "y = GRU(units=64)(y)\n",
    "y = Dropout(0.2)(y)\n",
    "news_branch = Model(inputs=sequence_input, outputs=y)\n",
    "\n",
    "# combine the output of the two branches\n",
    "combined = concatenate([lstm_branch.output, news_branch.output], name='combined')\n",
    "# Output layer\n",
    "z = Dense(25)(combined)\n",
    "z = Dense(1)(z)\n",
    "multi_model = Model(inputs=[lstm_branch.input, news_branch.input], outputs=z)\n",
    "\n",
    "# Compiling\n",
    "multi_model.compile(optimizer='adam', loss='mean_squared_error')"
   ]
  },
  {
   "cell_type": "code",
   "execution_count": null,
   "metadata": {
    "colab": {
     "base_uri": "https://localhost:8080/",
     "height": 1000
    },
    "id": "dHlWWHzqxovW",
    "outputId": "e1fce62a-eabf-422c-c649-cd4e68ce892e"
   },
   "outputs": [
    {
     "data": {
      "image/png": "[encoded data removed]",
      "text/plain": [
       "<IPython.core.display.Image object>"
      ]
     },
     "execution_count": 47,
     "metadata": {
      "tags": []
     },
     "output_type": "execute_result"
    }
   ],
   "source": [
    "from tensorflow.keras.utils import plot_model\n",
    "plot_model(multi_model, show_shapes=True)"
   ]
  },
  {
   "cell_type": "code",
   "execution_count": null,
   "metadata": {
    "colab": {
     "base_uri": "https://localhost:8080/"
    },
    "id": "-TkrNo22xovW",
    "outputId": "a2a43477-6fe9-4fc4-f1be-10bfb27432cd"
   },
   "outputs": [
    {
     "name": "stderr",
     "output_type": "stream",
     "text": [
      "/usr/local/lib/python3.7/dist-packages/tensorflow/python/data/ops/dataset_ops.py:3704: UserWarning: Even though the `tf.config.experimental_run_functions_eagerly` option is set, this option does not apply to tf.data functions. To force eager execution of tf.data functions, please use `tf.data.experimental.enable.debug_mode()`.\n",
      "  \"Even though the `tf.config.experimental_run_functions_eagerly` \"\n"
     ]
    },
    {
     "name": "stdout",
     "output_type": "stream",
     "text": [
      "Epoch 1/100\n",
      "30/30 [==============================] - 12s 203ms/step - loss: 0.0410 - val_loss: 0.0068\n",
      "Epoch 2/100\n",
      "30/30 [==============================] - 6s 206ms/step - loss: 0.0017 - val_loss: 9.1182e-04\n",
      "Epoch 3/100\n",
      "30/30 [==============================] - 6s 203ms/step - loss: 9.9653e-04 - val_loss: 8.8187e-04\n",
      "Epoch 4/100\n",
      "30/30 [==============================] - 6s 204ms/step - loss: 4.8125e-04 - val_loss: 3.9864e-04\n",
      "Epoch 5/100\n",
      "30/30 [==============================] - 6s 200ms/step - loss: 5.0403e-04 - val_loss: 3.6339e-04\n",
      "Epoch 6/100\n",
      "30/30 [==============================] - 6s 205ms/step - loss: 2.8660e-04 - val_loss: 4.1021e-04\n",
      "Epoch 7/100\n",
      "30/30 [==============================] - 6s 206ms/step - loss: 3.0865e-04 - val_loss: 6.7826e-04\n",
      "Epoch 8/100\n",
      "30/30 [==============================] - 6s 202ms/step - loss: 3.9673e-04 - val_loss: 7.5472e-04\n",
      "Epoch 9/100\n",
      "30/30 [==============================] - 6s 200ms/step - loss: 2.2508e-04 - val_loss: 3.5711e-04\n",
      "Epoch 10/100\n",
      "30/30 [==============================] - 6s 207ms/step - loss: 3.0480e-04 - val_loss: 5.3393e-04\n",
      "Epoch 11/100\n",
      "30/30 [==============================] - 6s 201ms/step - loss: 2.4307e-04 - val_loss: 3.9988e-04\n",
      "Epoch 12/100\n",
      "30/30 [==============================] - 6s 201ms/step - loss: 2.0334e-04 - val_loss: 4.2121e-04\n",
      "Epoch 13/100\n",
      "30/30 [==============================] - 6s 207ms/step - loss: 1.8653e-04 - val_loss: 5.0697e-04\n",
      "Epoch 14/100\n",
      "30/30 [==============================] - 6s 207ms/step - loss: 1.5940e-04 - val_loss: 3.3339e-04\n",
      "Epoch 15/100\n",
      "30/30 [==============================] - 6s 206ms/step - loss: 1.7647e-04 - val_loss: 7.1294e-04\n",
      "Epoch 16/100\n",
      "30/30 [==============================] - 6s 206ms/step - loss: 1.5546e-04 - val_loss: 0.0022\n",
      "Epoch 17/100\n",
      "30/30 [==============================] - 6s 205ms/step - loss: 4.9197e-04 - val_loss: 8.0294e-04\n",
      "Epoch 18/100\n",
      "30/30 [==============================] - 6s 207ms/step - loss: 1.8045e-04 - val_loss: 5.7406e-04\n",
      "Epoch 19/100\n",
      "30/30 [==============================] - 6s 201ms/step - loss: 1.6254e-04 - val_loss: 4.2726e-04\n"
     ]
    },
    {
     "data": {
      "text/plain": [
       "<keras.callbacks.History at 0x7f31c3dd2b50>"
      ]
     },
     "execution_count": 48,
     "metadata": {
      "tags": []
     },
     "output_type": "execute_result"
    }
   ],
   "source": [
    "from keras.callbacks import CSVLogger\n",
    "logger_filename = '/content/drive/MyDrive/stock_prediction/AAPL/training_log_seq2seq_model.csv'\n",
    "\n",
    "my_callback = [\n",
    "               EarlyStopping(patience=5,monitor='val_loss'),\n",
    "               CSVLogger(filename=logger_filename)\n",
    "\n",
    "]\n",
    "\n",
    "# training setting\n",
    "epochs = 100\n",
    "batch_size = 64\n",
    "\n",
    "# Fitting to the training set\n",
    "multi_model.fit([trainset['X'], news_train], trainset['y'], epochs=epochs, batch_size=batch_size, callbacks=my_callback\n",
    "                              , validation_data=([valset['X'], news_val], valset['y']))"
   ]
  },
  {
   "cell_type": "code",
   "execution_count": null,
   "metadata": {
    "id": "tMPqYLQsxovW"
   },
   "outputs": [],
   "source": [
    "multi_model.save('/content/drive/MyDrive/stock_prediction/AAPL/stock_pred_seq2seq_model.h5')"
   ]
  },
  {
   "cell_type": "markdown",
   "metadata": {
    "id": "kll2CRCAxovX"
   },
   "source": [
    "## Evaluation"
   ]
  },
  {
   "cell_type": "code",
   "execution_count": null,
   "metadata": {
    "colab": {
     "base_uri": "https://localhost:8080/",
     "height": 298
    },
    "id": "nKE4ScqExovX",
    "outputId": "f2b63b14-6eae-4289-c94e-1bb7aadd285a"
   },
   "outputs": [
    {
     "name": "stderr",
     "output_type": "stream",
     "text": [
      "/usr/local/lib/python3.7/dist-packages/tensorflow/python/data/ops/dataset_ops.py:3704: UserWarning: Even though the `tf.config.experimental_run_functions_eagerly` option is set, this option does not apply to tf.data functions. To force eager execution of tf.data functions, please use `tf.data.experimental.enable.debug_mode()`.\n",
      "  \"Even though the `tf.config.experimental_run_functions_eagerly` \"\n",
      "/usr/local/lib/python3.7/dist-packages/tensorflow/python/data/ops/dataset_ops.py:3704: UserWarning: Even though the `tf.config.experimental_run_functions_eagerly` option is set, this option does not apply to tf.data functions. To force eager execution of tf.data functions, please use `tf.data.experimental.enable.debug_mode()`.\n",
      "  \"Even though the `tf.config.experimental_run_functions_eagerly` \"\n",
      "/usr/local/lib/python3.7/dist-packages/tensorflow/python/data/ops/dataset_ops.py:3704: UserWarning: Even though the `tf.config.experimental_run_functions_eagerly` option is set, this option does not apply to tf.data functions. To force eager execution of tf.data functions, please use `tf.data.experimental.enable.debug_mode()`.\n",
      "  \"Even though the `tf.config.experimental_run_functions_eagerly` \"\n"
     ]
    },
    {
     "data": {
      "text/plain": [
       "<matplotlib.legend.Legend at 0x7f319384f9d0>"
      ]
     },
     "execution_count": 50,
     "metadata": {
      "tags": []
     },
     "output_type": "execute_result"
    },
    {
     "data": {
      "image/png": "[encoded data removed]",
      "text/plain": [
       "<Figure size 864x144 with 1 Axes>"
      ]
     },
     "metadata": {
      "needs_background": "light",
      "tags": []
     },
     "output_type": "display_data"
    }
   ],
   "source": [
    "def calculate_mse_multi(scaler, y_input, x_input, w2v):\n",
    "    y_pred = multi_model.predict([x_input, w2v])\n",
    "    MSE = mean_squared_error(y_input, y_pred)\n",
    "\n",
    "    y_true = scaler.inverse_transform(y_input.reshape(-1,1))\n",
    "    y_pred = scaler.inverse_transform(y_pred)\n",
    "\n",
    "    real_mse = np.mean(np.square(y_true - y_pred))\n",
    "    scaled_mse = real_mse/(np.max(y_true) - np.min(y_true)) * 100\n",
    "\n",
    "    return MSE, scaled_mse, y_true, y_pred\n",
    "\n",
    "train_MSE, train_scaled_mse, train_y, train_y_pred = calculate_mse_multi(scaler, trainset[\"y\"], trainset[\"X\"], news_train)\n",
    "val_MSE, val_scaled_mse, val_y, val_y_pred = calculate_mse_multi(scaler, valset[\"y\"], valset[\"X\"], news_val)\n",
    "test_MSE, test_scaled_mse, test_y, test_y_pred = calculate_mse_multi(scaler, testset[\"y\"], testset[\"X\"], news_test)\n",
    "\n",
    "y_true = np.vstack((test_y))\n",
    "y_pred = np.vstack((test_y_pred))\n",
    "\n",
    "\n",
    "mse = {}\n",
    "mse[\"train\"] = train_MSE\n",
    "mse[\"val\"] = val_MSE\n",
    "mse[\"test\"] = test_MSE\n",
    "\n",
    "scaled_mse = {}\n",
    "scaled_mse[\"train\"] = train_scaled_mse\n",
    "scaled_mse[\"val\"] = val_scaled_mse\n",
    "scaled_mse[\"test\"] = test_scaled_mse\n",
    "\n",
    "pred_result = {}\n",
    "pred_result[\"True\"] = test_y\n",
    "pred_result[\"Pred\"] = test_y_pred\n",
    "\n",
    "plt.figure(figsize=(12,2))\n",
    "plt.plot(y_true)\n",
    "plt.plot(y_pred)\n",
    "plt.legend(['y_true','y_pred'])"
   ]
  },
  {
   "cell_type": "code",
   "execution_count": null,
   "metadata": {
    "colab": {
     "base_uri": "https://localhost:8080/"
    },
    "id": "UmFUyMmivy7Z",
    "outputId": "08f57d1b-753a-453a-b835-4a92db11576b"
   },
   "outputs": [
    {
     "data": {
      "text/plain": [
       "{'test': 0.00048087083971378044,\n",
       " 'train': 3.0263279913280293e-05,\n",
       " 'val': 0.0004272634286974347}"
      ]
     },
     "execution_count": 51,
     "metadata": {
      "tags": []
     },
     "output_type": "execute_result"
    }
   ],
   "source": [
    "mse"
   ]
  },
  {
   "cell_type": "code",
   "execution_count": null,
   "metadata": {
    "colab": {
     "base_uri": "https://localhost:8080/"
    },
    "id": "AOv2n_6dv0sG",
    "outputId": "28cca58e-16b5-44bf-ce24-607e65c36e6a"
   },
   "outputs": [
    {
     "data": {
      "text/plain": [
       "{'test': 29.591781883568185,\n",
       " 'train': 0.8497347908618537,\n",
       " 'val': 10.366592497281042}"
      ]
     },
     "execution_count": 52,
     "metadata": {
      "tags": []
     },
     "output_type": "execute_result"
    }
   ],
   "source": [
    "scaled_mse"
   ]
  },
  {
   "cell_type": "markdown",
   "metadata": {
    "id": "VNEN_1JhQIPR"
   },
   "source": [
    "## Prediction"
   ]
  },
  {
   "cell_type": "markdown",
   "metadata": {
    "id": "NX8FjfUUS80B"
   },
   "source": [
    "**Definition:**\n",
    "\n",
    "◦ **Rise (0):** CP of Today > CP of Yesterday , Change Rate > 1.5 %\n",
    "\n",
    "◦ **Remain Stable (1):** Change Rate ≤ 1.5 %\n",
    "\n",
    "◦ **Fall (2):** CP of Today < CP of Yesterday , Change Rate > 1.5 %"
   ]
  },
  {
   "cell_type": "code",
   "execution_count": null,
   "metadata": {
    "colab": {
     "base_uri": "https://localhost:8080/",
     "height": 206
    },
    "id": "mr6bJLvzLZsC",
    "outputId": "138497c7-8021-40d4-868f-97cfa31da6e4"
   },
   "outputs": [
    {
     "data": {
      "text/html": [
       "<div>\n",
       "<style scoped>\n",
       "    .dataframe tbody tr th:only-of-type {\n",
       "        vertical-align: middle;\n",
       "    }\n",
       "\n",
       "    .dataframe tbody tr th {\n",
       "        vertical-align: top;\n",
       "    }\n",
       "\n",
       "    .dataframe thead th {\n",
       "        text-align: right;\n",
       "    }\n",
       "</style>\n",
       "<table border=\"1\" class=\"dataframe\">\n",
       "  <thead>\n",
       "    <tr style=\"text-align: right;\">\n",
       "      <th></th>\n",
       "      <th>Pred</th>\n",
       "      <th>True</th>\n",
       "      <th>His_True</th>\n",
       "      <th>His_Pred</th>\n",
       "      <th>Pred_change_rate</th>\n",
       "      <th>True_change_rate</th>\n",
       "    </tr>\n",
       "  </thead>\n",
       "  <tbody>\n",
       "    <tr>\n",
       "      <th>130</th>\n",
       "      <td>124.832245</td>\n",
       "      <td>125.89</td>\n",
       "      <td>123.54</td>\n",
       "      <td>125.458717</td>\n",
       "      <td>0.499346</td>\n",
       "      <td>1.902218</td>\n",
       "    </tr>\n",
       "    <tr>\n",
       "      <th>131</th>\n",
       "      <td>125.336998</td>\n",
       "      <td>125.90</td>\n",
       "      <td>125.89</td>\n",
       "      <td>124.832245</td>\n",
       "      <td>0.404345</td>\n",
       "      <td>0.007943</td>\n",
       "    </tr>\n",
       "    <tr>\n",
       "      <th>132</th>\n",
       "      <td>125.662926</td>\n",
       "      <td>126.74</td>\n",
       "      <td>125.90</td>\n",
       "      <td>125.336998</td>\n",
       "      <td>0.260041</td>\n",
       "      <td>0.667196</td>\n",
       "    </tr>\n",
       "    <tr>\n",
       "      <th>133</th>\n",
       "      <td>126.238167</td>\n",
       "      <td>127.13</td>\n",
       "      <td>126.74</td>\n",
       "      <td>125.662926</td>\n",
       "      <td>0.457765</td>\n",
       "      <td>0.307717</td>\n",
       "    </tr>\n",
       "    <tr>\n",
       "      <th>134</th>\n",
       "      <td>126.753014</td>\n",
       "      <td>126.11</td>\n",
       "      <td>127.13</td>\n",
       "      <td>126.238167</td>\n",
       "      <td>0.407838</td>\n",
       "      <td>0.802328</td>\n",
       "    </tr>\n",
       "  </tbody>\n",
       "</table>\n",
       "</div>"
      ],
      "text/plain": [
       "           Pred    True  ...  Pred_change_rate  True_change_rate\n",
       "130  124.832245  125.89  ...          0.499346          1.902218\n",
       "131  125.336998  125.90  ...          0.404345          0.007943\n",
       "132  125.662926  126.74  ...          0.260041          0.667196\n",
       "133  126.238167  127.13  ...          0.457765          0.307717\n",
       "134  126.753014  126.11  ...          0.407838          0.802328\n",
       "\n",
       "[5 rows x 6 columns]"
      ]
     },
     "execution_count": 53,
     "metadata": {
      "tags": []
     },
     "output_type": "execute_result"
    }
   ],
   "source": [
    "pred_df = pd.DataFrame(pred_result['Pred'], columns=['Pred'])\n",
    "pred_df['True'] = pred_result['True']\n",
    "pred_df = pred_df.tail(5)\n",
    "pred_df['His_True'] = pred_result['True'][-6:][:5]\n",
    "pred_df['His_Pred'] = pred_result['Pred'][-6:][:5]\n",
    "pred_df['Pred_change_rate'] = (pred_df['Pred'] - pred_df['His_Pred']).abs()/pred_df['His_Pred']*100\n",
    "pred_df['True_change_rate'] = (pred_df['True'] - pred_df['His_True']).abs()/pred_df['His_True']*100\n",
    "pred_df"
   ]
  },
  {
   "cell_type": "code",
   "execution_count": null,
   "metadata": {
    "id": "JraT0n_HRuKs"
   },
   "outputs": [],
   "source": [
    "def change_type_pred(row):\n",
    "    if row['Pred'] > row['His_Pred'] and row['Pred_change_rate'] > 1.5:\n",
    "        return 0\n",
    "    elif row['Pred'] < row['His_Pred'] and row['Pred_change_rate'] > 1.5:\n",
    "        return 2\n",
    "    else:\n",
    "        return 1\n",
    "\n",
    "def change_type_true(row):\n",
    "    if row['True'] > row['His_True'] and row['True_change_rate'] > 1.5:\n",
    "        return 0\n",
    "    elif row['True'] < row['His_True'] and row['True_change_rate'] > 1.5:\n",
    "        return 2\n",
    "    else:\n",
    "        return 1\n",
    "\n",
    "pred_df['Pred_change_type'] = pred_df.apply(lambda row : change_type_pred(row), axis=1)\n",
    "pred_df['True_change_type'] = pred_df.apply(lambda row : change_type_true(row), axis=1)"
   ]
  },
  {
   "cell_type": "code",
   "execution_count": null,
   "metadata": {
    "colab": {
     "base_uri": "https://localhost:8080/",
     "height": 206
    },
    "id": "D4hvJeXSSu19",
    "outputId": "aca26c91-d795-465f-dddd-314e38c52007"
   },
   "outputs": [
    {
     "data": {
      "text/html": [
       "<div>\n",
       "<style scoped>\n",
       "    .dataframe tbody tr th:only-of-type {\n",
       "        vertical-align: middle;\n",
       "    }\n",
       "\n",
       "    .dataframe tbody tr th {\n",
       "        vertical-align: top;\n",
       "    }\n",
       "\n",
       "    .dataframe thead th {\n",
       "        text-align: right;\n",
       "    }\n",
       "</style>\n",
       "<table border=\"1\" class=\"dataframe\">\n",
       "  <thead>\n",
       "    <tr style=\"text-align: right;\">\n",
       "      <th></th>\n",
       "      <th>Pred</th>\n",
       "      <th>True</th>\n",
       "      <th>His_True</th>\n",
       "      <th>His_Pred</th>\n",
       "      <th>Pred_change_rate</th>\n",
       "      <th>True_change_rate</th>\n",
       "      <th>Pred_change_type</th>\n",
       "      <th>True_change_type</th>\n",
       "    </tr>\n",
       "  </thead>\n",
       "  <tbody>\n",
       "    <tr>\n",
       "      <th>130</th>\n",
       "      <td>124.832245</td>\n",
       "      <td>125.89</td>\n",
       "      <td>123.54</td>\n",
       "      <td>125.458717</td>\n",
       "      <td>0.499346</td>\n",
       "      <td>1.902218</td>\n",
       "      <td>1</td>\n",
       "      <td>0</td>\n",
       "    </tr>\n",
       "    <tr>\n",
       "      <th>131</th>\n",
       "      <td>125.336998</td>\n",
       "      <td>125.90</td>\n",
       "      <td>125.89</td>\n",
       "      <td>124.832245</td>\n",
       "      <td>0.404345</td>\n",
       "      <td>0.007943</td>\n",
       "      <td>1</td>\n",
       "      <td>1</td>\n",
       "    </tr>\n",
       "    <tr>\n",
       "      <th>132</th>\n",
       "      <td>125.662926</td>\n",
       "      <td>126.74</td>\n",
       "      <td>125.90</td>\n",
       "      <td>125.336998</td>\n",
       "      <td>0.260041</td>\n",
       "      <td>0.667196</td>\n",
       "      <td>1</td>\n",
       "      <td>1</td>\n",
       "    </tr>\n",
       "    <tr>\n",
       "      <th>133</th>\n",
       "      <td>126.238167</td>\n",
       "      <td>127.13</td>\n",
       "      <td>126.74</td>\n",
       "      <td>125.662926</td>\n",
       "      <td>0.457765</td>\n",
       "      <td>0.307717</td>\n",
       "      <td>1</td>\n",
       "      <td>1</td>\n",
       "    </tr>\n",
       "    <tr>\n",
       "      <th>134</th>\n",
       "      <td>126.753014</td>\n",
       "      <td>126.11</td>\n",
       "      <td>127.13</td>\n",
       "      <td>126.238167</td>\n",
       "      <td>0.407838</td>\n",
       "      <td>0.802328</td>\n",
       "      <td>1</td>\n",
       "      <td>1</td>\n",
       "    </tr>\n",
       "  </tbody>\n",
       "</table>\n",
       "</div>"
      ],
      "text/plain": [
       "           Pred    True  ...  Pred_change_type  True_change_type\n",
       "130  124.832245  125.89  ...                 1                 0\n",
       "131  125.336998  125.90  ...                 1                 1\n",
       "132  125.662926  126.74  ...                 1                 1\n",
       "133  126.238167  127.13  ...                 1                 1\n",
       "134  126.753014  126.11  ...                 1                 1\n",
       "\n",
       "[5 rows x 8 columns]"
      ]
     },
     "execution_count": 55,
     "metadata": {
      "tags": []
     },
     "output_type": "execute_result"
    }
   ],
   "source": [
    "pred_df"
   ]
  },
  {
   "cell_type": "markdown",
   "metadata": {
    "id": "58CJLEpGD3Ll"
   },
   "source": [
    "# 7. Baseline Model"
   ]
  },
  {
   "cell_type": "code",
   "execution_count": null,
   "metadata": {
    "colab": {
     "base_uri": "https://localhost:8080/"
    },
    "id": "oPOrk-tylRNT",
    "outputId": "726c72ff-8c08-4a31-c723-598ccfecf280"
   },
   "outputs": [
    {
     "name": "stdout",
     "output_type": "stream",
     "text": [
      "Model: \"sequential\"\n",
      "_________________________________________________________________\n",
      "Layer (type)                 Output Shape              Param #   \n",
      "=================================================================\n",
      "bidirectional_2 (Bidirection (None, 60, 120)           22680     \n",
      "_________________________________________________________________\n",
      "dropout_5 (Dropout)          (None, 60, 120)           0         \n",
      "_________________________________________________________________\n",
      "gru_6 (GRU)                  (None, 60)                32760     \n",
      "_________________________________________________________________\n",
      "dropout_6 (Dropout)          (None, 60)                0         \n",
      "_________________________________________________________________\n",
      "dense_2 (Dense)              (None, 25)                1525      \n",
      "_________________________________________________________________\n",
      "dense_3 (Dense)              (None, 1)                 26        \n",
      "=================================================================\n",
      "Total params: 56,991\n",
      "Trainable params: 56,991\n",
      "Non-trainable params: 0\n",
      "_________________________________________________________________\n",
      "CPU times: user 751 ms, sys: 17.1 ms, total: 769 ms\n",
      "Wall time: 766 ms\n"
     ]
    }
   ],
   "source": [
    "%%time\n",
    "# The LSTM architecture\n",
    "regressorBiLSTM = Sequential()\n",
    "# 1st layer with Dropout regularisation\n",
    "regressorBiLSTM.add(Bidirectional(GRU(units=60, return_sequences=True), input_shape=(X_train.shape[1],1)))\n",
    "regressorBiLSTM.add(Dropout(0.2))\n",
    "\n",
    "# 2nd LSTM layer\n",
    "regressorBiLSTM.add(GRU(units=60))\n",
    "regressorBiLSTM.add(Dropout(0.2))\n",
    "\n",
    "# Output layer\n",
    "regressorBiLSTM.add(Dense(25))\n",
    "regressorBiLSTM.add(Dense(units=1))\n",
    "\n",
    "# Compiling LSTM \n",
    "regressorBiLSTM.compile(optimizer='adam', loss='mean_squared_error')\n",
    "regressorBiLSTM.summary()"
   ]
  },
  {
   "cell_type": "code",
   "execution_count": null,
   "metadata": {
    "colab": {
     "base_uri": "https://localhost:8080/"
    },
    "id": "p1NctIOolenN",
    "outputId": "45d0bf35-a461-47fa-9c7a-0caab818905a"
   },
   "outputs": [
    {
     "name": "stderr",
     "output_type": "stream",
     "text": [
      "/usr/local/lib/python3.7/dist-packages/tensorflow/python/data/ops/dataset_ops.py:3704: UserWarning: Even though the `tf.config.experimental_run_functions_eagerly` option is set, this option does not apply to tf.data functions. To force eager execution of tf.data functions, please use `tf.data.experimental.enable.debug_mode()`.\n",
      "  \"Even though the `tf.config.experimental_run_functions_eagerly` \"\n"
     ]
    },
    {
     "name": "stdout",
     "output_type": "stream",
     "text": [
      "Epoch 1/100\n",
      "30/30 [==============================] - 2s 62ms/step - loss: 0.0102 - val_loss: 3.8059e-04\n",
      "Epoch 2/100\n",
      "30/30 [==============================] - 2s 60ms/step - loss: 4.1907e-04 - val_loss: 5.6211e-04\n",
      "Epoch 3/100\n",
      "30/30 [==============================] - 2s 59ms/step - loss: 2.6537e-04 - val_loss: 3.7883e-04\n",
      "Epoch 4/100\n",
      "30/30 [==============================] - 2s 59ms/step - loss: 4.2612e-04 - val_loss: 0.0011\n",
      "Epoch 5/100\n",
      "30/30 [==============================] - 2s 59ms/step - loss: 2.8977e-04 - val_loss: 0.0017\n",
      "Epoch 6/100\n",
      "30/30 [==============================] - 2s 58ms/step - loss: 2.5580e-04 - val_loss: 6.8497e-04\n",
      "Epoch 7/100\n",
      "30/30 [==============================] - 2s 59ms/step - loss: 2.0509e-04 - val_loss: 7.7930e-04\n",
      "Epoch 8/100\n",
      "30/30 [==============================] - 2s 59ms/step - loss: 1.8772e-04 - val_loss: 3.4616e-04\n",
      "Epoch 9/100\n",
      "30/30 [==============================] - 2s 59ms/step - loss: 1.8416e-04 - val_loss: 5.1265e-04\n",
      "Epoch 10/100\n",
      "30/30 [==============================] - 2s 61ms/step - loss: 1.6561e-04 - val_loss: 3.6191e-04\n",
      "Epoch 11/100\n",
      "30/30 [==============================] - 2s 60ms/step - loss: 1.5451e-04 - val_loss: 3.3063e-04\n",
      "Epoch 12/100\n",
      "30/30 [==============================] - 2s 59ms/step - loss: 1.5880e-04 - val_loss: 9.0619e-04\n",
      "Epoch 13/100\n",
      "30/30 [==============================] - 2s 59ms/step - loss: 1.6099e-04 - val_loss: 8.2789e-04\n",
      "Epoch 14/100\n",
      "30/30 [==============================] - 2s 60ms/step - loss: 1.1911e-04 - val_loss: 4.5338e-04\n",
      "Epoch 15/100\n",
      "30/30 [==============================] - 2s 60ms/step - loss: 1.3011e-04 - val_loss: 0.0019\n",
      "Epoch 16/100\n",
      "30/30 [==============================] - 2s 60ms/step - loss: 4.3434e-04 - val_loss: 5.0390e-04\n"
     ]
    },
    {
     "data": {
      "text/plain": [
       "<keras.callbacks.History at 0x7f3192602650>"
      ]
     },
     "execution_count": 57,
     "metadata": {
      "tags": []
     },
     "output_type": "execute_result"
    }
   ],
   "source": [
    "logger_filename = '/content/drive/MyDrive/stock_prediction/AAPL/training_log_bilstm_model.csv'\n",
    "\n",
    "my_callback = [\n",
    "               EarlyStopping(patience=5,monitor='val_loss'),\n",
    "               CSVLogger(filename=logger_filename)\n",
    "\n",
    "]\n",
    "\n",
    "# training setting\n",
    "epochs = 100\n",
    "batch_size = 64\n",
    "\n",
    "# Fitting to the training set\n",
    "regressorBiLSTM.fit(trainset['X'], trainset['y'], epochs=epochs, batch_size=batch_size, callbacks=my_callback\n",
    "                              , validation_data=(valset['X'], valset['y']))"
   ]
  },
  {
   "cell_type": "code",
   "execution_count": null,
   "metadata": {
    "id": "sVdgcyXTOhQq"
   },
   "outputs": [],
   "source": [
    "regressorBiLSTM.save('/content/drive/MyDrive/stock_prediction/AAPL/stock_pred_bilstm_model.h5')"
   ]
  },
  {
   "cell_type": "markdown",
   "metadata": {
    "id": "GEYlrtR_lrpC"
   },
   "source": [
    "## Evaluation"
   ]
  },
  {
   "cell_type": "code",
   "execution_count": null,
   "metadata": {
    "colab": {
     "base_uri": "https://localhost:8080/",
     "height": 298
    },
    "id": "Ml4viY44lrpD",
    "outputId": "5cec611c-1767-480b-a7c4-efdb1155e695"
   },
   "outputs": [
    {
     "name": "stderr",
     "output_type": "stream",
     "text": [
      "/usr/local/lib/python3.7/dist-packages/tensorflow/python/data/ops/dataset_ops.py:3704: UserWarning: Even though the `tf.config.experimental_run_functions_eagerly` option is set, this option does not apply to tf.data functions. To force eager execution of tf.data functions, please use `tf.data.experimental.enable.debug_mode()`.\n",
      "  \"Even though the `tf.config.experimental_run_functions_eagerly` \"\n",
      "/usr/local/lib/python3.7/dist-packages/tensorflow/python/data/ops/dataset_ops.py:3704: UserWarning: Even though the `tf.config.experimental_run_functions_eagerly` option is set, this option does not apply to tf.data functions. To force eager execution of tf.data functions, please use `tf.data.experimental.enable.debug_mode()`.\n",
      "  \"Even though the `tf.config.experimental_run_functions_eagerly` \"\n",
      "/usr/local/lib/python3.7/dist-packages/tensorflow/python/data/ops/dataset_ops.py:3704: UserWarning: Even though the `tf.config.experimental_run_functions_eagerly` option is set, this option does not apply to tf.data functions. To force eager execution of tf.data functions, please use `tf.data.experimental.enable.debug_mode()`.\n",
      "  \"Even though the `tf.config.experimental_run_functions_eagerly` \"\n"
     ]
    },
    {
     "data": {
      "text/plain": [
       "<matplotlib.legend.Legend at 0x7f31747f2e90>"
      ]
     },
     "execution_count": 59,
     "metadata": {
      "tags": []
     },
     "output_type": "execute_result"
    },
    {
     "data": {
      "image/png": "[encoded data removed]",
      "text/plain": [
       "<Figure size 864x144 with 1 Axes>"
      ]
     },
     "metadata": {
      "needs_background": "light",
      "tags": []
     },
     "output_type": "display_data"
    }
   ],
   "source": [
    "def calculate_mse(scaler, y_input, x_input):\n",
    "    y_pred = regressorBiLSTM.predict(x_input)\n",
    "    MSE = mean_squared_error(y_input, y_pred)\n",
    "\n",
    "    y_true = scaler.inverse_transform(y_input.reshape(-1,1))\n",
    "    y_pred = scaler.inverse_transform(y_pred)\n",
    "\n",
    "    real_mse = np.mean(np.square(y_true - y_pred))\n",
    "    scaled_mse = real_mse/(np.max(y_true) - np.min(y_true)) * 100\n",
    "\n",
    "    return MSE, scaled_mse, y_true, y_pred\n",
    "\n",
    "train_MSE, train_scaled_mse, train_y, train_y_pred = calculate_mse(scaler, trainset[\"y\"], trainset[\"X\"])\n",
    "val_MSE, val_scaled_mse, val_y, val_y_pred = calculate_mse(scaler, valset[\"y\"], valset[\"X\"])\n",
    "test_MSE, test_scaled_mse, test_y, test_y_pred = calculate_mse(scaler, testset[\"y\"], testset[\"X\"])\n",
    "\n",
    "y_true = np.vstack((test_y))\n",
    "y_pred = np.vstack((test_y_pred))\n",
    "\n",
    "\n",
    "mse = {}\n",
    "mse[\"train\"] = train_MSE\n",
    "mse[\"val\"] = val_MSE\n",
    "mse[\"test\"] = test_MSE\n",
    "\n",
    "scaled_mse = {}\n",
    "scaled_mse[\"train\"] = train_scaled_mse\n",
    "scaled_mse[\"val\"] = val_scaled_mse\n",
    "scaled_mse[\"test\"] = test_scaled_mse\n",
    "\n",
    "plt.figure(figsize=(12,2))\n",
    "plt.plot(y_true)\n",
    "plt.plot(y_pred)\n",
    "plt.legend(['y_true','y_pred'])"
   ]
  },
  {
   "cell_type": "code",
   "execution_count": null,
   "metadata": {
    "colab": {
     "base_uri": "https://localhost:8080/"
    },
    "id": "T_itD5jCvf9O",
    "outputId": "1f8751f7-5376-4688-fc9a-70e54c16b46e"
   },
   "outputs": [
    {
     "data": {
      "text/plain": [
       "{'test': 0.0020543185266598146,\n",
       " 'train': 6.526608290309821e-05,\n",
       " 'val': 0.0005038990227674774}"
      ]
     },
     "execution_count": 60,
     "metadata": {
      "tags": []
     },
     "output_type": "execute_result"
    }
   ],
   "source": [
    "mse"
   ]
  },
  {
   "cell_type": "code",
   "execution_count": null,
   "metadata": {
    "colab": {
     "base_uri": "https://localhost:8080/"
    },
    "id": "Ss9b4cyNxovX",
    "outputId": "4111494f-5e01-4ccf-93da-d7e3b185433c"
   },
   "outputs": [
    {
     "data": {
      "text/plain": [
       "{'test': 126.41840295179834,\n",
       " 'train': 1.8325453438004402,\n",
       " 'val': 12.22600580218653}"
      ]
     },
     "execution_count": 61,
     "metadata": {
      "tags": []
     },
     "output_type": "execute_result"
    }
   ],
   "source": [
    "scaled_mse"
   ]
  },
  {
   "cell_type": "markdown",
   "metadata": {
    "id": "RHqzqa3pGzL7"
   },
   "source": [
    "# 8. Full-connected Network with TF-IDF\n",
    "## Headlines Input Preparation"
   ]
  },
  {
   "cell_type": "code",
   "execution_count": null,
   "metadata": {
    "colab": {
     "base_uri": "https://localhost:8080/",
     "height": 410
    },
    "id": "Jx7n9fChxovU",
    "outputId": "0c9c093c-d48d-4252-d6d9-abb963f55718"
   },
   "outputs": [
    {
     "data": {
      "text/html": [
       "<div>\n",
       "<style scoped>\n",
       "    .dataframe tbody tr th:only-of-type {\n",
       "        vertical-align: middle;\n",
       "    }\n",
       "\n",
       "    .dataframe tbody tr th {\n",
       "        vertical-align: top;\n",
       "    }\n",
       "\n",
       "    .dataframe thead th {\n",
       "        text-align: right;\n",
       "    }\n",
       "</style>\n",
       "<table border=\"1\" class=\"dataframe\">\n",
       "  <thead>\n",
       "    <tr style=\"text-align: right;\">\n",
       "      <th></th>\n",
       "      <th>index</th>\n",
       "      <th>Close</th>\n",
       "      <th>Title</th>\n",
       "      <th>text_decont</th>\n",
       "      <th>text_no_punc</th>\n",
       "      <th>tk</th>\n",
       "      <th>tfidf</th>\n",
       "      <th>tfidf_new</th>\n",
       "    </tr>\n",
       "    <tr>\n",
       "      <th>Date</th>\n",
       "      <th></th>\n",
       "      <th></th>\n",
       "      <th></th>\n",
       "      <th></th>\n",
       "      <th></th>\n",
       "      <th></th>\n",
       "      <th></th>\n",
       "      <th></th>\n",
       "    </tr>\n",
       "  </thead>\n",
       "  <tbody>\n",
       "    <tr>\n",
       "      <th>2012-05-18</th>\n",
       "      <td>0</td>\n",
       "      <td>18.94</td>\n",
       "      <td></td>\n",
       "      <td></td>\n",
       "      <td></td>\n",
       "      <td></td>\n",
       "      <td></td>\n",
       "      <td>[0.0, 0.0, 0.0, 0.0, 0.0, 0.0, 0.0, 0.0, 0.0, ...</td>\n",
       "    </tr>\n",
       "    <tr>\n",
       "      <th>2012-05-21</th>\n",
       "      <td>1</td>\n",
       "      <td>20.05</td>\n",
       "      <td>Boot up: web v apps, Google v France, the iPho...</td>\n",
       "      <td>boot up: web v apps, google v france, the ipho...</td>\n",
       "      <td>boot up  web v apps  google v france  the ipho...</td>\n",
       "      <td>[boot, up, web, v, apps, google, v, france, th...</td>\n",
       "      <td>[0.0, 0.0, 0.0, 0.0, 0.0, 0.0, 0.0, 0.0, 0.0, ...</td>\n",
       "      <td>[0.0, 0.0, 0.0, 0.0, 0.0, 0.0, 0.0, 0.0, 0.0, ...</td>\n",
       "    </tr>\n",
       "    <tr>\n",
       "      <th>2012-05-22</th>\n",
       "      <td>2</td>\n",
       "      <td>19.89</td>\n",
       "      <td></td>\n",
       "      <td></td>\n",
       "      <td></td>\n",
       "      <td></td>\n",
       "      <td></td>\n",
       "      <td>[0.0, 0.0, 0.0, 0.0, 0.0, 0.0, 0.0, 0.0, 0.0, ...</td>\n",
       "    </tr>\n",
       "    <tr>\n",
       "      <th>2012-05-23</th>\n",
       "      <td>3</td>\n",
       "      <td>20.38</td>\n",
       "      <td></td>\n",
       "      <td></td>\n",
       "      <td></td>\n",
       "      <td></td>\n",
       "      <td></td>\n",
       "      <td>[0.0, 0.0, 0.0, 0.0, 0.0, 0.0, 0.0, 0.0, 0.0, ...</td>\n",
       "    </tr>\n",
       "    <tr>\n",
       "      <th>2012-05-24</th>\n",
       "      <td>4</td>\n",
       "      <td>20.19</td>\n",
       "      <td>Boot up: Facebook's coming crash, iPhone gende...</td>\n",
       "      <td>boot up: facebook is coming crash, iphone gend...</td>\n",
       "      <td>boot up  facebook is coming crash  iphone gend...</td>\n",
       "      <td>[boot, up, facebook, is, coming, crash, iphone...</td>\n",
       "      <td>[0.0, 0.0, 0.0, 0.0, 0.0, 0.0, 0.0, 0.0, 0.0, ...</td>\n",
       "      <td>[0.0, 0.0, 0.0, 0.0, 0.0, 0.0, 0.0, 0.0, 0.0, ...</td>\n",
       "    </tr>\n",
       "  </tbody>\n",
       "</table>\n",
       "</div>"
      ],
      "text/plain": [
       "            index  ...                                          tfidf_new\n",
       "Date               ...                                                   \n",
       "2012-05-18      0  ...  [0.0, 0.0, 0.0, 0.0, 0.0, 0.0, 0.0, 0.0, 0.0, ...\n",
       "2012-05-21      1  ...  [0.0, 0.0, 0.0, 0.0, 0.0, 0.0, 0.0, 0.0, 0.0, ...\n",
       "2012-05-22      2  ...  [0.0, 0.0, 0.0, 0.0, 0.0, 0.0, 0.0, 0.0, 0.0, ...\n",
       "2012-05-23      3  ...  [0.0, 0.0, 0.0, 0.0, 0.0, 0.0, 0.0, 0.0, 0.0, ...\n",
       "2012-05-24      4  ...  [0.0, 0.0, 0.0, 0.0, 0.0, 0.0, 0.0, 0.0, 0.0, ...\n",
       "\n",
       "[5 rows x 8 columns]"
      ]
     },
     "execution_count": 62,
     "metadata": {
      "tags": []
     },
     "output_type": "execute_result"
    }
   ],
   "source": [
    "train_data.head()"
   ]
  },
  {
   "cell_type": "code",
   "execution_count": null,
   "metadata": {
    "id": "KEuKQ3zdxovV"
   },
   "outputs": [],
   "source": [
    "train_news = np.matrix(train_data.tfidf_new[n_lags:].tolist())\n",
    "#train_news = train_news.reshape(train_news.shape[0],1)\n",
    "\n",
    "val_news = np.matrix(val_data.tfidf_new[n_lags:].tolist())\n",
    "#val_news = val_news.reshape(val_news.shape[0],1)\n",
    "\n",
    "test_news = np.matrix(test_data.tfidf_new[n_lags:].tolist())\n",
    "#test_news = test_news.reshape(test_news.shape[0],1)"
   ]
  },
  {
   "cell_type": "code",
   "execution_count": null,
   "metadata": {
    "colab": {
     "base_uri": "https://localhost:8080/"
    },
    "id": "N5EdGGTHxovV",
    "outputId": "489037ed-04ce-4cce-cb65-0a090eae79d6"
   },
   "outputs": [
    {
     "name": "stdout",
     "output_type": "stream",
     "text": [
      "News to train: (1857, 3892)\n",
      "\n",
      "News to test: (135, 3892)\n",
      "\n",
      "News to val: (108, 3892)\n"
     ]
    }
   ],
   "source": [
    "print('News to train:',train_news.shape)\n",
    "print('\\nNews to test:',test_news.shape)\n",
    "print('\\nNews to val:',val_news.shape)"
   ]
  },
  {
   "cell_type": "markdown",
   "metadata": {
    "id": "-nI6xnTVGwcf"
   },
   "source": [
    "## Model"
   ]
  },
  {
   "cell_type": "code",
   "execution_count": null,
   "metadata": {
    "colab": {
     "base_uri": "https://localhost:8080/"
    },
    "id": "ooxaSGCBGwcf",
    "outputId": "5ddea6f8-a769-4364-e4bc-bbc316ffc755"
   },
   "outputs": [
    {
     "name": "stdout",
     "output_type": "stream",
     "text": [
      "CPU times: user 746 ms, sys: 17 ms, total: 763 ms\n",
      "Wall time: 766 ms\n"
     ]
    }
   ],
   "source": [
    "%%time\n",
    "# LSTM architecture\n",
    "# FIRST BRANCH operates on the first input\n",
    "# 1st layer with Dropout regularisation\n",
    "lstm_input = Input(shape=(X_train.shape[1],1))\n",
    "x = Bidirectional(GRU(units=60, return_sequences=True))(lstm_input)\n",
    "x = Dropout(0.2)(x)\n",
    "\n",
    "# 2nd LSTM layer\n",
    "x = GRU(units=60)(x)\n",
    "x = Dropout(0.2)(x)\n",
    "\n",
    "lstm_branch = Model(inputs=lstm_input, outputs=x)\n",
    "\n",
    "# SECOND BRANCH operates on the first input\n",
    "dense_input = Input(shape=(len(tfvec.get_feature_names()),))\n",
    "y = Dense(50)(dense_input)\n",
    "y = Dropout(0.2)(y)\n",
    "technical_indicators_branch = Model(inputs=dense_input, outputs=y)\n",
    "\n",
    "# combine the output of the two branches\n",
    "combined = concatenate([lstm_branch.output, technical_indicators_branch.output], name='concatenate')\n",
    "# Output layer\n",
    "z = Dense(25)(combined)\n",
    "z = Dense(units=1)(z)\n",
    "multi_model = Model(inputs=[lstm_branch.input, technical_indicators_branch.input], outputs=z)\n",
    "\n",
    "# Compiling\n",
    "multi_model.compile(optimizer='adam', loss='mean_squared_error')"
   ]
  },
  {
   "cell_type": "code",
   "execution_count": null,
   "metadata": {
    "colab": {
     "base_uri": "https://localhost:8080/",
     "height": 865
    },
    "id": "8wfNuQGbGwcg",
    "outputId": "7ed4b950-5db1-4ea1-c284-56d9a4a21874"
   },
   "outputs": [
    {
     "data": {
      "image/png": "[encoded data removed]",
      "text/plain": [
       "<IPython.core.display.Image object>"
      ]
     },
     "execution_count": 66,
     "metadata": {
      "tags": []
     },
     "output_type": "execute_result"
    }
   ],
   "source": [
    "from tensorflow.keras.utils import plot_model\n",
    "plot_model(multi_model, show_shapes=True)"
   ]
  },
  {
   "cell_type": "code",
   "execution_count": null,
   "metadata": {
    "colab": {
     "base_uri": "https://localhost:8080/"
    },
    "id": "ijR7N11_Gwcj",
    "outputId": "9f9fb7d4-249d-4567-980b-22a41d17233d"
   },
   "outputs": [
    {
     "name": "stderr",
     "output_type": "stream",
     "text": [
      "/usr/local/lib/python3.7/dist-packages/tensorflow/python/data/ops/dataset_ops.py:3704: UserWarning: Even though the `tf.config.experimental_run_functions_eagerly` option is set, this option does not apply to tf.data functions. To force eager execution of tf.data functions, please use `tf.data.experimental.enable.debug_mode()`.\n",
      "  \"Even though the `tf.config.experimental_run_functions_eagerly` \"\n"
     ]
    },
    {
     "name": "stdout",
     "output_type": "stream",
     "text": [
      "Epoch 1/100\n",
      "30/30 [==============================] - 2s 63ms/step - loss: 0.0104 - val_loss: 0.0037\n",
      "Epoch 2/100\n",
      "30/30 [==============================] - 2s 62ms/step - loss: 6.9192e-04 - val_loss: 0.0016\n",
      "Epoch 3/100\n",
      "30/30 [==============================] - 2s 66ms/step - loss: 3.2550e-04 - val_loss: 0.0017\n",
      "Epoch 4/100\n",
      "30/30 [==============================] - 2s 63ms/step - loss: 4.6346e-04 - val_loss: 8.4573e-04\n",
      "Epoch 5/100\n",
      "30/30 [==============================] - 2s 65ms/step - loss: 2.8938e-04 - val_loss: 9.7896e-04\n",
      "Epoch 6/100\n",
      "30/30 [==============================] - 2s 65ms/step - loss: 1.9061e-04 - val_loss: 6.9673e-04\n",
      "Epoch 7/100\n",
      "30/30 [==============================] - 2s 63ms/step - loss: 1.9126e-04 - val_loss: 0.0014\n",
      "Epoch 8/100\n",
      "30/30 [==============================] - 2s 62ms/step - loss: 2.0897e-04 - val_loss: 5.2773e-04\n",
      "Epoch 9/100\n",
      "30/30 [==============================] - 2s 62ms/step - loss: 1.5833e-04 - val_loss: 3.6720e-04\n",
      "Epoch 10/100\n",
      "30/30 [==============================] - 2s 62ms/step - loss: 1.3499e-04 - val_loss: 6.1138e-04\n",
      "Epoch 11/100\n",
      "30/30 [==============================] - 2s 62ms/step - loss: 1.4246e-04 - val_loss: 5.1949e-04\n",
      "Epoch 12/100\n",
      "30/30 [==============================] - 2s 62ms/step - loss: 1.3630e-04 - val_loss: 4.4223e-04\n",
      "Epoch 13/100\n",
      "30/30 [==============================] - 2s 62ms/step - loss: 1.4523e-04 - val_loss: 0.0011\n",
      "Epoch 14/100\n",
      "30/30 [==============================] - 2s 61ms/step - loss: 1.8676e-04 - val_loss: 0.0018\n"
     ]
    },
    {
     "data": {
      "text/plain": [
       "<keras.callbacks.History at 0x7f31750a4b50>"
      ]
     },
     "execution_count": 67,
     "metadata": {
      "tags": []
     },
     "output_type": "execute_result"
    }
   ],
   "source": [
    "from keras.callbacks import CSVLogger\n",
    "logger_filename = '/content/drive/MyDrive/stock_prediction/AAPL/training_log_fc_model.csv'\n",
    "\n",
    "my_callback = [\n",
    "               EarlyStopping(patience=5,monitor='val_loss'),\n",
    "               CSVLogger(filename=logger_filename)\n",
    "\n",
    "]\n",
    "\n",
    "# training setting\n",
    "epochs = 100\n",
    "batch_size = 64\n",
    "\n",
    "# Fitting to the training set\n",
    "multi_model.fit([trainset['X'], train_news], trainset['y'], epochs=epochs, batch_size=batch_size, callbacks=my_callback\n",
    "                              , validation_data=([valset['X'], val_news], valset['y']))"
   ]
  },
  {
   "cell_type": "code",
   "execution_count": null,
   "metadata": {
    "id": "YEiTP6u-Gwcj"
   },
   "outputs": [],
   "source": [
    "multi_model.save('/content/drive/MyDrive/stock_prediction/AAPL/stock_pred_fc_model.h5')"
   ]
  },
  {
   "cell_type": "markdown",
   "metadata": {
    "id": "P2LpA60MGwck"
   },
   "source": [
    "## Evaluation"
   ]
  },
  {
   "cell_type": "code",
   "execution_count": null,
   "metadata": {
    "colab": {
     "base_uri": "https://localhost:8080/",
     "height": 298
    },
    "id": "QpUsQZYBGwck",
    "outputId": "a01158e5-36ff-4a89-d934-37b69b10e1b1"
   },
   "outputs": [
    {
     "name": "stderr",
     "output_type": "stream",
     "text": [
      "/usr/local/lib/python3.7/dist-packages/tensorflow/python/data/ops/dataset_ops.py:3704: UserWarning: Even though the `tf.config.experimental_run_functions_eagerly` option is set, this option does not apply to tf.data functions. To force eager execution of tf.data functions, please use `tf.data.experimental.enable.debug_mode()`.\n",
      "  \"Even though the `tf.config.experimental_run_functions_eagerly` \"\n",
      "/usr/local/lib/python3.7/dist-packages/tensorflow/python/data/ops/dataset_ops.py:3704: UserWarning: Even though the `tf.config.experimental_run_functions_eagerly` option is set, this option does not apply to tf.data functions. To force eager execution of tf.data functions, please use `tf.data.experimental.enable.debug_mode()`.\n",
      "  \"Even though the `tf.config.experimental_run_functions_eagerly` \"\n",
      "/usr/local/lib/python3.7/dist-packages/tensorflow/python/data/ops/dataset_ops.py:3704: UserWarning: Even though the `tf.config.experimental_run_functions_eagerly` option is set, this option does not apply to tf.data functions. To force eager execution of tf.data functions, please use `tf.data.experimental.enable.debug_mode()`.\n",
      "  \"Even though the `tf.config.experimental_run_functions_eagerly` \"\n"
     ]
    },
    {
     "data": {
      "text/plain": [
       "<matplotlib.legend.Legend at 0x7f317350a150>"
      ]
     },
     "execution_count": 69,
     "metadata": {
      "tags": []
     },
     "output_type": "execute_result"
    },
    {
     "data": {
      "image/png": "[encoded data removed]",
      "text/plain": [
       "<Figure size 864x144 with 1 Axes>"
      ]
     },
     "metadata": {
      "needs_background": "light",
      "tags": []
     },
     "output_type": "display_data"
    }
   ],
   "source": [
    "def calculate_mse_multi(scaler, y_input, x_input, tfidf):\n",
    "    y_pred = multi_model.predict([x_input, tfidf])\n",
    "    MSE = mean_squared_error(y_input, y_pred)\n",
    "\n",
    "    y_true = scaler.inverse_transform(y_input.reshape(-1,1))\n",
    "    y_pred = scaler.inverse_transform(y_pred)\n",
    "\n",
    "    real_mse = np.mean(np.square(y_true - y_pred))\n",
    "    scaled_mse = real_mse/(np.max(y_true) - np.min(y_true)) * 100\n",
    "\n",
    "    return MSE, scaled_mse, y_true, y_pred\n",
    "\n",
    "train_MSE, train_scaled_mse, train_y, train_y_pred = calculate_mse_multi(scaler, trainset[\"y\"], trainset[\"X\"], train_news)\n",
    "val_MSE, val_scaled_mse, val_y, val_y_pred = calculate_mse_multi(scaler, valset[\"y\"], valset[\"X\"], val_news)\n",
    "test_MSE, test_scaled_mse, test_y, test_y_pred = calculate_mse_multi(scaler, testset[\"y\"], testset[\"X\"], test_news)\n",
    "\n",
    "y_true = np.vstack((test_y))\n",
    "y_pred = np.vstack((test_y_pred))\n",
    "\n",
    "\n",
    "mse = {}\n",
    "mse[\"train\"] = train_MSE\n",
    "mse[\"val\"] = val_MSE\n",
    "mse[\"test\"] = test_MSE\n",
    "\n",
    "scaled_mse = {}\n",
    "scaled_mse[\"train\"] = train_scaled_mse\n",
    "scaled_mse[\"val\"] = val_scaled_mse\n",
    "scaled_mse[\"test\"] = test_scaled_mse\n",
    "\n",
    "plt.figure(figsize=(12,2))\n",
    "plt.plot(y_true)\n",
    "plt.plot(y_pred)\n",
    "plt.legend(['y_true','y_pred'])"
   ]
  },
  {
   "cell_type": "code",
   "execution_count": null,
   "metadata": {
    "colab": {
     "base_uri": "https://localhost:8080/"
    },
    "id": "QSp_qN6hGwcl",
    "outputId": "eff456df-7698-46fa-882b-a8e774e45484"
   },
   "outputs": [
    {
     "data": {
      "text/plain": [
       "{'test': 0.001983904865335473,\n",
       " 'train': 9.721211159682419e-05,\n",
       " 'val': 0.001793054172801172}"
      ]
     },
     "execution_count": 70,
     "metadata": {
      "tags": []
     },
     "output_type": "execute_result"
    }
   ],
   "source": [
    "mse"
   ]
  },
  {
   "cell_type": "code",
   "execution_count": null,
   "metadata": {
    "colab": {
     "base_uri": "https://localhost:8080/"
    },
    "id": "aFGKvS17Gwcl",
    "outputId": "281ddd89-3109-405f-a79b-a623765b9c84"
   },
   "outputs": [
    {
     "data": {
      "text/plain": [
       "{'test': 122.08519176360586,\n",
       " 'train': 2.7295300851112296,\n",
       " 'val': 43.50446593008275}"
      ]
     },
     "execution_count": 71,
     "metadata": {
      "tags": []
     },
     "output_type": "execute_result"
    }
   ],
   "source": [
    "scaled_mse"
   ]
  }
 ],
 "metadata": {
  "accelerator": "GPU",
  "colab": {
   "collapsed_sections": [],
   "name": "AAPL_predict_stocks.ipynb",
   "provenance": []
  },
  "kernelspec": {
   "display_name": "Python 3",
   "language": "python",
   "name": "python3"
  },
  "language_info": {
   "codemirror_mode": {
    "name": "ipython",
    "version": 3
   },
   "file_extension": ".py",
   "mimetype": "text/x-python",
   "name": "python",
   "nbconvert_exporter": "python",
   "pygments_lexer": "ipython3",
   "version": "3.8.3"
  },
  "toc": {
   "base_numbering": 1,
   "nav_menu": {},
   "number_sections": false,
   "sideBar": true,
   "skip_h1_title": false,
   "title_cell": "Table of Contents",
   "title_sidebar": "Contents",
   "toc_cell": false,
   "toc_position": {},
   "toc_section_display": true,
   "toc_window_display": true
  }
 },
 "nbformat": 4,
 "nbformat_minor": 1
}
