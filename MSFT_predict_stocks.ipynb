{
 "cells": [
  {
   "cell_type": "code",
   "execution_count": null,
   "metadata": {
    "colab": {
     "base_uri": "https://localhost:8080/"
    },
    "id": "koG59PBWyg3Y",
    "outputId": "4b3a584c-0a27-487b-d66f-cf5bbb7c148f"
   },
   "outputs": [
    {
     "name": "stdout",
     "output_type": "stream",
     "text": [
      "Mounted at /content/drive\n"
     ]
    }
   ],
   "source": [
    "from google.colab import drive\n",
    "drive.mount('/content/drive')"
   ]
  },
  {
   "cell_type": "code",
   "execution_count": null,
   "metadata": {
    "colab": {
     "base_uri": "https://localhost:8080/"
    },
    "id": "H4hbgmqI6sUF",
    "outputId": "d0e0ff77-8d4f-4c93-e1e0-b6592ad89468"
   },
   "outputs": [
    {
     "name": "stdout",
     "output_type": "stream",
     "text": [
      "WARNING:tensorflow:From <ipython-input-2-cef63d6acc25>:2: experimental_run_functions_eagerly (from tensorflow.python.eager.def_function) is deprecated and will be removed in a future version.\n",
      "Instructions for updating:\n",
      "Use `tf.config.run_functions_eagerly` instead of the experimental version.\n"
     ]
    }
   ],
   "source": [
    "import tensorflow as tf\n",
    "tf.config.experimental_run_functions_eagerly(True)"
   ]
  },
  {
   "cell_type": "markdown",
   "metadata": {
    "id": "xdkVugMTxovI"
   },
   "source": [
    "# 1. Data Preparation"
   ]
  },
  {
   "cell_type": "code",
   "execution_count": null,
   "metadata": {
    "colab": {
     "base_uri": "https://localhost:8080/"
    },
    "id": "FaF9s5jxxovI",
    "outputId": "3a6e36db-b46b-4d84-b9b0-725401917d93"
   },
   "outputs": [
    {
     "name": "stdout",
     "output_type": "stream",
     "text": [
      "[nltk_data] Downloading package universal_tagset to /root/nltk_data...\n",
      "[nltk_data]   Unzipping taggers/universal_tagset.zip.\n",
      "[nltk_data] Downloading package punkt to /root/nltk_data...\n",
      "[nltk_data]   Unzipping tokenizers/punkt.zip.\n"
     ]
    }
   ],
   "source": [
    "import pandas as pd\n",
    "import numpy as np\n",
    "import re\n",
    "from tqdm import tqdm\n",
    "from pprint import pprint\n",
    "import regex\n",
    "import spacy\n",
    "import nltk\n",
    "from nltk.corpus import stopwords\n",
    "import matplotlib.pyplot as plt\n",
    "from sklearn.feature_extraction.text import TfidfVectorizer\n",
    "import random\n",
    "from tensorflow import keras\n",
    "from tensorflow.keras import layers\n",
    "from keras.models import Sequential, Model\n",
    "from keras.callbacks import EarlyStopping\n",
    "from keras.layers.convolutional import Conv1D, MaxPooling1D\n",
    "from keras.layers import Activation, Input, Dense, Dropout, BatchNormalization, \\\n",
    "LSTM, GRU, Bidirectional, Flatten, concatenate, Embedding, Reshape, GlobalAveragePooling1D, \\\n",
    "Attention, BatchNormalization\n",
    "from keras.callbacks import EarlyStopping\n",
    "from keras import optimizers, regularizers\n",
    "from sklearn.metrics import plot_roc_curve, roc_curve, \\\n",
    "auc, precision_score, recall_score, confusion_matrix, \\\n",
    "classification_report, accuracy_score, f1_score, mean_squared_error\n",
    "from sklearn.preprocessing import MinMaxScaler\n",
    "from datetime import datetime\n",
    "from datetime import timedelta\n",
    "\n",
    "nltk.download('universal_tagset')\n",
    "nltk.download('punkt')\n",
    "random.seed(1)"
   ]
  },
  {
   "cell_type": "code",
   "execution_count": null,
   "metadata": {
    "colab": {
     "base_uri": "https://localhost:8080/"
    },
    "id": "niHSED8UxovK",
    "outputId": "6e88b4c4-ae65-451c-ce34-e75d8c4d6026",
    "scrolled": false
   },
   "outputs": [
    {
     "data": {
      "text/plain": [
       "(5681, 5)"
      ]
     },
     "execution_count": 4,
     "metadata": {
      "tags": []
     },
     "output_type": "execute_result"
    }
   ],
   "source": [
    "df = pd.read_csv('/content/drive/MyDrive/stock_prediction/data/All_News.csv')\n",
    "df.drop(columns=[df.columns[0],df.columns[5]], axis=1, inplace=True)\n",
    "df.shape"
   ]
  },
  {
   "cell_type": "code",
   "execution_count": null,
   "metadata": {
    "colab": {
     "base_uri": "https://localhost:8080/"
    },
    "id": "meZO1Sfs-Xmi",
    "outputId": "e7c81c15-dff4-4324-c553-1c0bcdc52046"
   },
   "outputs": [
    {
     "data": {
      "text/plain": [
       "(18, 5)"
      ]
     },
     "execution_count": 5,
     "metadata": {
      "tags": []
     },
     "output_type": "execute_result"
    }
   ],
   "source": [
    "df1 = pd.read_csv('/content/drive/MyDrive/stock_prediction/data/All_News_update.csv')\n",
    "df1.drop(columns=[df1.columns[0],df1.columns[5]], axis=1, inplace=True)\n",
    "df1.shape"
   ]
  },
  {
   "cell_type": "code",
   "execution_count": null,
   "metadata": {
    "colab": {
     "base_uri": "https://localhost:8080/"
    },
    "id": "naYlq2yf-tgZ",
    "outputId": "42f8ecd5-3b50-4f6c-afe8-d2f74c98246e"
   },
   "outputs": [
    {
     "data": {
      "text/plain": [
       "(5699, 5)"
      ]
     },
     "execution_count": 6,
     "metadata": {
      "tags": []
     },
     "output_type": "execute_result"
    }
   ],
   "source": [
    "df = df.append(df1)\n",
    "df.shape"
   ]
  },
  {
   "cell_type": "markdown",
   "metadata": {
    "id": "iUq48mqi_zAt"
   },
   "source": [
    "## Filter Company"
   ]
  },
  {
   "cell_type": "code",
   "execution_count": null,
   "metadata": {
    "colab": {
     "base_uri": "https://localhost:8080/"
    },
    "id": "0rql7MtLeVzi",
    "outputId": "68247cfb-6c19-4c10-d788-719aae1b61e7"
   },
   "outputs": [
    {
     "data": {
      "text/plain": [
       "array(['Apple', 'Microsoft', 'Amazon', 'Google', 'Facebook', 'MSFT'],\n",
       "      dtype=object)"
      ]
     },
     "execution_count": 7,
     "metadata": {
      "tags": []
     },
     "output_type": "execute_result"
    }
   ],
   "source": [
    "df['company_name'].unique()"
   ]
  },
  {
   "cell_type": "code",
   "execution_count": null,
   "metadata": {
    "colab": {
     "base_uri": "https://localhost:8080/"
    },
    "id": "s5Tf3xdR_uBP",
    "outputId": "c5c6799b-0a33-4f7f-a4bf-7134199ff079"
   },
   "outputs": [
    {
     "data": {
      "text/plain": [
       "(323, 5)"
      ]
     },
     "execution_count": 8,
     "metadata": {
      "tags": []
     },
     "output_type": "execute_result"
    }
   ],
   "source": [
    "df = df[df['company_name'] == 'Microsoft']\n",
    "df.shape"
   ]
  },
  {
   "cell_type": "markdown",
   "metadata": {
    "id": "1Hv1Feil_DqV"
   },
   "source": [
    "## Remove Duplicates"
   ]
  },
  {
   "cell_type": "code",
   "execution_count": null,
   "metadata": {
    "colab": {
     "base_uri": "https://localhost:8080/"
    },
    "id": "iOlqj1tw_F1o",
    "outputId": "16a63e91-90e3-433a-ce56-69176e3b4167"
   },
   "outputs": [
    {
     "name": "stdout",
     "output_type": "stream",
     "text": [
      "# duplicates:  0\n"
     ]
    }
   ],
   "source": [
    "#remove duplicates\n",
    "nb_rows = df.shape[0]\n",
    "df.drop_duplicates(inplace=True)\n",
    "print('# duplicates: ', nb_rows - df.shape[0])"
   ]
  },
  {
   "cell_type": "markdown",
   "metadata": {
    "id": "JXPaI4M3_MYR"
   },
   "source": [
    "## Missing Value"
   ]
  },
  {
   "cell_type": "code",
   "execution_count": null,
   "metadata": {
    "colab": {
     "base_uri": "https://localhost:8080/",
     "height": 206
    },
    "id": "F-oXJZUM_N_2",
    "outputId": "61726fed-4f9b-408d-822e-90b4248d61e9"
   },
   "outputs": [
    {
     "data": {
      "text/html": [
       "<div>\n",
       "<style scoped>\n",
       "    .dataframe tbody tr th:only-of-type {\n",
       "        vertical-align: middle;\n",
       "    }\n",
       "\n",
       "    .dataframe tbody tr th {\n",
       "        vertical-align: top;\n",
       "    }\n",
       "\n",
       "    .dataframe thead th {\n",
       "        text-align: right;\n",
       "    }\n",
       "</style>\n",
       "<table border=\"1\" class=\"dataframe\">\n",
       "  <thead>\n",
       "    <tr style=\"text-align: right;\">\n",
       "      <th></th>\n",
       "      <th>0</th>\n",
       "      <th>1</th>\n",
       "    </tr>\n",
       "  </thead>\n",
       "  <tbody>\n",
       "    <tr>\n",
       "      <th>Date</th>\n",
       "      <td># Empty entries:</td>\n",
       "      <td>0</td>\n",
       "    </tr>\n",
       "    <tr>\n",
       "      <th>Title</th>\n",
       "      <td># Empty entries:</td>\n",
       "      <td>0</td>\n",
       "    </tr>\n",
       "    <tr>\n",
       "      <th>Url</th>\n",
       "      <td># Empty entries:</td>\n",
       "      <td>0</td>\n",
       "    </tr>\n",
       "    <tr>\n",
       "      <th>Body</th>\n",
       "      <td># Empty entries:</td>\n",
       "      <td>5</td>\n",
       "    </tr>\n",
       "    <tr>\n",
       "      <th>company_name</th>\n",
       "      <td># Empty entries:</td>\n",
       "      <td>0</td>\n",
       "    </tr>\n",
       "  </tbody>\n",
       "</table>\n",
       "</div>"
      ],
      "text/plain": [
       "                             0  1\n",
       "Date          # Empty entries:  0\n",
       "Title         # Empty entries:  0\n",
       "Url           # Empty entries:  0\n",
       "Body          # Empty entries:  5\n",
       "company_name  # Empty entries:  0"
      ]
     },
     "execution_count": 10,
     "metadata": {
      "tags": []
     },
     "output_type": "execute_result"
    }
   ],
   "source": [
    "#check null\n",
    "def check_missing_values(row):\n",
    "    \"\"\" functions that check and verifies if there are missing values in dataframe \"\"\"\n",
    "    counter = 0\n",
    "    for element in row:\n",
    "        if element == True:\n",
    "            counter+=1\n",
    "    return (\"# Empty entries:\", counter)\n",
    "\n",
    "df.isnull().apply(lambda x: check_missing_values(x)).transpose()"
   ]
  },
  {
   "cell_type": "markdown",
   "metadata": {
    "id": "yfpU3PhU_U88"
   },
   "source": [
    "## Adjust Published Date"
   ]
  },
  {
   "cell_type": "code",
   "execution_count": null,
   "metadata": {
    "colab": {
     "base_uri": "https://localhost:8080/",
     "height": 293
    },
    "id": "vEz46PPwxovL",
    "outputId": "3568b535-1d76-41a5-9e93-e866d4650f7f"
   },
   "outputs": [
    {
     "data": {
      "text/html": [
       "<div>\n",
       "<style scoped>\n",
       "    .dataframe tbody tr th:only-of-type {\n",
       "        vertical-align: middle;\n",
       "    }\n",
       "\n",
       "    .dataframe tbody tr th {\n",
       "        vertical-align: top;\n",
       "    }\n",
       "\n",
       "    .dataframe thead th {\n",
       "        text-align: right;\n",
       "    }\n",
       "</style>\n",
       "<table border=\"1\" class=\"dataframe\">\n",
       "  <thead>\n",
       "    <tr style=\"text-align: right;\">\n",
       "      <th></th>\n",
       "      <th>Date</th>\n",
       "      <th>Title</th>\n",
       "      <th>Url</th>\n",
       "      <th>Body</th>\n",
       "      <th>company_name</th>\n",
       "    </tr>\n",
       "  </thead>\n",
       "  <tbody>\n",
       "    <tr>\n",
       "      <th>1833</th>\n",
       "      <td>2021-04-13</td>\n",
       "      <td>Microsoft launches faster new Surface Laptop 4</td>\n",
       "      <td>https://www.theguardian.com/technology/2021/ap...</td>\n",
       "      <td>&lt;p&gt;Microsoft has announced the latest in its W...</td>\n",
       "      <td>Microsoft</td>\n",
       "    </tr>\n",
       "    <tr>\n",
       "      <th>1834</th>\n",
       "      <td>2021-03-17</td>\n",
       "      <td>Teen who hacked Joe Biden and Bill Gates' Twit...</td>\n",
       "      <td>https://www.theguardian.com/technology/2021/ma...</td>\n",
       "      <td>&lt;p&gt;An 18-year-old hacker who pulled off &lt;a hre...</td>\n",
       "      <td>Microsoft</td>\n",
       "    </tr>\n",
       "    <tr>\n",
       "      <th>1835</th>\n",
       "      <td>2020-12-18</td>\n",
       "      <td>Microsoft seeks Biden's support in case agains...</td>\n",
       "      <td>https://www.theguardian.com/technology/2020/de...</td>\n",
       "      <td>&lt;p&gt;Microsoft has called on the incoming Biden ...</td>\n",
       "      <td>Microsoft</td>\n",
       "    </tr>\n",
       "    <tr>\n",
       "      <th>1836</th>\n",
       "      <td>2020-12-18</td>\n",
       "      <td>Suspected Russian cyber-attack growing in scal...</td>\n",
       "      <td>https://www.theguardian.com/technology/2020/de...</td>\n",
       "      <td>&lt;p&gt;Microsoft has said the UK and six other cou...</td>\n",
       "      <td>Microsoft</td>\n",
       "    </tr>\n",
       "    <tr>\n",
       "      <th>1837</th>\n",
       "      <td>2020-12-18</td>\n",
       "      <td>Microsoft Surface Laptop Go review: missing th...</td>\n",
       "      <td>https://www.theguardian.com/technology/2020/de...</td>\n",
       "      <td>&lt;p&gt;The Surface Laptop Go is Microsoft’s attemp...</td>\n",
       "      <td>Microsoft</td>\n",
       "    </tr>\n",
       "  </tbody>\n",
       "</table>\n",
       "</div>"
      ],
      "text/plain": [
       "            Date  ... company_name\n",
       "1833  2021-04-13  ...    Microsoft\n",
       "1834  2021-03-17  ...    Microsoft\n",
       "1835  2020-12-18  ...    Microsoft\n",
       "1836  2020-12-18  ...    Microsoft\n",
       "1837  2020-12-18  ...    Microsoft\n",
       "\n",
       "[5 rows x 5 columns]"
      ]
     },
     "execution_count": 11,
     "metadata": {
      "tags": []
     },
     "output_type": "execute_result"
    }
   ],
   "source": [
    "df['Date'] = pd.to_datetime(df['Date'], format='%Y-%m-%d').dt.date\n",
    "df.head()"
   ]
  },
  {
   "cell_type": "code",
   "execution_count": null,
   "metadata": {
    "colab": {
     "base_uri": "https://localhost:8080/",
     "height": 597
    },
    "id": "M5ybzhFPxovL",
    "outputId": "29e336c0-184c-47e6-87fd-1a05c502b2d9"
   },
   "outputs": [
    {
     "data": {
      "text/html": [
       "<div>\n",
       "<style scoped>\n",
       "    .dataframe tbody tr th:only-of-type {\n",
       "        vertical-align: middle;\n",
       "    }\n",
       "\n",
       "    .dataframe tbody tr th {\n",
       "        vertical-align: top;\n",
       "    }\n",
       "\n",
       "    .dataframe thead th {\n",
       "        text-align: right;\n",
       "    }\n",
       "</style>\n",
       "<table border=\"1\" class=\"dataframe\">\n",
       "  <thead>\n",
       "    <tr style=\"text-align: right;\">\n",
       "      <th></th>\n",
       "      <th>Date</th>\n",
       "      <th>Title</th>\n",
       "      <th>Url</th>\n",
       "      <th>Body</th>\n",
       "      <th>company_name</th>\n",
       "      <th>wday</th>\n",
       "    </tr>\n",
       "  </thead>\n",
       "  <tbody>\n",
       "    <tr>\n",
       "      <th>1833</th>\n",
       "      <td>2021-04-13</td>\n",
       "      <td>Microsoft launches faster new Surface Laptop 4</td>\n",
       "      <td>https://www.theguardian.com/technology/2021/ap...</td>\n",
       "      <td>&lt;p&gt;Microsoft has announced the latest in its W...</td>\n",
       "      <td>Microsoft</td>\n",
       "      <td>1</td>\n",
       "    </tr>\n",
       "    <tr>\n",
       "      <th>1834</th>\n",
       "      <td>2021-03-17</td>\n",
       "      <td>Teen who hacked Joe Biden and Bill Gates' Twit...</td>\n",
       "      <td>https://www.theguardian.com/technology/2021/ma...</td>\n",
       "      <td>&lt;p&gt;An 18-year-old hacker who pulled off &lt;a hre...</td>\n",
       "      <td>Microsoft</td>\n",
       "      <td>2</td>\n",
       "    </tr>\n",
       "    <tr>\n",
       "      <th>1835</th>\n",
       "      <td>2020-12-18</td>\n",
       "      <td>Microsoft seeks Biden's support in case agains...</td>\n",
       "      <td>https://www.theguardian.com/technology/2020/de...</td>\n",
       "      <td>&lt;p&gt;Microsoft has called on the incoming Biden ...</td>\n",
       "      <td>Microsoft</td>\n",
       "      <td>4</td>\n",
       "    </tr>\n",
       "    <tr>\n",
       "      <th>1836</th>\n",
       "      <td>2020-12-18</td>\n",
       "      <td>Suspected Russian cyber-attack growing in scal...</td>\n",
       "      <td>https://www.theguardian.com/technology/2020/de...</td>\n",
       "      <td>&lt;p&gt;Microsoft has said the UK and six other cou...</td>\n",
       "      <td>Microsoft</td>\n",
       "      <td>4</td>\n",
       "    </tr>\n",
       "    <tr>\n",
       "      <th>1837</th>\n",
       "      <td>2020-12-18</td>\n",
       "      <td>Microsoft Surface Laptop Go review: missing th...</td>\n",
       "      <td>https://www.theguardian.com/technology/2020/de...</td>\n",
       "      <td>&lt;p&gt;The Surface Laptop Go is Microsoft’s attemp...</td>\n",
       "      <td>Microsoft</td>\n",
       "      <td>4</td>\n",
       "    </tr>\n",
       "    <tr>\n",
       "      <th>...</th>\n",
       "      <td>...</td>\n",
       "      <td>...</td>\n",
       "      <td>...</td>\n",
       "      <td>...</td>\n",
       "      <td>...</td>\n",
       "      <td>...</td>\n",
       "    </tr>\n",
       "    <tr>\n",
       "      <th>2151</th>\n",
       "      <td>2012-06-19</td>\n",
       "      <td>Microsoft reveals Surface Windows 8 tablets</td>\n",
       "      <td>https://www.theguardian.com/technology/2012/ju...</td>\n",
       "      <td>&lt;video data-media-id=\"gu-video-391836022\" clas...</td>\n",
       "      <td>Microsoft</td>\n",
       "      <td>1</td>\n",
       "    </tr>\n",
       "    <tr>\n",
       "      <th>2152</th>\n",
       "      <td>2012-06-17</td>\n",
       "      <td>Microsoft 'to launch tablet to compete with iPad'</td>\n",
       "      <td>https://www.theguardian.com/technology/2012/ju...</td>\n",
       "      <td>&lt;p&gt;Microsoft appears to be preparing to launch...</td>\n",
       "      <td>Microsoft</td>\n",
       "      <td>6</td>\n",
       "    </tr>\n",
       "    <tr>\n",
       "      <th>2153</th>\n",
       "      <td>2012-06-15</td>\n",
       "      <td>Boot up: Microsoft and Nokia look to undercut ...</td>\n",
       "      <td>https://www.theguardian.com/technology/blog/20...</td>\n",
       "      <td>&lt;p&gt;A quick burst of 11 links for you to chew o...</td>\n",
       "      <td>Microsoft</td>\n",
       "      <td>4</td>\n",
       "    </tr>\n",
       "    <tr>\n",
       "      <th>2154</th>\n",
       "      <td>2012-06-14</td>\n",
       "      <td>Boot up: Microsoft 'to buy Yammer', Android 'n...</td>\n",
       "      <td>https://www.theguardian.com/technology/blog/20...</td>\n",
       "      <td>&lt;p&gt;A quick burst of 7 links for you to chew ov...</td>\n",
       "      <td>Microsoft</td>\n",
       "      <td>3</td>\n",
       "    </tr>\n",
       "    <tr>\n",
       "      <th>2155</th>\n",
       "      <td>2012-06-01</td>\n",
       "      <td>Microsoft and Nokia hit back at Google 'patent...</td>\n",
       "      <td>https://www.theguardian.com/technology/2012/ju...</td>\n",
       "      <td>&lt;p&gt;The smartphone patent wars have heated up f...</td>\n",
       "      <td>Microsoft</td>\n",
       "      <td>4</td>\n",
       "    </tr>\n",
       "  </tbody>\n",
       "</table>\n",
       "<p>323 rows × 6 columns</p>\n",
       "</div>"
      ],
      "text/plain": [
       "            Date  ... wday\n",
       "1833  2021-04-13  ...    1\n",
       "1834  2021-03-17  ...    2\n",
       "1835  2020-12-18  ...    4\n",
       "1836  2020-12-18  ...    4\n",
       "1837  2020-12-18  ...    4\n",
       "...          ...  ...  ...\n",
       "2151  2012-06-19  ...    1\n",
       "2152  2012-06-17  ...    6\n",
       "2153  2012-06-15  ...    4\n",
       "2154  2012-06-14  ...    3\n",
       "2155  2012-06-01  ...    4\n",
       "\n",
       "[323 rows x 6 columns]"
      ]
     },
     "execution_count": 12,
     "metadata": {
      "tags": []
     },
     "output_type": "execute_result"
    }
   ],
   "source": [
    "df['wday'] = pd.to_datetime(df['Date'], format='%Y-%m-%d').dt.dayofweek\n",
    "df"
   ]
  },
  {
   "cell_type": "code",
   "execution_count": null,
   "metadata": {
    "colab": {
     "base_uri": "https://localhost:8080/",
     "height": 300
    },
    "id": "V14-tPohxovM",
    "outputId": "c9515757-8ad1-42ec-b16e-c9b2624583dc"
   },
   "outputs": [
    {
     "data": {
      "text/html": [
       "<div>\n",
       "<style scoped>\n",
       "    .dataframe tbody tr th:only-of-type {\n",
       "        vertical-align: middle;\n",
       "    }\n",
       "\n",
       "    .dataframe tbody tr th {\n",
       "        vertical-align: top;\n",
       "    }\n",
       "\n",
       "    .dataframe thead th {\n",
       "        text-align: right;\n",
       "    }\n",
       "</style>\n",
       "<table border=\"1\" class=\"dataframe\">\n",
       "  <thead>\n",
       "    <tr style=\"text-align: right;\">\n",
       "      <th></th>\n",
       "      <th>Date</th>\n",
       "      <th>Title</th>\n",
       "      <th>Url</th>\n",
       "      <th>Body</th>\n",
       "      <th>company_name</th>\n",
       "    </tr>\n",
       "    <tr>\n",
       "      <th>wday</th>\n",
       "      <th></th>\n",
       "      <th></th>\n",
       "      <th></th>\n",
       "      <th></th>\n",
       "      <th></th>\n",
       "    </tr>\n",
       "  </thead>\n",
       "  <tbody>\n",
       "    <tr>\n",
       "      <th>0</th>\n",
       "      <td>41</td>\n",
       "      <td>41</td>\n",
       "      <td>41</td>\n",
       "      <td>41</td>\n",
       "      <td>41</td>\n",
       "    </tr>\n",
       "    <tr>\n",
       "      <th>1</th>\n",
       "      <td>79</td>\n",
       "      <td>79</td>\n",
       "      <td>79</td>\n",
       "      <td>79</td>\n",
       "      <td>79</td>\n",
       "    </tr>\n",
       "    <tr>\n",
       "      <th>2</th>\n",
       "      <td>59</td>\n",
       "      <td>59</td>\n",
       "      <td>59</td>\n",
       "      <td>56</td>\n",
       "      <td>59</td>\n",
       "    </tr>\n",
       "    <tr>\n",
       "      <th>3</th>\n",
       "      <td>70</td>\n",
       "      <td>70</td>\n",
       "      <td>70</td>\n",
       "      <td>68</td>\n",
       "      <td>70</td>\n",
       "    </tr>\n",
       "    <tr>\n",
       "      <th>4</th>\n",
       "      <td>55</td>\n",
       "      <td>55</td>\n",
       "      <td>55</td>\n",
       "      <td>55</td>\n",
       "      <td>55</td>\n",
       "    </tr>\n",
       "    <tr>\n",
       "      <th>5</th>\n",
       "      <td>12</td>\n",
       "      <td>12</td>\n",
       "      <td>12</td>\n",
       "      <td>12</td>\n",
       "      <td>12</td>\n",
       "    </tr>\n",
       "    <tr>\n",
       "      <th>6</th>\n",
       "      <td>7</td>\n",
       "      <td>7</td>\n",
       "      <td>7</td>\n",
       "      <td>7</td>\n",
       "      <td>7</td>\n",
       "    </tr>\n",
       "  </tbody>\n",
       "</table>\n",
       "</div>"
      ],
      "text/plain": [
       "      Date  Title  Url  Body  company_name\n",
       "wday                                      \n",
       "0       41     41   41    41            41\n",
       "1       79     79   79    79            79\n",
       "2       59     59   59    56            59\n",
       "3       70     70   70    68            70\n",
       "4       55     55   55    55            55\n",
       "5       12     12   12    12            12\n",
       "6        7      7    7     7             7"
      ]
     },
     "execution_count": 13,
     "metadata": {
      "tags": []
     },
     "output_type": "execute_result"
    }
   ],
   "source": [
    "df.groupby('wday').count()"
   ]
  },
  {
   "cell_type": "code",
   "execution_count": null,
   "metadata": {
    "id": "phJSz04pxovM"
   },
   "outputs": [],
   "source": [
    "def adjusted_date(row):\n",
    "    if row['wday'] < 4 or row['wday'] == 6:\n",
    "        return row['Date'] + timedelta(days=1)\n",
    "    elif row['wday'] == 5:\n",
    "        return row['Date'] + timedelta(days=2)\n",
    "    else:\n",
    "        return row['Date'] + timedelta(days=3)"
   ]
  },
  {
   "cell_type": "code",
   "execution_count": null,
   "metadata": {
    "colab": {
     "base_uri": "https://localhost:8080/",
     "height": 649
    },
    "id": "S5YiF3m0xovM",
    "outputId": "ee7774b9-54e9-483c-a0f7-42ae6cf83fc4"
   },
   "outputs": [
    {
     "data": {
      "text/html": [
       "<div>\n",
       "<style scoped>\n",
       "    .dataframe tbody tr th:only-of-type {\n",
       "        vertical-align: middle;\n",
       "    }\n",
       "\n",
       "    .dataframe tbody tr th {\n",
       "        vertical-align: top;\n",
       "    }\n",
       "\n",
       "    .dataframe thead th {\n",
       "        text-align: right;\n",
       "    }\n",
       "</style>\n",
       "<table border=\"1\" class=\"dataframe\">\n",
       "  <thead>\n",
       "    <tr style=\"text-align: right;\">\n",
       "      <th></th>\n",
       "      <th>Date</th>\n",
       "      <th>Title</th>\n",
       "      <th>Url</th>\n",
       "      <th>Body</th>\n",
       "      <th>company_name</th>\n",
       "      <th>wday</th>\n",
       "      <th>adjusted_date</th>\n",
       "    </tr>\n",
       "  </thead>\n",
       "  <tbody>\n",
       "    <tr>\n",
       "      <th>1833</th>\n",
       "      <td>2021-04-13</td>\n",
       "      <td>Microsoft launches faster new Surface Laptop 4</td>\n",
       "      <td>https://www.theguardian.com/technology/2021/ap...</td>\n",
       "      <td>&lt;p&gt;Microsoft has announced the latest in its W...</td>\n",
       "      <td>Microsoft</td>\n",
       "      <td>1</td>\n",
       "      <td>2021-04-14</td>\n",
       "    </tr>\n",
       "    <tr>\n",
       "      <th>1834</th>\n",
       "      <td>2021-03-17</td>\n",
       "      <td>Teen who hacked Joe Biden and Bill Gates' Twit...</td>\n",
       "      <td>https://www.theguardian.com/technology/2021/ma...</td>\n",
       "      <td>&lt;p&gt;An 18-year-old hacker who pulled off &lt;a hre...</td>\n",
       "      <td>Microsoft</td>\n",
       "      <td>2</td>\n",
       "      <td>2021-03-18</td>\n",
       "    </tr>\n",
       "    <tr>\n",
       "      <th>1835</th>\n",
       "      <td>2020-12-18</td>\n",
       "      <td>Microsoft seeks Biden's support in case agains...</td>\n",
       "      <td>https://www.theguardian.com/technology/2020/de...</td>\n",
       "      <td>&lt;p&gt;Microsoft has called on the incoming Biden ...</td>\n",
       "      <td>Microsoft</td>\n",
       "      <td>4</td>\n",
       "      <td>2020-12-21</td>\n",
       "    </tr>\n",
       "    <tr>\n",
       "      <th>1836</th>\n",
       "      <td>2020-12-18</td>\n",
       "      <td>Suspected Russian cyber-attack growing in scal...</td>\n",
       "      <td>https://www.theguardian.com/technology/2020/de...</td>\n",
       "      <td>&lt;p&gt;Microsoft has said the UK and six other cou...</td>\n",
       "      <td>Microsoft</td>\n",
       "      <td>4</td>\n",
       "      <td>2020-12-21</td>\n",
       "    </tr>\n",
       "    <tr>\n",
       "      <th>1837</th>\n",
       "      <td>2020-12-18</td>\n",
       "      <td>Microsoft Surface Laptop Go review: missing th...</td>\n",
       "      <td>https://www.theguardian.com/technology/2020/de...</td>\n",
       "      <td>&lt;p&gt;The Surface Laptop Go is Microsoft’s attemp...</td>\n",
       "      <td>Microsoft</td>\n",
       "      <td>4</td>\n",
       "      <td>2020-12-21</td>\n",
       "    </tr>\n",
       "    <tr>\n",
       "      <th>...</th>\n",
       "      <td>...</td>\n",
       "      <td>...</td>\n",
       "      <td>...</td>\n",
       "      <td>...</td>\n",
       "      <td>...</td>\n",
       "      <td>...</td>\n",
       "      <td>...</td>\n",
       "    </tr>\n",
       "    <tr>\n",
       "      <th>2151</th>\n",
       "      <td>2012-06-19</td>\n",
       "      <td>Microsoft reveals Surface Windows 8 tablets</td>\n",
       "      <td>https://www.theguardian.com/technology/2012/ju...</td>\n",
       "      <td>&lt;video data-media-id=\"gu-video-391836022\" clas...</td>\n",
       "      <td>Microsoft</td>\n",
       "      <td>1</td>\n",
       "      <td>2012-06-20</td>\n",
       "    </tr>\n",
       "    <tr>\n",
       "      <th>2152</th>\n",
       "      <td>2012-06-17</td>\n",
       "      <td>Microsoft 'to launch tablet to compete with iPad'</td>\n",
       "      <td>https://www.theguardian.com/technology/2012/ju...</td>\n",
       "      <td>&lt;p&gt;Microsoft appears to be preparing to launch...</td>\n",
       "      <td>Microsoft</td>\n",
       "      <td>6</td>\n",
       "      <td>2012-06-18</td>\n",
       "    </tr>\n",
       "    <tr>\n",
       "      <th>2153</th>\n",
       "      <td>2012-06-15</td>\n",
       "      <td>Boot up: Microsoft and Nokia look to undercut ...</td>\n",
       "      <td>https://www.theguardian.com/technology/blog/20...</td>\n",
       "      <td>&lt;p&gt;A quick burst of 11 links for you to chew o...</td>\n",
       "      <td>Microsoft</td>\n",
       "      <td>4</td>\n",
       "      <td>2012-06-18</td>\n",
       "    </tr>\n",
       "    <tr>\n",
       "      <th>2154</th>\n",
       "      <td>2012-06-14</td>\n",
       "      <td>Boot up: Microsoft 'to buy Yammer', Android 'n...</td>\n",
       "      <td>https://www.theguardian.com/technology/blog/20...</td>\n",
       "      <td>&lt;p&gt;A quick burst of 7 links for you to chew ov...</td>\n",
       "      <td>Microsoft</td>\n",
       "      <td>3</td>\n",
       "      <td>2012-06-15</td>\n",
       "    </tr>\n",
       "    <tr>\n",
       "      <th>2155</th>\n",
       "      <td>2012-06-01</td>\n",
       "      <td>Microsoft and Nokia hit back at Google 'patent...</td>\n",
       "      <td>https://www.theguardian.com/technology/2012/ju...</td>\n",
       "      <td>&lt;p&gt;The smartphone patent wars have heated up f...</td>\n",
       "      <td>Microsoft</td>\n",
       "      <td>4</td>\n",
       "      <td>2012-06-04</td>\n",
       "    </tr>\n",
       "  </tbody>\n",
       "</table>\n",
       "<p>323 rows × 7 columns</p>\n",
       "</div>"
      ],
      "text/plain": [
       "            Date  ... adjusted_date\n",
       "1833  2021-04-13  ...    2021-04-14\n",
       "1834  2021-03-17  ...    2021-03-18\n",
       "1835  2020-12-18  ...    2020-12-21\n",
       "1836  2020-12-18  ...    2020-12-21\n",
       "1837  2020-12-18  ...    2020-12-21\n",
       "...          ...  ...           ...\n",
       "2151  2012-06-19  ...    2012-06-20\n",
       "2152  2012-06-17  ...    2012-06-18\n",
       "2153  2012-06-15  ...    2012-06-18\n",
       "2154  2012-06-14  ...    2012-06-15\n",
       "2155  2012-06-01  ...    2012-06-04\n",
       "\n",
       "[323 rows x 7 columns]"
      ]
     },
     "execution_count": 15,
     "metadata": {
      "tags": []
     },
     "output_type": "execute_result"
    }
   ],
   "source": [
    "df['adjusted_date'] = df.apply(lambda row: adjusted_date(row), axis=1)\n",
    "df"
   ]
  },
  {
   "cell_type": "code",
   "execution_count": null,
   "metadata": {
    "colab": {
     "base_uri": "https://localhost:8080/",
     "height": 454
    },
    "id": "Wl9SfjWqxovN",
    "outputId": "beff8d29-1735-406a-c9c0-d8058e8570b5"
   },
   "outputs": [
    {
     "data": {
      "text/html": [
       "<div>\n",
       "<style scoped>\n",
       "    .dataframe tbody tr th:only-of-type {\n",
       "        vertical-align: middle;\n",
       "    }\n",
       "\n",
       "    .dataframe tbody tr th {\n",
       "        vertical-align: top;\n",
       "    }\n",
       "\n",
       "    .dataframe thead th {\n",
       "        text-align: right;\n",
       "    }\n",
       "</style>\n",
       "<table border=\"1\" class=\"dataframe\">\n",
       "  <thead>\n",
       "    <tr style=\"text-align: right;\">\n",
       "      <th></th>\n",
       "      <th>Title</th>\n",
       "    </tr>\n",
       "    <tr>\n",
       "      <th>adjusted_date</th>\n",
       "      <th></th>\n",
       "    </tr>\n",
       "  </thead>\n",
       "  <tbody>\n",
       "    <tr>\n",
       "      <th>2012-06-20</th>\n",
       "      <td>5</td>\n",
       "    </tr>\n",
       "    <tr>\n",
       "      <th>2013-09-04</th>\n",
       "      <td>5</td>\n",
       "    </tr>\n",
       "    <tr>\n",
       "      <th>2014-02-05</th>\n",
       "      <td>4</td>\n",
       "    </tr>\n",
       "    <tr>\n",
       "      <th>2020-12-21</th>\n",
       "      <td>3</td>\n",
       "    </tr>\n",
       "    <tr>\n",
       "      <th>2012-10-26</th>\n",
       "      <td>3</td>\n",
       "    </tr>\n",
       "    <tr>\n",
       "      <th>...</th>\n",
       "      <td>...</td>\n",
       "    </tr>\n",
       "    <tr>\n",
       "      <th>2014-03-31</th>\n",
       "      <td>1</td>\n",
       "    </tr>\n",
       "    <tr>\n",
       "      <th>2014-04-04</th>\n",
       "      <td>1</td>\n",
       "    </tr>\n",
       "    <tr>\n",
       "      <th>2014-04-08</th>\n",
       "      <td>1</td>\n",
       "    </tr>\n",
       "    <tr>\n",
       "      <th>2014-04-22</th>\n",
       "      <td>1</td>\n",
       "    </tr>\n",
       "    <tr>\n",
       "      <th>2021-04-14</th>\n",
       "      <td>1</td>\n",
       "    </tr>\n",
       "  </tbody>\n",
       "</table>\n",
       "<p>279 rows × 1 columns</p>\n",
       "</div>"
      ],
      "text/plain": [
       "               Title\n",
       "adjusted_date       \n",
       "2012-06-20         5\n",
       "2013-09-04         5\n",
       "2014-02-05         4\n",
       "2020-12-21         3\n",
       "2012-10-26         3\n",
       "...              ...\n",
       "2014-03-31         1\n",
       "2014-04-04         1\n",
       "2014-04-08         1\n",
       "2014-04-22         1\n",
       "2021-04-14         1\n",
       "\n",
       "[279 rows x 1 columns]"
      ]
     },
     "execution_count": 16,
     "metadata": {
      "tags": []
     },
     "output_type": "execute_result"
    }
   ],
   "source": [
    "df.groupby('adjusted_date').count()[['Title']].sort_values(by=['Title'], ascending=False)"
   ]
  },
  {
   "cell_type": "code",
   "execution_count": null,
   "metadata": {
    "colab": {
     "base_uri": "https://localhost:8080/",
     "height": 424
    },
    "id": "CWMYPwVexovN",
    "outputId": "69ea04a3-fb20-4d03-e083-ed8372ff5d5d"
   },
   "outputs": [
    {
     "data": {
      "text/html": [
       "<div>\n",
       "<style scoped>\n",
       "    .dataframe tbody tr th:only-of-type {\n",
       "        vertical-align: middle;\n",
       "    }\n",
       "\n",
       "    .dataframe tbody tr th {\n",
       "        vertical-align: top;\n",
       "    }\n",
       "\n",
       "    .dataframe thead th {\n",
       "        text-align: right;\n",
       "    }\n",
       "</style>\n",
       "<table border=\"1\" class=\"dataframe\">\n",
       "  <thead>\n",
       "    <tr style=\"text-align: right;\">\n",
       "      <th></th>\n",
       "      <th>adjusted_date</th>\n",
       "      <th>Title</th>\n",
       "    </tr>\n",
       "  </thead>\n",
       "  <tbody>\n",
       "    <tr>\n",
       "      <th>0</th>\n",
       "      <td>2012-06-04</td>\n",
       "      <td>Microsoft and Nokia hit back at Google 'patent...</td>\n",
       "    </tr>\n",
       "    <tr>\n",
       "      <th>1</th>\n",
       "      <td>2012-06-15</td>\n",
       "      <td>Boot up: Microsoft 'to buy Yammer', Android 'n...</td>\n",
       "    </tr>\n",
       "    <tr>\n",
       "      <th>2</th>\n",
       "      <td>2012-06-18</td>\n",
       "      <td>Microsoft 'to launch tablet to compete with iP...</td>\n",
       "    </tr>\n",
       "    <tr>\n",
       "      <th>3</th>\n",
       "      <td>2012-06-20</td>\n",
       "      <td>Microsoft Surface: how the software giant got ...</td>\n",
       "    </tr>\n",
       "    <tr>\n",
       "      <th>4</th>\n",
       "      <td>2012-06-22</td>\n",
       "      <td>Microsoft Surface: An error occurred ... Windo...</td>\n",
       "    </tr>\n",
       "    <tr>\n",
       "      <th>...</th>\n",
       "      <td>...</td>\n",
       "      <td>...</td>\n",
       "    </tr>\n",
       "    <tr>\n",
       "      <th>274</th>\n",
       "      <td>2020-11-27</td>\n",
       "      <td>Microsoft productivity score feature criticise...</td>\n",
       "    </tr>\n",
       "    <tr>\n",
       "      <th>275</th>\n",
       "      <td>2020-12-03</td>\n",
       "      <td>Microsoft apologises for feature criticised as...</td>\n",
       "    </tr>\n",
       "    <tr>\n",
       "      <th>276</th>\n",
       "      <td>2020-12-21</td>\n",
       "      <td>Microsoft seeks Biden's support in case agains...</td>\n",
       "    </tr>\n",
       "    <tr>\n",
       "      <th>277</th>\n",
       "      <td>2021-03-18</td>\n",
       "      <td>Teen who hacked Joe Biden and Bill Gates' Twit...</td>\n",
       "    </tr>\n",
       "    <tr>\n",
       "      <th>278</th>\n",
       "      <td>2021-04-14</td>\n",
       "      <td>Microsoft launches faster new Surface Laptop 4</td>\n",
       "    </tr>\n",
       "  </tbody>\n",
       "</table>\n",
       "<p>279 rows × 2 columns</p>\n",
       "</div>"
      ],
      "text/plain": [
       "    adjusted_date                                              Title\n",
       "0      2012-06-04  Microsoft and Nokia hit back at Google 'patent...\n",
       "1      2012-06-15  Boot up: Microsoft 'to buy Yammer', Android 'n...\n",
       "2      2012-06-18  Microsoft 'to launch tablet to compete with iP...\n",
       "3      2012-06-20  Microsoft Surface: how the software giant got ...\n",
       "4      2012-06-22  Microsoft Surface: An error occurred ... Windo...\n",
       "..            ...                                                ...\n",
       "274    2020-11-27  Microsoft productivity score feature criticise...\n",
       "275    2020-12-03  Microsoft apologises for feature criticised as...\n",
       "276    2020-12-21  Microsoft seeks Biden's support in case agains...\n",
       "277    2021-03-18  Teen who hacked Joe Biden and Bill Gates' Twit...\n",
       "278    2021-04-14     Microsoft launches faster new Surface Laptop 4\n",
       "\n",
       "[279 rows x 2 columns]"
      ]
     },
     "execution_count": 17,
     "metadata": {
      "tags": []
     },
     "output_type": "execute_result"
    }
   ],
   "source": [
    "df_news = df.groupby('adjusted_date')['Title'].apply(' '.join).reset_index()\n",
    "df_news"
   ]
  },
  {
   "cell_type": "code",
   "execution_count": null,
   "metadata": {
    "colab": {
     "base_uri": "https://localhost:8080/",
     "height": 424
    },
    "id": "vNU1U_aoxovN",
    "outputId": "2c214c2e-0701-450d-f9b4-184925492ea8"
   },
   "outputs": [
    {
     "data": {
      "text/html": [
       "<div>\n",
       "<style scoped>\n",
       "    .dataframe tbody tr th:only-of-type {\n",
       "        vertical-align: middle;\n",
       "    }\n",
       "\n",
       "    .dataframe tbody tr th {\n",
       "        vertical-align: top;\n",
       "    }\n",
       "\n",
       "    .dataframe thead th {\n",
       "        text-align: right;\n",
       "    }\n",
       "</style>\n",
       "<table border=\"1\" class=\"dataframe\">\n",
       "  <thead>\n",
       "    <tr style=\"text-align: right;\">\n",
       "      <th></th>\n",
       "      <th>Date</th>\n",
       "      <th>Title</th>\n",
       "    </tr>\n",
       "  </thead>\n",
       "  <tbody>\n",
       "    <tr>\n",
       "      <th>0</th>\n",
       "      <td>2012-06-04</td>\n",
       "      <td>Microsoft and Nokia hit back at Google 'patent...</td>\n",
       "    </tr>\n",
       "    <tr>\n",
       "      <th>1</th>\n",
       "      <td>2012-06-15</td>\n",
       "      <td>Boot up: Microsoft 'to buy Yammer', Android 'n...</td>\n",
       "    </tr>\n",
       "    <tr>\n",
       "      <th>2</th>\n",
       "      <td>2012-06-18</td>\n",
       "      <td>Microsoft 'to launch tablet to compete with iP...</td>\n",
       "    </tr>\n",
       "    <tr>\n",
       "      <th>3</th>\n",
       "      <td>2012-06-20</td>\n",
       "      <td>Microsoft Surface: how the software giant got ...</td>\n",
       "    </tr>\n",
       "    <tr>\n",
       "      <th>4</th>\n",
       "      <td>2012-06-22</td>\n",
       "      <td>Microsoft Surface: An error occurred ... Windo...</td>\n",
       "    </tr>\n",
       "    <tr>\n",
       "      <th>...</th>\n",
       "      <td>...</td>\n",
       "      <td>...</td>\n",
       "    </tr>\n",
       "    <tr>\n",
       "      <th>274</th>\n",
       "      <td>2020-11-27</td>\n",
       "      <td>Microsoft productivity score feature criticise...</td>\n",
       "    </tr>\n",
       "    <tr>\n",
       "      <th>275</th>\n",
       "      <td>2020-12-03</td>\n",
       "      <td>Microsoft apologises for feature criticised as...</td>\n",
       "    </tr>\n",
       "    <tr>\n",
       "      <th>276</th>\n",
       "      <td>2020-12-21</td>\n",
       "      <td>Microsoft seeks Biden's support in case agains...</td>\n",
       "    </tr>\n",
       "    <tr>\n",
       "      <th>277</th>\n",
       "      <td>2021-03-18</td>\n",
       "      <td>Teen who hacked Joe Biden and Bill Gates' Twit...</td>\n",
       "    </tr>\n",
       "    <tr>\n",
       "      <th>278</th>\n",
       "      <td>2021-04-14</td>\n",
       "      <td>Microsoft launches faster new Surface Laptop 4</td>\n",
       "    </tr>\n",
       "  </tbody>\n",
       "</table>\n",
       "<p>279 rows × 2 columns</p>\n",
       "</div>"
      ],
      "text/plain": [
       "           Date                                              Title\n",
       "0    2012-06-04  Microsoft and Nokia hit back at Google 'patent...\n",
       "1    2012-06-15  Boot up: Microsoft 'to buy Yammer', Android 'n...\n",
       "2    2012-06-18  Microsoft 'to launch tablet to compete with iP...\n",
       "3    2012-06-20  Microsoft Surface: how the software giant got ...\n",
       "4    2012-06-22  Microsoft Surface: An error occurred ... Windo...\n",
       "..          ...                                                ...\n",
       "274  2020-11-27  Microsoft productivity score feature criticise...\n",
       "275  2020-12-03  Microsoft apologises for feature criticised as...\n",
       "276  2020-12-21  Microsoft seeks Biden's support in case agains...\n",
       "277  2021-03-18  Teen who hacked Joe Biden and Bill Gates' Twit...\n",
       "278  2021-04-14     Microsoft launches faster new Surface Laptop 4\n",
       "\n",
       "[279 rows x 2 columns]"
      ]
     },
     "execution_count": 18,
     "metadata": {
      "tags": []
     },
     "output_type": "execute_result"
    }
   ],
   "source": [
    "df_news.rename({'adjusted_date': 'Date'}, axis=1, inplace=True)\n",
    "df_news"
   ]
  },
  {
   "cell_type": "markdown",
   "metadata": {
    "id": "E3RTDIHwxovO"
   },
   "source": [
    "## Text Tokenization"
   ]
  },
  {
   "cell_type": "code",
   "execution_count": null,
   "metadata": {
    "colab": {
     "base_uri": "https://localhost:8080/"
    },
    "id": "u9XGvQyGxovO",
    "outputId": "85264b5b-9bd3-4d46-ca24-afed56de6b34"
   },
   "outputs": [
    {
     "name": "stdout",
     "output_type": "stream",
     "text": [
      "<class 'pandas.core.frame.DataFrame'>\n",
      "RangeIndex: 279 entries, 0 to 278\n",
      "Data columns (total 4 columns):\n",
      " #   Column        Non-Null Count  Dtype \n",
      "---  ------        --------------  ----- \n",
      " 0   Date          279 non-null    object\n",
      " 1   Title         279 non-null    object\n",
      " 2   text_decont   279 non-null    object\n",
      " 3   text_no_punc  279 non-null    object\n",
      "dtypes: object(4)\n",
      "memory usage: 8.8+ KB\n"
     ]
    }
   ],
   "source": [
    "#decontract to not create token from special cases.\n",
    "#For example, \"won't\" or \" can't\" can generate tokens as \"wo\", \"ca\" which are not removed by stopwords\n",
    "\n",
    "def decontracted(phrase):\n",
    "    # specific\n",
    "    phrase = re.sub(r\"won\\'t\", \"will not\", phrase)\n",
    "    phrase = re.sub(r\"can\\'t\", \"can not\", phrase)\n",
    "    phrase = re.sub(r\"let\\'s\", \"let us\", phrase)\n",
    "\n",
    "    # general\n",
    "    phrase = re.sub(r\"n\\'t\", \" not\", phrase)\n",
    "    phrase = re.sub(r\"\\'re\", \" are\", phrase)\n",
    "    phrase = re.sub(r\"\\'s\", \" is\", phrase)\n",
    "    phrase = re.sub(r\"\\'d\", \" would\", phrase)\n",
    "    phrase = re.sub(r\"\\'ll\", \" will\", phrase)\n",
    "    phrase = re.sub(r\"\\'t\", \" not\", phrase)\n",
    "    phrase = re.sub(r\"\\'ve\", \" have\", phrase)\n",
    "    phrase = re.sub(r\"\\'m\", \" am\", phrase)\n",
    "    return phrase\n",
    "\n",
    "#convert to lower case and decontract\n",
    "df_news['text_decont'] = df_news['Title'].str.lower().apply(lambda x: decontracted(x))\n",
    "\n",
    "#remove punctuation\n",
    "df_news['text_no_punc'] = df_news['text_decont'].apply(lambda x: re.sub(r'[^\\w\\s]', ' ', x))\n",
    "\n",
    "df_news.info()"
   ]
  },
  {
   "cell_type": "code",
   "execution_count": null,
   "metadata": {
    "colab": {
     "base_uri": "https://localhost:8080/",
     "height": 293
    },
    "id": "KT-OVeybxovO",
    "outputId": "1a564c7c-2e3e-4620-cfa9-a9758deb6e15",
    "scrolled": false
   },
   "outputs": [
    {
     "data": {
      "text/html": [
       "<div>\n",
       "<style scoped>\n",
       "    .dataframe tbody tr th:only-of-type {\n",
       "        vertical-align: middle;\n",
       "    }\n",
       "\n",
       "    .dataframe tbody tr th {\n",
       "        vertical-align: top;\n",
       "    }\n",
       "\n",
       "    .dataframe thead th {\n",
       "        text-align: right;\n",
       "    }\n",
       "</style>\n",
       "<table border=\"1\" class=\"dataframe\">\n",
       "  <thead>\n",
       "    <tr style=\"text-align: right;\">\n",
       "      <th></th>\n",
       "      <th>Date</th>\n",
       "      <th>Title</th>\n",
       "      <th>text_decont</th>\n",
       "      <th>text_no_punc</th>\n",
       "      <th>tk</th>\n",
       "    </tr>\n",
       "  </thead>\n",
       "  <tbody>\n",
       "    <tr>\n",
       "      <th>0</th>\n",
       "      <td>2012-06-04</td>\n",
       "      <td>Microsoft and Nokia hit back at Google 'patent...</td>\n",
       "      <td>microsoft and nokia hit back at google 'patent...</td>\n",
       "      <td>microsoft and nokia hit back at google  patent...</td>\n",
       "      <td>[microsoft, and, nokia, hit, back, at, google,...</td>\n",
       "    </tr>\n",
       "    <tr>\n",
       "      <th>1</th>\n",
       "      <td>2012-06-15</td>\n",
       "      <td>Boot up: Microsoft 'to buy Yammer', Android 'n...</td>\n",
       "      <td>boot up: microsoft  noto buy yammer', android ...</td>\n",
       "      <td>boot up  microsoft  noto buy yammer   android ...</td>\n",
       "      <td>[boot, up, microsoft, noto, buy, yammer, andro...</td>\n",
       "    </tr>\n",
       "    <tr>\n",
       "      <th>2</th>\n",
       "      <td>2012-06-18</td>\n",
       "      <td>Microsoft 'to launch tablet to compete with iP...</td>\n",
       "      <td>microsoft  noto launch tablet to compete with ...</td>\n",
       "      <td>microsoft  noto launch tablet to compete with ...</td>\n",
       "      <td>[microsoft, noto, launch, tablet, to, compete,...</td>\n",
       "    </tr>\n",
       "    <tr>\n",
       "      <th>3</th>\n",
       "      <td>2012-06-20</td>\n",
       "      <td>Microsoft Surface: how the software giant got ...</td>\n",
       "      <td>microsoft surface: how the software giant got ...</td>\n",
       "      <td>microsoft surface  how the software giant got ...</td>\n",
       "      <td>[microsoft, surface, how, the, software, giant...</td>\n",
       "    </tr>\n",
       "    <tr>\n",
       "      <th>4</th>\n",
       "      <td>2012-06-22</td>\n",
       "      <td>Microsoft Surface: An error occurred ... Windo...</td>\n",
       "      <td>microsoft surface: an error occurred ... windo...</td>\n",
       "      <td>microsoft surface  an error occurred     windo...</td>\n",
       "      <td>[microsoft, surface, an, error, occurred, wind...</td>\n",
       "    </tr>\n",
       "  </tbody>\n",
       "</table>\n",
       "</div>"
      ],
      "text/plain": [
       "         Date  ...                                                 tk\n",
       "0  2012-06-04  ...  [microsoft, and, nokia, hit, back, at, google,...\n",
       "1  2012-06-15  ...  [boot, up, microsoft, noto, buy, yammer, andro...\n",
       "2  2012-06-18  ...  [microsoft, noto, launch, tablet, to, compete,...\n",
       "3  2012-06-20  ...  [microsoft, surface, how, the, software, giant...\n",
       "4  2012-06-22  ...  [microsoft, surface, an, error, occurred, wind...\n",
       "\n",
       "[5 rows x 5 columns]"
      ]
     },
     "execution_count": 20,
     "metadata": {
      "tags": []
     },
     "output_type": "execute_result"
    }
   ],
   "source": [
    "# tokenize w/o preprocessing\n",
    "df_news['tk'] = df_news['text_no_punc'].apply(lambda x: nltk.word_tokenize(x))\n",
    "df_news.head()"
   ]
  },
  {
   "cell_type": "markdown",
   "metadata": {
    "id": "rreSf7gCDeCQ"
   },
   "source": [
    "# 2. TF-IDF"
   ]
  },
  {
   "cell_type": "code",
   "execution_count": null,
   "metadata": {
    "id": "gnffujRMxovP"
   },
   "outputs": [],
   "source": [
    "def identity_tokenizer(text):\n",
    "    return text\n",
    "\n",
    "tfvec = TfidfVectorizer(lowercase=False, tokenizer=identity_tokenizer)\n",
    "df_tfvec = tfvec.fit_transform(df_news.tk.tolist()).todense()"
   ]
  },
  {
   "cell_type": "code",
   "execution_count": null,
   "metadata": {
    "colab": {
     "base_uri": "https://localhost:8080/"
    },
    "id": "aSRGX1hvxovP",
    "outputId": "16d4a393-c32b-4f92-a46c-cd8354e24241"
   },
   "outputs": [
    {
     "data": {
      "text/plain": [
       "1229"
      ]
     },
     "execution_count": 22,
     "metadata": {
      "tags": []
     },
     "output_type": "execute_result"
    }
   ],
   "source": [
    "len(tfvec.get_feature_names())"
   ]
  },
  {
   "cell_type": "code",
   "execution_count": null,
   "metadata": {
    "colab": {
     "base_uri": "https://localhost:8080/"
    },
    "id": "u_14-XZ1xovP",
    "outputId": "4eb05dbf-37d7-47a6-ddeb-078c94910c71"
   },
   "outputs": [
    {
     "data": {
      "text/plain": [
       "matrix([[0., 0., 0., ..., 0., 0., 0.],\n",
       "        [0., 0., 0., ..., 0., 0., 0.],\n",
       "        [0., 0., 0., ..., 0., 0., 0.],\n",
       "        ...,\n",
       "        [0., 0., 0., ..., 0., 0., 0.],\n",
       "        [0., 0., 0., ..., 0., 0., 0.],\n",
       "        [0., 0., 0., ..., 0., 0., 0.]])"
      ]
     },
     "execution_count": 23,
     "metadata": {
      "tags": []
     },
     "output_type": "execute_result"
    }
   ],
   "source": [
    "df_tfvec"
   ]
  },
  {
   "cell_type": "code",
   "execution_count": null,
   "metadata": {
    "colab": {
     "base_uri": "https://localhost:8080/",
     "height": 444
    },
    "id": "nnEimuexxovP",
    "outputId": "9ca2c2d6-1950-482f-e80e-e041f6a6dbcf"
   },
   "outputs": [
    {
     "data": {
      "text/html": [
       "<div>\n",
       "<style scoped>\n",
       "    .dataframe tbody tr th:only-of-type {\n",
       "        vertical-align: middle;\n",
       "    }\n",
       "\n",
       "    .dataframe tbody tr th {\n",
       "        vertical-align: top;\n",
       "    }\n",
       "\n",
       "    .dataframe thead th {\n",
       "        text-align: right;\n",
       "    }\n",
       "</style>\n",
       "<table border=\"1\" class=\"dataframe\">\n",
       "  <thead>\n",
       "    <tr style=\"text-align: right;\">\n",
       "      <th></th>\n",
       "      <th>0</th>\n",
       "      <th>1</th>\n",
       "      <th>2</th>\n",
       "      <th>3</th>\n",
       "      <th>4</th>\n",
       "      <th>5</th>\n",
       "      <th>6</th>\n",
       "      <th>7</th>\n",
       "      <th>8</th>\n",
       "      <th>9</th>\n",
       "      <th>10</th>\n",
       "      <th>11</th>\n",
       "      <th>12</th>\n",
       "      <th>13</th>\n",
       "      <th>14</th>\n",
       "      <th>15</th>\n",
       "      <th>16</th>\n",
       "      <th>17</th>\n",
       "      <th>18</th>\n",
       "      <th>19</th>\n",
       "      <th>20</th>\n",
       "      <th>21</th>\n",
       "      <th>22</th>\n",
       "      <th>23</th>\n",
       "      <th>24</th>\n",
       "      <th>25</th>\n",
       "      <th>26</th>\n",
       "      <th>27</th>\n",
       "      <th>28</th>\n",
       "      <th>29</th>\n",
       "      <th>30</th>\n",
       "      <th>31</th>\n",
       "      <th>32</th>\n",
       "      <th>33</th>\n",
       "      <th>34</th>\n",
       "      <th>35</th>\n",
       "      <th>36</th>\n",
       "      <th>37</th>\n",
       "      <th>38</th>\n",
       "      <th>39</th>\n",
       "      <th>...</th>\n",
       "      <th>1189</th>\n",
       "      <th>1190</th>\n",
       "      <th>1191</th>\n",
       "      <th>1192</th>\n",
       "      <th>1193</th>\n",
       "      <th>1194</th>\n",
       "      <th>1195</th>\n",
       "      <th>1196</th>\n",
       "      <th>1197</th>\n",
       "      <th>1198</th>\n",
       "      <th>1199</th>\n",
       "      <th>1200</th>\n",
       "      <th>1201</th>\n",
       "      <th>1202</th>\n",
       "      <th>1203</th>\n",
       "      <th>1204</th>\n",
       "      <th>1205</th>\n",
       "      <th>1206</th>\n",
       "      <th>1207</th>\n",
       "      <th>1208</th>\n",
       "      <th>1209</th>\n",
       "      <th>1210</th>\n",
       "      <th>1211</th>\n",
       "      <th>1212</th>\n",
       "      <th>1213</th>\n",
       "      <th>1214</th>\n",
       "      <th>1215</th>\n",
       "      <th>1216</th>\n",
       "      <th>1217</th>\n",
       "      <th>1218</th>\n",
       "      <th>1219</th>\n",
       "      <th>1220</th>\n",
       "      <th>1221</th>\n",
       "      <th>1222</th>\n",
       "      <th>1223</th>\n",
       "      <th>1224</th>\n",
       "      <th>1225</th>\n",
       "      <th>1226</th>\n",
       "      <th>1227</th>\n",
       "      <th>1228</th>\n",
       "    </tr>\n",
       "  </thead>\n",
       "  <tbody>\n",
       "    <tr>\n",
       "      <th>0</th>\n",
       "      <td>0.0</td>\n",
       "      <td>0.0</td>\n",
       "      <td>0.0</td>\n",
       "      <td>0.0</td>\n",
       "      <td>0.0</td>\n",
       "      <td>0.0</td>\n",
       "      <td>0.0</td>\n",
       "      <td>0.0</td>\n",
       "      <td>0.0</td>\n",
       "      <td>0.0</td>\n",
       "      <td>0.0</td>\n",
       "      <td>0.0</td>\n",
       "      <td>0.0</td>\n",
       "      <td>0.0</td>\n",
       "      <td>0.0</td>\n",
       "      <td>0.0</td>\n",
       "      <td>0.0</td>\n",
       "      <td>0.0</td>\n",
       "      <td>0.0</td>\n",
       "      <td>0.0</td>\n",
       "      <td>0.0</td>\n",
       "      <td>0.0</td>\n",
       "      <td>0.0</td>\n",
       "      <td>0.0</td>\n",
       "      <td>0.0</td>\n",
       "      <td>0.0</td>\n",
       "      <td>0.0</td>\n",
       "      <td>0.000000</td>\n",
       "      <td>0.0</td>\n",
       "      <td>0.0</td>\n",
       "      <td>0.0</td>\n",
       "      <td>0.0</td>\n",
       "      <td>0.0</td>\n",
       "      <td>0.0</td>\n",
       "      <td>0.0</td>\n",
       "      <td>0.0</td>\n",
       "      <td>0.0</td>\n",
       "      <td>0.0</td>\n",
       "      <td>0.0</td>\n",
       "      <td>0.0</td>\n",
       "      <td>...</td>\n",
       "      <td>0.0</td>\n",
       "      <td>0.0</td>\n",
       "      <td>0.000000</td>\n",
       "      <td>0.000000</td>\n",
       "      <td>0.0</td>\n",
       "      <td>0.0</td>\n",
       "      <td>0.0</td>\n",
       "      <td>0.0</td>\n",
       "      <td>0.0</td>\n",
       "      <td>0.0</td>\n",
       "      <td>0.0</td>\n",
       "      <td>0.0</td>\n",
       "      <td>0.0</td>\n",
       "      <td>0.000000</td>\n",
       "      <td>0.0</td>\n",
       "      <td>0.0</td>\n",
       "      <td>0.0</td>\n",
       "      <td>0.0</td>\n",
       "      <td>0.0</td>\n",
       "      <td>0.0</td>\n",
       "      <td>0.0</td>\n",
       "      <td>0.0</td>\n",
       "      <td>0.0</td>\n",
       "      <td>0.0</td>\n",
       "      <td>0.0</td>\n",
       "      <td>0.0</td>\n",
       "      <td>0.0</td>\n",
       "      <td>0.000000</td>\n",
       "      <td>0.0</td>\n",
       "      <td>0.000000</td>\n",
       "      <td>0.0</td>\n",
       "      <td>0.0</td>\n",
       "      <td>0.0</td>\n",
       "      <td>0.0</td>\n",
       "      <td>0.0</td>\n",
       "      <td>0.0</td>\n",
       "      <td>0.0</td>\n",
       "      <td>0.0</td>\n",
       "      <td>0.0</td>\n",
       "      <td>0.0</td>\n",
       "    </tr>\n",
       "    <tr>\n",
       "      <th>1</th>\n",
       "      <td>0.0</td>\n",
       "      <td>0.0</td>\n",
       "      <td>0.0</td>\n",
       "      <td>0.0</td>\n",
       "      <td>0.0</td>\n",
       "      <td>0.0</td>\n",
       "      <td>0.0</td>\n",
       "      <td>0.0</td>\n",
       "      <td>0.0</td>\n",
       "      <td>0.0</td>\n",
       "      <td>0.0</td>\n",
       "      <td>0.0</td>\n",
       "      <td>0.0</td>\n",
       "      <td>0.0</td>\n",
       "      <td>0.0</td>\n",
       "      <td>0.0</td>\n",
       "      <td>0.0</td>\n",
       "      <td>0.0</td>\n",
       "      <td>0.0</td>\n",
       "      <td>0.0</td>\n",
       "      <td>0.0</td>\n",
       "      <td>0.0</td>\n",
       "      <td>0.0</td>\n",
       "      <td>0.0</td>\n",
       "      <td>0.0</td>\n",
       "      <td>0.0</td>\n",
       "      <td>0.0</td>\n",
       "      <td>0.000000</td>\n",
       "      <td>0.0</td>\n",
       "      <td>0.0</td>\n",
       "      <td>0.0</td>\n",
       "      <td>0.0</td>\n",
       "      <td>0.0</td>\n",
       "      <td>0.0</td>\n",
       "      <td>0.0</td>\n",
       "      <td>0.0</td>\n",
       "      <td>0.0</td>\n",
       "      <td>0.0</td>\n",
       "      <td>0.0</td>\n",
       "      <td>0.0</td>\n",
       "      <td>...</td>\n",
       "      <td>0.0</td>\n",
       "      <td>0.0</td>\n",
       "      <td>0.000000</td>\n",
       "      <td>0.000000</td>\n",
       "      <td>0.0</td>\n",
       "      <td>0.0</td>\n",
       "      <td>0.0</td>\n",
       "      <td>0.0</td>\n",
       "      <td>0.0</td>\n",
       "      <td>0.0</td>\n",
       "      <td>0.0</td>\n",
       "      <td>0.0</td>\n",
       "      <td>0.0</td>\n",
       "      <td>0.000000</td>\n",
       "      <td>0.0</td>\n",
       "      <td>0.0</td>\n",
       "      <td>0.0</td>\n",
       "      <td>0.0</td>\n",
       "      <td>0.0</td>\n",
       "      <td>0.0</td>\n",
       "      <td>0.0</td>\n",
       "      <td>0.0</td>\n",
       "      <td>0.0</td>\n",
       "      <td>0.0</td>\n",
       "      <td>0.0</td>\n",
       "      <td>0.0</td>\n",
       "      <td>0.0</td>\n",
       "      <td>0.312077</td>\n",
       "      <td>0.0</td>\n",
       "      <td>0.000000</td>\n",
       "      <td>0.0</td>\n",
       "      <td>0.0</td>\n",
       "      <td>0.0</td>\n",
       "      <td>0.0</td>\n",
       "      <td>0.0</td>\n",
       "      <td>0.0</td>\n",
       "      <td>0.0</td>\n",
       "      <td>0.0</td>\n",
       "      <td>0.0</td>\n",
       "      <td>0.0</td>\n",
       "    </tr>\n",
       "    <tr>\n",
       "      <th>2</th>\n",
       "      <td>0.0</td>\n",
       "      <td>0.0</td>\n",
       "      <td>0.0</td>\n",
       "      <td>0.0</td>\n",
       "      <td>0.0</td>\n",
       "      <td>0.0</td>\n",
       "      <td>0.0</td>\n",
       "      <td>0.0</td>\n",
       "      <td>0.0</td>\n",
       "      <td>0.0</td>\n",
       "      <td>0.0</td>\n",
       "      <td>0.0</td>\n",
       "      <td>0.0</td>\n",
       "      <td>0.0</td>\n",
       "      <td>0.0</td>\n",
       "      <td>0.0</td>\n",
       "      <td>0.0</td>\n",
       "      <td>0.0</td>\n",
       "      <td>0.0</td>\n",
       "      <td>0.0</td>\n",
       "      <td>0.0</td>\n",
       "      <td>0.0</td>\n",
       "      <td>0.0</td>\n",
       "      <td>0.0</td>\n",
       "      <td>0.0</td>\n",
       "      <td>0.0</td>\n",
       "      <td>0.0</td>\n",
       "      <td>0.000000</td>\n",
       "      <td>0.0</td>\n",
       "      <td>0.0</td>\n",
       "      <td>0.0</td>\n",
       "      <td>0.0</td>\n",
       "      <td>0.0</td>\n",
       "      <td>0.0</td>\n",
       "      <td>0.0</td>\n",
       "      <td>0.0</td>\n",
       "      <td>0.0</td>\n",
       "      <td>0.0</td>\n",
       "      <td>0.0</td>\n",
       "      <td>0.0</td>\n",
       "      <td>...</td>\n",
       "      <td>0.0</td>\n",
       "      <td>0.0</td>\n",
       "      <td>0.000000</td>\n",
       "      <td>0.168668</td>\n",
       "      <td>0.0</td>\n",
       "      <td>0.0</td>\n",
       "      <td>0.0</td>\n",
       "      <td>0.0</td>\n",
       "      <td>0.0</td>\n",
       "      <td>0.0</td>\n",
       "      <td>0.0</td>\n",
       "      <td>0.0</td>\n",
       "      <td>0.0</td>\n",
       "      <td>0.000000</td>\n",
       "      <td>0.0</td>\n",
       "      <td>0.0</td>\n",
       "      <td>0.0</td>\n",
       "      <td>0.0</td>\n",
       "      <td>0.0</td>\n",
       "      <td>0.0</td>\n",
       "      <td>0.0</td>\n",
       "      <td>0.0</td>\n",
       "      <td>0.0</td>\n",
       "      <td>0.0</td>\n",
       "      <td>0.0</td>\n",
       "      <td>0.0</td>\n",
       "      <td>0.0</td>\n",
       "      <td>0.000000</td>\n",
       "      <td>0.0</td>\n",
       "      <td>0.000000</td>\n",
       "      <td>0.0</td>\n",
       "      <td>0.0</td>\n",
       "      <td>0.0</td>\n",
       "      <td>0.0</td>\n",
       "      <td>0.0</td>\n",
       "      <td>0.0</td>\n",
       "      <td>0.0</td>\n",
       "      <td>0.0</td>\n",
       "      <td>0.0</td>\n",
       "      <td>0.0</td>\n",
       "    </tr>\n",
       "    <tr>\n",
       "      <th>3</th>\n",
       "      <td>0.0</td>\n",
       "      <td>0.0</td>\n",
       "      <td>0.0</td>\n",
       "      <td>0.0</td>\n",
       "      <td>0.0</td>\n",
       "      <td>0.0</td>\n",
       "      <td>0.0</td>\n",
       "      <td>0.0</td>\n",
       "      <td>0.0</td>\n",
       "      <td>0.0</td>\n",
       "      <td>0.0</td>\n",
       "      <td>0.0</td>\n",
       "      <td>0.0</td>\n",
       "      <td>0.0</td>\n",
       "      <td>0.0</td>\n",
       "      <td>0.0</td>\n",
       "      <td>0.0</td>\n",
       "      <td>0.0</td>\n",
       "      <td>0.0</td>\n",
       "      <td>0.0</td>\n",
       "      <td>0.0</td>\n",
       "      <td>0.0</td>\n",
       "      <td>0.0</td>\n",
       "      <td>0.0</td>\n",
       "      <td>0.0</td>\n",
       "      <td>0.0</td>\n",
       "      <td>0.0</td>\n",
       "      <td>0.000000</td>\n",
       "      <td>0.0</td>\n",
       "      <td>0.0</td>\n",
       "      <td>0.0</td>\n",
       "      <td>0.0</td>\n",
       "      <td>0.0</td>\n",
       "      <td>0.0</td>\n",
       "      <td>0.0</td>\n",
       "      <td>0.0</td>\n",
       "      <td>0.0</td>\n",
       "      <td>0.0</td>\n",
       "      <td>0.0</td>\n",
       "      <td>0.0</td>\n",
       "      <td>...</td>\n",
       "      <td>0.0</td>\n",
       "      <td>0.0</td>\n",
       "      <td>0.164186</td>\n",
       "      <td>0.000000</td>\n",
       "      <td>0.0</td>\n",
       "      <td>0.0</td>\n",
       "      <td>0.0</td>\n",
       "      <td>0.0</td>\n",
       "      <td>0.0</td>\n",
       "      <td>0.0</td>\n",
       "      <td>0.0</td>\n",
       "      <td>0.0</td>\n",
       "      <td>0.0</td>\n",
       "      <td>0.000000</td>\n",
       "      <td>0.0</td>\n",
       "      <td>0.0</td>\n",
       "      <td>0.0</td>\n",
       "      <td>0.0</td>\n",
       "      <td>0.0</td>\n",
       "      <td>0.0</td>\n",
       "      <td>0.0</td>\n",
       "      <td>0.0</td>\n",
       "      <td>0.0</td>\n",
       "      <td>0.0</td>\n",
       "      <td>0.0</td>\n",
       "      <td>0.0</td>\n",
       "      <td>0.0</td>\n",
       "      <td>0.000000</td>\n",
       "      <td>0.0</td>\n",
       "      <td>0.000000</td>\n",
       "      <td>0.0</td>\n",
       "      <td>0.0</td>\n",
       "      <td>0.0</td>\n",
       "      <td>0.0</td>\n",
       "      <td>0.0</td>\n",
       "      <td>0.0</td>\n",
       "      <td>0.0</td>\n",
       "      <td>0.0</td>\n",
       "      <td>0.0</td>\n",
       "      <td>0.0</td>\n",
       "    </tr>\n",
       "    <tr>\n",
       "      <th>4</th>\n",
       "      <td>0.0</td>\n",
       "      <td>0.0</td>\n",
       "      <td>0.0</td>\n",
       "      <td>0.0</td>\n",
       "      <td>0.0</td>\n",
       "      <td>0.0</td>\n",
       "      <td>0.0</td>\n",
       "      <td>0.0</td>\n",
       "      <td>0.0</td>\n",
       "      <td>0.0</td>\n",
       "      <td>0.0</td>\n",
       "      <td>0.0</td>\n",
       "      <td>0.0</td>\n",
       "      <td>0.0</td>\n",
       "      <td>0.0</td>\n",
       "      <td>0.0</td>\n",
       "      <td>0.0</td>\n",
       "      <td>0.0</td>\n",
       "      <td>0.0</td>\n",
       "      <td>0.0</td>\n",
       "      <td>0.0</td>\n",
       "      <td>0.0</td>\n",
       "      <td>0.0</td>\n",
       "      <td>0.0</td>\n",
       "      <td>0.0</td>\n",
       "      <td>0.0</td>\n",
       "      <td>0.0</td>\n",
       "      <td>0.000000</td>\n",
       "      <td>0.0</td>\n",
       "      <td>0.0</td>\n",
       "      <td>0.0</td>\n",
       "      <td>0.0</td>\n",
       "      <td>0.0</td>\n",
       "      <td>0.0</td>\n",
       "      <td>0.0</td>\n",
       "      <td>0.0</td>\n",
       "      <td>0.0</td>\n",
       "      <td>0.0</td>\n",
       "      <td>0.0</td>\n",
       "      <td>0.0</td>\n",
       "      <td>...</td>\n",
       "      <td>0.0</td>\n",
       "      <td>0.0</td>\n",
       "      <td>0.154888</td>\n",
       "      <td>0.000000</td>\n",
       "      <td>0.0</td>\n",
       "      <td>0.0</td>\n",
       "      <td>0.0</td>\n",
       "      <td>0.0</td>\n",
       "      <td>0.0</td>\n",
       "      <td>0.0</td>\n",
       "      <td>0.0</td>\n",
       "      <td>0.0</td>\n",
       "      <td>0.0</td>\n",
       "      <td>0.000000</td>\n",
       "      <td>0.0</td>\n",
       "      <td>0.0</td>\n",
       "      <td>0.0</td>\n",
       "      <td>0.0</td>\n",
       "      <td>0.0</td>\n",
       "      <td>0.0</td>\n",
       "      <td>0.0</td>\n",
       "      <td>0.0</td>\n",
       "      <td>0.0</td>\n",
       "      <td>0.0</td>\n",
       "      <td>0.0</td>\n",
       "      <td>0.0</td>\n",
       "      <td>0.0</td>\n",
       "      <td>0.000000</td>\n",
       "      <td>0.0</td>\n",
       "      <td>0.000000</td>\n",
       "      <td>0.0</td>\n",
       "      <td>0.0</td>\n",
       "      <td>0.0</td>\n",
       "      <td>0.0</td>\n",
       "      <td>0.0</td>\n",
       "      <td>0.0</td>\n",
       "      <td>0.0</td>\n",
       "      <td>0.0</td>\n",
       "      <td>0.0</td>\n",
       "      <td>0.0</td>\n",
       "    </tr>\n",
       "    <tr>\n",
       "      <th>...</th>\n",
       "      <td>...</td>\n",
       "      <td>...</td>\n",
       "      <td>...</td>\n",
       "      <td>...</td>\n",
       "      <td>...</td>\n",
       "      <td>...</td>\n",
       "      <td>...</td>\n",
       "      <td>...</td>\n",
       "      <td>...</td>\n",
       "      <td>...</td>\n",
       "      <td>...</td>\n",
       "      <td>...</td>\n",
       "      <td>...</td>\n",
       "      <td>...</td>\n",
       "      <td>...</td>\n",
       "      <td>...</td>\n",
       "      <td>...</td>\n",
       "      <td>...</td>\n",
       "      <td>...</td>\n",
       "      <td>...</td>\n",
       "      <td>...</td>\n",
       "      <td>...</td>\n",
       "      <td>...</td>\n",
       "      <td>...</td>\n",
       "      <td>...</td>\n",
       "      <td>...</td>\n",
       "      <td>...</td>\n",
       "      <td>...</td>\n",
       "      <td>...</td>\n",
       "      <td>...</td>\n",
       "      <td>...</td>\n",
       "      <td>...</td>\n",
       "      <td>...</td>\n",
       "      <td>...</td>\n",
       "      <td>...</td>\n",
       "      <td>...</td>\n",
       "      <td>...</td>\n",
       "      <td>...</td>\n",
       "      <td>...</td>\n",
       "      <td>...</td>\n",
       "      <td>...</td>\n",
       "      <td>...</td>\n",
       "      <td>...</td>\n",
       "      <td>...</td>\n",
       "      <td>...</td>\n",
       "      <td>...</td>\n",
       "      <td>...</td>\n",
       "      <td>...</td>\n",
       "      <td>...</td>\n",
       "      <td>...</td>\n",
       "      <td>...</td>\n",
       "      <td>...</td>\n",
       "      <td>...</td>\n",
       "      <td>...</td>\n",
       "      <td>...</td>\n",
       "      <td>...</td>\n",
       "      <td>...</td>\n",
       "      <td>...</td>\n",
       "      <td>...</td>\n",
       "      <td>...</td>\n",
       "      <td>...</td>\n",
       "      <td>...</td>\n",
       "      <td>...</td>\n",
       "      <td>...</td>\n",
       "      <td>...</td>\n",
       "      <td>...</td>\n",
       "      <td>...</td>\n",
       "      <td>...</td>\n",
       "      <td>...</td>\n",
       "      <td>...</td>\n",
       "      <td>...</td>\n",
       "      <td>...</td>\n",
       "      <td>...</td>\n",
       "      <td>...</td>\n",
       "      <td>...</td>\n",
       "      <td>...</td>\n",
       "      <td>...</td>\n",
       "      <td>...</td>\n",
       "      <td>...</td>\n",
       "      <td>...</td>\n",
       "      <td>...</td>\n",
       "    </tr>\n",
       "    <tr>\n",
       "      <th>274</th>\n",
       "      <td>0.0</td>\n",
       "      <td>0.0</td>\n",
       "      <td>0.0</td>\n",
       "      <td>0.0</td>\n",
       "      <td>0.0</td>\n",
       "      <td>0.0</td>\n",
       "      <td>0.0</td>\n",
       "      <td>0.0</td>\n",
       "      <td>0.0</td>\n",
       "      <td>0.0</td>\n",
       "      <td>0.0</td>\n",
       "      <td>0.0</td>\n",
       "      <td>0.0</td>\n",
       "      <td>0.0</td>\n",
       "      <td>0.0</td>\n",
       "      <td>0.0</td>\n",
       "      <td>0.0</td>\n",
       "      <td>0.0</td>\n",
       "      <td>0.0</td>\n",
       "      <td>0.0</td>\n",
       "      <td>0.0</td>\n",
       "      <td>0.0</td>\n",
       "      <td>0.0</td>\n",
       "      <td>0.0</td>\n",
       "      <td>0.0</td>\n",
       "      <td>0.0</td>\n",
       "      <td>0.0</td>\n",
       "      <td>0.000000</td>\n",
       "      <td>0.0</td>\n",
       "      <td>0.0</td>\n",
       "      <td>0.0</td>\n",
       "      <td>0.0</td>\n",
       "      <td>0.0</td>\n",
       "      <td>0.0</td>\n",
       "      <td>0.0</td>\n",
       "      <td>0.0</td>\n",
       "      <td>0.0</td>\n",
       "      <td>0.0</td>\n",
       "      <td>0.0</td>\n",
       "      <td>0.0</td>\n",
       "      <td>...</td>\n",
       "      <td>0.0</td>\n",
       "      <td>0.0</td>\n",
       "      <td>0.000000</td>\n",
       "      <td>0.000000</td>\n",
       "      <td>0.0</td>\n",
       "      <td>0.0</td>\n",
       "      <td>0.0</td>\n",
       "      <td>0.0</td>\n",
       "      <td>0.0</td>\n",
       "      <td>0.0</td>\n",
       "      <td>0.0</td>\n",
       "      <td>0.0</td>\n",
       "      <td>0.0</td>\n",
       "      <td>0.389396</td>\n",
       "      <td>0.0</td>\n",
       "      <td>0.0</td>\n",
       "      <td>0.0</td>\n",
       "      <td>0.0</td>\n",
       "      <td>0.0</td>\n",
       "      <td>0.0</td>\n",
       "      <td>0.0</td>\n",
       "      <td>0.0</td>\n",
       "      <td>0.0</td>\n",
       "      <td>0.0</td>\n",
       "      <td>0.0</td>\n",
       "      <td>0.0</td>\n",
       "      <td>0.0</td>\n",
       "      <td>0.000000</td>\n",
       "      <td>0.0</td>\n",
       "      <td>0.000000</td>\n",
       "      <td>0.0</td>\n",
       "      <td>0.0</td>\n",
       "      <td>0.0</td>\n",
       "      <td>0.0</td>\n",
       "      <td>0.0</td>\n",
       "      <td>0.0</td>\n",
       "      <td>0.0</td>\n",
       "      <td>0.0</td>\n",
       "      <td>0.0</td>\n",
       "      <td>0.0</td>\n",
       "    </tr>\n",
       "    <tr>\n",
       "      <th>275</th>\n",
       "      <td>0.0</td>\n",
       "      <td>0.0</td>\n",
       "      <td>0.0</td>\n",
       "      <td>0.0</td>\n",
       "      <td>0.0</td>\n",
       "      <td>0.0</td>\n",
       "      <td>0.0</td>\n",
       "      <td>0.0</td>\n",
       "      <td>0.0</td>\n",
       "      <td>0.0</td>\n",
       "      <td>0.0</td>\n",
       "      <td>0.0</td>\n",
       "      <td>0.0</td>\n",
       "      <td>0.0</td>\n",
       "      <td>0.0</td>\n",
       "      <td>0.0</td>\n",
       "      <td>0.0</td>\n",
       "      <td>0.0</td>\n",
       "      <td>0.0</td>\n",
       "      <td>0.0</td>\n",
       "      <td>0.0</td>\n",
       "      <td>0.0</td>\n",
       "      <td>0.0</td>\n",
       "      <td>0.0</td>\n",
       "      <td>0.0</td>\n",
       "      <td>0.0</td>\n",
       "      <td>0.0</td>\n",
       "      <td>0.000000</td>\n",
       "      <td>0.0</td>\n",
       "      <td>0.0</td>\n",
       "      <td>0.0</td>\n",
       "      <td>0.0</td>\n",
       "      <td>0.0</td>\n",
       "      <td>0.0</td>\n",
       "      <td>0.0</td>\n",
       "      <td>0.0</td>\n",
       "      <td>0.0</td>\n",
       "      <td>0.0</td>\n",
       "      <td>0.0</td>\n",
       "      <td>0.0</td>\n",
       "      <td>...</td>\n",
       "      <td>0.0</td>\n",
       "      <td>0.0</td>\n",
       "      <td>0.000000</td>\n",
       "      <td>0.000000</td>\n",
       "      <td>0.0</td>\n",
       "      <td>0.0</td>\n",
       "      <td>0.0</td>\n",
       "      <td>0.0</td>\n",
       "      <td>0.0</td>\n",
       "      <td>0.0</td>\n",
       "      <td>0.0</td>\n",
       "      <td>0.0</td>\n",
       "      <td>0.0</td>\n",
       "      <td>0.427805</td>\n",
       "      <td>0.0</td>\n",
       "      <td>0.0</td>\n",
       "      <td>0.0</td>\n",
       "      <td>0.0</td>\n",
       "      <td>0.0</td>\n",
       "      <td>0.0</td>\n",
       "      <td>0.0</td>\n",
       "      <td>0.0</td>\n",
       "      <td>0.0</td>\n",
       "      <td>0.0</td>\n",
       "      <td>0.0</td>\n",
       "      <td>0.0</td>\n",
       "      <td>0.0</td>\n",
       "      <td>0.000000</td>\n",
       "      <td>0.0</td>\n",
       "      <td>0.000000</td>\n",
       "      <td>0.0</td>\n",
       "      <td>0.0</td>\n",
       "      <td>0.0</td>\n",
       "      <td>0.0</td>\n",
       "      <td>0.0</td>\n",
       "      <td>0.0</td>\n",
       "      <td>0.0</td>\n",
       "      <td>0.0</td>\n",
       "      <td>0.0</td>\n",
       "      <td>0.0</td>\n",
       "    </tr>\n",
       "    <tr>\n",
       "      <th>276</th>\n",
       "      <td>0.0</td>\n",
       "      <td>0.0</td>\n",
       "      <td>0.0</td>\n",
       "      <td>0.0</td>\n",
       "      <td>0.0</td>\n",
       "      <td>0.0</td>\n",
       "      <td>0.0</td>\n",
       "      <td>0.0</td>\n",
       "      <td>0.0</td>\n",
       "      <td>0.0</td>\n",
       "      <td>0.0</td>\n",
       "      <td>0.0</td>\n",
       "      <td>0.0</td>\n",
       "      <td>0.0</td>\n",
       "      <td>0.0</td>\n",
       "      <td>0.0</td>\n",
       "      <td>0.0</td>\n",
       "      <td>0.0</td>\n",
       "      <td>0.0</td>\n",
       "      <td>0.0</td>\n",
       "      <td>0.0</td>\n",
       "      <td>0.0</td>\n",
       "      <td>0.0</td>\n",
       "      <td>0.0</td>\n",
       "      <td>0.0</td>\n",
       "      <td>0.0</td>\n",
       "      <td>0.0</td>\n",
       "      <td>0.000000</td>\n",
       "      <td>0.0</td>\n",
       "      <td>0.0</td>\n",
       "      <td>0.0</td>\n",
       "      <td>0.0</td>\n",
       "      <td>0.0</td>\n",
       "      <td>0.0</td>\n",
       "      <td>0.0</td>\n",
       "      <td>0.0</td>\n",
       "      <td>0.0</td>\n",
       "      <td>0.0</td>\n",
       "      <td>0.0</td>\n",
       "      <td>0.0</td>\n",
       "      <td>...</td>\n",
       "      <td>0.0</td>\n",
       "      <td>0.0</td>\n",
       "      <td>0.000000</td>\n",
       "      <td>0.000000</td>\n",
       "      <td>0.0</td>\n",
       "      <td>0.0</td>\n",
       "      <td>0.0</td>\n",
       "      <td>0.0</td>\n",
       "      <td>0.0</td>\n",
       "      <td>0.0</td>\n",
       "      <td>0.0</td>\n",
       "      <td>0.0</td>\n",
       "      <td>0.0</td>\n",
       "      <td>0.000000</td>\n",
       "      <td>0.0</td>\n",
       "      <td>0.0</td>\n",
       "      <td>0.0</td>\n",
       "      <td>0.0</td>\n",
       "      <td>0.0</td>\n",
       "      <td>0.0</td>\n",
       "      <td>0.0</td>\n",
       "      <td>0.0</td>\n",
       "      <td>0.0</td>\n",
       "      <td>0.0</td>\n",
       "      <td>0.0</td>\n",
       "      <td>0.0</td>\n",
       "      <td>0.0</td>\n",
       "      <td>0.000000</td>\n",
       "      <td>0.0</td>\n",
       "      <td>0.000000</td>\n",
       "      <td>0.0</td>\n",
       "      <td>0.0</td>\n",
       "      <td>0.0</td>\n",
       "      <td>0.0</td>\n",
       "      <td>0.0</td>\n",
       "      <td>0.0</td>\n",
       "      <td>0.0</td>\n",
       "      <td>0.0</td>\n",
       "      <td>0.0</td>\n",
       "      <td>0.0</td>\n",
       "    </tr>\n",
       "    <tr>\n",
       "      <th>277</th>\n",
       "      <td>0.0</td>\n",
       "      <td>0.0</td>\n",
       "      <td>0.0</td>\n",
       "      <td>0.0</td>\n",
       "      <td>0.0</td>\n",
       "      <td>0.0</td>\n",
       "      <td>0.0</td>\n",
       "      <td>0.0</td>\n",
       "      <td>0.0</td>\n",
       "      <td>0.0</td>\n",
       "      <td>0.0</td>\n",
       "      <td>0.0</td>\n",
       "      <td>0.0</td>\n",
       "      <td>0.0</td>\n",
       "      <td>0.0</td>\n",
       "      <td>0.0</td>\n",
       "      <td>0.0</td>\n",
       "      <td>0.0</td>\n",
       "      <td>0.0</td>\n",
       "      <td>0.0</td>\n",
       "      <td>0.0</td>\n",
       "      <td>0.0</td>\n",
       "      <td>0.0</td>\n",
       "      <td>0.0</td>\n",
       "      <td>0.0</td>\n",
       "      <td>0.0</td>\n",
       "      <td>0.0</td>\n",
       "      <td>0.000000</td>\n",
       "      <td>0.0</td>\n",
       "      <td>0.0</td>\n",
       "      <td>0.0</td>\n",
       "      <td>0.0</td>\n",
       "      <td>0.0</td>\n",
       "      <td>0.0</td>\n",
       "      <td>0.0</td>\n",
       "      <td>0.0</td>\n",
       "      <td>0.0</td>\n",
       "      <td>0.0</td>\n",
       "      <td>0.0</td>\n",
       "      <td>0.0</td>\n",
       "      <td>...</td>\n",
       "      <td>0.0</td>\n",
       "      <td>0.0</td>\n",
       "      <td>0.000000</td>\n",
       "      <td>0.000000</td>\n",
       "      <td>0.0</td>\n",
       "      <td>0.0</td>\n",
       "      <td>0.0</td>\n",
       "      <td>0.0</td>\n",
       "      <td>0.0</td>\n",
       "      <td>0.0</td>\n",
       "      <td>0.0</td>\n",
       "      <td>0.0</td>\n",
       "      <td>0.0</td>\n",
       "      <td>0.000000</td>\n",
       "      <td>0.0</td>\n",
       "      <td>0.0</td>\n",
       "      <td>0.0</td>\n",
       "      <td>0.0</td>\n",
       "      <td>0.0</td>\n",
       "      <td>0.0</td>\n",
       "      <td>0.0</td>\n",
       "      <td>0.0</td>\n",
       "      <td>0.0</td>\n",
       "      <td>0.0</td>\n",
       "      <td>0.0</td>\n",
       "      <td>0.0</td>\n",
       "      <td>0.0</td>\n",
       "      <td>0.000000</td>\n",
       "      <td>0.0</td>\n",
       "      <td>0.252188</td>\n",
       "      <td>0.0</td>\n",
       "      <td>0.0</td>\n",
       "      <td>0.0</td>\n",
       "      <td>0.0</td>\n",
       "      <td>0.0</td>\n",
       "      <td>0.0</td>\n",
       "      <td>0.0</td>\n",
       "      <td>0.0</td>\n",
       "      <td>0.0</td>\n",
       "      <td>0.0</td>\n",
       "    </tr>\n",
       "    <tr>\n",
       "      <th>278</th>\n",
       "      <td>0.0</td>\n",
       "      <td>0.0</td>\n",
       "      <td>0.0</td>\n",
       "      <td>0.0</td>\n",
       "      <td>0.0</td>\n",
       "      <td>0.0</td>\n",
       "      <td>0.0</td>\n",
       "      <td>0.0</td>\n",
       "      <td>0.0</td>\n",
       "      <td>0.0</td>\n",
       "      <td>0.0</td>\n",
       "      <td>0.0</td>\n",
       "      <td>0.0</td>\n",
       "      <td>0.0</td>\n",
       "      <td>0.0</td>\n",
       "      <td>0.0</td>\n",
       "      <td>0.0</td>\n",
       "      <td>0.0</td>\n",
       "      <td>0.0</td>\n",
       "      <td>0.0</td>\n",
       "      <td>0.0</td>\n",
       "      <td>0.0</td>\n",
       "      <td>0.0</td>\n",
       "      <td>0.0</td>\n",
       "      <td>0.0</td>\n",
       "      <td>0.0</td>\n",
       "      <td>0.0</td>\n",
       "      <td>0.520926</td>\n",
       "      <td>0.0</td>\n",
       "      <td>0.0</td>\n",
       "      <td>0.0</td>\n",
       "      <td>0.0</td>\n",
       "      <td>0.0</td>\n",
       "      <td>0.0</td>\n",
       "      <td>0.0</td>\n",
       "      <td>0.0</td>\n",
       "      <td>0.0</td>\n",
       "      <td>0.0</td>\n",
       "      <td>0.0</td>\n",
       "      <td>0.0</td>\n",
       "      <td>...</td>\n",
       "      <td>0.0</td>\n",
       "      <td>0.0</td>\n",
       "      <td>0.000000</td>\n",
       "      <td>0.000000</td>\n",
       "      <td>0.0</td>\n",
       "      <td>0.0</td>\n",
       "      <td>0.0</td>\n",
       "      <td>0.0</td>\n",
       "      <td>0.0</td>\n",
       "      <td>0.0</td>\n",
       "      <td>0.0</td>\n",
       "      <td>0.0</td>\n",
       "      <td>0.0</td>\n",
       "      <td>0.000000</td>\n",
       "      <td>0.0</td>\n",
       "      <td>0.0</td>\n",
       "      <td>0.0</td>\n",
       "      <td>0.0</td>\n",
       "      <td>0.0</td>\n",
       "      <td>0.0</td>\n",
       "      <td>0.0</td>\n",
       "      <td>0.0</td>\n",
       "      <td>0.0</td>\n",
       "      <td>0.0</td>\n",
       "      <td>0.0</td>\n",
       "      <td>0.0</td>\n",
       "      <td>0.0</td>\n",
       "      <td>0.000000</td>\n",
       "      <td>0.0</td>\n",
       "      <td>0.000000</td>\n",
       "      <td>0.0</td>\n",
       "      <td>0.0</td>\n",
       "      <td>0.0</td>\n",
       "      <td>0.0</td>\n",
       "      <td>0.0</td>\n",
       "      <td>0.0</td>\n",
       "      <td>0.0</td>\n",
       "      <td>0.0</td>\n",
       "      <td>0.0</td>\n",
       "      <td>0.0</td>\n",
       "    </tr>\n",
       "  </tbody>\n",
       "</table>\n",
       "<p>279 rows × 1229 columns</p>\n",
       "</div>"
      ],
      "text/plain": [
       "     0     1     2     3     4     5     ...  1223  1224  1225  1226  1227  1228\n",
       "0     0.0   0.0   0.0   0.0   0.0   0.0  ...   0.0   0.0   0.0   0.0   0.0   0.0\n",
       "1     0.0   0.0   0.0   0.0   0.0   0.0  ...   0.0   0.0   0.0   0.0   0.0   0.0\n",
       "2     0.0   0.0   0.0   0.0   0.0   0.0  ...   0.0   0.0   0.0   0.0   0.0   0.0\n",
       "3     0.0   0.0   0.0   0.0   0.0   0.0  ...   0.0   0.0   0.0   0.0   0.0   0.0\n",
       "4     0.0   0.0   0.0   0.0   0.0   0.0  ...   0.0   0.0   0.0   0.0   0.0   0.0\n",
       "..    ...   ...   ...   ...   ...   ...  ...   ...   ...   ...   ...   ...   ...\n",
       "274   0.0   0.0   0.0   0.0   0.0   0.0  ...   0.0   0.0   0.0   0.0   0.0   0.0\n",
       "275   0.0   0.0   0.0   0.0   0.0   0.0  ...   0.0   0.0   0.0   0.0   0.0   0.0\n",
       "276   0.0   0.0   0.0   0.0   0.0   0.0  ...   0.0   0.0   0.0   0.0   0.0   0.0\n",
       "277   0.0   0.0   0.0   0.0   0.0   0.0  ...   0.0   0.0   0.0   0.0   0.0   0.0\n",
       "278   0.0   0.0   0.0   0.0   0.0   0.0  ...   0.0   0.0   0.0   0.0   0.0   0.0\n",
       "\n",
       "[279 rows x 1229 columns]"
      ]
     },
     "execution_count": 24,
     "metadata": {
      "tags": []
     },
     "output_type": "execute_result"
    }
   ],
   "source": [
    "df_tfidf = pd.DataFrame(df_tfvec)\n",
    "df_tfidf"
   ]
  },
  {
   "cell_type": "code",
   "execution_count": null,
   "metadata": {
    "id": "-QAD3VxuxovQ"
   },
   "outputs": [],
   "source": [
    "temp = np.empty(df_tfidf.shape[0], dtype=object)\n",
    "temp[:] = df_tfidf.values.tolist()"
   ]
  },
  {
   "cell_type": "code",
   "execution_count": null,
   "metadata": {
    "colab": {
     "base_uri": "https://localhost:8080/",
     "height": 424
    },
    "id": "2_EE0Y3NxovQ",
    "outputId": "250a953d-3378-4f62-bf11-8a58d63fad53"
   },
   "outputs": [
    {
     "data": {
      "text/html": [
       "<div>\n",
       "<style scoped>\n",
       "    .dataframe tbody tr th:only-of-type {\n",
       "        vertical-align: middle;\n",
       "    }\n",
       "\n",
       "    .dataframe tbody tr th {\n",
       "        vertical-align: top;\n",
       "    }\n",
       "\n",
       "    .dataframe thead th {\n",
       "        text-align: right;\n",
       "    }\n",
       "</style>\n",
       "<table border=\"1\" class=\"dataframe\">\n",
       "  <thead>\n",
       "    <tr style=\"text-align: right;\">\n",
       "      <th></th>\n",
       "      <th>tfidf</th>\n",
       "    </tr>\n",
       "  </thead>\n",
       "  <tbody>\n",
       "    <tr>\n",
       "      <th>0</th>\n",
       "      <td>[0.0, 0.0, 0.0, 0.0, 0.0, 0.0, 0.0, 0.0, 0.0, ...</td>\n",
       "    </tr>\n",
       "    <tr>\n",
       "      <th>1</th>\n",
       "      <td>[0.0, 0.0, 0.0, 0.0, 0.0, 0.0, 0.0, 0.0, 0.0, ...</td>\n",
       "    </tr>\n",
       "    <tr>\n",
       "      <th>2</th>\n",
       "      <td>[0.0, 0.0, 0.0, 0.0, 0.0, 0.0, 0.0, 0.0, 0.0, ...</td>\n",
       "    </tr>\n",
       "    <tr>\n",
       "      <th>3</th>\n",
       "      <td>[0.0, 0.0, 0.0, 0.0, 0.0, 0.0, 0.0, 0.0, 0.0, ...</td>\n",
       "    </tr>\n",
       "    <tr>\n",
       "      <th>4</th>\n",
       "      <td>[0.0, 0.0, 0.0, 0.0, 0.0, 0.0, 0.0, 0.0, 0.0, ...</td>\n",
       "    </tr>\n",
       "    <tr>\n",
       "      <th>...</th>\n",
       "      <td>...</td>\n",
       "    </tr>\n",
       "    <tr>\n",
       "      <th>274</th>\n",
       "      <td>[0.0, 0.0, 0.0, 0.0, 0.0, 0.0, 0.0, 0.0, 0.0, ...</td>\n",
       "    </tr>\n",
       "    <tr>\n",
       "      <th>275</th>\n",
       "      <td>[0.0, 0.0, 0.0, 0.0, 0.0, 0.0, 0.0, 0.0, 0.0, ...</td>\n",
       "    </tr>\n",
       "    <tr>\n",
       "      <th>276</th>\n",
       "      <td>[0.0, 0.0, 0.0, 0.0, 0.0, 0.0, 0.0, 0.0, 0.0, ...</td>\n",
       "    </tr>\n",
       "    <tr>\n",
       "      <th>277</th>\n",
       "      <td>[0.0, 0.0, 0.0, 0.0, 0.0, 0.0, 0.0, 0.0, 0.0, ...</td>\n",
       "    </tr>\n",
       "    <tr>\n",
       "      <th>278</th>\n",
       "      <td>[0.0, 0.0, 0.0, 0.0, 0.0, 0.0, 0.0, 0.0, 0.0, ...</td>\n",
       "    </tr>\n",
       "  </tbody>\n",
       "</table>\n",
       "<p>279 rows × 1 columns</p>\n",
       "</div>"
      ],
      "text/plain": [
       "                                                 tfidf\n",
       "0    [0.0, 0.0, 0.0, 0.0, 0.0, 0.0, 0.0, 0.0, 0.0, ...\n",
       "1    [0.0, 0.0, 0.0, 0.0, 0.0, 0.0, 0.0, 0.0, 0.0, ...\n",
       "2    [0.0, 0.0, 0.0, 0.0, 0.0, 0.0, 0.0, 0.0, 0.0, ...\n",
       "3    [0.0, 0.0, 0.0, 0.0, 0.0, 0.0, 0.0, 0.0, 0.0, ...\n",
       "4    [0.0, 0.0, 0.0, 0.0, 0.0, 0.0, 0.0, 0.0, 0.0, ...\n",
       "..                                                 ...\n",
       "274  [0.0, 0.0, 0.0, 0.0, 0.0, 0.0, 0.0, 0.0, 0.0, ...\n",
       "275  [0.0, 0.0, 0.0, 0.0, 0.0, 0.0, 0.0, 0.0, 0.0, ...\n",
       "276  [0.0, 0.0, 0.0, 0.0, 0.0, 0.0, 0.0, 0.0, 0.0, ...\n",
       "277  [0.0, 0.0, 0.0, 0.0, 0.0, 0.0, 0.0, 0.0, 0.0, ...\n",
       "278  [0.0, 0.0, 0.0, 0.0, 0.0, 0.0, 0.0, 0.0, 0.0, ...\n",
       "\n",
       "[279 rows x 1 columns]"
      ]
     },
     "execution_count": 26,
     "metadata": {
      "tags": []
     },
     "output_type": "execute_result"
    }
   ],
   "source": [
    "df_temp = pd.DataFrame(temp, columns=['tfidf'])\n",
    "df_temp"
   ]
  },
  {
   "cell_type": "code",
   "execution_count": null,
   "metadata": {
    "colab": {
     "base_uri": "https://localhost:8080/",
     "height": 293
    },
    "id": "pYrUc4OMxovQ",
    "outputId": "b23aadbe-4fca-4414-ab3d-90c70b61e101"
   },
   "outputs": [
    {
     "data": {
      "text/html": [
       "<div>\n",
       "<style scoped>\n",
       "    .dataframe tbody tr th:only-of-type {\n",
       "        vertical-align: middle;\n",
       "    }\n",
       "\n",
       "    .dataframe tbody tr th {\n",
       "        vertical-align: top;\n",
       "    }\n",
       "\n",
       "    .dataframe thead th {\n",
       "        text-align: right;\n",
       "    }\n",
       "</style>\n",
       "<table border=\"1\" class=\"dataframe\">\n",
       "  <thead>\n",
       "    <tr style=\"text-align: right;\">\n",
       "      <th></th>\n",
       "      <th>Date</th>\n",
       "      <th>Title</th>\n",
       "      <th>text_decont</th>\n",
       "      <th>text_no_punc</th>\n",
       "      <th>tk</th>\n",
       "      <th>tfidf</th>\n",
       "    </tr>\n",
       "  </thead>\n",
       "  <tbody>\n",
       "    <tr>\n",
       "      <th>0</th>\n",
       "      <td>2012-06-04</td>\n",
       "      <td>Microsoft and Nokia hit back at Google 'patent...</td>\n",
       "      <td>microsoft and nokia hit back at google 'patent...</td>\n",
       "      <td>microsoft and nokia hit back at google  patent...</td>\n",
       "      <td>[microsoft, and, nokia, hit, back, at, google,...</td>\n",
       "      <td>[0.0, 0.0, 0.0, 0.0, 0.0, 0.0, 0.0, 0.0, 0.0, ...</td>\n",
       "    </tr>\n",
       "    <tr>\n",
       "      <th>1</th>\n",
       "      <td>2012-06-15</td>\n",
       "      <td>Boot up: Microsoft 'to buy Yammer', Android 'n...</td>\n",
       "      <td>boot up: microsoft  noto buy yammer', android ...</td>\n",
       "      <td>boot up  microsoft  noto buy yammer   android ...</td>\n",
       "      <td>[boot, up, microsoft, noto, buy, yammer, andro...</td>\n",
       "      <td>[0.0, 0.0, 0.0, 0.0, 0.0, 0.0, 0.0, 0.0, 0.0, ...</td>\n",
       "    </tr>\n",
       "    <tr>\n",
       "      <th>2</th>\n",
       "      <td>2012-06-18</td>\n",
       "      <td>Microsoft 'to launch tablet to compete with iP...</td>\n",
       "      <td>microsoft  noto launch tablet to compete with ...</td>\n",
       "      <td>microsoft  noto launch tablet to compete with ...</td>\n",
       "      <td>[microsoft, noto, launch, tablet, to, compete,...</td>\n",
       "      <td>[0.0, 0.0, 0.0, 0.0, 0.0, 0.0, 0.0, 0.0, 0.0, ...</td>\n",
       "    </tr>\n",
       "    <tr>\n",
       "      <th>3</th>\n",
       "      <td>2012-06-20</td>\n",
       "      <td>Microsoft Surface: how the software giant got ...</td>\n",
       "      <td>microsoft surface: how the software giant got ...</td>\n",
       "      <td>microsoft surface  how the software giant got ...</td>\n",
       "      <td>[microsoft, surface, how, the, software, giant...</td>\n",
       "      <td>[0.0, 0.0, 0.0, 0.0, 0.0, 0.0, 0.0, 0.0, 0.0, ...</td>\n",
       "    </tr>\n",
       "    <tr>\n",
       "      <th>4</th>\n",
       "      <td>2012-06-22</td>\n",
       "      <td>Microsoft Surface: An error occurred ... Windo...</td>\n",
       "      <td>microsoft surface: an error occurred ... windo...</td>\n",
       "      <td>microsoft surface  an error occurred     windo...</td>\n",
       "      <td>[microsoft, surface, an, error, occurred, wind...</td>\n",
       "      <td>[0.0, 0.0, 0.0, 0.0, 0.0, 0.0, 0.0, 0.0, 0.0, ...</td>\n",
       "    </tr>\n",
       "  </tbody>\n",
       "</table>\n",
       "</div>"
      ],
      "text/plain": [
       "         Date  ...                                              tfidf\n",
       "0  2012-06-04  ...  [0.0, 0.0, 0.0, 0.0, 0.0, 0.0, 0.0, 0.0, 0.0, ...\n",
       "1  2012-06-15  ...  [0.0, 0.0, 0.0, 0.0, 0.0, 0.0, 0.0, 0.0, 0.0, ...\n",
       "2  2012-06-18  ...  [0.0, 0.0, 0.0, 0.0, 0.0, 0.0, 0.0, 0.0, 0.0, ...\n",
       "3  2012-06-20  ...  [0.0, 0.0, 0.0, 0.0, 0.0, 0.0, 0.0, 0.0, 0.0, ...\n",
       "4  2012-06-22  ...  [0.0, 0.0, 0.0, 0.0, 0.0, 0.0, 0.0, 0.0, 0.0, ...\n",
       "\n",
       "[5 rows x 6 columns]"
      ]
     },
     "execution_count": 27,
     "metadata": {
      "tags": []
     },
     "output_type": "execute_result"
    }
   ],
   "source": [
    "df_news = df_news.join(df_temp)\n",
    "df_news.head()"
   ]
  },
  {
   "cell_type": "markdown",
   "metadata": {
    "id": "ATsGq5jRAafn"
   },
   "source": [
    "## Load Stock Price Data"
   ]
  },
  {
   "cell_type": "code",
   "execution_count": null,
   "metadata": {
    "colab": {
     "base_uri": "https://localhost:8080/",
     "height": 206
    },
    "id": "ys7Vm3ylxovQ",
    "outputId": "1a02f6d9-b8c1-4059-bd67-526725465edc"
   },
   "outputs": [
    {
     "data": {
      "text/html": [
       "<div>\n",
       "<style scoped>\n",
       "    .dataframe tbody tr th:only-of-type {\n",
       "        vertical-align: middle;\n",
       "    }\n",
       "\n",
       "    .dataframe tbody tr th {\n",
       "        vertical-align: top;\n",
       "    }\n",
       "\n",
       "    .dataframe thead th {\n",
       "        text-align: right;\n",
       "    }\n",
       "</style>\n",
       "<table border=\"1\" class=\"dataframe\">\n",
       "  <thead>\n",
       "    <tr style=\"text-align: right;\">\n",
       "      <th></th>\n",
       "      <th>Date</th>\n",
       "      <th>Close</th>\n",
       "    </tr>\n",
       "  </thead>\n",
       "  <tbody>\n",
       "    <tr>\n",
       "      <th>0</th>\n",
       "      <td>5/18/2012 16:00:00</td>\n",
       "      <td>29.27</td>\n",
       "    </tr>\n",
       "    <tr>\n",
       "      <th>1</th>\n",
       "      <td>5/21/2012 16:00:00</td>\n",
       "      <td>29.75</td>\n",
       "    </tr>\n",
       "    <tr>\n",
       "      <th>2</th>\n",
       "      <td>5/22/2012 16:00:00</td>\n",
       "      <td>29.76</td>\n",
       "    </tr>\n",
       "    <tr>\n",
       "      <th>3</th>\n",
       "      <td>5/23/2012 16:00:00</td>\n",
       "      <td>29.11</td>\n",
       "    </tr>\n",
       "    <tr>\n",
       "      <th>4</th>\n",
       "      <td>5/24/2012 16:00:00</td>\n",
       "      <td>29.07</td>\n",
       "    </tr>\n",
       "  </tbody>\n",
       "</table>\n",
       "</div>"
      ],
      "text/plain": [
       "                 Date  Close\n",
       "0  5/18/2012 16:00:00  29.27\n",
       "1  5/21/2012 16:00:00  29.75\n",
       "2  5/22/2012 16:00:00  29.76\n",
       "3  5/23/2012 16:00:00  29.11\n",
       "4  5/24/2012 16:00:00  29.07"
      ]
     },
     "execution_count": 28,
     "metadata": {
      "tags": []
     },
     "output_type": "execute_result"
    }
   ],
   "source": [
    "df_stock = pd.read_csv('/content/drive/MyDrive/stock_prediction/data/Stock Price - MSFT.csv', skiprows=1)\n",
    "df_stock.head()"
   ]
  },
  {
   "cell_type": "code",
   "execution_count": null,
   "metadata": {
    "id": "-cmpRK_sxovR"
   },
   "outputs": [],
   "source": [
    "df_stock['Date'] = pd.to_datetime(df_stock['Date'], infer_datetime_format=True).dt.date"
   ]
  },
  {
   "cell_type": "code",
   "execution_count": null,
   "metadata": {
    "id": "NJRb-TcyxovR"
   },
   "outputs": [],
   "source": [
    "df_stock = df_stock.set_index('Date').join(df_news.set_index('Date'))"
   ]
  },
  {
   "cell_type": "code",
   "execution_count": null,
   "metadata": {
    "id": "Euki_frfppKn"
   },
   "outputs": [],
   "source": [
    "df_stock.reset_index(inplace=True)"
   ]
  },
  {
   "cell_type": "markdown",
   "metadata": {
    "id": "cLuKm4YZGR5d"
   },
   "source": [
    "## Replace NaN TI-IDF by Zero Vector"
   ]
  },
  {
   "cell_type": "code",
   "execution_count": null,
   "metadata": {
    "id": "51AxamIxxovR"
   },
   "outputs": [],
   "source": [
    "def tfidf_zero(list_):\n",
    "    if type(list_) == float:\n",
    "        list_ = np.zeros(len(tfvec.get_feature_names()), dtype=float)\n",
    "    else:\n",
    "        list_ = np.array(list_)\n",
    "    return list_"
   ]
  },
  {
   "cell_type": "code",
   "execution_count": null,
   "metadata": {
    "id": "x4dUF8nXxovS"
   },
   "outputs": [],
   "source": [
    "df_stock['tfidf_new'] = df_stock['tfidf'].apply(lambda x: tfidf_zero(x))"
   ]
  },
  {
   "cell_type": "code",
   "execution_count": null,
   "metadata": {
    "id": "1OutCxVYxovS"
   },
   "outputs": [],
   "source": [
    "df_stock.reset_index(inplace=True)"
   ]
  },
  {
   "cell_type": "code",
   "execution_count": null,
   "metadata": {
    "colab": {
     "base_uri": "https://localhost:8080/",
     "height": 424
    },
    "id": "9aVMe-6RxovS",
    "outputId": "cd067333-359e-44b2-cc7b-de2a2b908316"
   },
   "outputs": [
    {
     "data": {
      "text/html": [
       "<div>\n",
       "<style scoped>\n",
       "    .dataframe tbody tr th:only-of-type {\n",
       "        vertical-align: middle;\n",
       "    }\n",
       "\n",
       "    .dataframe tbody tr th {\n",
       "        vertical-align: top;\n",
       "    }\n",
       "\n",
       "    .dataframe thead th {\n",
       "        text-align: right;\n",
       "    }\n",
       "</style>\n",
       "<table border=\"1\" class=\"dataframe\">\n",
       "  <thead>\n",
       "    <tr style=\"text-align: right;\">\n",
       "      <th></th>\n",
       "      <th>index</th>\n",
       "      <th>Date</th>\n",
       "      <th>Close</th>\n",
       "      <th>Title</th>\n",
       "      <th>text_decont</th>\n",
       "      <th>text_no_punc</th>\n",
       "      <th>tk</th>\n",
       "      <th>tfidf</th>\n",
       "      <th>tfidf_new</th>\n",
       "    </tr>\n",
       "  </thead>\n",
       "  <tbody>\n",
       "    <tr>\n",
       "      <th>0</th>\n",
       "      <td>0</td>\n",
       "      <td>2012-05-18</td>\n",
       "      <td>29.27</td>\n",
       "      <td>NaN</td>\n",
       "      <td>NaN</td>\n",
       "      <td>NaN</td>\n",
       "      <td>NaN</td>\n",
       "      <td>NaN</td>\n",
       "      <td>[0.0, 0.0, 0.0, 0.0, 0.0, 0.0, 0.0, 0.0, 0.0, ...</td>\n",
       "    </tr>\n",
       "    <tr>\n",
       "      <th>1</th>\n",
       "      <td>1</td>\n",
       "      <td>2012-05-21</td>\n",
       "      <td>29.75</td>\n",
       "      <td>NaN</td>\n",
       "      <td>NaN</td>\n",
       "      <td>NaN</td>\n",
       "      <td>NaN</td>\n",
       "      <td>NaN</td>\n",
       "      <td>[0.0, 0.0, 0.0, 0.0, 0.0, 0.0, 0.0, 0.0, 0.0, ...</td>\n",
       "    </tr>\n",
       "    <tr>\n",
       "      <th>2</th>\n",
       "      <td>2</td>\n",
       "      <td>2012-05-22</td>\n",
       "      <td>29.76</td>\n",
       "      <td>NaN</td>\n",
       "      <td>NaN</td>\n",
       "      <td>NaN</td>\n",
       "      <td>NaN</td>\n",
       "      <td>NaN</td>\n",
       "      <td>[0.0, 0.0, 0.0, 0.0, 0.0, 0.0, 0.0, 0.0, 0.0, ...</td>\n",
       "    </tr>\n",
       "    <tr>\n",
       "      <th>3</th>\n",
       "      <td>3</td>\n",
       "      <td>2012-05-23</td>\n",
       "      <td>29.11</td>\n",
       "      <td>NaN</td>\n",
       "      <td>NaN</td>\n",
       "      <td>NaN</td>\n",
       "      <td>NaN</td>\n",
       "      <td>NaN</td>\n",
       "      <td>[0.0, 0.0, 0.0, 0.0, 0.0, 0.0, 0.0, 0.0, 0.0, ...</td>\n",
       "    </tr>\n",
       "    <tr>\n",
       "      <th>4</th>\n",
       "      <td>4</td>\n",
       "      <td>2012-05-24</td>\n",
       "      <td>29.07</td>\n",
       "      <td>NaN</td>\n",
       "      <td>NaN</td>\n",
       "      <td>NaN</td>\n",
       "      <td>NaN</td>\n",
       "      <td>NaN</td>\n",
       "      <td>[0.0, 0.0, 0.0, 0.0, 0.0, 0.0, 0.0, 0.0, 0.0, ...</td>\n",
       "    </tr>\n",
       "    <tr>\n",
       "      <th>...</th>\n",
       "      <td>...</td>\n",
       "      <td>...</td>\n",
       "      <td>...</td>\n",
       "      <td>...</td>\n",
       "      <td>...</td>\n",
       "      <td>...</td>\n",
       "      <td>...</td>\n",
       "      <td>...</td>\n",
       "      <td>...</td>\n",
       "    </tr>\n",
       "    <tr>\n",
       "      <th>2275</th>\n",
       "      <td>2275</td>\n",
       "      <td>2021-06-04</td>\n",
       "      <td>250.79</td>\n",
       "      <td>NaN</td>\n",
       "      <td>NaN</td>\n",
       "      <td>NaN</td>\n",
       "      <td>NaN</td>\n",
       "      <td>NaN</td>\n",
       "      <td>[0.0, 0.0, 0.0, 0.0, 0.0, 0.0, 0.0, 0.0, 0.0, ...</td>\n",
       "    </tr>\n",
       "    <tr>\n",
       "      <th>2276</th>\n",
       "      <td>2276</td>\n",
       "      <td>2021-06-07</td>\n",
       "      <td>253.81</td>\n",
       "      <td>NaN</td>\n",
       "      <td>NaN</td>\n",
       "      <td>NaN</td>\n",
       "      <td>NaN</td>\n",
       "      <td>NaN</td>\n",
       "      <td>[0.0, 0.0, 0.0, 0.0, 0.0, 0.0, 0.0, 0.0, 0.0, ...</td>\n",
       "    </tr>\n",
       "    <tr>\n",
       "      <th>2277</th>\n",
       "      <td>2277</td>\n",
       "      <td>2021-06-08</td>\n",
       "      <td>252.57</td>\n",
       "      <td>NaN</td>\n",
       "      <td>NaN</td>\n",
       "      <td>NaN</td>\n",
       "      <td>NaN</td>\n",
       "      <td>NaN</td>\n",
       "      <td>[0.0, 0.0, 0.0, 0.0, 0.0, 0.0, 0.0, 0.0, 0.0, ...</td>\n",
       "    </tr>\n",
       "    <tr>\n",
       "      <th>2278</th>\n",
       "      <td>2278</td>\n",
       "      <td>2021-06-09</td>\n",
       "      <td>253.59</td>\n",
       "      <td>NaN</td>\n",
       "      <td>NaN</td>\n",
       "      <td>NaN</td>\n",
       "      <td>NaN</td>\n",
       "      <td>NaN</td>\n",
       "      <td>[0.0, 0.0, 0.0, 0.0, 0.0, 0.0, 0.0, 0.0, 0.0, ...</td>\n",
       "    </tr>\n",
       "    <tr>\n",
       "      <th>2279</th>\n",
       "      <td>2279</td>\n",
       "      <td>2021-06-10</td>\n",
       "      <td>257.24</td>\n",
       "      <td>NaN</td>\n",
       "      <td>NaN</td>\n",
       "      <td>NaN</td>\n",
       "      <td>NaN</td>\n",
       "      <td>NaN</td>\n",
       "      <td>[0.0, 0.0, 0.0, 0.0, 0.0, 0.0, 0.0, 0.0, 0.0, ...</td>\n",
       "    </tr>\n",
       "  </tbody>\n",
       "</table>\n",
       "<p>2280 rows × 9 columns</p>\n",
       "</div>"
      ],
      "text/plain": [
       "      index  ...                                          tfidf_new\n",
       "0         0  ...  [0.0, 0.0, 0.0, 0.0, 0.0, 0.0, 0.0, 0.0, 0.0, ...\n",
       "1         1  ...  [0.0, 0.0, 0.0, 0.0, 0.0, 0.0, 0.0, 0.0, 0.0, ...\n",
       "2         2  ...  [0.0, 0.0, 0.0, 0.0, 0.0, 0.0, 0.0, 0.0, 0.0, ...\n",
       "3         3  ...  [0.0, 0.0, 0.0, 0.0, 0.0, 0.0, 0.0, 0.0, 0.0, ...\n",
       "4         4  ...  [0.0, 0.0, 0.0, 0.0, 0.0, 0.0, 0.0, 0.0, 0.0, ...\n",
       "...     ...  ...                                                ...\n",
       "2275   2275  ...  [0.0, 0.0, 0.0, 0.0, 0.0, 0.0, 0.0, 0.0, 0.0, ...\n",
       "2276   2276  ...  [0.0, 0.0, 0.0, 0.0, 0.0, 0.0, 0.0, 0.0, 0.0, ...\n",
       "2277   2277  ...  [0.0, 0.0, 0.0, 0.0, 0.0, 0.0, 0.0, 0.0, 0.0, ...\n",
       "2278   2278  ...  [0.0, 0.0, 0.0, 0.0, 0.0, 0.0, 0.0, 0.0, 0.0, ...\n",
       "2279   2279  ...  [0.0, 0.0, 0.0, 0.0, 0.0, 0.0, 0.0, 0.0, 0.0, ...\n",
       "\n",
       "[2280 rows x 9 columns]"
      ]
     },
     "execution_count": 35,
     "metadata": {
      "tags": []
     },
     "output_type": "execute_result"
    }
   ],
   "source": [
    "df_stock"
   ]
  },
  {
   "cell_type": "markdown",
   "metadata": {
    "id": "9siJkLGKtLk5"
   },
   "source": [
    "# 3. Train-test split"
   ]
  },
  {
   "cell_type": "code",
   "execution_count": null,
   "metadata": {
    "id": "bHMAdCQpr324"
   },
   "outputs": [],
   "source": [
    "df_stock = df_stock.fillna('')"
   ]
  },
  {
   "cell_type": "code",
   "execution_count": null,
   "metadata": {
    "colab": {
     "base_uri": "https://localhost:8080/"
    },
    "id": "C7t1ZxxOtLk5",
    "outputId": "bbda9365-04ff-4de1-a88d-324152088495"
   },
   "outputs": [
    {
     "name": "stdout",
     "output_type": "stream",
     "text": [
      "Training set: 1917 accounted for  84.07894736842105 %\n",
      "Val set: 168 accounted for  7.368421052631578 %\n",
      "Test set: 195 accounted for  8.552631578947368 %\n"
     ]
    },
    {
     "name": "stderr",
     "output_type": "stream",
     "text": [
      "/usr/local/lib/python3.7/dist-packages/ipykernel_launcher.py:4: UserWarning: Boolean Series key will be reindexed to match DataFrame index.\n",
      "  after removing the cwd from sys.path.\n"
     ]
    }
   ],
   "source": [
    "df_stock['Date'] = pd.to_datetime(df_stock['Date'], format='%Y-%m-%d')\n",
    "\n",
    "train_data = df_stock[df_stock['Date'] < '2020-01-01'].copy()\n",
    "val_data = df_stock[df_stock['Date'] < '2020-09-01'][df_stock['Date'] > '2019-12-31'].copy()\n",
    "test_data = df_stock[df_stock['Date'] > '2020-08-31'].copy()\n",
    "\n",
    "val_data = val_data.set_index('Date')\n",
    "train_data = train_data.set_index('Date')\n",
    "test_data = test_data.set_index('Date')\n",
    "\n",
    "print('Training set:', train_data.shape[0], 'accounted for ',train_data.shape[0]/df_stock.shape[0]*100,'%')\n",
    "print('Val set:', val_data.shape[0], 'accounted for ',val_data.shape[0]/df_stock.shape[0]*100,'%')\n",
    "print('Test set:', test_data.shape[0], 'accounted for ',test_data.shape[0]/df_stock.shape[0]*100,'%')"
   ]
  },
  {
   "cell_type": "markdown",
   "metadata": {
    "id": "bhydodn6tLk6"
   },
   "source": [
    "# 4. Historical Price\n",
    "## Data normalization"
   ]
  },
  {
   "cell_type": "code",
   "execution_count": null,
   "metadata": {
    "id": "3EhdO4iX_PUU"
   },
   "outputs": [],
   "source": [
    "# Scaling the training set\n",
    "transform_train = {}\n",
    "transform_val = {}\n",
    "transform_test = {}\n",
    "scaled_aa = {}\n",
    "scaler = {}\n",
    "\n",
    "sc = MinMaxScaler(feature_range=(0,1))\n",
    "\n",
    "aa = np.array(df_stock.Close)\n",
    "aa = aa.reshape(aa.shape[0],1)\n",
    "\n",
    "a0 = np.array(train_data.Close)\n",
    "a1 = np.array(test_data.Close)\n",
    "a2 = np.array(val_data.Close)\n",
    "\n",
    "a0 = a0.reshape(a0.shape[0],1)\n",
    "a1 = a1.reshape(a1.shape[0],1)\n",
    "a2 = a2.reshape(a2.shape[0],1)\n",
    "\n",
    "scaled_aa = sc.fit_transform(aa)\n",
    "\n",
    "transform_train = sc.transform(a0)\n",
    "transform_test = sc.transform(a1)\n",
    "transform_val = sc.transform(a2)\n",
    "\n",
    "scaler = sc\n",
    "    \n",
    "del aa\n",
    "del a0\n",
    "del a1\n",
    "del a2"
   ]
  },
  {
   "cell_type": "markdown",
   "metadata": {
    "id": "lCVZXWURtLk6"
   },
   "source": [
    "## Windowing Input Data"
   ]
  },
  {
   "cell_type": "code",
   "execution_count": null,
   "metadata": {
    "id": "bVoL395QtLk7"
   },
   "outputs": [],
   "source": [
    "#windowing size\n",
    "n_lags = int(60)\n",
    "\n",
    "trainset = {}\n",
    "testset = {}\n",
    "valset = {}\n",
    "    \n",
    "X_train = []\n",
    "y_train = []\n",
    "for i in range(n_lags,train_data.shape[0]):\n",
    "    X_train.append(transform_train[i-n_lags:i])\n",
    "    y_train.append(transform_train[i])\n",
    "X_train, y_train = np.array(X_train), np.array(y_train)\n",
    "trainset[\"X\"] = np.reshape(X_train, (X_train.shape[0],X_train.shape[1],1))\n",
    "trainset[\"y\"] = y_train\n",
    "\n",
    "X_test = []\n",
    "y_test = []    \n",
    "for i in range(n_lags, test_data.shape[0]):\n",
    "    X_test.append(transform_test[i-n_lags:i])\n",
    "    y_test.append(transform_test[i])\n",
    "X_test, y_test = np.array(X_test), np.array(y_test)\n",
    "testset[\"X\"] = np.reshape(X_test, (X_test.shape[0], X_test.shape[1], 1))\n",
    "testset[\"y\"] = y_test\n",
    "\n",
    "X_val = []\n",
    "y_val = []    \n",
    "for i in range(n_lags, val_data.shape[0]):\n",
    "    X_val.append(transform_val[i-n_lags:i])\n",
    "    y_val.append(transform_val[i])\n",
    "X_val, y_val = np.array(X_val), np.array(y_val)\n",
    "valset[\"X\"] = np.reshape(X_val, (X_val.shape[0], X_val.shape[1], 1))\n",
    "valset[\"y\"] = y_val"
   ]
  },
  {
   "cell_type": "code",
   "execution_count": null,
   "metadata": {
    "colab": {
     "base_uri": "https://localhost:8080/",
     "height": 81
    },
    "id": "QVwy1UDUtLk7",
    "outputId": "f3f7a02b-aba6-4d8c-cf97-91d44914e263"
   },
   "outputs": [
    {
     "data": {
      "text/html": [
       "<div>\n",
       "<style scoped>\n",
       "    .dataframe tbody tr th:only-of-type {\n",
       "        vertical-align: middle;\n",
       "    }\n",
       "\n",
       "    .dataframe tbody tr th {\n",
       "        vertical-align: top;\n",
       "    }\n",
       "\n",
       "    .dataframe thead th {\n",
       "        text-align: right;\n",
       "    }\n",
       "</style>\n",
       "<table border=\"1\" class=\"dataframe\">\n",
       "  <thead>\n",
       "    <tr style=\"text-align: right;\">\n",
       "      <th></th>\n",
       "      <th>X_train</th>\n",
       "      <th>y_train</th>\n",
       "      <th>X_test</th>\n",
       "      <th>y_test</th>\n",
       "      <th>X_val</th>\n",
       "      <th>y_val</th>\n",
       "    </tr>\n",
       "  </thead>\n",
       "  <tbody>\n",
       "    <tr>\n",
       "      <th>0</th>\n",
       "      <td>(1857, 60, 1)</td>\n",
       "      <td>(1857, 1)</td>\n",
       "      <td>(135, 60, 1)</td>\n",
       "      <td>(135, 1)</td>\n",
       "      <td>(108, 60, 1)</td>\n",
       "      <td>(108, 1)</td>\n",
       "    </tr>\n",
       "  </tbody>\n",
       "</table>\n",
       "</div>"
      ],
      "text/plain": [
       "         X_train    y_train        X_test    y_test         X_val     y_val\n",
       "0  (1857, 60, 1)  (1857, 1)  (135, 60, 1)  (135, 1)  (108, 60, 1)  (108, 1)"
      ]
     },
     "execution_count": 40,
     "metadata": {
      "tags": []
     },
     "output_type": "execute_result"
    }
   ],
   "source": [
    "# Check the shape (again) before start training\n",
    "arr_buff = []\n",
    "buff = {}\n",
    "buff[\"X_train\"] = trainset[\"X\"].shape\n",
    "buff[\"y_train\"] = trainset[\"y\"].shape\n",
    "buff[\"X_test\"] = testset[\"X\"].shape\n",
    "buff[\"y_test\"] = testset[\"y\"].shape\n",
    "buff[\"X_val\"] = valset[\"X\"].shape\n",
    "buff[\"y_val\"] = valset[\"y\"].shape\n",
    "arr_buff.append(buff)\n",
    "\n",
    "pd.DataFrame(arr_buff)"
   ]
  },
  {
   "cell_type": "markdown",
   "metadata": {
    "id": "1Xt6Xl5wsmJr"
   },
   "source": [
    "# 5. Word Embedding"
   ]
  },
  {
   "cell_type": "code",
   "execution_count": null,
   "metadata": {
    "id": "wHTJjObIoRkQ"
   },
   "outputs": [],
   "source": [
    "import gensim\n",
    "from gensim.models import Word2Vec\n",
    "#setting\n",
    "vector_dim = 750\n",
    "window_size = 5\n",
    "min_count = 1\n",
    "training_iter = 20\n",
    "\n",
    "#model\n",
    "word2vec_model = Word2Vec(sentences=df_news.tk.values, size=vector_dim, window=window_size, \n",
    "                          min_count=min_count, iter=training_iter)"
   ]
  },
  {
   "cell_type": "code",
   "execution_count": null,
   "metadata": {
    "id": "BeaJ9I4KokqD"
   },
   "outputs": [],
   "source": [
    "#save model in ASCII (word2vec) format\n",
    "filename = '/content/drive/MyDrive/stock_prediction/MSFT/embedding_word2vec.txt'\n",
    "word2vec_model.wv.save_word2vec_format(filename, binary=False)"
   ]
  },
  {
   "cell_type": "code",
   "execution_count": null,
   "metadata": {
    "id": "5-GvPX6ko82w"
   },
   "outputs": [],
   "source": [
    "from keras.preprocessing.text import Tokenizer\n",
    "from keras.preprocessing.sequence import pad_sequences\n",
    "\n",
    "#find the longest tweet and use its length as number of embedding features\n",
    "maxlen = max([len(s.split()) for s in train_data.text_no_punc[n_lags:]])\n",
    "\n",
    "#tokenizer, sequence & padding\n",
    "tokenizer = Tokenizer()\n",
    "tokenizer.fit_on_texts(train_data.text_no_punc)\n",
    "xtrain_word_index = tokenizer.word_index\n",
    "xtrain_sequences = tokenizer.texts_to_sequences(train_data.text_no_punc[n_lags:])\n",
    "news_train = pad_sequences(xtrain_sequences, maxlen, padding='pre')\n",
    "news_test = pad_sequences(tokenizer.texts_to_sequences(test_data.text_no_punc[n_lags:].str.lower())\n",
    "                       ,maxlen, padding='pre')\n",
    "news_val = pad_sequences(tokenizer.texts_to_sequences(val_data.text_no_punc[n_lags:].str.lower())\n",
    "                       ,maxlen, padding='pre')"
   ]
  },
  {
   "cell_type": "code",
   "execution_count": null,
   "metadata": {
    "colab": {
     "base_uri": "https://localhost:8080/"
    },
    "id": "uUE7Uu7W8JQk",
    "outputId": "347d07ee-e42e-49b3-835d-0b9c257ca17d"
   },
   "outputs": [
    {
     "data": {
      "text/plain": [
       "49"
      ]
     },
     "execution_count": 44,
     "metadata": {
      "tags": []
     },
     "output_type": "execute_result"
    }
   ],
   "source": [
    "maxlen"
   ]
  },
  {
   "cell_type": "code",
   "execution_count": null,
   "metadata": {
    "colab": {
     "base_uri": "https://localhost:8080/"
    },
    "id": "LnimwBeVtfis",
    "outputId": "26756fb3-b7ef-4c86-bc51-55050b460987"
   },
   "outputs": [
    {
     "data": {
      "text/plain": [
       "(1857, 49)"
      ]
     },
     "execution_count": 45,
     "metadata": {
      "tags": []
     },
     "output_type": "execute_result"
    }
   ],
   "source": [
    "news_train.shape"
   ]
  },
  {
   "cell_type": "markdown",
   "metadata": {
    "id": "czwrwYUssijt"
   },
   "source": [
    "## Load Pre-trained Word Embedding"
   ]
  },
  {
   "cell_type": "code",
   "execution_count": null,
   "metadata": {
    "colab": {
     "base_uri": "https://localhost:8080/"
    },
    "id": "xL7z9-sRsq-x",
    "outputId": "03547087-76ed-4198-ff8e-3da14530d224"
   },
   "outputs": [
    {
     "name": "stdout",
     "output_type": "stream",
     "text": [
      "Converted 1133 words (1 misses)\n"
     ]
    }
   ],
   "source": [
    "#load embedding as a dict\n",
    "def load_embedding(filename):\n",
    "    # load embedding into memory, skip first line\n",
    "    file = open(filename,'r')\n",
    "    lines = file.readlines()[1:]\n",
    "    file.close()\n",
    "    # create a map of words to vectors\n",
    "    embedding = dict()\n",
    "    for line in lines:\n",
    "        parts = line.split()\n",
    "        # key is string word, value is numpy array for vector\n",
    "        embedding[parts[0]] = np.asarray(parts[1:], dtype='float32')\n",
    "    return embedding\n",
    "\n",
    "# create a weight matrix for the Embedding layer from a loaded embedding\n",
    "def get_weight_matrix(embedding, vocab):\n",
    "    # total vocabulary size plus 0 for unknown words\n",
    "    vocab_size = len(vocab) + 1\n",
    "    # define weight matrix dimensions with all 0\n",
    "    weight_matrix = np.zeros((vocab_size, vector_dim))\n",
    "    # step vocab, store vectors using the Tokenizer's integer mapping\n",
    "    hits = 0\n",
    "    misses = 0\n",
    "    for word, i in vocab.items():\n",
    "        embedding_vector = embedding.get(word)\n",
    "        if embedding_vector is not None:\n",
    "            # Words not found in embedding index will be all-zeros.\n",
    "            weight_matrix[i] = embedding_vector\n",
    "            hits += 1\n",
    "        else:\n",
    "            misses += 1\n",
    "    print(\"Converted %d words (%d misses)\" % (hits, misses))\n",
    "    return weight_matrix, vocab_size\n",
    "\n",
    "# load embedding from pre-trained embedding file\n",
    "raw_embedding = load_embedding('/content/drive/MyDrive/stock_prediction/MSFT/embedding_word2vec.txt')\n",
    "\n",
    "# get vectors in the right order\n",
    "embedding_vectors, vocab_size = get_weight_matrix(raw_embedding, tokenizer.word_index)"
   ]
  },
  {
   "cell_type": "markdown",
   "metadata": {
    "id": "SywMtgMKxovV"
   },
   "source": [
    "# 6. Seq2seq Model with Word2Vec"
   ]
  },
  {
   "cell_type": "code",
   "execution_count": null,
   "metadata": {
    "colab": {
     "base_uri": "https://localhost:8080/"
    },
    "id": "pE3BXAb8xovV",
    "outputId": "c97ded74-555e-4c02-d3ea-455239919828"
   },
   "outputs": [
    {
     "name": "stdout",
     "output_type": "stream",
     "text": [
      "CPU times: user 1.61 s, sys: 471 ms, total: 2.08 s\n",
      "Wall time: 6.07 s\n"
     ]
    }
   ],
   "source": [
    "%%time\n",
    "# LSTM architecture\n",
    "# FIRST BRANCH operates on the first input\n",
    "# 1st layer with Dropout regularisation\n",
    "lstm_input = Input(shape=(X_train.shape[1],1))\n",
    "x = Bidirectional(GRU(units=60, return_sequences=True))(lstm_input)\n",
    "x = Dropout(0.2)(x)\n",
    "\n",
    "# 2nd LSTM layer\n",
    "x = GRU(units=60)(x)\n",
    "x = Dropout(0.2)(x)\n",
    "\n",
    "lstm_branch = Model(inputs=lstm_input, outputs=x)\n",
    "\n",
    "# SECOND BRANCH operates on the first input\n",
    "embedding_layer = Embedding(vocab_size, vector_dim, weights=[embedding_vectors]\n",
    "                            ,input_length=maxlen, trainable=False)\n",
    "sequence_input = Input(shape=(maxlen,), dtype='int32')\n",
    "embedded_sequences = embedding_layer(sequence_input)\n",
    "\n",
    "y = Bidirectional(GRU(units=64, return_sequences=True))(embedded_sequences)\n",
    "y = Dropout(0.2)(y)\n",
    "y = GRU(units=64, return_sequences=True)(y)\n",
    "y = Dropout(0.2)(y)\n",
    "y = GRU(units=64)(y)\n",
    "y = Dropout(0.2)(y)\n",
    "news_branch = Model(inputs=sequence_input, outputs=y)\n",
    "\n",
    "# combine the output of the two branches\n",
    "combined = concatenate([lstm_branch.output, news_branch.output], name='combined')\n",
    "# Output layer\n",
    "z = Dense(25)(combined)\n",
    "z = Dense(1)(z)\n",
    "multi_model = Model(inputs=[lstm_branch.input, news_branch.input], outputs=z)\n",
    "\n",
    "# Compiling\n",
    "multi_model.compile(optimizer='adam', loss='mean_squared_error')"
   ]
  },
  {
   "cell_type": "code",
   "execution_count": null,
   "metadata": {
    "colab": {
     "base_uri": "https://localhost:8080/",
     "height": 1000
    },
    "id": "dHlWWHzqxovW",
    "outputId": "839481d9-aaa3-46d5-a08f-870b22c72057"
   },
   "outputs": [
    {
     "data": {
      "image/png": "[encoded data removed]",
      "text/plain": [
       "<IPython.core.display.Image object>"
      ]
     },
     "execution_count": 48,
     "metadata": {
      "tags": []
     },
     "output_type": "execute_result"
    }
   ],
   "source": [
    "from tensorflow.keras.utils import plot_model\n",
    "plot_model(multi_model, show_shapes=True)"
   ]
  },
  {
   "cell_type": "code",
   "execution_count": null,
   "metadata": {
    "colab": {
     "base_uri": "https://localhost:8080/"
    },
    "id": "-TkrNo22xovW",
    "outputId": "eb4df7f0-25fd-47b7-99b2-0fe74a6cff53"
   },
   "outputs": [
    {
     "name": "stderr",
     "output_type": "stream",
     "text": [
      "/usr/local/lib/python3.7/dist-packages/tensorflow/python/data/ops/dataset_ops.py:3704: UserWarning: Even though the `tf.config.experimental_run_functions_eagerly` option is set, this option does not apply to tf.data functions. To force eager execution of tf.data functions, please use `tf.data.experimental.enable.debug_mode()`.\n",
      "  \"Even though the `tf.config.experimental_run_functions_eagerly` \"\n"
     ]
    },
    {
     "name": "stdout",
     "output_type": "stream",
     "text": [
      "Epoch 1/100\n",
      "30/30 [==============================] - 10s 75ms/step - loss: 0.0113 - val_loss: 4.7731e-04\n",
      "Epoch 2/100\n",
      "30/30 [==============================] - 2s 73ms/step - loss: 7.3564e-04 - val_loss: 9.8776e-04\n",
      "Epoch 3/100\n",
      "30/30 [==============================] - 2s 69ms/step - loss: 4.4669e-04 - val_loss: 3.1486e-04\n",
      "Epoch 4/100\n",
      "30/30 [==============================] - 2s 71ms/step - loss: 4.8299e-04 - val_loss: 3.9491e-04\n",
      "Epoch 5/100\n",
      "30/30 [==============================] - 2s 72ms/step - loss: 3.0517e-04 - val_loss: 3.0597e-04\n",
      "Epoch 6/100\n",
      "30/30 [==============================] - 2s 73ms/step - loss: 3.0896e-04 - val_loss: 5.7053e-04\n",
      "Epoch 7/100\n",
      "30/30 [==============================] - 2s 71ms/step - loss: 3.5709e-04 - val_loss: 3.5123e-04\n",
      "Epoch 8/100\n",
      "30/30 [==============================] - 2s 73ms/step - loss: 2.4922e-04 - val_loss: 0.0113\n",
      "Epoch 9/100\n",
      "30/30 [==============================] - 2s 70ms/step - loss: 0.0012 - val_loss: 0.0020\n",
      "Epoch 10/100\n",
      "30/30 [==============================] - 2s 71ms/step - loss: 3.3654e-04 - val_loss: 4.9792e-04\n"
     ]
    },
    {
     "data": {
      "text/plain": [
       "<keras.callbacks.History at 0x7f3f2078bc10>"
      ]
     },
     "execution_count": 49,
     "metadata": {
      "tags": []
     },
     "output_type": "execute_result"
    }
   ],
   "source": [
    "from keras.callbacks import CSVLogger\n",
    "logger_filename = '/content/drive/MyDrive/stock_prediction/MSFT/training_log_seq2seq_model.csv'\n",
    "\n",
    "my_callback = [\n",
    "               EarlyStopping(patience=5,monitor='val_loss'),\n",
    "               CSVLogger(filename=logger_filename)\n",
    "\n",
    "]\n",
    "\n",
    "# training setting\n",
    "epochs = 100\n",
    "batch_size = 64\n",
    "\n",
    "# Fitting to the training set\n",
    "multi_model.fit([trainset['X'], news_train], trainset['y'], epochs=epochs, batch_size=batch_size, callbacks=my_callback\n",
    "                              , validation_data=([valset['X'], news_val], valset['y']))"
   ]
  },
  {
   "cell_type": "code",
   "execution_count": null,
   "metadata": {
    "id": "tMPqYLQsxovW"
   },
   "outputs": [],
   "source": [
    "multi_model.save('/content/drive/MyDrive/stock_prediction/MSFT/stock_pred_seq2seq_model.h5')"
   ]
  },
  {
   "cell_type": "markdown",
   "metadata": {
    "id": "kll2CRCAxovX"
   },
   "source": [
    "## Evaluation"
   ]
  },
  {
   "cell_type": "code",
   "execution_count": null,
   "metadata": {
    "colab": {
     "base_uri": "https://localhost:8080/",
     "height": 298
    },
    "id": "nKE4ScqExovX",
    "outputId": "f2fb96ba-e235-4579-81e0-bcd5ec7fca95"
   },
   "outputs": [
    {
     "name": "stderr",
     "output_type": "stream",
     "text": [
      "/usr/local/lib/python3.7/dist-packages/tensorflow/python/data/ops/dataset_ops.py:3704: UserWarning: Even though the `tf.config.experimental_run_functions_eagerly` option is set, this option does not apply to tf.data functions. To force eager execution of tf.data functions, please use `tf.data.experimental.enable.debug_mode()`.\n",
      "  \"Even though the `tf.config.experimental_run_functions_eagerly` \"\n",
      "/usr/local/lib/python3.7/dist-packages/tensorflow/python/data/ops/dataset_ops.py:3704: UserWarning: Even though the `tf.config.experimental_run_functions_eagerly` option is set, this option does not apply to tf.data functions. To force eager execution of tf.data functions, please use `tf.data.experimental.enable.debug_mode()`.\n",
      "  \"Even though the `tf.config.experimental_run_functions_eagerly` \"\n",
      "/usr/local/lib/python3.7/dist-packages/tensorflow/python/data/ops/dataset_ops.py:3704: UserWarning: Even though the `tf.config.experimental_run_functions_eagerly` option is set, this option does not apply to tf.data functions. To force eager execution of tf.data functions, please use `tf.data.experimental.enable.debug_mode()`.\n",
      "  \"Even though the `tf.config.experimental_run_functions_eagerly` \"\n"
     ]
    },
    {
     "data": {
      "text/plain": [
       "<matplotlib.legend.Legend at 0x7f3f240f1090>"
      ]
     },
     "execution_count": 51,
     "metadata": {
      "tags": []
     },
     "output_type": "execute_result"
    },
    {
     "data": {
      "image/png": "[encoded data removed]",
      "text/plain": [
       "<Figure size 864x144 with 1 Axes>"
      ]
     },
     "metadata": {
      "needs_background": "light",
      "tags": []
     },
     "output_type": "display_data"
    }
   ],
   "source": [
    "def calculate_mse_multi(scaler, y_input, x_input, w2v):\n",
    "    y_pred = multi_model.predict([x_input, w2v])\n",
    "    MSE = mean_squared_error(y_input, y_pred)\n",
    "\n",
    "    y_true = scaler.inverse_transform(y_input.reshape(-1,1))\n",
    "    y_pred = scaler.inverse_transform(y_pred)\n",
    "\n",
    "    real_mse = np.mean(np.square(y_true - y_pred))\n",
    "    scaled_mse = real_mse/(np.max(y_true) - np.min(y_true)) * 100\n",
    "\n",
    "    return MSE, scaled_mse, y_true, y_pred\n",
    "\n",
    "train_MSE, train_scaled_mse, train_y, train_y_pred = calculate_mse_multi(scaler, trainset[\"y\"], trainset[\"X\"], news_train)\n",
    "val_MSE, val_scaled_mse, val_y, val_y_pred = calculate_mse_multi(scaler, valset[\"y\"], valset[\"X\"], news_val)\n",
    "test_MSE, test_scaled_mse, test_y, test_y_pred = calculate_mse_multi(scaler, testset[\"y\"], testset[\"X\"], news_test)\n",
    "\n",
    "y_true = np.vstack((test_y))\n",
    "y_pred = np.vstack((test_y_pred))\n",
    "\n",
    "\n",
    "mse = {}\n",
    "mse[\"train\"] = train_MSE\n",
    "mse[\"val\"] = val_MSE\n",
    "mse[\"test\"] = test_MSE\n",
    "\n",
    "scaled_mse = {}\n",
    "scaled_mse[\"train\"] = train_scaled_mse\n",
    "scaled_mse[\"val\"] = val_scaled_mse\n",
    "scaled_mse[\"test\"] = test_scaled_mse\n",
    "\n",
    "pred_result = {}\n",
    "pred_result[\"True\"] = test_y\n",
    "pred_result[\"Pred\"] = test_y_pred\n",
    "\n",
    "plt.figure(figsize=(12,2))\n",
    "plt.plot(y_true)\n",
    "plt.plot(y_pred)\n",
    "plt.legend(['y_true','y_pred'])"
   ]
  },
  {
   "cell_type": "code",
   "execution_count": null,
   "metadata": {
    "colab": {
     "base_uri": "https://localhost:8080/"
    },
    "id": "UmFUyMmivy7Z",
    "outputId": "1e723fd9-82ed-4793-d54f-cba03cfae3fc"
   },
   "outputs": [
    {
     "data": {
      "text/plain": [
       "{'test': 0.0005581607162192493,\n",
       " 'train': 3.6459623580284825e-05,\n",
       " 'val': 0.0004979217808857617}"
      ]
     },
     "execution_count": 52,
     "metadata": {
      "tags": []
     },
     "output_type": "execute_result"
    }
   ],
   "source": [
    "mse"
   ]
  },
  {
   "cell_type": "code",
   "execution_count": null,
   "metadata": {
    "colab": {
     "base_uri": "https://localhost:8080/"
    },
    "id": "AOv2n_6dv0sG",
    "outputId": "c374570e-a669-442f-f580-9a5bba3be1bd"
   },
   "outputs": [
    {
     "data": {
      "text/plain": [
       "{'test': 60.21775592463969,\n",
       " 'train': 1.5263423357060304,\n",
       " 'val': 35.98744084589869}"
      ]
     },
     "execution_count": 53,
     "metadata": {
      "tags": []
     },
     "output_type": "execute_result"
    }
   ],
   "source": [
    "scaled_mse"
   ]
  },
  {
   "cell_type": "markdown",
   "metadata": {
    "id": "VNEN_1JhQIPR"
   },
   "source": [
    "## Prediction"
   ]
  },
  {
   "cell_type": "markdown",
   "metadata": {
    "id": "NX8FjfUUS80B"
   },
   "source": [
    "**Definition:**\n",
    "\n",
    "◦ **Rise (0):** CP of Today > CP of Yesterday , Change Rate > 1.5 %\n",
    "\n",
    "◦ **Remain Stable (1):** Change Rate ≤ 1.5 %\n",
    "\n",
    "◦ **Fall (2):** CP of Today < CP of Yesterday , Change Rate > 1.5 %"
   ]
  },
  {
   "cell_type": "code",
   "execution_count": null,
   "metadata": {
    "colab": {
     "base_uri": "https://localhost:8080/",
     "height": 206
    },
    "id": "mr6bJLvzLZsC",
    "outputId": "0a535552-5f80-4590-e27d-172bb33808e9"
   },
   "outputs": [
    {
     "data": {
      "text/html": [
       "<div>\n",
       "<style scoped>\n",
       "    .dataframe tbody tr th:only-of-type {\n",
       "        vertical-align: middle;\n",
       "    }\n",
       "\n",
       "    .dataframe tbody tr th {\n",
       "        vertical-align: top;\n",
       "    }\n",
       "\n",
       "    .dataframe thead th {\n",
       "        text-align: right;\n",
       "    }\n",
       "</style>\n",
       "<table border=\"1\" class=\"dataframe\">\n",
       "  <thead>\n",
       "    <tr style=\"text-align: right;\">\n",
       "      <th></th>\n",
       "      <th>Pred</th>\n",
       "      <th>True</th>\n",
       "      <th>His_True</th>\n",
       "      <th>His_Pred</th>\n",
       "      <th>Pred_change_rate</th>\n",
       "      <th>True_change_rate</th>\n",
       "    </tr>\n",
       "  </thead>\n",
       "  <tbody>\n",
       "    <tr>\n",
       "      <th>130</th>\n",
       "      <td>244.092300</td>\n",
       "      <td>250.79</td>\n",
       "      <td>245.71</td>\n",
       "      <td>244.956726</td>\n",
       "      <td>0.352889</td>\n",
       "      <td>2.067478</td>\n",
       "    </tr>\n",
       "    <tr>\n",
       "      <th>131</th>\n",
       "      <td>244.956451</td>\n",
       "      <td>253.81</td>\n",
       "      <td>250.79</td>\n",
       "      <td>244.092300</td>\n",
       "      <td>0.354026</td>\n",
       "      <td>1.204195</td>\n",
       "    </tr>\n",
       "    <tr>\n",
       "      <th>132</th>\n",
       "      <td>246.568222</td>\n",
       "      <td>252.57</td>\n",
       "      <td>253.81</td>\n",
       "      <td>244.956451</td>\n",
       "      <td>0.657983</td>\n",
       "      <td>0.488554</td>\n",
       "    </tr>\n",
       "    <tr>\n",
       "      <th>133</th>\n",
       "      <td>247.425659</td>\n",
       "      <td>253.59</td>\n",
       "      <td>252.57</td>\n",
       "      <td>246.568222</td>\n",
       "      <td>0.347748</td>\n",
       "      <td>0.403848</td>\n",
       "    </tr>\n",
       "    <tr>\n",
       "      <th>134</th>\n",
       "      <td>248.293365</td>\n",
       "      <td>257.24</td>\n",
       "      <td>253.59</td>\n",
       "      <td>247.425659</td>\n",
       "      <td>0.350694</td>\n",
       "      <td>1.439331</td>\n",
       "    </tr>\n",
       "  </tbody>\n",
       "</table>\n",
       "</div>"
      ],
      "text/plain": [
       "           Pred    True  ...  Pred_change_rate  True_change_rate\n",
       "130  244.092300  250.79  ...          0.352889          2.067478\n",
       "131  244.956451  253.81  ...          0.354026          1.204195\n",
       "132  246.568222  252.57  ...          0.657983          0.488554\n",
       "133  247.425659  253.59  ...          0.347748          0.403848\n",
       "134  248.293365  257.24  ...          0.350694          1.439331\n",
       "\n",
       "[5 rows x 6 columns]"
      ]
     },
     "execution_count": 54,
     "metadata": {
      "tags": []
     },
     "output_type": "execute_result"
    }
   ],
   "source": [
    "pred_df = pd.DataFrame(pred_result['Pred'], columns=['Pred'])\n",
    "pred_df['True'] = pred_result['True']\n",
    "pred_df = pred_df.tail(5)\n",
    "pred_df['His_True'] = pred_result['True'][-6:][:5]\n",
    "pred_df['His_Pred'] = pred_result['Pred'][-6:][:5]\n",
    "pred_df['Pred_change_rate'] = (pred_df['Pred'] - pred_df['His_Pred']).abs()/pred_df['His_Pred']*100\n",
    "pred_df['True_change_rate'] = (pred_df['True'] - pred_df['His_True']).abs()/pred_df['His_True']*100\n",
    "pred_df"
   ]
  },
  {
   "cell_type": "code",
   "execution_count": null,
   "metadata": {
    "id": "JraT0n_HRuKs"
   },
   "outputs": [],
   "source": [
    "def change_type_pred(row):\n",
    "    if row['Pred'] > row['His_Pred'] and row['Pred_change_rate'] > 1.5:\n",
    "        return 0\n",
    "    elif row['Pred'] < row['His_Pred'] and row['Pred_change_rate'] > 1.5:\n",
    "        return 2\n",
    "    else:\n",
    "        return 1\n",
    "\n",
    "def change_type_true(row):\n",
    "    if row['True'] > row['His_True'] and row['True_change_rate'] > 1.5:\n",
    "        return 0\n",
    "    elif row['True'] < row['His_True'] and row['True_change_rate'] > 1.5:\n",
    "        return 2\n",
    "    else:\n",
    "        return 1\n",
    "\n",
    "pred_df['Pred_change_type'] = pred_df.apply(lambda row : change_type_pred(row), axis=1)\n",
    "pred_df['True_change_type'] = pred_df.apply(lambda row : change_type_true(row), axis=1)"
   ]
  },
  {
   "cell_type": "code",
   "execution_count": null,
   "metadata": {
    "colab": {
     "base_uri": "https://localhost:8080/",
     "height": 206
    },
    "id": "D4hvJeXSSu19",
    "outputId": "3e385108-b74a-4b60-e3a2-7535736d37a4"
   },
   "outputs": [
    {
     "data": {
      "text/html": [
       "<div>\n",
       "<style scoped>\n",
       "    .dataframe tbody tr th:only-of-type {\n",
       "        vertical-align: middle;\n",
       "    }\n",
       "\n",
       "    .dataframe tbody tr th {\n",
       "        vertical-align: top;\n",
       "    }\n",
       "\n",
       "    .dataframe thead th {\n",
       "        text-align: right;\n",
       "    }\n",
       "</style>\n",
       "<table border=\"1\" class=\"dataframe\">\n",
       "  <thead>\n",
       "    <tr style=\"text-align: right;\">\n",
       "      <th></th>\n",
       "      <th>Pred</th>\n",
       "      <th>True</th>\n",
       "      <th>His_True</th>\n",
       "      <th>His_Pred</th>\n",
       "      <th>Pred_change_rate</th>\n",
       "      <th>True_change_rate</th>\n",
       "      <th>Pred_change_type</th>\n",
       "      <th>True_change_type</th>\n",
       "    </tr>\n",
       "  </thead>\n",
       "  <tbody>\n",
       "    <tr>\n",
       "      <th>130</th>\n",
       "      <td>244.092300</td>\n",
       "      <td>250.79</td>\n",
       "      <td>245.71</td>\n",
       "      <td>244.956726</td>\n",
       "      <td>0.352889</td>\n",
       "      <td>2.067478</td>\n",
       "      <td>1</td>\n",
       "      <td>0</td>\n",
       "    </tr>\n",
       "    <tr>\n",
       "      <th>131</th>\n",
       "      <td>244.956451</td>\n",
       "      <td>253.81</td>\n",
       "      <td>250.79</td>\n",
       "      <td>244.092300</td>\n",
       "      <td>0.354026</td>\n",
       "      <td>1.204195</td>\n",
       "      <td>1</td>\n",
       "      <td>1</td>\n",
       "    </tr>\n",
       "    <tr>\n",
       "      <th>132</th>\n",
       "      <td>246.568222</td>\n",
       "      <td>252.57</td>\n",
       "      <td>253.81</td>\n",
       "      <td>244.956451</td>\n",
       "      <td>0.657983</td>\n",
       "      <td>0.488554</td>\n",
       "      <td>1</td>\n",
       "      <td>1</td>\n",
       "    </tr>\n",
       "    <tr>\n",
       "      <th>133</th>\n",
       "      <td>247.425659</td>\n",
       "      <td>253.59</td>\n",
       "      <td>252.57</td>\n",
       "      <td>246.568222</td>\n",
       "      <td>0.347748</td>\n",
       "      <td>0.403848</td>\n",
       "      <td>1</td>\n",
       "      <td>1</td>\n",
       "    </tr>\n",
       "    <tr>\n",
       "      <th>134</th>\n",
       "      <td>248.293365</td>\n",
       "      <td>257.24</td>\n",
       "      <td>253.59</td>\n",
       "      <td>247.425659</td>\n",
       "      <td>0.350694</td>\n",
       "      <td>1.439331</td>\n",
       "      <td>1</td>\n",
       "      <td>1</td>\n",
       "    </tr>\n",
       "  </tbody>\n",
       "</table>\n",
       "</div>"
      ],
      "text/plain": [
       "           Pred    True  ...  Pred_change_type  True_change_type\n",
       "130  244.092300  250.79  ...                 1                 0\n",
       "131  244.956451  253.81  ...                 1                 1\n",
       "132  246.568222  252.57  ...                 1                 1\n",
       "133  247.425659  253.59  ...                 1                 1\n",
       "134  248.293365  257.24  ...                 1                 1\n",
       "\n",
       "[5 rows x 8 columns]"
      ]
     },
     "execution_count": 56,
     "metadata": {
      "tags": []
     },
     "output_type": "execute_result"
    }
   ],
   "source": [
    "pred_df"
   ]
  },
  {
   "cell_type": "markdown",
   "metadata": {
    "id": "58CJLEpGD3Ll"
   },
   "source": [
    "# 7. Baseline Model"
   ]
  },
  {
   "cell_type": "code",
   "execution_count": null,
   "metadata": {
    "colab": {
     "base_uri": "https://localhost:8080/"
    },
    "id": "oPOrk-tylRNT",
    "outputId": "2dea5e27-c9e2-4111-c1bd-a772531cce5c"
   },
   "outputs": [
    {
     "name": "stdout",
     "output_type": "stream",
     "text": [
      "Model: \"sequential\"\n",
      "_________________________________________________________________\n",
      "Layer (type)                 Output Shape              Param #   \n",
      "=================================================================\n",
      "bidirectional_2 (Bidirection (None, 60, 120)           22680     \n",
      "_________________________________________________________________\n",
      "dropout_5 (Dropout)          (None, 60, 120)           0         \n",
      "_________________________________________________________________\n",
      "gru_6 (GRU)                  (None, 60)                32760     \n",
      "_________________________________________________________________\n",
      "dropout_6 (Dropout)          (None, 60)                0         \n",
      "_________________________________________________________________\n",
      "dense_2 (Dense)              (None, 25)                1525      \n",
      "_________________________________________________________________\n",
      "dense_3 (Dense)              (None, 1)                 26        \n",
      "=================================================================\n",
      "Total params: 56,991\n",
      "Trainable params: 56,991\n",
      "Non-trainable params: 0\n",
      "_________________________________________________________________\n",
      "CPU times: user 549 ms, sys: 9.84 ms, total: 559 ms\n",
      "Wall time: 557 ms\n"
     ]
    }
   ],
   "source": [
    "%%time\n",
    "# The LSTM architecture\n",
    "regressorBiLSTM = Sequential()\n",
    "# 1st layer with Dropout regularisation\n",
    "regressorBiLSTM.add(Bidirectional(GRU(units=60, return_sequences=True), input_shape=(X_train.shape[1],1)))\n",
    "regressorBiLSTM.add(Dropout(0.2))\n",
    "\n",
    "# 2nd LSTM layer\n",
    "regressorBiLSTM.add(GRU(units=60))\n",
    "regressorBiLSTM.add(Dropout(0.2))\n",
    "\n",
    "# Output layer\n",
    "regressorBiLSTM.add(Dense(25))\n",
    "regressorBiLSTM.add(Dense(units=1))\n",
    "\n",
    "# Compiling LSTM \n",
    "regressorBiLSTM.compile(optimizer='adam', loss='mean_squared_error')\n",
    "regressorBiLSTM.summary()"
   ]
  },
  {
   "cell_type": "code",
   "execution_count": null,
   "metadata": {
    "colab": {
     "base_uri": "https://localhost:8080/"
    },
    "id": "p1NctIOolenN",
    "outputId": "53c70819-7997-4ad6-bba7-2fcd05638420"
   },
   "outputs": [
    {
     "name": "stderr",
     "output_type": "stream",
     "text": [
      "/usr/local/lib/python3.7/dist-packages/tensorflow/python/data/ops/dataset_ops.py:3704: UserWarning: Even though the `tf.config.experimental_run_functions_eagerly` option is set, this option does not apply to tf.data functions. To force eager execution of tf.data functions, please use `tf.data.experimental.enable.debug_mode()`.\n",
      "  \"Even though the `tf.config.experimental_run_functions_eagerly` \"\n"
     ]
    },
    {
     "name": "stdout",
     "output_type": "stream",
     "text": [
      "Epoch 1/100\n",
      "30/30 [==============================] - 1s 36ms/step - loss: 0.0204 - val_loss: 0.0036\n",
      "Epoch 2/100\n",
      "30/30 [==============================] - 1s 35ms/step - loss: 9.2461e-04 - val_loss: 9.6967e-04\n",
      "Epoch 3/100\n",
      "30/30 [==============================] - 1s 34ms/step - loss: 4.3457e-04 - val_loss: 0.0034\n",
      "Epoch 4/100\n",
      "30/30 [==============================] - 1s 34ms/step - loss: 8.5978e-04 - val_loss: 0.0029\n",
      "Epoch 5/100\n",
      "30/30 [==============================] - 1s 35ms/step - loss: 7.5977e-04 - val_loss: 0.0011\n",
      "Epoch 6/100\n",
      "30/30 [==============================] - 1s 36ms/step - loss: 4.0474e-04 - val_loss: 9.2019e-04\n",
      "Epoch 7/100\n",
      "30/30 [==============================] - 1s 35ms/step - loss: 3.6013e-04 - val_loss: 5.1806e-04\n",
      "Epoch 8/100\n",
      "30/30 [==============================] - 1s 35ms/step - loss: 3.0348e-04 - val_loss: 3.2359e-04\n",
      "Epoch 9/100\n",
      "30/30 [==============================] - 1s 34ms/step - loss: 3.2374e-04 - val_loss: 3.6852e-04\n",
      "Epoch 10/100\n",
      "30/30 [==============================] - 1s 36ms/step - loss: 2.4175e-04 - val_loss: 4.1845e-04\n",
      "Epoch 11/100\n",
      "30/30 [==============================] - 1s 36ms/step - loss: 2.5674e-04 - val_loss: 3.6868e-04\n",
      "Epoch 12/100\n",
      "30/30 [==============================] - 1s 34ms/step - loss: 2.7433e-04 - val_loss: 3.9616e-04\n",
      "Epoch 13/100\n",
      "30/30 [==============================] - 1s 36ms/step - loss: 2.2872e-04 - val_loss: 2.8931e-04\n",
      "Epoch 14/100\n",
      "30/30 [==============================] - 1s 35ms/step - loss: 2.0276e-04 - val_loss: 3.5020e-04\n",
      "Epoch 15/100\n",
      "30/30 [==============================] - 1s 36ms/step - loss: 2.1813e-04 - val_loss: 4.3419e-04\n",
      "Epoch 16/100\n",
      "30/30 [==============================] - 1s 35ms/step - loss: 2.1501e-04 - val_loss: 3.8932e-04\n",
      "Epoch 17/100\n",
      "30/30 [==============================] - 1s 34ms/step - loss: 2.0401e-04 - val_loss: 2.8596e-04\n",
      "Epoch 18/100\n",
      "30/30 [==============================] - 1s 34ms/step - loss: 2.2493e-04 - val_loss: 3.4002e-04\n",
      "Epoch 19/100\n",
      "30/30 [==============================] - 1s 35ms/step - loss: 2.0717e-04 - val_loss: 6.6317e-04\n",
      "Epoch 20/100\n",
      "30/30 [==============================] - 1s 35ms/step - loss: 1.9866e-04 - val_loss: 4.5878e-04\n",
      "Epoch 21/100\n",
      "30/30 [==============================] - 1s 35ms/step - loss: 2.1979e-04 - val_loss: 0.0017\n",
      "Epoch 22/100\n",
      "30/30 [==============================] - 1s 36ms/step - loss: 1.9713e-04 - val_loss: 0.0019\n"
     ]
    },
    {
     "data": {
      "text/plain": [
       "<keras.callbacks.History at 0x7f3f241d2ad0>"
      ]
     },
     "execution_count": 58,
     "metadata": {
      "tags": []
     },
     "output_type": "execute_result"
    }
   ],
   "source": [
    "logger_filename = '/content/drive/MyDrive/stock_prediction/MSFT/training_log_bilstm_model.csv'\n",
    "\n",
    "my_callback = [\n",
    "               EarlyStopping(patience=5,monitor='val_loss'),\n",
    "               CSVLogger(filename=logger_filename)\n",
    "\n",
    "]\n",
    "\n",
    "# training setting\n",
    "epochs = 100\n",
    "batch_size = 64\n",
    "\n",
    "# Fitting to the training set\n",
    "regressorBiLSTM.fit(trainset['X'], trainset['y'], epochs=epochs, batch_size=batch_size, callbacks=my_callback\n",
    "                              , validation_data=(valset['X'], valset['y']))"
   ]
  },
  {
   "cell_type": "code",
   "execution_count": null,
   "metadata": {
    "id": "sVdgcyXTOhQq"
   },
   "outputs": [],
   "source": [
    "regressorBiLSTM.save('/content/drive/MyDrive/stock_prediction/MSFT/stock_pred_bilstm_model.h5')"
   ]
  },
  {
   "cell_type": "markdown",
   "metadata": {
    "id": "GEYlrtR_lrpC"
   },
   "source": [
    "## Evaluation"
   ]
  },
  {
   "cell_type": "code",
   "execution_count": null,
   "metadata": {
    "colab": {
     "base_uri": "https://localhost:8080/",
     "height": 298
    },
    "id": "Ml4viY44lrpD",
    "outputId": "57432d4f-5ead-4bfe-9a94-438b81ef937c"
   },
   "outputs": [
    {
     "name": "stderr",
     "output_type": "stream",
     "text": [
      "/usr/local/lib/python3.7/dist-packages/tensorflow/python/data/ops/dataset_ops.py:3704: UserWarning: Even though the `tf.config.experimental_run_functions_eagerly` option is set, this option does not apply to tf.data functions. To force eager execution of tf.data functions, please use `tf.data.experimental.enable.debug_mode()`.\n",
      "  \"Even though the `tf.config.experimental_run_functions_eagerly` \"\n",
      "/usr/local/lib/python3.7/dist-packages/tensorflow/python/data/ops/dataset_ops.py:3704: UserWarning: Even though the `tf.config.experimental_run_functions_eagerly` option is set, this option does not apply to tf.data functions. To force eager execution of tf.data functions, please use `tf.data.experimental.enable.debug_mode()`.\n",
      "  \"Even though the `tf.config.experimental_run_functions_eagerly` \"\n",
      "/usr/local/lib/python3.7/dist-packages/tensorflow/python/data/ops/dataset_ops.py:3704: UserWarning: Even though the `tf.config.experimental_run_functions_eagerly` option is set, this option does not apply to tf.data functions. To force eager execution of tf.data functions, please use `tf.data.experimental.enable.debug_mode()`.\n",
      "  \"Even though the `tf.config.experimental_run_functions_eagerly` \"\n"
     ]
    },
    {
     "data": {
      "text/plain": [
       "<matplotlib.legend.Legend at 0x7f3f2063ec50>"
      ]
     },
     "execution_count": 60,
     "metadata": {
      "tags": []
     },
     "output_type": "execute_result"
    },
    {
     "data": {
      "image/png": "[encoded data removed]",
      "text/plain": [
       "<Figure size 864x144 with 1 Axes>"
      ]
     },
     "metadata": {
      "needs_background": "light",
      "tags": []
     },
     "output_type": "display_data"
    }
   ],
   "source": [
    "def calculate_mse(scaler, y_input, x_input):\n",
    "    y_pred = regressorBiLSTM.predict(x_input)\n",
    "    MSE = mean_squared_error(y_input, y_pred)\n",
    "\n",
    "    y_true = scaler.inverse_transform(y_input.reshape(-1,1))\n",
    "    y_pred = scaler.inverse_transform(y_pred)\n",
    "\n",
    "    real_mse = np.mean(np.square(y_true - y_pred))\n",
    "    scaled_mse = real_mse/(np.max(y_true) - np.min(y_true)) * 100\n",
    "\n",
    "    return MSE, scaled_mse, y_true, y_pred\n",
    "\n",
    "train_MSE, train_scaled_mse, train_y, train_y_pred = calculate_mse(scaler, trainset[\"y\"], trainset[\"X\"])\n",
    "val_MSE, val_scaled_mse, val_y, val_y_pred = calculate_mse(scaler, valset[\"y\"], valset[\"X\"])\n",
    "test_MSE, test_scaled_mse, test_y, test_y_pred = calculate_mse(scaler, testset[\"y\"], testset[\"X\"])\n",
    "\n",
    "y_true = np.vstack((test_y))\n",
    "y_pred = np.vstack((test_y_pred))\n",
    "\n",
    "\n",
    "mse = {}\n",
    "mse[\"train\"] = train_MSE\n",
    "mse[\"val\"] = val_MSE\n",
    "mse[\"test\"] = test_MSE\n",
    "\n",
    "scaled_mse = {}\n",
    "scaled_mse[\"train\"] = train_scaled_mse\n",
    "scaled_mse[\"val\"] = val_scaled_mse\n",
    "scaled_mse[\"test\"] = test_scaled_mse\n",
    "\n",
    "plt.figure(figsize=(12,2))\n",
    "plt.plot(y_true)\n",
    "plt.plot(y_pred)\n",
    "plt.legend(['y_true','y_pred'])"
   ]
  },
  {
   "cell_type": "code",
   "execution_count": null,
   "metadata": {
    "colab": {
     "base_uri": "https://localhost:8080/"
    },
    "id": "T_itD5jCvf9O",
    "outputId": "377c7ba6-af7b-4285-fd29-c611afa9ece2"
   },
   "outputs": [
    {
     "data": {
      "text/plain": [
       "{'test': 0.0034713498049244907,\n",
       " 'train': 0.00019079502244601372,\n",
       " 'val': 0.0019340878589269041}"
      ]
     },
     "execution_count": 61,
     "metadata": {
      "tags": []
     },
     "output_type": "execute_result"
    }
   ],
   "source": [
    "mse"
   ]
  },
  {
   "cell_type": "code",
   "execution_count": null,
   "metadata": {
    "colab": {
     "base_uri": "https://localhost:8080/"
    },
    "id": "Ss9b4cyNxovX",
    "outputId": "a61ce6c7-cc6e-4eef-c207-ccaa52e5637f"
   },
   "outputs": [
    {
     "data": {
      "text/plain": [
       "{'test': 374.51026752504356,\n",
       " 'train': 7.987422063407651,\n",
       " 'val': 139.78648384329958}"
      ]
     },
     "execution_count": 62,
     "metadata": {
      "tags": []
     },
     "output_type": "execute_result"
    }
   ],
   "source": [
    "scaled_mse"
   ]
  },
  {
   "cell_type": "markdown",
   "metadata": {
    "id": "RHqzqa3pGzL7"
   },
   "source": [
    "# 8. Full-connected Network with TF-IDF\n",
    "## Headlines Input Preparation"
   ]
  },
  {
   "cell_type": "code",
   "execution_count": null,
   "metadata": {
    "colab": {
     "base_uri": "https://localhost:8080/",
     "height": 237
    },
    "id": "Jx7n9fChxovU",
    "outputId": "ef99da5c-4499-4118-c921-6f819e133dfd"
   },
   "outputs": [
    {
     "data": {
      "text/html": [
       "<div>\n",
       "<style scoped>\n",
       "    .dataframe tbody tr th:only-of-type {\n",
       "        vertical-align: middle;\n",
       "    }\n",
       "\n",
       "    .dataframe tbody tr th {\n",
       "        vertical-align: top;\n",
       "    }\n",
       "\n",
       "    .dataframe thead th {\n",
       "        text-align: right;\n",
       "    }\n",
       "</style>\n",
       "<table border=\"1\" class=\"dataframe\">\n",
       "  <thead>\n",
       "    <tr style=\"text-align: right;\">\n",
       "      <th></th>\n",
       "      <th>index</th>\n",
       "      <th>Close</th>\n",
       "      <th>Title</th>\n",
       "      <th>text_decont</th>\n",
       "      <th>text_no_punc</th>\n",
       "      <th>tk</th>\n",
       "      <th>tfidf</th>\n",
       "      <th>tfidf_new</th>\n",
       "    </tr>\n",
       "    <tr>\n",
       "      <th>Date</th>\n",
       "      <th></th>\n",
       "      <th></th>\n",
       "      <th></th>\n",
       "      <th></th>\n",
       "      <th></th>\n",
       "      <th></th>\n",
       "      <th></th>\n",
       "      <th></th>\n",
       "    </tr>\n",
       "  </thead>\n",
       "  <tbody>\n",
       "    <tr>\n",
       "      <th>2012-05-18</th>\n",
       "      <td>0</td>\n",
       "      <td>29.27</td>\n",
       "      <td></td>\n",
       "      <td></td>\n",
       "      <td></td>\n",
       "      <td></td>\n",
       "      <td></td>\n",
       "      <td>[0.0, 0.0, 0.0, 0.0, 0.0, 0.0, 0.0, 0.0, 0.0, ...</td>\n",
       "    </tr>\n",
       "    <tr>\n",
       "      <th>2012-05-21</th>\n",
       "      <td>1</td>\n",
       "      <td>29.75</td>\n",
       "      <td></td>\n",
       "      <td></td>\n",
       "      <td></td>\n",
       "      <td></td>\n",
       "      <td></td>\n",
       "      <td>[0.0, 0.0, 0.0, 0.0, 0.0, 0.0, 0.0, 0.0, 0.0, ...</td>\n",
       "    </tr>\n",
       "    <tr>\n",
       "      <th>2012-05-22</th>\n",
       "      <td>2</td>\n",
       "      <td>29.76</td>\n",
       "      <td></td>\n",
       "      <td></td>\n",
       "      <td></td>\n",
       "      <td></td>\n",
       "      <td></td>\n",
       "      <td>[0.0, 0.0, 0.0, 0.0, 0.0, 0.0, 0.0, 0.0, 0.0, ...</td>\n",
       "    </tr>\n",
       "    <tr>\n",
       "      <th>2012-05-23</th>\n",
       "      <td>3</td>\n",
       "      <td>29.11</td>\n",
       "      <td></td>\n",
       "      <td></td>\n",
       "      <td></td>\n",
       "      <td></td>\n",
       "      <td></td>\n",
       "      <td>[0.0, 0.0, 0.0, 0.0, 0.0, 0.0, 0.0, 0.0, 0.0, ...</td>\n",
       "    </tr>\n",
       "    <tr>\n",
       "      <th>2012-05-24</th>\n",
       "      <td>4</td>\n",
       "      <td>29.07</td>\n",
       "      <td></td>\n",
       "      <td></td>\n",
       "      <td></td>\n",
       "      <td></td>\n",
       "      <td></td>\n",
       "      <td>[0.0, 0.0, 0.0, 0.0, 0.0, 0.0, 0.0, 0.0, 0.0, ...</td>\n",
       "    </tr>\n",
       "  </tbody>\n",
       "</table>\n",
       "</div>"
      ],
      "text/plain": [
       "            index  ...                                          tfidf_new\n",
       "Date               ...                                                   \n",
       "2012-05-18      0  ...  [0.0, 0.0, 0.0, 0.0, 0.0, 0.0, 0.0, 0.0, 0.0, ...\n",
       "2012-05-21      1  ...  [0.0, 0.0, 0.0, 0.0, 0.0, 0.0, 0.0, 0.0, 0.0, ...\n",
       "2012-05-22      2  ...  [0.0, 0.0, 0.0, 0.0, 0.0, 0.0, 0.0, 0.0, 0.0, ...\n",
       "2012-05-23      3  ...  [0.0, 0.0, 0.0, 0.0, 0.0, 0.0, 0.0, 0.0, 0.0, ...\n",
       "2012-05-24      4  ...  [0.0, 0.0, 0.0, 0.0, 0.0, 0.0, 0.0, 0.0, 0.0, ...\n",
       "\n",
       "[5 rows x 8 columns]"
      ]
     },
     "execution_count": 63,
     "metadata": {
      "tags": []
     },
     "output_type": "execute_result"
    }
   ],
   "source": [
    "train_data.head()"
   ]
  },
  {
   "cell_type": "code",
   "execution_count": null,
   "metadata": {
    "id": "KEuKQ3zdxovV"
   },
   "outputs": [],
   "source": [
    "train_news = np.matrix(train_data.tfidf_new[n_lags:].tolist())\n",
    "#train_news = train_news.reshape(train_news.shape[0],1)\n",
    "\n",
    "val_news = np.matrix(val_data.tfidf_new[n_lags:].tolist())\n",
    "#val_news = val_news.reshape(val_news.shape[0],1)\n",
    "\n",
    "test_news = np.matrix(test_data.tfidf_new[n_lags:].tolist())\n",
    "#test_news = test_news.reshape(test_news.shape[0],1)"
   ]
  },
  {
   "cell_type": "code",
   "execution_count": null,
   "metadata": {
    "colab": {
     "base_uri": "https://localhost:8080/"
    },
    "id": "N5EdGGTHxovV",
    "outputId": "6b9b6737-18f7-4654-f460-9119b6330c26"
   },
   "outputs": [
    {
     "name": "stdout",
     "output_type": "stream",
     "text": [
      "News to train: (1857, 1229)\n",
      "\n",
      "News to test: (135, 1229)\n",
      "\n",
      "News to val: (108, 1229)\n"
     ]
    }
   ],
   "source": [
    "print('News to train:',train_news.shape)\n",
    "print('\\nNews to test:',test_news.shape)\n",
    "print('\\nNews to val:',val_news.shape)"
   ]
  },
  {
   "cell_type": "markdown",
   "metadata": {
    "id": "-nI6xnTVGwcf"
   },
   "source": [
    "## Model"
   ]
  },
  {
   "cell_type": "code",
   "execution_count": null,
   "metadata": {
    "colab": {
     "base_uri": "https://localhost:8080/"
    },
    "id": "ooxaSGCBGwcf",
    "outputId": "197897d7-ff9a-4f13-9eee-a07886dc200a"
   },
   "outputs": [
    {
     "name": "stdout",
     "output_type": "stream",
     "text": [
      "CPU times: user 535 ms, sys: 23.9 ms, total: 559 ms\n",
      "Wall time: 561 ms\n"
     ]
    }
   ],
   "source": [
    "%%time\n",
    "# LSTM architecture\n",
    "# FIRST BRANCH operates on the first input\n",
    "# 1st layer with Dropout regularisation\n",
    "lstm_input = Input(shape=(X_train.shape[1],1))\n",
    "x = Bidirectional(GRU(units=60, return_sequences=True))(lstm_input)\n",
    "x = Dropout(0.2)(x)\n",
    "\n",
    "# 2nd LSTM layer\n",
    "x = GRU(units=60)(x)\n",
    "x = Dropout(0.2)(x)\n",
    "\n",
    "lstm_branch = Model(inputs=lstm_input, outputs=x)\n",
    "\n",
    "# SECOND BRANCH operates on the first input\n",
    "dense_input = Input(shape=(len(tfvec.get_feature_names()),))\n",
    "y = Dense(50)(dense_input)\n",
    "y = Dropout(0.2)(y)\n",
    "technical_indicators_branch = Model(inputs=dense_input, outputs=y)\n",
    "\n",
    "# combine the output of the two branches\n",
    "combined = concatenate([lstm_branch.output, technical_indicators_branch.output], name='concatenate')\n",
    "# Output layer\n",
    "z = Dense(25)(combined)\n",
    "z = Dense(units=1)(z)\n",
    "multi_model = Model(inputs=[lstm_branch.input, technical_indicators_branch.input], outputs=z)\n",
    "\n",
    "# Compiling\n",
    "multi_model.compile(optimizer='adam', loss='mean_squared_error')"
   ]
  },
  {
   "cell_type": "code",
   "execution_count": null,
   "metadata": {
    "colab": {
     "base_uri": "https://localhost:8080/",
     "height": 865
    },
    "id": "8wfNuQGbGwcg",
    "outputId": "3b6c2e36-d65a-4ce5-9d6c-678465d2b27b"
   },
   "outputs": [
    {
     "data": {
      "image/png": "[encoded data removed]",
      "text/plain": [
       "<IPython.core.display.Image object>"
      ]
     },
     "execution_count": 67,
     "metadata": {
      "tags": []
     },
     "output_type": "execute_result"
    }
   ],
   "source": [
    "from tensorflow.keras.utils import plot_model\n",
    "plot_model(multi_model, show_shapes=True)"
   ]
  },
  {
   "cell_type": "code",
   "execution_count": null,
   "metadata": {
    "colab": {
     "base_uri": "https://localhost:8080/"
    },
    "id": "ijR7N11_Gwcj",
    "outputId": "e54dd01c-e666-455a-cccc-5271eb5bd41c"
   },
   "outputs": [
    {
     "name": "stderr",
     "output_type": "stream",
     "text": [
      "/usr/local/lib/python3.7/dist-packages/tensorflow/python/data/ops/dataset_ops.py:3704: UserWarning: Even though the `tf.config.experimental_run_functions_eagerly` option is set, this option does not apply to tf.data functions. To force eager execution of tf.data functions, please use `tf.data.experimental.enable.debug_mode()`.\n",
      "  \"Even though the `tf.config.experimental_run_functions_eagerly` \"\n"
     ]
    },
    {
     "name": "stdout",
     "output_type": "stream",
     "text": [
      "Epoch 1/100\n",
      "30/30 [==============================] - 1s 38ms/step - loss: 0.0113 - val_loss: 0.0036\n",
      "Epoch 2/100\n",
      "30/30 [==============================] - 1s 38ms/step - loss: 0.0011 - val_loss: 8.8935e-04\n",
      "Epoch 3/100\n",
      "30/30 [==============================] - 1s 38ms/step - loss: 5.1120e-04 - val_loss: 4.9017e-04\n",
      "Epoch 4/100\n",
      "30/30 [==============================] - 1s 37ms/step - loss: 3.6587e-04 - val_loss: 5.5475e-04\n",
      "Epoch 5/100\n",
      "30/30 [==============================] - 1s 37ms/step - loss: 3.6584e-04 - val_loss: 0.0034\n",
      "Epoch 6/100\n",
      "30/30 [==============================] - 1s 38ms/step - loss: 9.2856e-04 - val_loss: 0.0034\n",
      "Epoch 7/100\n",
      "30/30 [==============================] - 1s 36ms/step - loss: 0.0015 - val_loss: 0.0018\n",
      "Epoch 8/100\n",
      "30/30 [==============================] - 1s 38ms/step - loss: 3.6764e-04 - val_loss: 9.8133e-04\n"
     ]
    },
    {
     "data": {
      "text/plain": [
       "<keras.callbacks.History at 0x7f3ef47d63d0>"
      ]
     },
     "execution_count": 68,
     "metadata": {
      "tags": []
     },
     "output_type": "execute_result"
    }
   ],
   "source": [
    "from keras.callbacks import CSVLogger\n",
    "logger_filename = '/content/drive/MyDrive/stock_prediction/MSFT/training_log_fc_model.csv'\n",
    "\n",
    "my_callback = [\n",
    "               EarlyStopping(patience=5,monitor='val_loss'),\n",
    "               CSVLogger(filename=logger_filename)\n",
    "\n",
    "]\n",
    "\n",
    "# training setting\n",
    "epochs = 100\n",
    "batch_size = 64\n",
    "\n",
    "# Fitting to the training set\n",
    "multi_model.fit([trainset['X'], train_news], trainset['y'], epochs=epochs, batch_size=batch_size, callbacks=my_callback\n",
    "                              , validation_data=([valset['X'], val_news], valset['y']))"
   ]
  },
  {
   "cell_type": "code",
   "execution_count": null,
   "metadata": {
    "id": "YEiTP6u-Gwcj"
   },
   "outputs": [],
   "source": [
    "multi_model.save('/content/drive/MyDrive/stock_prediction/MSFT/stock_pred_fc_model.h5')"
   ]
  },
  {
   "cell_type": "markdown",
   "metadata": {
    "id": "P2LpA60MGwck"
   },
   "source": [
    "## Evaluation"
   ]
  },
  {
   "cell_type": "code",
   "execution_count": null,
   "metadata": {
    "colab": {
     "base_uri": "https://localhost:8080/",
     "height": 298
    },
    "id": "QpUsQZYBGwck",
    "outputId": "d78a8b81-f35a-46eb-ad16-f1e3d2dc18fa"
   },
   "outputs": [
    {
     "name": "stderr",
     "output_type": "stream",
     "text": [
      "/usr/local/lib/python3.7/dist-packages/tensorflow/python/data/ops/dataset_ops.py:3704: UserWarning: Even though the `tf.config.experimental_run_functions_eagerly` option is set, this option does not apply to tf.data functions. To force eager execution of tf.data functions, please use `tf.data.experimental.enable.debug_mode()`.\n",
      "  \"Even though the `tf.config.experimental_run_functions_eagerly` \"\n",
      "/usr/local/lib/python3.7/dist-packages/tensorflow/python/data/ops/dataset_ops.py:3704: UserWarning: Even though the `tf.config.experimental_run_functions_eagerly` option is set, this option does not apply to tf.data functions. To force eager execution of tf.data functions, please use `tf.data.experimental.enable.debug_mode()`.\n",
      "  \"Even though the `tf.config.experimental_run_functions_eagerly` \"\n",
      "/usr/local/lib/python3.7/dist-packages/tensorflow/python/data/ops/dataset_ops.py:3704: UserWarning: Even though the `tf.config.experimental_run_functions_eagerly` option is set, this option does not apply to tf.data functions. To force eager execution of tf.data functions, please use `tf.data.experimental.enable.debug_mode()`.\n",
      "  \"Even though the `tf.config.experimental_run_functions_eagerly` \"\n"
     ]
    },
    {
     "data": {
      "text/plain": [
       "<matplotlib.legend.Legend at 0x7f3ef47074d0>"
      ]
     },
     "execution_count": 70,
     "metadata": {
      "tags": []
     },
     "output_type": "execute_result"
    },
    {
     "data": {
      "image/png": "[encoded data removed]",
      "text/plain": [
       "<Figure size 864x144 with 1 Axes>"
      ]
     },
     "metadata": {
      "needs_background": "light",
      "tags": []
     },
     "output_type": "display_data"
    }
   ],
   "source": [
    "def calculate_mse_multi(scaler, y_input, x_input, tfidf):\n",
    "    y_pred = multi_model.predict([x_input, tfidf])\n",
    "    MSE = mean_squared_error(y_input, y_pred)\n",
    "\n",
    "    y_true = scaler.inverse_transform(y_input.reshape(-1,1))\n",
    "    y_pred = scaler.inverse_transform(y_pred)\n",
    "\n",
    "    real_mse = np.mean(np.square(y_true - y_pred))\n",
    "    scaled_mse = real_mse/(np.max(y_true) - np.min(y_true)) * 100\n",
    "\n",
    "    return MSE, scaled_mse, y_true, y_pred\n",
    "\n",
    "train_MSE, train_scaled_mse, train_y, train_y_pred = calculate_mse_multi(scaler, trainset[\"y\"], trainset[\"X\"], train_news)\n",
    "val_MSE, val_scaled_mse, val_y, val_y_pred = calculate_mse_multi(scaler, valset[\"y\"], valset[\"X\"], val_news)\n",
    "test_MSE, test_scaled_mse, test_y, test_y_pred = calculate_mse_multi(scaler, testset[\"y\"], testset[\"X\"], test_news)\n",
    "\n",
    "y_true = np.vstack((test_y))\n",
    "y_pred = np.vstack((test_y_pred))\n",
    "\n",
    "\n",
    "mse = {}\n",
    "mse[\"train\"] = train_MSE\n",
    "mse[\"val\"] = val_MSE\n",
    "mse[\"test\"] = test_MSE\n",
    "\n",
    "scaled_mse = {}\n",
    "scaled_mse[\"train\"] = train_scaled_mse\n",
    "scaled_mse[\"val\"] = val_scaled_mse\n",
    "scaled_mse[\"test\"] = test_scaled_mse\n",
    "\n",
    "pred_result = {}\n",
    "pred_result[\"True\"] = test_y\n",
    "pred_result[\"Pred\"] = test_y_pred\n",
    "\n",
    "plt.figure(figsize=(12,2))\n",
    "plt.plot(y_true)\n",
    "plt.plot(y_pred)\n",
    "plt.legend(['y_true','y_pred'])"
   ]
  },
  {
   "cell_type": "code",
   "execution_count": null,
   "metadata": {
    "colab": {
     "base_uri": "https://localhost:8080/"
    },
    "id": "QSp_qN6hGwcl",
    "outputId": "5868008a-c8b9-4442-a2e9-864715d01f86"
   },
   "outputs": [
    {
     "data": {
      "text/plain": [
       "{'test': 0.0011458021974649064,\n",
       " 'train': 6.312187933025268e-05,\n",
       " 'val': 0.0009813342350106715}"
      ]
     },
     "execution_count": 71,
     "metadata": {
      "tags": []
     },
     "output_type": "execute_result"
    }
   ],
   "source": [
    "mse"
   ]
  },
  {
   "cell_type": "code",
   "execution_count": null,
   "metadata": {
    "colab": {
     "base_uri": "https://localhost:8080/"
    },
    "id": "aFGKvS17Gwcl",
    "outputId": "b4a4d4cc-d5e1-4451-c5a6-d467dd464a24"
   },
   "outputs": [
    {
     "data": {
      "text/plain": [
       "{'test': 123.61609157965997,\n",
       " 'train': 2.6425291674792644,\n",
       " 'val': 70.92621956024742}"
      ]
     },
     "execution_count": 72,
     "metadata": {
      "tags": []
     },
     "output_type": "execute_result"
    }
   ],
   "source": [
    "scaled_mse"
   ]
  },
  {
   "cell_type": "markdown",
   "metadata": {
    "id": "mu52B8jSaecU"
   },
   "source": [
    "## Prediction"
   ]
  },
  {
   "cell_type": "markdown",
   "metadata": {
    "id": "YvQo6TBXaecW"
   },
   "source": [
    "**Definition:**\n",
    "\n",
    "◦ **Rise (0):** CP of Today > CP of Yesterday , Change Rate > 1.5 %\n",
    "\n",
    "◦ **Remain Stable (1):** Change Rate ≤ 1.5 %\n",
    "\n",
    "◦ **Fall (2):** CP of Today < CP of Yesterday , Change Rate > 1.5 %"
   ]
  },
  {
   "cell_type": "code",
   "execution_count": null,
   "metadata": {
    "colab": {
     "base_uri": "https://localhost:8080/",
     "height": 206
    },
    "id": "rpd4VoLMaecW",
    "outputId": "d9e8213d-245b-46cc-8e03-12ad9a7b6ec1"
   },
   "outputs": [
    {
     "data": {
      "text/html": [
       "<div>\n",
       "<style scoped>\n",
       "    .dataframe tbody tr th:only-of-type {\n",
       "        vertical-align: middle;\n",
       "    }\n",
       "\n",
       "    .dataframe tbody tr th {\n",
       "        vertical-align: top;\n",
       "    }\n",
       "\n",
       "    .dataframe thead th {\n",
       "        text-align: right;\n",
       "    }\n",
       "</style>\n",
       "<table border=\"1\" class=\"dataframe\">\n",
       "  <thead>\n",
       "    <tr style=\"text-align: right;\">\n",
       "      <th></th>\n",
       "      <th>Pred</th>\n",
       "      <th>True</th>\n",
       "      <th>His_True</th>\n",
       "      <th>His_Pred</th>\n",
       "      <th>Pred_change_rate</th>\n",
       "      <th>True_change_rate</th>\n",
       "    </tr>\n",
       "  </thead>\n",
       "  <tbody>\n",
       "    <tr>\n",
       "      <th>130</th>\n",
       "      <td>240.929321</td>\n",
       "      <td>250.79</td>\n",
       "      <td>245.71</td>\n",
       "      <td>241.867096</td>\n",
       "      <td>0.387723</td>\n",
       "      <td>2.067478</td>\n",
       "    </tr>\n",
       "    <tr>\n",
       "      <th>131</th>\n",
       "      <td>241.842941</td>\n",
       "      <td>253.81</td>\n",
       "      <td>250.79</td>\n",
       "      <td>240.929321</td>\n",
       "      <td>0.379207</td>\n",
       "      <td>1.204195</td>\n",
       "    </tr>\n",
       "    <tr>\n",
       "      <th>132</th>\n",
       "      <td>243.589844</td>\n",
       "      <td>252.57</td>\n",
       "      <td>253.81</td>\n",
       "      <td>241.842941</td>\n",
       "      <td>0.722329</td>\n",
       "      <td>0.488554</td>\n",
       "    </tr>\n",
       "    <tr>\n",
       "      <th>133</th>\n",
       "      <td>244.527435</td>\n",
       "      <td>253.59</td>\n",
       "      <td>252.57</td>\n",
       "      <td>243.589844</td>\n",
       "      <td>0.384906</td>\n",
       "      <td>0.403848</td>\n",
       "    </tr>\n",
       "    <tr>\n",
       "      <th>134</th>\n",
       "      <td>245.429626</td>\n",
       "      <td>257.24</td>\n",
       "      <td>253.59</td>\n",
       "      <td>244.527435</td>\n",
       "      <td>0.368953</td>\n",
       "      <td>1.439331</td>\n",
       "    </tr>\n",
       "  </tbody>\n",
       "</table>\n",
       "</div>"
      ],
      "text/plain": [
       "           Pred    True  ...  Pred_change_rate  True_change_rate\n",
       "130  240.929321  250.79  ...          0.387723          2.067478\n",
       "131  241.842941  253.81  ...          0.379207          1.204195\n",
       "132  243.589844  252.57  ...          0.722329          0.488554\n",
       "133  244.527435  253.59  ...          0.384906          0.403848\n",
       "134  245.429626  257.24  ...          0.368953          1.439331\n",
       "\n",
       "[5 rows x 6 columns]"
      ]
     },
     "execution_count": 73,
     "metadata": {
      "tags": []
     },
     "output_type": "execute_result"
    }
   ],
   "source": [
    "pred_df = pd.DataFrame(pred_result['Pred'], columns=['Pred'])\n",
    "pred_df['True'] = pred_result['True']\n",
    "pred_df = pred_df.tail(5)\n",
    "pred_df['His_True'] = pred_result['True'][-6:][:5]\n",
    "pred_df['His_Pred'] = pred_result['Pred'][-6:][:5]\n",
    "pred_df['Pred_change_rate'] = (pred_df['Pred'] - pred_df['His_Pred']).abs()/pred_df['His_Pred']*100\n",
    "pred_df['True_change_rate'] = (pred_df['True'] - pred_df['His_True']).abs()/pred_df['His_True']*100\n",
    "pred_df"
   ]
  },
  {
   "cell_type": "code",
   "execution_count": null,
   "metadata": {
    "id": "Hhqwx6AzaecX"
   },
   "outputs": [],
   "source": [
    "def change_type_pred(row):\n",
    "    if row['Pred'] > row['His_Pred'] and row['Pred_change_rate'] > 1.5:\n",
    "        return 0\n",
    "    elif row['Pred'] < row['His_Pred'] and row['Pred_change_rate'] > 1.5:\n",
    "        return 2\n",
    "    else:\n",
    "        return 1\n",
    "\n",
    "def change_type_true(row):\n",
    "    if row['True'] > row['His_True'] and row['True_change_rate'] > 1.5:\n",
    "        return 0\n",
    "    elif row['True'] < row['His_True'] and row['True_change_rate'] > 1.5:\n",
    "        return 2\n",
    "    else:\n",
    "        return 1\n",
    "\n",
    "pred_df['Pred_change_type'] = pred_df.apply(lambda row : change_type_pred(row), axis=1)\n",
    "pred_df['True_change_type'] = pred_df.apply(lambda row : change_type_true(row), axis=1)"
   ]
  },
  {
   "cell_type": "code",
   "execution_count": null,
   "metadata": {
    "colab": {
     "base_uri": "https://localhost:8080/",
     "height": 206
    },
    "id": "TxGKB63maecY",
    "outputId": "aeac630c-75b7-4cfe-d393-438c09efe549"
   },
   "outputs": [
    {
     "data": {
      "text/html": [
       "<div>\n",
       "<style scoped>\n",
       "    .dataframe tbody tr th:only-of-type {\n",
       "        vertical-align: middle;\n",
       "    }\n",
       "\n",
       "    .dataframe tbody tr th {\n",
       "        vertical-align: top;\n",
       "    }\n",
       "\n",
       "    .dataframe thead th {\n",
       "        text-align: right;\n",
       "    }\n",
       "</style>\n",
       "<table border=\"1\" class=\"dataframe\">\n",
       "  <thead>\n",
       "    <tr style=\"text-align: right;\">\n",
       "      <th></th>\n",
       "      <th>Pred</th>\n",
       "      <th>True</th>\n",
       "      <th>His_True</th>\n",
       "      <th>His_Pred</th>\n",
       "      <th>Pred_change_rate</th>\n",
       "      <th>True_change_rate</th>\n",
       "      <th>Pred_change_type</th>\n",
       "      <th>True_change_type</th>\n",
       "    </tr>\n",
       "  </thead>\n",
       "  <tbody>\n",
       "    <tr>\n",
       "      <th>130</th>\n",
       "      <td>240.929321</td>\n",
       "      <td>250.79</td>\n",
       "      <td>245.71</td>\n",
       "      <td>241.867096</td>\n",
       "      <td>0.387723</td>\n",
       "      <td>2.067478</td>\n",
       "      <td>1</td>\n",
       "      <td>0</td>\n",
       "    </tr>\n",
       "    <tr>\n",
       "      <th>131</th>\n",
       "      <td>241.842941</td>\n",
       "      <td>253.81</td>\n",
       "      <td>250.79</td>\n",
       "      <td>240.929321</td>\n",
       "      <td>0.379207</td>\n",
       "      <td>1.204195</td>\n",
       "      <td>1</td>\n",
       "      <td>1</td>\n",
       "    </tr>\n",
       "    <tr>\n",
       "      <th>132</th>\n",
       "      <td>243.589844</td>\n",
       "      <td>252.57</td>\n",
       "      <td>253.81</td>\n",
       "      <td>241.842941</td>\n",
       "      <td>0.722329</td>\n",
       "      <td>0.488554</td>\n",
       "      <td>1</td>\n",
       "      <td>1</td>\n",
       "    </tr>\n",
       "    <tr>\n",
       "      <th>133</th>\n",
       "      <td>244.527435</td>\n",
       "      <td>253.59</td>\n",
       "      <td>252.57</td>\n",
       "      <td>243.589844</td>\n",
       "      <td>0.384906</td>\n",
       "      <td>0.403848</td>\n",
       "      <td>1</td>\n",
       "      <td>1</td>\n",
       "    </tr>\n",
       "    <tr>\n",
       "      <th>134</th>\n",
       "      <td>245.429626</td>\n",
       "      <td>257.24</td>\n",
       "      <td>253.59</td>\n",
       "      <td>244.527435</td>\n",
       "      <td>0.368953</td>\n",
       "      <td>1.439331</td>\n",
       "      <td>1</td>\n",
       "      <td>1</td>\n",
       "    </tr>\n",
       "  </tbody>\n",
       "</table>\n",
       "</div>"
      ],
      "text/plain": [
       "           Pred    True  ...  Pred_change_type  True_change_type\n",
       "130  240.929321  250.79  ...                 1                 0\n",
       "131  241.842941  253.81  ...                 1                 1\n",
       "132  243.589844  252.57  ...                 1                 1\n",
       "133  244.527435  253.59  ...                 1                 1\n",
       "134  245.429626  257.24  ...                 1                 1\n",
       "\n",
       "[5 rows x 8 columns]"
      ]
     },
     "execution_count": 75,
     "metadata": {
      "tags": []
     },
     "output_type": "execute_result"
    }
   ],
   "source": [
    "pred_df"
   ]
  }
 ],
 "metadata": {
  "accelerator": "GPU",
  "colab": {
   "collapsed_sections": [],
   "name": "MSFT_predict_stocks.ipynb",
   "provenance": [],
   "toc_visible": true
  },
  "kernelspec": {
   "display_name": "Python 3",
   "language": "python",
   "name": "python3"
  },
  "language_info": {
   "codemirror_mode": {
    "name": "ipython",
    "version": 3
   },
   "file_extension": ".py",
   "mimetype": "text/x-python",
   "name": "python",
   "nbconvert_exporter": "python",
   "pygments_lexer": "ipython3",
   "version": "3.8.3"
  },
  "toc": {
   "base_numbering": 1,
   "nav_menu": {},
   "number_sections": false,
   "sideBar": true,
   "skip_h1_title": false,
   "title_cell": "Table of Contents",
   "title_sidebar": "Contents",
   "toc_cell": false,
   "toc_position": {},
   "toc_section_display": true,
   "toc_window_display": true
  }
 },
 "nbformat": 4,
 "nbformat_minor": 1
}
