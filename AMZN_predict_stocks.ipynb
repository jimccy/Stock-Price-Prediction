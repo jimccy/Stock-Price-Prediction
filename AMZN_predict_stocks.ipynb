{
 "cells": [
  {
   "cell_type": "code",
   "execution_count": null,
   "metadata": {
    "colab": {
     "base_uri": "https://localhost:8080/"
    },
    "id": "koG59PBWyg3Y",
    "outputId": "9a51d5bd-29cb-4dd7-f469-53660fd790c5"
   },
   "outputs": [
    {
     "name": "stdout",
     "output_type": "stream",
     "text": [
      "Mounted at /content/drive\n"
     ]
    }
   ],
   "source": [
    "from google.colab import drive\n",
    "drive.mount('/content/drive')"
   ]
  },
  {
   "cell_type": "code",
   "execution_count": null,
   "metadata": {
    "colab": {
     "base_uri": "https://localhost:8080/"
    },
    "id": "H4hbgmqI6sUF",
    "outputId": "ca085195-2af2-4319-d17d-67bfeb8a1d00"
   },
   "outputs": [
    {
     "name": "stdout",
     "output_type": "stream",
     "text": [
      "WARNING:tensorflow:From <ipython-input-2-cef63d6acc25>:2: experimental_run_functions_eagerly (from tensorflow.python.eager.def_function) is deprecated and will be removed in a future version.\n",
      "Instructions for updating:\n",
      "Use `tf.config.run_functions_eagerly` instead of the experimental version.\n"
     ]
    }
   ],
   "source": [
    "import tensorflow as tf\n",
    "tf.config.experimental_run_functions_eagerly(True)"
   ]
  },
  {
   "cell_type": "markdown",
   "metadata": {
    "id": "xdkVugMTxovI"
   },
   "source": [
    "# 1. Data Preparation"
   ]
  },
  {
   "cell_type": "code",
   "execution_count": null,
   "metadata": {
    "colab": {
     "base_uri": "https://localhost:8080/"
    },
    "id": "FaF9s5jxxovI",
    "outputId": "d99e3874-7173-4ffd-d77b-e880b656d7cc"
   },
   "outputs": [
    {
     "name": "stdout",
     "output_type": "stream",
     "text": [
      "[nltk_data] Downloading package universal_tagset to /root/nltk_data...\n",
      "[nltk_data]   Unzipping taggers/universal_tagset.zip.\n",
      "[nltk_data] Downloading package punkt to /root/nltk_data...\n",
      "[nltk_data]   Unzipping tokenizers/punkt.zip.\n"
     ]
    }
   ],
   "source": [
    "import pandas as pd\n",
    "import numpy as np\n",
    "import re\n",
    "from tqdm import tqdm\n",
    "from pprint import pprint\n",
    "import regex\n",
    "import spacy\n",
    "import nltk\n",
    "from nltk.corpus import stopwords\n",
    "import matplotlib.pyplot as plt\n",
    "from sklearn.feature_extraction.text import TfidfVectorizer\n",
    "import random\n",
    "from tensorflow import keras\n",
    "from tensorflow.keras import layers\n",
    "from keras.models import Sequential, Model\n",
    "from keras.callbacks import EarlyStopping\n",
    "from keras.layers.convolutional import Conv1D, MaxPooling1D\n",
    "from keras.layers import Activation, Input, Dense, Dropout, BatchNormalization, \\\n",
    "LSTM, GRU, Bidirectional, Flatten, concatenate, Embedding, Reshape, GlobalAveragePooling1D, \\\n",
    "Attention, BatchNormalization\n",
    "from keras.callbacks import EarlyStopping\n",
    "from keras import optimizers, regularizers\n",
    "from sklearn.metrics import plot_roc_curve, roc_curve, \\\n",
    "auc, precision_score, recall_score, confusion_matrix, \\\n",
    "classification_report, accuracy_score, f1_score, mean_squared_error\n",
    "from sklearn.preprocessing import MinMaxScaler\n",
    "from datetime import datetime\n",
    "from datetime import timedelta\n",
    "\n",
    "nltk.download('universal_tagset')\n",
    "nltk.download('punkt')\n",
    "random.seed(1)"
   ]
  },
  {
   "cell_type": "code",
   "execution_count": null,
   "metadata": {
    "colab": {
     "base_uri": "https://localhost:8080/"
    },
    "id": "niHSED8UxovK",
    "outputId": "01d7fb69-590f-4955-e6aa-2c6d3bfef556",
    "scrolled": false
   },
   "outputs": [
    {
     "data": {
      "text/plain": [
       "(5681, 5)"
      ]
     },
     "execution_count": 4,
     "metadata": {
      "tags": []
     },
     "output_type": "execute_result"
    }
   ],
   "source": [
    "df = pd.read_csv('/content/drive/MyDrive/stock_prediction/data/All_News.csv')\n",
    "df.drop(columns=[df.columns[0],df.columns[5]], axis=1, inplace=True)\n",
    "df.shape"
   ]
  },
  {
   "cell_type": "code",
   "execution_count": null,
   "metadata": {
    "colab": {
     "base_uri": "https://localhost:8080/"
    },
    "id": "meZO1Sfs-Xmi",
    "outputId": "05134ab2-f62f-4c76-d4ae-d76c6285948c"
   },
   "outputs": [
    {
     "data": {
      "text/plain": [
       "(18, 5)"
      ]
     },
     "execution_count": 5,
     "metadata": {
      "tags": []
     },
     "output_type": "execute_result"
    }
   ],
   "source": [
    "df1 = pd.read_csv('/content/drive/MyDrive/stock_prediction/data/All_News_update.csv')\n",
    "df1.drop(columns=[df1.columns[0],df1.columns[5]], axis=1, inplace=True)\n",
    "df1.shape"
   ]
  },
  {
   "cell_type": "code",
   "execution_count": null,
   "metadata": {
    "colab": {
     "base_uri": "https://localhost:8080/"
    },
    "id": "naYlq2yf-tgZ",
    "outputId": "75b998c5-3f38-4d2d-ab30-debe28cab967"
   },
   "outputs": [
    {
     "data": {
      "text/plain": [
       "(5699, 5)"
      ]
     },
     "execution_count": 6,
     "metadata": {
      "tags": []
     },
     "output_type": "execute_result"
    }
   ],
   "source": [
    "df = df.append(df1)\n",
    "df.shape"
   ]
  },
  {
   "cell_type": "markdown",
   "metadata": {
    "id": "iUq48mqi_zAt"
   },
   "source": [
    "## Filter Company"
   ]
  },
  {
   "cell_type": "code",
   "execution_count": null,
   "metadata": {
    "colab": {
     "base_uri": "https://localhost:8080/"
    },
    "id": "s5Tf3xdR_uBP",
    "outputId": "77701b1c-5222-4281-cf7f-b827384fcee8"
   },
   "outputs": [
    {
     "data": {
      "text/plain": [
       "(561, 5)"
      ]
     },
     "execution_count": 7,
     "metadata": {
      "tags": []
     },
     "output_type": "execute_result"
    }
   ],
   "source": [
    "df = df[df['company_name'] == 'Amazon']\n",
    "df.shape"
   ]
  },
  {
   "cell_type": "markdown",
   "metadata": {
    "id": "1Hv1Feil_DqV"
   },
   "source": [
    "## Remove Duplicates"
   ]
  },
  {
   "cell_type": "code",
   "execution_count": null,
   "metadata": {
    "colab": {
     "base_uri": "https://localhost:8080/"
    },
    "id": "iOlqj1tw_F1o",
    "outputId": "77466fa3-9414-4a1e-cf93-862309d52522"
   },
   "outputs": [
    {
     "name": "stdout",
     "output_type": "stream",
     "text": [
      "# duplicates:  0\n"
     ]
    }
   ],
   "source": [
    "#remove duplicates\n",
    "nb_rows = df.shape[0]\n",
    "df.drop_duplicates(inplace=True)\n",
    "print('# duplicates: ', nb_rows - df.shape[0])"
   ]
  },
  {
   "cell_type": "markdown",
   "metadata": {
    "id": "JXPaI4M3_MYR"
   },
   "source": [
    "## Missing Value"
   ]
  },
  {
   "cell_type": "code",
   "execution_count": null,
   "metadata": {
    "colab": {
     "base_uri": "https://localhost:8080/",
     "height": 206
    },
    "id": "F-oXJZUM_N_2",
    "outputId": "0c163454-46eb-46c8-96b4-0f0186e8446e"
   },
   "outputs": [
    {
     "data": {
      "text/html": [
       "<div>\n",
       "<style scoped>\n",
       "    .dataframe tbody tr th:only-of-type {\n",
       "        vertical-align: middle;\n",
       "    }\n",
       "\n",
       "    .dataframe tbody tr th {\n",
       "        vertical-align: top;\n",
       "    }\n",
       "\n",
       "    .dataframe thead th {\n",
       "        text-align: right;\n",
       "    }\n",
       "</style>\n",
       "<table border=\"1\" class=\"dataframe\">\n",
       "  <thead>\n",
       "    <tr style=\"text-align: right;\">\n",
       "      <th></th>\n",
       "      <th>0</th>\n",
       "      <th>1</th>\n",
       "    </tr>\n",
       "  </thead>\n",
       "  <tbody>\n",
       "    <tr>\n",
       "      <th>Date</th>\n",
       "      <td># Empty entries:</td>\n",
       "      <td>0</td>\n",
       "    </tr>\n",
       "    <tr>\n",
       "      <th>Title</th>\n",
       "      <td># Empty entries:</td>\n",
       "      <td>0</td>\n",
       "    </tr>\n",
       "    <tr>\n",
       "      <th>Url</th>\n",
       "      <td># Empty entries:</td>\n",
       "      <td>0</td>\n",
       "    </tr>\n",
       "    <tr>\n",
       "      <th>Body</th>\n",
       "      <td># Empty entries:</td>\n",
       "      <td>3</td>\n",
       "    </tr>\n",
       "    <tr>\n",
       "      <th>company_name</th>\n",
       "      <td># Empty entries:</td>\n",
       "      <td>0</td>\n",
       "    </tr>\n",
       "  </tbody>\n",
       "</table>\n",
       "</div>"
      ],
      "text/plain": [
       "                             0  1\n",
       "Date          # Empty entries:  0\n",
       "Title         # Empty entries:  0\n",
       "Url           # Empty entries:  0\n",
       "Body          # Empty entries:  3\n",
       "company_name  # Empty entries:  0"
      ]
     },
     "execution_count": 9,
     "metadata": {
      "tags": []
     },
     "output_type": "execute_result"
    }
   ],
   "source": [
    "#check null\n",
    "def check_missing_values(row):\n",
    "    \"\"\" functions that check and verifies if there are missing values in dataframe \"\"\"\n",
    "    counter = 0\n",
    "    for element in row:\n",
    "        if element == True:\n",
    "            counter+=1\n",
    "    return (\"# Empty entries:\", counter)\n",
    "\n",
    "df.isnull().apply(lambda x: check_missing_values(x)).transpose()"
   ]
  },
  {
   "cell_type": "markdown",
   "metadata": {
    "id": "yfpU3PhU_U88"
   },
   "source": [
    "## Adjust Published Date"
   ]
  },
  {
   "cell_type": "code",
   "execution_count": null,
   "metadata": {
    "colab": {
     "base_uri": "https://localhost:8080/",
     "height": 310
    },
    "id": "vEz46PPwxovL",
    "outputId": "e4895f22-50af-40c5-c086-a417a0ddda40"
   },
   "outputs": [
    {
     "data": {
      "text/html": [
       "<div>\n",
       "<style scoped>\n",
       "    .dataframe tbody tr th:only-of-type {\n",
       "        vertical-align: middle;\n",
       "    }\n",
       "\n",
       "    .dataframe tbody tr th {\n",
       "        vertical-align: top;\n",
       "    }\n",
       "\n",
       "    .dataframe thead th {\n",
       "        text-align: right;\n",
       "    }\n",
       "</style>\n",
       "<table border=\"1\" class=\"dataframe\">\n",
       "  <thead>\n",
       "    <tr style=\"text-align: right;\">\n",
       "      <th></th>\n",
       "      <th>Date</th>\n",
       "      <th>Title</th>\n",
       "      <th>Url</th>\n",
       "      <th>Body</th>\n",
       "      <th>company_name</th>\n",
       "    </tr>\n",
       "  </thead>\n",
       "  <tbody>\n",
       "    <tr>\n",
       "      <th>2156</th>\n",
       "      <td>2021-05-21</td>\n",
       "      <td>Amazon closes US construction site after seven...</td>\n",
       "      <td>https://www.theguardian.com/technology/2021/ma...</td>\n",
       "      <td>&lt;p&gt;Amazon has closed a construction site in Wi...</td>\n",
       "      <td>Amazon</td>\n",
       "    </tr>\n",
       "    <tr>\n",
       "      <th>2157</th>\n",
       "      <td>2021-05-18</td>\n",
       "      <td>Amazon in talks to buy Hollywood studio MGM fo...</td>\n",
       "      <td>https://www.theguardian.com/technology/2021/ma...</td>\n",
       "      <td>&lt;p&gt;Amazon is in talks to acquire MGM, the Holl...</td>\n",
       "      <td>Amazon</td>\n",
       "    </tr>\n",
       "    <tr>\n",
       "      <th>2158</th>\n",
       "      <td>2021-05-14</td>\n",
       "      <td>Amazon creates 10,000 UK jobs on back of onlin...</td>\n",
       "      <td>https://www.theguardian.com/technology/2021/ma...</td>\n",
       "      <td>&lt;p&gt;Amazon is creating 10,000 permanent jobs in...</td>\n",
       "      <td>Amazon</td>\n",
       "    </tr>\n",
       "    <tr>\n",
       "      <th>2159</th>\n",
       "      <td>2021-05-12</td>\n",
       "      <td>Amazon wins appeal over €250m EU tax bill</td>\n",
       "      <td>https://www.theguardian.com/technology/2021/ma...</td>\n",
       "      <td>&lt;p&gt;Amazon has won a court battle against the E...</td>\n",
       "      <td>Amazon</td>\n",
       "    </tr>\n",
       "    <tr>\n",
       "      <th>2160</th>\n",
       "      <td>2021-05-11</td>\n",
       "      <td>Alexa, who are you? New book identifies Amazo...</td>\n",
       "      <td>https://www.theguardian.com/technology/2021/ma...</td>\n",
       "      <td>&lt;p&gt;The voice of Alexa, the virtual assistant d...</td>\n",
       "      <td>Amazon</td>\n",
       "    </tr>\n",
       "  </tbody>\n",
       "</table>\n",
       "</div>"
      ],
      "text/plain": [
       "            Date  ... company_name\n",
       "2156  2021-05-21  ...       Amazon\n",
       "2157  2021-05-18  ...       Amazon\n",
       "2158  2021-05-14  ...       Amazon\n",
       "2159  2021-05-12  ...       Amazon\n",
       "2160  2021-05-11  ...       Amazon\n",
       "\n",
       "[5 rows x 5 columns]"
      ]
     },
     "execution_count": 10,
     "metadata": {
      "tags": []
     },
     "output_type": "execute_result"
    }
   ],
   "source": [
    "df['Date'] = pd.to_datetime(df['Date'], format='%Y-%m-%d').dt.date\n",
    "df.head()"
   ]
  },
  {
   "cell_type": "code",
   "execution_count": null,
   "metadata": {
    "colab": {
     "base_uri": "https://localhost:8080/",
     "height": 770
    },
    "id": "M5ybzhFPxovL",
    "outputId": "60de0557-f768-4689-d942-6e2c6cee6853"
   },
   "outputs": [
    {
     "data": {
      "text/html": [
       "<div>\n",
       "<style scoped>\n",
       "    .dataframe tbody tr th:only-of-type {\n",
       "        vertical-align: middle;\n",
       "    }\n",
       "\n",
       "    .dataframe tbody tr th {\n",
       "        vertical-align: top;\n",
       "    }\n",
       "\n",
       "    .dataframe thead th {\n",
       "        text-align: right;\n",
       "    }\n",
       "</style>\n",
       "<table border=\"1\" class=\"dataframe\">\n",
       "  <thead>\n",
       "    <tr style=\"text-align: right;\">\n",
       "      <th></th>\n",
       "      <th>Date</th>\n",
       "      <th>Title</th>\n",
       "      <th>Url</th>\n",
       "      <th>Body</th>\n",
       "      <th>company_name</th>\n",
       "      <th>wday</th>\n",
       "    </tr>\n",
       "  </thead>\n",
       "  <tbody>\n",
       "    <tr>\n",
       "      <th>2156</th>\n",
       "      <td>2021-05-21</td>\n",
       "      <td>Amazon closes US construction site after seven...</td>\n",
       "      <td>https://www.theguardian.com/technology/2021/ma...</td>\n",
       "      <td>&lt;p&gt;Amazon has closed a construction site in Wi...</td>\n",
       "      <td>Amazon</td>\n",
       "      <td>4</td>\n",
       "    </tr>\n",
       "    <tr>\n",
       "      <th>2157</th>\n",
       "      <td>2021-05-18</td>\n",
       "      <td>Amazon in talks to buy Hollywood studio MGM fo...</td>\n",
       "      <td>https://www.theguardian.com/technology/2021/ma...</td>\n",
       "      <td>&lt;p&gt;Amazon is in talks to acquire MGM, the Holl...</td>\n",
       "      <td>Amazon</td>\n",
       "      <td>1</td>\n",
       "    </tr>\n",
       "    <tr>\n",
       "      <th>2158</th>\n",
       "      <td>2021-05-14</td>\n",
       "      <td>Amazon creates 10,000 UK jobs on back of onlin...</td>\n",
       "      <td>https://www.theguardian.com/technology/2021/ma...</td>\n",
       "      <td>&lt;p&gt;Amazon is creating 10,000 permanent jobs in...</td>\n",
       "      <td>Amazon</td>\n",
       "      <td>4</td>\n",
       "    </tr>\n",
       "    <tr>\n",
       "      <th>2159</th>\n",
       "      <td>2021-05-12</td>\n",
       "      <td>Amazon wins appeal over €250m EU tax bill</td>\n",
       "      <td>https://www.theguardian.com/technology/2021/ma...</td>\n",
       "      <td>&lt;p&gt;Amazon has won a court battle against the E...</td>\n",
       "      <td>Amazon</td>\n",
       "      <td>2</td>\n",
       "    </tr>\n",
       "    <tr>\n",
       "      <th>2160</th>\n",
       "      <td>2021-05-11</td>\n",
       "      <td>Alexa, who are you? New book identifies Amazo...</td>\n",
       "      <td>https://www.theguardian.com/technology/2021/ma...</td>\n",
       "      <td>&lt;p&gt;The voice of Alexa, the virtual assistant d...</td>\n",
       "      <td>Amazon</td>\n",
       "      <td>1</td>\n",
       "    </tr>\n",
       "    <tr>\n",
       "      <th>...</th>\n",
       "      <td>...</td>\n",
       "      <td>...</td>\n",
       "      <td>...</td>\n",
       "      <td>...</td>\n",
       "      <td>...</td>\n",
       "      <td>...</td>\n",
       "    </tr>\n",
       "    <tr>\n",
       "      <th>8</th>\n",
       "      <td>2021-06-07</td>\n",
       "      <td>Jeff Bezos to go into space on first crewed fl...</td>\n",
       "      <td>https://www.theguardian.com/technology/2021/ju...</td>\n",
       "      <td>&lt;p&gt;Jeff Bezos will no longer be the richest pe...</td>\n",
       "      <td>Amazon</td>\n",
       "      <td>0</td>\n",
       "    </tr>\n",
       "    <tr>\n",
       "      <th>9</th>\n",
       "      <td>2021-06-06</td>\n",
       "      <td>Global G7 deal may let Amazon off hook on tax,...</td>\n",
       "      <td>https://www.theguardian.com/technology/2021/ju...</td>\n",
       "      <td>&lt;p&gt;Experts have raised concerns that Amazon ma...</td>\n",
       "      <td>Amazon</td>\n",
       "      <td>6</td>\n",
       "    </tr>\n",
       "    <tr>\n",
       "      <th>10</th>\n",
       "      <td>2021-06-04</td>\n",
       "      <td>Amazon fired him – now he’s trying to unionize...</td>\n",
       "      <td>https://www.theguardian.com/technology/2021/ju...</td>\n",
       "      <td>&lt;p&gt;Christian Smalls has taken on the biggest c...</td>\n",
       "      <td>Amazon</td>\n",
       "      <td>4</td>\n",
       "    </tr>\n",
       "    <tr>\n",
       "      <th>11</th>\n",
       "      <td>2021-06-01</td>\n",
       "      <td>Amazon US customers have one week to opt out o...</td>\n",
       "      <td>https://www.theguardian.com/technology/2021/ju...</td>\n",
       "      <td>&lt;p&gt;Amazon customers have one week to opt out o...</td>\n",
       "      <td>Amazon</td>\n",
       "      <td>1</td>\n",
       "    </tr>\n",
       "    <tr>\n",
       "      <th>12</th>\n",
       "      <td>2021-05-26</td>\n",
       "      <td>Amazon buys Hollywood studio MGM in $8.45bn deal</td>\n",
       "      <td>https://www.theguardian.com/technology/2021/ma...</td>\n",
       "      <td>&lt;p&gt;Amazon has bought MGM, the Hollywood studio...</td>\n",
       "      <td>Amazon</td>\n",
       "      <td>2</td>\n",
       "    </tr>\n",
       "  </tbody>\n",
       "</table>\n",
       "<p>561 rows × 6 columns</p>\n",
       "</div>"
      ],
      "text/plain": [
       "            Date  ... wday\n",
       "2156  2021-05-21  ...    4\n",
       "2157  2021-05-18  ...    1\n",
       "2158  2021-05-14  ...    4\n",
       "2159  2021-05-12  ...    2\n",
       "2160  2021-05-11  ...    1\n",
       "...          ...  ...  ...\n",
       "8     2021-06-07  ...    0\n",
       "9     2021-06-06  ...    6\n",
       "10    2021-06-04  ...    4\n",
       "11    2021-06-01  ...    1\n",
       "12    2021-05-26  ...    2\n",
       "\n",
       "[561 rows x 6 columns]"
      ]
     },
     "execution_count": 11,
     "metadata": {
      "tags": []
     },
     "output_type": "execute_result"
    }
   ],
   "source": [
    "df['wday'] = pd.to_datetime(df['Date'], format='%Y-%m-%d').dt.dayofweek\n",
    "df"
   ]
  },
  {
   "cell_type": "code",
   "execution_count": null,
   "metadata": {
    "colab": {
     "base_uri": "https://localhost:8080/",
     "height": 300
    },
    "id": "V14-tPohxovM",
    "outputId": "c3fcd029-ccd8-4330-e846-cee700fd5e9e"
   },
   "outputs": [
    {
     "data": {
      "text/html": [
       "<div>\n",
       "<style scoped>\n",
       "    .dataframe tbody tr th:only-of-type {\n",
       "        vertical-align: middle;\n",
       "    }\n",
       "\n",
       "    .dataframe tbody tr th {\n",
       "        vertical-align: top;\n",
       "    }\n",
       "\n",
       "    .dataframe thead th {\n",
       "        text-align: right;\n",
       "    }\n",
       "</style>\n",
       "<table border=\"1\" class=\"dataframe\">\n",
       "  <thead>\n",
       "    <tr style=\"text-align: right;\">\n",
       "      <th></th>\n",
       "      <th>Date</th>\n",
       "      <th>Title</th>\n",
       "      <th>Url</th>\n",
       "      <th>Body</th>\n",
       "      <th>company_name</th>\n",
       "    </tr>\n",
       "    <tr>\n",
       "      <th>wday</th>\n",
       "      <th></th>\n",
       "      <th></th>\n",
       "      <th></th>\n",
       "      <th></th>\n",
       "      <th></th>\n",
       "    </tr>\n",
       "  </thead>\n",
       "  <tbody>\n",
       "    <tr>\n",
       "      <th>0</th>\n",
       "      <td>82</td>\n",
       "      <td>82</td>\n",
       "      <td>82</td>\n",
       "      <td>81</td>\n",
       "      <td>82</td>\n",
       "    </tr>\n",
       "    <tr>\n",
       "      <th>1</th>\n",
       "      <td>128</td>\n",
       "      <td>128</td>\n",
       "      <td>128</td>\n",
       "      <td>128</td>\n",
       "      <td>128</td>\n",
       "    </tr>\n",
       "    <tr>\n",
       "      <th>2</th>\n",
       "      <td>112</td>\n",
       "      <td>112</td>\n",
       "      <td>112</td>\n",
       "      <td>111</td>\n",
       "      <td>112</td>\n",
       "    </tr>\n",
       "    <tr>\n",
       "      <th>3</th>\n",
       "      <td>114</td>\n",
       "      <td>114</td>\n",
       "      <td>114</td>\n",
       "      <td>114</td>\n",
       "      <td>114</td>\n",
       "    </tr>\n",
       "    <tr>\n",
       "      <th>4</th>\n",
       "      <td>74</td>\n",
       "      <td>74</td>\n",
       "      <td>74</td>\n",
       "      <td>73</td>\n",
       "      <td>74</td>\n",
       "    </tr>\n",
       "    <tr>\n",
       "      <th>5</th>\n",
       "      <td>21</td>\n",
       "      <td>21</td>\n",
       "      <td>21</td>\n",
       "      <td>21</td>\n",
       "      <td>21</td>\n",
       "    </tr>\n",
       "    <tr>\n",
       "      <th>6</th>\n",
       "      <td>30</td>\n",
       "      <td>30</td>\n",
       "      <td>30</td>\n",
       "      <td>30</td>\n",
       "      <td>30</td>\n",
       "    </tr>\n",
       "  </tbody>\n",
       "</table>\n",
       "</div>"
      ],
      "text/plain": [
       "      Date  Title  Url  Body  company_name\n",
       "wday                                      \n",
       "0       82     82   82    81            82\n",
       "1      128    128  128   128           128\n",
       "2      112    112  112   111           112\n",
       "3      114    114  114   114           114\n",
       "4       74     74   74    73            74\n",
       "5       21     21   21    21            21\n",
       "6       30     30   30    30            30"
      ]
     },
     "execution_count": 12,
     "metadata": {
      "tags": []
     },
     "output_type": "execute_result"
    }
   ],
   "source": [
    "df.groupby('wday').count()"
   ]
  },
  {
   "cell_type": "code",
   "execution_count": null,
   "metadata": {
    "id": "phJSz04pxovM"
   },
   "outputs": [],
   "source": [
    "def adjusted_date(row):\n",
    "    if row['wday'] < 4 or row['wday'] == 6:\n",
    "        return row['Date'] + timedelta(days=1)\n",
    "    elif row['wday'] == 5:\n",
    "        return row['Date'] + timedelta(days=2)\n",
    "    else:\n",
    "        return row['Date'] + timedelta(days=3)"
   ]
  },
  {
   "cell_type": "code",
   "execution_count": null,
   "metadata": {
    "colab": {
     "base_uri": "https://localhost:8080/",
     "height": 1000
    },
    "id": "S5YiF3m0xovM",
    "outputId": "a3a3f2f4-bb78-44bd-d52b-3219e6936515"
   },
   "outputs": [
    {
     "data": {
      "text/html": [
       "<div>\n",
       "<style scoped>\n",
       "    .dataframe tbody tr th:only-of-type {\n",
       "        vertical-align: middle;\n",
       "    }\n",
       "\n",
       "    .dataframe tbody tr th {\n",
       "        vertical-align: top;\n",
       "    }\n",
       "\n",
       "    .dataframe thead th {\n",
       "        text-align: right;\n",
       "    }\n",
       "</style>\n",
       "<table border=\"1\" class=\"dataframe\">\n",
       "  <thead>\n",
       "    <tr style=\"text-align: right;\">\n",
       "      <th></th>\n",
       "      <th>Date</th>\n",
       "      <th>Title</th>\n",
       "      <th>Url</th>\n",
       "      <th>Body</th>\n",
       "      <th>company_name</th>\n",
       "      <th>wday</th>\n",
       "      <th>adjusted_date</th>\n",
       "    </tr>\n",
       "  </thead>\n",
       "  <tbody>\n",
       "    <tr>\n",
       "      <th>2156</th>\n",
       "      <td>2021-05-21</td>\n",
       "      <td>Amazon closes US construction site after seven...</td>\n",
       "      <td>https://www.theguardian.com/technology/2021/ma...</td>\n",
       "      <td>&lt;p&gt;Amazon has closed a construction site in Wi...</td>\n",
       "      <td>Amazon</td>\n",
       "      <td>4</td>\n",
       "      <td>2021-05-24</td>\n",
       "    </tr>\n",
       "    <tr>\n",
       "      <th>2157</th>\n",
       "      <td>2021-05-18</td>\n",
       "      <td>Amazon in talks to buy Hollywood studio MGM fo...</td>\n",
       "      <td>https://www.theguardian.com/technology/2021/ma...</td>\n",
       "      <td>&lt;p&gt;Amazon is in talks to acquire MGM, the Holl...</td>\n",
       "      <td>Amazon</td>\n",
       "      <td>1</td>\n",
       "      <td>2021-05-19</td>\n",
       "    </tr>\n",
       "    <tr>\n",
       "      <th>2158</th>\n",
       "      <td>2021-05-14</td>\n",
       "      <td>Amazon creates 10,000 UK jobs on back of onlin...</td>\n",
       "      <td>https://www.theguardian.com/technology/2021/ma...</td>\n",
       "      <td>&lt;p&gt;Amazon is creating 10,000 permanent jobs in...</td>\n",
       "      <td>Amazon</td>\n",
       "      <td>4</td>\n",
       "      <td>2021-05-17</td>\n",
       "    </tr>\n",
       "    <tr>\n",
       "      <th>2159</th>\n",
       "      <td>2021-05-12</td>\n",
       "      <td>Amazon wins appeal over €250m EU tax bill</td>\n",
       "      <td>https://www.theguardian.com/technology/2021/ma...</td>\n",
       "      <td>&lt;p&gt;Amazon has won a court battle against the E...</td>\n",
       "      <td>Amazon</td>\n",
       "      <td>2</td>\n",
       "      <td>2021-05-13</td>\n",
       "    </tr>\n",
       "    <tr>\n",
       "      <th>2160</th>\n",
       "      <td>2021-05-11</td>\n",
       "      <td>Alexa, who are you? New book identifies Amazo...</td>\n",
       "      <td>https://www.theguardian.com/technology/2021/ma...</td>\n",
       "      <td>&lt;p&gt;The voice of Alexa, the virtual assistant d...</td>\n",
       "      <td>Amazon</td>\n",
       "      <td>1</td>\n",
       "      <td>2021-05-12</td>\n",
       "    </tr>\n",
       "    <tr>\n",
       "      <th>...</th>\n",
       "      <td>...</td>\n",
       "      <td>...</td>\n",
       "      <td>...</td>\n",
       "      <td>...</td>\n",
       "      <td>...</td>\n",
       "      <td>...</td>\n",
       "      <td>...</td>\n",
       "    </tr>\n",
       "    <tr>\n",
       "      <th>8</th>\n",
       "      <td>2021-06-07</td>\n",
       "      <td>Jeff Bezos to go into space on first crewed fl...</td>\n",
       "      <td>https://www.theguardian.com/technology/2021/ju...</td>\n",
       "      <td>&lt;p&gt;Jeff Bezos will no longer be the richest pe...</td>\n",
       "      <td>Amazon</td>\n",
       "      <td>0</td>\n",
       "      <td>2021-06-08</td>\n",
       "    </tr>\n",
       "    <tr>\n",
       "      <th>9</th>\n",
       "      <td>2021-06-06</td>\n",
       "      <td>Global G7 deal may let Amazon off hook on tax,...</td>\n",
       "      <td>https://www.theguardian.com/technology/2021/ju...</td>\n",
       "      <td>&lt;p&gt;Experts have raised concerns that Amazon ma...</td>\n",
       "      <td>Amazon</td>\n",
       "      <td>6</td>\n",
       "      <td>2021-06-07</td>\n",
       "    </tr>\n",
       "    <tr>\n",
       "      <th>10</th>\n",
       "      <td>2021-06-04</td>\n",
       "      <td>Amazon fired him – now he’s trying to unionize...</td>\n",
       "      <td>https://www.theguardian.com/technology/2021/ju...</td>\n",
       "      <td>&lt;p&gt;Christian Smalls has taken on the biggest c...</td>\n",
       "      <td>Amazon</td>\n",
       "      <td>4</td>\n",
       "      <td>2021-06-07</td>\n",
       "    </tr>\n",
       "    <tr>\n",
       "      <th>11</th>\n",
       "      <td>2021-06-01</td>\n",
       "      <td>Amazon US customers have one week to opt out o...</td>\n",
       "      <td>https://www.theguardian.com/technology/2021/ju...</td>\n",
       "      <td>&lt;p&gt;Amazon customers have one week to opt out o...</td>\n",
       "      <td>Amazon</td>\n",
       "      <td>1</td>\n",
       "      <td>2021-06-02</td>\n",
       "    </tr>\n",
       "    <tr>\n",
       "      <th>12</th>\n",
       "      <td>2021-05-26</td>\n",
       "      <td>Amazon buys Hollywood studio MGM in $8.45bn deal</td>\n",
       "      <td>https://www.theguardian.com/technology/2021/ma...</td>\n",
       "      <td>&lt;p&gt;Amazon has bought MGM, the Hollywood studio...</td>\n",
       "      <td>Amazon</td>\n",
       "      <td>2</td>\n",
       "      <td>2021-05-27</td>\n",
       "    </tr>\n",
       "  </tbody>\n",
       "</table>\n",
       "<p>561 rows × 7 columns</p>\n",
       "</div>"
      ],
      "text/plain": [
       "            Date  ... adjusted_date\n",
       "2156  2021-05-21  ...    2021-05-24\n",
       "2157  2021-05-18  ...    2021-05-19\n",
       "2158  2021-05-14  ...    2021-05-17\n",
       "2159  2021-05-12  ...    2021-05-13\n",
       "2160  2021-05-11  ...    2021-05-12\n",
       "...          ...  ...           ...\n",
       "8     2021-06-07  ...    2021-06-08\n",
       "9     2021-06-06  ...    2021-06-07\n",
       "10    2021-06-04  ...    2021-06-07\n",
       "11    2021-06-01  ...    2021-06-02\n",
       "12    2021-05-26  ...    2021-05-27\n",
       "\n",
       "[561 rows x 7 columns]"
      ]
     },
     "execution_count": 14,
     "metadata": {
      "tags": []
     },
     "output_type": "execute_result"
    }
   ],
   "source": [
    "df['adjusted_date'] = df.apply(lambda row: adjusted_date(row), axis=1)\n",
    "df"
   ]
  },
  {
   "cell_type": "code",
   "execution_count": null,
   "metadata": {
    "colab": {
     "base_uri": "https://localhost:8080/",
     "height": 454
    },
    "id": "Wl9SfjWqxovN",
    "outputId": "1561059e-eed5-4e59-ed9f-4d1932bd4914"
   },
   "outputs": [
    {
     "data": {
      "text/html": [
       "<div>\n",
       "<style scoped>\n",
       "    .dataframe tbody tr th:only-of-type {\n",
       "        vertical-align: middle;\n",
       "    }\n",
       "\n",
       "    .dataframe tbody tr th {\n",
       "        vertical-align: top;\n",
       "    }\n",
       "\n",
       "    .dataframe thead th {\n",
       "        text-align: right;\n",
       "    }\n",
       "</style>\n",
       "<table border=\"1\" class=\"dataframe\">\n",
       "  <thead>\n",
       "    <tr style=\"text-align: right;\">\n",
       "      <th></th>\n",
       "      <th>Title</th>\n",
       "    </tr>\n",
       "    <tr>\n",
       "      <th>adjusted_date</th>\n",
       "      <th></th>\n",
       "    </tr>\n",
       "  </thead>\n",
       "  <tbody>\n",
       "    <tr>\n",
       "      <th>2021-02-04</th>\n",
       "      <td>5</td>\n",
       "    </tr>\n",
       "    <tr>\n",
       "      <th>2018-04-25</th>\n",
       "      <td>4</td>\n",
       "    </tr>\n",
       "    <tr>\n",
       "      <th>2019-02-11</th>\n",
       "      <td>4</td>\n",
       "    </tr>\n",
       "    <tr>\n",
       "      <th>2020-01-23</th>\n",
       "      <td>4</td>\n",
       "    </tr>\n",
       "    <tr>\n",
       "      <th>2014-06-19</th>\n",
       "      <td>4</td>\n",
       "    </tr>\n",
       "    <tr>\n",
       "      <th>...</th>\n",
       "      <td>...</td>\n",
       "    </tr>\n",
       "    <tr>\n",
       "      <th>2016-03-16</th>\n",
       "      <td>1</td>\n",
       "    </tr>\n",
       "    <tr>\n",
       "      <th>2016-03-14</th>\n",
       "      <td>1</td>\n",
       "    </tr>\n",
       "    <tr>\n",
       "      <th>2016-03-10</th>\n",
       "      <td>1</td>\n",
       "    </tr>\n",
       "    <tr>\n",
       "      <th>2016-03-08</th>\n",
       "      <td>1</td>\n",
       "    </tr>\n",
       "    <tr>\n",
       "      <th>2017-05-10</th>\n",
       "      <td>1</td>\n",
       "    </tr>\n",
       "  </tbody>\n",
       "</table>\n",
       "<p>476 rows × 1 columns</p>\n",
       "</div>"
      ],
      "text/plain": [
       "               Title\n",
       "adjusted_date       \n",
       "2021-02-04         5\n",
       "2018-04-25         4\n",
       "2019-02-11         4\n",
       "2020-01-23         4\n",
       "2014-06-19         4\n",
       "...              ...\n",
       "2016-03-16         1\n",
       "2016-03-14         1\n",
       "2016-03-10         1\n",
       "2016-03-08         1\n",
       "2017-05-10         1\n",
       "\n",
       "[476 rows x 1 columns]"
      ]
     },
     "execution_count": 15,
     "metadata": {
      "tags": []
     },
     "output_type": "execute_result"
    }
   ],
   "source": [
    "df.groupby('adjusted_date').count()[['Title']].sort_values(by=['Title'], ascending=False)"
   ]
  },
  {
   "cell_type": "code",
   "execution_count": null,
   "metadata": {
    "colab": {
     "base_uri": "https://localhost:8080/",
     "height": 424
    },
    "id": "CWMYPwVexovN",
    "outputId": "89726c33-1353-4d60-b308-0d90ff88baac"
   },
   "outputs": [
    {
     "data": {
      "text/html": [
       "<div>\n",
       "<style scoped>\n",
       "    .dataframe tbody tr th:only-of-type {\n",
       "        vertical-align: middle;\n",
       "    }\n",
       "\n",
       "    .dataframe tbody tr th {\n",
       "        vertical-align: top;\n",
       "    }\n",
       "\n",
       "    .dataframe thead th {\n",
       "        text-align: right;\n",
       "    }\n",
       "</style>\n",
       "<table border=\"1\" class=\"dataframe\">\n",
       "  <thead>\n",
       "    <tr style=\"text-align: right;\">\n",
       "      <th></th>\n",
       "      <th>adjusted_date</th>\n",
       "      <th>Title</th>\n",
       "    </tr>\n",
       "  </thead>\n",
       "  <tbody>\n",
       "    <tr>\n",
       "      <th>0</th>\n",
       "      <td>2012-06-13</td>\n",
       "      <td>Apps Rush: Kennedys, Spotify, Swipe Magazine, ...</td>\n",
       "    </tr>\n",
       "    <tr>\n",
       "      <th>1</th>\n",
       "      <td>2012-08-09</td>\n",
       "      <td>Apple and Amazon patch security flaws exposed ...</td>\n",
       "    </tr>\n",
       "    <tr>\n",
       "      <th>2</th>\n",
       "      <td>2012-08-13</td>\n",
       "      <td>Amazon moves engineering hub to east London</td>\n",
       "    </tr>\n",
       "    <tr>\n",
       "      <th>3</th>\n",
       "      <td>2012-08-22</td>\n",
       "      <td>Amazon unleashes Glacier service into market f...</td>\n",
       "    </tr>\n",
       "    <tr>\n",
       "      <th>4</th>\n",
       "      <td>2012-08-23</td>\n",
       "      <td>Is Twitter anything more than an online echo c...</td>\n",
       "    </tr>\n",
       "    <tr>\n",
       "      <th>...</th>\n",
       "      <td>...</td>\n",
       "      <td>...</td>\n",
       "    </tr>\n",
       "    <tr>\n",
       "      <th>471</th>\n",
       "      <td>2021-05-27</td>\n",
       "      <td>Amazon buys Hollywood studio MGM in $8.45bn deal</td>\n",
       "    </tr>\n",
       "    <tr>\n",
       "      <th>472</th>\n",
       "      <td>2021-06-02</td>\n",
       "      <td>Amazon US customers have one week to opt out o...</td>\n",
       "    </tr>\n",
       "    <tr>\n",
       "      <th>473</th>\n",
       "      <td>2021-06-07</td>\n",
       "      <td>Global G7 deal may let Amazon off hook on tax,...</td>\n",
       "    </tr>\n",
       "    <tr>\n",
       "      <th>474</th>\n",
       "      <td>2021-06-08</td>\n",
       "      <td>Jeff Bezos to go into space on first crewed fl...</td>\n",
       "    </tr>\n",
       "    <tr>\n",
       "      <th>475</th>\n",
       "      <td>2021-06-09</td>\n",
       "      <td>What caused the internet outage that brought d...</td>\n",
       "    </tr>\n",
       "  </tbody>\n",
       "</table>\n",
       "<p>476 rows × 2 columns</p>\n",
       "</div>"
      ],
      "text/plain": [
       "    adjusted_date                                              Title\n",
       "0      2012-06-13  Apps Rush: Kennedys, Spotify, Swipe Magazine, ...\n",
       "1      2012-08-09  Apple and Amazon patch security flaws exposed ...\n",
       "2      2012-08-13        Amazon moves engineering hub to east London\n",
       "3      2012-08-22  Amazon unleashes Glacier service into market f...\n",
       "4      2012-08-23  Is Twitter anything more than an online echo c...\n",
       "..            ...                                                ...\n",
       "471    2021-05-27   Amazon buys Hollywood studio MGM in $8.45bn deal\n",
       "472    2021-06-02  Amazon US customers have one week to opt out o...\n",
       "473    2021-06-07  Global G7 deal may let Amazon off hook on tax,...\n",
       "474    2021-06-08  Jeff Bezos to go into space on first crewed fl...\n",
       "475    2021-06-09  What caused the internet outage that brought d...\n",
       "\n",
       "[476 rows x 2 columns]"
      ]
     },
     "execution_count": 16,
     "metadata": {
      "tags": []
     },
     "output_type": "execute_result"
    }
   ],
   "source": [
    "df_news = df.groupby('adjusted_date')['Title'].apply(' '.join).reset_index()\n",
    "df_news"
   ]
  },
  {
   "cell_type": "code",
   "execution_count": null,
   "metadata": {
    "colab": {
     "base_uri": "https://localhost:8080/",
     "height": 424
    },
    "id": "vNU1U_aoxovN",
    "outputId": "73668442-82ca-4f36-f733-2423ebe9b2a6"
   },
   "outputs": [
    {
     "data": {
      "text/html": [
       "<div>\n",
       "<style scoped>\n",
       "    .dataframe tbody tr th:only-of-type {\n",
       "        vertical-align: middle;\n",
       "    }\n",
       "\n",
       "    .dataframe tbody tr th {\n",
       "        vertical-align: top;\n",
       "    }\n",
       "\n",
       "    .dataframe thead th {\n",
       "        text-align: right;\n",
       "    }\n",
       "</style>\n",
       "<table border=\"1\" class=\"dataframe\">\n",
       "  <thead>\n",
       "    <tr style=\"text-align: right;\">\n",
       "      <th></th>\n",
       "      <th>Date</th>\n",
       "      <th>Title</th>\n",
       "    </tr>\n",
       "  </thead>\n",
       "  <tbody>\n",
       "    <tr>\n",
       "      <th>0</th>\n",
       "      <td>2012-06-13</td>\n",
       "      <td>Apps Rush: Kennedys, Spotify, Swipe Magazine, ...</td>\n",
       "    </tr>\n",
       "    <tr>\n",
       "      <th>1</th>\n",
       "      <td>2012-08-09</td>\n",
       "      <td>Apple and Amazon patch security flaws exposed ...</td>\n",
       "    </tr>\n",
       "    <tr>\n",
       "      <th>2</th>\n",
       "      <td>2012-08-13</td>\n",
       "      <td>Amazon moves engineering hub to east London</td>\n",
       "    </tr>\n",
       "    <tr>\n",
       "      <th>3</th>\n",
       "      <td>2012-08-22</td>\n",
       "      <td>Amazon unleashes Glacier service into market f...</td>\n",
       "    </tr>\n",
       "    <tr>\n",
       "      <th>4</th>\n",
       "      <td>2012-08-23</td>\n",
       "      <td>Is Twitter anything more than an online echo c...</td>\n",
       "    </tr>\n",
       "    <tr>\n",
       "      <th>...</th>\n",
       "      <td>...</td>\n",
       "      <td>...</td>\n",
       "    </tr>\n",
       "    <tr>\n",
       "      <th>471</th>\n",
       "      <td>2021-05-27</td>\n",
       "      <td>Amazon buys Hollywood studio MGM in $8.45bn deal</td>\n",
       "    </tr>\n",
       "    <tr>\n",
       "      <th>472</th>\n",
       "      <td>2021-06-02</td>\n",
       "      <td>Amazon US customers have one week to opt out o...</td>\n",
       "    </tr>\n",
       "    <tr>\n",
       "      <th>473</th>\n",
       "      <td>2021-06-07</td>\n",
       "      <td>Global G7 deal may let Amazon off hook on tax,...</td>\n",
       "    </tr>\n",
       "    <tr>\n",
       "      <th>474</th>\n",
       "      <td>2021-06-08</td>\n",
       "      <td>Jeff Bezos to go into space on first crewed fl...</td>\n",
       "    </tr>\n",
       "    <tr>\n",
       "      <th>475</th>\n",
       "      <td>2021-06-09</td>\n",
       "      <td>What caused the internet outage that brought d...</td>\n",
       "    </tr>\n",
       "  </tbody>\n",
       "</table>\n",
       "<p>476 rows × 2 columns</p>\n",
       "</div>"
      ],
      "text/plain": [
       "           Date                                              Title\n",
       "0    2012-06-13  Apps Rush: Kennedys, Spotify, Swipe Magazine, ...\n",
       "1    2012-08-09  Apple and Amazon patch security flaws exposed ...\n",
       "2    2012-08-13        Amazon moves engineering hub to east London\n",
       "3    2012-08-22  Amazon unleashes Glacier service into market f...\n",
       "4    2012-08-23  Is Twitter anything more than an online echo c...\n",
       "..          ...                                                ...\n",
       "471  2021-05-27   Amazon buys Hollywood studio MGM in $8.45bn deal\n",
       "472  2021-06-02  Amazon US customers have one week to opt out o...\n",
       "473  2021-06-07  Global G7 deal may let Amazon off hook on tax,...\n",
       "474  2021-06-08  Jeff Bezos to go into space on first crewed fl...\n",
       "475  2021-06-09  What caused the internet outage that brought d...\n",
       "\n",
       "[476 rows x 2 columns]"
      ]
     },
     "execution_count": 17,
     "metadata": {
      "tags": []
     },
     "output_type": "execute_result"
    }
   ],
   "source": [
    "df_news.rename({'adjusted_date': 'Date'}, axis=1, inplace=True)\n",
    "df_news"
   ]
  },
  {
   "cell_type": "markdown",
   "metadata": {
    "id": "E3RTDIHwxovO"
   },
   "source": [
    "## Text Tokenization"
   ]
  },
  {
   "cell_type": "code",
   "execution_count": null,
   "metadata": {
    "colab": {
     "base_uri": "https://localhost:8080/"
    },
    "id": "u9XGvQyGxovO",
    "outputId": "d5dd1658-44c2-4956-9d93-3e4a0b844e4d"
   },
   "outputs": [
    {
     "name": "stdout",
     "output_type": "stream",
     "text": [
      "<class 'pandas.core.frame.DataFrame'>\n",
      "RangeIndex: 476 entries, 0 to 475\n",
      "Data columns (total 4 columns):\n",
      " #   Column        Non-Null Count  Dtype \n",
      "---  ------        --------------  ----- \n",
      " 0   Date          476 non-null    object\n",
      " 1   Title         476 non-null    object\n",
      " 2   text_decont   476 non-null    object\n",
      " 3   text_no_punc  476 non-null    object\n",
      "dtypes: object(4)\n",
      "memory usage: 15.0+ KB\n"
     ]
    }
   ],
   "source": [
    "#decontract to not create token from special cases.\n",
    "#For example, \"won't\" or \" can't\" can generate tokens as \"wo\", \"ca\" which are not removed by stopwords\n",
    "\n",
    "def decontracted(phrase):\n",
    "    # specific\n",
    "    phrase = re.sub(r\"won\\'t\", \"will not\", phrase)\n",
    "    phrase = re.sub(r\"can\\'t\", \"can not\", phrase)\n",
    "    phrase = re.sub(r\"let\\'s\", \"let us\", phrase)\n",
    "\n",
    "    # general\n",
    "    phrase = re.sub(r\"n\\'t\", \" not\", phrase)\n",
    "    phrase = re.sub(r\"\\'re\", \" are\", phrase)\n",
    "    phrase = re.sub(r\"\\'s\", \" is\", phrase)\n",
    "    phrase = re.sub(r\"\\'d\", \" would\", phrase)\n",
    "    phrase = re.sub(r\"\\'ll\", \" will\", phrase)\n",
    "    phrase = re.sub(r\"\\'t\", \" not\", phrase)\n",
    "    phrase = re.sub(r\"\\'ve\", \" have\", phrase)\n",
    "    phrase = re.sub(r\"\\'m\", \" am\", phrase)\n",
    "    return phrase\n",
    "\n",
    "#convert to lower case and decontract\n",
    "df_news['text_decont'] = df_news['Title'].str.lower().apply(lambda x: decontracted(x))\n",
    "\n",
    "#remove punctuation\n",
    "df_news['text_no_punc'] = df_news['text_decont'].apply(lambda x: re.sub(r'[^\\w\\s]', ' ', x))\n",
    "\n",
    "df_news.info()"
   ]
  },
  {
   "cell_type": "code",
   "execution_count": null,
   "metadata": {
    "colab": {
     "base_uri": "https://localhost:8080/",
     "height": 310
    },
    "id": "KT-OVeybxovO",
    "outputId": "c0d8d01d-12f1-49ad-cd72-a1c77c11c98e",
    "scrolled": false
   },
   "outputs": [
    {
     "data": {
      "text/html": [
       "<div>\n",
       "<style scoped>\n",
       "    .dataframe tbody tr th:only-of-type {\n",
       "        vertical-align: middle;\n",
       "    }\n",
       "\n",
       "    .dataframe tbody tr th {\n",
       "        vertical-align: top;\n",
       "    }\n",
       "\n",
       "    .dataframe thead th {\n",
       "        text-align: right;\n",
       "    }\n",
       "</style>\n",
       "<table border=\"1\" class=\"dataframe\">\n",
       "  <thead>\n",
       "    <tr style=\"text-align: right;\">\n",
       "      <th></th>\n",
       "      <th>Date</th>\n",
       "      <th>Title</th>\n",
       "      <th>text_decont</th>\n",
       "      <th>text_no_punc</th>\n",
       "      <th>tk</th>\n",
       "    </tr>\n",
       "  </thead>\n",
       "  <tbody>\n",
       "    <tr>\n",
       "      <th>0</th>\n",
       "      <td>2012-06-13</td>\n",
       "      <td>Apps Rush: Kennedys, Spotify, Swipe Magazine, ...</td>\n",
       "      <td>apps rush: kennedys, spotify, swipe magazine, ...</td>\n",
       "      <td>apps rush  kennedys  spotify  swipe magazine  ...</td>\n",
       "      <td>[apps, rush, kennedys, spotify, swipe, magazin...</td>\n",
       "    </tr>\n",
       "    <tr>\n",
       "      <th>1</th>\n",
       "      <td>2012-08-09</td>\n",
       "      <td>Apple and Amazon patch security flaws exposed ...</td>\n",
       "      <td>apple and amazon patch security flaws exposed ...</td>\n",
       "      <td>apple and amazon patch security flaws exposed ...</td>\n",
       "      <td>[apple, and, amazon, patch, security, flaws, e...</td>\n",
       "    </tr>\n",
       "    <tr>\n",
       "      <th>2</th>\n",
       "      <td>2012-08-13</td>\n",
       "      <td>Amazon moves engineering hub to east London</td>\n",
       "      <td>amazon moves engineering hub to east london</td>\n",
       "      <td>amazon moves engineering hub to east london</td>\n",
       "      <td>[amazon, moves, engineering, hub, to, east, lo...</td>\n",
       "    </tr>\n",
       "    <tr>\n",
       "      <th>3</th>\n",
       "      <td>2012-08-22</td>\n",
       "      <td>Amazon unleashes Glacier service into market f...</td>\n",
       "      <td>amazon unleashes glacier service into market f...</td>\n",
       "      <td>amazon unleashes glacier service into market f...</td>\n",
       "      <td>[amazon, unleashes, glacier, service, into, ma...</td>\n",
       "    </tr>\n",
       "    <tr>\n",
       "      <th>4</th>\n",
       "      <td>2012-08-23</td>\n",
       "      <td>Is Twitter anything more than an online echo c...</td>\n",
       "      <td>is twitter anything more than an online echo c...</td>\n",
       "      <td>is twitter anything more than an online echo c...</td>\n",
       "      <td>[is, twitter, anything, more, than, an, online...</td>\n",
       "    </tr>\n",
       "  </tbody>\n",
       "</table>\n",
       "</div>"
      ],
      "text/plain": [
       "         Date  ...                                                 tk\n",
       "0  2012-06-13  ...  [apps, rush, kennedys, spotify, swipe, magazin...\n",
       "1  2012-08-09  ...  [apple, and, amazon, patch, security, flaws, e...\n",
       "2  2012-08-13  ...  [amazon, moves, engineering, hub, to, east, lo...\n",
       "3  2012-08-22  ...  [amazon, unleashes, glacier, service, into, ma...\n",
       "4  2012-08-23  ...  [is, twitter, anything, more, than, an, online...\n",
       "\n",
       "[5 rows x 5 columns]"
      ]
     },
     "execution_count": 19,
     "metadata": {
      "tags": []
     },
     "output_type": "execute_result"
    }
   ],
   "source": [
    "# tokenize w/o preprocessing\n",
    "df_news['tk'] = df_news['text_no_punc'].apply(lambda x: nltk.word_tokenize(x))\n",
    "df_news.head()"
   ]
  },
  {
   "cell_type": "markdown",
   "metadata": {
    "id": "rreSf7gCDeCQ"
   },
   "source": [
    "# 2. TF-IDF"
   ]
  },
  {
   "cell_type": "code",
   "execution_count": null,
   "metadata": {
    "id": "gnffujRMxovP"
   },
   "outputs": [],
   "source": [
    "def identity_tokenizer(text):\n",
    "    return text\n",
    "\n",
    "tfvec = TfidfVectorizer(lowercase=False, tokenizer=identity_tokenizer)\n",
    "df_tfvec = tfvec.fit_transform(df_news.tk.tolist()).todense()"
   ]
  },
  {
   "cell_type": "code",
   "execution_count": null,
   "metadata": {
    "colab": {
     "base_uri": "https://localhost:8080/"
    },
    "id": "aSRGX1hvxovP",
    "outputId": "4dbeafb4-6e1a-4d23-813e-3333bcee8be3"
   },
   "outputs": [
    {
     "data": {
      "text/plain": [
       "1984"
      ]
     },
     "execution_count": 21,
     "metadata": {
      "tags": []
     },
     "output_type": "execute_result"
    }
   ],
   "source": [
    "len(tfvec.get_feature_names())"
   ]
  },
  {
   "cell_type": "code",
   "execution_count": null,
   "metadata": {
    "colab": {
     "base_uri": "https://localhost:8080/"
    },
    "id": "u_14-XZ1xovP",
    "outputId": "e35e0a5d-c80d-44bf-94b4-e1361e53ea24"
   },
   "outputs": [
    {
     "data": {
      "text/plain": [
       "matrix([[0.        , 0.        , 0.        , ..., 0.        , 0.        ,\n",
       "         0.        ],\n",
       "        [0.        , 0.        , 0.        , ..., 0.        , 0.        ,\n",
       "         0.        ],\n",
       "        [0.        , 0.        , 0.        , ..., 0.        , 0.        ,\n",
       "         0.        ],\n",
       "        ...,\n",
       "        [0.        , 0.19598984, 0.        , ..., 0.        , 0.        ,\n",
       "         0.        ],\n",
       "        [0.        , 0.        , 0.        , ..., 0.        , 0.        ,\n",
       "         0.        ],\n",
       "        [0.        , 0.        , 0.        , ..., 0.        , 0.        ,\n",
       "         0.        ]])"
      ]
     },
     "execution_count": 22,
     "metadata": {
      "tags": []
     },
     "output_type": "execute_result"
    }
   ],
   "source": [
    "df_tfvec"
   ]
  },
  {
   "cell_type": "code",
   "execution_count": null,
   "metadata": {
    "colab": {
     "base_uri": "https://localhost:8080/",
     "height": 444
    },
    "id": "nnEimuexxovP",
    "outputId": "f0f29b9d-17fa-4dcf-9a7b-e4ea76ad0442"
   },
   "outputs": [
    {
     "data": {
      "text/html": [
       "<div>\n",
       "<style scoped>\n",
       "    .dataframe tbody tr th:only-of-type {\n",
       "        vertical-align: middle;\n",
       "    }\n",
       "\n",
       "    .dataframe tbody tr th {\n",
       "        vertical-align: top;\n",
       "    }\n",
       "\n",
       "    .dataframe thead th {\n",
       "        text-align: right;\n",
       "    }\n",
       "</style>\n",
       "<table border=\"1\" class=\"dataframe\">\n",
       "  <thead>\n",
       "    <tr style=\"text-align: right;\">\n",
       "      <th></th>\n",
       "      <th>0</th>\n",
       "      <th>1</th>\n",
       "      <th>2</th>\n",
       "      <th>3</th>\n",
       "      <th>4</th>\n",
       "      <th>5</th>\n",
       "      <th>6</th>\n",
       "      <th>7</th>\n",
       "      <th>8</th>\n",
       "      <th>9</th>\n",
       "      <th>10</th>\n",
       "      <th>11</th>\n",
       "      <th>12</th>\n",
       "      <th>13</th>\n",
       "      <th>14</th>\n",
       "      <th>15</th>\n",
       "      <th>16</th>\n",
       "      <th>17</th>\n",
       "      <th>18</th>\n",
       "      <th>19</th>\n",
       "      <th>20</th>\n",
       "      <th>21</th>\n",
       "      <th>22</th>\n",
       "      <th>23</th>\n",
       "      <th>24</th>\n",
       "      <th>25</th>\n",
       "      <th>26</th>\n",
       "      <th>27</th>\n",
       "      <th>28</th>\n",
       "      <th>29</th>\n",
       "      <th>30</th>\n",
       "      <th>31</th>\n",
       "      <th>32</th>\n",
       "      <th>33</th>\n",
       "      <th>34</th>\n",
       "      <th>35</th>\n",
       "      <th>36</th>\n",
       "      <th>37</th>\n",
       "      <th>38</th>\n",
       "      <th>39</th>\n",
       "      <th>...</th>\n",
       "      <th>1944</th>\n",
       "      <th>1945</th>\n",
       "      <th>1946</th>\n",
       "      <th>1947</th>\n",
       "      <th>1948</th>\n",
       "      <th>1949</th>\n",
       "      <th>1950</th>\n",
       "      <th>1951</th>\n",
       "      <th>1952</th>\n",
       "      <th>1953</th>\n",
       "      <th>1954</th>\n",
       "      <th>1955</th>\n",
       "      <th>1956</th>\n",
       "      <th>1957</th>\n",
       "      <th>1958</th>\n",
       "      <th>1959</th>\n",
       "      <th>1960</th>\n",
       "      <th>1961</th>\n",
       "      <th>1962</th>\n",
       "      <th>1963</th>\n",
       "      <th>1964</th>\n",
       "      <th>1965</th>\n",
       "      <th>1966</th>\n",
       "      <th>1967</th>\n",
       "      <th>1968</th>\n",
       "      <th>1969</th>\n",
       "      <th>1970</th>\n",
       "      <th>1971</th>\n",
       "      <th>1972</th>\n",
       "      <th>1973</th>\n",
       "      <th>1974</th>\n",
       "      <th>1975</th>\n",
       "      <th>1976</th>\n",
       "      <th>1977</th>\n",
       "      <th>1978</th>\n",
       "      <th>1979</th>\n",
       "      <th>1980</th>\n",
       "      <th>1981</th>\n",
       "      <th>1982</th>\n",
       "      <th>1983</th>\n",
       "    </tr>\n",
       "  </thead>\n",
       "  <tbody>\n",
       "    <tr>\n",
       "      <th>0</th>\n",
       "      <td>0.0</td>\n",
       "      <td>0.00000</td>\n",
       "      <td>0.0</td>\n",
       "      <td>0.0</td>\n",
       "      <td>0.0</td>\n",
       "      <td>0.0</td>\n",
       "      <td>0.0</td>\n",
       "      <td>0.0</td>\n",
       "      <td>0.0</td>\n",
       "      <td>0.0</td>\n",
       "      <td>0.0</td>\n",
       "      <td>0.0</td>\n",
       "      <td>0.0</td>\n",
       "      <td>0.0</td>\n",
       "      <td>0.0</td>\n",
       "      <td>0.0</td>\n",
       "      <td>0.0</td>\n",
       "      <td>0.0</td>\n",
       "      <td>0.0</td>\n",
       "      <td>0.0</td>\n",
       "      <td>0.0</td>\n",
       "      <td>0.0</td>\n",
       "      <td>0.0</td>\n",
       "      <td>0.0</td>\n",
       "      <td>0.0</td>\n",
       "      <td>0.0</td>\n",
       "      <td>0.0</td>\n",
       "      <td>0.0</td>\n",
       "      <td>0.0</td>\n",
       "      <td>0.0</td>\n",
       "      <td>0.0</td>\n",
       "      <td>0.0</td>\n",
       "      <td>0.0</td>\n",
       "      <td>0.0</td>\n",
       "      <td>0.0</td>\n",
       "      <td>0.0</td>\n",
       "      <td>0.0</td>\n",
       "      <td>0.0</td>\n",
       "      <td>0.0</td>\n",
       "      <td>0.0</td>\n",
       "      <td>...</td>\n",
       "      <td>0.0</td>\n",
       "      <td>0.0</td>\n",
       "      <td>0.0</td>\n",
       "      <td>0.0</td>\n",
       "      <td>0.0</td>\n",
       "      <td>0.0</td>\n",
       "      <td>0.0</td>\n",
       "      <td>0.0</td>\n",
       "      <td>0.0</td>\n",
       "      <td>0.0</td>\n",
       "      <td>0.0</td>\n",
       "      <td>0.0</td>\n",
       "      <td>0.000000</td>\n",
       "      <td>0.0</td>\n",
       "      <td>0.0</td>\n",
       "      <td>0.00000</td>\n",
       "      <td>0.0</td>\n",
       "      <td>0.0</td>\n",
       "      <td>0.0</td>\n",
       "      <td>0.0</td>\n",
       "      <td>0.0</td>\n",
       "      <td>0.0</td>\n",
       "      <td>0.0</td>\n",
       "      <td>0.0</td>\n",
       "      <td>0.0</td>\n",
       "      <td>0.0</td>\n",
       "      <td>0.0</td>\n",
       "      <td>0.0</td>\n",
       "      <td>0.0</td>\n",
       "      <td>0.0</td>\n",
       "      <td>0.0</td>\n",
       "      <td>0.0</td>\n",
       "      <td>0.0</td>\n",
       "      <td>0.0</td>\n",
       "      <td>0.000000</td>\n",
       "      <td>0.0</td>\n",
       "      <td>0.0</td>\n",
       "      <td>0.0</td>\n",
       "      <td>0.0</td>\n",
       "      <td>0.0</td>\n",
       "    </tr>\n",
       "    <tr>\n",
       "      <th>1</th>\n",
       "      <td>0.0</td>\n",
       "      <td>0.00000</td>\n",
       "      <td>0.0</td>\n",
       "      <td>0.0</td>\n",
       "      <td>0.0</td>\n",
       "      <td>0.0</td>\n",
       "      <td>0.0</td>\n",
       "      <td>0.0</td>\n",
       "      <td>0.0</td>\n",
       "      <td>0.0</td>\n",
       "      <td>0.0</td>\n",
       "      <td>0.0</td>\n",
       "      <td>0.0</td>\n",
       "      <td>0.0</td>\n",
       "      <td>0.0</td>\n",
       "      <td>0.0</td>\n",
       "      <td>0.0</td>\n",
       "      <td>0.0</td>\n",
       "      <td>0.0</td>\n",
       "      <td>0.0</td>\n",
       "      <td>0.0</td>\n",
       "      <td>0.0</td>\n",
       "      <td>0.0</td>\n",
       "      <td>0.0</td>\n",
       "      <td>0.0</td>\n",
       "      <td>0.0</td>\n",
       "      <td>0.0</td>\n",
       "      <td>0.0</td>\n",
       "      <td>0.0</td>\n",
       "      <td>0.0</td>\n",
       "      <td>0.0</td>\n",
       "      <td>0.0</td>\n",
       "      <td>0.0</td>\n",
       "      <td>0.0</td>\n",
       "      <td>0.0</td>\n",
       "      <td>0.0</td>\n",
       "      <td>0.0</td>\n",
       "      <td>0.0</td>\n",
       "      <td>0.0</td>\n",
       "      <td>0.0</td>\n",
       "      <td>...</td>\n",
       "      <td>0.0</td>\n",
       "      <td>0.0</td>\n",
       "      <td>0.0</td>\n",
       "      <td>0.0</td>\n",
       "      <td>0.0</td>\n",
       "      <td>0.0</td>\n",
       "      <td>0.0</td>\n",
       "      <td>0.0</td>\n",
       "      <td>0.0</td>\n",
       "      <td>0.0</td>\n",
       "      <td>0.0</td>\n",
       "      <td>0.0</td>\n",
       "      <td>0.000000</td>\n",
       "      <td>0.0</td>\n",
       "      <td>0.0</td>\n",
       "      <td>0.24946</td>\n",
       "      <td>0.0</td>\n",
       "      <td>0.0</td>\n",
       "      <td>0.0</td>\n",
       "      <td>0.0</td>\n",
       "      <td>0.0</td>\n",
       "      <td>0.0</td>\n",
       "      <td>0.0</td>\n",
       "      <td>0.0</td>\n",
       "      <td>0.0</td>\n",
       "      <td>0.0</td>\n",
       "      <td>0.0</td>\n",
       "      <td>0.0</td>\n",
       "      <td>0.0</td>\n",
       "      <td>0.0</td>\n",
       "      <td>0.0</td>\n",
       "      <td>0.0</td>\n",
       "      <td>0.0</td>\n",
       "      <td>0.0</td>\n",
       "      <td>0.000000</td>\n",
       "      <td>0.0</td>\n",
       "      <td>0.0</td>\n",
       "      <td>0.0</td>\n",
       "      <td>0.0</td>\n",
       "      <td>0.0</td>\n",
       "    </tr>\n",
       "    <tr>\n",
       "      <th>2</th>\n",
       "      <td>0.0</td>\n",
       "      <td>0.00000</td>\n",
       "      <td>0.0</td>\n",
       "      <td>0.0</td>\n",
       "      <td>0.0</td>\n",
       "      <td>0.0</td>\n",
       "      <td>0.0</td>\n",
       "      <td>0.0</td>\n",
       "      <td>0.0</td>\n",
       "      <td>0.0</td>\n",
       "      <td>0.0</td>\n",
       "      <td>0.0</td>\n",
       "      <td>0.0</td>\n",
       "      <td>0.0</td>\n",
       "      <td>0.0</td>\n",
       "      <td>0.0</td>\n",
       "      <td>0.0</td>\n",
       "      <td>0.0</td>\n",
       "      <td>0.0</td>\n",
       "      <td>0.0</td>\n",
       "      <td>0.0</td>\n",
       "      <td>0.0</td>\n",
       "      <td>0.0</td>\n",
       "      <td>0.0</td>\n",
       "      <td>0.0</td>\n",
       "      <td>0.0</td>\n",
       "      <td>0.0</td>\n",
       "      <td>0.0</td>\n",
       "      <td>0.0</td>\n",
       "      <td>0.0</td>\n",
       "      <td>0.0</td>\n",
       "      <td>0.0</td>\n",
       "      <td>0.0</td>\n",
       "      <td>0.0</td>\n",
       "      <td>0.0</td>\n",
       "      <td>0.0</td>\n",
       "      <td>0.0</td>\n",
       "      <td>0.0</td>\n",
       "      <td>0.0</td>\n",
       "      <td>0.0</td>\n",
       "      <td>...</td>\n",
       "      <td>0.0</td>\n",
       "      <td>0.0</td>\n",
       "      <td>0.0</td>\n",
       "      <td>0.0</td>\n",
       "      <td>0.0</td>\n",
       "      <td>0.0</td>\n",
       "      <td>0.0</td>\n",
       "      <td>0.0</td>\n",
       "      <td>0.0</td>\n",
       "      <td>0.0</td>\n",
       "      <td>0.0</td>\n",
       "      <td>0.0</td>\n",
       "      <td>0.000000</td>\n",
       "      <td>0.0</td>\n",
       "      <td>0.0</td>\n",
       "      <td>0.00000</td>\n",
       "      <td>0.0</td>\n",
       "      <td>0.0</td>\n",
       "      <td>0.0</td>\n",
       "      <td>0.0</td>\n",
       "      <td>0.0</td>\n",
       "      <td>0.0</td>\n",
       "      <td>0.0</td>\n",
       "      <td>0.0</td>\n",
       "      <td>0.0</td>\n",
       "      <td>0.0</td>\n",
       "      <td>0.0</td>\n",
       "      <td>0.0</td>\n",
       "      <td>0.0</td>\n",
       "      <td>0.0</td>\n",
       "      <td>0.0</td>\n",
       "      <td>0.0</td>\n",
       "      <td>0.0</td>\n",
       "      <td>0.0</td>\n",
       "      <td>0.000000</td>\n",
       "      <td>0.0</td>\n",
       "      <td>0.0</td>\n",
       "      <td>0.0</td>\n",
       "      <td>0.0</td>\n",
       "      <td>0.0</td>\n",
       "    </tr>\n",
       "    <tr>\n",
       "      <th>3</th>\n",
       "      <td>0.0</td>\n",
       "      <td>0.00000</td>\n",
       "      <td>0.0</td>\n",
       "      <td>0.0</td>\n",
       "      <td>0.0</td>\n",
       "      <td>0.0</td>\n",
       "      <td>0.0</td>\n",
       "      <td>0.0</td>\n",
       "      <td>0.0</td>\n",
       "      <td>0.0</td>\n",
       "      <td>0.0</td>\n",
       "      <td>0.0</td>\n",
       "      <td>0.0</td>\n",
       "      <td>0.0</td>\n",
       "      <td>0.0</td>\n",
       "      <td>0.0</td>\n",
       "      <td>0.0</td>\n",
       "      <td>0.0</td>\n",
       "      <td>0.0</td>\n",
       "      <td>0.0</td>\n",
       "      <td>0.0</td>\n",
       "      <td>0.0</td>\n",
       "      <td>0.0</td>\n",
       "      <td>0.0</td>\n",
       "      <td>0.0</td>\n",
       "      <td>0.0</td>\n",
       "      <td>0.0</td>\n",
       "      <td>0.0</td>\n",
       "      <td>0.0</td>\n",
       "      <td>0.0</td>\n",
       "      <td>0.0</td>\n",
       "      <td>0.0</td>\n",
       "      <td>0.0</td>\n",
       "      <td>0.0</td>\n",
       "      <td>0.0</td>\n",
       "      <td>0.0</td>\n",
       "      <td>0.0</td>\n",
       "      <td>0.0</td>\n",
       "      <td>0.0</td>\n",
       "      <td>0.0</td>\n",
       "      <td>...</td>\n",
       "      <td>0.0</td>\n",
       "      <td>0.0</td>\n",
       "      <td>0.0</td>\n",
       "      <td>0.0</td>\n",
       "      <td>0.0</td>\n",
       "      <td>0.0</td>\n",
       "      <td>0.0</td>\n",
       "      <td>0.0</td>\n",
       "      <td>0.0</td>\n",
       "      <td>0.0</td>\n",
       "      <td>0.0</td>\n",
       "      <td>0.0</td>\n",
       "      <td>0.000000</td>\n",
       "      <td>0.0</td>\n",
       "      <td>0.0</td>\n",
       "      <td>0.00000</td>\n",
       "      <td>0.0</td>\n",
       "      <td>0.0</td>\n",
       "      <td>0.0</td>\n",
       "      <td>0.0</td>\n",
       "      <td>0.0</td>\n",
       "      <td>0.0</td>\n",
       "      <td>0.0</td>\n",
       "      <td>0.0</td>\n",
       "      <td>0.0</td>\n",
       "      <td>0.0</td>\n",
       "      <td>0.0</td>\n",
       "      <td>0.0</td>\n",
       "      <td>0.0</td>\n",
       "      <td>0.0</td>\n",
       "      <td>0.0</td>\n",
       "      <td>0.0</td>\n",
       "      <td>0.0</td>\n",
       "      <td>0.0</td>\n",
       "      <td>0.000000</td>\n",
       "      <td>0.0</td>\n",
       "      <td>0.0</td>\n",
       "      <td>0.0</td>\n",
       "      <td>0.0</td>\n",
       "      <td>0.0</td>\n",
       "    </tr>\n",
       "    <tr>\n",
       "      <th>4</th>\n",
       "      <td>0.0</td>\n",
       "      <td>0.00000</td>\n",
       "      <td>0.0</td>\n",
       "      <td>0.0</td>\n",
       "      <td>0.0</td>\n",
       "      <td>0.0</td>\n",
       "      <td>0.0</td>\n",
       "      <td>0.0</td>\n",
       "      <td>0.0</td>\n",
       "      <td>0.0</td>\n",
       "      <td>0.0</td>\n",
       "      <td>0.0</td>\n",
       "      <td>0.0</td>\n",
       "      <td>0.0</td>\n",
       "      <td>0.0</td>\n",
       "      <td>0.0</td>\n",
       "      <td>0.0</td>\n",
       "      <td>0.0</td>\n",
       "      <td>0.0</td>\n",
       "      <td>0.0</td>\n",
       "      <td>0.0</td>\n",
       "      <td>0.0</td>\n",
       "      <td>0.0</td>\n",
       "      <td>0.0</td>\n",
       "      <td>0.0</td>\n",
       "      <td>0.0</td>\n",
       "      <td>0.0</td>\n",
       "      <td>0.0</td>\n",
       "      <td>0.0</td>\n",
       "      <td>0.0</td>\n",
       "      <td>0.0</td>\n",
       "      <td>0.0</td>\n",
       "      <td>0.0</td>\n",
       "      <td>0.0</td>\n",
       "      <td>0.0</td>\n",
       "      <td>0.0</td>\n",
       "      <td>0.0</td>\n",
       "      <td>0.0</td>\n",
       "      <td>0.0</td>\n",
       "      <td>0.0</td>\n",
       "      <td>...</td>\n",
       "      <td>0.0</td>\n",
       "      <td>0.0</td>\n",
       "      <td>0.0</td>\n",
       "      <td>0.0</td>\n",
       "      <td>0.0</td>\n",
       "      <td>0.0</td>\n",
       "      <td>0.0</td>\n",
       "      <td>0.0</td>\n",
       "      <td>0.0</td>\n",
       "      <td>0.0</td>\n",
       "      <td>0.0</td>\n",
       "      <td>0.0</td>\n",
       "      <td>0.000000</td>\n",
       "      <td>0.0</td>\n",
       "      <td>0.0</td>\n",
       "      <td>0.00000</td>\n",
       "      <td>0.0</td>\n",
       "      <td>0.0</td>\n",
       "      <td>0.0</td>\n",
       "      <td>0.0</td>\n",
       "      <td>0.0</td>\n",
       "      <td>0.0</td>\n",
       "      <td>0.0</td>\n",
       "      <td>0.0</td>\n",
       "      <td>0.0</td>\n",
       "      <td>0.0</td>\n",
       "      <td>0.0</td>\n",
       "      <td>0.0</td>\n",
       "      <td>0.0</td>\n",
       "      <td>0.0</td>\n",
       "      <td>0.0</td>\n",
       "      <td>0.0</td>\n",
       "      <td>0.0</td>\n",
       "      <td>0.0</td>\n",
       "      <td>0.000000</td>\n",
       "      <td>0.0</td>\n",
       "      <td>0.0</td>\n",
       "      <td>0.0</td>\n",
       "      <td>0.0</td>\n",
       "      <td>0.0</td>\n",
       "    </tr>\n",
       "    <tr>\n",
       "      <th>...</th>\n",
       "      <td>...</td>\n",
       "      <td>...</td>\n",
       "      <td>...</td>\n",
       "      <td>...</td>\n",
       "      <td>...</td>\n",
       "      <td>...</td>\n",
       "      <td>...</td>\n",
       "      <td>...</td>\n",
       "      <td>...</td>\n",
       "      <td>...</td>\n",
       "      <td>...</td>\n",
       "      <td>...</td>\n",
       "      <td>...</td>\n",
       "      <td>...</td>\n",
       "      <td>...</td>\n",
       "      <td>...</td>\n",
       "      <td>...</td>\n",
       "      <td>...</td>\n",
       "      <td>...</td>\n",
       "      <td>...</td>\n",
       "      <td>...</td>\n",
       "      <td>...</td>\n",
       "      <td>...</td>\n",
       "      <td>...</td>\n",
       "      <td>...</td>\n",
       "      <td>...</td>\n",
       "      <td>...</td>\n",
       "      <td>...</td>\n",
       "      <td>...</td>\n",
       "      <td>...</td>\n",
       "      <td>...</td>\n",
       "      <td>...</td>\n",
       "      <td>...</td>\n",
       "      <td>...</td>\n",
       "      <td>...</td>\n",
       "      <td>...</td>\n",
       "      <td>...</td>\n",
       "      <td>...</td>\n",
       "      <td>...</td>\n",
       "      <td>...</td>\n",
       "      <td>...</td>\n",
       "      <td>...</td>\n",
       "      <td>...</td>\n",
       "      <td>...</td>\n",
       "      <td>...</td>\n",
       "      <td>...</td>\n",
       "      <td>...</td>\n",
       "      <td>...</td>\n",
       "      <td>...</td>\n",
       "      <td>...</td>\n",
       "      <td>...</td>\n",
       "      <td>...</td>\n",
       "      <td>...</td>\n",
       "      <td>...</td>\n",
       "      <td>...</td>\n",
       "      <td>...</td>\n",
       "      <td>...</td>\n",
       "      <td>...</td>\n",
       "      <td>...</td>\n",
       "      <td>...</td>\n",
       "      <td>...</td>\n",
       "      <td>...</td>\n",
       "      <td>...</td>\n",
       "      <td>...</td>\n",
       "      <td>...</td>\n",
       "      <td>...</td>\n",
       "      <td>...</td>\n",
       "      <td>...</td>\n",
       "      <td>...</td>\n",
       "      <td>...</td>\n",
       "      <td>...</td>\n",
       "      <td>...</td>\n",
       "      <td>...</td>\n",
       "      <td>...</td>\n",
       "      <td>...</td>\n",
       "      <td>...</td>\n",
       "      <td>...</td>\n",
       "      <td>...</td>\n",
       "      <td>...</td>\n",
       "      <td>...</td>\n",
       "      <td>...</td>\n",
       "    </tr>\n",
       "    <tr>\n",
       "      <th>471</th>\n",
       "      <td>0.0</td>\n",
       "      <td>0.00000</td>\n",
       "      <td>0.0</td>\n",
       "      <td>0.0</td>\n",
       "      <td>0.0</td>\n",
       "      <td>0.0</td>\n",
       "      <td>0.0</td>\n",
       "      <td>0.0</td>\n",
       "      <td>0.0</td>\n",
       "      <td>0.0</td>\n",
       "      <td>0.0</td>\n",
       "      <td>0.0</td>\n",
       "      <td>0.0</td>\n",
       "      <td>0.0</td>\n",
       "      <td>0.0</td>\n",
       "      <td>0.0</td>\n",
       "      <td>0.0</td>\n",
       "      <td>0.0</td>\n",
       "      <td>0.0</td>\n",
       "      <td>0.0</td>\n",
       "      <td>0.0</td>\n",
       "      <td>0.0</td>\n",
       "      <td>0.0</td>\n",
       "      <td>0.0</td>\n",
       "      <td>0.0</td>\n",
       "      <td>0.0</td>\n",
       "      <td>0.0</td>\n",
       "      <td>0.0</td>\n",
       "      <td>0.0</td>\n",
       "      <td>0.0</td>\n",
       "      <td>0.0</td>\n",
       "      <td>0.0</td>\n",
       "      <td>0.0</td>\n",
       "      <td>0.0</td>\n",
       "      <td>0.0</td>\n",
       "      <td>0.0</td>\n",
       "      <td>0.0</td>\n",
       "      <td>0.0</td>\n",
       "      <td>0.0</td>\n",
       "      <td>0.0</td>\n",
       "      <td>...</td>\n",
       "      <td>0.0</td>\n",
       "      <td>0.0</td>\n",
       "      <td>0.0</td>\n",
       "      <td>0.0</td>\n",
       "      <td>0.0</td>\n",
       "      <td>0.0</td>\n",
       "      <td>0.0</td>\n",
       "      <td>0.0</td>\n",
       "      <td>0.0</td>\n",
       "      <td>0.0</td>\n",
       "      <td>0.0</td>\n",
       "      <td>0.0</td>\n",
       "      <td>0.000000</td>\n",
       "      <td>0.0</td>\n",
       "      <td>0.0</td>\n",
       "      <td>0.00000</td>\n",
       "      <td>0.0</td>\n",
       "      <td>0.0</td>\n",
       "      <td>0.0</td>\n",
       "      <td>0.0</td>\n",
       "      <td>0.0</td>\n",
       "      <td>0.0</td>\n",
       "      <td>0.0</td>\n",
       "      <td>0.0</td>\n",
       "      <td>0.0</td>\n",
       "      <td>0.0</td>\n",
       "      <td>0.0</td>\n",
       "      <td>0.0</td>\n",
       "      <td>0.0</td>\n",
       "      <td>0.0</td>\n",
       "      <td>0.0</td>\n",
       "      <td>0.0</td>\n",
       "      <td>0.0</td>\n",
       "      <td>0.0</td>\n",
       "      <td>0.000000</td>\n",
       "      <td>0.0</td>\n",
       "      <td>0.0</td>\n",
       "      <td>0.0</td>\n",
       "      <td>0.0</td>\n",
       "      <td>0.0</td>\n",
       "    </tr>\n",
       "    <tr>\n",
       "      <th>472</th>\n",
       "      <td>0.0</td>\n",
       "      <td>0.00000</td>\n",
       "      <td>0.0</td>\n",
       "      <td>0.0</td>\n",
       "      <td>0.0</td>\n",
       "      <td>0.0</td>\n",
       "      <td>0.0</td>\n",
       "      <td>0.0</td>\n",
       "      <td>0.0</td>\n",
       "      <td>0.0</td>\n",
       "      <td>0.0</td>\n",
       "      <td>0.0</td>\n",
       "      <td>0.0</td>\n",
       "      <td>0.0</td>\n",
       "      <td>0.0</td>\n",
       "      <td>0.0</td>\n",
       "      <td>0.0</td>\n",
       "      <td>0.0</td>\n",
       "      <td>0.0</td>\n",
       "      <td>0.0</td>\n",
       "      <td>0.0</td>\n",
       "      <td>0.0</td>\n",
       "      <td>0.0</td>\n",
       "      <td>0.0</td>\n",
       "      <td>0.0</td>\n",
       "      <td>0.0</td>\n",
       "      <td>0.0</td>\n",
       "      <td>0.0</td>\n",
       "      <td>0.0</td>\n",
       "      <td>0.0</td>\n",
       "      <td>0.0</td>\n",
       "      <td>0.0</td>\n",
       "      <td>0.0</td>\n",
       "      <td>0.0</td>\n",
       "      <td>0.0</td>\n",
       "      <td>0.0</td>\n",
       "      <td>0.0</td>\n",
       "      <td>0.0</td>\n",
       "      <td>0.0</td>\n",
       "      <td>0.0</td>\n",
       "      <td>...</td>\n",
       "      <td>0.0</td>\n",
       "      <td>0.0</td>\n",
       "      <td>0.0</td>\n",
       "      <td>0.0</td>\n",
       "      <td>0.0</td>\n",
       "      <td>0.0</td>\n",
       "      <td>0.0</td>\n",
       "      <td>0.0</td>\n",
       "      <td>0.0</td>\n",
       "      <td>0.0</td>\n",
       "      <td>0.0</td>\n",
       "      <td>0.0</td>\n",
       "      <td>0.000000</td>\n",
       "      <td>0.0</td>\n",
       "      <td>0.0</td>\n",
       "      <td>0.00000</td>\n",
       "      <td>0.0</td>\n",
       "      <td>0.0</td>\n",
       "      <td>0.0</td>\n",
       "      <td>0.0</td>\n",
       "      <td>0.0</td>\n",
       "      <td>0.0</td>\n",
       "      <td>0.0</td>\n",
       "      <td>0.0</td>\n",
       "      <td>0.0</td>\n",
       "      <td>0.0</td>\n",
       "      <td>0.0</td>\n",
       "      <td>0.0</td>\n",
       "      <td>0.0</td>\n",
       "      <td>0.0</td>\n",
       "      <td>0.0</td>\n",
       "      <td>0.0</td>\n",
       "      <td>0.0</td>\n",
       "      <td>0.0</td>\n",
       "      <td>0.000000</td>\n",
       "      <td>0.0</td>\n",
       "      <td>0.0</td>\n",
       "      <td>0.0</td>\n",
       "      <td>0.0</td>\n",
       "      <td>0.0</td>\n",
       "    </tr>\n",
       "    <tr>\n",
       "      <th>473</th>\n",
       "      <td>0.0</td>\n",
       "      <td>0.19599</td>\n",
       "      <td>0.0</td>\n",
       "      <td>0.0</td>\n",
       "      <td>0.0</td>\n",
       "      <td>0.0</td>\n",
       "      <td>0.0</td>\n",
       "      <td>0.0</td>\n",
       "      <td>0.0</td>\n",
       "      <td>0.0</td>\n",
       "      <td>0.0</td>\n",
       "      <td>0.0</td>\n",
       "      <td>0.0</td>\n",
       "      <td>0.0</td>\n",
       "      <td>0.0</td>\n",
       "      <td>0.0</td>\n",
       "      <td>0.0</td>\n",
       "      <td>0.0</td>\n",
       "      <td>0.0</td>\n",
       "      <td>0.0</td>\n",
       "      <td>0.0</td>\n",
       "      <td>0.0</td>\n",
       "      <td>0.0</td>\n",
       "      <td>0.0</td>\n",
       "      <td>0.0</td>\n",
       "      <td>0.0</td>\n",
       "      <td>0.0</td>\n",
       "      <td>0.0</td>\n",
       "      <td>0.0</td>\n",
       "      <td>0.0</td>\n",
       "      <td>0.0</td>\n",
       "      <td>0.0</td>\n",
       "      <td>0.0</td>\n",
       "      <td>0.0</td>\n",
       "      <td>0.0</td>\n",
       "      <td>0.0</td>\n",
       "      <td>0.0</td>\n",
       "      <td>0.0</td>\n",
       "      <td>0.0</td>\n",
       "      <td>0.0</td>\n",
       "      <td>...</td>\n",
       "      <td>0.0</td>\n",
       "      <td>0.0</td>\n",
       "      <td>0.0</td>\n",
       "      <td>0.0</td>\n",
       "      <td>0.0</td>\n",
       "      <td>0.0</td>\n",
       "      <td>0.0</td>\n",
       "      <td>0.0</td>\n",
       "      <td>0.0</td>\n",
       "      <td>0.0</td>\n",
       "      <td>0.0</td>\n",
       "      <td>0.0</td>\n",
       "      <td>0.143813</td>\n",
       "      <td>0.0</td>\n",
       "      <td>0.0</td>\n",
       "      <td>0.00000</td>\n",
       "      <td>0.0</td>\n",
       "      <td>0.0</td>\n",
       "      <td>0.0</td>\n",
       "      <td>0.0</td>\n",
       "      <td>0.0</td>\n",
       "      <td>0.0</td>\n",
       "      <td>0.0</td>\n",
       "      <td>0.0</td>\n",
       "      <td>0.0</td>\n",
       "      <td>0.0</td>\n",
       "      <td>0.0</td>\n",
       "      <td>0.0</td>\n",
       "      <td>0.0</td>\n",
       "      <td>0.0</td>\n",
       "      <td>0.0</td>\n",
       "      <td>0.0</td>\n",
       "      <td>0.0</td>\n",
       "      <td>0.0</td>\n",
       "      <td>0.183723</td>\n",
       "      <td>0.0</td>\n",
       "      <td>0.0</td>\n",
       "      <td>0.0</td>\n",
       "      <td>0.0</td>\n",
       "      <td>0.0</td>\n",
       "    </tr>\n",
       "    <tr>\n",
       "      <th>474</th>\n",
       "      <td>0.0</td>\n",
       "      <td>0.00000</td>\n",
       "      <td>0.0</td>\n",
       "      <td>0.0</td>\n",
       "      <td>0.0</td>\n",
       "      <td>0.0</td>\n",
       "      <td>0.0</td>\n",
       "      <td>0.0</td>\n",
       "      <td>0.0</td>\n",
       "      <td>0.0</td>\n",
       "      <td>0.0</td>\n",
       "      <td>0.0</td>\n",
       "      <td>0.0</td>\n",
       "      <td>0.0</td>\n",
       "      <td>0.0</td>\n",
       "      <td>0.0</td>\n",
       "      <td>0.0</td>\n",
       "      <td>0.0</td>\n",
       "      <td>0.0</td>\n",
       "      <td>0.0</td>\n",
       "      <td>0.0</td>\n",
       "      <td>0.0</td>\n",
       "      <td>0.0</td>\n",
       "      <td>0.0</td>\n",
       "      <td>0.0</td>\n",
       "      <td>0.0</td>\n",
       "      <td>0.0</td>\n",
       "      <td>0.0</td>\n",
       "      <td>0.0</td>\n",
       "      <td>0.0</td>\n",
       "      <td>0.0</td>\n",
       "      <td>0.0</td>\n",
       "      <td>0.0</td>\n",
       "      <td>0.0</td>\n",
       "      <td>0.0</td>\n",
       "      <td>0.0</td>\n",
       "      <td>0.0</td>\n",
       "      <td>0.0</td>\n",
       "      <td>0.0</td>\n",
       "      <td>0.0</td>\n",
       "      <td>...</td>\n",
       "      <td>0.0</td>\n",
       "      <td>0.0</td>\n",
       "      <td>0.0</td>\n",
       "      <td>0.0</td>\n",
       "      <td>0.0</td>\n",
       "      <td>0.0</td>\n",
       "      <td>0.0</td>\n",
       "      <td>0.0</td>\n",
       "      <td>0.0</td>\n",
       "      <td>0.0</td>\n",
       "      <td>0.0</td>\n",
       "      <td>0.0</td>\n",
       "      <td>0.000000</td>\n",
       "      <td>0.0</td>\n",
       "      <td>0.0</td>\n",
       "      <td>0.00000</td>\n",
       "      <td>0.0</td>\n",
       "      <td>0.0</td>\n",
       "      <td>0.0</td>\n",
       "      <td>0.0</td>\n",
       "      <td>0.0</td>\n",
       "      <td>0.0</td>\n",
       "      <td>0.0</td>\n",
       "      <td>0.0</td>\n",
       "      <td>0.0</td>\n",
       "      <td>0.0</td>\n",
       "      <td>0.0</td>\n",
       "      <td>0.0</td>\n",
       "      <td>0.0</td>\n",
       "      <td>0.0</td>\n",
       "      <td>0.0</td>\n",
       "      <td>0.0</td>\n",
       "      <td>0.0</td>\n",
       "      <td>0.0</td>\n",
       "      <td>0.000000</td>\n",
       "      <td>0.0</td>\n",
       "      <td>0.0</td>\n",
       "      <td>0.0</td>\n",
       "      <td>0.0</td>\n",
       "      <td>0.0</td>\n",
       "    </tr>\n",
       "    <tr>\n",
       "      <th>475</th>\n",
       "      <td>0.0</td>\n",
       "      <td>0.00000</td>\n",
       "      <td>0.0</td>\n",
       "      <td>0.0</td>\n",
       "      <td>0.0</td>\n",
       "      <td>0.0</td>\n",
       "      <td>0.0</td>\n",
       "      <td>0.0</td>\n",
       "      <td>0.0</td>\n",
       "      <td>0.0</td>\n",
       "      <td>0.0</td>\n",
       "      <td>0.0</td>\n",
       "      <td>0.0</td>\n",
       "      <td>0.0</td>\n",
       "      <td>0.0</td>\n",
       "      <td>0.0</td>\n",
       "      <td>0.0</td>\n",
       "      <td>0.0</td>\n",
       "      <td>0.0</td>\n",
       "      <td>0.0</td>\n",
       "      <td>0.0</td>\n",
       "      <td>0.0</td>\n",
       "      <td>0.0</td>\n",
       "      <td>0.0</td>\n",
       "      <td>0.0</td>\n",
       "      <td>0.0</td>\n",
       "      <td>0.0</td>\n",
       "      <td>0.0</td>\n",
       "      <td>0.0</td>\n",
       "      <td>0.0</td>\n",
       "      <td>0.0</td>\n",
       "      <td>0.0</td>\n",
       "      <td>0.0</td>\n",
       "      <td>0.0</td>\n",
       "      <td>0.0</td>\n",
       "      <td>0.0</td>\n",
       "      <td>0.0</td>\n",
       "      <td>0.0</td>\n",
       "      <td>0.0</td>\n",
       "      <td>0.0</td>\n",
       "      <td>...</td>\n",
       "      <td>0.0</td>\n",
       "      <td>0.0</td>\n",
       "      <td>0.0</td>\n",
       "      <td>0.0</td>\n",
       "      <td>0.0</td>\n",
       "      <td>0.0</td>\n",
       "      <td>0.0</td>\n",
       "      <td>0.0</td>\n",
       "      <td>0.0</td>\n",
       "      <td>0.0</td>\n",
       "      <td>0.0</td>\n",
       "      <td>0.0</td>\n",
       "      <td>0.000000</td>\n",
       "      <td>0.0</td>\n",
       "      <td>0.0</td>\n",
       "      <td>0.00000</td>\n",
       "      <td>0.0</td>\n",
       "      <td>0.0</td>\n",
       "      <td>0.0</td>\n",
       "      <td>0.0</td>\n",
       "      <td>0.0</td>\n",
       "      <td>0.0</td>\n",
       "      <td>0.0</td>\n",
       "      <td>0.0</td>\n",
       "      <td>0.0</td>\n",
       "      <td>0.0</td>\n",
       "      <td>0.0</td>\n",
       "      <td>0.0</td>\n",
       "      <td>0.0</td>\n",
       "      <td>0.0</td>\n",
       "      <td>0.0</td>\n",
       "      <td>0.0</td>\n",
       "      <td>0.0</td>\n",
       "      <td>0.0</td>\n",
       "      <td>0.000000</td>\n",
       "      <td>0.0</td>\n",
       "      <td>0.0</td>\n",
       "      <td>0.0</td>\n",
       "      <td>0.0</td>\n",
       "      <td>0.0</td>\n",
       "    </tr>\n",
       "  </tbody>\n",
       "</table>\n",
       "<p>476 rows × 1984 columns</p>\n",
       "</div>"
      ],
      "text/plain": [
       "     0        1     2     3     4     ...  1979  1980  1981  1982  1983\n",
       "0     0.0  0.00000   0.0   0.0   0.0  ...   0.0   0.0   0.0   0.0   0.0\n",
       "1     0.0  0.00000   0.0   0.0   0.0  ...   0.0   0.0   0.0   0.0   0.0\n",
       "2     0.0  0.00000   0.0   0.0   0.0  ...   0.0   0.0   0.0   0.0   0.0\n",
       "3     0.0  0.00000   0.0   0.0   0.0  ...   0.0   0.0   0.0   0.0   0.0\n",
       "4     0.0  0.00000   0.0   0.0   0.0  ...   0.0   0.0   0.0   0.0   0.0\n",
       "..    ...      ...   ...   ...   ...  ...   ...   ...   ...   ...   ...\n",
       "471   0.0  0.00000   0.0   0.0   0.0  ...   0.0   0.0   0.0   0.0   0.0\n",
       "472   0.0  0.00000   0.0   0.0   0.0  ...   0.0   0.0   0.0   0.0   0.0\n",
       "473   0.0  0.19599   0.0   0.0   0.0  ...   0.0   0.0   0.0   0.0   0.0\n",
       "474   0.0  0.00000   0.0   0.0   0.0  ...   0.0   0.0   0.0   0.0   0.0\n",
       "475   0.0  0.00000   0.0   0.0   0.0  ...   0.0   0.0   0.0   0.0   0.0\n",
       "\n",
       "[476 rows x 1984 columns]"
      ]
     },
     "execution_count": 23,
     "metadata": {
      "tags": []
     },
     "output_type": "execute_result"
    }
   ],
   "source": [
    "df_tfidf = pd.DataFrame(df_tfvec)\n",
    "df_tfidf"
   ]
  },
  {
   "cell_type": "code",
   "execution_count": null,
   "metadata": {
    "id": "-QAD3VxuxovQ"
   },
   "outputs": [],
   "source": [
    "temp = np.empty(df_tfidf.shape[0], dtype=object)\n",
    "temp[:] = df_tfidf.values.tolist()"
   ]
  },
  {
   "cell_type": "code",
   "execution_count": null,
   "metadata": {
    "colab": {
     "base_uri": "https://localhost:8080/",
     "height": 424
    },
    "id": "2_EE0Y3NxovQ",
    "outputId": "cd5c96ab-4f06-4252-bdb0-6424d361249d"
   },
   "outputs": [
    {
     "data": {
      "text/html": [
       "<div>\n",
       "<style scoped>\n",
       "    .dataframe tbody tr th:only-of-type {\n",
       "        vertical-align: middle;\n",
       "    }\n",
       "\n",
       "    .dataframe tbody tr th {\n",
       "        vertical-align: top;\n",
       "    }\n",
       "\n",
       "    .dataframe thead th {\n",
       "        text-align: right;\n",
       "    }\n",
       "</style>\n",
       "<table border=\"1\" class=\"dataframe\">\n",
       "  <thead>\n",
       "    <tr style=\"text-align: right;\">\n",
       "      <th></th>\n",
       "      <th>tfidf</th>\n",
       "    </tr>\n",
       "  </thead>\n",
       "  <tbody>\n",
       "    <tr>\n",
       "      <th>0</th>\n",
       "      <td>[0.0, 0.0, 0.0, 0.0, 0.0, 0.0, 0.0, 0.0, 0.0, ...</td>\n",
       "    </tr>\n",
       "    <tr>\n",
       "      <th>1</th>\n",
       "      <td>[0.0, 0.0, 0.0, 0.0, 0.0, 0.0, 0.0, 0.0, 0.0, ...</td>\n",
       "    </tr>\n",
       "    <tr>\n",
       "      <th>2</th>\n",
       "      <td>[0.0, 0.0, 0.0, 0.0, 0.0, 0.0, 0.0, 0.0, 0.0, ...</td>\n",
       "    </tr>\n",
       "    <tr>\n",
       "      <th>3</th>\n",
       "      <td>[0.0, 0.0, 0.0, 0.0, 0.0, 0.0, 0.0, 0.0, 0.0, ...</td>\n",
       "    </tr>\n",
       "    <tr>\n",
       "      <th>4</th>\n",
       "      <td>[0.0, 0.0, 0.0, 0.0, 0.0, 0.0, 0.0, 0.0, 0.0, ...</td>\n",
       "    </tr>\n",
       "    <tr>\n",
       "      <th>...</th>\n",
       "      <td>...</td>\n",
       "    </tr>\n",
       "    <tr>\n",
       "      <th>471</th>\n",
       "      <td>[0.0, 0.0, 0.0, 0.0, 0.0, 0.0, 0.0, 0.0, 0.0, ...</td>\n",
       "    </tr>\n",
       "    <tr>\n",
       "      <th>472</th>\n",
       "      <td>[0.0, 0.0, 0.0, 0.0, 0.0, 0.0, 0.0, 0.0, 0.0, ...</td>\n",
       "    </tr>\n",
       "    <tr>\n",
       "      <th>473</th>\n",
       "      <td>[0.0, 0.19598984355879878, 0.0, 0.0, 0.0, 0.0,...</td>\n",
       "    </tr>\n",
       "    <tr>\n",
       "      <th>474</th>\n",
       "      <td>[0.0, 0.0, 0.0, 0.0, 0.0, 0.0, 0.0, 0.0, 0.0, ...</td>\n",
       "    </tr>\n",
       "    <tr>\n",
       "      <th>475</th>\n",
       "      <td>[0.0, 0.0, 0.0, 0.0, 0.0, 0.0, 0.0, 0.0, 0.0, ...</td>\n",
       "    </tr>\n",
       "  </tbody>\n",
       "</table>\n",
       "<p>476 rows × 1 columns</p>\n",
       "</div>"
      ],
      "text/plain": [
       "                                                 tfidf\n",
       "0    [0.0, 0.0, 0.0, 0.0, 0.0, 0.0, 0.0, 0.0, 0.0, ...\n",
       "1    [0.0, 0.0, 0.0, 0.0, 0.0, 0.0, 0.0, 0.0, 0.0, ...\n",
       "2    [0.0, 0.0, 0.0, 0.0, 0.0, 0.0, 0.0, 0.0, 0.0, ...\n",
       "3    [0.0, 0.0, 0.0, 0.0, 0.0, 0.0, 0.0, 0.0, 0.0, ...\n",
       "4    [0.0, 0.0, 0.0, 0.0, 0.0, 0.0, 0.0, 0.0, 0.0, ...\n",
       "..                                                 ...\n",
       "471  [0.0, 0.0, 0.0, 0.0, 0.0, 0.0, 0.0, 0.0, 0.0, ...\n",
       "472  [0.0, 0.0, 0.0, 0.0, 0.0, 0.0, 0.0, 0.0, 0.0, ...\n",
       "473  [0.0, 0.19598984355879878, 0.0, 0.0, 0.0, 0.0,...\n",
       "474  [0.0, 0.0, 0.0, 0.0, 0.0, 0.0, 0.0, 0.0, 0.0, ...\n",
       "475  [0.0, 0.0, 0.0, 0.0, 0.0, 0.0, 0.0, 0.0, 0.0, ...\n",
       "\n",
       "[476 rows x 1 columns]"
      ]
     },
     "execution_count": 25,
     "metadata": {
      "tags": []
     },
     "output_type": "execute_result"
    }
   ],
   "source": [
    "df_temp = pd.DataFrame(temp, columns=['tfidf'])\n",
    "df_temp"
   ]
  },
  {
   "cell_type": "code",
   "execution_count": null,
   "metadata": {
    "colab": {
     "base_uri": "https://localhost:8080/",
     "height": 380
    },
    "id": "pYrUc4OMxovQ",
    "outputId": "bcda9836-006b-40f9-e975-ca22184e0efb"
   },
   "outputs": [
    {
     "data": {
      "text/html": [
       "<div>\n",
       "<style scoped>\n",
       "    .dataframe tbody tr th:only-of-type {\n",
       "        vertical-align: middle;\n",
       "    }\n",
       "\n",
       "    .dataframe tbody tr th {\n",
       "        vertical-align: top;\n",
       "    }\n",
       "\n",
       "    .dataframe thead th {\n",
       "        text-align: right;\n",
       "    }\n",
       "</style>\n",
       "<table border=\"1\" class=\"dataframe\">\n",
       "  <thead>\n",
       "    <tr style=\"text-align: right;\">\n",
       "      <th></th>\n",
       "      <th>Date</th>\n",
       "      <th>Title</th>\n",
       "      <th>text_decont</th>\n",
       "      <th>text_no_punc</th>\n",
       "      <th>tk</th>\n",
       "      <th>tfidf</th>\n",
       "    </tr>\n",
       "  </thead>\n",
       "  <tbody>\n",
       "    <tr>\n",
       "      <th>0</th>\n",
       "      <td>2012-06-13</td>\n",
       "      <td>Apps Rush: Kennedys, Spotify, Swipe Magazine, ...</td>\n",
       "      <td>apps rush: kennedys, spotify, swipe magazine, ...</td>\n",
       "      <td>apps rush  kennedys  spotify  swipe magazine  ...</td>\n",
       "      <td>[apps, rush, kennedys, spotify, swipe, magazin...</td>\n",
       "      <td>[0.0, 0.0, 0.0, 0.0, 0.0, 0.0, 0.0, 0.0, 0.0, ...</td>\n",
       "    </tr>\n",
       "    <tr>\n",
       "      <th>1</th>\n",
       "      <td>2012-08-09</td>\n",
       "      <td>Apple and Amazon patch security flaws exposed ...</td>\n",
       "      <td>apple and amazon patch security flaws exposed ...</td>\n",
       "      <td>apple and amazon patch security flaws exposed ...</td>\n",
       "      <td>[apple, and, amazon, patch, security, flaws, e...</td>\n",
       "      <td>[0.0, 0.0, 0.0, 0.0, 0.0, 0.0, 0.0, 0.0, 0.0, ...</td>\n",
       "    </tr>\n",
       "    <tr>\n",
       "      <th>2</th>\n",
       "      <td>2012-08-13</td>\n",
       "      <td>Amazon moves engineering hub to east London</td>\n",
       "      <td>amazon moves engineering hub to east london</td>\n",
       "      <td>amazon moves engineering hub to east london</td>\n",
       "      <td>[amazon, moves, engineering, hub, to, east, lo...</td>\n",
       "      <td>[0.0, 0.0, 0.0, 0.0, 0.0, 0.0, 0.0, 0.0, 0.0, ...</td>\n",
       "    </tr>\n",
       "    <tr>\n",
       "      <th>3</th>\n",
       "      <td>2012-08-22</td>\n",
       "      <td>Amazon unleashes Glacier service into market f...</td>\n",
       "      <td>amazon unleashes glacier service into market f...</td>\n",
       "      <td>amazon unleashes glacier service into market f...</td>\n",
       "      <td>[amazon, unleashes, glacier, service, into, ma...</td>\n",
       "      <td>[0.0, 0.0, 0.0, 0.0, 0.0, 0.0, 0.0, 0.0, 0.0, ...</td>\n",
       "    </tr>\n",
       "    <tr>\n",
       "      <th>4</th>\n",
       "      <td>2012-08-23</td>\n",
       "      <td>Is Twitter anything more than an online echo c...</td>\n",
       "      <td>is twitter anything more than an online echo c...</td>\n",
       "      <td>is twitter anything more than an online echo c...</td>\n",
       "      <td>[is, twitter, anything, more, than, an, online...</td>\n",
       "      <td>[0.0, 0.0, 0.0, 0.0, 0.0, 0.0, 0.0, 0.0, 0.0, ...</td>\n",
       "    </tr>\n",
       "  </tbody>\n",
       "</table>\n",
       "</div>"
      ],
      "text/plain": [
       "         Date  ...                                              tfidf\n",
       "0  2012-06-13  ...  [0.0, 0.0, 0.0, 0.0, 0.0, 0.0, 0.0, 0.0, 0.0, ...\n",
       "1  2012-08-09  ...  [0.0, 0.0, 0.0, 0.0, 0.0, 0.0, 0.0, 0.0, 0.0, ...\n",
       "2  2012-08-13  ...  [0.0, 0.0, 0.0, 0.0, 0.0, 0.0, 0.0, 0.0, 0.0, ...\n",
       "3  2012-08-22  ...  [0.0, 0.0, 0.0, 0.0, 0.0, 0.0, 0.0, 0.0, 0.0, ...\n",
       "4  2012-08-23  ...  [0.0, 0.0, 0.0, 0.0, 0.0, 0.0, 0.0, 0.0, 0.0, ...\n",
       "\n",
       "[5 rows x 6 columns]"
      ]
     },
     "execution_count": 26,
     "metadata": {
      "tags": []
     },
     "output_type": "execute_result"
    }
   ],
   "source": [
    "df_news = df_news.join(df_temp)\n",
    "df_news.head()"
   ]
  },
  {
   "cell_type": "markdown",
   "metadata": {
    "id": "ATsGq5jRAafn"
   },
   "source": [
    "## Load Stock Price Data"
   ]
  },
  {
   "cell_type": "code",
   "execution_count": null,
   "metadata": {
    "colab": {
     "base_uri": "https://localhost:8080/",
     "height": 206
    },
    "id": "ys7Vm3ylxovQ",
    "outputId": "4152d5a6-9d9d-4d80-e6d7-e51f81808b83"
   },
   "outputs": [
    {
     "data": {
      "text/html": [
       "<div>\n",
       "<style scoped>\n",
       "    .dataframe tbody tr th:only-of-type {\n",
       "        vertical-align: middle;\n",
       "    }\n",
       "\n",
       "    .dataframe tbody tr th {\n",
       "        vertical-align: top;\n",
       "    }\n",
       "\n",
       "    .dataframe thead th {\n",
       "        text-align: right;\n",
       "    }\n",
       "</style>\n",
       "<table border=\"1\" class=\"dataframe\">\n",
       "  <thead>\n",
       "    <tr style=\"text-align: right;\">\n",
       "      <th></th>\n",
       "      <th>Date</th>\n",
       "      <th>Close</th>\n",
       "    </tr>\n",
       "  </thead>\n",
       "  <tbody>\n",
       "    <tr>\n",
       "      <th>0</th>\n",
       "      <td>5/18/2012 16:00:00</td>\n",
       "      <td>213.85</td>\n",
       "    </tr>\n",
       "    <tr>\n",
       "      <th>1</th>\n",
       "      <td>5/21/2012 16:00:00</td>\n",
       "      <td>218.11</td>\n",
       "    </tr>\n",
       "    <tr>\n",
       "      <th>2</th>\n",
       "      <td>5/22/2012 16:00:00</td>\n",
       "      <td>215.33</td>\n",
       "    </tr>\n",
       "    <tr>\n",
       "      <th>3</th>\n",
       "      <td>5/23/2012 16:00:00</td>\n",
       "      <td>217.28</td>\n",
       "    </tr>\n",
       "    <tr>\n",
       "      <th>4</th>\n",
       "      <td>5/24/2012 16:00:00</td>\n",
       "      <td>215.24</td>\n",
       "    </tr>\n",
       "  </tbody>\n",
       "</table>\n",
       "</div>"
      ],
      "text/plain": [
       "                 Date   Close\n",
       "0  5/18/2012 16:00:00  213.85\n",
       "1  5/21/2012 16:00:00  218.11\n",
       "2  5/22/2012 16:00:00  215.33\n",
       "3  5/23/2012 16:00:00  217.28\n",
       "4  5/24/2012 16:00:00  215.24"
      ]
     },
     "execution_count": 27,
     "metadata": {
      "tags": []
     },
     "output_type": "execute_result"
    }
   ],
   "source": [
    "df_stock = pd.read_csv('/content/drive/MyDrive/stock_prediction/data/Stock Price - AMZN.csv', skiprows=1)\n",
    "df_stock.head()"
   ]
  },
  {
   "cell_type": "code",
   "execution_count": null,
   "metadata": {
    "id": "-cmpRK_sxovR"
   },
   "outputs": [],
   "source": [
    "df_stock['Date'] = pd.to_datetime(df_stock['Date'], infer_datetime_format=True).dt.date"
   ]
  },
  {
   "cell_type": "code",
   "execution_count": null,
   "metadata": {
    "id": "NJRb-TcyxovR"
   },
   "outputs": [],
   "source": [
    "df_stock = df_stock.set_index('Date').join(df_news.set_index('Date'))"
   ]
  },
  {
   "cell_type": "code",
   "execution_count": null,
   "metadata": {
    "id": "Euki_frfppKn"
   },
   "outputs": [],
   "source": [
    "df_stock.reset_index(inplace=True)"
   ]
  },
  {
   "cell_type": "markdown",
   "metadata": {
    "id": "cLuKm4YZGR5d"
   },
   "source": [
    "## Replace NaN TI-IDF by Zero Vector"
   ]
  },
  {
   "cell_type": "code",
   "execution_count": null,
   "metadata": {
    "id": "51AxamIxxovR"
   },
   "outputs": [],
   "source": [
    "def tfidf_zero(list_):\n",
    "    if type(list_) == float:\n",
    "        list_ = np.zeros(len(tfvec.get_feature_names()), dtype=float)\n",
    "    else:\n",
    "        list_ = np.array(list_)\n",
    "    return list_"
   ]
  },
  {
   "cell_type": "code",
   "execution_count": null,
   "metadata": {
    "id": "x4dUF8nXxovS"
   },
   "outputs": [],
   "source": [
    "df_stock['tfidf_new'] = df_stock['tfidf'].apply(lambda x: tfidf_zero(x))"
   ]
  },
  {
   "cell_type": "code",
   "execution_count": null,
   "metadata": {
    "id": "1OutCxVYxovS"
   },
   "outputs": [],
   "source": [
    "df_stock.reset_index(inplace=True)"
   ]
  },
  {
   "cell_type": "code",
   "execution_count": null,
   "metadata": {
    "colab": {
     "base_uri": "https://localhost:8080/",
     "height": 857
    },
    "id": "9aVMe-6RxovS",
    "outputId": "4274fbf5-bc38-4fe5-82e5-b297f084bc21"
   },
   "outputs": [
    {
     "data": {
      "text/html": [
       "<div>\n",
       "<style scoped>\n",
       "    .dataframe tbody tr th:only-of-type {\n",
       "        vertical-align: middle;\n",
       "    }\n",
       "\n",
       "    .dataframe tbody tr th {\n",
       "        vertical-align: top;\n",
       "    }\n",
       "\n",
       "    .dataframe thead th {\n",
       "        text-align: right;\n",
       "    }\n",
       "</style>\n",
       "<table border=\"1\" class=\"dataframe\">\n",
       "  <thead>\n",
       "    <tr style=\"text-align: right;\">\n",
       "      <th></th>\n",
       "      <th>index</th>\n",
       "      <th>Date</th>\n",
       "      <th>Close</th>\n",
       "      <th>Title</th>\n",
       "      <th>text_decont</th>\n",
       "      <th>text_no_punc</th>\n",
       "      <th>tk</th>\n",
       "      <th>tfidf</th>\n",
       "      <th>tfidf_new</th>\n",
       "    </tr>\n",
       "  </thead>\n",
       "  <tbody>\n",
       "    <tr>\n",
       "      <th>0</th>\n",
       "      <td>0</td>\n",
       "      <td>2012-05-18</td>\n",
       "      <td>213.85</td>\n",
       "      <td>NaN</td>\n",
       "      <td>NaN</td>\n",
       "      <td>NaN</td>\n",
       "      <td>NaN</td>\n",
       "      <td>NaN</td>\n",
       "      <td>[0.0, 0.0, 0.0, 0.0, 0.0, 0.0, 0.0, 0.0, 0.0, ...</td>\n",
       "    </tr>\n",
       "    <tr>\n",
       "      <th>1</th>\n",
       "      <td>1</td>\n",
       "      <td>2012-05-21</td>\n",
       "      <td>218.11</td>\n",
       "      <td>NaN</td>\n",
       "      <td>NaN</td>\n",
       "      <td>NaN</td>\n",
       "      <td>NaN</td>\n",
       "      <td>NaN</td>\n",
       "      <td>[0.0, 0.0, 0.0, 0.0, 0.0, 0.0, 0.0, 0.0, 0.0, ...</td>\n",
       "    </tr>\n",
       "    <tr>\n",
       "      <th>2</th>\n",
       "      <td>2</td>\n",
       "      <td>2012-05-22</td>\n",
       "      <td>215.33</td>\n",
       "      <td>NaN</td>\n",
       "      <td>NaN</td>\n",
       "      <td>NaN</td>\n",
       "      <td>NaN</td>\n",
       "      <td>NaN</td>\n",
       "      <td>[0.0, 0.0, 0.0, 0.0, 0.0, 0.0, 0.0, 0.0, 0.0, ...</td>\n",
       "    </tr>\n",
       "    <tr>\n",
       "      <th>3</th>\n",
       "      <td>3</td>\n",
       "      <td>2012-05-23</td>\n",
       "      <td>217.28</td>\n",
       "      <td>NaN</td>\n",
       "      <td>NaN</td>\n",
       "      <td>NaN</td>\n",
       "      <td>NaN</td>\n",
       "      <td>NaN</td>\n",
       "      <td>[0.0, 0.0, 0.0, 0.0, 0.0, 0.0, 0.0, 0.0, 0.0, ...</td>\n",
       "    </tr>\n",
       "    <tr>\n",
       "      <th>4</th>\n",
       "      <td>4</td>\n",
       "      <td>2012-05-24</td>\n",
       "      <td>215.24</td>\n",
       "      <td>NaN</td>\n",
       "      <td>NaN</td>\n",
       "      <td>NaN</td>\n",
       "      <td>NaN</td>\n",
       "      <td>NaN</td>\n",
       "      <td>[0.0, 0.0, 0.0, 0.0, 0.0, 0.0, 0.0, 0.0, 0.0, ...</td>\n",
       "    </tr>\n",
       "    <tr>\n",
       "      <th>...</th>\n",
       "      <td>...</td>\n",
       "      <td>...</td>\n",
       "      <td>...</td>\n",
       "      <td>...</td>\n",
       "      <td>...</td>\n",
       "      <td>...</td>\n",
       "      <td>...</td>\n",
       "      <td>...</td>\n",
       "      <td>...</td>\n",
       "    </tr>\n",
       "    <tr>\n",
       "      <th>2275</th>\n",
       "      <td>2275</td>\n",
       "      <td>2021-06-04</td>\n",
       "      <td>3206.22</td>\n",
       "      <td>NaN</td>\n",
       "      <td>NaN</td>\n",
       "      <td>NaN</td>\n",
       "      <td>NaN</td>\n",
       "      <td>NaN</td>\n",
       "      <td>[0.0, 0.0, 0.0, 0.0, 0.0, 0.0, 0.0, 0.0, 0.0, ...</td>\n",
       "    </tr>\n",
       "    <tr>\n",
       "      <th>2276</th>\n",
       "      <td>2276</td>\n",
       "      <td>2021-06-07</td>\n",
       "      <td>3198.01</td>\n",
       "      <td>Global G7 deal may let Amazon off hook on tax,...</td>\n",
       "      <td>global g7 deal may let amazon off hook on tax,...</td>\n",
       "      <td>global g7 deal may let amazon off hook on tax ...</td>\n",
       "      <td>[global, g7, deal, may, let, amazon, off, hook...</td>\n",
       "      <td>[0.0, 0.19598984355879878, 0.0, 0.0, 0.0, 0.0,...</td>\n",
       "      <td>[0.0, 0.19598984355879878, 0.0, 0.0, 0.0, 0.0,...</td>\n",
       "    </tr>\n",
       "    <tr>\n",
       "      <th>2277</th>\n",
       "      <td>2277</td>\n",
       "      <td>2021-06-08</td>\n",
       "      <td>3264.11</td>\n",
       "      <td>Jeff Bezos to go into space on first crewed fl...</td>\n",
       "      <td>jeff bezos to go into space on first crewed fl...</td>\n",
       "      <td>jeff bezos to go into space on first crewed fl...</td>\n",
       "      <td>[jeff, bezos, to, go, into, space, on, first, ...</td>\n",
       "      <td>[0.0, 0.0, 0.0, 0.0, 0.0, 0.0, 0.0, 0.0, 0.0, ...</td>\n",
       "      <td>[0.0, 0.0, 0.0, 0.0, 0.0, 0.0, 0.0, 0.0, 0.0, ...</td>\n",
       "    </tr>\n",
       "    <tr>\n",
       "      <th>2278</th>\n",
       "      <td>2278</td>\n",
       "      <td>2021-06-09</td>\n",
       "      <td>3281.15</td>\n",
       "      <td>What caused the internet outage that brought d...</td>\n",
       "      <td>what caused the internet outage that brought d...</td>\n",
       "      <td>what caused the internet outage that brought d...</td>\n",
       "      <td>[what, caused, the, internet, outage, that, br...</td>\n",
       "      <td>[0.0, 0.0, 0.0, 0.0, 0.0, 0.0, 0.0, 0.0, 0.0, ...</td>\n",
       "      <td>[0.0, 0.0, 0.0, 0.0, 0.0, 0.0, 0.0, 0.0, 0.0, ...</td>\n",
       "    </tr>\n",
       "    <tr>\n",
       "      <th>2279</th>\n",
       "      <td>2279</td>\n",
       "      <td>2021-06-10</td>\n",
       "      <td>3349.65</td>\n",
       "      <td>NaN</td>\n",
       "      <td>NaN</td>\n",
       "      <td>NaN</td>\n",
       "      <td>NaN</td>\n",
       "      <td>NaN</td>\n",
       "      <td>[0.0, 0.0, 0.0, 0.0, 0.0, 0.0, 0.0, 0.0, 0.0, ...</td>\n",
       "    </tr>\n",
       "  </tbody>\n",
       "</table>\n",
       "<p>2280 rows × 9 columns</p>\n",
       "</div>"
      ],
      "text/plain": [
       "      index  ...                                          tfidf_new\n",
       "0         0  ...  [0.0, 0.0, 0.0, 0.0, 0.0, 0.0, 0.0, 0.0, 0.0, ...\n",
       "1         1  ...  [0.0, 0.0, 0.0, 0.0, 0.0, 0.0, 0.0, 0.0, 0.0, ...\n",
       "2         2  ...  [0.0, 0.0, 0.0, 0.0, 0.0, 0.0, 0.0, 0.0, 0.0, ...\n",
       "3         3  ...  [0.0, 0.0, 0.0, 0.0, 0.0, 0.0, 0.0, 0.0, 0.0, ...\n",
       "4         4  ...  [0.0, 0.0, 0.0, 0.0, 0.0, 0.0, 0.0, 0.0, 0.0, ...\n",
       "...     ...  ...                                                ...\n",
       "2275   2275  ...  [0.0, 0.0, 0.0, 0.0, 0.0, 0.0, 0.0, 0.0, 0.0, ...\n",
       "2276   2276  ...  [0.0, 0.19598984355879878, 0.0, 0.0, 0.0, 0.0,...\n",
       "2277   2277  ...  [0.0, 0.0, 0.0, 0.0, 0.0, 0.0, 0.0, 0.0, 0.0, ...\n",
       "2278   2278  ...  [0.0, 0.0, 0.0, 0.0, 0.0, 0.0, 0.0, 0.0, 0.0, ...\n",
       "2279   2279  ...  [0.0, 0.0, 0.0, 0.0, 0.0, 0.0, 0.0, 0.0, 0.0, ...\n",
       "\n",
       "[2280 rows x 9 columns]"
      ]
     },
     "execution_count": 34,
     "metadata": {
      "tags": []
     },
     "output_type": "execute_result"
    }
   ],
   "source": [
    "df_stock"
   ]
  },
  {
   "cell_type": "markdown",
   "metadata": {
    "id": "9siJkLGKtLk5"
   },
   "source": [
    "# 3. Train-test split"
   ]
  },
  {
   "cell_type": "code",
   "execution_count": null,
   "metadata": {
    "id": "bHMAdCQpr324"
   },
   "outputs": [],
   "source": [
    "df_stock = df_stock.fillna('')"
   ]
  },
  {
   "cell_type": "code",
   "execution_count": null,
   "metadata": {
    "colab": {
     "base_uri": "https://localhost:8080/"
    },
    "id": "C7t1ZxxOtLk5",
    "outputId": "69f289b7-ad63-4f73-cff5-0281f95e45a2"
   },
   "outputs": [
    {
     "name": "stdout",
     "output_type": "stream",
     "text": [
      "Training set: 1917 accounted for  84.07894736842105 %\n",
      "Val set: 168 accounted for  7.368421052631578 %\n",
      "Test set: 195 accounted for  8.552631578947368 %\n"
     ]
    },
    {
     "name": "stderr",
     "output_type": "stream",
     "text": [
      "/usr/local/lib/python3.7/dist-packages/ipykernel_launcher.py:4: UserWarning: Boolean Series key will be reindexed to match DataFrame index.\n",
      "  after removing the cwd from sys.path.\n"
     ]
    }
   ],
   "source": [
    "df_stock['Date'] = pd.to_datetime(df_stock['Date'], format='%Y-%m-%d')\n",
    "\n",
    "train_data = df_stock[df_stock['Date'] < '2020-01-01'].copy()\n",
    "val_data = df_stock[df_stock['Date'] < '2020-09-01'][df_stock['Date'] > '2019-12-31'].copy()\n",
    "test_data = df_stock[df_stock['Date'] > '2020-08-31'].copy()\n",
    "\n",
    "val_data = val_data.set_index('Date')\n",
    "train_data = train_data.set_index('Date')\n",
    "test_data = test_data.set_index('Date')\n",
    "\n",
    "print('Training set:', train_data.shape[0], 'accounted for ',train_data.shape[0]/df_stock.shape[0]*100,'%')\n",
    "print('Val set:', val_data.shape[0], 'accounted for ',val_data.shape[0]/df_stock.shape[0]*100,'%')\n",
    "print('Test set:', test_data.shape[0], 'accounted for ',test_data.shape[0]/df_stock.shape[0]*100,'%')"
   ]
  },
  {
   "cell_type": "markdown",
   "metadata": {
    "id": "bhydodn6tLk6"
   },
   "source": [
    "# 4. Historical Price\n",
    "## Data normalization"
   ]
  },
  {
   "cell_type": "code",
   "execution_count": null,
   "metadata": {
    "id": "3EhdO4iX_PUU"
   },
   "outputs": [],
   "source": [
    "# Scaling the training set\n",
    "transform_train = {}\n",
    "transform_val = {}\n",
    "transform_test = {}\n",
    "scaled_aa = {}\n",
    "scaler = {}\n",
    "\n",
    "sc = MinMaxScaler(feature_range=(0,1))\n",
    "\n",
    "aa = np.array(df_stock.Close)\n",
    "aa = aa.reshape(aa.shape[0],1)\n",
    "\n",
    "a0 = np.array(train_data.Close)\n",
    "a1 = np.array(test_data.Close)\n",
    "a2 = np.array(val_data.Close)\n",
    "\n",
    "a0 = a0.reshape(a0.shape[0],1)\n",
    "a1 = a1.reshape(a1.shape[0],1)\n",
    "a2 = a2.reshape(a2.shape[0],1)\n",
    "\n",
    "scaled_aa = sc.fit_transform(aa)\n",
    "\n",
    "transform_train = sc.transform(a0)\n",
    "transform_test = sc.transform(a1)\n",
    "transform_val = sc.transform(a2)\n",
    "\n",
    "scaler = sc\n",
    "    \n",
    "del aa\n",
    "del a0\n",
    "del a1\n",
    "del a2"
   ]
  },
  {
   "cell_type": "markdown",
   "metadata": {
    "id": "lCVZXWURtLk6"
   },
   "source": [
    "## Windowing Input Data"
   ]
  },
  {
   "cell_type": "code",
   "execution_count": null,
   "metadata": {
    "id": "bVoL395QtLk7"
   },
   "outputs": [],
   "source": [
    "#windowing size\n",
    "n_lags = int(60)\n",
    "\n",
    "trainset = {}\n",
    "testset = {}\n",
    "valset = {}\n",
    "    \n",
    "X_train = []\n",
    "y_train = []\n",
    "for i in range(n_lags,train_data.shape[0]):\n",
    "    X_train.append(transform_train[i-n_lags:i])\n",
    "    y_train.append(transform_train[i])\n",
    "X_train, y_train = np.array(X_train), np.array(y_train)\n",
    "trainset[\"X\"] = np.reshape(X_train, (X_train.shape[0],X_train.shape[1],1))\n",
    "trainset[\"y\"] = y_train\n",
    "\n",
    "X_test = []\n",
    "y_test = []    \n",
    "for i in range(n_lags, test_data.shape[0]):\n",
    "    X_test.append(transform_test[i-n_lags:i])\n",
    "    y_test.append(transform_test[i])\n",
    "X_test, y_test = np.array(X_test), np.array(y_test)\n",
    "testset[\"X\"] = np.reshape(X_test, (X_test.shape[0], X_test.shape[1], 1))\n",
    "testset[\"y\"] = y_test\n",
    "\n",
    "X_val = []\n",
    "y_val = []    \n",
    "for i in range(n_lags, val_data.shape[0]):\n",
    "    X_val.append(transform_val[i-n_lags:i])\n",
    "    y_val.append(transform_val[i])\n",
    "X_val, y_val = np.array(X_val), np.array(y_val)\n",
    "valset[\"X\"] = np.reshape(X_val, (X_val.shape[0], X_val.shape[1], 1))\n",
    "valset[\"y\"] = y_val"
   ]
  },
  {
   "cell_type": "code",
   "execution_count": null,
   "metadata": {
    "colab": {
     "base_uri": "https://localhost:8080/",
     "height": 81
    },
    "id": "QVwy1UDUtLk7",
    "outputId": "f1b43de0-3827-4398-e3f3-6a7170dc4f2a"
   },
   "outputs": [
    {
     "data": {
      "text/html": [
       "<div>\n",
       "<style scoped>\n",
       "    .dataframe tbody tr th:only-of-type {\n",
       "        vertical-align: middle;\n",
       "    }\n",
       "\n",
       "    .dataframe tbody tr th {\n",
       "        vertical-align: top;\n",
       "    }\n",
       "\n",
       "    .dataframe thead th {\n",
       "        text-align: right;\n",
       "    }\n",
       "</style>\n",
       "<table border=\"1\" class=\"dataframe\">\n",
       "  <thead>\n",
       "    <tr style=\"text-align: right;\">\n",
       "      <th></th>\n",
       "      <th>X_train</th>\n",
       "      <th>y_train</th>\n",
       "      <th>X_test</th>\n",
       "      <th>y_test</th>\n",
       "      <th>X_val</th>\n",
       "      <th>y_val</th>\n",
       "    </tr>\n",
       "  </thead>\n",
       "  <tbody>\n",
       "    <tr>\n",
       "      <th>0</th>\n",
       "      <td>(1857, 60, 1)</td>\n",
       "      <td>(1857, 1)</td>\n",
       "      <td>(135, 60, 1)</td>\n",
       "      <td>(135, 1)</td>\n",
       "      <td>(108, 60, 1)</td>\n",
       "      <td>(108, 1)</td>\n",
       "    </tr>\n",
       "  </tbody>\n",
       "</table>\n",
       "</div>"
      ],
      "text/plain": [
       "         X_train    y_train        X_test    y_test         X_val     y_val\n",
       "0  (1857, 60, 1)  (1857, 1)  (135, 60, 1)  (135, 1)  (108, 60, 1)  (108, 1)"
      ]
     },
     "execution_count": 39,
     "metadata": {
      "tags": []
     },
     "output_type": "execute_result"
    }
   ],
   "source": [
    "# Check the shape (again) before start training\n",
    "arr_buff = []\n",
    "buff = {}\n",
    "buff[\"X_train\"] = trainset[\"X\"].shape\n",
    "buff[\"y_train\"] = trainset[\"y\"].shape\n",
    "buff[\"X_test\"] = testset[\"X\"].shape\n",
    "buff[\"y_test\"] = testset[\"y\"].shape\n",
    "buff[\"X_val\"] = valset[\"X\"].shape\n",
    "buff[\"y_val\"] = valset[\"y\"].shape\n",
    "arr_buff.append(buff)\n",
    "\n",
    "pd.DataFrame(arr_buff)"
   ]
  },
  {
   "cell_type": "markdown",
   "metadata": {
    "id": "1Xt6Xl5wsmJr"
   },
   "source": [
    "# 5. Word Embedding"
   ]
  },
  {
   "cell_type": "code",
   "execution_count": null,
   "metadata": {
    "id": "wHTJjObIoRkQ"
   },
   "outputs": [],
   "source": [
    "import gensim\n",
    "from gensim.models import Word2Vec\n",
    "#setting\n",
    "vector_dim = 750\n",
    "window_size = 5\n",
    "min_count = 1\n",
    "training_iter = 20\n",
    "\n",
    "#model\n",
    "word2vec_model = Word2Vec(sentences=df_news.tk.values, size=vector_dim, window=window_size, \n",
    "                          min_count=min_count, iter=training_iter)"
   ]
  },
  {
   "cell_type": "code",
   "execution_count": null,
   "metadata": {
    "id": "BeaJ9I4KokqD"
   },
   "outputs": [],
   "source": [
    "#save model in ASCII (word2vec) format\n",
    "filename = '/content/drive/MyDrive/stock_prediction/AMZN/embedding_word2vec.txt'\n",
    "word2vec_model.wv.save_word2vec_format(filename, binary=False)"
   ]
  },
  {
   "cell_type": "code",
   "execution_count": null,
   "metadata": {
    "id": "5-GvPX6ko82w"
   },
   "outputs": [],
   "source": [
    "from keras.preprocessing.text import Tokenizer\n",
    "from keras.preprocessing.sequence import pad_sequences\n",
    "\n",
    "#find the longest tweet and use its length as number of embedding features\n",
    "maxlen = max([len(s.split()) for s in train_data.text_no_punc[n_lags:]])\n",
    "\n",
    "#tokenizer, sequence & padding\n",
    "tokenizer = Tokenizer()\n",
    "tokenizer.fit_on_texts(train_data.text_no_punc)\n",
    "xtrain_word_index = tokenizer.word_index\n",
    "xtrain_sequences = tokenizer.texts_to_sequences(train_data.text_no_punc[n_lags:])\n",
    "news_train = pad_sequences(xtrain_sequences, maxlen, padding='pre')\n",
    "news_test = pad_sequences(tokenizer.texts_to_sequences(test_data.text_no_punc[n_lags:].str.lower())\n",
    "                       ,maxlen, padding='pre')\n",
    "news_val = pad_sequences(tokenizer.texts_to_sequences(val_data.text_no_punc[n_lags:].str.lower())\n",
    "                       ,maxlen, padding='pre')"
   ]
  },
  {
   "cell_type": "code",
   "execution_count": null,
   "metadata": {
    "colab": {
     "base_uri": "https://localhost:8080/"
    },
    "id": "uUE7Uu7W8JQk",
    "outputId": "591fb456-2aff-40a9-a348-8c14536a0afc"
   },
   "outputs": [
    {
     "data": {
      "text/plain": [
       "44"
      ]
     },
     "execution_count": 43,
     "metadata": {
      "tags": []
     },
     "output_type": "execute_result"
    }
   ],
   "source": [
    "maxlen"
   ]
  },
  {
   "cell_type": "code",
   "execution_count": null,
   "metadata": {
    "colab": {
     "base_uri": "https://localhost:8080/"
    },
    "id": "LnimwBeVtfis",
    "outputId": "11b1452b-09bb-4934-f418-62a825d65029"
   },
   "outputs": [
    {
     "data": {
      "text/plain": [
       "(1857, 44)"
      ]
     },
     "execution_count": 44,
     "metadata": {
      "tags": []
     },
     "output_type": "execute_result"
    }
   ],
   "source": [
    "news_train.shape"
   ]
  },
  {
   "cell_type": "markdown",
   "metadata": {
    "id": "czwrwYUssijt"
   },
   "source": [
    "## Load Pre-trained Word Embedding"
   ]
  },
  {
   "cell_type": "code",
   "execution_count": null,
   "metadata": {
    "colab": {
     "base_uri": "https://localhost:8080/"
    },
    "id": "xL7z9-sRsq-x",
    "outputId": "8dabd4a8-792d-403c-e1b0-d533da025232"
   },
   "outputs": [
    {
     "name": "stdout",
     "output_type": "stream",
     "text": [
      "Converted 1671 words (1 misses)\n"
     ]
    }
   ],
   "source": [
    "#load embedding as a dict\n",
    "def load_embedding(filename):\n",
    "    # load embedding into memory, skip first line\n",
    "    file = open(filename,'r')\n",
    "    lines = file.readlines()[1:]\n",
    "    file.close()\n",
    "    # create a map of words to vectors\n",
    "    embedding = dict()\n",
    "    for line in lines:\n",
    "        parts = line.split()\n",
    "        # key is string word, value is numpy array for vector\n",
    "        embedding[parts[0]] = np.asarray(parts[1:], dtype='float32')\n",
    "    return embedding\n",
    "\n",
    "# create a weight matrix for the Embedding layer from a loaded embedding\n",
    "def get_weight_matrix(embedding, vocab):\n",
    "    # total vocabulary size plus 0 for unknown words\n",
    "    vocab_size = len(vocab) + 1\n",
    "    # define weight matrix dimensions with all 0\n",
    "    weight_matrix = np.zeros((vocab_size, vector_dim))\n",
    "    # step vocab, store vectors using the Tokenizer's integer mapping\n",
    "    hits = 0\n",
    "    misses = 0\n",
    "    for word, i in vocab.items():\n",
    "        embedding_vector = embedding.get(word)\n",
    "        if embedding_vector is not None:\n",
    "            # Words not found in embedding index will be all-zeros.\n",
    "            weight_matrix[i] = embedding_vector\n",
    "            hits += 1\n",
    "        else:\n",
    "            misses += 1\n",
    "    print(\"Converted %d words (%d misses)\" % (hits, misses))\n",
    "    return weight_matrix, vocab_size\n",
    "\n",
    "# load embedding from pre-trained embedding file\n",
    "raw_embedding = load_embedding('/content/drive/MyDrive/stock_prediction/AMZN/embedding_word2vec.txt')\n",
    "\n",
    "# get vectors in the right order\n",
    "embedding_vectors, vocab_size = get_weight_matrix(raw_embedding, tokenizer.word_index)"
   ]
  },
  {
   "cell_type": "markdown",
   "metadata": {
    "id": "SywMtgMKxovV"
   },
   "source": [
    "# 6. Seq2seq Model with Word2Vec"
   ]
  },
  {
   "cell_type": "code",
   "execution_count": null,
   "metadata": {
    "colab": {
     "base_uri": "https://localhost:8080/"
    },
    "id": "pE3BXAb8xovV",
    "outputId": "42c1e177-c770-4934-8b23-5c9df38ed262"
   },
   "outputs": [
    {
     "name": "stdout",
     "output_type": "stream",
     "text": [
      "CPU times: user 2.12 s, sys: 375 ms, total: 2.5 s\n",
      "Wall time: 6.44 s\n"
     ]
    }
   ],
   "source": [
    "%%time\n",
    "# LSTM architecture\n",
    "# FIRST BRANCH operates on the first input\n",
    "# 1st layer with Dropout regularisation\n",
    "lstm_input = Input(shape=(X_train.shape[1],1))\n",
    "x = Bidirectional(GRU(units=60, return_sequences=True))(lstm_input)\n",
    "x = Dropout(0.2)(x)\n",
    "\n",
    "# 2nd LSTM layer\n",
    "x = GRU(units=60)(x)\n",
    "x = Dropout(0.2)(x)\n",
    "\n",
    "lstm_branch = Model(inputs=lstm_input, outputs=x)\n",
    "\n",
    "# SECOND BRANCH operates on the first input\n",
    "embedding_layer = Embedding(vocab_size, vector_dim, weights=[embedding_vectors]\n",
    "                            ,input_length=maxlen, trainable=False)\n",
    "sequence_input = Input(shape=(maxlen,), dtype='int32')\n",
    "embedded_sequences = embedding_layer(sequence_input)\n",
    "\n",
    "y = Bidirectional(GRU(units=64, return_sequences=True))(embedded_sequences)\n",
    "y = Dropout(0.2)(y)\n",
    "y = GRU(units=64, return_sequences=True)(y)\n",
    "y = Dropout(0.2)(y)\n",
    "y = GRU(units=64)(y)\n",
    "y = Dropout(0.2)(y)\n",
    "news_branch = Model(inputs=sequence_input, outputs=y)\n",
    "\n",
    "# combine the output of the two branches\n",
    "combined = concatenate([lstm_branch.output, news_branch.output], name='combined')\n",
    "# Output layer\n",
    "z = Dense(25)(combined)\n",
    "z = Dense(1)(z)\n",
    "multi_model = Model(inputs=[lstm_branch.input, news_branch.input], outputs=z)\n",
    "\n",
    "# Compiling\n",
    "multi_model.compile(optimizer='adam', loss='mean_squared_error')"
   ]
  },
  {
   "cell_type": "code",
   "execution_count": null,
   "metadata": {
    "colab": {
     "base_uri": "https://localhost:8080/",
     "height": 1000
    },
    "id": "dHlWWHzqxovW",
    "outputId": "970cccc8-8060-4a2c-eeb0-9ef39f7294b0"
   },
   "outputs": [
    {
     "data": {
      "image/png": "[encoded data removed]",
      "text/plain": [
       "<IPython.core.display.Image object>"
      ]
     },
     "execution_count": 47,
     "metadata": {
      "tags": []
     },
     "output_type": "execute_result"
    }
   ],
   "source": [
    "from tensorflow.keras.utils import plot_model\n",
    "plot_model(multi_model, show_shapes=True)"
   ]
  },
  {
   "cell_type": "code",
   "execution_count": null,
   "metadata": {
    "colab": {
     "base_uri": "https://localhost:8080/"
    },
    "id": "-TkrNo22xovW",
    "outputId": "38fe929c-a8cd-4d46-bd4f-405ba944b247"
   },
   "outputs": [
    {
     "name": "stderr",
     "output_type": "stream",
     "text": [
      "/usr/local/lib/python3.7/dist-packages/tensorflow/python/data/ops/dataset_ops.py:3704: UserWarning: Even though the `tf.config.experimental_run_functions_eagerly` option is set, this option does not apply to tf.data functions. To force eager execution of tf.data functions, please use `tf.data.experimental.enable.debug_mode()`.\n",
      "  \"Even though the `tf.config.experimental_run_functions_eagerly` \"\n"
     ]
    },
    {
     "name": "stdout",
     "output_type": "stream",
     "text": [
      "Epoch 1/100\n",
      "30/30 [==============================] - 10s 117ms/step - loss: 0.0212 - val_loss: 0.0052\n",
      "Epoch 2/100\n",
      "30/30 [==============================] - 4s 119ms/step - loss: 9.5622e-04 - val_loss: 7.0557e-04\n",
      "Epoch 3/100\n",
      "30/30 [==============================] - 4s 119ms/step - loss: 0.0011 - val_loss: 0.0013\n",
      "Epoch 4/100\n",
      "30/30 [==============================] - 4s 118ms/step - loss: 7.1500e-04 - val_loss: 6.7607e-04\n",
      "Epoch 5/100\n",
      "30/30 [==============================] - 4s 118ms/step - loss: 4.3333e-04 - val_loss: 0.0019\n",
      "Epoch 6/100\n",
      "30/30 [==============================] - 4s 119ms/step - loss: 5.2051e-04 - val_loss: 4.7364e-04\n",
      "Epoch 7/100\n",
      "30/30 [==============================] - 4s 119ms/step - loss: 4.3972e-04 - val_loss: 0.0016\n",
      "Epoch 8/100\n",
      "30/30 [==============================] - 4s 118ms/step - loss: 3.3950e-04 - val_loss: 0.0013\n",
      "Epoch 9/100\n",
      "30/30 [==============================] - 4s 117ms/step - loss: 4.3130e-04 - val_loss: 5.7559e-04\n",
      "Epoch 10/100\n",
      "30/30 [==============================] - 3s 116ms/step - loss: 4.4074e-04 - val_loss: 4.7094e-04\n",
      "Epoch 11/100\n",
      "30/30 [==============================] - 4s 117ms/step - loss: 3.7535e-04 - val_loss: 5.4425e-04\n",
      "Epoch 12/100\n",
      "30/30 [==============================] - 4s 117ms/step - loss: 3.3089e-04 - val_loss: 4.7077e-04\n",
      "Epoch 13/100\n",
      "30/30 [==============================] - 3s 117ms/step - loss: 3.3230e-04 - val_loss: 7.4021e-04\n",
      "Epoch 14/100\n",
      "30/30 [==============================] - 4s 118ms/step - loss: 2.9369e-04 - val_loss: 5.5160e-04\n",
      "Epoch 15/100\n",
      "30/30 [==============================] - 4s 118ms/step - loss: 2.8565e-04 - val_loss: 0.0016\n",
      "Epoch 16/100\n",
      "30/30 [==============================] - 3s 116ms/step - loss: 2.8659e-04 - val_loss: 5.5196e-04\n",
      "Epoch 17/100\n",
      "30/30 [==============================] - 3s 116ms/step - loss: 2.9257e-04 - val_loss: 5.7104e-04\n"
     ]
    },
    {
     "data": {
      "text/plain": [
       "<keras.callbacks.History at 0x7f470049b5d0>"
      ]
     },
     "execution_count": 48,
     "metadata": {
      "tags": []
     },
     "output_type": "execute_result"
    }
   ],
   "source": [
    "from keras.callbacks import CSVLogger\n",
    "logger_filename = '/content/drive/MyDrive/stock_prediction/AMZN/training_log_seq2seq_model.csv'\n",
    "\n",
    "my_callback = [\n",
    "               EarlyStopping(patience=5,monitor='val_loss'),\n",
    "               CSVLogger(filename=logger_filename)\n",
    "\n",
    "]\n",
    "\n",
    "# training setting\n",
    "epochs = 100\n",
    "batch_size = 64\n",
    "\n",
    "# Fitting to the training set\n",
    "multi_model.fit([trainset['X'], news_train], trainset['y'], epochs=epochs, batch_size=batch_size, callbacks=my_callback\n",
    "                              , validation_data=([valset['X'], news_val], valset['y']))"
   ]
  },
  {
   "cell_type": "code",
   "execution_count": null,
   "metadata": {
    "id": "tMPqYLQsxovW"
   },
   "outputs": [],
   "source": [
    "multi_model.save('/content/drive/MyDrive/stock_prediction/AMZN/stock_pred_seq2seq_model.h5')"
   ]
  },
  {
   "cell_type": "markdown",
   "metadata": {
    "id": "kll2CRCAxovX"
   },
   "source": [
    "## Evaluation"
   ]
  },
  {
   "cell_type": "code",
   "execution_count": null,
   "metadata": {
    "colab": {
     "base_uri": "https://localhost:8080/",
     "height": 298
    },
    "id": "nKE4ScqExovX",
    "outputId": "78a20522-b8c7-4c7d-c69a-c3f5eeac355b"
   },
   "outputs": [
    {
     "name": "stderr",
     "output_type": "stream",
     "text": [
      "/usr/local/lib/python3.7/dist-packages/tensorflow/python/data/ops/dataset_ops.py:3704: UserWarning: Even though the `tf.config.experimental_run_functions_eagerly` option is set, this option does not apply to tf.data functions. To force eager execution of tf.data functions, please use `tf.data.experimental.enable.debug_mode()`.\n",
      "  \"Even though the `tf.config.experimental_run_functions_eagerly` \"\n",
      "/usr/local/lib/python3.7/dist-packages/tensorflow/python/data/ops/dataset_ops.py:3704: UserWarning: Even though the `tf.config.experimental_run_functions_eagerly` option is set, this option does not apply to tf.data functions. To force eager execution of tf.data functions, please use `tf.data.experimental.enable.debug_mode()`.\n",
      "  \"Even though the `tf.config.experimental_run_functions_eagerly` \"\n",
      "/usr/local/lib/python3.7/dist-packages/tensorflow/python/data/ops/dataset_ops.py:3704: UserWarning: Even though the `tf.config.experimental_run_functions_eagerly` option is set, this option does not apply to tf.data functions. To force eager execution of tf.data functions, please use `tf.data.experimental.enable.debug_mode()`.\n",
      "  \"Even though the `tf.config.experimental_run_functions_eagerly` \"\n"
     ]
    },
    {
     "data": {
      "text/plain": [
       "<matplotlib.legend.Legend at 0x7f46f3cbf9d0>"
      ]
     },
     "execution_count": 50,
     "metadata": {
      "tags": []
     },
     "output_type": "execute_result"
    },
    {
     "data": {
      "image/png": "[encoded data removed]",
      "text/plain": [
       "<Figure size 864x144 with 1 Axes>"
      ]
     },
     "metadata": {
      "needs_background": "light",
      "tags": []
     },
     "output_type": "display_data"
    }
   ],
   "source": [
    "def calculate_mse_multi(scaler, y_input, x_input, w2v):\n",
    "    y_pred = multi_model.predict([x_input, w2v])\n",
    "    MSE = mean_squared_error(y_input, y_pred)\n",
    "\n",
    "    y_true = scaler.inverse_transform(y_input.reshape(-1,1))\n",
    "    y_pred = scaler.inverse_transform(y_pred)\n",
    "\n",
    "    real_mse = np.mean(np.square(y_true - y_pred))\n",
    "    scaled_mse = real_mse/(np.max(y_true) - np.min(y_true)) * 100\n",
    "\n",
    "    return MSE, scaled_mse, y_true, y_pred\n",
    "\n",
    "train_MSE, train_scaled_mse, train_y, train_y_pred = calculate_mse_multi(scaler, trainset[\"y\"], trainset[\"X\"], news_train)\n",
    "val_MSE, val_scaled_mse, val_y, val_y_pred = calculate_mse_multi(scaler, valset[\"y\"], valset[\"X\"], news_val)\n",
    "test_MSE, test_scaled_mse, test_y, test_y_pred = calculate_mse_multi(scaler, testset[\"y\"], testset[\"X\"], news_test)\n",
    "\n",
    "y_true = np.vstack((test_y))\n",
    "y_pred = np.vstack((test_y_pred))\n",
    "\n",
    "\n",
    "mse = {}\n",
    "mse[\"train\"] = train_MSE\n",
    "mse[\"val\"] = val_MSE\n",
    "mse[\"test\"] = test_MSE\n",
    "\n",
    "scaled_mse = {}\n",
    "scaled_mse[\"train\"] = train_scaled_mse\n",
    "scaled_mse[\"val\"] = val_scaled_mse\n",
    "scaled_mse[\"test\"] = test_scaled_mse\n",
    "\n",
    "pred_result = {}\n",
    "pred_result[\"True\"] = test_y\n",
    "pred_result[\"Pred\"] = test_y_pred\n",
    "\n",
    "plt.figure(figsize=(12,2))\n",
    "plt.plot(y_true)\n",
    "plt.plot(y_pred)\n",
    "plt.legend(['y_true','y_pred'])"
   ]
  },
  {
   "cell_type": "code",
   "execution_count": null,
   "metadata": {
    "colab": {
     "base_uri": "https://localhost:8080/"
    },
    "id": "UmFUyMmivy7Z",
    "outputId": "9a584013-03f8-4598-9b69-7ec40b53ac21"
   },
   "outputs": [
    {
     "data": {
      "text/plain": [
       "{'test': 0.00034011144766184594,\n",
       " 'train': 5.0228610714754444e-05,\n",
       " 'val': 0.000571042282481627}"
      ]
     },
     "execution_count": 51,
     "metadata": {
      "tags": []
     },
     "output_type": "execute_result"
    }
   ],
   "source": [
    "mse"
   ]
  },
  {
   "cell_type": "code",
   "execution_count": null,
   "metadata": {
    "colab": {
     "base_uri": "https://localhost:8080/"
    },
    "id": "AOv2n_6dv0sG",
    "outputId": "1567a402-c471-487b-a126-4a8af1ea216c"
   },
   "outputs": [
    {
     "data": {
      "text/plain": [
       "{'test': 723.2248904278695,\n",
       " 'train': 30.4972589402191,\n",
       " 'val': 408.3546759547893}"
      ]
     },
     "execution_count": 52,
     "metadata": {
      "tags": []
     },
     "output_type": "execute_result"
    }
   ],
   "source": [
    "scaled_mse"
   ]
  },
  {
   "cell_type": "markdown",
   "metadata": {
    "id": "VNEN_1JhQIPR"
   },
   "source": [
    "## Prediction"
   ]
  },
  {
   "cell_type": "markdown",
   "metadata": {
    "id": "NX8FjfUUS80B"
   },
   "source": [
    "**Definition:**\n",
    "\n",
    "◦ **Rise (0):** CP of Today > CP of Yesterday , Change Rate > 1.5 %\n",
    "\n",
    "◦ **Remain Stable (1):** Change Rate ≤ 1.5 %\n",
    "\n",
    "◦ **Fall (2):** CP of Today < CP of Yesterday , Change Rate > 1.5 %"
   ]
  },
  {
   "cell_type": "code",
   "execution_count": null,
   "metadata": {
    "colab": {
     "base_uri": "https://localhost:8080/",
     "height": 206
    },
    "id": "mr6bJLvzLZsC",
    "outputId": "a92108e4-9bb3-42d0-d3b2-bab10907cf8d"
   },
   "outputs": [
    {
     "data": {
      "text/html": [
       "<div>\n",
       "<style scoped>\n",
       "    .dataframe tbody tr th:only-of-type {\n",
       "        vertical-align: middle;\n",
       "    }\n",
       "\n",
       "    .dataframe tbody tr th {\n",
       "        vertical-align: top;\n",
       "    }\n",
       "\n",
       "    .dataframe thead th {\n",
       "        text-align: right;\n",
       "    }\n",
       "</style>\n",
       "<table border=\"1\" class=\"dataframe\">\n",
       "  <thead>\n",
       "    <tr style=\"text-align: right;\">\n",
       "      <th></th>\n",
       "      <th>Pred</th>\n",
       "      <th>True</th>\n",
       "      <th>His_True</th>\n",
       "      <th>His_Pred</th>\n",
       "      <th>Pred_change_rate</th>\n",
       "      <th>True_change_rate</th>\n",
       "    </tr>\n",
       "  </thead>\n",
       "  <tbody>\n",
       "    <tr>\n",
       "      <th>130</th>\n",
       "      <td>3194.441162</td>\n",
       "      <td>3206.22</td>\n",
       "      <td>3187.01</td>\n",
       "      <td>3209.249756</td>\n",
       "      <td>0.461435</td>\n",
       "      <td>0.602759</td>\n",
       "    </tr>\n",
       "    <tr>\n",
       "      <th>131</th>\n",
       "      <td>3210.461426</td>\n",
       "      <td>3198.01</td>\n",
       "      <td>3206.22</td>\n",
       "      <td>3194.441162</td>\n",
       "      <td>0.501504</td>\n",
       "      <td>0.256065</td>\n",
       "    </tr>\n",
       "    <tr>\n",
       "      <th>132</th>\n",
       "      <td>3194.115723</td>\n",
       "      <td>3264.11</td>\n",
       "      <td>3198.01</td>\n",
       "      <td>3210.461426</td>\n",
       "      <td>0.509139</td>\n",
       "      <td>2.066910</td>\n",
       "    </tr>\n",
       "    <tr>\n",
       "      <th>133</th>\n",
       "      <td>3219.742676</td>\n",
       "      <td>3281.15</td>\n",
       "      <td>3264.11</td>\n",
       "      <td>3194.115723</td>\n",
       "      <td>0.802318</td>\n",
       "      <td>0.522041</td>\n",
       "    </tr>\n",
       "    <tr>\n",
       "      <th>134</th>\n",
       "      <td>3224.546875</td>\n",
       "      <td>3349.65</td>\n",
       "      <td>3281.15</td>\n",
       "      <td>3219.742676</td>\n",
       "      <td>0.149211</td>\n",
       "      <td>2.087683</td>\n",
       "    </tr>\n",
       "  </tbody>\n",
       "</table>\n",
       "</div>"
      ],
      "text/plain": [
       "            Pred     True  ...  Pred_change_rate  True_change_rate\n",
       "130  3194.441162  3206.22  ...          0.461435          0.602759\n",
       "131  3210.461426  3198.01  ...          0.501504          0.256065\n",
       "132  3194.115723  3264.11  ...          0.509139          2.066910\n",
       "133  3219.742676  3281.15  ...          0.802318          0.522041\n",
       "134  3224.546875  3349.65  ...          0.149211          2.087683\n",
       "\n",
       "[5 rows x 6 columns]"
      ]
     },
     "execution_count": 72,
     "metadata": {
      "tags": []
     },
     "output_type": "execute_result"
    }
   ],
   "source": [
    "pred_df = pd.DataFrame(pred_result['Pred'], columns=['Pred'])\n",
    "pred_df['True'] = pred_result['True']\n",
    "pred_df = pred_df.tail(5)\n",
    "pred_df['His_True'] = pred_result['True'][-6:][:5]\n",
    "pred_df['His_Pred'] = pred_result['Pred'][-6:][:5]\n",
    "pred_df['Pred_change_rate'] = (pred_df['Pred'] - pred_df['His_Pred']).abs()/pred_df['His_Pred']*100\n",
    "pred_df['True_change_rate'] = (pred_df['True'] - pred_df['His_True']).abs()/pred_df['His_True']*100\n",
    "pred_df"
   ]
  },
  {
   "cell_type": "code",
   "execution_count": null,
   "metadata": {
    "id": "JraT0n_HRuKs"
   },
   "outputs": [],
   "source": [
    "def change_type_pred(row):\n",
    "    if row['Pred'] > row['His_Pred'] and row['Pred_change_rate'] > 1.5:\n",
    "        return 0\n",
    "    elif row['Pred'] < row['His_Pred'] and row['Pred_change_rate'] > 1.5:\n",
    "        return 2\n",
    "    else:\n",
    "        return 1\n",
    "\n",
    "def change_type_true(row):\n",
    "    if row['True'] > row['His_True'] and row['True_change_rate'] > 1.5:\n",
    "        return 0\n",
    "    elif row['True'] < row['His_True'] and row['True_change_rate'] > 1.5:\n",
    "        return 2\n",
    "    else:\n",
    "        return 1\n",
    "\n",
    "pred_df['Pred_change_type'] = pred_df.apply(lambda row : change_type_pred(row), axis=1)\n",
    "pred_df['True_change_type'] = pred_df.apply(lambda row : change_type_true(row), axis=1)"
   ]
  },
  {
   "cell_type": "code",
   "execution_count": null,
   "metadata": {
    "colab": {
     "base_uri": "https://localhost:8080/",
     "height": 226
    },
    "id": "D4hvJeXSSu19",
    "outputId": "cdaf38d8-c93b-4b60-e3f0-76ce95b01293"
   },
   "outputs": [
    {
     "data": {
      "text/html": [
       "<div>\n",
       "<style scoped>\n",
       "    .dataframe tbody tr th:only-of-type {\n",
       "        vertical-align: middle;\n",
       "    }\n",
       "\n",
       "    .dataframe tbody tr th {\n",
       "        vertical-align: top;\n",
       "    }\n",
       "\n",
       "    .dataframe thead th {\n",
       "        text-align: right;\n",
       "    }\n",
       "</style>\n",
       "<table border=\"1\" class=\"dataframe\">\n",
       "  <thead>\n",
       "    <tr style=\"text-align: right;\">\n",
       "      <th></th>\n",
       "      <th>Pred</th>\n",
       "      <th>True</th>\n",
       "      <th>His_True</th>\n",
       "      <th>His_Pred</th>\n",
       "      <th>Pred_change_rate</th>\n",
       "      <th>True_change_rate</th>\n",
       "      <th>Pred_change_type</th>\n",
       "      <th>True_change_type</th>\n",
       "    </tr>\n",
       "  </thead>\n",
       "  <tbody>\n",
       "    <tr>\n",
       "      <th>130</th>\n",
       "      <td>3194.441162</td>\n",
       "      <td>3206.22</td>\n",
       "      <td>3187.01</td>\n",
       "      <td>3209.249756</td>\n",
       "      <td>0.461435</td>\n",
       "      <td>0.602759</td>\n",
       "      <td>1</td>\n",
       "      <td>1</td>\n",
       "    </tr>\n",
       "    <tr>\n",
       "      <th>131</th>\n",
       "      <td>3210.461426</td>\n",
       "      <td>3198.01</td>\n",
       "      <td>3206.22</td>\n",
       "      <td>3194.441162</td>\n",
       "      <td>0.501504</td>\n",
       "      <td>0.256065</td>\n",
       "      <td>1</td>\n",
       "      <td>1</td>\n",
       "    </tr>\n",
       "    <tr>\n",
       "      <th>132</th>\n",
       "      <td>3194.115723</td>\n",
       "      <td>3264.11</td>\n",
       "      <td>3198.01</td>\n",
       "      <td>3210.461426</td>\n",
       "      <td>0.509139</td>\n",
       "      <td>2.066910</td>\n",
       "      <td>1</td>\n",
       "      <td>0</td>\n",
       "    </tr>\n",
       "    <tr>\n",
       "      <th>133</th>\n",
       "      <td>3219.742676</td>\n",
       "      <td>3281.15</td>\n",
       "      <td>3264.11</td>\n",
       "      <td>3194.115723</td>\n",
       "      <td>0.802318</td>\n",
       "      <td>0.522041</td>\n",
       "      <td>1</td>\n",
       "      <td>1</td>\n",
       "    </tr>\n",
       "    <tr>\n",
       "      <th>134</th>\n",
       "      <td>3224.546875</td>\n",
       "      <td>3349.65</td>\n",
       "      <td>3281.15</td>\n",
       "      <td>3219.742676</td>\n",
       "      <td>0.149211</td>\n",
       "      <td>2.087683</td>\n",
       "      <td>1</td>\n",
       "      <td>0</td>\n",
       "    </tr>\n",
       "  </tbody>\n",
       "</table>\n",
       "</div>"
      ],
      "text/plain": [
       "            Pred     True  ...  Pred_change_type  True_change_type\n",
       "130  3194.441162  3206.22  ...                 1                 1\n",
       "131  3210.461426  3198.01  ...                 1                 1\n",
       "132  3194.115723  3264.11  ...                 1                 0\n",
       "133  3219.742676  3281.15  ...                 1                 1\n",
       "134  3224.546875  3349.65  ...                 1                 0\n",
       "\n",
       "[5 rows x 8 columns]"
      ]
     },
     "execution_count": 74,
     "metadata": {
      "tags": []
     },
     "output_type": "execute_result"
    }
   ],
   "source": [
    "pred_df"
   ]
  },
  {
   "cell_type": "markdown",
   "metadata": {
    "id": "58CJLEpGD3Ll"
   },
   "source": [
    "# 7. Baseline Model"
   ]
  },
  {
   "cell_type": "code",
   "execution_count": null,
   "metadata": {
    "colab": {
     "base_uri": "https://localhost:8080/"
    },
    "id": "oPOrk-tylRNT",
    "outputId": "49b7c47b-a6b6-4b16-92e3-f7374df6dc0f"
   },
   "outputs": [
    {
     "name": "stdout",
     "output_type": "stream",
     "text": [
      "Model: \"sequential\"\n",
      "_________________________________________________________________\n",
      "Layer (type)                 Output Shape              Param #   \n",
      "=================================================================\n",
      "bidirectional_2 (Bidirection (None, 60, 120)           22680     \n",
      "_________________________________________________________________\n",
      "dropout_5 (Dropout)          (None, 60, 120)           0         \n",
      "_________________________________________________________________\n",
      "gru_6 (GRU)                  (None, 60)                32760     \n",
      "_________________________________________________________________\n",
      "dropout_6 (Dropout)          (None, 60)                0         \n",
      "_________________________________________________________________\n",
      "dense_2 (Dense)              (None, 25)                1525      \n",
      "_________________________________________________________________\n",
      "dense_3 (Dense)              (None, 1)                 26        \n",
      "=================================================================\n",
      "Total params: 56,991\n",
      "Trainable params: 56,991\n",
      "Non-trainable params: 0\n",
      "_________________________________________________________________\n",
      "CPU times: user 791 ms, sys: 20.1 ms, total: 811 ms\n",
      "Wall time: 801 ms\n"
     ]
    }
   ],
   "source": [
    "%%time\n",
    "# The LSTM architecture\n",
    "regressorBiLSTM = Sequential()\n",
    "# 1st layer with Dropout regularisation\n",
    "regressorBiLSTM.add(Bidirectional(GRU(units=60, return_sequences=True), input_shape=(X_train.shape[1],1)))\n",
    "regressorBiLSTM.add(Dropout(0.2))\n",
    "\n",
    "# 2nd LSTM layer\n",
    "regressorBiLSTM.add(GRU(units=60))\n",
    "regressorBiLSTM.add(Dropout(0.2))\n",
    "\n",
    "# Output layer\n",
    "regressorBiLSTM.add(Dense(25))\n",
    "regressorBiLSTM.add(Dense(units=1))\n",
    "\n",
    "# Compiling LSTM \n",
    "regressorBiLSTM.compile(optimizer='adam', loss='mean_squared_error')\n",
    "regressorBiLSTM.summary()"
   ]
  },
  {
   "cell_type": "code",
   "execution_count": null,
   "metadata": {
    "colab": {
     "base_uri": "https://localhost:8080/"
    },
    "id": "p1NctIOolenN",
    "outputId": "d42a7d3b-8382-433c-928d-e1878fdd9290"
   },
   "outputs": [
    {
     "name": "stderr",
     "output_type": "stream",
     "text": [
      "/usr/local/lib/python3.7/dist-packages/tensorflow/python/data/ops/dataset_ops.py:3704: UserWarning: Even though the `tf.config.experimental_run_functions_eagerly` option is set, this option does not apply to tf.data functions. To force eager execution of tf.data functions, please use `tf.data.experimental.enable.debug_mode()`.\n",
      "  \"Even though the `tf.config.experimental_run_functions_eagerly` \"\n"
     ]
    },
    {
     "name": "stdout",
     "output_type": "stream",
     "text": [
      "Epoch 1/100\n",
      "30/30 [==============================] - 2s 64ms/step - loss: 0.0156 - val_loss: 0.0048\n",
      "Epoch 2/100\n",
      "30/30 [==============================] - 2s 62ms/step - loss: 0.0011 - val_loss: 5.7856e-04\n",
      "Epoch 3/100\n",
      "30/30 [==============================] - 2s 61ms/step - loss: 6.1871e-04 - val_loss: 8.6259e-04\n",
      "Epoch 4/100\n",
      "30/30 [==============================] - 2s 61ms/step - loss: 5.3801e-04 - val_loss: 0.0069\n",
      "Epoch 5/100\n",
      "30/30 [==============================] - 2s 61ms/step - loss: 0.0014 - val_loss: 0.0019\n",
      "Epoch 6/100\n",
      "30/30 [==============================] - 2s 61ms/step - loss: 5.5528e-04 - val_loss: 8.3197e-04\n",
      "Epoch 7/100\n",
      "30/30 [==============================] - 2s 60ms/step - loss: 4.0631e-04 - val_loss: 7.7906e-04\n"
     ]
    },
    {
     "data": {
      "text/plain": [
       "<keras.callbacks.History at 0x7f46f074b7d0>"
      ]
     },
     "execution_count": 57,
     "metadata": {
      "tags": []
     },
     "output_type": "execute_result"
    }
   ],
   "source": [
    "logger_filename = '/content/drive/MyDrive/stock_prediction/AMZN/training_log_bilstm_model.csv'\n",
    "\n",
    "my_callback = [\n",
    "               EarlyStopping(patience=5,monitor='val_loss'),\n",
    "               CSVLogger(filename=logger_filename)\n",
    "\n",
    "]\n",
    "\n",
    "# training setting\n",
    "epochs = 100\n",
    "batch_size = 64\n",
    "\n",
    "# Fitting to the training set\n",
    "regressorBiLSTM.fit(trainset['X'], trainset['y'], epochs=epochs, batch_size=batch_size, callbacks=my_callback\n",
    "                              , validation_data=(valset['X'], valset['y']))"
   ]
  },
  {
   "cell_type": "code",
   "execution_count": null,
   "metadata": {
    "id": "sVdgcyXTOhQq"
   },
   "outputs": [],
   "source": [
    "regressorBiLSTM.save('/content/drive/MyDrive/stock_prediction/AMZN/stock_pred_bilstm_model.h5')"
   ]
  },
  {
   "cell_type": "markdown",
   "metadata": {
    "id": "GEYlrtR_lrpC"
   },
   "source": [
    "## Evaluation"
   ]
  },
  {
   "cell_type": "code",
   "execution_count": null,
   "metadata": {
    "colab": {
     "base_uri": "https://localhost:8080/",
     "height": 298
    },
    "id": "Ml4viY44lrpD",
    "outputId": "8c3a92ed-6dfd-46b3-80b6-0a333400b771"
   },
   "outputs": [
    {
     "name": "stderr",
     "output_type": "stream",
     "text": [
      "/usr/local/lib/python3.7/dist-packages/tensorflow/python/data/ops/dataset_ops.py:3704: UserWarning: Even though the `tf.config.experimental_run_functions_eagerly` option is set, this option does not apply to tf.data functions. To force eager execution of tf.data functions, please use `tf.data.experimental.enable.debug_mode()`.\n",
      "  \"Even though the `tf.config.experimental_run_functions_eagerly` \"\n",
      "/usr/local/lib/python3.7/dist-packages/tensorflow/python/data/ops/dataset_ops.py:3704: UserWarning: Even though the `tf.config.experimental_run_functions_eagerly` option is set, this option does not apply to tf.data functions. To force eager execution of tf.data functions, please use `tf.data.experimental.enable.debug_mode()`.\n",
      "  \"Even though the `tf.config.experimental_run_functions_eagerly` \"\n",
      "/usr/local/lib/python3.7/dist-packages/tensorflow/python/data/ops/dataset_ops.py:3704: UserWarning: Even though the `tf.config.experimental_run_functions_eagerly` option is set, this option does not apply to tf.data functions. To force eager execution of tf.data functions, please use `tf.data.experimental.enable.debug_mode()`.\n",
      "  \"Even though the `tf.config.experimental_run_functions_eagerly` \"\n"
     ]
    },
    {
     "data": {
      "text/plain": [
       "<matplotlib.legend.Legend at 0x7f46f07471d0>"
      ]
     },
     "execution_count": 59,
     "metadata": {
      "tags": []
     },
     "output_type": "execute_result"
    },
    {
     "data": {
      "image/png": "[encoded data removed]",
      "text/plain": [
       "<Figure size 864x144 with 1 Axes>"
      ]
     },
     "metadata": {
      "needs_background": "light",
      "tags": []
     },
     "output_type": "display_data"
    }
   ],
   "source": [
    "def calculate_mse(scaler, y_input, x_input):\n",
    "    y_pred = regressorBiLSTM.predict(x_input)\n",
    "    MSE = mean_squared_error(y_input, y_pred)\n",
    "\n",
    "    y_true = scaler.inverse_transform(y_input.reshape(-1,1))\n",
    "    y_pred = scaler.inverse_transform(y_pred)\n",
    "\n",
    "    real_mse = np.mean(np.square(y_true - y_pred))\n",
    "    scaled_mse = real_mse/(np.max(y_true) - np.min(y_true)) * 100\n",
    "\n",
    "    return MSE, scaled_mse, y_true, y_pred\n",
    "\n",
    "train_MSE, train_scaled_mse, train_y, train_y_pred = calculate_mse(scaler, trainset[\"y\"], trainset[\"X\"])\n",
    "val_MSE, val_scaled_mse, val_y, val_y_pred = calculate_mse(scaler, valset[\"y\"], valset[\"X\"])\n",
    "test_MSE, test_scaled_mse, test_y, test_y_pred = calculate_mse(scaler, testset[\"y\"], testset[\"X\"])\n",
    "\n",
    "y_true = np.vstack((test_y))\n",
    "y_pred = np.vstack((test_y_pred))\n",
    "\n",
    "\n",
    "mse = {}\n",
    "mse[\"train\"] = train_MSE\n",
    "mse[\"val\"] = val_MSE\n",
    "mse[\"test\"] = test_MSE\n",
    "\n",
    "scaled_mse = {}\n",
    "scaled_mse[\"train\"] = train_scaled_mse\n",
    "scaled_mse[\"val\"] = val_scaled_mse\n",
    "scaled_mse[\"test\"] = test_scaled_mse\n",
    "\n",
    "plt.figure(figsize=(12,2))\n",
    "plt.plot(y_true)\n",
    "plt.plot(y_pred)\n",
    "plt.legend(['y_true','y_pred'])"
   ]
  },
  {
   "cell_type": "code",
   "execution_count": null,
   "metadata": {
    "colab": {
     "base_uri": "https://localhost:8080/"
    },
    "id": "T_itD5jCvf9O",
    "outputId": "59c71b4b-2046-418b-9c78-6631b46f7ea5"
   },
   "outputs": [
    {
     "data": {
      "text/plain": [
       "{'test': 0.0004345111451245637,\n",
       " 'train': 5.926994556893453e-05,\n",
       " 'val': 0.000779061777585839}"
      ]
     },
     "execution_count": 60,
     "metadata": {
      "tags": []
     },
     "output_type": "execute_result"
    }
   ],
   "source": [
    "mse"
   ]
  },
  {
   "cell_type": "code",
   "execution_count": null,
   "metadata": {
    "colab": {
     "base_uri": "https://localhost:8080/"
    },
    "id": "Ss9b4cyNxovX",
    "outputId": "6792542a-de79-4457-c314-a6797e780893"
   },
   "outputs": [
    {
     "data": {
      "text/plain": [
       "{'test': 923.9593105289069,\n",
       " 'train': 35.986885738316836,\n",
       " 'val': 557.1100952672532}"
      ]
     },
     "execution_count": 61,
     "metadata": {
      "tags": []
     },
     "output_type": "execute_result"
    }
   ],
   "source": [
    "scaled_mse"
   ]
  },
  {
   "cell_type": "markdown",
   "metadata": {
    "id": "RHqzqa3pGzL7"
   },
   "source": [
    "# 8. Full-connected Network with TF-IDF\n",
    "## Headlines Input Preparation"
   ]
  },
  {
   "cell_type": "code",
   "execution_count": null,
   "metadata": {
    "colab": {
     "base_uri": "https://localhost:8080/",
     "height": 237
    },
    "id": "Jx7n9fChxovU",
    "outputId": "2e7d0e38-bdc9-43df-d8b7-d2050f5a69f5"
   },
   "outputs": [
    {
     "data": {
      "text/html": [
       "<div>\n",
       "<style scoped>\n",
       "    .dataframe tbody tr th:only-of-type {\n",
       "        vertical-align: middle;\n",
       "    }\n",
       "\n",
       "    .dataframe tbody tr th {\n",
       "        vertical-align: top;\n",
       "    }\n",
       "\n",
       "    .dataframe thead th {\n",
       "        text-align: right;\n",
       "    }\n",
       "</style>\n",
       "<table border=\"1\" class=\"dataframe\">\n",
       "  <thead>\n",
       "    <tr style=\"text-align: right;\">\n",
       "      <th></th>\n",
       "      <th>index</th>\n",
       "      <th>Close</th>\n",
       "      <th>Title</th>\n",
       "      <th>text_decont</th>\n",
       "      <th>text_no_punc</th>\n",
       "      <th>tk</th>\n",
       "      <th>tfidf</th>\n",
       "      <th>tfidf_new</th>\n",
       "    </tr>\n",
       "    <tr>\n",
       "      <th>Date</th>\n",
       "      <th></th>\n",
       "      <th></th>\n",
       "      <th></th>\n",
       "      <th></th>\n",
       "      <th></th>\n",
       "      <th></th>\n",
       "      <th></th>\n",
       "      <th></th>\n",
       "    </tr>\n",
       "  </thead>\n",
       "  <tbody>\n",
       "    <tr>\n",
       "      <th>2012-05-18</th>\n",
       "      <td>0</td>\n",
       "      <td>213.85</td>\n",
       "      <td></td>\n",
       "      <td></td>\n",
       "      <td></td>\n",
       "      <td></td>\n",
       "      <td></td>\n",
       "      <td>[0.0, 0.0, 0.0, 0.0, 0.0, 0.0, 0.0, 0.0, 0.0, ...</td>\n",
       "    </tr>\n",
       "    <tr>\n",
       "      <th>2012-05-21</th>\n",
       "      <td>1</td>\n",
       "      <td>218.11</td>\n",
       "      <td></td>\n",
       "      <td></td>\n",
       "      <td></td>\n",
       "      <td></td>\n",
       "      <td></td>\n",
       "      <td>[0.0, 0.0, 0.0, 0.0, 0.0, 0.0, 0.0, 0.0, 0.0, ...</td>\n",
       "    </tr>\n",
       "    <tr>\n",
       "      <th>2012-05-22</th>\n",
       "      <td>2</td>\n",
       "      <td>215.33</td>\n",
       "      <td></td>\n",
       "      <td></td>\n",
       "      <td></td>\n",
       "      <td></td>\n",
       "      <td></td>\n",
       "      <td>[0.0, 0.0, 0.0, 0.0, 0.0, 0.0, 0.0, 0.0, 0.0, ...</td>\n",
       "    </tr>\n",
       "    <tr>\n",
       "      <th>2012-05-23</th>\n",
       "      <td>3</td>\n",
       "      <td>217.28</td>\n",
       "      <td></td>\n",
       "      <td></td>\n",
       "      <td></td>\n",
       "      <td></td>\n",
       "      <td></td>\n",
       "      <td>[0.0, 0.0, 0.0, 0.0, 0.0, 0.0, 0.0, 0.0, 0.0, ...</td>\n",
       "    </tr>\n",
       "    <tr>\n",
       "      <th>2012-05-24</th>\n",
       "      <td>4</td>\n",
       "      <td>215.24</td>\n",
       "      <td></td>\n",
       "      <td></td>\n",
       "      <td></td>\n",
       "      <td></td>\n",
       "      <td></td>\n",
       "      <td>[0.0, 0.0, 0.0, 0.0, 0.0, 0.0, 0.0, 0.0, 0.0, ...</td>\n",
       "    </tr>\n",
       "  </tbody>\n",
       "</table>\n",
       "</div>"
      ],
      "text/plain": [
       "            index  ...                                          tfidf_new\n",
       "Date               ...                                                   \n",
       "2012-05-18      0  ...  [0.0, 0.0, 0.0, 0.0, 0.0, 0.0, 0.0, 0.0, 0.0, ...\n",
       "2012-05-21      1  ...  [0.0, 0.0, 0.0, 0.0, 0.0, 0.0, 0.0, 0.0, 0.0, ...\n",
       "2012-05-22      2  ...  [0.0, 0.0, 0.0, 0.0, 0.0, 0.0, 0.0, 0.0, 0.0, ...\n",
       "2012-05-23      3  ...  [0.0, 0.0, 0.0, 0.0, 0.0, 0.0, 0.0, 0.0, 0.0, ...\n",
       "2012-05-24      4  ...  [0.0, 0.0, 0.0, 0.0, 0.0, 0.0, 0.0, 0.0, 0.0, ...\n",
       "\n",
       "[5 rows x 8 columns]"
      ]
     },
     "execution_count": 62,
     "metadata": {
      "tags": []
     },
     "output_type": "execute_result"
    }
   ],
   "source": [
    "train_data.head()"
   ]
  },
  {
   "cell_type": "code",
   "execution_count": null,
   "metadata": {
    "id": "KEuKQ3zdxovV"
   },
   "outputs": [],
   "source": [
    "train_news = np.matrix(train_data.tfidf_new[n_lags:].tolist())\n",
    "#train_news = train_news.reshape(train_news.shape[0],1)\n",
    "\n",
    "val_news = np.matrix(val_data.tfidf_new[n_lags:].tolist())\n",
    "#val_news = val_news.reshape(val_news.shape[0],1)\n",
    "\n",
    "test_news = np.matrix(test_data.tfidf_new[n_lags:].tolist())\n",
    "#test_news = test_news.reshape(test_news.shape[0],1)"
   ]
  },
  {
   "cell_type": "code",
   "execution_count": null,
   "metadata": {
    "colab": {
     "base_uri": "https://localhost:8080/"
    },
    "id": "N5EdGGTHxovV",
    "outputId": "3fccbf2b-6da6-429a-b0b6-5bc318805565"
   },
   "outputs": [
    {
     "name": "stdout",
     "output_type": "stream",
     "text": [
      "News to train: (1857, 1984)\n",
      "\n",
      "News to test: (135, 1984)\n",
      "\n",
      "News to val: (108, 1984)\n"
     ]
    }
   ],
   "source": [
    "print('News to train:',train_news.shape)\n",
    "print('\\nNews to test:',test_news.shape)\n",
    "print('\\nNews to val:',val_news.shape)"
   ]
  },
  {
   "cell_type": "markdown",
   "metadata": {
    "id": "-nI6xnTVGwcf"
   },
   "source": [
    "## Model"
   ]
  },
  {
   "cell_type": "code",
   "execution_count": null,
   "metadata": {
    "colab": {
     "base_uri": "https://localhost:8080/"
    },
    "id": "ooxaSGCBGwcf",
    "outputId": "35e67315-8226-4845-8f07-0bc7f3d0a911"
   },
   "outputs": [
    {
     "name": "stdout",
     "output_type": "stream",
     "text": [
      "CPU times: user 815 ms, sys: 26.1 ms, total: 841 ms\n",
      "Wall time: 834 ms\n"
     ]
    }
   ],
   "source": [
    "%%time\n",
    "# LSTM architecture\n",
    "# FIRST BRANCH operates on the first input\n",
    "# 1st layer with Dropout regularisation\n",
    "lstm_input = Input(shape=(X_train.shape[1],1))\n",
    "x = Bidirectional(GRU(units=60, return_sequences=True))(lstm_input)\n",
    "x = Dropout(0.2)(x)\n",
    "\n",
    "# 2nd LSTM layer\n",
    "x = GRU(units=60)(x)\n",
    "x = Dropout(0.2)(x)\n",
    "\n",
    "lstm_branch = Model(inputs=lstm_input, outputs=x)\n",
    "\n",
    "# SECOND BRANCH operates on the first input\n",
    "dense_input = Input(shape=(len(tfvec.get_feature_names()),))\n",
    "y = Dense(50)(dense_input)\n",
    "y = Dropout(0.2)(y)\n",
    "technical_indicators_branch = Model(inputs=dense_input, outputs=y)\n",
    "\n",
    "# combine the output of the two branches\n",
    "combined = concatenate([lstm_branch.output, technical_indicators_branch.output], name='concatenate')\n",
    "# Output layer\n",
    "z = Dense(25)(combined)\n",
    "z = Dense(units=1)(z)\n",
    "multi_model = Model(inputs=[lstm_branch.input, technical_indicators_branch.input], outputs=z)\n",
    "\n",
    "# Compiling\n",
    "multi_model.compile(optimizer='adam', loss='mean_squared_error')"
   ]
  },
  {
   "cell_type": "code",
   "execution_count": null,
   "metadata": {
    "colab": {
     "base_uri": "https://localhost:8080/",
     "height": 865
    },
    "id": "8wfNuQGbGwcg",
    "outputId": "5e1b5568-95af-4e6d-840b-471b3d3d7206"
   },
   "outputs": [
    {
     "data": {
      "image/png": "[encoded data removed]",
      "text/plain": [
       "<IPython.core.display.Image object>"
      ]
     },
     "execution_count": 66,
     "metadata": {
      "tags": []
     },
     "output_type": "execute_result"
    }
   ],
   "source": [
    "from tensorflow.keras.utils import plot_model\n",
    "plot_model(multi_model, show_shapes=True)"
   ]
  },
  {
   "cell_type": "code",
   "execution_count": null,
   "metadata": {
    "colab": {
     "base_uri": "https://localhost:8080/"
    },
    "id": "ijR7N11_Gwcj",
    "outputId": "704a7fea-2792-4f61-98ab-ab9d384136bd"
   },
   "outputs": [
    {
     "name": "stderr",
     "output_type": "stream",
     "text": [
      "/usr/local/lib/python3.7/dist-packages/tensorflow/python/data/ops/dataset_ops.py:3704: UserWarning: Even though the `tf.config.experimental_run_functions_eagerly` option is set, this option does not apply to tf.data functions. To force eager execution of tf.data functions, please use `tf.data.experimental.enable.debug_mode()`.\n",
      "  \"Even though the `tf.config.experimental_run_functions_eagerly` \"\n"
     ]
    },
    {
     "name": "stdout",
     "output_type": "stream",
     "text": [
      "Epoch 1/100\n",
      "30/30 [==============================] - 2s 65ms/step - loss: 0.0278 - val_loss: 9.2964e-04\n",
      "Epoch 2/100\n",
      "30/30 [==============================] - 2s 64ms/step - loss: 0.0015 - val_loss: 0.0011\n",
      "Epoch 3/100\n",
      "30/30 [==============================] - 2s 65ms/step - loss: 7.4147e-04 - val_loss: 0.0010\n",
      "Epoch 4/100\n",
      "30/30 [==============================] - 2s 66ms/step - loss: 5.8898e-04 - val_loss: 6.5699e-04\n",
      "Epoch 5/100\n",
      "30/30 [==============================] - 2s 64ms/step - loss: 6.3830e-04 - val_loss: 0.0015\n",
      "Epoch 6/100\n",
      "30/30 [==============================] - 2s 65ms/step - loss: 4.6101e-04 - val_loss: 0.0013\n",
      "Epoch 7/100\n",
      "30/30 [==============================] - 2s 65ms/step - loss: 4.3039e-04 - val_loss: 5.8288e-04\n",
      "Epoch 8/100\n",
      "30/30 [==============================] - 2s 64ms/step - loss: 4.2586e-04 - val_loss: 6.9912e-04\n",
      "Epoch 9/100\n",
      "30/30 [==============================] - 2s 66ms/step - loss: 3.8280e-04 - val_loss: 0.0013\n",
      "Epoch 10/100\n",
      "30/30 [==============================] - 2s 65ms/step - loss: 3.8289e-04 - val_loss: 7.5628e-04\n",
      "Epoch 11/100\n",
      "30/30 [==============================] - 2s 64ms/step - loss: 3.9094e-04 - val_loss: 0.0011\n",
      "Epoch 12/100\n",
      "30/30 [==============================] - 2s 64ms/step - loss: 3.2100e-04 - val_loss: 4.8218e-04\n",
      "Epoch 13/100\n",
      "30/30 [==============================] - 2s 64ms/step - loss: 3.3734e-04 - val_loss: 5.0593e-04\n",
      "Epoch 14/100\n",
      "30/30 [==============================] - 2s 64ms/step - loss: 3.4614e-04 - val_loss: 0.0010\n",
      "Epoch 15/100\n",
      "30/30 [==============================] - 2s 65ms/step - loss: 3.1575e-04 - val_loss: 0.0011\n",
      "Epoch 16/100\n",
      "30/30 [==============================] - 2s 64ms/step - loss: 3.2180e-04 - val_loss: 0.0020\n",
      "Epoch 17/100\n",
      "30/30 [==============================] - 2s 64ms/step - loss: 3.1316e-04 - val_loss: 0.0011\n"
     ]
    },
    {
     "data": {
      "text/plain": [
       "<keras.callbacks.History at 0x7f46b0f67790>"
      ]
     },
     "execution_count": 67,
     "metadata": {
      "tags": []
     },
     "output_type": "execute_result"
    }
   ],
   "source": [
    "from keras.callbacks import CSVLogger\n",
    "logger_filename = '/content/drive/MyDrive/stock_prediction/AMZN/training_log_fc_model.csv'\n",
    "\n",
    "my_callback = [\n",
    "               EarlyStopping(patience=5,monitor='val_loss'),\n",
    "               CSVLogger(filename=logger_filename)\n",
    "\n",
    "]\n",
    "\n",
    "# training setting\n",
    "epochs = 100\n",
    "batch_size = 64\n",
    "\n",
    "# Fitting to the training set\n",
    "multi_model.fit([trainset['X'], train_news], trainset['y'], epochs=epochs, batch_size=batch_size, callbacks=my_callback\n",
    "                              , validation_data=([valset['X'], val_news], valset['y']))"
   ]
  },
  {
   "cell_type": "code",
   "execution_count": null,
   "metadata": {
    "id": "YEiTP6u-Gwcj"
   },
   "outputs": [],
   "source": [
    "multi_model.save('/content/drive/MyDrive/stock_prediction/AMZN/stock_pred_fc_model.h5')"
   ]
  },
  {
   "cell_type": "markdown",
   "metadata": {
    "id": "P2LpA60MGwck"
   },
   "source": [
    "## Evaluation"
   ]
  },
  {
   "cell_type": "code",
   "execution_count": null,
   "metadata": {
    "colab": {
     "base_uri": "https://localhost:8080/",
     "height": 298
    },
    "id": "QpUsQZYBGwck",
    "outputId": "53a65268-d5f2-4bf0-e61b-748d4b901c5f"
   },
   "outputs": [
    {
     "name": "stderr",
     "output_type": "stream",
     "text": [
      "/usr/local/lib/python3.7/dist-packages/tensorflow/python/data/ops/dataset_ops.py:3704: UserWarning: Even though the `tf.config.experimental_run_functions_eagerly` option is set, this option does not apply to tf.data functions. To force eager execution of tf.data functions, please use `tf.data.experimental.enable.debug_mode()`.\n",
      "  \"Even though the `tf.config.experimental_run_functions_eagerly` \"\n",
      "/usr/local/lib/python3.7/dist-packages/tensorflow/python/data/ops/dataset_ops.py:3704: UserWarning: Even though the `tf.config.experimental_run_functions_eagerly` option is set, this option does not apply to tf.data functions. To force eager execution of tf.data functions, please use `tf.data.experimental.enable.debug_mode()`.\n",
      "  \"Even though the `tf.config.experimental_run_functions_eagerly` \"\n",
      "/usr/local/lib/python3.7/dist-packages/tensorflow/python/data/ops/dataset_ops.py:3704: UserWarning: Even though the `tf.config.experimental_run_functions_eagerly` option is set, this option does not apply to tf.data functions. To force eager execution of tf.data functions, please use `tf.data.experimental.enable.debug_mode()`.\n",
      "  \"Even though the `tf.config.experimental_run_functions_eagerly` \"\n"
     ]
    },
    {
     "data": {
      "text/plain": [
       "<matplotlib.legend.Legend at 0x7f46f085c3d0>"
      ]
     },
     "execution_count": 69,
     "metadata": {
      "tags": []
     },
     "output_type": "execute_result"
    },
    {
     "data": {
      "image/png": "[encoded data removed]",
      "text/plain": [
       "<Figure size 864x144 with 1 Axes>"
      ]
     },
     "metadata": {
      "needs_background": "light",
      "tags": []
     },
     "output_type": "display_data"
    }
   ],
   "source": [
    "def calculate_mse_multi(scaler, y_input, x_input, tfidf):\n",
    "    y_pred = multi_model.predict([x_input, tfidf])\n",
    "    MSE = mean_squared_error(y_input, y_pred)\n",
    "\n",
    "    y_true = scaler.inverse_transform(y_input.reshape(-1,1))\n",
    "    y_pred = scaler.inverse_transform(y_pred)\n",
    "\n",
    "    real_mse = np.mean(np.square(y_true - y_pred))\n",
    "    scaled_mse = real_mse/(np.max(y_true) - np.min(y_true)) * 100\n",
    "\n",
    "    return MSE, scaled_mse, y_true, y_pred\n",
    "\n",
    "train_MSE, train_scaled_mse, train_y, train_y_pred = calculate_mse_multi(scaler, trainset[\"y\"], trainset[\"X\"], train_news)\n",
    "val_MSE, val_scaled_mse, val_y, val_y_pred = calculate_mse_multi(scaler, valset[\"y\"], valset[\"X\"], val_news)\n",
    "test_MSE, test_scaled_mse, test_y, test_y_pred = calculate_mse_multi(scaler, testset[\"y\"], testset[\"X\"], test_news)\n",
    "\n",
    "y_true = np.vstack((test_y))\n",
    "y_pred = np.vstack((test_y_pred))\n",
    "\n",
    "\n",
    "mse = {}\n",
    "mse[\"train\"] = train_MSE\n",
    "mse[\"val\"] = val_MSE\n",
    "mse[\"test\"] = test_MSE\n",
    "\n",
    "scaled_mse = {}\n",
    "scaled_mse[\"train\"] = train_scaled_mse\n",
    "scaled_mse[\"val\"] = val_scaled_mse\n",
    "scaled_mse[\"test\"] = test_scaled_mse\n",
    "\n",
    "plt.figure(figsize=(12,2))\n",
    "plt.plot(y_true)\n",
    "plt.plot(y_pred)\n",
    "plt.legend(['y_true','y_pred'])"
   ]
  },
  {
   "cell_type": "code",
   "execution_count": null,
   "metadata": {
    "colab": {
     "base_uri": "https://localhost:8080/"
    },
    "id": "QSp_qN6hGwcl",
    "outputId": "cf22e715-5cea-4f66-81ce-25842032f04c"
   },
   "outputs": [
    {
     "data": {
      "text/plain": [
       "{'test': 0.0006564028304237173,\n",
       " 'train': 5.779881614138646e-05,\n",
       " 'val': 0.0010504938923817423}"
      ]
     },
     "execution_count": 70,
     "metadata": {
      "tags": []
     },
     "output_type": "execute_result"
    }
   ],
   "source": [
    "mse"
   ]
  },
  {
   "cell_type": "code",
   "execution_count": null,
   "metadata": {
    "colab": {
     "base_uri": "https://localhost:8080/"
    },
    "id": "aFGKvS17Gwcl",
    "outputId": "c6e7c6ab-dbc8-4280-c790-8eb57ee4bb2d"
   },
   "outputs": [
    {
     "data": {
      "text/plain": [
       "{'test': 1395.7977564783412,\n",
       " 'train': 35.093657250479524,\n",
       " 'val': 751.2122072549504}"
      ]
     },
     "execution_count": 71,
     "metadata": {
      "tags": []
     },
     "output_type": "execute_result"
    }
   ],
   "source": [
    "scaled_mse"
   ]
  }
 ],
 "metadata": {
  "accelerator": "GPU",
  "colab": {
   "collapsed_sections": [],
   "name": "AMZN_predict_stocks.ipynb",
   "provenance": []
  },
  "kernelspec": {
   "display_name": "Python 3",
   "language": "python",
   "name": "python3"
  },
  "language_info": {
   "codemirror_mode": {
    "name": "ipython",
    "version": 3
   },
   "file_extension": ".py",
   "mimetype": "text/x-python",
   "name": "python",
   "nbconvert_exporter": "python",
   "pygments_lexer": "ipython3",
   "version": "3.8.3"
  },
  "toc": {
   "base_numbering": 1,
   "nav_menu": {},
   "number_sections": false,
   "sideBar": true,
   "skip_h1_title": false,
   "title_cell": "Table of Contents",
   "title_sidebar": "Contents",
   "toc_cell": false,
   "toc_position": {},
   "toc_section_display": true,
   "toc_window_display": true
  }
 },
 "nbformat": 4,
 "nbformat_minor": 1
}
